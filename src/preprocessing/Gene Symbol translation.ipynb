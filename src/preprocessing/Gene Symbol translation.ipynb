{
 "cells": [
  {
   "cell_type": "code",
   "execution_count": 1,
   "id": "7739ca85",
   "metadata": {
    "pycharm": {
     "name": "#%%\n"
    }
   },
   "outputs": [
    {
     "name": "stderr",
     "output_type": "stream",
     "text": [
      "Caricamento del pacchetto richiesto: Biobase\n",
      "\n",
      "Caricamento del pacchetto richiesto: BiocGenerics\n",
      "\n",
      "\n",
      "Caricamento pacchetto: ‘BiocGenerics’\n",
      "\n",
      "\n",
      "I seguenti oggetti sono mascherati da ‘package:stats’:\n",
      "\n",
      "    IQR, mad, sd, var, xtabs\n",
      "\n",
      "\n",
      "I seguenti oggetti sono mascherati da ‘package:base’:\n",
      "\n",
      "    anyDuplicated, append, as.data.frame, basename, cbind, colnames,\n",
      "    dirname, do.call, duplicated, eval, evalq, Filter, Find, get, grep,\n",
      "    grepl, intersect, is.unsorted, lapply, Map, mapply, match, mget,\n",
      "    order, paste, pmax, pmax.int, pmin, pmin.int, Position, rank,\n",
      "    rbind, Reduce, rownames, sapply, setdiff, sort, table, tapply,\n",
      "    union, unique, unsplit, which.max, which.min\n",
      "\n",
      "\n",
      "Welcome to Bioconductor\n",
      "\n",
      "    Vignettes contain introductory material; view with\n",
      "    'browseVignettes()'. To cite Bioconductor, see\n",
      "    'citation(\"Biobase\")', and for packages 'citation(\"pkgname\")'.\n",
      "\n",
      "\n",
      "Setting options('download.file.method.GEOquery'='auto')\n",
      "\n",
      "Setting options('GEOquery.inmemory.gpl'=FALSE)\n",
      "\n",
      "\n",
      "Caricamento pacchetto: ‘limma’\n",
      "\n",
      "\n",
      "Il seguente oggetto è mascherato da ‘package:BiocGenerics’:\n",
      "\n",
      "    plotMA\n",
      "\n",
      "\n",
      "Caricamento del pacchetto richiesto: stats4\n",
      "\n",
      "Caricamento del pacchetto richiesto: IRanges\n",
      "\n",
      "Caricamento del pacchetto richiesto: S4Vectors\n",
      "\n",
      "\n",
      "Caricamento pacchetto: ‘S4Vectors’\n",
      "\n",
      "\n",
      "I seguenti oggetti sono mascherati da ‘package:base’:\n",
      "\n",
      "    expand.grid, I, unname\n",
      "\n",
      "\n"
     ]
    }
   ],
   "source": [
    "library(GEOquery)\n",
    "library(limma)\n",
    "library(AnnotationDbi)\n",
    "library(stringr)"
   ]
  },
  {
   "cell_type": "code",
   "execution_count": 2,
   "id": "3ae7bc61",
   "metadata": {
    "pycharm": {
     "name": "#%%\n"
    }
   },
   "outputs": [],
   "source": [
    "dataPath = \"./Data/\""
   ]
  },
  {
   "cell_type": "code",
   "execution_count": 3,
   "id": "e2aea382",
   "metadata": {
    "pycharm": {
     "name": "#%%\n"
    }
   },
   "outputs": [],
   "source": [
    "# Checklist:\n",
    "#  - Colonne senza nome\n",
    "#  - Colonne con valori nulli\n",
    "#  - Colonne con doppio gene (tipicamente separate da ///)\n",
    "#  - Colonne in minuscolo da portare in maiuscolo\n",
    "#  - Traduzione nomi colonne"
   ]
  },
  {
   "cell_type": "markdown",
   "id": "ee7648e9",
   "metadata": {
    "pycharm": {
     "name": "#%% md\n"
    }
   },
   "source": [
    "# A1A"
   ]
  },
  {
   "cell_type": "code",
   "execution_count": 74,
   "id": "2271de3f",
   "metadata": {
    "pycharm": {
     "name": "#%%\n"
    }
   },
   "outputs": [],
   "source": [
    "csv_name = 'A1A_deficiency_GSE109516_bal.csv'"
   ]
  },
  {
   "cell_type": "code",
   "execution_count": 75,
   "id": "34d7299b",
   "metadata": {
    "pycharm": {
     "name": "#%%\n"
    }
   },
   "outputs": [],
   "source": [
    "df <- read.csv(file=paste(dataPath, csv_name, sep=\"\"), header=TRUE)"
   ]
  },
  {
   "cell_type": "code",
   "execution_count": 76,
   "id": "45814800",
   "metadata": {
    "scrolled": true,
    "pycharm": {
     "name": "#%%\n"
    }
   },
   "outputs": [
    {
     "data": {
      "text/html": [
       "<table class=\"dataframe\">\n",
       "<caption>A data.frame: 6 × 25276</caption>\n",
       "<thead>\n",
       "\t<tr><th></th><th scope=col>FAM138F</th><th scope=col>OR4F5</th><th scope=col>OR4F3</th><th scope=col>LOC729737</th><th scope=col>DDX11L1</th><th scope=col>WASH7P</th><th scope=col>LOC100132062</th><th scope=col>LOC100133331</th><th scope=col>OR4F3.1</th><th scope=col>LOC100133331.1</th><th scope=col>⋯</th><th scope=col>DUX4L2.3</th><th scope=col>DUX2.14</th><th scope=col>DUX4.10</th><th scope=col>DUX4L</th><th scope=col>DUX4.11</th><th scope=col>DUX4L5.2</th><th scope=col>DUX2.15</th><th scope=col>DUX4.12</th><th scope=col>DUX4L2.4</th><th scope=col>DUX2.16</th></tr>\n",
       "\t<tr><th></th><th scope=col>&lt;dbl&gt;</th><th scope=col>&lt;dbl&gt;</th><th scope=col>&lt;dbl&gt;</th><th scope=col>&lt;dbl&gt;</th><th scope=col>&lt;dbl&gt;</th><th scope=col>&lt;dbl&gt;</th><th scope=col>&lt;dbl&gt;</th><th scope=col>&lt;dbl&gt;</th><th scope=col>&lt;dbl&gt;</th><th scope=col>&lt;dbl&gt;</th><th scope=col>⋯</th><th scope=col>&lt;dbl&gt;</th><th scope=col>&lt;dbl&gt;</th><th scope=col>&lt;dbl&gt;</th><th scope=col>&lt;dbl&gt;</th><th scope=col>&lt;dbl&gt;</th><th scope=col>&lt;dbl&gt;</th><th scope=col>&lt;dbl&gt;</th><th scope=col>&lt;dbl&gt;</th><th scope=col>&lt;dbl&gt;</th><th scope=col>&lt;dbl&gt;</th></tr>\n",
       "</thead>\n",
       "<tbody>\n",
       "\t<tr><th scope=row>X02S015.02B9055_006</th><td>0</td><td>0</td><td>0</td><td>1.202460</td><td>0.0000000</td><td>14.33000</td><td>0.000341173</td><td>0.926014</td><td>0</td><td>7.667140</td><td>⋯</td><td>0</td><td>0</td><td>0</td><td>0</td><td>0</td><td>0</td><td>0</td><td>0</td><td>0</td><td>0</td></tr>\n",
       "\t<tr><th scope=row>X02S028.02B9271_001</th><td>0</td><td>0</td><td>0</td><td>0.587269</td><td>0.0587284</td><td> 4.23908</td><td>0.000121072</td><td>0.369643</td><td>0</td><td>0.648837</td><td>⋯</td><td>0</td><td>0</td><td>0</td><td>0</td><td>0</td><td>0</td><td>0</td><td>0</td><td>0</td><td>0</td></tr>\n",
       "\t<tr><th scope=row>X03S009.03B9062_012</th><td>0</td><td>0</td><td>0</td><td>0.336415</td><td>0.0000000</td><td> 4.10042</td><td>0.000159783</td><td>0.199500</td><td>0</td><td>0.217815</td><td>⋯</td><td>0</td><td>0</td><td>0</td><td>0</td><td>0</td><td>0</td><td>0</td><td>0</td><td>0</td><td>0</td></tr>\n",
       "\t<tr><th scope=row>X03S039.03B9206_009</th><td>0</td><td>0</td><td>0</td><td>0.761621</td><td>0.4863730</td><td> 2.87126</td><td>0.000103373</td><td>0.227027</td><td>0</td><td>0.400471</td><td>⋯</td><td>0</td><td>0</td><td>0</td><td>0</td><td>0</td><td>0</td><td>0</td><td>0</td><td>0</td><td>0</td></tr>\n",
       "\t<tr><th scope=row>X06S017.06B9129_013</th><td>0</td><td>0</td><td>0</td><td>1.319410</td><td>0.0891071</td><td> 4.70020</td><td>0.000111671</td><td>0.228535</td><td>0</td><td>0.400137</td><td>⋯</td><td>0</td><td>0</td><td>0</td><td>0</td><td>0</td><td>0</td><td>0</td><td>0</td><td>0</td><td>0</td></tr>\n",
       "\t<tr><th scope=row>X06S039.06B9229_001</th><td>0</td><td>0</td><td>0</td><td>0.989486</td><td>0.0000000</td><td> 6.13913</td><td>0.000133185</td><td>0.564246</td><td>0</td><td>1.083000</td><td>⋯</td><td>0</td><td>0</td><td>0</td><td>0</td><td>0</td><td>0</td><td>0</td><td>0</td><td>0</td><td>0</td></tr>\n",
       "</tbody>\n",
       "</table>\n"
      ],
      "text/latex": [
       "A data.frame: 6 × 25276\n",
       "\\begin{tabular}{r|lllllllllllllllllllll}\n",
       "  & FAM138F & OR4F5 & OR4F3 & LOC729737 & DDX11L1 & WASH7P & LOC100132062 & LOC100133331 & OR4F3.1 & LOC100133331.1 & ⋯ & DUX4L2.3 & DUX2.14 & DUX4.10 & DUX4L & DUX4.11 & DUX4L5.2 & DUX2.15 & DUX4.12 & DUX4L2.4 & DUX2.16\\\\\n",
       "  & <dbl> & <dbl> & <dbl> & <dbl> & <dbl> & <dbl> & <dbl> & <dbl> & <dbl> & <dbl> & ⋯ & <dbl> & <dbl> & <dbl> & <dbl> & <dbl> & <dbl> & <dbl> & <dbl> & <dbl> & <dbl>\\\\\n",
       "\\hline\n",
       "\tX02S015.02B9055\\_006 & 0 & 0 & 0 & 1.202460 & 0.0000000 & 14.33000 & 0.000341173 & 0.926014 & 0 & 7.667140 & ⋯ & 0 & 0 & 0 & 0 & 0 & 0 & 0 & 0 & 0 & 0\\\\\n",
       "\tX02S028.02B9271\\_001 & 0 & 0 & 0 & 0.587269 & 0.0587284 &  4.23908 & 0.000121072 & 0.369643 & 0 & 0.648837 & ⋯ & 0 & 0 & 0 & 0 & 0 & 0 & 0 & 0 & 0 & 0\\\\\n",
       "\tX03S009.03B9062\\_012 & 0 & 0 & 0 & 0.336415 & 0.0000000 &  4.10042 & 0.000159783 & 0.199500 & 0 & 0.217815 & ⋯ & 0 & 0 & 0 & 0 & 0 & 0 & 0 & 0 & 0 & 0\\\\\n",
       "\tX03S039.03B9206\\_009 & 0 & 0 & 0 & 0.761621 & 0.4863730 &  2.87126 & 0.000103373 & 0.227027 & 0 & 0.400471 & ⋯ & 0 & 0 & 0 & 0 & 0 & 0 & 0 & 0 & 0 & 0\\\\\n",
       "\tX06S017.06B9129\\_013 & 0 & 0 & 0 & 1.319410 & 0.0891071 &  4.70020 & 0.000111671 & 0.228535 & 0 & 0.400137 & ⋯ & 0 & 0 & 0 & 0 & 0 & 0 & 0 & 0 & 0 & 0\\\\\n",
       "\tX06S039.06B9229\\_001 & 0 & 0 & 0 & 0.989486 & 0.0000000 &  6.13913 & 0.000133185 & 0.564246 & 0 & 1.083000 & ⋯ & 0 & 0 & 0 & 0 & 0 & 0 & 0 & 0 & 0 & 0\\\\\n",
       "\\end{tabular}\n"
      ],
      "text/markdown": [
       "\n",
       "A data.frame: 6 × 25276\n",
       "\n",
       "| <!--/--> | FAM138F &lt;dbl&gt; | OR4F5 &lt;dbl&gt; | OR4F3 &lt;dbl&gt; | LOC729737 &lt;dbl&gt; | DDX11L1 &lt;dbl&gt; | WASH7P &lt;dbl&gt; | LOC100132062 &lt;dbl&gt; | LOC100133331 &lt;dbl&gt; | OR4F3.1 &lt;dbl&gt; | LOC100133331.1 &lt;dbl&gt; | ⋯ ⋯ | DUX4L2.3 &lt;dbl&gt; | DUX2.14 &lt;dbl&gt; | DUX4.10 &lt;dbl&gt; | DUX4L &lt;dbl&gt; | DUX4.11 &lt;dbl&gt; | DUX4L5.2 &lt;dbl&gt; | DUX2.15 &lt;dbl&gt; | DUX4.12 &lt;dbl&gt; | DUX4L2.4 &lt;dbl&gt; | DUX2.16 &lt;dbl&gt; |\n",
       "|---|---|---|---|---|---|---|---|---|---|---|---|---|---|---|---|---|---|---|---|---|---|\n",
       "| X02S015.02B9055_006 | 0 | 0 | 0 | 1.202460 | 0.0000000 | 14.33000 | 0.000341173 | 0.926014 | 0 | 7.667140 | ⋯ | 0 | 0 | 0 | 0 | 0 | 0 | 0 | 0 | 0 | 0 |\n",
       "| X02S028.02B9271_001 | 0 | 0 | 0 | 0.587269 | 0.0587284 |  4.23908 | 0.000121072 | 0.369643 | 0 | 0.648837 | ⋯ | 0 | 0 | 0 | 0 | 0 | 0 | 0 | 0 | 0 | 0 |\n",
       "| X03S009.03B9062_012 | 0 | 0 | 0 | 0.336415 | 0.0000000 |  4.10042 | 0.000159783 | 0.199500 | 0 | 0.217815 | ⋯ | 0 | 0 | 0 | 0 | 0 | 0 | 0 | 0 | 0 | 0 |\n",
       "| X03S039.03B9206_009 | 0 | 0 | 0 | 0.761621 | 0.4863730 |  2.87126 | 0.000103373 | 0.227027 | 0 | 0.400471 | ⋯ | 0 | 0 | 0 | 0 | 0 | 0 | 0 | 0 | 0 | 0 |\n",
       "| X06S017.06B9129_013 | 0 | 0 | 0 | 1.319410 | 0.0891071 |  4.70020 | 0.000111671 | 0.228535 | 0 | 0.400137 | ⋯ | 0 | 0 | 0 | 0 | 0 | 0 | 0 | 0 | 0 | 0 |\n",
       "| X06S039.06B9229_001 | 0 | 0 | 0 | 0.989486 | 0.0000000 |  6.13913 | 0.000133185 | 0.564246 | 0 | 1.083000 | ⋯ | 0 | 0 | 0 | 0 | 0 | 0 | 0 | 0 | 0 | 0 |\n",
       "\n"
      ],
      "text/plain": [
       "                    FAM138F OR4F5 OR4F3 LOC729737 DDX11L1   WASH7P  \n",
       "X02S015.02B9055_006 0       0     0     1.202460  0.0000000 14.33000\n",
       "X02S028.02B9271_001 0       0     0     0.587269  0.0587284  4.23908\n",
       "X03S009.03B9062_012 0       0     0     0.336415  0.0000000  4.10042\n",
       "X03S039.03B9206_009 0       0     0     0.761621  0.4863730  2.87126\n",
       "X06S017.06B9129_013 0       0     0     1.319410  0.0891071  4.70020\n",
       "X06S039.06B9229_001 0       0     0     0.989486  0.0000000  6.13913\n",
       "                    LOC100132062 LOC100133331 OR4F3.1 LOC100133331.1 ⋯ DUX4L2.3\n",
       "X02S015.02B9055_006 0.000341173  0.926014     0       7.667140       ⋯ 0       \n",
       "X02S028.02B9271_001 0.000121072  0.369643     0       0.648837       ⋯ 0       \n",
       "X03S009.03B9062_012 0.000159783  0.199500     0       0.217815       ⋯ 0       \n",
       "X03S039.03B9206_009 0.000103373  0.227027     0       0.400471       ⋯ 0       \n",
       "X06S017.06B9129_013 0.000111671  0.228535     0       0.400137       ⋯ 0       \n",
       "X06S039.06B9229_001 0.000133185  0.564246     0       1.083000       ⋯ 0       \n",
       "                    DUX2.14 DUX4.10 DUX4L DUX4.11 DUX4L5.2 DUX2.15 DUX4.12\n",
       "X02S015.02B9055_006 0       0       0     0       0        0       0      \n",
       "X02S028.02B9271_001 0       0       0     0       0        0       0      \n",
       "X03S009.03B9062_012 0       0       0     0       0        0       0      \n",
       "X03S039.03B9206_009 0       0       0     0       0        0       0      \n",
       "X06S017.06B9129_013 0       0       0     0       0        0       0      \n",
       "X06S039.06B9229_001 0       0       0     0       0        0       0      \n",
       "                    DUX4L2.4 DUX2.16\n",
       "X02S015.02B9055_006 0        0      \n",
       "X02S028.02B9271_001 0        0      \n",
       "X03S009.03B9062_012 0        0      \n",
       "X03S039.03B9206_009 0        0      \n",
       "X06S017.06B9129_013 0        0      \n",
       "X06S039.06B9229_001 0        0      "
      ]
     },
     "metadata": {},
     "output_type": "display_data"
    }
   ],
   "source": [
    "head(df)"
   ]
  },
  {
   "cell_type": "code",
   "execution_count": 77,
   "id": "b7dea56d",
   "metadata": {
    "pycharm": {
     "name": "#%%\n"
    }
   },
   "outputs": [],
   "source": [
    "# Remove NA\n",
    "df <- df[, colSums(is.na(df)) == 0]\n",
    "# Remove columns with all 0s\n",
    "df <- df[, colSums(df) > 0]\n",
    "# Remove columns without gene symbol\n",
    "df <- df[,nzchar(colnames(df))]\n",
    "# Remove double names genes (GENE1 /// GENE2)\n",
    "colnames(df) <- gsub(\" ///.*\", \"\", colnames(df))\n",
    "# Make all columns uppercase\n",
    "colnames(df) <- toupper(colnames(df))"
   ]
  },
  {
   "cell_type": "code",
   "execution_count": 78,
   "id": "7de3d3a0",
   "metadata": {
    "pycharm": {
     "name": "#%%\n"
    }
   },
   "outputs": [
    {
     "data": {
      "text/html": [
       "<table class=\"dataframe\">\n",
       "<caption>A data.frame: 6 × 23717</caption>\n",
       "<thead>\n",
       "\t<tr><th></th><th scope=col>FAM138F</th><th scope=col>OR4F5</th><th scope=col>OR4F3</th><th scope=col>LOC729737</th><th scope=col>DDX11L1</th><th scope=col>WASH7P</th><th scope=col>LOC100132062</th><th scope=col>LOC100133331</th><th scope=col>OR4F3.1</th><th scope=col>LOC100133331.1</th><th scope=col>⋯</th><th scope=col>TTTY3B</th><th scope=col>DAZ4.3</th><th scope=col>DAZ3.2</th><th scope=col>DAZ2.1</th><th scope=col>CDY1B.1</th><th scope=col>CDY1</th><th scope=col>SPRY3.1</th><th scope=col>IL9R.1</th><th scope=col>VAMP7.1</th><th scope=col>UTY</th></tr>\n",
       "\t<tr><th></th><th scope=col>&lt;dbl&gt;</th><th scope=col>&lt;dbl&gt;</th><th scope=col>&lt;dbl&gt;</th><th scope=col>&lt;dbl&gt;</th><th scope=col>&lt;dbl&gt;</th><th scope=col>&lt;dbl&gt;</th><th scope=col>&lt;dbl&gt;</th><th scope=col>&lt;dbl&gt;</th><th scope=col>&lt;dbl&gt;</th><th scope=col>&lt;dbl&gt;</th><th scope=col>⋯</th><th scope=col>&lt;dbl&gt;</th><th scope=col>&lt;dbl&gt;</th><th scope=col>&lt;dbl&gt;</th><th scope=col>&lt;dbl&gt;</th><th scope=col>&lt;dbl&gt;</th><th scope=col>&lt;dbl&gt;</th><th scope=col>&lt;dbl&gt;</th><th scope=col>&lt;dbl&gt;</th><th scope=col>&lt;dbl&gt;</th><th scope=col>&lt;dbl&gt;</th></tr>\n",
       "</thead>\n",
       "<tbody>\n",
       "\t<tr><th scope=row>X02S015.02B9055_006</th><td>0</td><td>0</td><td>0</td><td>1.202460</td><td>0.0000000</td><td>14.33000</td><td>0.000341173</td><td>0.926014</td><td>0</td><td>7.667140</td><td>⋯</td><td>0</td><td>0</td><td>0</td><td>0</td><td>0</td><td>0</td><td>0.2088980</td><td>0.123211</td><td>0.0343559</td><td>0.194620</td></tr>\n",
       "\t<tr><th scope=row>X02S028.02B9271_001</th><td>0</td><td>0</td><td>0</td><td>0.587269</td><td>0.0587284</td><td> 4.23908</td><td>0.000121072</td><td>0.369643</td><td>0</td><td>0.648837</td><td>⋯</td><td>0</td><td>0</td><td>0</td><td>0</td><td>0</td><td>0</td><td>0.0964487</td><td>0.116302</td><td>1.8701700</td><td>0.163447</td></tr>\n",
       "\t<tr><th scope=row>X03S009.03B9062_012</th><td>0</td><td>0</td><td>0</td><td>0.336415</td><td>0.0000000</td><td> 4.10042</td><td>0.000159783</td><td>0.199500</td><td>0</td><td>0.217815</td><td>⋯</td><td>0</td><td>0</td><td>0</td><td>0</td><td>0</td><td>0</td><td>0.0418214</td><td>0.189153</td><td>1.8015300</td><td>0.172999</td></tr>\n",
       "\t<tr><th scope=row>X03S039.03B9206_009</th><td>0</td><td>0</td><td>0</td><td>0.761621</td><td>0.4863730</td><td> 2.87126</td><td>0.000103373</td><td>0.227027</td><td>0</td><td>0.400471</td><td>⋯</td><td>0</td><td>0</td><td>0</td><td>0</td><td>0</td><td>0</td><td>0.0000000</td><td>0.000000</td><td>1.5274400</td><td>6.207220</td></tr>\n",
       "\t<tr><th scope=row>X06S017.06B9129_013</th><td>0</td><td>0</td><td>0</td><td>1.319410</td><td>0.0891071</td><td> 4.70020</td><td>0.000111671</td><td>0.228535</td><td>0</td><td>0.400137</td><td>⋯</td><td>0</td><td>0</td><td>0</td><td>0</td><td>0</td><td>0</td><td>0.0351214</td><td>0.211891</td><td>1.7779800</td><td>0.149813</td></tr>\n",
       "\t<tr><th scope=row>X06S039.06B9229_001</th><td>0</td><td>0</td><td>0</td><td>0.989486</td><td>0.0000000</td><td> 6.13913</td><td>0.000133185</td><td>0.564246</td><td>0</td><td>1.083000</td><td>⋯</td><td>0</td><td>0</td><td>0</td><td>0</td><td>0</td><td>0</td><td>0.0527176</td><td>0.158957</td><td>0.9176300</td><td>1.572170</td></tr>\n",
       "</tbody>\n",
       "</table>\n"
      ],
      "text/latex": [
       "A data.frame: 6 × 23717\n",
       "\\begin{tabular}{r|lllllllllllllllllllll}\n",
       "  & FAM138F & OR4F5 & OR4F3 & LOC729737 & DDX11L1 & WASH7P & LOC100132062 & LOC100133331 & OR4F3.1 & LOC100133331.1 & ⋯ & TTTY3B & DAZ4.3 & DAZ3.2 & DAZ2.1 & CDY1B.1 & CDY1 & SPRY3.1 & IL9R.1 & VAMP7.1 & UTY\\\\\n",
       "  & <dbl> & <dbl> & <dbl> & <dbl> & <dbl> & <dbl> & <dbl> & <dbl> & <dbl> & <dbl> & ⋯ & <dbl> & <dbl> & <dbl> & <dbl> & <dbl> & <dbl> & <dbl> & <dbl> & <dbl> & <dbl>\\\\\n",
       "\\hline\n",
       "\tX02S015.02B9055\\_006 & 0 & 0 & 0 & 1.202460 & 0.0000000 & 14.33000 & 0.000341173 & 0.926014 & 0 & 7.667140 & ⋯ & 0 & 0 & 0 & 0 & 0 & 0 & 0.2088980 & 0.123211 & 0.0343559 & 0.194620\\\\\n",
       "\tX02S028.02B9271\\_001 & 0 & 0 & 0 & 0.587269 & 0.0587284 &  4.23908 & 0.000121072 & 0.369643 & 0 & 0.648837 & ⋯ & 0 & 0 & 0 & 0 & 0 & 0 & 0.0964487 & 0.116302 & 1.8701700 & 0.163447\\\\\n",
       "\tX03S009.03B9062\\_012 & 0 & 0 & 0 & 0.336415 & 0.0000000 &  4.10042 & 0.000159783 & 0.199500 & 0 & 0.217815 & ⋯ & 0 & 0 & 0 & 0 & 0 & 0 & 0.0418214 & 0.189153 & 1.8015300 & 0.172999\\\\\n",
       "\tX03S039.03B9206\\_009 & 0 & 0 & 0 & 0.761621 & 0.4863730 &  2.87126 & 0.000103373 & 0.227027 & 0 & 0.400471 & ⋯ & 0 & 0 & 0 & 0 & 0 & 0 & 0.0000000 & 0.000000 & 1.5274400 & 6.207220\\\\\n",
       "\tX06S017.06B9129\\_013 & 0 & 0 & 0 & 1.319410 & 0.0891071 &  4.70020 & 0.000111671 & 0.228535 & 0 & 0.400137 & ⋯ & 0 & 0 & 0 & 0 & 0 & 0 & 0.0351214 & 0.211891 & 1.7779800 & 0.149813\\\\\n",
       "\tX06S039.06B9229\\_001 & 0 & 0 & 0 & 0.989486 & 0.0000000 &  6.13913 & 0.000133185 & 0.564246 & 0 & 1.083000 & ⋯ & 0 & 0 & 0 & 0 & 0 & 0 & 0.0527176 & 0.158957 & 0.9176300 & 1.572170\\\\\n",
       "\\end{tabular}\n"
      ],
      "text/markdown": [
       "\n",
       "A data.frame: 6 × 23717\n",
       "\n",
       "| <!--/--> | FAM138F &lt;dbl&gt; | OR4F5 &lt;dbl&gt; | OR4F3 &lt;dbl&gt; | LOC729737 &lt;dbl&gt; | DDX11L1 &lt;dbl&gt; | WASH7P &lt;dbl&gt; | LOC100132062 &lt;dbl&gt; | LOC100133331 &lt;dbl&gt; | OR4F3.1 &lt;dbl&gt; | LOC100133331.1 &lt;dbl&gt; | ⋯ ⋯ | TTTY3B &lt;dbl&gt; | DAZ4.3 &lt;dbl&gt; | DAZ3.2 &lt;dbl&gt; | DAZ2.1 &lt;dbl&gt; | CDY1B.1 &lt;dbl&gt; | CDY1 &lt;dbl&gt; | SPRY3.1 &lt;dbl&gt; | IL9R.1 &lt;dbl&gt; | VAMP7.1 &lt;dbl&gt; | UTY &lt;dbl&gt; |\n",
       "|---|---|---|---|---|---|---|---|---|---|---|---|---|---|---|---|---|---|---|---|---|---|\n",
       "| X02S015.02B9055_006 | 0 | 0 | 0 | 1.202460 | 0.0000000 | 14.33000 | 0.000341173 | 0.926014 | 0 | 7.667140 | ⋯ | 0 | 0 | 0 | 0 | 0 | 0 | 0.2088980 | 0.123211 | 0.0343559 | 0.194620 |\n",
       "| X02S028.02B9271_001 | 0 | 0 | 0 | 0.587269 | 0.0587284 |  4.23908 | 0.000121072 | 0.369643 | 0 | 0.648837 | ⋯ | 0 | 0 | 0 | 0 | 0 | 0 | 0.0964487 | 0.116302 | 1.8701700 | 0.163447 |\n",
       "| X03S009.03B9062_012 | 0 | 0 | 0 | 0.336415 | 0.0000000 |  4.10042 | 0.000159783 | 0.199500 | 0 | 0.217815 | ⋯ | 0 | 0 | 0 | 0 | 0 | 0 | 0.0418214 | 0.189153 | 1.8015300 | 0.172999 |\n",
       "| X03S039.03B9206_009 | 0 | 0 | 0 | 0.761621 | 0.4863730 |  2.87126 | 0.000103373 | 0.227027 | 0 | 0.400471 | ⋯ | 0 | 0 | 0 | 0 | 0 | 0 | 0.0000000 | 0.000000 | 1.5274400 | 6.207220 |\n",
       "| X06S017.06B9129_013 | 0 | 0 | 0 | 1.319410 | 0.0891071 |  4.70020 | 0.000111671 | 0.228535 | 0 | 0.400137 | ⋯ | 0 | 0 | 0 | 0 | 0 | 0 | 0.0351214 | 0.211891 | 1.7779800 | 0.149813 |\n",
       "| X06S039.06B9229_001 | 0 | 0 | 0 | 0.989486 | 0.0000000 |  6.13913 | 0.000133185 | 0.564246 | 0 | 1.083000 | ⋯ | 0 | 0 | 0 | 0 | 0 | 0 | 0.0527176 | 0.158957 | 0.9176300 | 1.572170 |\n",
       "\n"
      ],
      "text/plain": [
       "                    FAM138F OR4F5 OR4F3 LOC729737 DDX11L1   WASH7P  \n",
       "X02S015.02B9055_006 0       0     0     1.202460  0.0000000 14.33000\n",
       "X02S028.02B9271_001 0       0     0     0.587269  0.0587284  4.23908\n",
       "X03S009.03B9062_012 0       0     0     0.336415  0.0000000  4.10042\n",
       "X03S039.03B9206_009 0       0     0     0.761621  0.4863730  2.87126\n",
       "X06S017.06B9129_013 0       0     0     1.319410  0.0891071  4.70020\n",
       "X06S039.06B9229_001 0       0     0     0.989486  0.0000000  6.13913\n",
       "                    LOC100132062 LOC100133331 OR4F3.1 LOC100133331.1 ⋯ TTTY3B\n",
       "X02S015.02B9055_006 0.000341173  0.926014     0       7.667140       ⋯ 0     \n",
       "X02S028.02B9271_001 0.000121072  0.369643     0       0.648837       ⋯ 0     \n",
       "X03S009.03B9062_012 0.000159783  0.199500     0       0.217815       ⋯ 0     \n",
       "X03S039.03B9206_009 0.000103373  0.227027     0       0.400471       ⋯ 0     \n",
       "X06S017.06B9129_013 0.000111671  0.228535     0       0.400137       ⋯ 0     \n",
       "X06S039.06B9229_001 0.000133185  0.564246     0       1.083000       ⋯ 0     \n",
       "                    DAZ4.3 DAZ3.2 DAZ2.1 CDY1B.1 CDY1 SPRY3.1   IL9R.1  \n",
       "X02S015.02B9055_006 0      0      0      0       0    0.2088980 0.123211\n",
       "X02S028.02B9271_001 0      0      0      0       0    0.0964487 0.116302\n",
       "X03S009.03B9062_012 0      0      0      0       0    0.0418214 0.189153\n",
       "X03S039.03B9206_009 0      0      0      0       0    0.0000000 0.000000\n",
       "X06S017.06B9129_013 0      0      0      0       0    0.0351214 0.211891\n",
       "X06S039.06B9229_001 0      0      0      0       0    0.0527176 0.158957\n",
       "                    VAMP7.1   UTY     \n",
       "X02S015.02B9055_006 0.0343559 0.194620\n",
       "X02S028.02B9271_001 1.8701700 0.163447\n",
       "X03S009.03B9062_012 1.8015300 0.172999\n",
       "X03S039.03B9206_009 1.5274400 6.207220\n",
       "X06S017.06B9129_013 1.7779800 0.149813\n",
       "X06S039.06B9229_001 0.9176300 1.572170"
      ]
     },
     "metadata": {},
     "output_type": "display_data"
    }
   ],
   "source": [
    "head(df)"
   ]
  },
  {
   "cell_type": "code",
   "execution_count": 79,
   "id": "b84de110",
   "metadata": {
    "pycharm": {
     "name": "#%%\n"
    }
   },
   "outputs": [],
   "source": [
    "write.table(df, file=paste(dataPath, csv_name, sep=\"\"), sep=\",\")"
   ]
  },
  {
   "cell_type": "code",
   "execution_count": 80,
   "id": "968eb73a",
   "metadata": {
    "pycharm": {
     "name": "#%%\n"
    }
   },
   "outputs": [],
   "source": [
    "csv_name = 'A1A_deficiency_GSE109516_pbmc.csv'"
   ]
  },
  {
   "cell_type": "code",
   "execution_count": 81,
   "id": "2c21f8b4",
   "metadata": {
    "pycharm": {
     "name": "#%%\n"
    }
   },
   "outputs": [],
   "source": [
    "df <- read.csv(file=paste(dataPath, csv_name, sep=\"\"), header=TRUE)"
   ]
  },
  {
   "cell_type": "code",
   "execution_count": 82,
   "id": "34e1094e",
   "metadata": {
    "scrolled": true,
    "pycharm": {
     "name": "#%%\n"
    }
   },
   "outputs": [
    {
     "data": {
      "text/html": [
       "<table class=\"dataframe\">\n",
       "<caption>A data.frame: 6 × 25276</caption>\n",
       "<thead>\n",
       "\t<tr><th></th><th scope=col>FAM138F</th><th scope=col>OR4F5</th><th scope=col>OR4F3</th><th scope=col>LOC729737</th><th scope=col>DDX11L1</th><th scope=col>WASH7P</th><th scope=col>LOC100132062</th><th scope=col>LOC100133331</th><th scope=col>OR4F3.1</th><th scope=col>LOC100133331.1</th><th scope=col>⋯</th><th scope=col>DUX4L2.3</th><th scope=col>DUX2.14</th><th scope=col>DUX4.10</th><th scope=col>DUX4L</th><th scope=col>DUX4.11</th><th scope=col>DUX4L5.2</th><th scope=col>DUX2.15</th><th scope=col>DUX4.12</th><th scope=col>DUX4L2.4</th><th scope=col>DUX2.16</th></tr>\n",
       "\t<tr><th></th><th scope=col>&lt;dbl&gt;</th><th scope=col>&lt;dbl&gt;</th><th scope=col>&lt;dbl&gt;</th><th scope=col>&lt;dbl&gt;</th><th scope=col>&lt;dbl&gt;</th><th scope=col>&lt;dbl&gt;</th><th scope=col>&lt;dbl&gt;</th><th scope=col>&lt;dbl&gt;</th><th scope=col>&lt;dbl&gt;</th><th scope=col>&lt;dbl&gt;</th><th scope=col>⋯</th><th scope=col>&lt;dbl&gt;</th><th scope=col>&lt;dbl&gt;</th><th scope=col>&lt;dbl&gt;</th><th scope=col>&lt;dbl&gt;</th><th scope=col>&lt;dbl&gt;</th><th scope=col>&lt;dbl&gt;</th><th scope=col>&lt;dbl&gt;</th><th scope=col>&lt;dbl&gt;</th><th scope=col>&lt;dbl&gt;</th><th scope=col>&lt;dbl&gt;</th></tr>\n",
       "</thead>\n",
       "<tbody>\n",
       "\t<tr><th scope=row>X02S015.02S7041_013</th><td>0</td><td>0</td><td>0</td><td>5.13813</td><td>0.908668</td><td> 7.33859</td><td>0.000512406</td><td>1.00044e+00</td><td>0</td><td>1.44256</td><td>⋯</td><td>0</td><td>0</td><td>0</td><td>0</td><td>0</td><td>0</td><td>0</td><td>0</td><td>0</td><td>0</td></tr>\n",
       "\t<tr><th scope=row>X02S028.02S7283_003</th><td>0</td><td>0</td><td>0</td><td>5.08120</td><td>2.572830</td><td>11.11950</td><td>0.000176911</td><td>1.79337e+00</td><td>0</td><td>1.24944</td><td>⋯</td><td>0</td><td>0</td><td>0</td><td>0</td><td>0</td><td>0</td><td>0</td><td>0</td><td>0</td><td>0</td></tr>\n",
       "\t<tr><th scope=row>X03S009.03S7065_011</th><td>0</td><td>0</td><td>0</td><td>3.04018</td><td>2.247790</td><td> 7.13176</td><td>1.199710000</td><td>4.51872e-05</td><td>0</td><td>1.18256</td><td>⋯</td><td>0</td><td>0</td><td>0</td><td>0</td><td>0</td><td>0</td><td>0</td><td>0</td><td>0</td><td>0</td></tr>\n",
       "\t<tr><th scope=row>X06S017.06S7136_006</th><td>0</td><td>0</td><td>0</td><td>2.20487</td><td>3.338000</td><td> 7.00880</td><td>0.000144586</td><td>8.53105e-01</td><td>0</td><td>1.16502</td><td>⋯</td><td>0</td><td>0</td><td>0</td><td>0</td><td>0</td><td>0</td><td>0</td><td>0</td><td>0</td><td>0</td></tr>\n",
       "\t<tr><th scope=row>X06S039.06S7324_011</th><td>0</td><td>0</td><td>0</td><td>8.03142</td><td>1.421980</td><td> 8.12425</td><td>1.915370000</td><td>2.33545e-05</td><td>0</td><td>2.11526</td><td>⋯</td><td>0</td><td>0</td><td>0</td><td>0</td><td>0</td><td>0</td><td>0</td><td>0</td><td>0</td><td>0</td></tr>\n",
       "\t<tr><th scope=row>X04S047.04S7473_012RUN248</th><td>0</td><td>0</td><td>0</td><td>4.92161</td><td>1.297020</td><td> 6.28220</td><td>1.988100000</td><td>3.89329e-04</td><td>0</td><td>1.42607</td><td>⋯</td><td>0</td><td>0</td><td>0</td><td>0</td><td>0</td><td>0</td><td>0</td><td>0</td><td>0</td><td>0</td></tr>\n",
       "</tbody>\n",
       "</table>\n"
      ],
      "text/latex": [
       "A data.frame: 6 × 25276\n",
       "\\begin{tabular}{r|lllllllllllllllllllll}\n",
       "  & FAM138F & OR4F5 & OR4F3 & LOC729737 & DDX11L1 & WASH7P & LOC100132062 & LOC100133331 & OR4F3.1 & LOC100133331.1 & ⋯ & DUX4L2.3 & DUX2.14 & DUX4.10 & DUX4L & DUX4.11 & DUX4L5.2 & DUX2.15 & DUX4.12 & DUX4L2.4 & DUX2.16\\\\\n",
       "  & <dbl> & <dbl> & <dbl> & <dbl> & <dbl> & <dbl> & <dbl> & <dbl> & <dbl> & <dbl> & ⋯ & <dbl> & <dbl> & <dbl> & <dbl> & <dbl> & <dbl> & <dbl> & <dbl> & <dbl> & <dbl>\\\\\n",
       "\\hline\n",
       "\tX02S015.02S7041\\_013 & 0 & 0 & 0 & 5.13813 & 0.908668 &  7.33859 & 0.000512406 & 1.00044e+00 & 0 & 1.44256 & ⋯ & 0 & 0 & 0 & 0 & 0 & 0 & 0 & 0 & 0 & 0\\\\\n",
       "\tX02S028.02S7283\\_003 & 0 & 0 & 0 & 5.08120 & 2.572830 & 11.11950 & 0.000176911 & 1.79337e+00 & 0 & 1.24944 & ⋯ & 0 & 0 & 0 & 0 & 0 & 0 & 0 & 0 & 0 & 0\\\\\n",
       "\tX03S009.03S7065\\_011 & 0 & 0 & 0 & 3.04018 & 2.247790 &  7.13176 & 1.199710000 & 4.51872e-05 & 0 & 1.18256 & ⋯ & 0 & 0 & 0 & 0 & 0 & 0 & 0 & 0 & 0 & 0\\\\\n",
       "\tX06S017.06S7136\\_006 & 0 & 0 & 0 & 2.20487 & 3.338000 &  7.00880 & 0.000144586 & 8.53105e-01 & 0 & 1.16502 & ⋯ & 0 & 0 & 0 & 0 & 0 & 0 & 0 & 0 & 0 & 0\\\\\n",
       "\tX06S039.06S7324\\_011 & 0 & 0 & 0 & 8.03142 & 1.421980 &  8.12425 & 1.915370000 & 2.33545e-05 & 0 & 2.11526 & ⋯ & 0 & 0 & 0 & 0 & 0 & 0 & 0 & 0 & 0 & 0\\\\\n",
       "\tX04S047.04S7473\\_012RUN248 & 0 & 0 & 0 & 4.92161 & 1.297020 &  6.28220 & 1.988100000 & 3.89329e-04 & 0 & 1.42607 & ⋯ & 0 & 0 & 0 & 0 & 0 & 0 & 0 & 0 & 0 & 0\\\\\n",
       "\\end{tabular}\n"
      ],
      "text/markdown": [
       "\n",
       "A data.frame: 6 × 25276\n",
       "\n",
       "| <!--/--> | FAM138F &lt;dbl&gt; | OR4F5 &lt;dbl&gt; | OR4F3 &lt;dbl&gt; | LOC729737 &lt;dbl&gt; | DDX11L1 &lt;dbl&gt; | WASH7P &lt;dbl&gt; | LOC100132062 &lt;dbl&gt; | LOC100133331 &lt;dbl&gt; | OR4F3.1 &lt;dbl&gt; | LOC100133331.1 &lt;dbl&gt; | ⋯ ⋯ | DUX4L2.3 &lt;dbl&gt; | DUX2.14 &lt;dbl&gt; | DUX4.10 &lt;dbl&gt; | DUX4L &lt;dbl&gt; | DUX4.11 &lt;dbl&gt; | DUX4L5.2 &lt;dbl&gt; | DUX2.15 &lt;dbl&gt; | DUX4.12 &lt;dbl&gt; | DUX4L2.4 &lt;dbl&gt; | DUX2.16 &lt;dbl&gt; |\n",
       "|---|---|---|---|---|---|---|---|---|---|---|---|---|---|---|---|---|---|---|---|---|---|\n",
       "| X02S015.02S7041_013 | 0 | 0 | 0 | 5.13813 | 0.908668 |  7.33859 | 0.000512406 | 1.00044e+00 | 0 | 1.44256 | ⋯ | 0 | 0 | 0 | 0 | 0 | 0 | 0 | 0 | 0 | 0 |\n",
       "| X02S028.02S7283_003 | 0 | 0 | 0 | 5.08120 | 2.572830 | 11.11950 | 0.000176911 | 1.79337e+00 | 0 | 1.24944 | ⋯ | 0 | 0 | 0 | 0 | 0 | 0 | 0 | 0 | 0 | 0 |\n",
       "| X03S009.03S7065_011 | 0 | 0 | 0 | 3.04018 | 2.247790 |  7.13176 | 1.199710000 | 4.51872e-05 | 0 | 1.18256 | ⋯ | 0 | 0 | 0 | 0 | 0 | 0 | 0 | 0 | 0 | 0 |\n",
       "| X06S017.06S7136_006 | 0 | 0 | 0 | 2.20487 | 3.338000 |  7.00880 | 0.000144586 | 8.53105e-01 | 0 | 1.16502 | ⋯ | 0 | 0 | 0 | 0 | 0 | 0 | 0 | 0 | 0 | 0 |\n",
       "| X06S039.06S7324_011 | 0 | 0 | 0 | 8.03142 | 1.421980 |  8.12425 | 1.915370000 | 2.33545e-05 | 0 | 2.11526 | ⋯ | 0 | 0 | 0 | 0 | 0 | 0 | 0 | 0 | 0 | 0 |\n",
       "| X04S047.04S7473_012RUN248 | 0 | 0 | 0 | 4.92161 | 1.297020 |  6.28220 | 1.988100000 | 3.89329e-04 | 0 | 1.42607 | ⋯ | 0 | 0 | 0 | 0 | 0 | 0 | 0 | 0 | 0 | 0 |\n",
       "\n"
      ],
      "text/plain": [
       "                          FAM138F OR4F5 OR4F3 LOC729737 DDX11L1  WASH7P  \n",
       "X02S015.02S7041_013       0       0     0     5.13813   0.908668  7.33859\n",
       "X02S028.02S7283_003       0       0     0     5.08120   2.572830 11.11950\n",
       "X03S009.03S7065_011       0       0     0     3.04018   2.247790  7.13176\n",
       "X06S017.06S7136_006       0       0     0     2.20487   3.338000  7.00880\n",
       "X06S039.06S7324_011       0       0     0     8.03142   1.421980  8.12425\n",
       "X04S047.04S7473_012RUN248 0       0     0     4.92161   1.297020  6.28220\n",
       "                          LOC100132062 LOC100133331 OR4F3.1 LOC100133331.1 ⋯\n",
       "X02S015.02S7041_013       0.000512406  1.00044e+00  0       1.44256        ⋯\n",
       "X02S028.02S7283_003       0.000176911  1.79337e+00  0       1.24944        ⋯\n",
       "X03S009.03S7065_011       1.199710000  4.51872e-05  0       1.18256        ⋯\n",
       "X06S017.06S7136_006       0.000144586  8.53105e-01  0       1.16502        ⋯\n",
       "X06S039.06S7324_011       1.915370000  2.33545e-05  0       2.11526        ⋯\n",
       "X04S047.04S7473_012RUN248 1.988100000  3.89329e-04  0       1.42607        ⋯\n",
       "                          DUX4L2.3 DUX2.14 DUX4.10 DUX4L DUX4.11 DUX4L5.2\n",
       "X02S015.02S7041_013       0        0       0       0     0       0       \n",
       "X02S028.02S7283_003       0        0       0       0     0       0       \n",
       "X03S009.03S7065_011       0        0       0       0     0       0       \n",
       "X06S017.06S7136_006       0        0       0       0     0       0       \n",
       "X06S039.06S7324_011       0        0       0       0     0       0       \n",
       "X04S047.04S7473_012RUN248 0        0       0       0     0       0       \n",
       "                          DUX2.15 DUX4.12 DUX4L2.4 DUX2.16\n",
       "X02S015.02S7041_013       0       0       0        0      \n",
       "X02S028.02S7283_003       0       0       0        0      \n",
       "X03S009.03S7065_011       0       0       0        0      \n",
       "X06S017.06S7136_006       0       0       0        0      \n",
       "X06S039.06S7324_011       0       0       0        0      \n",
       "X04S047.04S7473_012RUN248 0       0       0        0      "
      ]
     },
     "metadata": {},
     "output_type": "display_data"
    }
   ],
   "source": [
    "head(df)"
   ]
  },
  {
   "cell_type": "code",
   "execution_count": 83,
   "id": "94fa3e2c",
   "metadata": {
    "pycharm": {
     "name": "#%%\n"
    }
   },
   "outputs": [],
   "source": [
    "# Remove NA\n",
    "df <- df[, colSums(is.na(df)) == 0]\n",
    "# Remove columns with all 0s\n",
    "df <- df[, colSums(df) > 0]\n",
    "# Remove columns without gene symbol\n",
    "df <- df[,nzchar(colnames(df))]\n",
    "# Remove double names genes (GENE1 /// GENE2)\n",
    "colnames(df) <- gsub(\" ///.*\", \"\", colnames(df))\n",
    "# Make all columns uppercase\n",
    "colnames(df) <- toupper(colnames(df))"
   ]
  },
  {
   "cell_type": "code",
   "execution_count": 84,
   "id": "435ecb85",
   "metadata": {
    "pycharm": {
     "name": "#%%\n"
    }
   },
   "outputs": [
    {
     "data": {
      "text/html": [
       "<table class=\"dataframe\">\n",
       "<caption>A data.frame: 6 × 23748</caption>\n",
       "<thead>\n",
       "\t<tr><th></th><th scope=col>FAM138F</th><th scope=col>OR4F5</th><th scope=col>OR4F3</th><th scope=col>LOC729737</th><th scope=col>DDX11L1</th><th scope=col>WASH7P</th><th scope=col>LOC100132062</th><th scope=col>LOC100133331</th><th scope=col>OR4F3.1</th><th scope=col>LOC100133331.1</th><th scope=col>⋯</th><th scope=col>CSPG4P1Y.1</th><th scope=col>DAZ4.3</th><th scope=col>DAZ3.2</th><th scope=col>DAZ2.1</th><th scope=col>CDY1B.1</th><th scope=col>CDY1</th><th scope=col>SPRY3.1</th><th scope=col>IL9R.1</th><th scope=col>VAMP7.1</th><th scope=col>UTY</th></tr>\n",
       "\t<tr><th></th><th scope=col>&lt;dbl&gt;</th><th scope=col>&lt;dbl&gt;</th><th scope=col>&lt;dbl&gt;</th><th scope=col>&lt;dbl&gt;</th><th scope=col>&lt;dbl&gt;</th><th scope=col>&lt;dbl&gt;</th><th scope=col>&lt;dbl&gt;</th><th scope=col>&lt;dbl&gt;</th><th scope=col>&lt;dbl&gt;</th><th scope=col>&lt;dbl&gt;</th><th scope=col>⋯</th><th scope=col>&lt;dbl&gt;</th><th scope=col>&lt;dbl&gt;</th><th scope=col>&lt;dbl&gt;</th><th scope=col>&lt;dbl&gt;</th><th scope=col>&lt;dbl&gt;</th><th scope=col>&lt;dbl&gt;</th><th scope=col>&lt;dbl&gt;</th><th scope=col>&lt;dbl&gt;</th><th scope=col>&lt;dbl&gt;</th><th scope=col>&lt;dbl&gt;</th></tr>\n",
       "</thead>\n",
       "<tbody>\n",
       "\t<tr><th scope=row>X02S015.02S7041_013</th><td>0</td><td>0</td><td>0</td><td>5.13813</td><td>0.908668</td><td> 7.33859</td><td>0.000512406</td><td>1.00044e+00</td><td>0</td><td>1.44256</td><td>⋯</td><td>0</td><td>0</td><td>0</td><td>0</td><td>0</td><td>0</td><td>0.1085300</td><td>0.245382</td><td>1.99787</td><td>0.120459</td></tr>\n",
       "\t<tr><th scope=row>X02S028.02S7283_003</th><td>0</td><td>0</td><td>0</td><td>5.08120</td><td>2.572830</td><td>11.11950</td><td>0.000176911</td><td>1.79337e+00</td><td>0</td><td>1.24944</td><td>⋯</td><td>0</td><td>0</td><td>0</td><td>0</td><td>0</td><td>0</td><td>0.0510752</td><td>0.167969</td><td>2.27362</td><td>0.223543</td></tr>\n",
       "\t<tr><th scope=row>X03S009.03S7065_011</th><td>0</td><td>0</td><td>0</td><td>3.04018</td><td>2.247790</td><td> 7.13176</td><td>1.199710000</td><td>4.51872e-05</td><td>0</td><td>1.18256</td><td>⋯</td><td>0</td><td>0</td><td>0</td><td>0</td><td>0</td><td>0</td><td>0.0597672</td><td>0.111284</td><td>2.12879</td><td>0.248822</td></tr>\n",
       "\t<tr><th scope=row>X06S017.06S7136_006</th><td>0</td><td>0</td><td>0</td><td>2.20487</td><td>3.338000</td><td> 7.00880</td><td>0.000144586</td><td>8.53105e-01</td><td>0</td><td>1.16502</td><td>⋯</td><td>0</td><td>0</td><td>0</td><td>0</td><td>0</td><td>0</td><td>0.0529292</td><td>0.136767</td><td>1.64396</td><td>0.185010</td></tr>\n",
       "\t<tr><th scope=row>X06S039.06S7324_011</th><td>0</td><td>0</td><td>0</td><td>8.03142</td><td>1.421980</td><td> 8.12425</td><td>1.915370000</td><td>2.33545e-05</td><td>0</td><td>2.11526</td><td>⋯</td><td>0</td><td>0</td><td>0</td><td>0</td><td>0</td><td>0</td><td>0.0406139</td><td>0.183653</td><td>1.80640</td><td>5.414140</td></tr>\n",
       "\t<tr><th scope=row>X04S047.04S7473_012RUN248</th><td>0</td><td>0</td><td>0</td><td>4.92161</td><td>1.297020</td><td> 6.28220</td><td>1.988100000</td><td>3.89329e-04</td><td>0</td><td>1.42607</td><td>⋯</td><td>0</td><td>0</td><td>0</td><td>0</td><td>0</td><td>0</td><td>0.0407886</td><td>0.102468</td><td>2.41275</td><td>9.628940</td></tr>\n",
       "</tbody>\n",
       "</table>\n"
      ],
      "text/latex": [
       "A data.frame: 6 × 23748\n",
       "\\begin{tabular}{r|lllllllllllllllllllll}\n",
       "  & FAM138F & OR4F5 & OR4F3 & LOC729737 & DDX11L1 & WASH7P & LOC100132062 & LOC100133331 & OR4F3.1 & LOC100133331.1 & ⋯ & CSPG4P1Y.1 & DAZ4.3 & DAZ3.2 & DAZ2.1 & CDY1B.1 & CDY1 & SPRY3.1 & IL9R.1 & VAMP7.1 & UTY\\\\\n",
       "  & <dbl> & <dbl> & <dbl> & <dbl> & <dbl> & <dbl> & <dbl> & <dbl> & <dbl> & <dbl> & ⋯ & <dbl> & <dbl> & <dbl> & <dbl> & <dbl> & <dbl> & <dbl> & <dbl> & <dbl> & <dbl>\\\\\n",
       "\\hline\n",
       "\tX02S015.02S7041\\_013 & 0 & 0 & 0 & 5.13813 & 0.908668 &  7.33859 & 0.000512406 & 1.00044e+00 & 0 & 1.44256 & ⋯ & 0 & 0 & 0 & 0 & 0 & 0 & 0.1085300 & 0.245382 & 1.99787 & 0.120459\\\\\n",
       "\tX02S028.02S7283\\_003 & 0 & 0 & 0 & 5.08120 & 2.572830 & 11.11950 & 0.000176911 & 1.79337e+00 & 0 & 1.24944 & ⋯ & 0 & 0 & 0 & 0 & 0 & 0 & 0.0510752 & 0.167969 & 2.27362 & 0.223543\\\\\n",
       "\tX03S009.03S7065\\_011 & 0 & 0 & 0 & 3.04018 & 2.247790 &  7.13176 & 1.199710000 & 4.51872e-05 & 0 & 1.18256 & ⋯ & 0 & 0 & 0 & 0 & 0 & 0 & 0.0597672 & 0.111284 & 2.12879 & 0.248822\\\\\n",
       "\tX06S017.06S7136\\_006 & 0 & 0 & 0 & 2.20487 & 3.338000 &  7.00880 & 0.000144586 & 8.53105e-01 & 0 & 1.16502 & ⋯ & 0 & 0 & 0 & 0 & 0 & 0 & 0.0529292 & 0.136767 & 1.64396 & 0.185010\\\\\n",
       "\tX06S039.06S7324\\_011 & 0 & 0 & 0 & 8.03142 & 1.421980 &  8.12425 & 1.915370000 & 2.33545e-05 & 0 & 2.11526 & ⋯ & 0 & 0 & 0 & 0 & 0 & 0 & 0.0406139 & 0.183653 & 1.80640 & 5.414140\\\\\n",
       "\tX04S047.04S7473\\_012RUN248 & 0 & 0 & 0 & 4.92161 & 1.297020 &  6.28220 & 1.988100000 & 3.89329e-04 & 0 & 1.42607 & ⋯ & 0 & 0 & 0 & 0 & 0 & 0 & 0.0407886 & 0.102468 & 2.41275 & 9.628940\\\\\n",
       "\\end{tabular}\n"
      ],
      "text/markdown": [
       "\n",
       "A data.frame: 6 × 23748\n",
       "\n",
       "| <!--/--> | FAM138F &lt;dbl&gt; | OR4F5 &lt;dbl&gt; | OR4F3 &lt;dbl&gt; | LOC729737 &lt;dbl&gt; | DDX11L1 &lt;dbl&gt; | WASH7P &lt;dbl&gt; | LOC100132062 &lt;dbl&gt; | LOC100133331 &lt;dbl&gt; | OR4F3.1 &lt;dbl&gt; | LOC100133331.1 &lt;dbl&gt; | ⋯ ⋯ | CSPG4P1Y.1 &lt;dbl&gt; | DAZ4.3 &lt;dbl&gt; | DAZ3.2 &lt;dbl&gt; | DAZ2.1 &lt;dbl&gt; | CDY1B.1 &lt;dbl&gt; | CDY1 &lt;dbl&gt; | SPRY3.1 &lt;dbl&gt; | IL9R.1 &lt;dbl&gt; | VAMP7.1 &lt;dbl&gt; | UTY &lt;dbl&gt; |\n",
       "|---|---|---|---|---|---|---|---|---|---|---|---|---|---|---|---|---|---|---|---|---|---|\n",
       "| X02S015.02S7041_013 | 0 | 0 | 0 | 5.13813 | 0.908668 |  7.33859 | 0.000512406 | 1.00044e+00 | 0 | 1.44256 | ⋯ | 0 | 0 | 0 | 0 | 0 | 0 | 0.1085300 | 0.245382 | 1.99787 | 0.120459 |\n",
       "| X02S028.02S7283_003 | 0 | 0 | 0 | 5.08120 | 2.572830 | 11.11950 | 0.000176911 | 1.79337e+00 | 0 | 1.24944 | ⋯ | 0 | 0 | 0 | 0 | 0 | 0 | 0.0510752 | 0.167969 | 2.27362 | 0.223543 |\n",
       "| X03S009.03S7065_011 | 0 | 0 | 0 | 3.04018 | 2.247790 |  7.13176 | 1.199710000 | 4.51872e-05 | 0 | 1.18256 | ⋯ | 0 | 0 | 0 | 0 | 0 | 0 | 0.0597672 | 0.111284 | 2.12879 | 0.248822 |\n",
       "| X06S017.06S7136_006 | 0 | 0 | 0 | 2.20487 | 3.338000 |  7.00880 | 0.000144586 | 8.53105e-01 | 0 | 1.16502 | ⋯ | 0 | 0 | 0 | 0 | 0 | 0 | 0.0529292 | 0.136767 | 1.64396 | 0.185010 |\n",
       "| X06S039.06S7324_011 | 0 | 0 | 0 | 8.03142 | 1.421980 |  8.12425 | 1.915370000 | 2.33545e-05 | 0 | 2.11526 | ⋯ | 0 | 0 | 0 | 0 | 0 | 0 | 0.0406139 | 0.183653 | 1.80640 | 5.414140 |\n",
       "| X04S047.04S7473_012RUN248 | 0 | 0 | 0 | 4.92161 | 1.297020 |  6.28220 | 1.988100000 | 3.89329e-04 | 0 | 1.42607 | ⋯ | 0 | 0 | 0 | 0 | 0 | 0 | 0.0407886 | 0.102468 | 2.41275 | 9.628940 |\n",
       "\n"
      ],
      "text/plain": [
       "                          FAM138F OR4F5 OR4F3 LOC729737 DDX11L1  WASH7P  \n",
       "X02S015.02S7041_013       0       0     0     5.13813   0.908668  7.33859\n",
       "X02S028.02S7283_003       0       0     0     5.08120   2.572830 11.11950\n",
       "X03S009.03S7065_011       0       0     0     3.04018   2.247790  7.13176\n",
       "X06S017.06S7136_006       0       0     0     2.20487   3.338000  7.00880\n",
       "X06S039.06S7324_011       0       0     0     8.03142   1.421980  8.12425\n",
       "X04S047.04S7473_012RUN248 0       0     0     4.92161   1.297020  6.28220\n",
       "                          LOC100132062 LOC100133331 OR4F3.1 LOC100133331.1 ⋯\n",
       "X02S015.02S7041_013       0.000512406  1.00044e+00  0       1.44256        ⋯\n",
       "X02S028.02S7283_003       0.000176911  1.79337e+00  0       1.24944        ⋯\n",
       "X03S009.03S7065_011       1.199710000  4.51872e-05  0       1.18256        ⋯\n",
       "X06S017.06S7136_006       0.000144586  8.53105e-01  0       1.16502        ⋯\n",
       "X06S039.06S7324_011       1.915370000  2.33545e-05  0       2.11526        ⋯\n",
       "X04S047.04S7473_012RUN248 1.988100000  3.89329e-04  0       1.42607        ⋯\n",
       "                          CSPG4P1Y.1 DAZ4.3 DAZ3.2 DAZ2.1 CDY1B.1 CDY1\n",
       "X02S015.02S7041_013       0          0      0      0      0       0   \n",
       "X02S028.02S7283_003       0          0      0      0      0       0   \n",
       "X03S009.03S7065_011       0          0      0      0      0       0   \n",
       "X06S017.06S7136_006       0          0      0      0      0       0   \n",
       "X06S039.06S7324_011       0          0      0      0      0       0   \n",
       "X04S047.04S7473_012RUN248 0          0      0      0      0       0   \n",
       "                          SPRY3.1   IL9R.1   VAMP7.1 UTY     \n",
       "X02S015.02S7041_013       0.1085300 0.245382 1.99787 0.120459\n",
       "X02S028.02S7283_003       0.0510752 0.167969 2.27362 0.223543\n",
       "X03S009.03S7065_011       0.0597672 0.111284 2.12879 0.248822\n",
       "X06S017.06S7136_006       0.0529292 0.136767 1.64396 0.185010\n",
       "X06S039.06S7324_011       0.0406139 0.183653 1.80640 5.414140\n",
       "X04S047.04S7473_012RUN248 0.0407886 0.102468 2.41275 9.628940"
      ]
     },
     "metadata": {},
     "output_type": "display_data"
    }
   ],
   "source": [
    "head(df)"
   ]
  },
  {
   "cell_type": "code",
   "execution_count": 85,
   "id": "db53897d",
   "metadata": {
    "pycharm": {
     "name": "#%%\n"
    }
   },
   "outputs": [],
   "source": [
    "write.table(df, file=paste(dataPath, csv_name, sep=\"\"), sep=\",\")"
   ]
  },
  {
   "cell_type": "markdown",
   "id": "3f97d698",
   "metadata": {
    "pycharm": {
     "name": "#%% md\n"
    }
   },
   "source": [
    "# MCM"
   ]
  },
  {
   "cell_type": "code",
   "execution_count": 103,
   "id": "0750df49",
   "metadata": {
    "pycharm": {
     "name": "#%%\n"
    }
   },
   "outputs": [],
   "source": [
    "csv_name = 'MCM_GSE149607.csv'"
   ]
  },
  {
   "cell_type": "code",
   "execution_count": 104,
   "id": "d526464a",
   "metadata": {
    "pycharm": {
     "name": "#%%\n"
    }
   },
   "outputs": [],
   "source": [
    "df <- read.csv(file=paste(dataPath, csv_name, sep=\"\"), header=TRUE)"
   ]
  },
  {
   "cell_type": "code",
   "execution_count": 105,
   "id": "c2458ea1",
   "metadata": {
    "scrolled": false,
    "pycharm": {
     "name": "#%%\n"
    }
   },
   "outputs": [
    {
     "data": {
      "text/html": [
       "<table class=\"dataframe\">\n",
       "<caption>A data.frame: 6 × 17623</caption>\n",
       "<thead>\n",
       "\t<tr><th></th><th scope=col>NR_046018</th><th scope=col>NR_024368</th><th scope=col>NR_029406</th><th scope=col>XR_132471</th><th scope=col>NR_047526</th><th scope=col>NM_152486</th><th scope=col>NM_198317</th><th scope=col>NM_005101</th><th scope=col>NM_198576</th><th scope=col>NR_038869</th><th scope=col>⋯</th><th scope=col>XM_003403688.1</th><th scope=col>NR_049896.2</th><th scope=col>XR_133519.1</th><th scope=col>XR_132462.2</th><th scope=col>NM_012149</th><th scope=col>NR_024086</th><th scope=col>XR_112193</th><th scope=col>XM_001719777</th><th scope=col>XR_133541</th><th scope=col>NM_203348</th></tr>\n",
       "\t<tr><th></th><th scope=col>&lt;dbl&gt;</th><th scope=col>&lt;dbl&gt;</th><th scope=col>&lt;dbl&gt;</th><th scope=col>&lt;dbl&gt;</th><th scope=col>&lt;dbl&gt;</th><th scope=col>&lt;dbl&gt;</th><th scope=col>&lt;dbl&gt;</th><th scope=col>&lt;dbl&gt;</th><th scope=col>&lt;dbl&gt;</th><th scope=col>&lt;dbl&gt;</th><th scope=col>⋯</th><th scope=col>&lt;dbl&gt;</th><th scope=col>&lt;dbl&gt;</th><th scope=col>&lt;dbl&gt;</th><th scope=col>&lt;dbl&gt;</th><th scope=col>&lt;dbl&gt;</th><th scope=col>&lt;dbl&gt;</th><th scope=col>&lt;dbl&gt;</th><th scope=col>&lt;dbl&gt;</th><th scope=col>&lt;dbl&gt;</th><th scope=col>&lt;dbl&gt;</th></tr>\n",
       "</thead>\n",
       "<tbody>\n",
       "\t<tr><th scope=row>GSM4505813</th><td>8.426488</td><td>10.62813</td><td>6.012424</td><td>4.399510</td><td>6.294647</td><td>5.329514</td><td>5.893486</td><td>6.627709</td><td>5.476104</td><td>5.010456</td><td>⋯</td><td>4.829462</td><td>4.008998</td><td>7.144405</td><td>4.161195</td><td>5.772545</td><td>3.434427</td><td>2.853097</td><td>4.039324</td><td>4.736561</td><td>5.138100</td></tr>\n",
       "\t<tr><th scope=row>GSM4505814</th><td>8.994904</td><td>10.73934</td><td>6.323561</td><td>4.002165</td><td>6.346021</td><td>5.162432</td><td>5.258358</td><td>6.525893</td><td>5.103988</td><td>4.864387</td><td>⋯</td><td>4.872092</td><td>3.228349</td><td>6.719474</td><td>4.174266</td><td>5.723040</td><td>3.480727</td><td>3.023857</td><td>3.695276</td><td>5.053663</td><td>5.087892</td></tr>\n",
       "\t<tr><th scope=row>GSM4505815</th><td>9.470577</td><td>11.32028</td><td>6.266544</td><td>3.916870</td><td>5.699336</td><td>5.684052</td><td>5.583466</td><td>7.286742</td><td>5.555661</td><td>5.377296</td><td>⋯</td><td>4.958282</td><td>3.734034</td><td>7.155735</td><td>3.832421</td><td>6.147892</td><td>3.232951</td><td>2.950671</td><td>4.222785</td><td>5.302822</td><td>5.630389</td></tr>\n",
       "\t<tr><th scope=row>GSM4505816</th><td>9.005315</td><td>10.68989</td><td>6.029893</td><td>4.055520</td><td>6.114030</td><td>5.361383</td><td>5.428657</td><td>6.356181</td><td>5.056486</td><td>4.871640</td><td>⋯</td><td>4.758407</td><td>3.199611</td><td>7.359878</td><td>4.234975</td><td>5.538055</td><td>3.132322</td><td>3.330705</td><td>4.347722</td><td>4.862523</td><td>5.046917</td></tr>\n",
       "\t<tr><th scope=row>GSM4505817</th><td>8.914529</td><td>10.82360</td><td>6.430465</td><td>4.013163</td><td>6.156909</td><td>4.780517</td><td>5.606540</td><td>6.698649</td><td>5.313160</td><td>5.458017</td><td>⋯</td><td>4.719867</td><td>3.272944</td><td>6.884299</td><td>4.240961</td><td>5.549666</td><td>3.603027</td><td>3.253354</td><td>3.792074</td><td>4.950836</td><td>4.845475</td></tr>\n",
       "\t<tr><th scope=row>GSM4505818</th><td>9.102384</td><td>11.26057</td><td>6.298412</td><td>3.986049</td><td>5.839989</td><td>5.111051</td><td>5.737249</td><td>6.876548</td><td>5.268361</td><td>4.971873</td><td>⋯</td><td>4.773473</td><td>3.233161</td><td>6.324773</td><td>4.482434</td><td>5.567406</td><td>3.345491</td><td>3.567779</td><td>3.909546</td><td>5.048886</td><td>5.417264</td></tr>\n",
       "</tbody>\n",
       "</table>\n"
      ],
      "text/latex": [
       "A data.frame: 6 × 17623\n",
       "\\begin{tabular}{r|lllllllllllllllllllll}\n",
       "  & NR\\_046018 & NR\\_024368 & NR\\_029406 & XR\\_132471 & NR\\_047526 & NM\\_152486 & NM\\_198317 & NM\\_005101 & NM\\_198576 & NR\\_038869 & ⋯ & XM\\_003403688.1 & NR\\_049896.2 & XR\\_133519.1 & XR\\_132462.2 & NM\\_012149 & NR\\_024086 & XR\\_112193 & XM\\_001719777 & XR\\_133541 & NM\\_203348\\\\\n",
       "  & <dbl> & <dbl> & <dbl> & <dbl> & <dbl> & <dbl> & <dbl> & <dbl> & <dbl> & <dbl> & ⋯ & <dbl> & <dbl> & <dbl> & <dbl> & <dbl> & <dbl> & <dbl> & <dbl> & <dbl> & <dbl>\\\\\n",
       "\\hline\n",
       "\tGSM4505813 & 8.426488 & 10.62813 & 6.012424 & 4.399510 & 6.294647 & 5.329514 & 5.893486 & 6.627709 & 5.476104 & 5.010456 & ⋯ & 4.829462 & 4.008998 & 7.144405 & 4.161195 & 5.772545 & 3.434427 & 2.853097 & 4.039324 & 4.736561 & 5.138100\\\\\n",
       "\tGSM4505814 & 8.994904 & 10.73934 & 6.323561 & 4.002165 & 6.346021 & 5.162432 & 5.258358 & 6.525893 & 5.103988 & 4.864387 & ⋯ & 4.872092 & 3.228349 & 6.719474 & 4.174266 & 5.723040 & 3.480727 & 3.023857 & 3.695276 & 5.053663 & 5.087892\\\\\n",
       "\tGSM4505815 & 9.470577 & 11.32028 & 6.266544 & 3.916870 & 5.699336 & 5.684052 & 5.583466 & 7.286742 & 5.555661 & 5.377296 & ⋯ & 4.958282 & 3.734034 & 7.155735 & 3.832421 & 6.147892 & 3.232951 & 2.950671 & 4.222785 & 5.302822 & 5.630389\\\\\n",
       "\tGSM4505816 & 9.005315 & 10.68989 & 6.029893 & 4.055520 & 6.114030 & 5.361383 & 5.428657 & 6.356181 & 5.056486 & 4.871640 & ⋯ & 4.758407 & 3.199611 & 7.359878 & 4.234975 & 5.538055 & 3.132322 & 3.330705 & 4.347722 & 4.862523 & 5.046917\\\\\n",
       "\tGSM4505817 & 8.914529 & 10.82360 & 6.430465 & 4.013163 & 6.156909 & 4.780517 & 5.606540 & 6.698649 & 5.313160 & 5.458017 & ⋯ & 4.719867 & 3.272944 & 6.884299 & 4.240961 & 5.549666 & 3.603027 & 3.253354 & 3.792074 & 4.950836 & 4.845475\\\\\n",
       "\tGSM4505818 & 9.102384 & 11.26057 & 6.298412 & 3.986049 & 5.839989 & 5.111051 & 5.737249 & 6.876548 & 5.268361 & 4.971873 & ⋯ & 4.773473 & 3.233161 & 6.324773 & 4.482434 & 5.567406 & 3.345491 & 3.567779 & 3.909546 & 5.048886 & 5.417264\\\\\n",
       "\\end{tabular}\n"
      ],
      "text/markdown": [
       "\n",
       "A data.frame: 6 × 17623\n",
       "\n",
       "| <!--/--> | NR_046018 &lt;dbl&gt; | NR_024368 &lt;dbl&gt; | NR_029406 &lt;dbl&gt; | XR_132471 &lt;dbl&gt; | NR_047526 &lt;dbl&gt; | NM_152486 &lt;dbl&gt; | NM_198317 &lt;dbl&gt; | NM_005101 &lt;dbl&gt; | NM_198576 &lt;dbl&gt; | NR_038869 &lt;dbl&gt; | ⋯ ⋯ | XM_003403688.1 &lt;dbl&gt; | NR_049896.2 &lt;dbl&gt; | XR_133519.1 &lt;dbl&gt; | XR_132462.2 &lt;dbl&gt; | NM_012149 &lt;dbl&gt; | NR_024086 &lt;dbl&gt; | XR_112193 &lt;dbl&gt; | XM_001719777 &lt;dbl&gt; | XR_133541 &lt;dbl&gt; | NM_203348 &lt;dbl&gt; |\n",
       "|---|---|---|---|---|---|---|---|---|---|---|---|---|---|---|---|---|---|---|---|---|---|\n",
       "| GSM4505813 | 8.426488 | 10.62813 | 6.012424 | 4.399510 | 6.294647 | 5.329514 | 5.893486 | 6.627709 | 5.476104 | 5.010456 | ⋯ | 4.829462 | 4.008998 | 7.144405 | 4.161195 | 5.772545 | 3.434427 | 2.853097 | 4.039324 | 4.736561 | 5.138100 |\n",
       "| GSM4505814 | 8.994904 | 10.73934 | 6.323561 | 4.002165 | 6.346021 | 5.162432 | 5.258358 | 6.525893 | 5.103988 | 4.864387 | ⋯ | 4.872092 | 3.228349 | 6.719474 | 4.174266 | 5.723040 | 3.480727 | 3.023857 | 3.695276 | 5.053663 | 5.087892 |\n",
       "| GSM4505815 | 9.470577 | 11.32028 | 6.266544 | 3.916870 | 5.699336 | 5.684052 | 5.583466 | 7.286742 | 5.555661 | 5.377296 | ⋯ | 4.958282 | 3.734034 | 7.155735 | 3.832421 | 6.147892 | 3.232951 | 2.950671 | 4.222785 | 5.302822 | 5.630389 |\n",
       "| GSM4505816 | 9.005315 | 10.68989 | 6.029893 | 4.055520 | 6.114030 | 5.361383 | 5.428657 | 6.356181 | 5.056486 | 4.871640 | ⋯ | 4.758407 | 3.199611 | 7.359878 | 4.234975 | 5.538055 | 3.132322 | 3.330705 | 4.347722 | 4.862523 | 5.046917 |\n",
       "| GSM4505817 | 8.914529 | 10.82360 | 6.430465 | 4.013163 | 6.156909 | 4.780517 | 5.606540 | 6.698649 | 5.313160 | 5.458017 | ⋯ | 4.719867 | 3.272944 | 6.884299 | 4.240961 | 5.549666 | 3.603027 | 3.253354 | 3.792074 | 4.950836 | 4.845475 |\n",
       "| GSM4505818 | 9.102384 | 11.26057 | 6.298412 | 3.986049 | 5.839989 | 5.111051 | 5.737249 | 6.876548 | 5.268361 | 4.971873 | ⋯ | 4.773473 | 3.233161 | 6.324773 | 4.482434 | 5.567406 | 3.345491 | 3.567779 | 3.909546 | 5.048886 | 5.417264 |\n",
       "\n"
      ],
      "text/plain": [
       "           NR_046018 NR_024368 NR_029406 XR_132471 NR_047526 NM_152486\n",
       "GSM4505813 8.426488  10.62813  6.012424  4.399510  6.294647  5.329514 \n",
       "GSM4505814 8.994904  10.73934  6.323561  4.002165  6.346021  5.162432 \n",
       "GSM4505815 9.470577  11.32028  6.266544  3.916870  5.699336  5.684052 \n",
       "GSM4505816 9.005315  10.68989  6.029893  4.055520  6.114030  5.361383 \n",
       "GSM4505817 8.914529  10.82360  6.430465  4.013163  6.156909  4.780517 \n",
       "GSM4505818 9.102384  11.26057  6.298412  3.986049  5.839989  5.111051 \n",
       "           NM_198317 NM_005101 NM_198576 NR_038869 ⋯ XM_003403688.1 NR_049896.2\n",
       "GSM4505813 5.893486  6.627709  5.476104  5.010456  ⋯ 4.829462       4.008998   \n",
       "GSM4505814 5.258358  6.525893  5.103988  4.864387  ⋯ 4.872092       3.228349   \n",
       "GSM4505815 5.583466  7.286742  5.555661  5.377296  ⋯ 4.958282       3.734034   \n",
       "GSM4505816 5.428657  6.356181  5.056486  4.871640  ⋯ 4.758407       3.199611   \n",
       "GSM4505817 5.606540  6.698649  5.313160  5.458017  ⋯ 4.719867       3.272944   \n",
       "GSM4505818 5.737249  6.876548  5.268361  4.971873  ⋯ 4.773473       3.233161   \n",
       "           XR_133519.1 XR_132462.2 NM_012149 NR_024086 XR_112193 XM_001719777\n",
       "GSM4505813 7.144405    4.161195    5.772545  3.434427  2.853097  4.039324    \n",
       "GSM4505814 6.719474    4.174266    5.723040  3.480727  3.023857  3.695276    \n",
       "GSM4505815 7.155735    3.832421    6.147892  3.232951  2.950671  4.222785    \n",
       "GSM4505816 7.359878    4.234975    5.538055  3.132322  3.330705  4.347722    \n",
       "GSM4505817 6.884299    4.240961    5.549666  3.603027  3.253354  3.792074    \n",
       "GSM4505818 6.324773    4.482434    5.567406  3.345491  3.567779  3.909546    \n",
       "           XR_133541 NM_203348\n",
       "GSM4505813 4.736561  5.138100 \n",
       "GSM4505814 5.053663  5.087892 \n",
       "GSM4505815 5.302822  5.630389 \n",
       "GSM4505816 4.862523  5.046917 \n",
       "GSM4505817 4.950836  4.845475 \n",
       "GSM4505818 5.048886  5.417264 "
      ]
     },
     "metadata": {},
     "output_type": "display_data"
    }
   ],
   "source": [
    "head(df)"
   ]
  },
  {
   "cell_type": "code",
   "execution_count": 106,
   "id": "00b05589",
   "metadata": {
    "pycharm": {
     "name": "#%%\n"
    }
   },
   "outputs": [],
   "source": [
    "library(org.Hs.eg.db)"
   ]
  },
  {
   "cell_type": "code",
   "execution_count": 107,
   "id": "f40d28a0",
   "metadata": {
    "pycharm": {
     "name": "#%%\n"
    }
   },
   "outputs": [
    {
     "name": "stderr",
     "output_type": "stream",
     "text": [
      "'select()' returned 1:many mapping between keys and columns\n",
      "\n"
     ]
    }
   ],
   "source": [
    "keys <- keys(org.Hs.eg.db)\n",
    "ref_gene <- select(org.Hs.eg.db, keys=keys, columns = c(\"SYMBOL\", \"REFSEQ\"))"
   ]
  },
  {
   "cell_type": "code",
   "execution_count": 112,
   "id": "d488b6ce",
   "metadata": {
    "scrolled": true,
    "pycharm": {
     "name": "#%%\n"
    }
   },
   "outputs": [],
   "source": [
    "# Make smaller table to speedup the translation\n",
    "ref_gene_df <- data.frame(colnames(df))\n",
    "colnames(ref_gene_df) <- c(\"REFSEQ\")\n",
    "ref_gene <- merge(x=ref_gene, y=ref_gene_df, by=\"REFSEQ\")"
   ]
  },
  {
   "cell_type": "code",
   "execution_count": 113,
   "id": "fa7d6c5e",
   "metadata": {
    "pycharm": {
     "name": "#%%\n"
    }
   },
   "outputs": [],
   "source": [
    "# Get Gene Symbol from platform columns\n",
    "new_col <- c()\n",
    "for (i in colnames(df)) {\n",
    "    new_col <- append(new_col, ref_gene[ref_gene$REFSEQ == i, 'SYMBOL'])\n",
    "}"
   ]
  },
  {
   "cell_type": "code",
   "execution_count": 115,
   "id": "e67d8eca",
   "metadata": {
    "pycharm": {
     "name": "#%%\n"
    }
   },
   "outputs": [],
   "source": [
    "colnames(df) <- new_col"
   ]
  },
  {
   "cell_type": "code",
   "execution_count": 117,
   "id": "e69b0235",
   "metadata": {
    "pycharm": {
     "name": "#%%\n"
    }
   },
   "outputs": [],
   "source": [
    "# Remove NA\n",
    "df <- df[, colSums(is.na(df)) == 0]\n",
    "# Remove columns with all 0s\n",
    "df <- df[, colSums(df) > 0]\n",
    "# Remove columns without gene symbol\n",
    "df <- df[,nzchar(colnames(df))]\n",
    "# Remove double names genes (GENE1 /// GENE2)\n",
    "colnames(df) <- gsub(\" ///.*\", \"\", colnames(df))\n",
    "# Make all columns uppercase\n",
    "colnames(df) <- toupper(colnames(df))"
   ]
  },
  {
   "cell_type": "code",
   "execution_count": 124,
   "id": "33f625fc",
   "metadata": {
    "pycharm": {
     "name": "#%%\n"
    }
   },
   "outputs": [],
   "source": [
    "# Remove columns which start by \"NA\" because they didn't refer to any gene\n",
    "null_columns <- grep(\"NA.\", colnames(df))\n",
    "df <- df[,-null_columns]"
   ]
  },
  {
   "cell_type": "code",
   "execution_count": 125,
   "id": "a05cabba",
   "metadata": {
    "pycharm": {
     "name": "#%%\n"
    }
   },
   "outputs": [
    {
     "data": {
      "text/html": [
       "<table class=\"dataframe\">\n",
       "<caption>A data.frame: 6 × 15550</caption>\n",
       "<thead>\n",
       "\t<tr><th></th><th scope=col>DDX11L1</th><th scope=col>LINC01000</th><th scope=col>RPL23AP87</th><th scope=col>LINC01128</th><th scope=col>SAMD11</th><th scope=col>KLHL17</th><th scope=col>ISG15</th><th scope=col>AGRN</th><th scope=col>LINC01342</th><th scope=col>MIR200B</th><th scope=col>⋯</th><th scope=col>MIR4632</th><th scope=col>MIR4641</th><th scope=col>MIR4658</th><th scope=col>MIR4747</th><th scope=col>MIR4453</th><th scope=col>MIR4469</th><th scope=col>MIR4793</th><th scope=col>DUX5</th><th scope=col>COPG2IT1</th><th scope=col>NA</th></tr>\n",
       "\t<tr><th></th><th scope=col>&lt;dbl&gt;</th><th scope=col>&lt;dbl&gt;</th><th scope=col>&lt;dbl&gt;</th><th scope=col>&lt;dbl&gt;</th><th scope=col>&lt;dbl&gt;</th><th scope=col>&lt;dbl&gt;</th><th scope=col>&lt;dbl&gt;</th><th scope=col>&lt;dbl&gt;</th><th scope=col>&lt;dbl&gt;</th><th scope=col>&lt;dbl&gt;</th><th scope=col>⋯</th><th scope=col>&lt;dbl&gt;</th><th scope=col>&lt;dbl&gt;</th><th scope=col>&lt;dbl&gt;</th><th scope=col>&lt;dbl&gt;</th><th scope=col>&lt;dbl&gt;</th><th scope=col>&lt;dbl&gt;</th><th scope=col>&lt;dbl&gt;</th><th scope=col>&lt;dbl&gt;</th><th scope=col>&lt;dbl&gt;</th><th scope=col>&lt;dbl&gt;</th></tr>\n",
       "</thead>\n",
       "<tbody>\n",
       "\t<tr><th scope=row>GSM4505813</th><td>8.426488</td><td>10.62813</td><td>6.012424</td><td>4.399510</td><td>6.294647</td><td>5.329514</td><td>5.893486</td><td>6.627709</td><td>5.476104</td><td>5.010456</td><td>⋯</td><td>2.346176</td><td>2.971787</td><td>7.256904</td><td>3.009726</td><td>4.273818</td><td>1.620877</td><td>4.332614</td><td>3.713831</td><td>3.028895</td><td>4.116191</td></tr>\n",
       "\t<tr><th scope=row>GSM4505814</th><td>8.994904</td><td>10.73934</td><td>6.323561</td><td>4.002165</td><td>6.346021</td><td>5.162432</td><td>5.258358</td><td>6.525893</td><td>5.103988</td><td>4.864387</td><td>⋯</td><td>2.353896</td><td>3.829023</td><td>7.240062</td><td>3.241480</td><td>4.624471</td><td>1.228825</td><td>4.828307</td><td>3.978035</td><td>3.320887</td><td>3.944383</td></tr>\n",
       "\t<tr><th scope=row>GSM4505815</th><td>9.470577</td><td>11.32028</td><td>6.266544</td><td>3.916870</td><td>5.699336</td><td>5.684052</td><td>5.583466</td><td>7.286742</td><td>5.555661</td><td>5.377296</td><td>⋯</td><td>2.695717</td><td>2.831540</td><td>6.579659</td><td>3.148770</td><td>5.029887</td><td>1.786814</td><td>4.949089</td><td>3.775315</td><td>3.200742</td><td>4.229219</td></tr>\n",
       "\t<tr><th scope=row>GSM4505816</th><td>9.005315</td><td>10.68989</td><td>6.029893</td><td>4.055520</td><td>6.114030</td><td>5.361383</td><td>5.428657</td><td>6.356181</td><td>5.056486</td><td>4.871640</td><td>⋯</td><td>2.104197</td><td>2.997496</td><td>7.122319</td><td>3.614771</td><td>4.392521</td><td>1.640545</td><td>5.086360</td><td>3.540823</td><td>2.924842</td><td>4.536970</td></tr>\n",
       "\t<tr><th scope=row>GSM4505817</th><td>8.914529</td><td>10.82360</td><td>6.430465</td><td>4.013163</td><td>6.156909</td><td>4.780517</td><td>5.606540</td><td>6.698649</td><td>5.313160</td><td>5.458017</td><td>⋯</td><td>2.388887</td><td>3.727300</td><td>7.238576</td><td>3.275639</td><td>4.587617</td><td>1.989560</td><td>4.799526</td><td>3.869301</td><td>2.695159</td><td>3.760633</td></tr>\n",
       "\t<tr><th scope=row>GSM4505818</th><td>9.102384</td><td>11.26057</td><td>6.298412</td><td>3.986049</td><td>5.839989</td><td>5.111051</td><td>5.737249</td><td>6.876548</td><td>5.268361</td><td>4.971873</td><td>⋯</td><td>1.758543</td><td>3.267482</td><td>6.871074</td><td>3.263139</td><td>5.194161</td><td>1.464511</td><td>4.441410</td><td>3.915283</td><td>2.765299</td><td>4.325420</td></tr>\n",
       "</tbody>\n",
       "</table>\n"
      ],
      "text/latex": [
       "A data.frame: 6 × 15550\n",
       "\\begin{tabular}{r|lllllllllllllllllllll}\n",
       "  & DDX11L1 & LINC01000 & RPL23AP87 & LINC01128 & SAMD11 & KLHL17 & ISG15 & AGRN & LINC01342 & MIR200B & ⋯ & MIR4632 & MIR4641 & MIR4658 & MIR4747 & MIR4453 & MIR4469 & MIR4793 & DUX5 & COPG2IT1 & NA\\\\\n",
       "  & <dbl> & <dbl> & <dbl> & <dbl> & <dbl> & <dbl> & <dbl> & <dbl> & <dbl> & <dbl> & ⋯ & <dbl> & <dbl> & <dbl> & <dbl> & <dbl> & <dbl> & <dbl> & <dbl> & <dbl> & <dbl>\\\\\n",
       "\\hline\n",
       "\tGSM4505813 & 8.426488 & 10.62813 & 6.012424 & 4.399510 & 6.294647 & 5.329514 & 5.893486 & 6.627709 & 5.476104 & 5.010456 & ⋯ & 2.346176 & 2.971787 & 7.256904 & 3.009726 & 4.273818 & 1.620877 & 4.332614 & 3.713831 & 3.028895 & 4.116191\\\\\n",
       "\tGSM4505814 & 8.994904 & 10.73934 & 6.323561 & 4.002165 & 6.346021 & 5.162432 & 5.258358 & 6.525893 & 5.103988 & 4.864387 & ⋯ & 2.353896 & 3.829023 & 7.240062 & 3.241480 & 4.624471 & 1.228825 & 4.828307 & 3.978035 & 3.320887 & 3.944383\\\\\n",
       "\tGSM4505815 & 9.470577 & 11.32028 & 6.266544 & 3.916870 & 5.699336 & 5.684052 & 5.583466 & 7.286742 & 5.555661 & 5.377296 & ⋯ & 2.695717 & 2.831540 & 6.579659 & 3.148770 & 5.029887 & 1.786814 & 4.949089 & 3.775315 & 3.200742 & 4.229219\\\\\n",
       "\tGSM4505816 & 9.005315 & 10.68989 & 6.029893 & 4.055520 & 6.114030 & 5.361383 & 5.428657 & 6.356181 & 5.056486 & 4.871640 & ⋯ & 2.104197 & 2.997496 & 7.122319 & 3.614771 & 4.392521 & 1.640545 & 5.086360 & 3.540823 & 2.924842 & 4.536970\\\\\n",
       "\tGSM4505817 & 8.914529 & 10.82360 & 6.430465 & 4.013163 & 6.156909 & 4.780517 & 5.606540 & 6.698649 & 5.313160 & 5.458017 & ⋯ & 2.388887 & 3.727300 & 7.238576 & 3.275639 & 4.587617 & 1.989560 & 4.799526 & 3.869301 & 2.695159 & 3.760633\\\\\n",
       "\tGSM4505818 & 9.102384 & 11.26057 & 6.298412 & 3.986049 & 5.839989 & 5.111051 & 5.737249 & 6.876548 & 5.268361 & 4.971873 & ⋯ & 1.758543 & 3.267482 & 6.871074 & 3.263139 & 5.194161 & 1.464511 & 4.441410 & 3.915283 & 2.765299 & 4.325420\\\\\n",
       "\\end{tabular}\n"
      ],
      "text/markdown": [
       "\n",
       "A data.frame: 6 × 15550\n",
       "\n",
       "| <!--/--> | DDX11L1 &lt;dbl&gt; | LINC01000 &lt;dbl&gt; | RPL23AP87 &lt;dbl&gt; | LINC01128 &lt;dbl&gt; | SAMD11 &lt;dbl&gt; | KLHL17 &lt;dbl&gt; | ISG15 &lt;dbl&gt; | AGRN &lt;dbl&gt; | LINC01342 &lt;dbl&gt; | MIR200B &lt;dbl&gt; | ⋯ ⋯ | MIR4632 &lt;dbl&gt; | MIR4641 &lt;dbl&gt; | MIR4658 &lt;dbl&gt; | MIR4747 &lt;dbl&gt; | MIR4453 &lt;dbl&gt; | MIR4469 &lt;dbl&gt; | MIR4793 &lt;dbl&gt; | DUX5 &lt;dbl&gt; | COPG2IT1 &lt;dbl&gt; | NA &lt;dbl&gt; |\n",
       "|---|---|---|---|---|---|---|---|---|---|---|---|---|---|---|---|---|---|---|---|---|---|\n",
       "| GSM4505813 | 8.426488 | 10.62813 | 6.012424 | 4.399510 | 6.294647 | 5.329514 | 5.893486 | 6.627709 | 5.476104 | 5.010456 | ⋯ | 2.346176 | 2.971787 | 7.256904 | 3.009726 | 4.273818 | 1.620877 | 4.332614 | 3.713831 | 3.028895 | 4.116191 |\n",
       "| GSM4505814 | 8.994904 | 10.73934 | 6.323561 | 4.002165 | 6.346021 | 5.162432 | 5.258358 | 6.525893 | 5.103988 | 4.864387 | ⋯ | 2.353896 | 3.829023 | 7.240062 | 3.241480 | 4.624471 | 1.228825 | 4.828307 | 3.978035 | 3.320887 | 3.944383 |\n",
       "| GSM4505815 | 9.470577 | 11.32028 | 6.266544 | 3.916870 | 5.699336 | 5.684052 | 5.583466 | 7.286742 | 5.555661 | 5.377296 | ⋯ | 2.695717 | 2.831540 | 6.579659 | 3.148770 | 5.029887 | 1.786814 | 4.949089 | 3.775315 | 3.200742 | 4.229219 |\n",
       "| GSM4505816 | 9.005315 | 10.68989 | 6.029893 | 4.055520 | 6.114030 | 5.361383 | 5.428657 | 6.356181 | 5.056486 | 4.871640 | ⋯ | 2.104197 | 2.997496 | 7.122319 | 3.614771 | 4.392521 | 1.640545 | 5.086360 | 3.540823 | 2.924842 | 4.536970 |\n",
       "| GSM4505817 | 8.914529 | 10.82360 | 6.430465 | 4.013163 | 6.156909 | 4.780517 | 5.606540 | 6.698649 | 5.313160 | 5.458017 | ⋯ | 2.388887 | 3.727300 | 7.238576 | 3.275639 | 4.587617 | 1.989560 | 4.799526 | 3.869301 | 2.695159 | 3.760633 |\n",
       "| GSM4505818 | 9.102384 | 11.26057 | 6.298412 | 3.986049 | 5.839989 | 5.111051 | 5.737249 | 6.876548 | 5.268361 | 4.971873 | ⋯ | 1.758543 | 3.267482 | 6.871074 | 3.263139 | 5.194161 | 1.464511 | 4.441410 | 3.915283 | 2.765299 | 4.325420 |\n",
       "\n"
      ],
      "text/plain": [
       "           DDX11L1  LINC01000 RPL23AP87 LINC01128 SAMD11   KLHL17   ISG15   \n",
       "GSM4505813 8.426488 10.62813  6.012424  4.399510  6.294647 5.329514 5.893486\n",
       "GSM4505814 8.994904 10.73934  6.323561  4.002165  6.346021 5.162432 5.258358\n",
       "GSM4505815 9.470577 11.32028  6.266544  3.916870  5.699336 5.684052 5.583466\n",
       "GSM4505816 9.005315 10.68989  6.029893  4.055520  6.114030 5.361383 5.428657\n",
       "GSM4505817 8.914529 10.82360  6.430465  4.013163  6.156909 4.780517 5.606540\n",
       "GSM4505818 9.102384 11.26057  6.298412  3.986049  5.839989 5.111051 5.737249\n",
       "           AGRN     LINC01342 MIR200B  ⋯ MIR4632  MIR4641  MIR4658  MIR4747 \n",
       "GSM4505813 6.627709 5.476104  5.010456 ⋯ 2.346176 2.971787 7.256904 3.009726\n",
       "GSM4505814 6.525893 5.103988  4.864387 ⋯ 2.353896 3.829023 7.240062 3.241480\n",
       "GSM4505815 7.286742 5.555661  5.377296 ⋯ 2.695717 2.831540 6.579659 3.148770\n",
       "GSM4505816 6.356181 5.056486  4.871640 ⋯ 2.104197 2.997496 7.122319 3.614771\n",
       "GSM4505817 6.698649 5.313160  5.458017 ⋯ 2.388887 3.727300 7.238576 3.275639\n",
       "GSM4505818 6.876548 5.268361  4.971873 ⋯ 1.758543 3.267482 6.871074 3.263139\n",
       "           MIR4453  MIR4469  MIR4793  DUX5     COPG2IT1 <NA>    \n",
       "GSM4505813 4.273818 1.620877 4.332614 3.713831 3.028895 4.116191\n",
       "GSM4505814 4.624471 1.228825 4.828307 3.978035 3.320887 3.944383\n",
       "GSM4505815 5.029887 1.786814 4.949089 3.775315 3.200742 4.229219\n",
       "GSM4505816 4.392521 1.640545 5.086360 3.540823 2.924842 4.536970\n",
       "GSM4505817 4.587617 1.989560 4.799526 3.869301 2.695159 3.760633\n",
       "GSM4505818 5.194161 1.464511 4.441410 3.915283 2.765299 4.325420"
      ]
     },
     "metadata": {},
     "output_type": "display_data"
    }
   ],
   "source": [
    "head(df)"
   ]
  },
  {
   "cell_type": "code",
   "execution_count": 126,
   "id": "715ad99e",
   "metadata": {
    "pycharm": {
     "name": "#%%\n"
    }
   },
   "outputs": [],
   "source": [
    "write.table(df, file=paste(dataPath, csv_name, sep=\"\"), sep=\",\")"
   ]
  },
  {
   "cell_type": "markdown",
   "id": "6f048ad9",
   "metadata": {
    "pycharm": {
     "name": "#%% md\n"
    }
   },
   "source": [
    "# Monogenic diabetes"
   ]
  },
  {
   "cell_type": "code",
   "execution_count": 127,
   "id": "17968c8a",
   "metadata": {
    "pycharm": {
     "name": "#%%\n"
    }
   },
   "outputs": [],
   "source": [
    "csv_name = 'Monogenic_diabetes_GSE188827.csv'"
   ]
  },
  {
   "cell_type": "code",
   "execution_count": 128,
   "id": "b9a3d35a",
   "metadata": {
    "pycharm": {
     "name": "#%%\n"
    }
   },
   "outputs": [],
   "source": [
    "df <- read.csv(file=paste(dataPath, csv_name, sep=\"\"), header=TRUE)"
   ]
  },
  {
   "cell_type": "code",
   "execution_count": 129,
   "id": "65431dd9",
   "metadata": {
    "scrolled": false,
    "pycharm": {
     "name": "#%%\n"
    }
   },
   "outputs": [
    {
     "data": {
      "text/html": [
       "<table class=\"dataframe\">\n",
       "<caption>A data.frame: 3 × 45368</caption>\n",
       "<thead>\n",
       "\t<tr><th></th><th scope=col>MIR6859.1</th><th scope=col>MIR1302.2HG</th><th scope=col>MIR1302.2</th><th scope=col>FAM138A</th><th scope=col>OR4F5</th><th scope=col>AL627309.1</th><th scope=col>AL627309.3</th><th scope=col>AL627309.2</th><th scope=col>AL627309.5</th><th scope=col>RNU6.1100P</th><th scope=col>⋯</th><th scope=col>MT.ND4</th><th scope=col>MT.TH</th><th scope=col>MT.TS2</th><th scope=col>MT.TL2</th><th scope=col>MT.ND5</th><th scope=col>MT.ND6</th><th scope=col>MT.TE</th><th scope=col>MT.CYB</th><th scope=col>MT.TT</th><th scope=col>MT.TP</th></tr>\n",
       "\t<tr><th></th><th scope=col>&lt;int&gt;</th><th scope=col>&lt;int&gt;</th><th scope=col>&lt;int&gt;</th><th scope=col>&lt;int&gt;</th><th scope=col>&lt;int&gt;</th><th scope=col>&lt;int&gt;</th><th scope=col>&lt;int&gt;</th><th scope=col>&lt;int&gt;</th><th scope=col>&lt;int&gt;</th><th scope=col>&lt;int&gt;</th><th scope=col>⋯</th><th scope=col>&lt;int&gt;</th><th scope=col>&lt;int&gt;</th><th scope=col>&lt;int&gt;</th><th scope=col>&lt;int&gt;</th><th scope=col>&lt;int&gt;</th><th scope=col>&lt;int&gt;</th><th scope=col>&lt;int&gt;</th><th scope=col>&lt;int&gt;</th><th scope=col>&lt;int&gt;</th><th scope=col>&lt;int&gt;</th></tr>\n",
       "</thead>\n",
       "<tbody>\n",
       "\t<tr><th scope=row>X6A._2D...30582.001.R1...Total.counts</th><td>0</td><td> 5</td><td>0</td><td>0</td><td> 1</td><td>38</td><td>0</td><td>0</td><td>414</td><td>0</td><td>⋯</td><td>36146</td><td>1</td><td>27</td><td>1</td><td>28946</td><td>1912</td><td>11</td><td>10502</td><td>2</td><td>1</td></tr>\n",
       "\t<tr><th scope=row>X6D_2D...30582.002.R1...Total.counts</th><td>0</td><td>42</td><td>0</td><td>0</td><td> 0</td><td>35</td><td>0</td><td>0</td><td>300</td><td>0</td><td>⋯</td><td>30024</td><td>0</td><td>11</td><td>0</td><td>29539</td><td>2416</td><td> 5</td><td>12480</td><td>2</td><td>1</td></tr>\n",
       "\t<tr><th scope=row>X6F_2D...30582.003.R1...Total.counts</th><td>0</td><td>13</td><td>0</td><td>1</td><td>12</td><td>43</td><td>0</td><td>0</td><td>485</td><td>0</td><td>⋯</td><td>48557</td><td>6</td><td>17</td><td>0</td><td>43190</td><td>1921</td><td>13</td><td>22531</td><td>1</td><td>0</td></tr>\n",
       "</tbody>\n",
       "</table>\n"
      ],
      "text/latex": [
       "A data.frame: 3 × 45368\n",
       "\\begin{tabular}{r|lllllllllllllllllllll}\n",
       "  & MIR6859.1 & MIR1302.2HG & MIR1302.2 & FAM138A & OR4F5 & AL627309.1 & AL627309.3 & AL627309.2 & AL627309.5 & RNU6.1100P & ⋯ & MT.ND4 & MT.TH & MT.TS2 & MT.TL2 & MT.ND5 & MT.ND6 & MT.TE & MT.CYB & MT.TT & MT.TP\\\\\n",
       "  & <int> & <int> & <int> & <int> & <int> & <int> & <int> & <int> & <int> & <int> & ⋯ & <int> & <int> & <int> & <int> & <int> & <int> & <int> & <int> & <int> & <int>\\\\\n",
       "\\hline\n",
       "\tX6A.\\_2D...30582.001.R1...Total.counts & 0 &  5 & 0 & 0 &  1 & 38 & 0 & 0 & 414 & 0 & ⋯ & 36146 & 1 & 27 & 1 & 28946 & 1912 & 11 & 10502 & 2 & 1\\\\\n",
       "\tX6D\\_2D...30582.002.R1...Total.counts & 0 & 42 & 0 & 0 &  0 & 35 & 0 & 0 & 300 & 0 & ⋯ & 30024 & 0 & 11 & 0 & 29539 & 2416 &  5 & 12480 & 2 & 1\\\\\n",
       "\tX6F\\_2D...30582.003.R1...Total.counts & 0 & 13 & 0 & 1 & 12 & 43 & 0 & 0 & 485 & 0 & ⋯ & 48557 & 6 & 17 & 0 & 43190 & 1921 & 13 & 22531 & 1 & 0\\\\\n",
       "\\end{tabular}\n"
      ],
      "text/markdown": [
       "\n",
       "A data.frame: 3 × 45368\n",
       "\n",
       "| <!--/--> | MIR6859.1 &lt;int&gt; | MIR1302.2HG &lt;int&gt; | MIR1302.2 &lt;int&gt; | FAM138A &lt;int&gt; | OR4F5 &lt;int&gt; | AL627309.1 &lt;int&gt; | AL627309.3 &lt;int&gt; | AL627309.2 &lt;int&gt; | AL627309.5 &lt;int&gt; | RNU6.1100P &lt;int&gt; | ⋯ ⋯ | MT.ND4 &lt;int&gt; | MT.TH &lt;int&gt; | MT.TS2 &lt;int&gt; | MT.TL2 &lt;int&gt; | MT.ND5 &lt;int&gt; | MT.ND6 &lt;int&gt; | MT.TE &lt;int&gt; | MT.CYB &lt;int&gt; | MT.TT &lt;int&gt; | MT.TP &lt;int&gt; |\n",
       "|---|---|---|---|---|---|---|---|---|---|---|---|---|---|---|---|---|---|---|---|---|---|\n",
       "| X6A._2D...30582.001.R1...Total.counts | 0 |  5 | 0 | 0 |  1 | 38 | 0 | 0 | 414 | 0 | ⋯ | 36146 | 1 | 27 | 1 | 28946 | 1912 | 11 | 10502 | 2 | 1 |\n",
       "| X6D_2D...30582.002.R1...Total.counts | 0 | 42 | 0 | 0 |  0 | 35 | 0 | 0 | 300 | 0 | ⋯ | 30024 | 0 | 11 | 0 | 29539 | 2416 |  5 | 12480 | 2 | 1 |\n",
       "| X6F_2D...30582.003.R1...Total.counts | 0 | 13 | 0 | 1 | 12 | 43 | 0 | 0 | 485 | 0 | ⋯ | 48557 | 6 | 17 | 0 | 43190 | 1921 | 13 | 22531 | 1 | 0 |\n",
       "\n"
      ],
      "text/plain": [
       "                                      MIR6859.1 MIR1302.2HG MIR1302.2 FAM138A\n",
       "X6A._2D...30582.001.R1...Total.counts 0          5          0         0      \n",
       "X6D_2D...30582.002.R1...Total.counts  0         42          0         0      \n",
       "X6F_2D...30582.003.R1...Total.counts  0         13          0         1      \n",
       "                                      OR4F5 AL627309.1 AL627309.3 AL627309.2\n",
       "X6A._2D...30582.001.R1...Total.counts  1    38         0          0         \n",
       "X6D_2D...30582.002.R1...Total.counts   0    35         0          0         \n",
       "X6F_2D...30582.003.R1...Total.counts  12    43         0          0         \n",
       "                                      AL627309.5 RNU6.1100P ⋯ MT.ND4 MT.TH\n",
       "X6A._2D...30582.001.R1...Total.counts 414        0          ⋯ 36146  1    \n",
       "X6D_2D...30582.002.R1...Total.counts  300        0          ⋯ 30024  0    \n",
       "X6F_2D...30582.003.R1...Total.counts  485        0          ⋯ 48557  6    \n",
       "                                      MT.TS2 MT.TL2 MT.ND5 MT.ND6 MT.TE MT.CYB\n",
       "X6A._2D...30582.001.R1...Total.counts 27     1      28946  1912   11    10502 \n",
       "X6D_2D...30582.002.R1...Total.counts  11     0      29539  2416    5    12480 \n",
       "X6F_2D...30582.003.R1...Total.counts  17     0      43190  1921   13    22531 \n",
       "                                      MT.TT MT.TP\n",
       "X6A._2D...30582.001.R1...Total.counts 2     1    \n",
       "X6D_2D...30582.002.R1...Total.counts  2     1    \n",
       "X6F_2D...30582.003.R1...Total.counts  1     0    "
      ]
     },
     "metadata": {},
     "output_type": "display_data"
    }
   ],
   "source": [
    "head(df)"
   ]
  },
  {
   "cell_type": "code",
   "execution_count": 139,
   "id": "9767b09b",
   "metadata": {
    "pycharm": {
     "name": "#%%\n"
    }
   },
   "outputs": [],
   "source": [
    "# Remove NA\n",
    "df <- df[, colSums(is.na(df)) == 0]\n",
    "# Remove columns with all 0s\n",
    "df <- df[, colSums(df) > 0]\n",
    "# Remove columns without gene symbol\n",
    "df <- df[,nzchar(colnames(df))]\n",
    "# Remove double names genes (GENE1 /// GENE2)\n",
    "colnames(df) <- gsub(\" ///.*\", \"\", colnames(df))\n",
    "# Make all columns uppercase\n",
    "colnames(df) <- toupper(colnames(df))"
   ]
  },
  {
   "cell_type": "code",
   "execution_count": 140,
   "id": "1b66fc6c",
   "metadata": {
    "pycharm": {
     "name": "#%%\n"
    }
   },
   "outputs": [
    {
     "data": {
      "text/html": [
       "<table class=\"dataframe\">\n",
       "<caption>A data.frame: 3 × 37255</caption>\n",
       "<thead>\n",
       "\t<tr><th></th><th scope=col>MIR1302.2HG</th><th scope=col>FAM138A</th><th scope=col>OR4F5</th><th scope=col>AL627309.1</th><th scope=col>AL627309.5</th><th scope=col>AL627309.4</th><th scope=col>AP006222.2</th><th scope=col>AL732372.1</th><th scope=col>OR4F29</th><th scope=col>AC114498.1</th><th scope=col>⋯</th><th scope=col>MT.ND4</th><th scope=col>MT.TH</th><th scope=col>MT.TS2</th><th scope=col>MT.TL2</th><th scope=col>MT.ND5</th><th scope=col>MT.ND6</th><th scope=col>MT.TE</th><th scope=col>MT.CYB</th><th scope=col>MT.TT</th><th scope=col>MT.TP</th></tr>\n",
       "\t<tr><th></th><th scope=col>&lt;int&gt;</th><th scope=col>&lt;int&gt;</th><th scope=col>&lt;int&gt;</th><th scope=col>&lt;int&gt;</th><th scope=col>&lt;int&gt;</th><th scope=col>&lt;int&gt;</th><th scope=col>&lt;int&gt;</th><th scope=col>&lt;int&gt;</th><th scope=col>&lt;int&gt;</th><th scope=col>&lt;int&gt;</th><th scope=col>⋯</th><th scope=col>&lt;int&gt;</th><th scope=col>&lt;int&gt;</th><th scope=col>&lt;int&gt;</th><th scope=col>&lt;int&gt;</th><th scope=col>&lt;int&gt;</th><th scope=col>&lt;int&gt;</th><th scope=col>&lt;int&gt;</th><th scope=col>&lt;int&gt;</th><th scope=col>&lt;int&gt;</th><th scope=col>&lt;int&gt;</th></tr>\n",
       "</thead>\n",
       "<tbody>\n",
       "\t<tr><th scope=row>X6A._2D...30582.001.R1...Total.counts</th><td> 5</td><td>0</td><td> 1</td><td>38</td><td>414</td><td>2</td><td>10</td><td>9</td><td>10</td><td>1</td><td>⋯</td><td>36146</td><td>1</td><td>27</td><td>1</td><td>28946</td><td>1912</td><td>11</td><td>10502</td><td>2</td><td>1</td></tr>\n",
       "\t<tr><th scope=row>X6D_2D...30582.002.R1...Total.counts</th><td>42</td><td>0</td><td> 0</td><td>35</td><td>300</td><td>3</td><td>10</td><td>0</td><td> 3</td><td>0</td><td>⋯</td><td>30024</td><td>0</td><td>11</td><td>0</td><td>29539</td><td>2416</td><td> 5</td><td>12480</td><td>2</td><td>1</td></tr>\n",
       "\t<tr><th scope=row>X6F_2D...30582.003.R1...Total.counts</th><td>13</td><td>1</td><td>12</td><td>43</td><td>485</td><td>2</td><td> 7</td><td>0</td><td> 2</td><td>0</td><td>⋯</td><td>48557</td><td>6</td><td>17</td><td>0</td><td>43190</td><td>1921</td><td>13</td><td>22531</td><td>1</td><td>0</td></tr>\n",
       "</tbody>\n",
       "</table>\n"
      ],
      "text/latex": [
       "A data.frame: 3 × 37255\n",
       "\\begin{tabular}{r|lllllllllllllllllllll}\n",
       "  & MIR1302.2HG & FAM138A & OR4F5 & AL627309.1 & AL627309.5 & AL627309.4 & AP006222.2 & AL732372.1 & OR4F29 & AC114498.1 & ⋯ & MT.ND4 & MT.TH & MT.TS2 & MT.TL2 & MT.ND5 & MT.ND6 & MT.TE & MT.CYB & MT.TT & MT.TP\\\\\n",
       "  & <int> & <int> & <int> & <int> & <int> & <int> & <int> & <int> & <int> & <int> & ⋯ & <int> & <int> & <int> & <int> & <int> & <int> & <int> & <int> & <int> & <int>\\\\\n",
       "\\hline\n",
       "\tX6A.\\_2D...30582.001.R1...Total.counts &  5 & 0 &  1 & 38 & 414 & 2 & 10 & 9 & 10 & 1 & ⋯ & 36146 & 1 & 27 & 1 & 28946 & 1912 & 11 & 10502 & 2 & 1\\\\\n",
       "\tX6D\\_2D...30582.002.R1...Total.counts & 42 & 0 &  0 & 35 & 300 & 3 & 10 & 0 &  3 & 0 & ⋯ & 30024 & 0 & 11 & 0 & 29539 & 2416 &  5 & 12480 & 2 & 1\\\\\n",
       "\tX6F\\_2D...30582.003.R1...Total.counts & 13 & 1 & 12 & 43 & 485 & 2 &  7 & 0 &  2 & 0 & ⋯ & 48557 & 6 & 17 & 0 & 43190 & 1921 & 13 & 22531 & 1 & 0\\\\\n",
       "\\end{tabular}\n"
      ],
      "text/markdown": [
       "\n",
       "A data.frame: 3 × 37255\n",
       "\n",
       "| <!--/--> | MIR1302.2HG &lt;int&gt; | FAM138A &lt;int&gt; | OR4F5 &lt;int&gt; | AL627309.1 &lt;int&gt; | AL627309.5 &lt;int&gt; | AL627309.4 &lt;int&gt; | AP006222.2 &lt;int&gt; | AL732372.1 &lt;int&gt; | OR4F29 &lt;int&gt; | AC114498.1 &lt;int&gt; | ⋯ ⋯ | MT.ND4 &lt;int&gt; | MT.TH &lt;int&gt; | MT.TS2 &lt;int&gt; | MT.TL2 &lt;int&gt; | MT.ND5 &lt;int&gt; | MT.ND6 &lt;int&gt; | MT.TE &lt;int&gt; | MT.CYB &lt;int&gt; | MT.TT &lt;int&gt; | MT.TP &lt;int&gt; |\n",
       "|---|---|---|---|---|---|---|---|---|---|---|---|---|---|---|---|---|---|---|---|---|---|\n",
       "| X6A._2D...30582.001.R1...Total.counts |  5 | 0 |  1 | 38 | 414 | 2 | 10 | 9 | 10 | 1 | ⋯ | 36146 | 1 | 27 | 1 | 28946 | 1912 | 11 | 10502 | 2 | 1 |\n",
       "| X6D_2D...30582.002.R1...Total.counts | 42 | 0 |  0 | 35 | 300 | 3 | 10 | 0 |  3 | 0 | ⋯ | 30024 | 0 | 11 | 0 | 29539 | 2416 |  5 | 12480 | 2 | 1 |\n",
       "| X6F_2D...30582.003.R1...Total.counts | 13 | 1 | 12 | 43 | 485 | 2 |  7 | 0 |  2 | 0 | ⋯ | 48557 | 6 | 17 | 0 | 43190 | 1921 | 13 | 22531 | 1 | 0 |\n",
       "\n"
      ],
      "text/plain": [
       "                                      MIR1302.2HG FAM138A OR4F5 AL627309.1\n",
       "X6A._2D...30582.001.R1...Total.counts  5          0        1    38        \n",
       "X6D_2D...30582.002.R1...Total.counts  42          0        0    35        \n",
       "X6F_2D...30582.003.R1...Total.counts  13          1       12    43        \n",
       "                                      AL627309.5 AL627309.4 AP006222.2\n",
       "X6A._2D...30582.001.R1...Total.counts 414        2          10        \n",
       "X6D_2D...30582.002.R1...Total.counts  300        3          10        \n",
       "X6F_2D...30582.003.R1...Total.counts  485        2           7        \n",
       "                                      AL732372.1 OR4F29 AC114498.1 ⋯ MT.ND4\n",
       "X6A._2D...30582.001.R1...Total.counts 9          10     1          ⋯ 36146 \n",
       "X6D_2D...30582.002.R1...Total.counts  0           3     0          ⋯ 30024 \n",
       "X6F_2D...30582.003.R1...Total.counts  0           2     0          ⋯ 48557 \n",
       "                                      MT.TH MT.TS2 MT.TL2 MT.ND5 MT.ND6 MT.TE\n",
       "X6A._2D...30582.001.R1...Total.counts 1     27     1      28946  1912   11   \n",
       "X6D_2D...30582.002.R1...Total.counts  0     11     0      29539  2416    5   \n",
       "X6F_2D...30582.003.R1...Total.counts  6     17     0      43190  1921   13   \n",
       "                                      MT.CYB MT.TT MT.TP\n",
       "X6A._2D...30582.001.R1...Total.counts 10502  2     1    \n",
       "X6D_2D...30582.002.R1...Total.counts  12480  2     1    \n",
       "X6F_2D...30582.003.R1...Total.counts  22531  1     0    "
      ]
     },
     "metadata": {},
     "output_type": "display_data"
    }
   ],
   "source": [
    "head(df)"
   ]
  },
  {
   "cell_type": "code",
   "execution_count": 141,
   "id": "e22ba7d8",
   "metadata": {
    "pycharm": {
     "name": "#%%\n"
    }
   },
   "outputs": [],
   "source": [
    "write.table(df, file=paste(dataPath, csv_name, sep=\"\"), sep=\",\")"
   ]
  },
  {
   "cell_type": "markdown",
   "id": "2405cdb8",
   "metadata": {
    "pycharm": {
     "name": "#%% md\n"
    }
   },
   "source": [
    "# TPMT"
   ]
  },
  {
   "cell_type": "code",
   "execution_count": 142,
   "id": "86837072",
   "metadata": {
    "pycharm": {
     "name": "#%%\n"
    }
   },
   "outputs": [],
   "source": [
    "csv_name = 'TPMT_deficiency_GSE105074_colon.csv'"
   ]
  },
  {
   "cell_type": "code",
   "execution_count": 148,
   "id": "d97871ec",
   "metadata": {
    "pycharm": {
     "name": "#%%\n"
    }
   },
   "outputs": [],
   "source": [
    "df <- read.csv(file=paste(dataPath, csv_name, sep=\"\"), header=TRUE)"
   ]
  },
  {
   "cell_type": "code",
   "execution_count": 152,
   "id": "d7c97192",
   "metadata": {
    "scrolled": true,
    "pycharm": {
     "name": "#%%\n"
    }
   },
   "outputs": [
    {
     "data": {
      "text/html": [
       "<table class=\"dataframe\">\n",
       "<caption>A data.frame: 6 × 22607</caption>\n",
       "<thead>\n",
       "\t<tr><th></th><th scope=col>EEF1A1</th><th scope=col>GAPDH</th><th scope=col>RPS28</th><th scope=col>IPO13</th><th scope=col>CDT1</th><th scope=col>LPP</th><th scope=col>FLJ36848</th><th scope=col>HNRNPAB</th><th scope=col>LOH12CR1</th><th scope=col>SNIP1</th><th scope=col>⋯</th><th scope=col>MIR1323</th><th scope=col>MIR21</th><th scope=col>MIR708</th><th scope=col>MIR1206</th><th scope=col>MIR326</th><th scope=col>MIR212</th><th scope=col>MIR33B</th><th scope=col>MIR1915</th><th scope=col>SNORD114.2</th><th scope=col>NCRNA00173</th></tr>\n",
       "\t<tr><th></th><th scope=col>&lt;dbl&gt;</th><th scope=col>&lt;dbl&gt;</th><th scope=col>&lt;dbl&gt;</th><th scope=col>&lt;dbl&gt;</th><th scope=col>&lt;dbl&gt;</th><th scope=col>&lt;dbl&gt;</th><th scope=col>&lt;dbl&gt;</th><th scope=col>&lt;dbl&gt;</th><th scope=col>&lt;dbl&gt;</th><th scope=col>&lt;dbl&gt;</th><th scope=col>⋯</th><th scope=col>&lt;dbl&gt;</th><th scope=col>&lt;dbl&gt;</th><th scope=col>&lt;dbl&gt;</th><th scope=col>&lt;dbl&gt;</th><th scope=col>&lt;dbl&gt;</th><th scope=col>&lt;dbl&gt;</th><th scope=col>&lt;dbl&gt;</th><th scope=col>&lt;dbl&gt;</th><th scope=col>&lt;dbl&gt;</th><th scope=col>&lt;dbl&gt;</th></tr>\n",
       "</thead>\n",
       "<tbody>\n",
       "\t<tr><th scope=row>GSM2817541</th><td>13.64481</td><td>12.40319</td><td>10.38449</td><td>7.590015</td><td>7.912756</td><td>11.27456</td><td>7.171634</td><td>12.04086</td><td>6.826576</td><td>8.342355</td><td>⋯</td><td>6.837659</td><td>6.812695</td><td>6.881034</td><td>6.849228</td><td>6.739612</td><td>6.853754</td><td>6.831605</td><td>6.904387</td><td>6.962242</td><td>6.937679</td></tr>\n",
       "\t<tr><th scope=row>GSM2817542</th><td>13.96538</td><td>12.25442</td><td>10.03633</td><td>7.648298</td><td>7.622234</td><td>11.41729</td><td>7.321077</td><td>12.13418</td><td>6.792153</td><td>8.314609</td><td>⋯</td><td>6.932993</td><td>6.978373</td><td>6.953917</td><td>7.125832</td><td>6.981325</td><td>6.808266</td><td>7.042811</td><td>7.126413</td><td>7.162367</td><td>6.942887</td></tr>\n",
       "\t<tr><th scope=row>GSM2817543</th><td>13.57105</td><td>12.32100</td><td>10.12464</td><td>7.911876</td><td>7.419815</td><td>11.42628</td><td>6.983852</td><td>11.94789</td><td>6.892973</td><td>8.321148</td><td>⋯</td><td>6.922442</td><td>6.917750</td><td>6.961512</td><td>6.819651</td><td>6.746120</td><td>6.719426</td><td>6.817881</td><td>6.678560</td><td>7.044067</td><td>6.872669</td></tr>\n",
       "\t<tr><th scope=row>GSM2817544</th><td>13.78871</td><td>12.07161</td><td>10.30719</td><td>7.640305</td><td>7.696911</td><td>11.44371</td><td>7.431970</td><td>12.23676</td><td>6.788516</td><td>8.203980</td><td>⋯</td><td>6.884778</td><td>6.814788</td><td>6.851034</td><td>6.911141</td><td>6.849615</td><td>6.795676</td><td>6.854515</td><td>6.849070</td><td>7.046170</td><td>6.875422</td></tr>\n",
       "\t<tr><th scope=row>GSM2817545</th><td>13.71651</td><td>12.19751</td><td>10.16028</td><td>8.126870</td><td>7.127398</td><td>11.50464</td><td>6.909118</td><td>11.66210</td><td>6.732931</td><td>8.527528</td><td>⋯</td><td>7.166601</td><td>6.987090</td><td>6.941556</td><td>6.795586</td><td>6.998717</td><td>6.896027</td><td>6.811875</td><td>7.317758</td><td>6.863090</td><td>7.195713</td></tr>\n",
       "\t<tr><th scope=row>GSM2817546</th><td>13.69787</td><td>12.24746</td><td>10.54064</td><td>7.542460</td><td>7.726057</td><td>11.12604</td><td>7.195175</td><td>11.97288</td><td>6.875122</td><td>8.613182</td><td>⋯</td><td>6.803078</td><td>6.895575</td><td>7.027187</td><td>6.909986</td><td>6.763764</td><td>6.942405</td><td>6.879047</td><td>6.910719</td><td>7.068710</td><td>6.974410</td></tr>\n",
       "</tbody>\n",
       "</table>\n"
      ],
      "text/latex": [
       "A data.frame: 6 × 22607\n",
       "\\begin{tabular}{r|lllllllllllllllllllll}\n",
       "  & EEF1A1 & GAPDH & RPS28 & IPO13 & CDT1 & LPP & FLJ36848 & HNRNPAB & LOH12CR1 & SNIP1 & ⋯ & MIR1323 & MIR21 & MIR708 & MIR1206 & MIR326 & MIR212 & MIR33B & MIR1915 & SNORD114.2 & NCRNA00173\\\\\n",
       "  & <dbl> & <dbl> & <dbl> & <dbl> & <dbl> & <dbl> & <dbl> & <dbl> & <dbl> & <dbl> & ⋯ & <dbl> & <dbl> & <dbl> & <dbl> & <dbl> & <dbl> & <dbl> & <dbl> & <dbl> & <dbl>\\\\\n",
       "\\hline\n",
       "\tGSM2817541 & 13.64481 & 12.40319 & 10.38449 & 7.590015 & 7.912756 & 11.27456 & 7.171634 & 12.04086 & 6.826576 & 8.342355 & ⋯ & 6.837659 & 6.812695 & 6.881034 & 6.849228 & 6.739612 & 6.853754 & 6.831605 & 6.904387 & 6.962242 & 6.937679\\\\\n",
       "\tGSM2817542 & 13.96538 & 12.25442 & 10.03633 & 7.648298 & 7.622234 & 11.41729 & 7.321077 & 12.13418 & 6.792153 & 8.314609 & ⋯ & 6.932993 & 6.978373 & 6.953917 & 7.125832 & 6.981325 & 6.808266 & 7.042811 & 7.126413 & 7.162367 & 6.942887\\\\\n",
       "\tGSM2817543 & 13.57105 & 12.32100 & 10.12464 & 7.911876 & 7.419815 & 11.42628 & 6.983852 & 11.94789 & 6.892973 & 8.321148 & ⋯ & 6.922442 & 6.917750 & 6.961512 & 6.819651 & 6.746120 & 6.719426 & 6.817881 & 6.678560 & 7.044067 & 6.872669\\\\\n",
       "\tGSM2817544 & 13.78871 & 12.07161 & 10.30719 & 7.640305 & 7.696911 & 11.44371 & 7.431970 & 12.23676 & 6.788516 & 8.203980 & ⋯ & 6.884778 & 6.814788 & 6.851034 & 6.911141 & 6.849615 & 6.795676 & 6.854515 & 6.849070 & 7.046170 & 6.875422\\\\\n",
       "\tGSM2817545 & 13.71651 & 12.19751 & 10.16028 & 8.126870 & 7.127398 & 11.50464 & 6.909118 & 11.66210 & 6.732931 & 8.527528 & ⋯ & 7.166601 & 6.987090 & 6.941556 & 6.795586 & 6.998717 & 6.896027 & 6.811875 & 7.317758 & 6.863090 & 7.195713\\\\\n",
       "\tGSM2817546 & 13.69787 & 12.24746 & 10.54064 & 7.542460 & 7.726057 & 11.12604 & 7.195175 & 11.97288 & 6.875122 & 8.613182 & ⋯ & 6.803078 & 6.895575 & 7.027187 & 6.909986 & 6.763764 & 6.942405 & 6.879047 & 6.910719 & 7.068710 & 6.974410\\\\\n",
       "\\end{tabular}\n"
      ],
      "text/markdown": [
       "\n",
       "A data.frame: 6 × 22607\n",
       "\n",
       "| <!--/--> | EEF1A1 &lt;dbl&gt; | GAPDH &lt;dbl&gt; | RPS28 &lt;dbl&gt; | IPO13 &lt;dbl&gt; | CDT1 &lt;dbl&gt; | LPP &lt;dbl&gt; | FLJ36848 &lt;dbl&gt; | HNRNPAB &lt;dbl&gt; | LOH12CR1 &lt;dbl&gt; | SNIP1 &lt;dbl&gt; | ⋯ ⋯ | MIR1323 &lt;dbl&gt; | MIR21 &lt;dbl&gt; | MIR708 &lt;dbl&gt; | MIR1206 &lt;dbl&gt; | MIR326 &lt;dbl&gt; | MIR212 &lt;dbl&gt; | MIR33B &lt;dbl&gt; | MIR1915 &lt;dbl&gt; | SNORD114.2 &lt;dbl&gt; | NCRNA00173 &lt;dbl&gt; |\n",
       "|---|---|---|---|---|---|---|---|---|---|---|---|---|---|---|---|---|---|---|---|---|---|\n",
       "| GSM2817541 | 13.64481 | 12.40319 | 10.38449 | 7.590015 | 7.912756 | 11.27456 | 7.171634 | 12.04086 | 6.826576 | 8.342355 | ⋯ | 6.837659 | 6.812695 | 6.881034 | 6.849228 | 6.739612 | 6.853754 | 6.831605 | 6.904387 | 6.962242 | 6.937679 |\n",
       "| GSM2817542 | 13.96538 | 12.25442 | 10.03633 | 7.648298 | 7.622234 | 11.41729 | 7.321077 | 12.13418 | 6.792153 | 8.314609 | ⋯ | 6.932993 | 6.978373 | 6.953917 | 7.125832 | 6.981325 | 6.808266 | 7.042811 | 7.126413 | 7.162367 | 6.942887 |\n",
       "| GSM2817543 | 13.57105 | 12.32100 | 10.12464 | 7.911876 | 7.419815 | 11.42628 | 6.983852 | 11.94789 | 6.892973 | 8.321148 | ⋯ | 6.922442 | 6.917750 | 6.961512 | 6.819651 | 6.746120 | 6.719426 | 6.817881 | 6.678560 | 7.044067 | 6.872669 |\n",
       "| GSM2817544 | 13.78871 | 12.07161 | 10.30719 | 7.640305 | 7.696911 | 11.44371 | 7.431970 | 12.23676 | 6.788516 | 8.203980 | ⋯ | 6.884778 | 6.814788 | 6.851034 | 6.911141 | 6.849615 | 6.795676 | 6.854515 | 6.849070 | 7.046170 | 6.875422 |\n",
       "| GSM2817545 | 13.71651 | 12.19751 | 10.16028 | 8.126870 | 7.127398 | 11.50464 | 6.909118 | 11.66210 | 6.732931 | 8.527528 | ⋯ | 7.166601 | 6.987090 | 6.941556 | 6.795586 | 6.998717 | 6.896027 | 6.811875 | 7.317758 | 6.863090 | 7.195713 |\n",
       "| GSM2817546 | 13.69787 | 12.24746 | 10.54064 | 7.542460 | 7.726057 | 11.12604 | 7.195175 | 11.97288 | 6.875122 | 8.613182 | ⋯ | 6.803078 | 6.895575 | 7.027187 | 6.909986 | 6.763764 | 6.942405 | 6.879047 | 6.910719 | 7.068710 | 6.974410 |\n",
       "\n"
      ],
      "text/plain": [
       "           EEF1A1   GAPDH    RPS28    IPO13    CDT1     LPP      FLJ36848\n",
       "GSM2817541 13.64481 12.40319 10.38449 7.590015 7.912756 11.27456 7.171634\n",
       "GSM2817542 13.96538 12.25442 10.03633 7.648298 7.622234 11.41729 7.321077\n",
       "GSM2817543 13.57105 12.32100 10.12464 7.911876 7.419815 11.42628 6.983852\n",
       "GSM2817544 13.78871 12.07161 10.30719 7.640305 7.696911 11.44371 7.431970\n",
       "GSM2817545 13.71651 12.19751 10.16028 8.126870 7.127398 11.50464 6.909118\n",
       "GSM2817546 13.69787 12.24746 10.54064 7.542460 7.726057 11.12604 7.195175\n",
       "           HNRNPAB  LOH12CR1 SNIP1    ⋯ MIR1323  MIR21    MIR708   MIR1206 \n",
       "GSM2817541 12.04086 6.826576 8.342355 ⋯ 6.837659 6.812695 6.881034 6.849228\n",
       "GSM2817542 12.13418 6.792153 8.314609 ⋯ 6.932993 6.978373 6.953917 7.125832\n",
       "GSM2817543 11.94789 6.892973 8.321148 ⋯ 6.922442 6.917750 6.961512 6.819651\n",
       "GSM2817544 12.23676 6.788516 8.203980 ⋯ 6.884778 6.814788 6.851034 6.911141\n",
       "GSM2817545 11.66210 6.732931 8.527528 ⋯ 7.166601 6.987090 6.941556 6.795586\n",
       "GSM2817546 11.97288 6.875122 8.613182 ⋯ 6.803078 6.895575 7.027187 6.909986\n",
       "           MIR326   MIR212   MIR33B   MIR1915  SNORD114.2 NCRNA00173\n",
       "GSM2817541 6.739612 6.853754 6.831605 6.904387 6.962242   6.937679  \n",
       "GSM2817542 6.981325 6.808266 7.042811 7.126413 7.162367   6.942887  \n",
       "GSM2817543 6.746120 6.719426 6.817881 6.678560 7.044067   6.872669  \n",
       "GSM2817544 6.849615 6.795676 6.854515 6.849070 7.046170   6.875422  \n",
       "GSM2817545 6.998717 6.896027 6.811875 7.317758 6.863090   7.195713  \n",
       "GSM2817546 6.763764 6.942405 6.879047 6.910719 7.068710   6.974410  "
      ]
     },
     "metadata": {},
     "output_type": "display_data"
    }
   ],
   "source": [
    "head(df)"
   ]
  },
  {
   "cell_type": "code",
   "execution_count": 159,
   "id": "671f2904",
   "metadata": {
    "pycharm": {
     "name": "#%%\n"
    }
   },
   "outputs": [],
   "source": [
    "df <- df[1:11,]"
   ]
  },
  {
   "cell_type": "code",
   "execution_count": 161,
   "id": "eb902177",
   "metadata": {
    "pycharm": {
     "name": "#%%\n"
    }
   },
   "outputs": [],
   "source": [
    "# Remove NA\n",
    "df <- df[, colSums(is.na(df)) == 0]\n",
    "# Remove columns with all 0s\n",
    "df <- df[, colSums(df) > 0]\n",
    "# Remove columns without gene symbol\n",
    "df <- df[,nzchar(colnames(df))]\n",
    "# Remove double names genes (GENE1 /// GENE2)\n",
    "colnames(df) <- gsub(\" ///.*\", \"\", colnames(df))\n",
    "# Make all columns uppercase\n",
    "colnames(df) <- toupper(colnames(df))"
   ]
  },
  {
   "cell_type": "code",
   "execution_count": 162,
   "id": "4d5e8d2c",
   "metadata": {
    "pycharm": {
     "name": "#%%\n"
    }
   },
   "outputs": [
    {
     "data": {
      "text/html": [
       "<table class=\"dataframe\">\n",
       "<caption>A data.frame: 6 × 22607</caption>\n",
       "<thead>\n",
       "\t<tr><th></th><th scope=col>EEF1A1</th><th scope=col>GAPDH</th><th scope=col>RPS28</th><th scope=col>IPO13</th><th scope=col>CDT1</th><th scope=col>LPP</th><th scope=col>FLJ36848</th><th scope=col>HNRNPAB</th><th scope=col>LOH12CR1</th><th scope=col>SNIP1</th><th scope=col>⋯</th><th scope=col>MIR1323</th><th scope=col>MIR21</th><th scope=col>MIR708</th><th scope=col>MIR1206</th><th scope=col>MIR326</th><th scope=col>MIR212</th><th scope=col>MIR33B</th><th scope=col>MIR1915</th><th scope=col>SNORD114.2</th><th scope=col>NCRNA00173</th></tr>\n",
       "\t<tr><th></th><th scope=col>&lt;dbl&gt;</th><th scope=col>&lt;dbl&gt;</th><th scope=col>&lt;dbl&gt;</th><th scope=col>&lt;dbl&gt;</th><th scope=col>&lt;dbl&gt;</th><th scope=col>&lt;dbl&gt;</th><th scope=col>&lt;dbl&gt;</th><th scope=col>&lt;dbl&gt;</th><th scope=col>&lt;dbl&gt;</th><th scope=col>&lt;dbl&gt;</th><th scope=col>⋯</th><th scope=col>&lt;dbl&gt;</th><th scope=col>&lt;dbl&gt;</th><th scope=col>&lt;dbl&gt;</th><th scope=col>&lt;dbl&gt;</th><th scope=col>&lt;dbl&gt;</th><th scope=col>&lt;dbl&gt;</th><th scope=col>&lt;dbl&gt;</th><th scope=col>&lt;dbl&gt;</th><th scope=col>&lt;dbl&gt;</th><th scope=col>&lt;dbl&gt;</th></tr>\n",
       "</thead>\n",
       "<tbody>\n",
       "\t<tr><th scope=row>GSM2817541</th><td>13.64481</td><td>12.40319</td><td>10.38449</td><td>7.590015</td><td>7.912756</td><td>11.27456</td><td>7.171634</td><td>12.04086</td><td>6.826576</td><td>8.342355</td><td>⋯</td><td>6.837659</td><td>6.812695</td><td>6.881034</td><td>6.849228</td><td>6.739612</td><td>6.853754</td><td>6.831605</td><td>6.904387</td><td>6.962242</td><td>6.937679</td></tr>\n",
       "\t<tr><th scope=row>GSM2817542</th><td>13.96538</td><td>12.25442</td><td>10.03633</td><td>7.648298</td><td>7.622234</td><td>11.41729</td><td>7.321077</td><td>12.13418</td><td>6.792153</td><td>8.314609</td><td>⋯</td><td>6.932993</td><td>6.978373</td><td>6.953917</td><td>7.125832</td><td>6.981325</td><td>6.808266</td><td>7.042811</td><td>7.126413</td><td>7.162367</td><td>6.942887</td></tr>\n",
       "\t<tr><th scope=row>GSM2817543</th><td>13.57105</td><td>12.32100</td><td>10.12464</td><td>7.911876</td><td>7.419815</td><td>11.42628</td><td>6.983852</td><td>11.94789</td><td>6.892973</td><td>8.321148</td><td>⋯</td><td>6.922442</td><td>6.917750</td><td>6.961512</td><td>6.819651</td><td>6.746120</td><td>6.719426</td><td>6.817881</td><td>6.678560</td><td>7.044067</td><td>6.872669</td></tr>\n",
       "\t<tr><th scope=row>GSM2817544</th><td>13.78871</td><td>12.07161</td><td>10.30719</td><td>7.640305</td><td>7.696911</td><td>11.44371</td><td>7.431970</td><td>12.23676</td><td>6.788516</td><td>8.203980</td><td>⋯</td><td>6.884778</td><td>6.814788</td><td>6.851034</td><td>6.911141</td><td>6.849615</td><td>6.795676</td><td>6.854515</td><td>6.849070</td><td>7.046170</td><td>6.875422</td></tr>\n",
       "\t<tr><th scope=row>GSM2817545</th><td>13.71651</td><td>12.19751</td><td>10.16028</td><td>8.126870</td><td>7.127398</td><td>11.50464</td><td>6.909118</td><td>11.66210</td><td>6.732931</td><td>8.527528</td><td>⋯</td><td>7.166601</td><td>6.987090</td><td>6.941556</td><td>6.795586</td><td>6.998717</td><td>6.896027</td><td>6.811875</td><td>7.317758</td><td>6.863090</td><td>7.195713</td></tr>\n",
       "\t<tr><th scope=row>GSM2817546</th><td>13.69787</td><td>12.24746</td><td>10.54064</td><td>7.542460</td><td>7.726057</td><td>11.12604</td><td>7.195175</td><td>11.97288</td><td>6.875122</td><td>8.613182</td><td>⋯</td><td>6.803078</td><td>6.895575</td><td>7.027187</td><td>6.909986</td><td>6.763764</td><td>6.942405</td><td>6.879047</td><td>6.910719</td><td>7.068710</td><td>6.974410</td></tr>\n",
       "</tbody>\n",
       "</table>\n"
      ],
      "text/latex": [
       "A data.frame: 6 × 22607\n",
       "\\begin{tabular}{r|lllllllllllllllllllll}\n",
       "  & EEF1A1 & GAPDH & RPS28 & IPO13 & CDT1 & LPP & FLJ36848 & HNRNPAB & LOH12CR1 & SNIP1 & ⋯ & MIR1323 & MIR21 & MIR708 & MIR1206 & MIR326 & MIR212 & MIR33B & MIR1915 & SNORD114.2 & NCRNA00173\\\\\n",
       "  & <dbl> & <dbl> & <dbl> & <dbl> & <dbl> & <dbl> & <dbl> & <dbl> & <dbl> & <dbl> & ⋯ & <dbl> & <dbl> & <dbl> & <dbl> & <dbl> & <dbl> & <dbl> & <dbl> & <dbl> & <dbl>\\\\\n",
       "\\hline\n",
       "\tGSM2817541 & 13.64481 & 12.40319 & 10.38449 & 7.590015 & 7.912756 & 11.27456 & 7.171634 & 12.04086 & 6.826576 & 8.342355 & ⋯ & 6.837659 & 6.812695 & 6.881034 & 6.849228 & 6.739612 & 6.853754 & 6.831605 & 6.904387 & 6.962242 & 6.937679\\\\\n",
       "\tGSM2817542 & 13.96538 & 12.25442 & 10.03633 & 7.648298 & 7.622234 & 11.41729 & 7.321077 & 12.13418 & 6.792153 & 8.314609 & ⋯ & 6.932993 & 6.978373 & 6.953917 & 7.125832 & 6.981325 & 6.808266 & 7.042811 & 7.126413 & 7.162367 & 6.942887\\\\\n",
       "\tGSM2817543 & 13.57105 & 12.32100 & 10.12464 & 7.911876 & 7.419815 & 11.42628 & 6.983852 & 11.94789 & 6.892973 & 8.321148 & ⋯ & 6.922442 & 6.917750 & 6.961512 & 6.819651 & 6.746120 & 6.719426 & 6.817881 & 6.678560 & 7.044067 & 6.872669\\\\\n",
       "\tGSM2817544 & 13.78871 & 12.07161 & 10.30719 & 7.640305 & 7.696911 & 11.44371 & 7.431970 & 12.23676 & 6.788516 & 8.203980 & ⋯ & 6.884778 & 6.814788 & 6.851034 & 6.911141 & 6.849615 & 6.795676 & 6.854515 & 6.849070 & 7.046170 & 6.875422\\\\\n",
       "\tGSM2817545 & 13.71651 & 12.19751 & 10.16028 & 8.126870 & 7.127398 & 11.50464 & 6.909118 & 11.66210 & 6.732931 & 8.527528 & ⋯ & 7.166601 & 6.987090 & 6.941556 & 6.795586 & 6.998717 & 6.896027 & 6.811875 & 7.317758 & 6.863090 & 7.195713\\\\\n",
       "\tGSM2817546 & 13.69787 & 12.24746 & 10.54064 & 7.542460 & 7.726057 & 11.12604 & 7.195175 & 11.97288 & 6.875122 & 8.613182 & ⋯ & 6.803078 & 6.895575 & 7.027187 & 6.909986 & 6.763764 & 6.942405 & 6.879047 & 6.910719 & 7.068710 & 6.974410\\\\\n",
       "\\end{tabular}\n"
      ],
      "text/markdown": [
       "\n",
       "A data.frame: 6 × 22607\n",
       "\n",
       "| <!--/--> | EEF1A1 &lt;dbl&gt; | GAPDH &lt;dbl&gt; | RPS28 &lt;dbl&gt; | IPO13 &lt;dbl&gt; | CDT1 &lt;dbl&gt; | LPP &lt;dbl&gt; | FLJ36848 &lt;dbl&gt; | HNRNPAB &lt;dbl&gt; | LOH12CR1 &lt;dbl&gt; | SNIP1 &lt;dbl&gt; | ⋯ ⋯ | MIR1323 &lt;dbl&gt; | MIR21 &lt;dbl&gt; | MIR708 &lt;dbl&gt; | MIR1206 &lt;dbl&gt; | MIR326 &lt;dbl&gt; | MIR212 &lt;dbl&gt; | MIR33B &lt;dbl&gt; | MIR1915 &lt;dbl&gt; | SNORD114.2 &lt;dbl&gt; | NCRNA00173 &lt;dbl&gt; |\n",
       "|---|---|---|---|---|---|---|---|---|---|---|---|---|---|---|---|---|---|---|---|---|---|\n",
       "| GSM2817541 | 13.64481 | 12.40319 | 10.38449 | 7.590015 | 7.912756 | 11.27456 | 7.171634 | 12.04086 | 6.826576 | 8.342355 | ⋯ | 6.837659 | 6.812695 | 6.881034 | 6.849228 | 6.739612 | 6.853754 | 6.831605 | 6.904387 | 6.962242 | 6.937679 |\n",
       "| GSM2817542 | 13.96538 | 12.25442 | 10.03633 | 7.648298 | 7.622234 | 11.41729 | 7.321077 | 12.13418 | 6.792153 | 8.314609 | ⋯ | 6.932993 | 6.978373 | 6.953917 | 7.125832 | 6.981325 | 6.808266 | 7.042811 | 7.126413 | 7.162367 | 6.942887 |\n",
       "| GSM2817543 | 13.57105 | 12.32100 | 10.12464 | 7.911876 | 7.419815 | 11.42628 | 6.983852 | 11.94789 | 6.892973 | 8.321148 | ⋯ | 6.922442 | 6.917750 | 6.961512 | 6.819651 | 6.746120 | 6.719426 | 6.817881 | 6.678560 | 7.044067 | 6.872669 |\n",
       "| GSM2817544 | 13.78871 | 12.07161 | 10.30719 | 7.640305 | 7.696911 | 11.44371 | 7.431970 | 12.23676 | 6.788516 | 8.203980 | ⋯ | 6.884778 | 6.814788 | 6.851034 | 6.911141 | 6.849615 | 6.795676 | 6.854515 | 6.849070 | 7.046170 | 6.875422 |\n",
       "| GSM2817545 | 13.71651 | 12.19751 | 10.16028 | 8.126870 | 7.127398 | 11.50464 | 6.909118 | 11.66210 | 6.732931 | 8.527528 | ⋯ | 7.166601 | 6.987090 | 6.941556 | 6.795586 | 6.998717 | 6.896027 | 6.811875 | 7.317758 | 6.863090 | 7.195713 |\n",
       "| GSM2817546 | 13.69787 | 12.24746 | 10.54064 | 7.542460 | 7.726057 | 11.12604 | 7.195175 | 11.97288 | 6.875122 | 8.613182 | ⋯ | 6.803078 | 6.895575 | 7.027187 | 6.909986 | 6.763764 | 6.942405 | 6.879047 | 6.910719 | 7.068710 | 6.974410 |\n",
       "\n"
      ],
      "text/plain": [
       "           EEF1A1   GAPDH    RPS28    IPO13    CDT1     LPP      FLJ36848\n",
       "GSM2817541 13.64481 12.40319 10.38449 7.590015 7.912756 11.27456 7.171634\n",
       "GSM2817542 13.96538 12.25442 10.03633 7.648298 7.622234 11.41729 7.321077\n",
       "GSM2817543 13.57105 12.32100 10.12464 7.911876 7.419815 11.42628 6.983852\n",
       "GSM2817544 13.78871 12.07161 10.30719 7.640305 7.696911 11.44371 7.431970\n",
       "GSM2817545 13.71651 12.19751 10.16028 8.126870 7.127398 11.50464 6.909118\n",
       "GSM2817546 13.69787 12.24746 10.54064 7.542460 7.726057 11.12604 7.195175\n",
       "           HNRNPAB  LOH12CR1 SNIP1    ⋯ MIR1323  MIR21    MIR708   MIR1206 \n",
       "GSM2817541 12.04086 6.826576 8.342355 ⋯ 6.837659 6.812695 6.881034 6.849228\n",
       "GSM2817542 12.13418 6.792153 8.314609 ⋯ 6.932993 6.978373 6.953917 7.125832\n",
       "GSM2817543 11.94789 6.892973 8.321148 ⋯ 6.922442 6.917750 6.961512 6.819651\n",
       "GSM2817544 12.23676 6.788516 8.203980 ⋯ 6.884778 6.814788 6.851034 6.911141\n",
       "GSM2817545 11.66210 6.732931 8.527528 ⋯ 7.166601 6.987090 6.941556 6.795586\n",
       "GSM2817546 11.97288 6.875122 8.613182 ⋯ 6.803078 6.895575 7.027187 6.909986\n",
       "           MIR326   MIR212   MIR33B   MIR1915  SNORD114.2 NCRNA00173\n",
       "GSM2817541 6.739612 6.853754 6.831605 6.904387 6.962242   6.937679  \n",
       "GSM2817542 6.981325 6.808266 7.042811 7.126413 7.162367   6.942887  \n",
       "GSM2817543 6.746120 6.719426 6.817881 6.678560 7.044067   6.872669  \n",
       "GSM2817544 6.849615 6.795676 6.854515 6.849070 7.046170   6.875422  \n",
       "GSM2817545 6.998717 6.896027 6.811875 7.317758 6.863090   7.195713  \n",
       "GSM2817546 6.763764 6.942405 6.879047 6.910719 7.068710   6.974410  "
      ]
     },
     "metadata": {},
     "output_type": "display_data"
    }
   ],
   "source": [
    "head(df)"
   ]
  },
  {
   "cell_type": "code",
   "execution_count": 163,
   "id": "ca5aaab9",
   "metadata": {
    "pycharm": {
     "name": "#%%\n"
    }
   },
   "outputs": [],
   "source": [
    "write.table(df, file=paste(dataPath, csv_name, sep=\"\"), sep=\",\")"
   ]
  },
  {
   "cell_type": "code",
   "execution_count": 164,
   "id": "39a096f0",
   "metadata": {
    "pycharm": {
     "name": "#%%\n"
    }
   },
   "outputs": [],
   "source": [
    "csv_name = 'TPMT_deficiency_GSE105074_rectum.csv'"
   ]
  },
  {
   "cell_type": "code",
   "execution_count": 165,
   "id": "d2af4c07",
   "metadata": {
    "pycharm": {
     "name": "#%%\n"
    }
   },
   "outputs": [],
   "source": [
    "df <- read.csv(file=paste(dataPath, csv_name, sep=\"\"), header=TRUE)"
   ]
  },
  {
   "cell_type": "code",
   "execution_count": 166,
   "id": "433cd20c",
   "metadata": {
    "scrolled": false,
    "pycharm": {
     "name": "#%%\n"
    }
   },
   "outputs": [
    {
     "data": {
      "text/html": [
       "<table class=\"dataframe\">\n",
       "<caption>A data.frame: 15 × 22607</caption>\n",
       "<thead>\n",
       "\t<tr><th></th><th scope=col>EEF1A1</th><th scope=col>GAPDH</th><th scope=col>RPS28</th><th scope=col>IPO13</th><th scope=col>CDT1</th><th scope=col>LPP</th><th scope=col>FLJ36848</th><th scope=col>HNRNPAB</th><th scope=col>LOH12CR1</th><th scope=col>SNIP1</th><th scope=col>⋯</th><th scope=col>MIR1323</th><th scope=col>MIR21</th><th scope=col>MIR708</th><th scope=col>MIR1206</th><th scope=col>MIR326</th><th scope=col>MIR212</th><th scope=col>MIR33B</th><th scope=col>MIR1915</th><th scope=col>SNORD114.2</th><th scope=col>NCRNA00173</th></tr>\n",
       "\t<tr><th></th><th scope=col>&lt;dbl&gt;</th><th scope=col>&lt;dbl&gt;</th><th scope=col>&lt;dbl&gt;</th><th scope=col>&lt;dbl&gt;</th><th scope=col>&lt;dbl&gt;</th><th scope=col>&lt;dbl&gt;</th><th scope=col>&lt;dbl&gt;</th><th scope=col>&lt;dbl&gt;</th><th scope=col>&lt;dbl&gt;</th><th scope=col>&lt;dbl&gt;</th><th scope=col>⋯</th><th scope=col>&lt;dbl&gt;</th><th scope=col>&lt;dbl&gt;</th><th scope=col>&lt;dbl&gt;</th><th scope=col>&lt;dbl&gt;</th><th scope=col>&lt;dbl&gt;</th><th scope=col>&lt;dbl&gt;</th><th scope=col>&lt;dbl&gt;</th><th scope=col>&lt;dbl&gt;</th><th scope=col>&lt;dbl&gt;</th><th scope=col>&lt;dbl&gt;</th></tr>\n",
       "</thead>\n",
       "<tbody>\n",
       "\t<tr><th scope=row>GSM2817526</th><td>13.96538</td><td>12.02243</td><td>10.30342</td><td>7.923415</td><td>7.556815</td><td>11.54259</td><td>7.031143</td><td>12.13677</td><td>6.762560</td><td>8.475246</td><td>⋯</td><td>6.902072</td><td>6.958248</td><td>6.858053</td><td>6.980707</td><td>6.833720</td><td>6.785075</td><td>6.912212</td><td>6.892806</td><td>6.954553</td><td>7.111827</td></tr>\n",
       "\t<tr><th scope=row>GSM2817527</th><td>13.88178</td><td>12.15410</td><td>10.03943</td><td>7.713827</td><td>7.421822</td><td>11.07283</td><td>7.124354</td><td>12.03808</td><td>6.785807</td><td>8.735668</td><td>⋯</td><td>6.851239</td><td>7.115920</td><td>6.996154</td><td>6.854219</td><td>6.760976</td><td>6.934950</td><td>6.733048</td><td>6.751993</td><td>6.829305</td><td>6.917215</td></tr>\n",
       "\t<tr><th scope=row>GSM2817528</th><td>13.79709</td><td>11.83830</td><td>10.45016</td><td>7.649561</td><td>7.387937</td><td>12.09938</td><td>6.982091</td><td>11.77892</td><td>6.870814</td><td>8.559494</td><td>⋯</td><td>6.867476</td><td>7.083544</td><td>6.912047</td><td>6.850638</td><td>6.971292</td><td>6.680617</td><td>6.840213</td><td>6.903527</td><td>7.049400</td><td>7.181285</td></tr>\n",
       "\t<tr><th scope=row>GSM2817529</th><td>13.97765</td><td>12.22559</td><td>10.53693</td><td>7.774665</td><td>7.656395</td><td>11.54900</td><td>7.415311</td><td>12.01088</td><td>6.765795</td><td>8.444221</td><td>⋯</td><td>6.827497</td><td>6.887409</td><td>6.979913</td><td>6.868392</td><td>6.826196</td><td>6.805928</td><td>7.101132</td><td>6.806975</td><td>6.986882</td><td>7.011594</td></tr>\n",
       "\t<tr><th scope=row>GSM2817530</th><td>13.69787</td><td>12.22000</td><td>10.56426</td><td>7.905209</td><td>7.513871</td><td>11.48225</td><td>7.203571</td><td>12.19846</td><td>6.873852</td><td>8.182619</td><td>⋯</td><td>6.817047</td><td>7.063463</td><td>6.807679</td><td>6.936486</td><td>6.789320</td><td>6.854278</td><td>6.791942</td><td>6.862519</td><td>6.862885</td><td>6.942666</td></tr>\n",
       "\t<tr><th scope=row>GSM2817531</th><td>13.71680</td><td>12.40056</td><td>10.60377</td><td>7.724124</td><td>7.463802</td><td>11.85733</td><td>7.144013</td><td>11.81693</td><td>6.907503</td><td>8.530834</td><td>⋯</td><td>6.848729</td><td>7.525166</td><td>6.850436</td><td>6.793189</td><td>6.835550</td><td>6.955170</td><td>6.810018</td><td>6.764952</td><td>7.005092</td><td>7.054844</td></tr>\n",
       "\t<tr><th scope=row>GSM2817532</th><td>13.89530</td><td>12.04633</td><td>10.33024</td><td>7.673532</td><td>7.631012</td><td>11.61793</td><td>7.108502</td><td>12.00602</td><td>6.848512</td><td>8.670686</td><td>⋯</td><td>6.858568</td><td>7.019461</td><td>6.906992</td><td>6.979434</td><td>6.952082</td><td>6.765160</td><td>6.884458</td><td>6.778028</td><td>6.925981</td><td>6.933213</td></tr>\n",
       "\t<tr><th scope=row>GSM2817533</th><td>13.70983</td><td>11.86142</td><td>10.41843</td><td>7.632611</td><td>7.300464</td><td>11.50210</td><td>7.349908</td><td>12.19065</td><td>6.893657</td><td>8.581532</td><td>⋯</td><td>6.755555</td><td>6.981054</td><td>6.862114</td><td>6.993875</td><td>6.886333</td><td>6.674160</td><td>6.829705</td><td>7.138849</td><td>6.944981</td><td>7.048155</td></tr>\n",
       "\t<tr><th scope=row>GSM2817534</th><td>13.73369</td><td>11.88192</td><td>10.05838</td><td>7.833626</td><td>7.158525</td><td>11.64098</td><td>7.093148</td><td>11.99469</td><td>6.897108</td><td>8.234841</td><td>⋯</td><td>6.802975</td><td>7.084788</td><td>6.944243</td><td>6.915160</td><td>6.902676</td><td>6.757125</td><td>6.843316</td><td>6.872361</td><td>6.987333</td><td>6.978397</td></tr>\n",
       "\t<tr><th scope=row>GSM2817535</th><td>      NA</td><td>      NA</td><td>      NA</td><td>      NA</td><td>      NA</td><td>      NA</td><td>      NA</td><td>      NA</td><td>      NA</td><td>      NA</td><td>⋯</td><td>      NA</td><td>      NA</td><td>      NA</td><td>      NA</td><td>      NA</td><td>      NA</td><td>      NA</td><td>      NA</td><td>      NA</td><td>      NA</td></tr>\n",
       "\t<tr><th scope=row>GSM2817536</th><td>13.65819</td><td>11.93471</td><td>10.22648</td><td>7.632956</td><td>7.062825</td><td>11.43540</td><td>7.212334</td><td>11.83012</td><td>6.781029</td><td>8.178898</td><td>⋯</td><td>6.900757</td><td>7.135045</td><td>6.831493</td><td>6.853959</td><td>7.042588</td><td>6.873422</td><td>6.891404</td><td>6.854721</td><td>6.909943</td><td>6.968605</td></tr>\n",
       "\t<tr><th scope=row>GSM2817537</th><td>13.74954</td><td>12.08147</td><td>10.22138</td><td>7.961835</td><td>7.305918</td><td>11.45891</td><td>7.108074</td><td>12.42632</td><td>6.833637</td><td>8.227724</td><td>⋯</td><td>6.898853</td><td>7.035075</td><td>7.010896</td><td>6.779565</td><td>6.736781</td><td>6.855240</td><td>6.908772</td><td>6.863020</td><td>6.993486</td><td>6.790131</td></tr>\n",
       "\t<tr><th scope=row>GSM2817538</th><td>13.66846</td><td>11.73015</td><td>10.58715</td><td>7.911410</td><td>6.920788</td><td>11.35290</td><td>7.067074</td><td>12.03978</td><td>6.800685</td><td>8.188147</td><td>⋯</td><td>6.863950</td><td>7.051110</td><td>6.978561</td><td>6.938091</td><td>6.793411</td><td>6.587430</td><td>6.839221</td><td>6.904119</td><td>6.855970</td><td>6.972581</td></tr>\n",
       "\t<tr><th scope=row>GSM2817539</th><td>      NA</td><td>      NA</td><td>      NA</td><td>      NA</td><td>      NA</td><td>      NA</td><td>      NA</td><td>      NA</td><td>      NA</td><td>      NA</td><td>⋯</td><td>      NA</td><td>      NA</td><td>      NA</td><td>      NA</td><td>      NA</td><td>      NA</td><td>      NA</td><td>      NA</td><td>      NA</td><td>      NA</td></tr>\n",
       "\t<tr><th scope=row>GSM2817540</th><td>13.88695</td><td>12.33642</td><td>10.82766</td><td>8.148170</td><td>7.578226</td><td>11.73470</td><td>7.096532</td><td>12.15887</td><td>6.859598</td><td>8.213971</td><td>⋯</td><td>6.803781</td><td>7.469037</td><td>6.916174</td><td>6.866926</td><td>6.937571</td><td>6.758244</td><td>6.907123</td><td>6.731661</td><td>6.750698</td><td>7.017781</td></tr>\n",
       "</tbody>\n",
       "</table>\n"
      ],
      "text/latex": [
       "A data.frame: 15 × 22607\n",
       "\\begin{tabular}{r|lllllllllllllllllllll}\n",
       "  & EEF1A1 & GAPDH & RPS28 & IPO13 & CDT1 & LPP & FLJ36848 & HNRNPAB & LOH12CR1 & SNIP1 & ⋯ & MIR1323 & MIR21 & MIR708 & MIR1206 & MIR326 & MIR212 & MIR33B & MIR1915 & SNORD114.2 & NCRNA00173\\\\\n",
       "  & <dbl> & <dbl> & <dbl> & <dbl> & <dbl> & <dbl> & <dbl> & <dbl> & <dbl> & <dbl> & ⋯ & <dbl> & <dbl> & <dbl> & <dbl> & <dbl> & <dbl> & <dbl> & <dbl> & <dbl> & <dbl>\\\\\n",
       "\\hline\n",
       "\tGSM2817526 & 13.96538 & 12.02243 & 10.30342 & 7.923415 & 7.556815 & 11.54259 & 7.031143 & 12.13677 & 6.762560 & 8.475246 & ⋯ & 6.902072 & 6.958248 & 6.858053 & 6.980707 & 6.833720 & 6.785075 & 6.912212 & 6.892806 & 6.954553 & 7.111827\\\\\n",
       "\tGSM2817527 & 13.88178 & 12.15410 & 10.03943 & 7.713827 & 7.421822 & 11.07283 & 7.124354 & 12.03808 & 6.785807 & 8.735668 & ⋯ & 6.851239 & 7.115920 & 6.996154 & 6.854219 & 6.760976 & 6.934950 & 6.733048 & 6.751993 & 6.829305 & 6.917215\\\\\n",
       "\tGSM2817528 & 13.79709 & 11.83830 & 10.45016 & 7.649561 & 7.387937 & 12.09938 & 6.982091 & 11.77892 & 6.870814 & 8.559494 & ⋯ & 6.867476 & 7.083544 & 6.912047 & 6.850638 & 6.971292 & 6.680617 & 6.840213 & 6.903527 & 7.049400 & 7.181285\\\\\n",
       "\tGSM2817529 & 13.97765 & 12.22559 & 10.53693 & 7.774665 & 7.656395 & 11.54900 & 7.415311 & 12.01088 & 6.765795 & 8.444221 & ⋯ & 6.827497 & 6.887409 & 6.979913 & 6.868392 & 6.826196 & 6.805928 & 7.101132 & 6.806975 & 6.986882 & 7.011594\\\\\n",
       "\tGSM2817530 & 13.69787 & 12.22000 & 10.56426 & 7.905209 & 7.513871 & 11.48225 & 7.203571 & 12.19846 & 6.873852 & 8.182619 & ⋯ & 6.817047 & 7.063463 & 6.807679 & 6.936486 & 6.789320 & 6.854278 & 6.791942 & 6.862519 & 6.862885 & 6.942666\\\\\n",
       "\tGSM2817531 & 13.71680 & 12.40056 & 10.60377 & 7.724124 & 7.463802 & 11.85733 & 7.144013 & 11.81693 & 6.907503 & 8.530834 & ⋯ & 6.848729 & 7.525166 & 6.850436 & 6.793189 & 6.835550 & 6.955170 & 6.810018 & 6.764952 & 7.005092 & 7.054844\\\\\n",
       "\tGSM2817532 & 13.89530 & 12.04633 & 10.33024 & 7.673532 & 7.631012 & 11.61793 & 7.108502 & 12.00602 & 6.848512 & 8.670686 & ⋯ & 6.858568 & 7.019461 & 6.906992 & 6.979434 & 6.952082 & 6.765160 & 6.884458 & 6.778028 & 6.925981 & 6.933213\\\\\n",
       "\tGSM2817533 & 13.70983 & 11.86142 & 10.41843 & 7.632611 & 7.300464 & 11.50210 & 7.349908 & 12.19065 & 6.893657 & 8.581532 & ⋯ & 6.755555 & 6.981054 & 6.862114 & 6.993875 & 6.886333 & 6.674160 & 6.829705 & 7.138849 & 6.944981 & 7.048155\\\\\n",
       "\tGSM2817534 & 13.73369 & 11.88192 & 10.05838 & 7.833626 & 7.158525 & 11.64098 & 7.093148 & 11.99469 & 6.897108 & 8.234841 & ⋯ & 6.802975 & 7.084788 & 6.944243 & 6.915160 & 6.902676 & 6.757125 & 6.843316 & 6.872361 & 6.987333 & 6.978397\\\\\n",
       "\tGSM2817535 &       NA &       NA &       NA &       NA &       NA &       NA &       NA &       NA &       NA &       NA & ⋯ &       NA &       NA &       NA &       NA &       NA &       NA &       NA &       NA &       NA &       NA\\\\\n",
       "\tGSM2817536 & 13.65819 & 11.93471 & 10.22648 & 7.632956 & 7.062825 & 11.43540 & 7.212334 & 11.83012 & 6.781029 & 8.178898 & ⋯ & 6.900757 & 7.135045 & 6.831493 & 6.853959 & 7.042588 & 6.873422 & 6.891404 & 6.854721 & 6.909943 & 6.968605\\\\\n",
       "\tGSM2817537 & 13.74954 & 12.08147 & 10.22138 & 7.961835 & 7.305918 & 11.45891 & 7.108074 & 12.42632 & 6.833637 & 8.227724 & ⋯ & 6.898853 & 7.035075 & 7.010896 & 6.779565 & 6.736781 & 6.855240 & 6.908772 & 6.863020 & 6.993486 & 6.790131\\\\\n",
       "\tGSM2817538 & 13.66846 & 11.73015 & 10.58715 & 7.911410 & 6.920788 & 11.35290 & 7.067074 & 12.03978 & 6.800685 & 8.188147 & ⋯ & 6.863950 & 7.051110 & 6.978561 & 6.938091 & 6.793411 & 6.587430 & 6.839221 & 6.904119 & 6.855970 & 6.972581\\\\\n",
       "\tGSM2817539 &       NA &       NA &       NA &       NA &       NA &       NA &       NA &       NA &       NA &       NA & ⋯ &       NA &       NA &       NA &       NA &       NA &       NA &       NA &       NA &       NA &       NA\\\\\n",
       "\tGSM2817540 & 13.88695 & 12.33642 & 10.82766 & 8.148170 & 7.578226 & 11.73470 & 7.096532 & 12.15887 & 6.859598 & 8.213971 & ⋯ & 6.803781 & 7.469037 & 6.916174 & 6.866926 & 6.937571 & 6.758244 & 6.907123 & 6.731661 & 6.750698 & 7.017781\\\\\n",
       "\\end{tabular}\n"
      ],
      "text/markdown": [
       "\n",
       "A data.frame: 15 × 22607\n",
       "\n",
       "| <!--/--> | EEF1A1 &lt;dbl&gt; | GAPDH &lt;dbl&gt; | RPS28 &lt;dbl&gt; | IPO13 &lt;dbl&gt; | CDT1 &lt;dbl&gt; | LPP &lt;dbl&gt; | FLJ36848 &lt;dbl&gt; | HNRNPAB &lt;dbl&gt; | LOH12CR1 &lt;dbl&gt; | SNIP1 &lt;dbl&gt; | ⋯ ⋯ | MIR1323 &lt;dbl&gt; | MIR21 &lt;dbl&gt; | MIR708 &lt;dbl&gt; | MIR1206 &lt;dbl&gt; | MIR326 &lt;dbl&gt; | MIR212 &lt;dbl&gt; | MIR33B &lt;dbl&gt; | MIR1915 &lt;dbl&gt; | SNORD114.2 &lt;dbl&gt; | NCRNA00173 &lt;dbl&gt; |\n",
       "|---|---|---|---|---|---|---|---|---|---|---|---|---|---|---|---|---|---|---|---|---|---|\n",
       "| GSM2817526 | 13.96538 | 12.02243 | 10.30342 | 7.923415 | 7.556815 | 11.54259 | 7.031143 | 12.13677 | 6.762560 | 8.475246 | ⋯ | 6.902072 | 6.958248 | 6.858053 | 6.980707 | 6.833720 | 6.785075 | 6.912212 | 6.892806 | 6.954553 | 7.111827 |\n",
       "| GSM2817527 | 13.88178 | 12.15410 | 10.03943 | 7.713827 | 7.421822 | 11.07283 | 7.124354 | 12.03808 | 6.785807 | 8.735668 | ⋯ | 6.851239 | 7.115920 | 6.996154 | 6.854219 | 6.760976 | 6.934950 | 6.733048 | 6.751993 | 6.829305 | 6.917215 |\n",
       "| GSM2817528 | 13.79709 | 11.83830 | 10.45016 | 7.649561 | 7.387937 | 12.09938 | 6.982091 | 11.77892 | 6.870814 | 8.559494 | ⋯ | 6.867476 | 7.083544 | 6.912047 | 6.850638 | 6.971292 | 6.680617 | 6.840213 | 6.903527 | 7.049400 | 7.181285 |\n",
       "| GSM2817529 | 13.97765 | 12.22559 | 10.53693 | 7.774665 | 7.656395 | 11.54900 | 7.415311 | 12.01088 | 6.765795 | 8.444221 | ⋯ | 6.827497 | 6.887409 | 6.979913 | 6.868392 | 6.826196 | 6.805928 | 7.101132 | 6.806975 | 6.986882 | 7.011594 |\n",
       "| GSM2817530 | 13.69787 | 12.22000 | 10.56426 | 7.905209 | 7.513871 | 11.48225 | 7.203571 | 12.19846 | 6.873852 | 8.182619 | ⋯ | 6.817047 | 7.063463 | 6.807679 | 6.936486 | 6.789320 | 6.854278 | 6.791942 | 6.862519 | 6.862885 | 6.942666 |\n",
       "| GSM2817531 | 13.71680 | 12.40056 | 10.60377 | 7.724124 | 7.463802 | 11.85733 | 7.144013 | 11.81693 | 6.907503 | 8.530834 | ⋯ | 6.848729 | 7.525166 | 6.850436 | 6.793189 | 6.835550 | 6.955170 | 6.810018 | 6.764952 | 7.005092 | 7.054844 |\n",
       "| GSM2817532 | 13.89530 | 12.04633 | 10.33024 | 7.673532 | 7.631012 | 11.61793 | 7.108502 | 12.00602 | 6.848512 | 8.670686 | ⋯ | 6.858568 | 7.019461 | 6.906992 | 6.979434 | 6.952082 | 6.765160 | 6.884458 | 6.778028 | 6.925981 | 6.933213 |\n",
       "| GSM2817533 | 13.70983 | 11.86142 | 10.41843 | 7.632611 | 7.300464 | 11.50210 | 7.349908 | 12.19065 | 6.893657 | 8.581532 | ⋯ | 6.755555 | 6.981054 | 6.862114 | 6.993875 | 6.886333 | 6.674160 | 6.829705 | 7.138849 | 6.944981 | 7.048155 |\n",
       "| GSM2817534 | 13.73369 | 11.88192 | 10.05838 | 7.833626 | 7.158525 | 11.64098 | 7.093148 | 11.99469 | 6.897108 | 8.234841 | ⋯ | 6.802975 | 7.084788 | 6.944243 | 6.915160 | 6.902676 | 6.757125 | 6.843316 | 6.872361 | 6.987333 | 6.978397 |\n",
       "| GSM2817535 |       NA |       NA |       NA |       NA |       NA |       NA |       NA |       NA |       NA |       NA | ⋯ |       NA |       NA |       NA |       NA |       NA |       NA |       NA |       NA |       NA |       NA |\n",
       "| GSM2817536 | 13.65819 | 11.93471 | 10.22648 | 7.632956 | 7.062825 | 11.43540 | 7.212334 | 11.83012 | 6.781029 | 8.178898 | ⋯ | 6.900757 | 7.135045 | 6.831493 | 6.853959 | 7.042588 | 6.873422 | 6.891404 | 6.854721 | 6.909943 | 6.968605 |\n",
       "| GSM2817537 | 13.74954 | 12.08147 | 10.22138 | 7.961835 | 7.305918 | 11.45891 | 7.108074 | 12.42632 | 6.833637 | 8.227724 | ⋯ | 6.898853 | 7.035075 | 7.010896 | 6.779565 | 6.736781 | 6.855240 | 6.908772 | 6.863020 | 6.993486 | 6.790131 |\n",
       "| GSM2817538 | 13.66846 | 11.73015 | 10.58715 | 7.911410 | 6.920788 | 11.35290 | 7.067074 | 12.03978 | 6.800685 | 8.188147 | ⋯ | 6.863950 | 7.051110 | 6.978561 | 6.938091 | 6.793411 | 6.587430 | 6.839221 | 6.904119 | 6.855970 | 6.972581 |\n",
       "| GSM2817539 |       NA |       NA |       NA |       NA |       NA |       NA |       NA |       NA |       NA |       NA | ⋯ |       NA |       NA |       NA |       NA |       NA |       NA |       NA |       NA |       NA |       NA |\n",
       "| GSM2817540 | 13.88695 | 12.33642 | 10.82766 | 8.148170 | 7.578226 | 11.73470 | 7.096532 | 12.15887 | 6.859598 | 8.213971 | ⋯ | 6.803781 | 7.469037 | 6.916174 | 6.866926 | 6.937571 | 6.758244 | 6.907123 | 6.731661 | 6.750698 | 7.017781 |\n",
       "\n"
      ],
      "text/plain": [
       "           EEF1A1   GAPDH    RPS28    IPO13    CDT1     LPP      FLJ36848\n",
       "GSM2817526 13.96538 12.02243 10.30342 7.923415 7.556815 11.54259 7.031143\n",
       "GSM2817527 13.88178 12.15410 10.03943 7.713827 7.421822 11.07283 7.124354\n",
       "GSM2817528 13.79709 11.83830 10.45016 7.649561 7.387937 12.09938 6.982091\n",
       "GSM2817529 13.97765 12.22559 10.53693 7.774665 7.656395 11.54900 7.415311\n",
       "GSM2817530 13.69787 12.22000 10.56426 7.905209 7.513871 11.48225 7.203571\n",
       "GSM2817531 13.71680 12.40056 10.60377 7.724124 7.463802 11.85733 7.144013\n",
       "GSM2817532 13.89530 12.04633 10.33024 7.673532 7.631012 11.61793 7.108502\n",
       "GSM2817533 13.70983 11.86142 10.41843 7.632611 7.300464 11.50210 7.349908\n",
       "GSM2817534 13.73369 11.88192 10.05838 7.833626 7.158525 11.64098 7.093148\n",
       "GSM2817535       NA       NA       NA       NA       NA       NA       NA\n",
       "GSM2817536 13.65819 11.93471 10.22648 7.632956 7.062825 11.43540 7.212334\n",
       "GSM2817537 13.74954 12.08147 10.22138 7.961835 7.305918 11.45891 7.108074\n",
       "GSM2817538 13.66846 11.73015 10.58715 7.911410 6.920788 11.35290 7.067074\n",
       "GSM2817539       NA       NA       NA       NA       NA       NA       NA\n",
       "GSM2817540 13.88695 12.33642 10.82766 8.148170 7.578226 11.73470 7.096532\n",
       "           HNRNPAB  LOH12CR1 SNIP1    ⋯ MIR1323  MIR21    MIR708   MIR1206 \n",
       "GSM2817526 12.13677 6.762560 8.475246 ⋯ 6.902072 6.958248 6.858053 6.980707\n",
       "GSM2817527 12.03808 6.785807 8.735668 ⋯ 6.851239 7.115920 6.996154 6.854219\n",
       "GSM2817528 11.77892 6.870814 8.559494 ⋯ 6.867476 7.083544 6.912047 6.850638\n",
       "GSM2817529 12.01088 6.765795 8.444221 ⋯ 6.827497 6.887409 6.979913 6.868392\n",
       "GSM2817530 12.19846 6.873852 8.182619 ⋯ 6.817047 7.063463 6.807679 6.936486\n",
       "GSM2817531 11.81693 6.907503 8.530834 ⋯ 6.848729 7.525166 6.850436 6.793189\n",
       "GSM2817532 12.00602 6.848512 8.670686 ⋯ 6.858568 7.019461 6.906992 6.979434\n",
       "GSM2817533 12.19065 6.893657 8.581532 ⋯ 6.755555 6.981054 6.862114 6.993875\n",
       "GSM2817534 11.99469 6.897108 8.234841 ⋯ 6.802975 7.084788 6.944243 6.915160\n",
       "GSM2817535       NA       NA       NA ⋯       NA       NA       NA       NA\n",
       "GSM2817536 11.83012 6.781029 8.178898 ⋯ 6.900757 7.135045 6.831493 6.853959\n",
       "GSM2817537 12.42632 6.833637 8.227724 ⋯ 6.898853 7.035075 7.010896 6.779565\n",
       "GSM2817538 12.03978 6.800685 8.188147 ⋯ 6.863950 7.051110 6.978561 6.938091\n",
       "GSM2817539       NA       NA       NA ⋯       NA       NA       NA       NA\n",
       "GSM2817540 12.15887 6.859598 8.213971 ⋯ 6.803781 7.469037 6.916174 6.866926\n",
       "           MIR326   MIR212   MIR33B   MIR1915  SNORD114.2 NCRNA00173\n",
       "GSM2817526 6.833720 6.785075 6.912212 6.892806 6.954553   7.111827  \n",
       "GSM2817527 6.760976 6.934950 6.733048 6.751993 6.829305   6.917215  \n",
       "GSM2817528 6.971292 6.680617 6.840213 6.903527 7.049400   7.181285  \n",
       "GSM2817529 6.826196 6.805928 7.101132 6.806975 6.986882   7.011594  \n",
       "GSM2817530 6.789320 6.854278 6.791942 6.862519 6.862885   6.942666  \n",
       "GSM2817531 6.835550 6.955170 6.810018 6.764952 7.005092   7.054844  \n",
       "GSM2817532 6.952082 6.765160 6.884458 6.778028 6.925981   6.933213  \n",
       "GSM2817533 6.886333 6.674160 6.829705 7.138849 6.944981   7.048155  \n",
       "GSM2817534 6.902676 6.757125 6.843316 6.872361 6.987333   6.978397  \n",
       "GSM2817535       NA       NA       NA       NA       NA         NA  \n",
       "GSM2817536 7.042588 6.873422 6.891404 6.854721 6.909943   6.968605  \n",
       "GSM2817537 6.736781 6.855240 6.908772 6.863020 6.993486   6.790131  \n",
       "GSM2817538 6.793411 6.587430 6.839221 6.904119 6.855970   6.972581  \n",
       "GSM2817539       NA       NA       NA       NA       NA         NA  \n",
       "GSM2817540 6.937571 6.758244 6.907123 6.731661 6.750698   7.017781  "
      ]
     },
     "metadata": {},
     "output_type": "display_data"
    }
   ],
   "source": [
    "df"
   ]
  },
  {
   "cell_type": "code",
   "execution_count": 168,
   "id": "00db4ed2",
   "metadata": {
    "pycharm": {
     "name": "#%%\n"
    }
   },
   "outputs": [],
   "source": [
    "df <- df[-c(10,14),]"
   ]
  },
  {
   "cell_type": "code",
   "execution_count": 169,
   "id": "29ba6d28",
   "metadata": {
    "pycharm": {
     "name": "#%%\n"
    }
   },
   "outputs": [],
   "source": [
    "# Remove NA\n",
    "df <- df[, colSums(is.na(df)) == 0]\n",
    "# Remove columns with all 0s\n",
    "df <- df[, colSums(df) > 0]\n",
    "# Remove columns without gene symbol\n",
    "df <- df[,nzchar(colnames(df))]\n",
    "# Remove double names genes (GENE1 /// GENE2)\n",
    "colnames(df) <- gsub(\" ///.*\", \"\", colnames(df))\n",
    "# Make all columns uppercase\n",
    "colnames(df) <- toupper(colnames(df))"
   ]
  },
  {
   "cell_type": "code",
   "execution_count": 170,
   "id": "ef057be8",
   "metadata": {
    "pycharm": {
     "name": "#%%\n"
    }
   },
   "outputs": [
    {
     "data": {
      "text/html": [
       "<table class=\"dataframe\">\n",
       "<caption>A data.frame: 6 × 22607</caption>\n",
       "<thead>\n",
       "\t<tr><th></th><th scope=col>EEF1A1</th><th scope=col>GAPDH</th><th scope=col>RPS28</th><th scope=col>IPO13</th><th scope=col>CDT1</th><th scope=col>LPP</th><th scope=col>FLJ36848</th><th scope=col>HNRNPAB</th><th scope=col>LOH12CR1</th><th scope=col>SNIP1</th><th scope=col>⋯</th><th scope=col>MIR1323</th><th scope=col>MIR21</th><th scope=col>MIR708</th><th scope=col>MIR1206</th><th scope=col>MIR326</th><th scope=col>MIR212</th><th scope=col>MIR33B</th><th scope=col>MIR1915</th><th scope=col>SNORD114.2</th><th scope=col>NCRNA00173</th></tr>\n",
       "\t<tr><th></th><th scope=col>&lt;dbl&gt;</th><th scope=col>&lt;dbl&gt;</th><th scope=col>&lt;dbl&gt;</th><th scope=col>&lt;dbl&gt;</th><th scope=col>&lt;dbl&gt;</th><th scope=col>&lt;dbl&gt;</th><th scope=col>&lt;dbl&gt;</th><th scope=col>&lt;dbl&gt;</th><th scope=col>&lt;dbl&gt;</th><th scope=col>&lt;dbl&gt;</th><th scope=col>⋯</th><th scope=col>&lt;dbl&gt;</th><th scope=col>&lt;dbl&gt;</th><th scope=col>&lt;dbl&gt;</th><th scope=col>&lt;dbl&gt;</th><th scope=col>&lt;dbl&gt;</th><th scope=col>&lt;dbl&gt;</th><th scope=col>&lt;dbl&gt;</th><th scope=col>&lt;dbl&gt;</th><th scope=col>&lt;dbl&gt;</th><th scope=col>&lt;dbl&gt;</th></tr>\n",
       "</thead>\n",
       "<tbody>\n",
       "\t<tr><th scope=row>GSM2817526</th><td>13.96538</td><td>12.02243</td><td>10.30342</td><td>7.923415</td><td>7.556815</td><td>11.54259</td><td>7.031143</td><td>12.13677</td><td>6.762560</td><td>8.475246</td><td>⋯</td><td>6.902072</td><td>6.958248</td><td>6.858053</td><td>6.980707</td><td>6.833720</td><td>6.785075</td><td>6.912212</td><td>6.892806</td><td>6.954553</td><td>7.111827</td></tr>\n",
       "\t<tr><th scope=row>GSM2817527</th><td>13.88178</td><td>12.15410</td><td>10.03943</td><td>7.713827</td><td>7.421822</td><td>11.07283</td><td>7.124354</td><td>12.03808</td><td>6.785807</td><td>8.735668</td><td>⋯</td><td>6.851239</td><td>7.115920</td><td>6.996154</td><td>6.854219</td><td>6.760976</td><td>6.934950</td><td>6.733048</td><td>6.751993</td><td>6.829305</td><td>6.917215</td></tr>\n",
       "\t<tr><th scope=row>GSM2817528</th><td>13.79709</td><td>11.83830</td><td>10.45016</td><td>7.649561</td><td>7.387937</td><td>12.09938</td><td>6.982091</td><td>11.77892</td><td>6.870814</td><td>8.559494</td><td>⋯</td><td>6.867476</td><td>7.083544</td><td>6.912047</td><td>6.850638</td><td>6.971292</td><td>6.680617</td><td>6.840213</td><td>6.903527</td><td>7.049400</td><td>7.181285</td></tr>\n",
       "\t<tr><th scope=row>GSM2817529</th><td>13.97765</td><td>12.22559</td><td>10.53693</td><td>7.774665</td><td>7.656395</td><td>11.54900</td><td>7.415311</td><td>12.01088</td><td>6.765795</td><td>8.444221</td><td>⋯</td><td>6.827497</td><td>6.887409</td><td>6.979913</td><td>6.868392</td><td>6.826196</td><td>6.805928</td><td>7.101132</td><td>6.806975</td><td>6.986882</td><td>7.011594</td></tr>\n",
       "\t<tr><th scope=row>GSM2817530</th><td>13.69787</td><td>12.22000</td><td>10.56426</td><td>7.905209</td><td>7.513871</td><td>11.48225</td><td>7.203571</td><td>12.19846</td><td>6.873852</td><td>8.182619</td><td>⋯</td><td>6.817047</td><td>7.063463</td><td>6.807679</td><td>6.936486</td><td>6.789320</td><td>6.854278</td><td>6.791942</td><td>6.862519</td><td>6.862885</td><td>6.942666</td></tr>\n",
       "\t<tr><th scope=row>GSM2817531</th><td>13.71680</td><td>12.40056</td><td>10.60377</td><td>7.724124</td><td>7.463802</td><td>11.85733</td><td>7.144013</td><td>11.81693</td><td>6.907503</td><td>8.530834</td><td>⋯</td><td>6.848729</td><td>7.525166</td><td>6.850436</td><td>6.793189</td><td>6.835550</td><td>6.955170</td><td>6.810018</td><td>6.764952</td><td>7.005092</td><td>7.054844</td></tr>\n",
       "</tbody>\n",
       "</table>\n"
      ],
      "text/latex": [
       "A data.frame: 6 × 22607\n",
       "\\begin{tabular}{r|lllllllllllllllllllll}\n",
       "  & EEF1A1 & GAPDH & RPS28 & IPO13 & CDT1 & LPP & FLJ36848 & HNRNPAB & LOH12CR1 & SNIP1 & ⋯ & MIR1323 & MIR21 & MIR708 & MIR1206 & MIR326 & MIR212 & MIR33B & MIR1915 & SNORD114.2 & NCRNA00173\\\\\n",
       "  & <dbl> & <dbl> & <dbl> & <dbl> & <dbl> & <dbl> & <dbl> & <dbl> & <dbl> & <dbl> & ⋯ & <dbl> & <dbl> & <dbl> & <dbl> & <dbl> & <dbl> & <dbl> & <dbl> & <dbl> & <dbl>\\\\\n",
       "\\hline\n",
       "\tGSM2817526 & 13.96538 & 12.02243 & 10.30342 & 7.923415 & 7.556815 & 11.54259 & 7.031143 & 12.13677 & 6.762560 & 8.475246 & ⋯ & 6.902072 & 6.958248 & 6.858053 & 6.980707 & 6.833720 & 6.785075 & 6.912212 & 6.892806 & 6.954553 & 7.111827\\\\\n",
       "\tGSM2817527 & 13.88178 & 12.15410 & 10.03943 & 7.713827 & 7.421822 & 11.07283 & 7.124354 & 12.03808 & 6.785807 & 8.735668 & ⋯ & 6.851239 & 7.115920 & 6.996154 & 6.854219 & 6.760976 & 6.934950 & 6.733048 & 6.751993 & 6.829305 & 6.917215\\\\\n",
       "\tGSM2817528 & 13.79709 & 11.83830 & 10.45016 & 7.649561 & 7.387937 & 12.09938 & 6.982091 & 11.77892 & 6.870814 & 8.559494 & ⋯ & 6.867476 & 7.083544 & 6.912047 & 6.850638 & 6.971292 & 6.680617 & 6.840213 & 6.903527 & 7.049400 & 7.181285\\\\\n",
       "\tGSM2817529 & 13.97765 & 12.22559 & 10.53693 & 7.774665 & 7.656395 & 11.54900 & 7.415311 & 12.01088 & 6.765795 & 8.444221 & ⋯ & 6.827497 & 6.887409 & 6.979913 & 6.868392 & 6.826196 & 6.805928 & 7.101132 & 6.806975 & 6.986882 & 7.011594\\\\\n",
       "\tGSM2817530 & 13.69787 & 12.22000 & 10.56426 & 7.905209 & 7.513871 & 11.48225 & 7.203571 & 12.19846 & 6.873852 & 8.182619 & ⋯ & 6.817047 & 7.063463 & 6.807679 & 6.936486 & 6.789320 & 6.854278 & 6.791942 & 6.862519 & 6.862885 & 6.942666\\\\\n",
       "\tGSM2817531 & 13.71680 & 12.40056 & 10.60377 & 7.724124 & 7.463802 & 11.85733 & 7.144013 & 11.81693 & 6.907503 & 8.530834 & ⋯ & 6.848729 & 7.525166 & 6.850436 & 6.793189 & 6.835550 & 6.955170 & 6.810018 & 6.764952 & 7.005092 & 7.054844\\\\\n",
       "\\end{tabular}\n"
      ],
      "text/markdown": [
       "\n",
       "A data.frame: 6 × 22607\n",
       "\n",
       "| <!--/--> | EEF1A1 &lt;dbl&gt; | GAPDH &lt;dbl&gt; | RPS28 &lt;dbl&gt; | IPO13 &lt;dbl&gt; | CDT1 &lt;dbl&gt; | LPP &lt;dbl&gt; | FLJ36848 &lt;dbl&gt; | HNRNPAB &lt;dbl&gt; | LOH12CR1 &lt;dbl&gt; | SNIP1 &lt;dbl&gt; | ⋯ ⋯ | MIR1323 &lt;dbl&gt; | MIR21 &lt;dbl&gt; | MIR708 &lt;dbl&gt; | MIR1206 &lt;dbl&gt; | MIR326 &lt;dbl&gt; | MIR212 &lt;dbl&gt; | MIR33B &lt;dbl&gt; | MIR1915 &lt;dbl&gt; | SNORD114.2 &lt;dbl&gt; | NCRNA00173 &lt;dbl&gt; |\n",
       "|---|---|---|---|---|---|---|---|---|---|---|---|---|---|---|---|---|---|---|---|---|---|\n",
       "| GSM2817526 | 13.96538 | 12.02243 | 10.30342 | 7.923415 | 7.556815 | 11.54259 | 7.031143 | 12.13677 | 6.762560 | 8.475246 | ⋯ | 6.902072 | 6.958248 | 6.858053 | 6.980707 | 6.833720 | 6.785075 | 6.912212 | 6.892806 | 6.954553 | 7.111827 |\n",
       "| GSM2817527 | 13.88178 | 12.15410 | 10.03943 | 7.713827 | 7.421822 | 11.07283 | 7.124354 | 12.03808 | 6.785807 | 8.735668 | ⋯ | 6.851239 | 7.115920 | 6.996154 | 6.854219 | 6.760976 | 6.934950 | 6.733048 | 6.751993 | 6.829305 | 6.917215 |\n",
       "| GSM2817528 | 13.79709 | 11.83830 | 10.45016 | 7.649561 | 7.387937 | 12.09938 | 6.982091 | 11.77892 | 6.870814 | 8.559494 | ⋯ | 6.867476 | 7.083544 | 6.912047 | 6.850638 | 6.971292 | 6.680617 | 6.840213 | 6.903527 | 7.049400 | 7.181285 |\n",
       "| GSM2817529 | 13.97765 | 12.22559 | 10.53693 | 7.774665 | 7.656395 | 11.54900 | 7.415311 | 12.01088 | 6.765795 | 8.444221 | ⋯ | 6.827497 | 6.887409 | 6.979913 | 6.868392 | 6.826196 | 6.805928 | 7.101132 | 6.806975 | 6.986882 | 7.011594 |\n",
       "| GSM2817530 | 13.69787 | 12.22000 | 10.56426 | 7.905209 | 7.513871 | 11.48225 | 7.203571 | 12.19846 | 6.873852 | 8.182619 | ⋯ | 6.817047 | 7.063463 | 6.807679 | 6.936486 | 6.789320 | 6.854278 | 6.791942 | 6.862519 | 6.862885 | 6.942666 |\n",
       "| GSM2817531 | 13.71680 | 12.40056 | 10.60377 | 7.724124 | 7.463802 | 11.85733 | 7.144013 | 11.81693 | 6.907503 | 8.530834 | ⋯ | 6.848729 | 7.525166 | 6.850436 | 6.793189 | 6.835550 | 6.955170 | 6.810018 | 6.764952 | 7.005092 | 7.054844 |\n",
       "\n"
      ],
      "text/plain": [
       "           EEF1A1   GAPDH    RPS28    IPO13    CDT1     LPP      FLJ36848\n",
       "GSM2817526 13.96538 12.02243 10.30342 7.923415 7.556815 11.54259 7.031143\n",
       "GSM2817527 13.88178 12.15410 10.03943 7.713827 7.421822 11.07283 7.124354\n",
       "GSM2817528 13.79709 11.83830 10.45016 7.649561 7.387937 12.09938 6.982091\n",
       "GSM2817529 13.97765 12.22559 10.53693 7.774665 7.656395 11.54900 7.415311\n",
       "GSM2817530 13.69787 12.22000 10.56426 7.905209 7.513871 11.48225 7.203571\n",
       "GSM2817531 13.71680 12.40056 10.60377 7.724124 7.463802 11.85733 7.144013\n",
       "           HNRNPAB  LOH12CR1 SNIP1    ⋯ MIR1323  MIR21    MIR708   MIR1206 \n",
       "GSM2817526 12.13677 6.762560 8.475246 ⋯ 6.902072 6.958248 6.858053 6.980707\n",
       "GSM2817527 12.03808 6.785807 8.735668 ⋯ 6.851239 7.115920 6.996154 6.854219\n",
       "GSM2817528 11.77892 6.870814 8.559494 ⋯ 6.867476 7.083544 6.912047 6.850638\n",
       "GSM2817529 12.01088 6.765795 8.444221 ⋯ 6.827497 6.887409 6.979913 6.868392\n",
       "GSM2817530 12.19846 6.873852 8.182619 ⋯ 6.817047 7.063463 6.807679 6.936486\n",
       "GSM2817531 11.81693 6.907503 8.530834 ⋯ 6.848729 7.525166 6.850436 6.793189\n",
       "           MIR326   MIR212   MIR33B   MIR1915  SNORD114.2 NCRNA00173\n",
       "GSM2817526 6.833720 6.785075 6.912212 6.892806 6.954553   7.111827  \n",
       "GSM2817527 6.760976 6.934950 6.733048 6.751993 6.829305   6.917215  \n",
       "GSM2817528 6.971292 6.680617 6.840213 6.903527 7.049400   7.181285  \n",
       "GSM2817529 6.826196 6.805928 7.101132 6.806975 6.986882   7.011594  \n",
       "GSM2817530 6.789320 6.854278 6.791942 6.862519 6.862885   6.942666  \n",
       "GSM2817531 6.835550 6.955170 6.810018 6.764952 7.005092   7.054844  "
      ]
     },
     "metadata": {},
     "output_type": "display_data"
    }
   ],
   "source": [
    "head(df)"
   ]
  },
  {
   "cell_type": "code",
   "execution_count": 171,
   "id": "9632aac5",
   "metadata": {
    "pycharm": {
     "name": "#%%\n"
    }
   },
   "outputs": [],
   "source": [
    "write.table(df, file=paste(dataPath, csv_name, sep=\"\"), sep=\",\")"
   ]
  },
  {
   "cell_type": "markdown",
   "id": "efc1b371",
   "metadata": {
    "pycharm": {
     "name": "#%% md\n"
    }
   },
   "source": [
    "# SCDO"
   ]
  },
  {
   "cell_type": "code",
   "execution_count": 4,
   "id": "7fd95ad2",
   "metadata": {
    "pycharm": {
     "name": "#%%\n"
    }
   },
   "outputs": [],
   "source": [
    "csv_name = 'SCDO_GSE116930.csv'"
   ]
  },
  {
   "cell_type": "code",
   "execution_count": 5,
   "id": "08d150e7",
   "metadata": {
    "pycharm": {
     "name": "#%%\n"
    }
   },
   "outputs": [],
   "source": [
    "df <- read.csv(file=paste(dataPath, csv_name, sep=\"\"), header=TRUE)"
   ]
  },
  {
   "cell_type": "code",
   "execution_count": 8,
   "id": "48031506",
   "metadata": {
    "scrolled": false,
    "pycharm": {
     "name": "#%%\n"
    }
   },
   "outputs": [
    {
     "data": {
      "text/html": [
       "<table class=\"dataframe\">\n",
       "<caption>A data.frame: 6 × 19950</caption>\n",
       "<thead>\n",
       "\t<tr><th></th><th scope=col>LUCIFERASE</th><th scope=col>TSPAN6</th><th scope=col>TNMD</th><th scope=col>DPM1</th><th scope=col>SCYL3</th><th scope=col>C1orf112</th><th scope=col>FGR</th><th scope=col>CFH</th><th scope=col>FUCA2</th><th scope=col>GCLC</th><th scope=col>⋯</th><th scope=col>AL022397.1</th><th scope=col>ZNF48.1</th><th scope=col>AL022067.1</th><th scope=col>EXOC3L2.1</th><th scope=col>RP13.210D15.9</th><th scope=col>WDFY4.1</th><th scope=col>RP11.244E17.1</th><th scope=col>CTB.60B18.23</th><th scope=col>RP3.454G6.2</th><th scope=col>RP5.937E21.8</th></tr>\n",
       "\t<tr><th></th><th scope=col>&lt;dbl&gt;</th><th scope=col>&lt;dbl&gt;</th><th scope=col>&lt;dbl&gt;</th><th scope=col>&lt;dbl&gt;</th><th scope=col>&lt;dbl&gt;</th><th scope=col>&lt;dbl&gt;</th><th scope=col>&lt;dbl&gt;</th><th scope=col>&lt;dbl&gt;</th><th scope=col>&lt;dbl&gt;</th><th scope=col>&lt;dbl&gt;</th><th scope=col>⋯</th><th scope=col>&lt;dbl&gt;</th><th scope=col>&lt;dbl&gt;</th><th scope=col>&lt;dbl&gt;</th><th scope=col>&lt;dbl&gt;</th><th scope=col>&lt;dbl&gt;</th><th scope=col>&lt;dbl&gt;</th><th scope=col>&lt;dbl&gt;</th><th scope=col>&lt;dbl&gt;</th><th scope=col>&lt;dbl&gt;</th><th scope=col>&lt;dbl&gt;</th></tr>\n",
       "</thead>\n",
       "<tbody>\n",
       "\t<tr><th scope=row>PSM_HES7_KO_1</th><td>1379.390</td><td>102.8180</td><td>3.34310</td><td>70.6159</td><td>3.54495</td><td>11.9621</td><td>0.1980390</td><td>0.0000000</td><td>42.7183</td><td>40.4207</td><td>⋯</td><td>0.347405</td><td> 8.27968</td><td>16.8887</td><td>6.73088</td><td>0</td><td>0</td><td>1.386850</td><td>0.000000</td><td>0.0634917</td><td>0.0000000</td></tr>\n",
       "\t<tr><th scope=row>PSM_HES7_KO_7</th><td>2072.330</td><td>100.2600</td><td>3.85374</td><td>73.8619</td><td>3.12265</td><td>12.1027</td><td>0.1147530</td><td>0.0000000</td><td>45.3055</td><td>50.1169</td><td>⋯</td><td>0.567233</td><td>10.29990</td><td>10.4985</td><td>3.64435</td><td>0</td><td>0</td><td>0.954315</td><td>0.316007</td><td>0.0000000</td><td>0.0627254</td></tr>\n",
       "\t<tr><th scope=row>PSM_HES7_KO_8</th><td>2261.150</td><td> 95.7013</td><td>2.46920</td><td>65.5125</td><td>3.59161</td><td>10.5953</td><td>0.2664440</td><td>0.0152127</td><td>41.5188</td><td>49.0845</td><td>⋯</td><td>0.412645</td><td> 9.78573</td><td>13.7200</td><td>5.32349</td><td>0</td><td>0</td><td>1.046150</td><td>0.000000</td><td>0.0000000</td><td>0.0000000</td></tr>\n",
       "\t<tr><th scope=row>PSM_DLL3_KO_2</th><td> 355.957</td><td> 82.6633</td><td>2.68993</td><td>61.2381</td><td>4.52932</td><td>13.1934</td><td>0.1217250</td><td>0.0000000</td><td>46.9607</td><td>45.0787</td><td>⋯</td><td>0.922770</td><td> 8.23142</td><td>10.3666</td><td>3.88345</td><td>0</td><td>0</td><td>1.212070</td><td>0.120381</td><td>0.0000000</td><td>0.0000000</td></tr>\n",
       "\t<tr><th scope=row>PSM_DLL3_KO_6</th><td> 501.639</td><td> 93.8430</td><td>3.60968</td><td>63.6134</td><td>3.29774</td><td>10.9561</td><td>0.0874466</td><td>0.0000000</td><td>47.6370</td><td>43.4710</td><td>⋯</td><td>0.651967</td><td> 8.86148</td><td>13.9170</td><td>4.76608</td><td>0</td><td>0</td><td>1.908110</td><td>0.000000</td><td>0.0000000</td><td>0.0512468</td></tr>\n",
       "\t<tr><th scope=row>PSM_LFNG_KO_2</th><td> 745.421</td><td> 89.7061</td><td>4.14642</td><td>64.9405</td><td>4.49170</td><td>11.5493</td><td>0.2743050</td><td>0.0000000</td><td>47.0909</td><td>44.7843</td><td>⋯</td><td>0.915244</td><td> 7.45420</td><td>13.9584</td><td>4.27964</td><td>0</td><td>0</td><td>1.186880</td><td>0.000017</td><td>0.0000000</td><td>0.0000000</td></tr>\n",
       "</tbody>\n",
       "</table>\n"
      ],
      "text/latex": [
       "A data.frame: 6 × 19950\n",
       "\\begin{tabular}{r|lllllllllllllllllllll}\n",
       "  & LUCIFERASE & TSPAN6 & TNMD & DPM1 & SCYL3 & C1orf112 & FGR & CFH & FUCA2 & GCLC & ⋯ & AL022397.1 & ZNF48.1 & AL022067.1 & EXOC3L2.1 & RP13.210D15.9 & WDFY4.1 & RP11.244E17.1 & CTB.60B18.23 & RP3.454G6.2 & RP5.937E21.8\\\\\n",
       "  & <dbl> & <dbl> & <dbl> & <dbl> & <dbl> & <dbl> & <dbl> & <dbl> & <dbl> & <dbl> & ⋯ & <dbl> & <dbl> & <dbl> & <dbl> & <dbl> & <dbl> & <dbl> & <dbl> & <dbl> & <dbl>\\\\\n",
       "\\hline\n",
       "\tPSM\\_HES7\\_KO\\_1 & 1379.390 & 102.8180 & 3.34310 & 70.6159 & 3.54495 & 11.9621 & 0.1980390 & 0.0000000 & 42.7183 & 40.4207 & ⋯ & 0.347405 &  8.27968 & 16.8887 & 6.73088 & 0 & 0 & 1.386850 & 0.000000 & 0.0634917 & 0.0000000\\\\\n",
       "\tPSM\\_HES7\\_KO\\_7 & 2072.330 & 100.2600 & 3.85374 & 73.8619 & 3.12265 & 12.1027 & 0.1147530 & 0.0000000 & 45.3055 & 50.1169 & ⋯ & 0.567233 & 10.29990 & 10.4985 & 3.64435 & 0 & 0 & 0.954315 & 0.316007 & 0.0000000 & 0.0627254\\\\\n",
       "\tPSM\\_HES7\\_KO\\_8 & 2261.150 &  95.7013 & 2.46920 & 65.5125 & 3.59161 & 10.5953 & 0.2664440 & 0.0152127 & 41.5188 & 49.0845 & ⋯ & 0.412645 &  9.78573 & 13.7200 & 5.32349 & 0 & 0 & 1.046150 & 0.000000 & 0.0000000 & 0.0000000\\\\\n",
       "\tPSM\\_DLL3\\_KO\\_2 &  355.957 &  82.6633 & 2.68993 & 61.2381 & 4.52932 & 13.1934 & 0.1217250 & 0.0000000 & 46.9607 & 45.0787 & ⋯ & 0.922770 &  8.23142 & 10.3666 & 3.88345 & 0 & 0 & 1.212070 & 0.120381 & 0.0000000 & 0.0000000\\\\\n",
       "\tPSM\\_DLL3\\_KO\\_6 &  501.639 &  93.8430 & 3.60968 & 63.6134 & 3.29774 & 10.9561 & 0.0874466 & 0.0000000 & 47.6370 & 43.4710 & ⋯ & 0.651967 &  8.86148 & 13.9170 & 4.76608 & 0 & 0 & 1.908110 & 0.000000 & 0.0000000 & 0.0512468\\\\\n",
       "\tPSM\\_LFNG\\_KO\\_2 &  745.421 &  89.7061 & 4.14642 & 64.9405 & 4.49170 & 11.5493 & 0.2743050 & 0.0000000 & 47.0909 & 44.7843 & ⋯ & 0.915244 &  7.45420 & 13.9584 & 4.27964 & 0 & 0 & 1.186880 & 0.000017 & 0.0000000 & 0.0000000\\\\\n",
       "\\end{tabular}\n"
      ],
      "text/markdown": [
       "\n",
       "A data.frame: 6 × 19950\n",
       "\n",
       "| <!--/--> | LUCIFERASE &lt;dbl&gt; | TSPAN6 &lt;dbl&gt; | TNMD &lt;dbl&gt; | DPM1 &lt;dbl&gt; | SCYL3 &lt;dbl&gt; | C1orf112 &lt;dbl&gt; | FGR &lt;dbl&gt; | CFH &lt;dbl&gt; | FUCA2 &lt;dbl&gt; | GCLC &lt;dbl&gt; | ⋯ ⋯ | AL022397.1 &lt;dbl&gt; | ZNF48.1 &lt;dbl&gt; | AL022067.1 &lt;dbl&gt; | EXOC3L2.1 &lt;dbl&gt; | RP13.210D15.9 &lt;dbl&gt; | WDFY4.1 &lt;dbl&gt; | RP11.244E17.1 &lt;dbl&gt; | CTB.60B18.23 &lt;dbl&gt; | RP3.454G6.2 &lt;dbl&gt; | RP5.937E21.8 &lt;dbl&gt; |\n",
       "|---|---|---|---|---|---|---|---|---|---|---|---|---|---|---|---|---|---|---|---|---|---|\n",
       "| PSM_HES7_KO_1 | 1379.390 | 102.8180 | 3.34310 | 70.6159 | 3.54495 | 11.9621 | 0.1980390 | 0.0000000 | 42.7183 | 40.4207 | ⋯ | 0.347405 |  8.27968 | 16.8887 | 6.73088 | 0 | 0 | 1.386850 | 0.000000 | 0.0634917 | 0.0000000 |\n",
       "| PSM_HES7_KO_7 | 2072.330 | 100.2600 | 3.85374 | 73.8619 | 3.12265 | 12.1027 | 0.1147530 | 0.0000000 | 45.3055 | 50.1169 | ⋯ | 0.567233 | 10.29990 | 10.4985 | 3.64435 | 0 | 0 | 0.954315 | 0.316007 | 0.0000000 | 0.0627254 |\n",
       "| PSM_HES7_KO_8 | 2261.150 |  95.7013 | 2.46920 | 65.5125 | 3.59161 | 10.5953 | 0.2664440 | 0.0152127 | 41.5188 | 49.0845 | ⋯ | 0.412645 |  9.78573 | 13.7200 | 5.32349 | 0 | 0 | 1.046150 | 0.000000 | 0.0000000 | 0.0000000 |\n",
       "| PSM_DLL3_KO_2 |  355.957 |  82.6633 | 2.68993 | 61.2381 | 4.52932 | 13.1934 | 0.1217250 | 0.0000000 | 46.9607 | 45.0787 | ⋯ | 0.922770 |  8.23142 | 10.3666 | 3.88345 | 0 | 0 | 1.212070 | 0.120381 | 0.0000000 | 0.0000000 |\n",
       "| PSM_DLL3_KO_6 |  501.639 |  93.8430 | 3.60968 | 63.6134 | 3.29774 | 10.9561 | 0.0874466 | 0.0000000 | 47.6370 | 43.4710 | ⋯ | 0.651967 |  8.86148 | 13.9170 | 4.76608 | 0 | 0 | 1.908110 | 0.000000 | 0.0000000 | 0.0512468 |\n",
       "| PSM_LFNG_KO_2 |  745.421 |  89.7061 | 4.14642 | 64.9405 | 4.49170 | 11.5493 | 0.2743050 | 0.0000000 | 47.0909 | 44.7843 | ⋯ | 0.915244 |  7.45420 | 13.9584 | 4.27964 | 0 | 0 | 1.186880 | 0.000017 | 0.0000000 | 0.0000000 |\n",
       "\n"
      ],
      "text/plain": [
       "              LUCIFERASE TSPAN6   TNMD    DPM1    SCYL3   C1orf112 FGR      \n",
       "PSM_HES7_KO_1 1379.390   102.8180 3.34310 70.6159 3.54495 11.9621  0.1980390\n",
       "PSM_HES7_KO_7 2072.330   100.2600 3.85374 73.8619 3.12265 12.1027  0.1147530\n",
       "PSM_HES7_KO_8 2261.150    95.7013 2.46920 65.5125 3.59161 10.5953  0.2664440\n",
       "PSM_DLL3_KO_2  355.957    82.6633 2.68993 61.2381 4.52932 13.1934  0.1217250\n",
       "PSM_DLL3_KO_6  501.639    93.8430 3.60968 63.6134 3.29774 10.9561  0.0874466\n",
       "PSM_LFNG_KO_2  745.421    89.7061 4.14642 64.9405 4.49170 11.5493  0.2743050\n",
       "              CFH       FUCA2   GCLC    ⋯ AL022397.1 ZNF48.1  AL022067.1\n",
       "PSM_HES7_KO_1 0.0000000 42.7183 40.4207 ⋯ 0.347405    8.27968 16.8887   \n",
       "PSM_HES7_KO_7 0.0000000 45.3055 50.1169 ⋯ 0.567233   10.29990 10.4985   \n",
       "PSM_HES7_KO_8 0.0152127 41.5188 49.0845 ⋯ 0.412645    9.78573 13.7200   \n",
       "PSM_DLL3_KO_2 0.0000000 46.9607 45.0787 ⋯ 0.922770    8.23142 10.3666   \n",
       "PSM_DLL3_KO_6 0.0000000 47.6370 43.4710 ⋯ 0.651967    8.86148 13.9170   \n",
       "PSM_LFNG_KO_2 0.0000000 47.0909 44.7843 ⋯ 0.915244    7.45420 13.9584   \n",
       "              EXOC3L2.1 RP13.210D15.9 WDFY4.1 RP11.244E17.1 CTB.60B18.23\n",
       "PSM_HES7_KO_1 6.73088   0             0       1.386850      0.000000    \n",
       "PSM_HES7_KO_7 3.64435   0             0       0.954315      0.316007    \n",
       "PSM_HES7_KO_8 5.32349   0             0       1.046150      0.000000    \n",
       "PSM_DLL3_KO_2 3.88345   0             0       1.212070      0.120381    \n",
       "PSM_DLL3_KO_6 4.76608   0             0       1.908110      0.000000    \n",
       "PSM_LFNG_KO_2 4.27964   0             0       1.186880      0.000017    \n",
       "              RP3.454G6.2 RP5.937E21.8\n",
       "PSM_HES7_KO_1 0.0634917   0.0000000   \n",
       "PSM_HES7_KO_7 0.0000000   0.0627254   \n",
       "PSM_HES7_KO_8 0.0000000   0.0000000   \n",
       "PSM_DLL3_KO_2 0.0000000   0.0000000   \n",
       "PSM_DLL3_KO_6 0.0000000   0.0512468   \n",
       "PSM_LFNG_KO_2 0.0000000   0.0000000   "
      ]
     },
     "metadata": {},
     "output_type": "display_data"
    }
   ],
   "source": [
    "head(df)"
   ]
  },
  {
   "cell_type": "code",
   "execution_count": 9,
   "id": "871ee263",
   "metadata": {
    "pycharm": {
     "name": "#%%\n"
    }
   },
   "outputs": [],
   "source": [
    "# Remove NA\n",
    "df <- df[, colSums(is.na(df)) == 0]\n",
    "# Remove columns with all 0s\n",
    "df <- df[, colSums(df) > 0]\n",
    "# Remove columns without gene symbol\n",
    "df <- df[,nzchar(colnames(df))]\n",
    "# Remove double names genes (GENE1 /// GENE2)\n",
    "colnames(df) <- gsub(\" ///.*\", \"\", colnames(df))\n",
    "# Make all columns uppercase\n",
    "colnames(df) <- toupper(colnames(df))"
   ]
  },
  {
   "cell_type": "code",
   "execution_count": 10,
   "id": "7009ea8a",
   "metadata": {
    "pycharm": {
     "name": "#%%\n"
    }
   },
   "outputs": [
    {
     "data": {
      "text/html": [
       "<table class=\"dataframe\">\n",
       "<caption>A data.frame: 6 × 17778</caption>\n",
       "<thead>\n",
       "\t<tr><th></th><th scope=col>LUCIFERASE</th><th scope=col>TSPAN6</th><th scope=col>TNMD</th><th scope=col>DPM1</th><th scope=col>SCYL3</th><th scope=col>C1ORF112</th><th scope=col>FGR</th><th scope=col>CFH</th><th scope=col>FUCA2</th><th scope=col>GCLC</th><th scope=col>⋯</th><th scope=col>RP11.402P6.15</th><th scope=col>AC074141.1</th><th scope=col>AL022397.1</th><th scope=col>ZNF48.1</th><th scope=col>AL022067.1</th><th scope=col>EXOC3L2.1</th><th scope=col>RP11.244E17.1</th><th scope=col>CTB.60B18.23</th><th scope=col>RP3.454G6.2</th><th scope=col>RP5.937E21.8</th></tr>\n",
       "\t<tr><th></th><th scope=col>&lt;dbl&gt;</th><th scope=col>&lt;dbl&gt;</th><th scope=col>&lt;dbl&gt;</th><th scope=col>&lt;dbl&gt;</th><th scope=col>&lt;dbl&gt;</th><th scope=col>&lt;dbl&gt;</th><th scope=col>&lt;dbl&gt;</th><th scope=col>&lt;dbl&gt;</th><th scope=col>&lt;dbl&gt;</th><th scope=col>&lt;dbl&gt;</th><th scope=col>⋯</th><th scope=col>&lt;dbl&gt;</th><th scope=col>&lt;dbl&gt;</th><th scope=col>&lt;dbl&gt;</th><th scope=col>&lt;dbl&gt;</th><th scope=col>&lt;dbl&gt;</th><th scope=col>&lt;dbl&gt;</th><th scope=col>&lt;dbl&gt;</th><th scope=col>&lt;dbl&gt;</th><th scope=col>&lt;dbl&gt;</th><th scope=col>&lt;dbl&gt;</th></tr>\n",
       "</thead>\n",
       "<tbody>\n",
       "\t<tr><th scope=row>PSM_HES7_KO_1</th><td>1379.390</td><td>102.8180</td><td>3.34310</td><td>70.6159</td><td>3.54495</td><td>11.9621</td><td>0.1980390</td><td>0.0000000</td><td>42.7183</td><td>40.4207</td><td>⋯</td><td>0.1163280</td><td>0.482393</td><td>0.347405</td><td> 8.27968</td><td>16.8887</td><td>6.73088</td><td>1.386850</td><td>0.000000</td><td>0.0634917</td><td>0.0000000</td></tr>\n",
       "\t<tr><th scope=row>PSM_HES7_KO_7</th><td>2072.330</td><td>100.2600</td><td>3.85374</td><td>73.8619</td><td>3.12265</td><td>12.1027</td><td>0.1147530</td><td>0.0000000</td><td>45.3055</td><td>50.1169</td><td>⋯</td><td>0.0000000</td><td>0.590162</td><td>0.567233</td><td>10.29990</td><td>10.4985</td><td>3.64435</td><td>0.954315</td><td>0.316007</td><td>0.0000000</td><td>0.0627254</td></tr>\n",
       "\t<tr><th scope=row>PSM_HES7_KO_8</th><td>2261.150</td><td> 95.7013</td><td>2.46920</td><td>65.5125</td><td>3.59161</td><td>10.5953</td><td>0.2664440</td><td>0.0152127</td><td>41.5188</td><td>49.0845</td><td>⋯</td><td>0.0435326</td><td>0.607555</td><td>0.412645</td><td> 9.78573</td><td>13.7200</td><td>5.32349</td><td>1.046150</td><td>0.000000</td><td>0.0000000</td><td>0.0000000</td></tr>\n",
       "\t<tr><th scope=row>PSM_DLL3_KO_2</th><td> 355.957</td><td> 82.6633</td><td>2.68993</td><td>61.2381</td><td>4.52932</td><td>13.1934</td><td>0.1217250</td><td>0.0000000</td><td>46.9607</td><td>45.0787</td><td>⋯</td><td>0.0000000</td><td>0.272975</td><td>0.922770</td><td> 8.23142</td><td>10.3666</td><td>3.88345</td><td>1.212070</td><td>0.120381</td><td>0.0000000</td><td>0.0000000</td></tr>\n",
       "\t<tr><th scope=row>PSM_DLL3_KO_6</th><td> 501.639</td><td> 93.8430</td><td>3.60968</td><td>63.6134</td><td>3.29774</td><td>10.9561</td><td>0.0874466</td><td>0.0000000</td><td>47.6370</td><td>43.4710</td><td>⋯</td><td>0.0000000</td><td>0.269360</td><td>0.651967</td><td> 8.86148</td><td>13.9170</td><td>4.76608</td><td>1.908110</td><td>0.000000</td><td>0.0000000</td><td>0.0512468</td></tr>\n",
       "\t<tr><th scope=row>PSM_LFNG_KO_2</th><td> 745.421</td><td> 89.7061</td><td>4.14642</td><td>64.9405</td><td>4.49170</td><td>11.5493</td><td>0.2743050</td><td>0.0000000</td><td>47.0909</td><td>44.7843</td><td>⋯</td><td>0.0000000</td><td>0.783665</td><td>0.915244</td><td> 7.45420</td><td>13.9584</td><td>4.27964</td><td>1.186880</td><td>0.000017</td><td>0.0000000</td><td>0.0000000</td></tr>\n",
       "</tbody>\n",
       "</table>\n"
      ],
      "text/latex": [
       "A data.frame: 6 × 17778\n",
       "\\begin{tabular}{r|lllllllllllllllllllll}\n",
       "  & LUCIFERASE & TSPAN6 & TNMD & DPM1 & SCYL3 & C1ORF112 & FGR & CFH & FUCA2 & GCLC & ⋯ & RP11.402P6.15 & AC074141.1 & AL022397.1 & ZNF48.1 & AL022067.1 & EXOC3L2.1 & RP11.244E17.1 & CTB.60B18.23 & RP3.454G6.2 & RP5.937E21.8\\\\\n",
       "  & <dbl> & <dbl> & <dbl> & <dbl> & <dbl> & <dbl> & <dbl> & <dbl> & <dbl> & <dbl> & ⋯ & <dbl> & <dbl> & <dbl> & <dbl> & <dbl> & <dbl> & <dbl> & <dbl> & <dbl> & <dbl>\\\\\n",
       "\\hline\n",
       "\tPSM\\_HES7\\_KO\\_1 & 1379.390 & 102.8180 & 3.34310 & 70.6159 & 3.54495 & 11.9621 & 0.1980390 & 0.0000000 & 42.7183 & 40.4207 & ⋯ & 0.1163280 & 0.482393 & 0.347405 &  8.27968 & 16.8887 & 6.73088 & 1.386850 & 0.000000 & 0.0634917 & 0.0000000\\\\\n",
       "\tPSM\\_HES7\\_KO\\_7 & 2072.330 & 100.2600 & 3.85374 & 73.8619 & 3.12265 & 12.1027 & 0.1147530 & 0.0000000 & 45.3055 & 50.1169 & ⋯ & 0.0000000 & 0.590162 & 0.567233 & 10.29990 & 10.4985 & 3.64435 & 0.954315 & 0.316007 & 0.0000000 & 0.0627254\\\\\n",
       "\tPSM\\_HES7\\_KO\\_8 & 2261.150 &  95.7013 & 2.46920 & 65.5125 & 3.59161 & 10.5953 & 0.2664440 & 0.0152127 & 41.5188 & 49.0845 & ⋯ & 0.0435326 & 0.607555 & 0.412645 &  9.78573 & 13.7200 & 5.32349 & 1.046150 & 0.000000 & 0.0000000 & 0.0000000\\\\\n",
       "\tPSM\\_DLL3\\_KO\\_2 &  355.957 &  82.6633 & 2.68993 & 61.2381 & 4.52932 & 13.1934 & 0.1217250 & 0.0000000 & 46.9607 & 45.0787 & ⋯ & 0.0000000 & 0.272975 & 0.922770 &  8.23142 & 10.3666 & 3.88345 & 1.212070 & 0.120381 & 0.0000000 & 0.0000000\\\\\n",
       "\tPSM\\_DLL3\\_KO\\_6 &  501.639 &  93.8430 & 3.60968 & 63.6134 & 3.29774 & 10.9561 & 0.0874466 & 0.0000000 & 47.6370 & 43.4710 & ⋯ & 0.0000000 & 0.269360 & 0.651967 &  8.86148 & 13.9170 & 4.76608 & 1.908110 & 0.000000 & 0.0000000 & 0.0512468\\\\\n",
       "\tPSM\\_LFNG\\_KO\\_2 &  745.421 &  89.7061 & 4.14642 & 64.9405 & 4.49170 & 11.5493 & 0.2743050 & 0.0000000 & 47.0909 & 44.7843 & ⋯ & 0.0000000 & 0.783665 & 0.915244 &  7.45420 & 13.9584 & 4.27964 & 1.186880 & 0.000017 & 0.0000000 & 0.0000000\\\\\n",
       "\\end{tabular}\n"
      ],
      "text/markdown": [
       "\n",
       "A data.frame: 6 × 17778\n",
       "\n",
       "| <!--/--> | LUCIFERASE &lt;dbl&gt; | TSPAN6 &lt;dbl&gt; | TNMD &lt;dbl&gt; | DPM1 &lt;dbl&gt; | SCYL3 &lt;dbl&gt; | C1ORF112 &lt;dbl&gt; | FGR &lt;dbl&gt; | CFH &lt;dbl&gt; | FUCA2 &lt;dbl&gt; | GCLC &lt;dbl&gt; | ⋯ ⋯ | RP11.402P6.15 &lt;dbl&gt; | AC074141.1 &lt;dbl&gt; | AL022397.1 &lt;dbl&gt; | ZNF48.1 &lt;dbl&gt; | AL022067.1 &lt;dbl&gt; | EXOC3L2.1 &lt;dbl&gt; | RP11.244E17.1 &lt;dbl&gt; | CTB.60B18.23 &lt;dbl&gt; | RP3.454G6.2 &lt;dbl&gt; | RP5.937E21.8 &lt;dbl&gt; |\n",
       "|---|---|---|---|---|---|---|---|---|---|---|---|---|---|---|---|---|---|---|---|---|---|\n",
       "| PSM_HES7_KO_1 | 1379.390 | 102.8180 | 3.34310 | 70.6159 | 3.54495 | 11.9621 | 0.1980390 | 0.0000000 | 42.7183 | 40.4207 | ⋯ | 0.1163280 | 0.482393 | 0.347405 |  8.27968 | 16.8887 | 6.73088 | 1.386850 | 0.000000 | 0.0634917 | 0.0000000 |\n",
       "| PSM_HES7_KO_7 | 2072.330 | 100.2600 | 3.85374 | 73.8619 | 3.12265 | 12.1027 | 0.1147530 | 0.0000000 | 45.3055 | 50.1169 | ⋯ | 0.0000000 | 0.590162 | 0.567233 | 10.29990 | 10.4985 | 3.64435 | 0.954315 | 0.316007 | 0.0000000 | 0.0627254 |\n",
       "| PSM_HES7_KO_8 | 2261.150 |  95.7013 | 2.46920 | 65.5125 | 3.59161 | 10.5953 | 0.2664440 | 0.0152127 | 41.5188 | 49.0845 | ⋯ | 0.0435326 | 0.607555 | 0.412645 |  9.78573 | 13.7200 | 5.32349 | 1.046150 | 0.000000 | 0.0000000 | 0.0000000 |\n",
       "| PSM_DLL3_KO_2 |  355.957 |  82.6633 | 2.68993 | 61.2381 | 4.52932 | 13.1934 | 0.1217250 | 0.0000000 | 46.9607 | 45.0787 | ⋯ | 0.0000000 | 0.272975 | 0.922770 |  8.23142 | 10.3666 | 3.88345 | 1.212070 | 0.120381 | 0.0000000 | 0.0000000 |\n",
       "| PSM_DLL3_KO_6 |  501.639 |  93.8430 | 3.60968 | 63.6134 | 3.29774 | 10.9561 | 0.0874466 | 0.0000000 | 47.6370 | 43.4710 | ⋯ | 0.0000000 | 0.269360 | 0.651967 |  8.86148 | 13.9170 | 4.76608 | 1.908110 | 0.000000 | 0.0000000 | 0.0512468 |\n",
       "| PSM_LFNG_KO_2 |  745.421 |  89.7061 | 4.14642 | 64.9405 | 4.49170 | 11.5493 | 0.2743050 | 0.0000000 | 47.0909 | 44.7843 | ⋯ | 0.0000000 | 0.783665 | 0.915244 |  7.45420 | 13.9584 | 4.27964 | 1.186880 | 0.000017 | 0.0000000 | 0.0000000 |\n",
       "\n"
      ],
      "text/plain": [
       "              LUCIFERASE TSPAN6   TNMD    DPM1    SCYL3   C1ORF112 FGR      \n",
       "PSM_HES7_KO_1 1379.390   102.8180 3.34310 70.6159 3.54495 11.9621  0.1980390\n",
       "PSM_HES7_KO_7 2072.330   100.2600 3.85374 73.8619 3.12265 12.1027  0.1147530\n",
       "PSM_HES7_KO_8 2261.150    95.7013 2.46920 65.5125 3.59161 10.5953  0.2664440\n",
       "PSM_DLL3_KO_2  355.957    82.6633 2.68993 61.2381 4.52932 13.1934  0.1217250\n",
       "PSM_DLL3_KO_6  501.639    93.8430 3.60968 63.6134 3.29774 10.9561  0.0874466\n",
       "PSM_LFNG_KO_2  745.421    89.7061 4.14642 64.9405 4.49170 11.5493  0.2743050\n",
       "              CFH       FUCA2   GCLC    ⋯ RP11.402P6.15 AC074141.1 AL022397.1\n",
       "PSM_HES7_KO_1 0.0000000 42.7183 40.4207 ⋯ 0.1163280     0.482393   0.347405  \n",
       "PSM_HES7_KO_7 0.0000000 45.3055 50.1169 ⋯ 0.0000000     0.590162   0.567233  \n",
       "PSM_HES7_KO_8 0.0152127 41.5188 49.0845 ⋯ 0.0435326     0.607555   0.412645  \n",
       "PSM_DLL3_KO_2 0.0000000 46.9607 45.0787 ⋯ 0.0000000     0.272975   0.922770  \n",
       "PSM_DLL3_KO_6 0.0000000 47.6370 43.4710 ⋯ 0.0000000     0.269360   0.651967  \n",
       "PSM_LFNG_KO_2 0.0000000 47.0909 44.7843 ⋯ 0.0000000     0.783665   0.915244  \n",
       "              ZNF48.1  AL022067.1 EXOC3L2.1 RP11.244E17.1 CTB.60B18.23\n",
       "PSM_HES7_KO_1  8.27968 16.8887    6.73088   1.386850      0.000000    \n",
       "PSM_HES7_KO_7 10.29990 10.4985    3.64435   0.954315      0.316007    \n",
       "PSM_HES7_KO_8  9.78573 13.7200    5.32349   1.046150      0.000000    \n",
       "PSM_DLL3_KO_2  8.23142 10.3666    3.88345   1.212070      0.120381    \n",
       "PSM_DLL3_KO_6  8.86148 13.9170    4.76608   1.908110      0.000000    \n",
       "PSM_LFNG_KO_2  7.45420 13.9584    4.27964   1.186880      0.000017    \n",
       "              RP3.454G6.2 RP5.937E21.8\n",
       "PSM_HES7_KO_1 0.0634917   0.0000000   \n",
       "PSM_HES7_KO_7 0.0000000   0.0627254   \n",
       "PSM_HES7_KO_8 0.0000000   0.0000000   \n",
       "PSM_DLL3_KO_2 0.0000000   0.0000000   \n",
       "PSM_DLL3_KO_6 0.0000000   0.0512468   \n",
       "PSM_LFNG_KO_2 0.0000000   0.0000000   "
      ]
     },
     "metadata": {},
     "output_type": "display_data"
    }
   ],
   "source": [
    "head(df)"
   ]
  },
  {
   "cell_type": "code",
   "execution_count": 11,
   "id": "8d9e3339",
   "metadata": {
    "pycharm": {
     "name": "#%%\n"
    }
   },
   "outputs": [],
   "source": [
    "write.table(df, file=paste(dataPath, csv_name, sep=\"\"), sep=\",\")"
   ]
  },
  {
   "cell_type": "markdown",
   "id": "4307ae41",
   "metadata": {
    "pycharm": {
     "name": "#%% md\n"
    }
   },
   "source": [
    "# PNH 1"
   ]
  },
  {
   "cell_type": "code",
   "execution_count": 52,
   "id": "78fd26fa",
   "metadata": {
    "pycharm": {
     "name": "#%%\n"
    }
   },
   "outputs": [],
   "source": [
    "csv_name = 'PNH_GSE83808.csv'"
   ]
  },
  {
   "cell_type": "code",
   "execution_count": 53,
   "id": "4be81d03",
   "metadata": {
    "pycharm": {
     "name": "#%%\n"
    }
   },
   "outputs": [],
   "source": [
    "df <- read.csv(file=paste(dataPath, csv_name, sep=\"\"), header=TRUE)"
   ]
  },
  {
   "cell_type": "code",
   "execution_count": 56,
   "id": "dc99db95",
   "metadata": {
    "scrolled": true,
    "pycharm": {
     "name": "#%%\n"
    }
   },
   "outputs": [
    {
     "data": {
      "text/html": [
       "<table class=\"dataframe\">\n",
       "<caption>A data.frame: 6 × 8803</caption>\n",
       "<thead>\n",
       "\t<tr><th></th><th scope=col>100</th><th scope=col>10000</th><th scope=col>10001</th><th scope=col>10005</th><th scope=col>10006</th><th scope=col>10007</th><th scope=col>10009</th><th scope=col>10010</th><th scope=col>100101267</th><th scope=col>100101467</th><th scope=col>⋯</th><th scope=col>9985</th><th scope=col>9986</th><th scope=col>9987</th><th scope=col>9988</th><th scope=col>9989</th><th scope=col>9990</th><th scope=col>9991</th><th scope=col>9993</th><th scope=col>9994</th><th scope=col>9997</th></tr>\n",
       "\t<tr><th></th><th scope=col>&lt;dbl&gt;</th><th scope=col>&lt;dbl&gt;</th><th scope=col>&lt;dbl&gt;</th><th scope=col>&lt;dbl&gt;</th><th scope=col>&lt;dbl&gt;</th><th scope=col>&lt;dbl&gt;</th><th scope=col>&lt;dbl&gt;</th><th scope=col>&lt;dbl&gt;</th><th scope=col>&lt;dbl&gt;</th><th scope=col>&lt;dbl&gt;</th><th scope=col>⋯</th><th scope=col>&lt;dbl&gt;</th><th scope=col>&lt;dbl&gt;</th><th scope=col>&lt;dbl&gt;</th><th scope=col>&lt;dbl&gt;</th><th scope=col>&lt;dbl&gt;</th><th scope=col>&lt;dbl&gt;</th><th scope=col>&lt;dbl&gt;</th><th scope=col>&lt;dbl&gt;</th><th scope=col>&lt;dbl&gt;</th><th scope=col>&lt;dbl&gt;</th></tr>\n",
       "</thead>\n",
       "<tbody>\n",
       "\t<tr><th scope=row>PNH1.CD4Memory</th><td> 9.09317</td><td>53.6941</td><td>15.9824</td><td>8.41726</td><td>32.8238</td><td> 8.02703</td><td>16.1475</td><td>34.6507</td><td>11.2298</td><td>2.58559</td><td>⋯</td><td> 4.89987</td><td>10.97420</td><td>77.6561</td><td>10.60100</td><td>15.11080</td><td>14.57890</td><td>49.7691</td><td>31.3169</td><td>18.7174</td><td>7.24178</td></tr>\n",
       "\t<tr><th scope=row>PNH1.CD4Naive</th><td> 6.16933</td><td>40.7802</td><td>17.3133</td><td>5.57398</td><td>25.6378</td><td> 6.36067</td><td>16.2447</td><td>12.7740</td><td>10.3504</td><td>3.62134</td><td>⋯</td><td> 4.48913</td><td> 5.88211</td><td>83.2055</td><td>13.86300</td><td> 4.16826</td><td>24.16650</td><td>33.9694</td><td>31.5107</td><td>19.5255</td><td>2.82557</td></tr>\n",
       "\t<tr><th scope=row>PNH1.CD8Memory</th><td>11.24090</td><td>65.5781</td><td>18.7741</td><td>8.90167</td><td>35.5291</td><td>10.34080</td><td>13.5210</td><td>31.6277</td><td>12.4404</td><td>2.99128</td><td>⋯</td><td> 9.13052</td><td>10.93570</td><td>71.1315</td><td> 5.21605</td><td>16.46420</td><td> 9.82878</td><td>48.1389</td><td>28.1670</td><td>16.7845</td><td>6.13246</td></tr>\n",
       "\t<tr><th scope=row>PNH1.CD8Naive</th><td> 6.15602</td><td>48.8477</td><td>19.3960</td><td>9.26614</td><td>31.9750</td><td>13.01360</td><td>14.6299</td><td>18.1740</td><td>10.6911</td><td>4.52836</td><td>⋯</td><td> 5.05769</td><td> 9.67363</td><td>86.7307</td><td>11.00270</td><td> 6.69589</td><td>18.49940</td><td>38.6927</td><td>29.9686</td><td>18.8735</td><td>3.36891</td></tr>\n",
       "\t<tr><th scope=row>PNH2.CD4Memory</th><td>11.49760</td><td>45.2357</td><td>21.8686</td><td>7.09714</td><td>37.3964</td><td> 4.48016</td><td>17.6756</td><td>27.5051</td><td>13.7323</td><td>1.81018</td><td>⋯</td><td>11.12550</td><td>10.09490</td><td>69.2918</td><td>13.22850</td><td>12.89410</td><td>18.63430</td><td>55.0993</td><td>22.3891</td><td>15.4246</td><td>4.58083</td></tr>\n",
       "\t<tr><th scope=row>PNH2.CD4Naive</th><td>10.96020</td><td>38.0731</td><td>22.9002</td><td>6.88371</td><td>34.9433</td><td> 4.80480</td><td>26.3469</td><td>18.9634</td><td>14.5415</td><td>3.18990</td><td>⋯</td><td> 4.84352</td><td> 7.00930</td><td>94.1287</td><td>14.34070</td><td> 6.12798</td><td>27.30520</td><td>49.6073</td><td>24.6074</td><td>19.5232</td><td>1.10126</td></tr>\n",
       "</tbody>\n",
       "</table>\n"
      ],
      "text/latex": [
       "A data.frame: 6 × 8803\n",
       "\\begin{tabular}{r|lllllllllllllllllllll}\n",
       "  & 100 & 10000 & 10001 & 10005 & 10006 & 10007 & 10009 & 10010 & 100101267 & 100101467 & ⋯ & 9985 & 9986 & 9987 & 9988 & 9989 & 9990 & 9991 & 9993 & 9994 & 9997\\\\\n",
       "  & <dbl> & <dbl> & <dbl> & <dbl> & <dbl> & <dbl> & <dbl> & <dbl> & <dbl> & <dbl> & ⋯ & <dbl> & <dbl> & <dbl> & <dbl> & <dbl> & <dbl> & <dbl> & <dbl> & <dbl> & <dbl>\\\\\n",
       "\\hline\n",
       "\tPNH1.CD4Memory &  9.09317 & 53.6941 & 15.9824 & 8.41726 & 32.8238 &  8.02703 & 16.1475 & 34.6507 & 11.2298 & 2.58559 & ⋯ &  4.89987 & 10.97420 & 77.6561 & 10.60100 & 15.11080 & 14.57890 & 49.7691 & 31.3169 & 18.7174 & 7.24178\\\\\n",
       "\tPNH1.CD4Naive &  6.16933 & 40.7802 & 17.3133 & 5.57398 & 25.6378 &  6.36067 & 16.2447 & 12.7740 & 10.3504 & 3.62134 & ⋯ &  4.48913 &  5.88211 & 83.2055 & 13.86300 &  4.16826 & 24.16650 & 33.9694 & 31.5107 & 19.5255 & 2.82557\\\\\n",
       "\tPNH1.CD8Memory & 11.24090 & 65.5781 & 18.7741 & 8.90167 & 35.5291 & 10.34080 & 13.5210 & 31.6277 & 12.4404 & 2.99128 & ⋯ &  9.13052 & 10.93570 & 71.1315 &  5.21605 & 16.46420 &  9.82878 & 48.1389 & 28.1670 & 16.7845 & 6.13246\\\\\n",
       "\tPNH1.CD8Naive &  6.15602 & 48.8477 & 19.3960 & 9.26614 & 31.9750 & 13.01360 & 14.6299 & 18.1740 & 10.6911 & 4.52836 & ⋯ &  5.05769 &  9.67363 & 86.7307 & 11.00270 &  6.69589 & 18.49940 & 38.6927 & 29.9686 & 18.8735 & 3.36891\\\\\n",
       "\tPNH2.CD4Memory & 11.49760 & 45.2357 & 21.8686 & 7.09714 & 37.3964 &  4.48016 & 17.6756 & 27.5051 & 13.7323 & 1.81018 & ⋯ & 11.12550 & 10.09490 & 69.2918 & 13.22850 & 12.89410 & 18.63430 & 55.0993 & 22.3891 & 15.4246 & 4.58083\\\\\n",
       "\tPNH2.CD4Naive & 10.96020 & 38.0731 & 22.9002 & 6.88371 & 34.9433 &  4.80480 & 26.3469 & 18.9634 & 14.5415 & 3.18990 & ⋯ &  4.84352 &  7.00930 & 94.1287 & 14.34070 &  6.12798 & 27.30520 & 49.6073 & 24.6074 & 19.5232 & 1.10126\\\\\n",
       "\\end{tabular}\n"
      ],
      "text/markdown": [
       "\n",
       "A data.frame: 6 × 8803\n",
       "\n",
       "| <!--/--> | 100 &lt;dbl&gt; | 10000 &lt;dbl&gt; | 10001 &lt;dbl&gt; | 10005 &lt;dbl&gt; | 10006 &lt;dbl&gt; | 10007 &lt;dbl&gt; | 10009 &lt;dbl&gt; | 10010 &lt;dbl&gt; | 100101267 &lt;dbl&gt; | 100101467 &lt;dbl&gt; | ⋯ ⋯ | 9985 &lt;dbl&gt; | 9986 &lt;dbl&gt; | 9987 &lt;dbl&gt; | 9988 &lt;dbl&gt; | 9989 &lt;dbl&gt; | 9990 &lt;dbl&gt; | 9991 &lt;dbl&gt; | 9993 &lt;dbl&gt; | 9994 &lt;dbl&gt; | 9997 &lt;dbl&gt; |\n",
       "|---|---|---|---|---|---|---|---|---|---|---|---|---|---|---|---|---|---|---|---|---|---|\n",
       "| PNH1.CD4Memory |  9.09317 | 53.6941 | 15.9824 | 8.41726 | 32.8238 |  8.02703 | 16.1475 | 34.6507 | 11.2298 | 2.58559 | ⋯ |  4.89987 | 10.97420 | 77.6561 | 10.60100 | 15.11080 | 14.57890 | 49.7691 | 31.3169 | 18.7174 | 7.24178 |\n",
       "| PNH1.CD4Naive |  6.16933 | 40.7802 | 17.3133 | 5.57398 | 25.6378 |  6.36067 | 16.2447 | 12.7740 | 10.3504 | 3.62134 | ⋯ |  4.48913 |  5.88211 | 83.2055 | 13.86300 |  4.16826 | 24.16650 | 33.9694 | 31.5107 | 19.5255 | 2.82557 |\n",
       "| PNH1.CD8Memory | 11.24090 | 65.5781 | 18.7741 | 8.90167 | 35.5291 | 10.34080 | 13.5210 | 31.6277 | 12.4404 | 2.99128 | ⋯ |  9.13052 | 10.93570 | 71.1315 |  5.21605 | 16.46420 |  9.82878 | 48.1389 | 28.1670 | 16.7845 | 6.13246 |\n",
       "| PNH1.CD8Naive |  6.15602 | 48.8477 | 19.3960 | 9.26614 | 31.9750 | 13.01360 | 14.6299 | 18.1740 | 10.6911 | 4.52836 | ⋯ |  5.05769 |  9.67363 | 86.7307 | 11.00270 |  6.69589 | 18.49940 | 38.6927 | 29.9686 | 18.8735 | 3.36891 |\n",
       "| PNH2.CD4Memory | 11.49760 | 45.2357 | 21.8686 | 7.09714 | 37.3964 |  4.48016 | 17.6756 | 27.5051 | 13.7323 | 1.81018 | ⋯ | 11.12550 | 10.09490 | 69.2918 | 13.22850 | 12.89410 | 18.63430 | 55.0993 | 22.3891 | 15.4246 | 4.58083 |\n",
       "| PNH2.CD4Naive | 10.96020 | 38.0731 | 22.9002 | 6.88371 | 34.9433 |  4.80480 | 26.3469 | 18.9634 | 14.5415 | 3.18990 | ⋯ |  4.84352 |  7.00930 | 94.1287 | 14.34070 |  6.12798 | 27.30520 | 49.6073 | 24.6074 | 19.5232 | 1.10126 |\n",
       "\n"
      ],
      "text/plain": [
       "               100      10000   10001   10005   10006   10007    10009  \n",
       "PNH1.CD4Memory  9.09317 53.6941 15.9824 8.41726 32.8238  8.02703 16.1475\n",
       "PNH1.CD4Naive   6.16933 40.7802 17.3133 5.57398 25.6378  6.36067 16.2447\n",
       "PNH1.CD8Memory 11.24090 65.5781 18.7741 8.90167 35.5291 10.34080 13.5210\n",
       "PNH1.CD8Naive   6.15602 48.8477 19.3960 9.26614 31.9750 13.01360 14.6299\n",
       "PNH2.CD4Memory 11.49760 45.2357 21.8686 7.09714 37.3964  4.48016 17.6756\n",
       "PNH2.CD4Naive  10.96020 38.0731 22.9002 6.88371 34.9433  4.80480 26.3469\n",
       "               10010   100101267 100101467 ⋯ 9985     9986     9987    9988    \n",
       "PNH1.CD4Memory 34.6507 11.2298   2.58559   ⋯  4.89987 10.97420 77.6561 10.60100\n",
       "PNH1.CD4Naive  12.7740 10.3504   3.62134   ⋯  4.48913  5.88211 83.2055 13.86300\n",
       "PNH1.CD8Memory 31.6277 12.4404   2.99128   ⋯  9.13052 10.93570 71.1315  5.21605\n",
       "PNH1.CD8Naive  18.1740 10.6911   4.52836   ⋯  5.05769  9.67363 86.7307 11.00270\n",
       "PNH2.CD4Memory 27.5051 13.7323   1.81018   ⋯ 11.12550 10.09490 69.2918 13.22850\n",
       "PNH2.CD4Naive  18.9634 14.5415   3.18990   ⋯  4.84352  7.00930 94.1287 14.34070\n",
       "               9989     9990     9991    9993    9994    9997   \n",
       "PNH1.CD4Memory 15.11080 14.57890 49.7691 31.3169 18.7174 7.24178\n",
       "PNH1.CD4Naive   4.16826 24.16650 33.9694 31.5107 19.5255 2.82557\n",
       "PNH1.CD8Memory 16.46420  9.82878 48.1389 28.1670 16.7845 6.13246\n",
       "PNH1.CD8Naive   6.69589 18.49940 38.6927 29.9686 18.8735 3.36891\n",
       "PNH2.CD4Memory 12.89410 18.63430 55.0993 22.3891 15.4246 4.58083\n",
       "PNH2.CD4Naive   6.12798 27.30520 49.6073 24.6074 19.5232 1.10126"
      ]
     },
     "metadata": {},
     "output_type": "display_data"
    }
   ],
   "source": [
    "head(df)"
   ]
  },
  {
   "cell_type": "code",
   "execution_count": 55,
   "id": "c8c0a2b7",
   "metadata": {
    "pycharm": {
     "name": "#%%\n"
    }
   },
   "outputs": [],
   "source": [
    "colnames(df) <- sub(\"X\", \"\", colnames(df))"
   ]
  },
  {
   "cell_type": "code",
   "execution_count": 57,
   "id": "a0bcc854",
   "metadata": {
    "scrolled": true,
    "pycharm": {
     "name": "#%%\n"
    }
   },
   "outputs": [],
   "source": [
    "library(org.Hs.eg.db)"
   ]
  },
  {
   "cell_type": "code",
   "execution_count": 58,
   "id": "c8bf03b7",
   "metadata": {
    "pycharm": {
     "name": "#%%\n"
    }
   },
   "outputs": [
    {
     "name": "stderr",
     "output_type": "stream",
     "text": [
      "'select()' returned 1:1 mapping between keys and columns\n",
      "\n"
     ]
    }
   ],
   "source": [
    "keys <- keys(org.Hs.eg.db)\n",
    "ref_gene <- select(org.Hs.eg.db, keys=keys, columns = c(\"SYMBOL\", \"ENTREZID\"))"
   ]
  },
  {
   "cell_type": "code",
   "execution_count": 59,
   "id": "a4a8eb89",
   "metadata": {
    "pycharm": {
     "name": "#%%\n"
    }
   },
   "outputs": [
    {
     "data": {
      "text/html": [
       "<table class=\"dataframe\">\n",
       "<caption>A data.frame: 6 × 2</caption>\n",
       "<thead>\n",
       "\t<tr><th></th><th scope=col>ENTREZID</th><th scope=col>SYMBOL</th></tr>\n",
       "\t<tr><th></th><th scope=col>&lt;chr&gt;</th><th scope=col>&lt;chr&gt;</th></tr>\n",
       "</thead>\n",
       "<tbody>\n",
       "\t<tr><th scope=row>1</th><td>1 </td><td>A1BG </td></tr>\n",
       "\t<tr><th scope=row>2</th><td>2 </td><td>A2M  </td></tr>\n",
       "\t<tr><th scope=row>3</th><td>3 </td><td>A2MP1</td></tr>\n",
       "\t<tr><th scope=row>4</th><td>9 </td><td>NAT1 </td></tr>\n",
       "\t<tr><th scope=row>5</th><td>10</td><td>NAT2 </td></tr>\n",
       "\t<tr><th scope=row>6</th><td>11</td><td>NATP </td></tr>\n",
       "</tbody>\n",
       "</table>\n"
      ],
      "text/latex": [
       "A data.frame: 6 × 2\n",
       "\\begin{tabular}{r|ll}\n",
       "  & ENTREZID & SYMBOL\\\\\n",
       "  & <chr> & <chr>\\\\\n",
       "\\hline\n",
       "\t1 & 1  & A1BG \\\\\n",
       "\t2 & 2  & A2M  \\\\\n",
       "\t3 & 3  & A2MP1\\\\\n",
       "\t4 & 9  & NAT1 \\\\\n",
       "\t5 & 10 & NAT2 \\\\\n",
       "\t6 & 11 & NATP \\\\\n",
       "\\end{tabular}\n"
      ],
      "text/markdown": [
       "\n",
       "A data.frame: 6 × 2\n",
       "\n",
       "| <!--/--> | ENTREZID &lt;chr&gt; | SYMBOL &lt;chr&gt; |\n",
       "|---|---|---|\n",
       "| 1 | 1  | A1BG  |\n",
       "| 2 | 2  | A2M   |\n",
       "| 3 | 3  | A2MP1 |\n",
       "| 4 | 9  | NAT1  |\n",
       "| 5 | 10 | NAT2  |\n",
       "| 6 | 11 | NATP  |\n",
       "\n"
      ],
      "text/plain": [
       "  ENTREZID SYMBOL\n",
       "1 1        A1BG  \n",
       "2 2        A2M   \n",
       "3 3        A2MP1 \n",
       "4 9        NAT1  \n",
       "5 10       NAT2  \n",
       "6 11       NATP  "
      ]
     },
     "metadata": {},
     "output_type": "display_data"
    }
   ],
   "source": [
    "head(ref_gene)"
   ]
  },
  {
   "cell_type": "code",
   "execution_count": 60,
   "id": "70b0fa53",
   "metadata": {
    "scrolled": true,
    "pycharm": {
     "name": "#%%\n"
    }
   },
   "outputs": [],
   "source": [
    "# Make smaller table to speedup the translation\n",
    "ref_gene_df <- data.frame(colnames(df))\n",
    "colnames(ref_gene_df) <- c(\"ENTREZID\")\n",
    "ref_gene <- merge(x=ref_gene, y=ref_gene_df, by=\"ENTREZID\")"
   ]
  },
  {
   "cell_type": "code",
   "execution_count": 61,
   "id": "d3caa6bc",
   "metadata": {
    "pycharm": {
     "name": "#%%\n"
    }
   },
   "outputs": [],
   "source": [
    "# Get Gene Symbol from platform columns\n",
    "new_col <- c()\n",
    "for (i in colnames(df)) {\n",
    "    new_col <- append(new_col, ref_gene[ref_gene$ENTREZID == i, 'SYMBOL'])\n",
    "}"
   ]
  },
  {
   "cell_type": "code",
   "execution_count": 62,
   "id": "805d8e58",
   "metadata": {
    "pycharm": {
     "name": "#%%\n"
    }
   },
   "outputs": [],
   "source": [
    "colnames(df) <- new_col"
   ]
  },
  {
   "cell_type": "code",
   "execution_count": 64,
   "id": "037e153e",
   "metadata": {
    "pycharm": {
     "name": "#%%\n"
    }
   },
   "outputs": [],
   "source": [
    "# Remove NA\n",
    "df <- df[, colSums(is.na(df)) == 0]\n",
    "# Remove columns with all 0s\n",
    "df <- df[, colSums(df) > 0]\n",
    "# Remove columns without gene symbol\n",
    "df <- df[,nzchar(colnames(df))]\n",
    "# Remove double names genes (GENE1 /// GENE2)\n",
    "colnames(df) <- gsub(\" ///.*\", \"\", colnames(df))\n",
    "# Make all columns uppercase\n",
    "colnames(df) <- toupper(colnames(df))"
   ]
  },
  {
   "cell_type": "code",
   "execution_count": 66,
   "id": "49044703",
   "metadata": {
    "pycharm": {
     "name": "#%%\n"
    }
   },
   "outputs": [],
   "source": [
    "# Remove columns which start by \"NA\" because they didn't refer to any gene\n",
    "null_columns <- grep(\"NA.\", colnames(df))\n",
    "df <- df[,-null_columns]"
   ]
  },
  {
   "cell_type": "code",
   "execution_count": 67,
   "id": "ac3d3cbc",
   "metadata": {
    "pycharm": {
     "name": "#%%\n"
    }
   },
   "outputs": [
    {
     "data": {
      "text/html": [
       "<table class=\"dataframe\">\n",
       "<caption>A data.frame: 6 × 8643</caption>\n",
       "<thead>\n",
       "\t<tr><th></th><th scope=col>ADA</th><th scope=col>AKT3</th><th scope=col>MED6</th><th scope=col>ACOT8</th><th scope=col>ABI1</th><th scope=col>GNPDA1</th><th scope=col>ZBTB33</th><th scope=col>TANK</th><th scope=col>POM121C</th><th scope=col>ZSCAN30</th><th scope=col>⋯</th><th scope=col>RCE1</th><th scope=col>HNRNPDL</th><th scope=col>DMTF1</th><th scope=col>PPP4R1</th><th scope=col>SLC12A6</th><th scope=col>PTBP3</th><th scope=col>DGCR2</th><th scope=col>CASP8AP2</th><th scope=col>SCO2</th><th scope=col>NA</th></tr>\n",
       "\t<tr><th></th><th scope=col>&lt;dbl&gt;</th><th scope=col>&lt;dbl&gt;</th><th scope=col>&lt;dbl&gt;</th><th scope=col>&lt;dbl&gt;</th><th scope=col>&lt;dbl&gt;</th><th scope=col>&lt;dbl&gt;</th><th scope=col>&lt;dbl&gt;</th><th scope=col>&lt;dbl&gt;</th><th scope=col>&lt;dbl&gt;</th><th scope=col>&lt;dbl&gt;</th><th scope=col>⋯</th><th scope=col>&lt;dbl&gt;</th><th scope=col>&lt;dbl&gt;</th><th scope=col>&lt;dbl&gt;</th><th scope=col>&lt;dbl&gt;</th><th scope=col>&lt;dbl&gt;</th><th scope=col>&lt;dbl&gt;</th><th scope=col>&lt;dbl&gt;</th><th scope=col>&lt;dbl&gt;</th><th scope=col>&lt;dbl&gt;</th><th scope=col>&lt;dbl&gt;</th></tr>\n",
       "</thead>\n",
       "<tbody>\n",
       "\t<tr><th scope=row>PNH1.CD4Memory</th><td> 9.09317</td><td>53.6941</td><td>15.9824</td><td>8.41726</td><td>32.8238</td><td> 8.02703</td><td>16.1475</td><td>34.6507</td><td>11.2298</td><td>2.58559</td><td>⋯</td><td>17.11950</td><td>139.446</td><td>11.42530</td><td> 9.94935</td><td> 4.89987</td><td>10.97420</td><td>77.6561</td><td>10.60100</td><td>15.11080</td><td>14.57890</td></tr>\n",
       "\t<tr><th scope=row>PNH1.CD4Naive</th><td> 6.16933</td><td>40.7802</td><td>17.3133</td><td>5.57398</td><td>25.6378</td><td> 6.36067</td><td>16.2447</td><td>12.7740</td><td>10.3504</td><td>3.62134</td><td>⋯</td><td>15.43850</td><td>109.524</td><td> 4.12501</td><td>12.95290</td><td> 4.48913</td><td> 5.88211</td><td>83.2055</td><td>13.86300</td><td> 4.16826</td><td>24.16650</td></tr>\n",
       "\t<tr><th scope=row>PNH1.CD8Memory</th><td>11.24090</td><td>65.5781</td><td>18.7741</td><td>8.90167</td><td>35.5291</td><td>10.34080</td><td>13.5210</td><td>31.6277</td><td>12.4404</td><td>2.99128</td><td>⋯</td><td>14.43630</td><td>132.421</td><td>10.65590</td><td> 9.25604</td><td> 9.13052</td><td>10.93570</td><td>71.1315</td><td> 5.21605</td><td>16.46420</td><td> 9.82878</td></tr>\n",
       "\t<tr><th scope=row>PNH1.CD8Naive</th><td> 6.15602</td><td>48.8477</td><td>19.3960</td><td>9.26614</td><td>31.9750</td><td>13.01360</td><td>14.6299</td><td>18.1740</td><td>10.6911</td><td>4.52836</td><td>⋯</td><td>13.95110</td><td>135.498</td><td> 5.99272</td><td>10.11610</td><td> 5.05769</td><td> 9.67363</td><td>86.7307</td><td>11.00270</td><td> 6.69589</td><td>18.49940</td></tr>\n",
       "\t<tr><th scope=row>PNH2.CD4Memory</th><td>11.49760</td><td>45.2357</td><td>21.8686</td><td>7.09714</td><td>37.3964</td><td> 4.48016</td><td>17.6756</td><td>27.5051</td><td>13.7323</td><td>1.81018</td><td>⋯</td><td> 7.53992</td><td>142.924</td><td>10.96370</td><td> 9.69707</td><td>11.12550</td><td>10.09490</td><td>69.2918</td><td>13.22850</td><td>12.89410</td><td>18.63430</td></tr>\n",
       "\t<tr><th scope=row>PNH2.CD4Naive</th><td>10.96020</td><td>38.0731</td><td>22.9002</td><td>6.88371</td><td>34.9433</td><td> 4.80480</td><td>26.3469</td><td>18.9634</td><td>14.5415</td><td>3.18990</td><td>⋯</td><td> 6.62334</td><td>146.930</td><td> 6.55586</td><td>14.31150</td><td> 4.84352</td><td> 7.00930</td><td>94.1287</td><td>14.34070</td><td> 6.12798</td><td>27.30520</td></tr>\n",
       "</tbody>\n",
       "</table>\n"
      ],
      "text/latex": [
       "A data.frame: 6 × 8643\n",
       "\\begin{tabular}{r|lllllllllllllllllllll}\n",
       "  & ADA & AKT3 & MED6 & ACOT8 & ABI1 & GNPDA1 & ZBTB33 & TANK & POM121C & ZSCAN30 & ⋯ & RCE1 & HNRNPDL & DMTF1 & PPP4R1 & SLC12A6 & PTBP3 & DGCR2 & CASP8AP2 & SCO2 & NA\\\\\n",
       "  & <dbl> & <dbl> & <dbl> & <dbl> & <dbl> & <dbl> & <dbl> & <dbl> & <dbl> & <dbl> & ⋯ & <dbl> & <dbl> & <dbl> & <dbl> & <dbl> & <dbl> & <dbl> & <dbl> & <dbl> & <dbl>\\\\\n",
       "\\hline\n",
       "\tPNH1.CD4Memory &  9.09317 & 53.6941 & 15.9824 & 8.41726 & 32.8238 &  8.02703 & 16.1475 & 34.6507 & 11.2298 & 2.58559 & ⋯ & 17.11950 & 139.446 & 11.42530 &  9.94935 &  4.89987 & 10.97420 & 77.6561 & 10.60100 & 15.11080 & 14.57890\\\\\n",
       "\tPNH1.CD4Naive &  6.16933 & 40.7802 & 17.3133 & 5.57398 & 25.6378 &  6.36067 & 16.2447 & 12.7740 & 10.3504 & 3.62134 & ⋯ & 15.43850 & 109.524 &  4.12501 & 12.95290 &  4.48913 &  5.88211 & 83.2055 & 13.86300 &  4.16826 & 24.16650\\\\\n",
       "\tPNH1.CD8Memory & 11.24090 & 65.5781 & 18.7741 & 8.90167 & 35.5291 & 10.34080 & 13.5210 & 31.6277 & 12.4404 & 2.99128 & ⋯ & 14.43630 & 132.421 & 10.65590 &  9.25604 &  9.13052 & 10.93570 & 71.1315 &  5.21605 & 16.46420 &  9.82878\\\\\n",
       "\tPNH1.CD8Naive &  6.15602 & 48.8477 & 19.3960 & 9.26614 & 31.9750 & 13.01360 & 14.6299 & 18.1740 & 10.6911 & 4.52836 & ⋯ & 13.95110 & 135.498 &  5.99272 & 10.11610 &  5.05769 &  9.67363 & 86.7307 & 11.00270 &  6.69589 & 18.49940\\\\\n",
       "\tPNH2.CD4Memory & 11.49760 & 45.2357 & 21.8686 & 7.09714 & 37.3964 &  4.48016 & 17.6756 & 27.5051 & 13.7323 & 1.81018 & ⋯ &  7.53992 & 142.924 & 10.96370 &  9.69707 & 11.12550 & 10.09490 & 69.2918 & 13.22850 & 12.89410 & 18.63430\\\\\n",
       "\tPNH2.CD4Naive & 10.96020 & 38.0731 & 22.9002 & 6.88371 & 34.9433 &  4.80480 & 26.3469 & 18.9634 & 14.5415 & 3.18990 & ⋯ &  6.62334 & 146.930 &  6.55586 & 14.31150 &  4.84352 &  7.00930 & 94.1287 & 14.34070 &  6.12798 & 27.30520\\\\\n",
       "\\end{tabular}\n"
      ],
      "text/markdown": [
       "\n",
       "A data.frame: 6 × 8643\n",
       "\n",
       "| <!--/--> | ADA &lt;dbl&gt; | AKT3 &lt;dbl&gt; | MED6 &lt;dbl&gt; | ACOT8 &lt;dbl&gt; | ABI1 &lt;dbl&gt; | GNPDA1 &lt;dbl&gt; | ZBTB33 &lt;dbl&gt; | TANK &lt;dbl&gt; | POM121C &lt;dbl&gt; | ZSCAN30 &lt;dbl&gt; | ⋯ ⋯ | RCE1 &lt;dbl&gt; | HNRNPDL &lt;dbl&gt; | DMTF1 &lt;dbl&gt; | PPP4R1 &lt;dbl&gt; | SLC12A6 &lt;dbl&gt; | PTBP3 &lt;dbl&gt; | DGCR2 &lt;dbl&gt; | CASP8AP2 &lt;dbl&gt; | SCO2 &lt;dbl&gt; | NA &lt;dbl&gt; |\n",
       "|---|---|---|---|---|---|---|---|---|---|---|---|---|---|---|---|---|---|---|---|---|---|\n",
       "| PNH1.CD4Memory |  9.09317 | 53.6941 | 15.9824 | 8.41726 | 32.8238 |  8.02703 | 16.1475 | 34.6507 | 11.2298 | 2.58559 | ⋯ | 17.11950 | 139.446 | 11.42530 |  9.94935 |  4.89987 | 10.97420 | 77.6561 | 10.60100 | 15.11080 | 14.57890 |\n",
       "| PNH1.CD4Naive |  6.16933 | 40.7802 | 17.3133 | 5.57398 | 25.6378 |  6.36067 | 16.2447 | 12.7740 | 10.3504 | 3.62134 | ⋯ | 15.43850 | 109.524 |  4.12501 | 12.95290 |  4.48913 |  5.88211 | 83.2055 | 13.86300 |  4.16826 | 24.16650 |\n",
       "| PNH1.CD8Memory | 11.24090 | 65.5781 | 18.7741 | 8.90167 | 35.5291 | 10.34080 | 13.5210 | 31.6277 | 12.4404 | 2.99128 | ⋯ | 14.43630 | 132.421 | 10.65590 |  9.25604 |  9.13052 | 10.93570 | 71.1315 |  5.21605 | 16.46420 |  9.82878 |\n",
       "| PNH1.CD8Naive |  6.15602 | 48.8477 | 19.3960 | 9.26614 | 31.9750 | 13.01360 | 14.6299 | 18.1740 | 10.6911 | 4.52836 | ⋯ | 13.95110 | 135.498 |  5.99272 | 10.11610 |  5.05769 |  9.67363 | 86.7307 | 11.00270 |  6.69589 | 18.49940 |\n",
       "| PNH2.CD4Memory | 11.49760 | 45.2357 | 21.8686 | 7.09714 | 37.3964 |  4.48016 | 17.6756 | 27.5051 | 13.7323 | 1.81018 | ⋯ |  7.53992 | 142.924 | 10.96370 |  9.69707 | 11.12550 | 10.09490 | 69.2918 | 13.22850 | 12.89410 | 18.63430 |\n",
       "| PNH2.CD4Naive | 10.96020 | 38.0731 | 22.9002 | 6.88371 | 34.9433 |  4.80480 | 26.3469 | 18.9634 | 14.5415 | 3.18990 | ⋯ |  6.62334 | 146.930 |  6.55586 | 14.31150 |  4.84352 |  7.00930 | 94.1287 | 14.34070 |  6.12798 | 27.30520 |\n",
       "\n"
      ],
      "text/plain": [
       "               ADA      AKT3    MED6    ACOT8   ABI1    GNPDA1   ZBTB33 \n",
       "PNH1.CD4Memory  9.09317 53.6941 15.9824 8.41726 32.8238  8.02703 16.1475\n",
       "PNH1.CD4Naive   6.16933 40.7802 17.3133 5.57398 25.6378  6.36067 16.2447\n",
       "PNH1.CD8Memory 11.24090 65.5781 18.7741 8.90167 35.5291 10.34080 13.5210\n",
       "PNH1.CD8Naive   6.15602 48.8477 19.3960 9.26614 31.9750 13.01360 14.6299\n",
       "PNH2.CD4Memory 11.49760 45.2357 21.8686 7.09714 37.3964  4.48016 17.6756\n",
       "PNH2.CD4Naive  10.96020 38.0731 22.9002 6.88371 34.9433  4.80480 26.3469\n",
       "               TANK    POM121C ZSCAN30 ⋯ RCE1     HNRNPDL DMTF1    PPP4R1  \n",
       "PNH1.CD4Memory 34.6507 11.2298 2.58559 ⋯ 17.11950 139.446 11.42530  9.94935\n",
       "PNH1.CD4Naive  12.7740 10.3504 3.62134 ⋯ 15.43850 109.524  4.12501 12.95290\n",
       "PNH1.CD8Memory 31.6277 12.4404 2.99128 ⋯ 14.43630 132.421 10.65590  9.25604\n",
       "PNH1.CD8Naive  18.1740 10.6911 4.52836 ⋯ 13.95110 135.498  5.99272 10.11610\n",
       "PNH2.CD4Memory 27.5051 13.7323 1.81018 ⋯  7.53992 142.924 10.96370  9.69707\n",
       "PNH2.CD4Naive  18.9634 14.5415 3.18990 ⋯  6.62334 146.930  6.55586 14.31150\n",
       "               SLC12A6  PTBP3    DGCR2   CASP8AP2 SCO2     <NA>    \n",
       "PNH1.CD4Memory  4.89987 10.97420 77.6561 10.60100 15.11080 14.57890\n",
       "PNH1.CD4Naive   4.48913  5.88211 83.2055 13.86300  4.16826 24.16650\n",
       "PNH1.CD8Memory  9.13052 10.93570 71.1315  5.21605 16.46420  9.82878\n",
       "PNH1.CD8Naive   5.05769  9.67363 86.7307 11.00270  6.69589 18.49940\n",
       "PNH2.CD4Memory 11.12550 10.09490 69.2918 13.22850 12.89410 18.63430\n",
       "PNH2.CD4Naive   4.84352  7.00930 94.1287 14.34070  6.12798 27.30520"
      ]
     },
     "metadata": {},
     "output_type": "display_data"
    }
   ],
   "source": [
    "head(df)"
   ]
  },
  {
   "cell_type": "code",
   "execution_count": 68,
   "id": "4040ac43",
   "metadata": {
    "pycharm": {
     "name": "#%%\n"
    }
   },
   "outputs": [],
   "source": [
    "write.table(df, file=paste(dataPath, csv_name, sep=\"\"), sep=\",\")"
   ]
  },
  {
   "cell_type": "markdown",
   "id": "eb09bb2a",
   "metadata": {
    "pycharm": {
     "name": "#%% md\n"
    }
   },
   "source": [
    "# PNH 2"
   ]
  },
  {
   "cell_type": "code",
   "execution_count": 106,
   "id": "ae400f7d",
   "metadata": {
    "pycharm": {
     "name": "#%%\n"
    }
   },
   "outputs": [],
   "source": [
    "csv_name = 'PNH_GSE122352.csv'"
   ]
  },
  {
   "cell_type": "code",
   "execution_count": 107,
   "id": "3679664d",
   "metadata": {
    "pycharm": {
     "name": "#%%\n"
    }
   },
   "outputs": [],
   "source": [
    "df <- read.csv(file=paste(dataPath, csv_name, sep=\"\"), header=TRUE)"
   ]
  },
  {
   "cell_type": "code",
   "execution_count": 108,
   "id": "b3bc37ba",
   "metadata": {
    "scrolled": false,
    "pycharm": {
     "name": "#%%\n"
    }
   },
   "outputs": [
    {
     "data": {
      "text/html": [
       "<table class=\"dataframe\">\n",
       "<caption>A data.frame: 9 × 112</caption>\n",
       "<thead>\n",
       "\t<tr><th></th><th scope=col>hsa.let.7a.5p</th><th scope=col>hsa.let.7b.5p</th><th scope=col>hsa.let.7c.5p</th><th scope=col>hsa.let.7d.3p</th><th scope=col>hsa.let.7d.5p</th><th scope=col>hsa.let.7e.5p</th><th scope=col>hsa.let.7f.5p</th><th scope=col>hsa.let.7g.5p</th><th scope=col>hsa.let.7i.5p</th><th scope=col>hsa.miR.101.3p</th><th scope=col>⋯</th><th scope=col>hsa.miR.92a.3p</th><th scope=col>hsa.miR.93.5p</th><th scope=col>hsa.miR.99a.5p</th><th scope=col>hsa.miR.99b.5p</th><th scope=col>mmu.miR.378a.3p</th><th scope=col>UniSp2</th><th scope=col>UniSp3.IPC</th><th scope=col>UniSp4</th><th scope=col>UniSp5</th><th scope=col>UniSp6</th></tr>\n",
       "\t<tr><th></th><th scope=col>&lt;dbl&gt;</th><th scope=col>&lt;dbl&gt;</th><th scope=col>&lt;dbl&gt;</th><th scope=col>&lt;dbl&gt;</th><th scope=col>&lt;dbl&gt;</th><th scope=col>&lt;dbl&gt;</th><th scope=col>&lt;dbl&gt;</th><th scope=col>&lt;dbl&gt;</th><th scope=col>&lt;dbl&gt;</th><th scope=col>&lt;dbl&gt;</th><th scope=col>⋯</th><th scope=col>&lt;dbl&gt;</th><th scope=col>&lt;dbl&gt;</th><th scope=col>&lt;dbl&gt;</th><th scope=col>&lt;dbl&gt;</th><th scope=col>&lt;dbl&gt;</th><th scope=col>&lt;lgl&gt;</th><th scope=col>&lt;lgl&gt;</th><th scope=col>&lt;lgl&gt;</th><th scope=col>&lt;lgl&gt;</th><th scope=col>&lt;lgl&gt;</th></tr>\n",
       "</thead>\n",
       "<tbody>\n",
       "\t<tr><th scope=row>GSM3464496</th><td>0.633</td><td>0.245</td><td>0.033</td><td>0.334</td><td>0.054</td><td>0.074</td><td>0.235</td><td>0.651</td><td>0.279</td><td>1.292</td><td>⋯</td><td> 7.362</td><td>0.959</td><td>0.001</td><td>0.044</td><td>0.096</td><td>NA</td><td>NA</td><td>NA</td><td>NA</td><td>NA</td></tr>\n",
       "\t<tr><th scope=row>GSM3464497</th><td>0.868</td><td>0.177</td><td>0.043</td><td>0.221</td><td>0.091</td><td>0.050</td><td>0.309</td><td>0.549</td><td>0.189</td><td>0.724</td><td>⋯</td><td> 1.759</td><td>0.755</td><td>0.012</td><td>0.065</td><td>0.035</td><td>NA</td><td>NA</td><td>NA</td><td>NA</td><td>NA</td></tr>\n",
       "\t<tr><th scope=row>GSM3464498</th><td>1.597</td><td>0.258</td><td>0.060</td><td>0.452</td><td>0.120</td><td>0.000</td><td>0.471</td><td>0.990</td><td>0.340</td><td>2.181</td><td>⋯</td><td> 5.560</td><td>1.306</td><td>0.032</td><td>0.009</td><td>0.137</td><td>NA</td><td>NA</td><td>NA</td><td>NA</td><td>NA</td></tr>\n",
       "\t<tr><th scope=row>GSM3464499</th><td>1.899</td><td>0.898</td><td>0.100</td><td>0.609</td><td>0.044</td><td>0.005</td><td>0.298</td><td>1.145</td><td>1.218</td><td>4.908</td><td>⋯</td><td>22.085</td><td>3.127</td><td>0.080</td><td>0.008</td><td>0.613</td><td>NA</td><td>NA</td><td>NA</td><td>NA</td><td>NA</td></tr>\n",
       "\t<tr><th scope=row>GSM3464500</th><td>1.454</td><td>0.514</td><td>0.091</td><td>0.390</td><td>0.069</td><td>0.039</td><td>0.514</td><td>0.877</td><td>0.270</td><td>2.657</td><td>⋯</td><td> 5.618</td><td>1.682</td><td>0.035</td><td>0.013</td><td>0.113</td><td>NA</td><td>NA</td><td>NA</td><td>NA</td><td>NA</td></tr>\n",
       "\t<tr><th scope=row>GSM3464501</th><td>1.439</td><td>0.549</td><td>0.053</td><td>0.399</td><td>0.102</td><td>0.010</td><td>0.340</td><td>1.075</td><td>0.648</td><td>4.611</td><td>⋯</td><td>11.511</td><td>1.847</td><td>0.042</td><td>0.050</td><td>0.214</td><td>NA</td><td>NA</td><td>NA</td><td>NA</td><td>NA</td></tr>\n",
       "\t<tr><th scope=row>GSM3464502</th><td>1.558</td><td>0.441</td><td>0.038</td><td>0.536</td><td>0.081</td><td>0.049</td><td>0.321</td><td>0.779</td><td>0.379</td><td>3.506</td><td>⋯</td><td> 8.515</td><td>2.479</td><td>0.014</td><td>0.017</td><td>0.130</td><td>NA</td><td>NA</td><td>NA</td><td>NA</td><td>NA</td></tr>\n",
       "\t<tr><th scope=row>GSM3464503</th><td>1.444</td><td>0.463</td><td>0.062</td><td>0.418</td><td>0.086</td><td>0.012</td><td>0.401</td><td>0.859</td><td>0.199</td><td>1.223</td><td>⋯</td><td> 3.138</td><td>1.454</td><td>0.023</td><td>0.008</td><td>0.084</td><td>NA</td><td>NA</td><td>NA</td><td>NA</td><td>NA</td></tr>\n",
       "\t<tr><th scope=row>GSM3464504</th><td>2.250</td><td>0.559</td><td>0.112</td><td>0.993</td><td>0.165</td><td>0.037</td><td>0.503</td><td>1.301</td><td>0.953</td><td>4.000</td><td>⋯</td><td>25.457</td><td>2.549</td><td>0.053</td><td>0.013</td><td>0.432</td><td>NA</td><td>NA</td><td>NA</td><td>NA</td><td>NA</td></tr>\n",
       "</tbody>\n",
       "</table>\n"
      ],
      "text/latex": [
       "A data.frame: 9 × 112\n",
       "\\begin{tabular}{r|lllllllllllllllllllll}\n",
       "  & hsa.let.7a.5p & hsa.let.7b.5p & hsa.let.7c.5p & hsa.let.7d.3p & hsa.let.7d.5p & hsa.let.7e.5p & hsa.let.7f.5p & hsa.let.7g.5p & hsa.let.7i.5p & hsa.miR.101.3p & ⋯ & hsa.miR.92a.3p & hsa.miR.93.5p & hsa.miR.99a.5p & hsa.miR.99b.5p & mmu.miR.378a.3p & UniSp2 & UniSp3.IPC & UniSp4 & UniSp5 & UniSp6\\\\\n",
       "  & <dbl> & <dbl> & <dbl> & <dbl> & <dbl> & <dbl> & <dbl> & <dbl> & <dbl> & <dbl> & ⋯ & <dbl> & <dbl> & <dbl> & <dbl> & <dbl> & <lgl> & <lgl> & <lgl> & <lgl> & <lgl>\\\\\n",
       "\\hline\n",
       "\tGSM3464496 & 0.633 & 0.245 & 0.033 & 0.334 & 0.054 & 0.074 & 0.235 & 0.651 & 0.279 & 1.292 & ⋯ &  7.362 & 0.959 & 0.001 & 0.044 & 0.096 & NA & NA & NA & NA & NA\\\\\n",
       "\tGSM3464497 & 0.868 & 0.177 & 0.043 & 0.221 & 0.091 & 0.050 & 0.309 & 0.549 & 0.189 & 0.724 & ⋯ &  1.759 & 0.755 & 0.012 & 0.065 & 0.035 & NA & NA & NA & NA & NA\\\\\n",
       "\tGSM3464498 & 1.597 & 0.258 & 0.060 & 0.452 & 0.120 & 0.000 & 0.471 & 0.990 & 0.340 & 2.181 & ⋯ &  5.560 & 1.306 & 0.032 & 0.009 & 0.137 & NA & NA & NA & NA & NA\\\\\n",
       "\tGSM3464499 & 1.899 & 0.898 & 0.100 & 0.609 & 0.044 & 0.005 & 0.298 & 1.145 & 1.218 & 4.908 & ⋯ & 22.085 & 3.127 & 0.080 & 0.008 & 0.613 & NA & NA & NA & NA & NA\\\\\n",
       "\tGSM3464500 & 1.454 & 0.514 & 0.091 & 0.390 & 0.069 & 0.039 & 0.514 & 0.877 & 0.270 & 2.657 & ⋯ &  5.618 & 1.682 & 0.035 & 0.013 & 0.113 & NA & NA & NA & NA & NA\\\\\n",
       "\tGSM3464501 & 1.439 & 0.549 & 0.053 & 0.399 & 0.102 & 0.010 & 0.340 & 1.075 & 0.648 & 4.611 & ⋯ & 11.511 & 1.847 & 0.042 & 0.050 & 0.214 & NA & NA & NA & NA & NA\\\\\n",
       "\tGSM3464502 & 1.558 & 0.441 & 0.038 & 0.536 & 0.081 & 0.049 & 0.321 & 0.779 & 0.379 & 3.506 & ⋯ &  8.515 & 2.479 & 0.014 & 0.017 & 0.130 & NA & NA & NA & NA & NA\\\\\n",
       "\tGSM3464503 & 1.444 & 0.463 & 0.062 & 0.418 & 0.086 & 0.012 & 0.401 & 0.859 & 0.199 & 1.223 & ⋯ &  3.138 & 1.454 & 0.023 & 0.008 & 0.084 & NA & NA & NA & NA & NA\\\\\n",
       "\tGSM3464504 & 2.250 & 0.559 & 0.112 & 0.993 & 0.165 & 0.037 & 0.503 & 1.301 & 0.953 & 4.000 & ⋯ & 25.457 & 2.549 & 0.053 & 0.013 & 0.432 & NA & NA & NA & NA & NA\\\\\n",
       "\\end{tabular}\n"
      ],
      "text/markdown": [
       "\n",
       "A data.frame: 9 × 112\n",
       "\n",
       "| <!--/--> | hsa.let.7a.5p &lt;dbl&gt; | hsa.let.7b.5p &lt;dbl&gt; | hsa.let.7c.5p &lt;dbl&gt; | hsa.let.7d.3p &lt;dbl&gt; | hsa.let.7d.5p &lt;dbl&gt; | hsa.let.7e.5p &lt;dbl&gt; | hsa.let.7f.5p &lt;dbl&gt; | hsa.let.7g.5p &lt;dbl&gt; | hsa.let.7i.5p &lt;dbl&gt; | hsa.miR.101.3p &lt;dbl&gt; | ⋯ ⋯ | hsa.miR.92a.3p &lt;dbl&gt; | hsa.miR.93.5p &lt;dbl&gt; | hsa.miR.99a.5p &lt;dbl&gt; | hsa.miR.99b.5p &lt;dbl&gt; | mmu.miR.378a.3p &lt;dbl&gt; | UniSp2 &lt;lgl&gt; | UniSp3.IPC &lt;lgl&gt; | UniSp4 &lt;lgl&gt; | UniSp5 &lt;lgl&gt; | UniSp6 &lt;lgl&gt; |\n",
       "|---|---|---|---|---|---|---|---|---|---|---|---|---|---|---|---|---|---|---|---|---|---|\n",
       "| GSM3464496 | 0.633 | 0.245 | 0.033 | 0.334 | 0.054 | 0.074 | 0.235 | 0.651 | 0.279 | 1.292 | ⋯ |  7.362 | 0.959 | 0.001 | 0.044 | 0.096 | NA | NA | NA | NA | NA |\n",
       "| GSM3464497 | 0.868 | 0.177 | 0.043 | 0.221 | 0.091 | 0.050 | 0.309 | 0.549 | 0.189 | 0.724 | ⋯ |  1.759 | 0.755 | 0.012 | 0.065 | 0.035 | NA | NA | NA | NA | NA |\n",
       "| GSM3464498 | 1.597 | 0.258 | 0.060 | 0.452 | 0.120 | 0.000 | 0.471 | 0.990 | 0.340 | 2.181 | ⋯ |  5.560 | 1.306 | 0.032 | 0.009 | 0.137 | NA | NA | NA | NA | NA |\n",
       "| GSM3464499 | 1.899 | 0.898 | 0.100 | 0.609 | 0.044 | 0.005 | 0.298 | 1.145 | 1.218 | 4.908 | ⋯ | 22.085 | 3.127 | 0.080 | 0.008 | 0.613 | NA | NA | NA | NA | NA |\n",
       "| GSM3464500 | 1.454 | 0.514 | 0.091 | 0.390 | 0.069 | 0.039 | 0.514 | 0.877 | 0.270 | 2.657 | ⋯ |  5.618 | 1.682 | 0.035 | 0.013 | 0.113 | NA | NA | NA | NA | NA |\n",
       "| GSM3464501 | 1.439 | 0.549 | 0.053 | 0.399 | 0.102 | 0.010 | 0.340 | 1.075 | 0.648 | 4.611 | ⋯ | 11.511 | 1.847 | 0.042 | 0.050 | 0.214 | NA | NA | NA | NA | NA |\n",
       "| GSM3464502 | 1.558 | 0.441 | 0.038 | 0.536 | 0.081 | 0.049 | 0.321 | 0.779 | 0.379 | 3.506 | ⋯ |  8.515 | 2.479 | 0.014 | 0.017 | 0.130 | NA | NA | NA | NA | NA |\n",
       "| GSM3464503 | 1.444 | 0.463 | 0.062 | 0.418 | 0.086 | 0.012 | 0.401 | 0.859 | 0.199 | 1.223 | ⋯ |  3.138 | 1.454 | 0.023 | 0.008 | 0.084 | NA | NA | NA | NA | NA |\n",
       "| GSM3464504 | 2.250 | 0.559 | 0.112 | 0.993 | 0.165 | 0.037 | 0.503 | 1.301 | 0.953 | 4.000 | ⋯ | 25.457 | 2.549 | 0.053 | 0.013 | 0.432 | NA | NA | NA | NA | NA |\n",
       "\n"
      ],
      "text/plain": [
       "           hsa.let.7a.5p hsa.let.7b.5p hsa.let.7c.5p hsa.let.7d.3p\n",
       "GSM3464496 0.633         0.245         0.033         0.334        \n",
       "GSM3464497 0.868         0.177         0.043         0.221        \n",
       "GSM3464498 1.597         0.258         0.060         0.452        \n",
       "GSM3464499 1.899         0.898         0.100         0.609        \n",
       "GSM3464500 1.454         0.514         0.091         0.390        \n",
       "GSM3464501 1.439         0.549         0.053         0.399        \n",
       "GSM3464502 1.558         0.441         0.038         0.536        \n",
       "GSM3464503 1.444         0.463         0.062         0.418        \n",
       "GSM3464504 2.250         0.559         0.112         0.993        \n",
       "           hsa.let.7d.5p hsa.let.7e.5p hsa.let.7f.5p hsa.let.7g.5p\n",
       "GSM3464496 0.054         0.074         0.235         0.651        \n",
       "GSM3464497 0.091         0.050         0.309         0.549        \n",
       "GSM3464498 0.120         0.000         0.471         0.990        \n",
       "GSM3464499 0.044         0.005         0.298         1.145        \n",
       "GSM3464500 0.069         0.039         0.514         0.877        \n",
       "GSM3464501 0.102         0.010         0.340         1.075        \n",
       "GSM3464502 0.081         0.049         0.321         0.779        \n",
       "GSM3464503 0.086         0.012         0.401         0.859        \n",
       "GSM3464504 0.165         0.037         0.503         1.301        \n",
       "           hsa.let.7i.5p hsa.miR.101.3p ⋯ hsa.miR.92a.3p hsa.miR.93.5p\n",
       "GSM3464496 0.279         1.292          ⋯  7.362         0.959        \n",
       "GSM3464497 0.189         0.724          ⋯  1.759         0.755        \n",
       "GSM3464498 0.340         2.181          ⋯  5.560         1.306        \n",
       "GSM3464499 1.218         4.908          ⋯ 22.085         3.127        \n",
       "GSM3464500 0.270         2.657          ⋯  5.618         1.682        \n",
       "GSM3464501 0.648         4.611          ⋯ 11.511         1.847        \n",
       "GSM3464502 0.379         3.506          ⋯  8.515         2.479        \n",
       "GSM3464503 0.199         1.223          ⋯  3.138         1.454        \n",
       "GSM3464504 0.953         4.000          ⋯ 25.457         2.549        \n",
       "           hsa.miR.99a.5p hsa.miR.99b.5p mmu.miR.378a.3p UniSp2 UniSp3.IPC\n",
       "GSM3464496 0.001          0.044          0.096           NA     NA        \n",
       "GSM3464497 0.012          0.065          0.035           NA     NA        \n",
       "GSM3464498 0.032          0.009          0.137           NA     NA        \n",
       "GSM3464499 0.080          0.008          0.613           NA     NA        \n",
       "GSM3464500 0.035          0.013          0.113           NA     NA        \n",
       "GSM3464501 0.042          0.050          0.214           NA     NA        \n",
       "GSM3464502 0.014          0.017          0.130           NA     NA        \n",
       "GSM3464503 0.023          0.008          0.084           NA     NA        \n",
       "GSM3464504 0.053          0.013          0.432           NA     NA        \n",
       "           UniSp4 UniSp5 UniSp6\n",
       "GSM3464496 NA     NA     NA    \n",
       "GSM3464497 NA     NA     NA    \n",
       "GSM3464498 NA     NA     NA    \n",
       "GSM3464499 NA     NA     NA    \n",
       "GSM3464500 NA     NA     NA    \n",
       "GSM3464501 NA     NA     NA    \n",
       "GSM3464502 NA     NA     NA    \n",
       "GSM3464503 NA     NA     NA    \n",
       "GSM3464504 NA     NA     NA    "
      ]
     },
     "metadata": {},
     "output_type": "display_data"
    }
   ],
   "source": [
    "df"
   ]
  },
  {
   "cell_type": "code",
   "execution_count": 109,
   "id": "a05eedcd",
   "metadata": {
    "pycharm": {
     "name": "#%%\n"
    }
   },
   "outputs": [],
   "source": [
    "library(miRBaseConverter)"
   ]
  },
  {
   "cell_type": "code",
   "execution_count": 110,
   "id": "171a61b5",
   "metadata": {
    "pycharm": {
     "name": "#%%\n"
    }
   },
   "outputs": [],
   "source": [
    "res = miRNA_NameToAccession(gsub(\"\\\\.\", \"-\", colnames(df)))"
   ]
  },
  {
   "cell_type": "code",
   "execution_count": 111,
   "id": "6755e59d",
   "metadata": {
    "pycharm": {
     "name": "#%%\n"
    }
   },
   "outputs": [],
   "source": [
    "colnames(df) <- res$Accession"
   ]
  },
  {
   "cell_type": "code",
   "execution_count": 113,
   "id": "d1620755",
   "metadata": {
    "pycharm": {
     "name": "#%%\n"
    }
   },
   "outputs": [],
   "source": [
    "# Remove NA\n",
    "df <- df[, colSums(is.na(df)) == 0]\n",
    "# Remove columns with all 0s\n",
    "df <- df[, colSums(df) > 0]\n",
    "# Remove columns without gene symbol\n",
    "df <- df[,nzchar(colnames(df))]\n",
    "# Remove double names genes (GENE1 /// GENE2)\n",
    "colnames(df) <- gsub(\" ///.*\", \"\", colnames(df))\n",
    "# Make all columns uppercase\n",
    "colnames(df) <- toupper(colnames(df))"
   ]
  },
  {
   "cell_type": "code",
   "execution_count": 115,
   "id": "33429fe9",
   "metadata": {
    "pycharm": {
     "name": "#%%\n"
    }
   },
   "outputs": [
    {
     "data": {
      "text/html": [
       "<table class=\"dataframe\">\n",
       "<caption>A data.frame: 6 × 107</caption>\n",
       "<thead>\n",
       "\t<tr><th></th><th scope=col>MIMAT0000062</th><th scope=col>MIMAT0000063</th><th scope=col>MIMAT0000064</th><th scope=col>MIMAT0004484</th><th scope=col>MIMAT0000065</th><th scope=col>MIMAT0000066</th><th scope=col>MIMAT0000067</th><th scope=col>MIMAT0000414</th><th scope=col>MIMAT0000415</th><th scope=col>MIMAT0000099</th><th scope=col>⋯</th><th scope=col>MIMAT0002177</th><th scope=col>MIMAT0002817</th><th scope=col>MIMAT0003249</th><th scope=col>MIMAT0003258</th><th scope=col>MIMAT0003338</th><th scope=col>MIMAT0000092</th><th scope=col>MIMAT0000093</th><th scope=col>MIMAT0000097</th><th scope=col>MIMAT0000689</th><th scope=col>MIMAT0003151</th></tr>\n",
       "\t<tr><th></th><th scope=col>&lt;dbl&gt;</th><th scope=col>&lt;dbl&gt;</th><th scope=col>&lt;dbl&gt;</th><th scope=col>&lt;dbl&gt;</th><th scope=col>&lt;dbl&gt;</th><th scope=col>&lt;dbl&gt;</th><th scope=col>&lt;dbl&gt;</th><th scope=col>&lt;dbl&gt;</th><th scope=col>&lt;dbl&gt;</th><th scope=col>&lt;dbl&gt;</th><th scope=col>⋯</th><th scope=col>&lt;dbl&gt;</th><th scope=col>&lt;dbl&gt;</th><th scope=col>&lt;dbl&gt;</th><th scope=col>&lt;dbl&gt;</th><th scope=col>&lt;dbl&gt;</th><th scope=col>&lt;dbl&gt;</th><th scope=col>&lt;dbl&gt;</th><th scope=col>&lt;dbl&gt;</th><th scope=col>&lt;dbl&gt;</th><th scope=col>&lt;dbl&gt;</th></tr>\n",
       "</thead>\n",
       "<tbody>\n",
       "\t<tr><th scope=row>GSM3464496</th><td>0.633</td><td>0.245</td><td>0.033</td><td>0.334</td><td>0.054</td><td>0.074</td><td>0.235</td><td>0.651</td><td>0.279</td><td>1.292</td><td>⋯</td><td>3.387</td><td>0.030</td><td>0.007</td><td>0.255</td><td>0.316</td><td> 7.362</td><td>0.959</td><td>0.001</td><td>0.044</td><td>0.096</td></tr>\n",
       "\t<tr><th scope=row>GSM3464497</th><td>0.868</td><td>0.177</td><td>0.043</td><td>0.221</td><td>0.091</td><td>0.050</td><td>0.309</td><td>0.549</td><td>0.189</td><td>0.724</td><td>⋯</td><td>0.862</td><td>0.013</td><td>0.008</td><td>0.204</td><td>0.138</td><td> 1.759</td><td>0.755</td><td>0.012</td><td>0.065</td><td>0.035</td></tr>\n",
       "\t<tr><th scope=row>GSM3464498</th><td>1.597</td><td>0.258</td><td>0.060</td><td>0.452</td><td>0.120</td><td>0.000</td><td>0.471</td><td>0.990</td><td>0.340</td><td>2.181</td><td>⋯</td><td>1.809</td><td>0.032</td><td>0.014</td><td>0.495</td><td>0.568</td><td> 5.560</td><td>1.306</td><td>0.032</td><td>0.009</td><td>0.137</td></tr>\n",
       "\t<tr><th scope=row>GSM3464499</th><td>1.899</td><td>0.898</td><td>0.100</td><td>0.609</td><td>0.044</td><td>0.005</td><td>0.298</td><td>1.145</td><td>1.218</td><td>4.908</td><td>⋯</td><td>9.613</td><td>0.002</td><td>0.004</td><td>1.032</td><td>0.584</td><td>22.085</td><td>3.127</td><td>0.080</td><td>0.008</td><td>0.613</td></tr>\n",
       "\t<tr><th scope=row>GSM3464500</th><td>1.454</td><td>0.514</td><td>0.091</td><td>0.390</td><td>0.069</td><td>0.039</td><td>0.514</td><td>0.877</td><td>0.270</td><td>2.657</td><td>⋯</td><td>2.868</td><td>0.000</td><td>0.005</td><td>0.551</td><td>0.295</td><td> 5.618</td><td>1.682</td><td>0.035</td><td>0.013</td><td>0.113</td></tr>\n",
       "\t<tr><th scope=row>GSM3464501</th><td>1.439</td><td>0.549</td><td>0.053</td><td>0.399</td><td>0.102</td><td>0.010</td><td>0.340</td><td>1.075</td><td>0.648</td><td>4.611</td><td>⋯</td><td>7.235</td><td>0.000</td><td>0.009</td><td>0.776</td><td>1.106</td><td>11.511</td><td>1.847</td><td>0.042</td><td>0.050</td><td>0.214</td></tr>\n",
       "</tbody>\n",
       "</table>\n"
      ],
      "text/latex": [
       "A data.frame: 6 × 107\n",
       "\\begin{tabular}{r|lllllllllllllllllllll}\n",
       "  & MIMAT0000062 & MIMAT0000063 & MIMAT0000064 & MIMAT0004484 & MIMAT0000065 & MIMAT0000066 & MIMAT0000067 & MIMAT0000414 & MIMAT0000415 & MIMAT0000099 & ⋯ & MIMAT0002177 & MIMAT0002817 & MIMAT0003249 & MIMAT0003258 & MIMAT0003338 & MIMAT0000092 & MIMAT0000093 & MIMAT0000097 & MIMAT0000689 & MIMAT0003151\\\\\n",
       "  & <dbl> & <dbl> & <dbl> & <dbl> & <dbl> & <dbl> & <dbl> & <dbl> & <dbl> & <dbl> & ⋯ & <dbl> & <dbl> & <dbl> & <dbl> & <dbl> & <dbl> & <dbl> & <dbl> & <dbl> & <dbl>\\\\\n",
       "\\hline\n",
       "\tGSM3464496 & 0.633 & 0.245 & 0.033 & 0.334 & 0.054 & 0.074 & 0.235 & 0.651 & 0.279 & 1.292 & ⋯ & 3.387 & 0.030 & 0.007 & 0.255 & 0.316 &  7.362 & 0.959 & 0.001 & 0.044 & 0.096\\\\\n",
       "\tGSM3464497 & 0.868 & 0.177 & 0.043 & 0.221 & 0.091 & 0.050 & 0.309 & 0.549 & 0.189 & 0.724 & ⋯ & 0.862 & 0.013 & 0.008 & 0.204 & 0.138 &  1.759 & 0.755 & 0.012 & 0.065 & 0.035\\\\\n",
       "\tGSM3464498 & 1.597 & 0.258 & 0.060 & 0.452 & 0.120 & 0.000 & 0.471 & 0.990 & 0.340 & 2.181 & ⋯ & 1.809 & 0.032 & 0.014 & 0.495 & 0.568 &  5.560 & 1.306 & 0.032 & 0.009 & 0.137\\\\\n",
       "\tGSM3464499 & 1.899 & 0.898 & 0.100 & 0.609 & 0.044 & 0.005 & 0.298 & 1.145 & 1.218 & 4.908 & ⋯ & 9.613 & 0.002 & 0.004 & 1.032 & 0.584 & 22.085 & 3.127 & 0.080 & 0.008 & 0.613\\\\\n",
       "\tGSM3464500 & 1.454 & 0.514 & 0.091 & 0.390 & 0.069 & 0.039 & 0.514 & 0.877 & 0.270 & 2.657 & ⋯ & 2.868 & 0.000 & 0.005 & 0.551 & 0.295 &  5.618 & 1.682 & 0.035 & 0.013 & 0.113\\\\\n",
       "\tGSM3464501 & 1.439 & 0.549 & 0.053 & 0.399 & 0.102 & 0.010 & 0.340 & 1.075 & 0.648 & 4.611 & ⋯ & 7.235 & 0.000 & 0.009 & 0.776 & 1.106 & 11.511 & 1.847 & 0.042 & 0.050 & 0.214\\\\\n",
       "\\end{tabular}\n"
      ],
      "text/markdown": [
       "\n",
       "A data.frame: 6 × 107\n",
       "\n",
       "| <!--/--> | MIMAT0000062 &lt;dbl&gt; | MIMAT0000063 &lt;dbl&gt; | MIMAT0000064 &lt;dbl&gt; | MIMAT0004484 &lt;dbl&gt; | MIMAT0000065 &lt;dbl&gt; | MIMAT0000066 &lt;dbl&gt; | MIMAT0000067 &lt;dbl&gt; | MIMAT0000414 &lt;dbl&gt; | MIMAT0000415 &lt;dbl&gt; | MIMAT0000099 &lt;dbl&gt; | ⋯ ⋯ | MIMAT0002177 &lt;dbl&gt; | MIMAT0002817 &lt;dbl&gt; | MIMAT0003249 &lt;dbl&gt; | MIMAT0003258 &lt;dbl&gt; | MIMAT0003338 &lt;dbl&gt; | MIMAT0000092 &lt;dbl&gt; | MIMAT0000093 &lt;dbl&gt; | MIMAT0000097 &lt;dbl&gt; | MIMAT0000689 &lt;dbl&gt; | MIMAT0003151 &lt;dbl&gt; |\n",
       "|---|---|---|---|---|---|---|---|---|---|---|---|---|---|---|---|---|---|---|---|---|---|\n",
       "| GSM3464496 | 0.633 | 0.245 | 0.033 | 0.334 | 0.054 | 0.074 | 0.235 | 0.651 | 0.279 | 1.292 | ⋯ | 3.387 | 0.030 | 0.007 | 0.255 | 0.316 |  7.362 | 0.959 | 0.001 | 0.044 | 0.096 |\n",
       "| GSM3464497 | 0.868 | 0.177 | 0.043 | 0.221 | 0.091 | 0.050 | 0.309 | 0.549 | 0.189 | 0.724 | ⋯ | 0.862 | 0.013 | 0.008 | 0.204 | 0.138 |  1.759 | 0.755 | 0.012 | 0.065 | 0.035 |\n",
       "| GSM3464498 | 1.597 | 0.258 | 0.060 | 0.452 | 0.120 | 0.000 | 0.471 | 0.990 | 0.340 | 2.181 | ⋯ | 1.809 | 0.032 | 0.014 | 0.495 | 0.568 |  5.560 | 1.306 | 0.032 | 0.009 | 0.137 |\n",
       "| GSM3464499 | 1.899 | 0.898 | 0.100 | 0.609 | 0.044 | 0.005 | 0.298 | 1.145 | 1.218 | 4.908 | ⋯ | 9.613 | 0.002 | 0.004 | 1.032 | 0.584 | 22.085 | 3.127 | 0.080 | 0.008 | 0.613 |\n",
       "| GSM3464500 | 1.454 | 0.514 | 0.091 | 0.390 | 0.069 | 0.039 | 0.514 | 0.877 | 0.270 | 2.657 | ⋯ | 2.868 | 0.000 | 0.005 | 0.551 | 0.295 |  5.618 | 1.682 | 0.035 | 0.013 | 0.113 |\n",
       "| GSM3464501 | 1.439 | 0.549 | 0.053 | 0.399 | 0.102 | 0.010 | 0.340 | 1.075 | 0.648 | 4.611 | ⋯ | 7.235 | 0.000 | 0.009 | 0.776 | 1.106 | 11.511 | 1.847 | 0.042 | 0.050 | 0.214 |\n",
       "\n"
      ],
      "text/plain": [
       "           MIMAT0000062 MIMAT0000063 MIMAT0000064 MIMAT0004484 MIMAT0000065\n",
       "GSM3464496 0.633        0.245        0.033        0.334        0.054       \n",
       "GSM3464497 0.868        0.177        0.043        0.221        0.091       \n",
       "GSM3464498 1.597        0.258        0.060        0.452        0.120       \n",
       "GSM3464499 1.899        0.898        0.100        0.609        0.044       \n",
       "GSM3464500 1.454        0.514        0.091        0.390        0.069       \n",
       "GSM3464501 1.439        0.549        0.053        0.399        0.102       \n",
       "           MIMAT0000066 MIMAT0000067 MIMAT0000414 MIMAT0000415 MIMAT0000099 ⋯\n",
       "GSM3464496 0.074        0.235        0.651        0.279        1.292        ⋯\n",
       "GSM3464497 0.050        0.309        0.549        0.189        0.724        ⋯\n",
       "GSM3464498 0.000        0.471        0.990        0.340        2.181        ⋯\n",
       "GSM3464499 0.005        0.298        1.145        1.218        4.908        ⋯\n",
       "GSM3464500 0.039        0.514        0.877        0.270        2.657        ⋯\n",
       "GSM3464501 0.010        0.340        1.075        0.648        4.611        ⋯\n",
       "           MIMAT0002177 MIMAT0002817 MIMAT0003249 MIMAT0003258 MIMAT0003338\n",
       "GSM3464496 3.387        0.030        0.007        0.255        0.316       \n",
       "GSM3464497 0.862        0.013        0.008        0.204        0.138       \n",
       "GSM3464498 1.809        0.032        0.014        0.495        0.568       \n",
       "GSM3464499 9.613        0.002        0.004        1.032        0.584       \n",
       "GSM3464500 2.868        0.000        0.005        0.551        0.295       \n",
       "GSM3464501 7.235        0.000        0.009        0.776        1.106       \n",
       "           MIMAT0000092 MIMAT0000093 MIMAT0000097 MIMAT0000689 MIMAT0003151\n",
       "GSM3464496  7.362       0.959        0.001        0.044        0.096       \n",
       "GSM3464497  1.759       0.755        0.012        0.065        0.035       \n",
       "GSM3464498  5.560       1.306        0.032        0.009        0.137       \n",
       "GSM3464499 22.085       3.127        0.080        0.008        0.613       \n",
       "GSM3464500  5.618       1.682        0.035        0.013        0.113       \n",
       "GSM3464501 11.511       1.847        0.042        0.050        0.214       "
      ]
     },
     "metadata": {},
     "output_type": "display_data"
    }
   ],
   "source": [
    "head(df)"
   ]
  },
  {
   "cell_type": "code",
   "execution_count": 117,
   "id": "23089117",
   "metadata": {
    "pycharm": {
     "name": "#%%\n"
    }
   },
   "outputs": [],
   "source": [
    "write.table(df, file=paste(dataPath, csv_name, sep=\"\"), sep=\",\")"
   ]
  },
  {
   "cell_type": "markdown",
   "id": "33cb4852",
   "metadata": {
    "pycharm": {
     "name": "#%% md\n"
    }
   },
   "source": [
    "# PNH 3"
   ]
  },
  {
   "cell_type": "code",
   "execution_count": 118,
   "id": "145b00cd",
   "metadata": {
    "pycharm": {
     "name": "#%%\n"
    }
   },
   "outputs": [],
   "source": [
    "csv_name = 'PNH_GSE80062.csv'"
   ]
  },
  {
   "cell_type": "code",
   "execution_count": 119,
   "id": "9626a6c3",
   "metadata": {
    "pycharm": {
     "name": "#%%\n"
    }
   },
   "outputs": [],
   "source": [
    "df <- read.csv(file=paste(dataPath, csv_name, sep=\"\"), header=TRUE)"
   ]
  },
  {
   "cell_type": "code",
   "execution_count": 120,
   "id": "8597046d",
   "metadata": {
    "scrolled": true,
    "pycharm": {
     "name": "#%%\n"
    }
   },
   "outputs": [
    {
     "data": {
      "text/html": [
       "<table class=\"dataframe\">\n",
       "<caption>A data.frame: 4 × 9631</caption>\n",
       "<thead>\n",
       "\t<tr><th></th><th scope=col>X1</th><th scope=col>X100</th><th scope=col>X10000</th><th scope=col>X10001</th><th scope=col>X100049587</th><th scope=col>X10005</th><th scope=col>X10006</th><th scope=col>X10007</th><th scope=col>X10008</th><th scope=col>X10009</th><th scope=col>⋯</th><th scope=col>X9985</th><th scope=col>X9986</th><th scope=col>X9987</th><th scope=col>X9988</th><th scope=col>X9989</th><th scope=col>X9990</th><th scope=col>X9991</th><th scope=col>X9993</th><th scope=col>X9994</th><th scope=col>X9997</th></tr>\n",
       "\t<tr><th></th><th scope=col>&lt;int&gt;</th><th scope=col>&lt;int&gt;</th><th scope=col>&lt;dbl&gt;</th><th scope=col>&lt;int&gt;</th><th scope=col>&lt;int&gt;</th><th scope=col>&lt;int&gt;</th><th scope=col>&lt;dbl&gt;</th><th scope=col>&lt;int&gt;</th><th scope=col>&lt;dbl&gt;</th><th scope=col>&lt;int&gt;</th><th scope=col>⋯</th><th scope=col>&lt;int&gt;</th><th scope=col>&lt;int&gt;</th><th scope=col>&lt;dbl&gt;</th><th scope=col>&lt;dbl&gt;</th><th scope=col>&lt;dbl&gt;</th><th scope=col>&lt;dbl&gt;</th><th scope=col>&lt;dbl&gt;</th><th scope=col>&lt;dbl&gt;</th><th scope=col>&lt;int&gt;</th><th scope=col>&lt;dbl&gt;</th></tr>\n",
       "</thead>\n",
       "<tbody>\n",
       "\t<tr><th scope=row>PNH1_PNH</th><td>0</td><td>0</td><td> 4.86132</td><td>0</td><td>0</td><td>0</td><td>54.5281</td><td>0</td><td>47.7213</td><td>0</td><td>⋯</td><td>0</td><td>0</td><td>47.3221</td><td>12.3980</td><td>85.1206</td><td>64.9785</td><td>118.7460</td><td>62.7764</td><td>0</td><td> 76.5234</td></tr>\n",
       "\t<tr><th scope=row>PNH1_WT</th><td>0</td><td>0</td><td>73.69860</td><td>0</td><td>0</td><td>0</td><td>28.8202</td><td>0</td><td>10.7316</td><td>0</td><td>⋯</td><td>0</td><td>0</td><td>68.3383</td><td>32.2032</td><td>29.4527</td><td>20.9305</td><td> 52.4803</td><td>37.0561</td><td>0</td><td> 37.4396</td></tr>\n",
       "\t<tr><th scope=row>PNH2_PNH</th><td>0</td><td>0</td><td> 0.00000</td><td>0</td><td>0</td><td>0</td><td>38.8762</td><td>0</td><td> 0.0000</td><td>0</td><td>⋯</td><td>0</td><td>0</td><td> 0.0000</td><td> 0.0000</td><td>56.2583</td><td>66.8433</td><td>105.5850</td><td>41.9593</td><td>0</td><td> 62.4131</td></tr>\n",
       "\t<tr><th scope=row>PNH2_WT</th><td>0</td><td>0</td><td> 0.00000</td><td>0</td><td>0</td><td>0</td><td>43.0136</td><td>0</td><td> 0.0000</td><td>0</td><td>⋯</td><td>0</td><td>0</td><td> 0.0000</td><td> 0.0000</td><td>43.0982</td><td>61.7695</td><td>100.3670</td><td>43.8311</td><td>0</td><td>103.5360</td></tr>\n",
       "</tbody>\n",
       "</table>\n"
      ],
      "text/latex": [
       "A data.frame: 4 × 9631\n",
       "\\begin{tabular}{r|lllllllllllllllllllll}\n",
       "  & X1 & X100 & X10000 & X10001 & X100049587 & X10005 & X10006 & X10007 & X10008 & X10009 & ⋯ & X9985 & X9986 & X9987 & X9988 & X9989 & X9990 & X9991 & X9993 & X9994 & X9997\\\\\n",
       "  & <int> & <int> & <dbl> & <int> & <int> & <int> & <dbl> & <int> & <dbl> & <int> & ⋯ & <int> & <int> & <dbl> & <dbl> & <dbl> & <dbl> & <dbl> & <dbl> & <int> & <dbl>\\\\\n",
       "\\hline\n",
       "\tPNH1\\_PNH & 0 & 0 &  4.86132 & 0 & 0 & 0 & 54.5281 & 0 & 47.7213 & 0 & ⋯ & 0 & 0 & 47.3221 & 12.3980 & 85.1206 & 64.9785 & 118.7460 & 62.7764 & 0 &  76.5234\\\\\n",
       "\tPNH1\\_WT & 0 & 0 & 73.69860 & 0 & 0 & 0 & 28.8202 & 0 & 10.7316 & 0 & ⋯ & 0 & 0 & 68.3383 & 32.2032 & 29.4527 & 20.9305 &  52.4803 & 37.0561 & 0 &  37.4396\\\\\n",
       "\tPNH2\\_PNH & 0 & 0 &  0.00000 & 0 & 0 & 0 & 38.8762 & 0 &  0.0000 & 0 & ⋯ & 0 & 0 &  0.0000 &  0.0000 & 56.2583 & 66.8433 & 105.5850 & 41.9593 & 0 &  62.4131\\\\\n",
       "\tPNH2\\_WT & 0 & 0 &  0.00000 & 0 & 0 & 0 & 43.0136 & 0 &  0.0000 & 0 & ⋯ & 0 & 0 &  0.0000 &  0.0000 & 43.0982 & 61.7695 & 100.3670 & 43.8311 & 0 & 103.5360\\\\\n",
       "\\end{tabular}\n"
      ],
      "text/markdown": [
       "\n",
       "A data.frame: 4 × 9631\n",
       "\n",
       "| <!--/--> | X1 &lt;int&gt; | X100 &lt;int&gt; | X10000 &lt;dbl&gt; | X10001 &lt;int&gt; | X100049587 &lt;int&gt; | X10005 &lt;int&gt; | X10006 &lt;dbl&gt; | X10007 &lt;int&gt; | X10008 &lt;dbl&gt; | X10009 &lt;int&gt; | ⋯ ⋯ | X9985 &lt;int&gt; | X9986 &lt;int&gt; | X9987 &lt;dbl&gt; | X9988 &lt;dbl&gt; | X9989 &lt;dbl&gt; | X9990 &lt;dbl&gt; | X9991 &lt;dbl&gt; | X9993 &lt;dbl&gt; | X9994 &lt;int&gt; | X9997 &lt;dbl&gt; |\n",
       "|---|---|---|---|---|---|---|---|---|---|---|---|---|---|---|---|---|---|---|---|---|---|\n",
       "| PNH1_PNH | 0 | 0 |  4.86132 | 0 | 0 | 0 | 54.5281 | 0 | 47.7213 | 0 | ⋯ | 0 | 0 | 47.3221 | 12.3980 | 85.1206 | 64.9785 | 118.7460 | 62.7764 | 0 |  76.5234 |\n",
       "| PNH1_WT | 0 | 0 | 73.69860 | 0 | 0 | 0 | 28.8202 | 0 | 10.7316 | 0 | ⋯ | 0 | 0 | 68.3383 | 32.2032 | 29.4527 | 20.9305 |  52.4803 | 37.0561 | 0 |  37.4396 |\n",
       "| PNH2_PNH | 0 | 0 |  0.00000 | 0 | 0 | 0 | 38.8762 | 0 |  0.0000 | 0 | ⋯ | 0 | 0 |  0.0000 |  0.0000 | 56.2583 | 66.8433 | 105.5850 | 41.9593 | 0 |  62.4131 |\n",
       "| PNH2_WT | 0 | 0 |  0.00000 | 0 | 0 | 0 | 43.0136 | 0 |  0.0000 | 0 | ⋯ | 0 | 0 |  0.0000 |  0.0000 | 43.0982 | 61.7695 | 100.3670 | 43.8311 | 0 | 103.5360 |\n",
       "\n"
      ],
      "text/plain": [
       "         X1 X100 X10000   X10001 X100049587 X10005 X10006  X10007 X10008 \n",
       "PNH1_PNH 0  0     4.86132 0      0          0      54.5281 0      47.7213\n",
       "PNH1_WT  0  0    73.69860 0      0          0      28.8202 0      10.7316\n",
       "PNH2_PNH 0  0     0.00000 0      0          0      38.8762 0       0.0000\n",
       "PNH2_WT  0  0     0.00000 0      0          0      43.0136 0       0.0000\n",
       "         X10009 ⋯ X9985 X9986 X9987   X9988   X9989   X9990   X9991    X9993  \n",
       "PNH1_PNH 0      ⋯ 0     0     47.3221 12.3980 85.1206 64.9785 118.7460 62.7764\n",
       "PNH1_WT  0      ⋯ 0     0     68.3383 32.2032 29.4527 20.9305  52.4803 37.0561\n",
       "PNH2_PNH 0      ⋯ 0     0      0.0000  0.0000 56.2583 66.8433 105.5850 41.9593\n",
       "PNH2_WT  0      ⋯ 0     0      0.0000  0.0000 43.0982 61.7695 100.3670 43.8311\n",
       "         X9994 X9997   \n",
       "PNH1_PNH 0      76.5234\n",
       "PNH1_WT  0      37.4396\n",
       "PNH2_PNH 0      62.4131\n",
       "PNH2_WT  0     103.5360"
      ]
     },
     "metadata": {},
     "output_type": "display_data"
    }
   ],
   "source": [
    "head(df)"
   ]
  },
  {
   "cell_type": "code",
   "execution_count": 121,
   "id": "6221faf3",
   "metadata": {
    "pycharm": {
     "name": "#%%\n"
    }
   },
   "outputs": [],
   "source": [
    "colnames(df) <- sub(\"X\", \"\", colnames(df))"
   ]
  },
  {
   "cell_type": "code",
   "execution_count": 122,
   "id": "70bec864",
   "metadata": {
    "scrolled": true,
    "pycharm": {
     "name": "#%%\n"
    }
   },
   "outputs": [],
   "source": [
    "library(org.Hs.eg.db)"
   ]
  },
  {
   "cell_type": "code",
   "execution_count": 123,
   "id": "c78dd485",
   "metadata": {
    "pycharm": {
     "name": "#%%\n"
    }
   },
   "outputs": [
    {
     "name": "stderr",
     "output_type": "stream",
     "text": [
      "'select()' returned 1:1 mapping between keys and columns\n",
      "\n"
     ]
    }
   ],
   "source": [
    "keys <- keys(org.Hs.eg.db)\n",
    "ref_gene <- select(org.Hs.eg.db, keys=keys, columns = c(\"SYMBOL\", \"ENTREZID\"))"
   ]
  },
  {
   "cell_type": "code",
   "execution_count": 124,
   "id": "c0528109",
   "metadata": {
    "pycharm": {
     "name": "#%%\n"
    }
   },
   "outputs": [
    {
     "data": {
      "text/html": [
       "<table class=\"dataframe\">\n",
       "<caption>A data.frame: 6 × 2</caption>\n",
       "<thead>\n",
       "\t<tr><th></th><th scope=col>ENTREZID</th><th scope=col>SYMBOL</th></tr>\n",
       "\t<tr><th></th><th scope=col>&lt;chr&gt;</th><th scope=col>&lt;chr&gt;</th></tr>\n",
       "</thead>\n",
       "<tbody>\n",
       "\t<tr><th scope=row>1</th><td>1 </td><td>A1BG </td></tr>\n",
       "\t<tr><th scope=row>2</th><td>2 </td><td>A2M  </td></tr>\n",
       "\t<tr><th scope=row>3</th><td>3 </td><td>A2MP1</td></tr>\n",
       "\t<tr><th scope=row>4</th><td>9 </td><td>NAT1 </td></tr>\n",
       "\t<tr><th scope=row>5</th><td>10</td><td>NAT2 </td></tr>\n",
       "\t<tr><th scope=row>6</th><td>11</td><td>NATP </td></tr>\n",
       "</tbody>\n",
       "</table>\n"
      ],
      "text/latex": [
       "A data.frame: 6 × 2\n",
       "\\begin{tabular}{r|ll}\n",
       "  & ENTREZID & SYMBOL\\\\\n",
       "  & <chr> & <chr>\\\\\n",
       "\\hline\n",
       "\t1 & 1  & A1BG \\\\\n",
       "\t2 & 2  & A2M  \\\\\n",
       "\t3 & 3  & A2MP1\\\\\n",
       "\t4 & 9  & NAT1 \\\\\n",
       "\t5 & 10 & NAT2 \\\\\n",
       "\t6 & 11 & NATP \\\\\n",
       "\\end{tabular}\n"
      ],
      "text/markdown": [
       "\n",
       "A data.frame: 6 × 2\n",
       "\n",
       "| <!--/--> | ENTREZID &lt;chr&gt; | SYMBOL &lt;chr&gt; |\n",
       "|---|---|---|\n",
       "| 1 | 1  | A1BG  |\n",
       "| 2 | 2  | A2M   |\n",
       "| 3 | 3  | A2MP1 |\n",
       "| 4 | 9  | NAT1  |\n",
       "| 5 | 10 | NAT2  |\n",
       "| 6 | 11 | NATP  |\n",
       "\n"
      ],
      "text/plain": [
       "  ENTREZID SYMBOL\n",
       "1 1        A1BG  \n",
       "2 2        A2M   \n",
       "3 3        A2MP1 \n",
       "4 9        NAT1  \n",
       "5 10       NAT2  \n",
       "6 11       NATP  "
      ]
     },
     "metadata": {},
     "output_type": "display_data"
    }
   ],
   "source": [
    "head(ref_gene)"
   ]
  },
  {
   "cell_type": "code",
   "execution_count": 125,
   "id": "7c656005",
   "metadata": {
    "scrolled": true,
    "pycharm": {
     "name": "#%%\n"
    }
   },
   "outputs": [],
   "source": [
    "# Make smaller table to speedup the translation\n",
    "ref_gene_df <- data.frame(colnames(df))\n",
    "colnames(ref_gene_df) <- c(\"ENTREZID\")\n",
    "ref_gene <- merge(x=ref_gene, y=ref_gene_df, by=\"ENTREZID\")"
   ]
  },
  {
   "cell_type": "code",
   "execution_count": 126,
   "id": "c31245b9",
   "metadata": {
    "pycharm": {
     "name": "#%%\n"
    }
   },
   "outputs": [],
   "source": [
    "# Get Gene Symbol from platform columns\n",
    "new_col <- c()\n",
    "for (i in colnames(df)) {\n",
    "    new_col <- append(new_col, ref_gene[ref_gene$ENTREZID == i, 'SYMBOL'])\n",
    "}"
   ]
  },
  {
   "cell_type": "code",
   "execution_count": 127,
   "id": "690d9c59",
   "metadata": {
    "pycharm": {
     "name": "#%%\n"
    }
   },
   "outputs": [],
   "source": [
    "colnames(df) <- new_col"
   ]
  },
  {
   "cell_type": "code",
   "execution_count": 129,
   "id": "3871b5d7",
   "metadata": {
    "pycharm": {
     "name": "#%%\n"
    }
   },
   "outputs": [],
   "source": [
    "# Remove NA\n",
    "df <- df[, colSums(is.na(df)) == 0]\n",
    "# Remove columns with all 0s\n",
    "df <- df[, colSums(df) > 0]\n",
    "# Remove columns without gene symbol\n",
    "df <- df[,nzchar(colnames(df))]\n",
    "# Remove double names genes (GENE1 /// GENE2)\n",
    "colnames(df) <- gsub(\" ///.*\", \"\", colnames(df))\n",
    "# Make all columns uppercase\n",
    "colnames(df) <- toupper(colnames(df))"
   ]
  },
  {
   "cell_type": "code",
   "execution_count": 131,
   "id": "566a0e3c",
   "metadata": {
    "pycharm": {
     "name": "#%%\n"
    }
   },
   "outputs": [],
   "source": [
    "# Remove columns which start by \"NA\" because they didn't refer to any gene\n",
    "null_columns <- grep(\"NA.\", colnames(df))\n",
    "df <- df[,-null_columns]"
   ]
  },
  {
   "cell_type": "code",
   "execution_count": 132,
   "id": "57530fa8",
   "metadata": {
    "pycharm": {
     "name": "#%%\n"
    }
   },
   "outputs": [
    {
     "data": {
      "text/html": [
       "<table class=\"dataframe\">\n",
       "<caption>A data.frame: 4 × 3644</caption>\n",
       "<thead>\n",
       "\t<tr><th></th><th scope=col>AKT3</th><th scope=col>ABI1</th><th scope=col>KCNE3</th><th scope=col>TANK</th><th scope=col>SRA1</th><th scope=col>TMEM170B</th><th scope=col>OST4</th><th scope=col>C17ORF107</th><th scope=col>TSTD1</th><th scope=col>PET100</th><th scope=col>⋯</th><th scope=col>CLEC2B</th><th scope=col>RBX1</th><th scope=col>DOP1B</th><th scope=col>REC8</th><th scope=col>RCE1</th><th scope=col>HNRNPDL</th><th scope=col>PPP4R1</th><th scope=col>SLC12A6</th><th scope=col>PTBP3</th><th scope=col>DGCR2</th></tr>\n",
       "\t<tr><th></th><th scope=col>&lt;dbl&gt;</th><th scope=col>&lt;dbl&gt;</th><th scope=col>&lt;dbl&gt;</th><th scope=col>&lt;dbl&gt;</th><th scope=col>&lt;dbl&gt;</th><th scope=col>&lt;dbl&gt;</th><th scope=col>&lt;dbl&gt;</th><th scope=col>&lt;dbl&gt;</th><th scope=col>&lt;dbl&gt;</th><th scope=col>&lt;dbl&gt;</th><th scope=col>⋯</th><th scope=col>&lt;dbl&gt;</th><th scope=col>&lt;dbl&gt;</th><th scope=col>&lt;dbl&gt;</th><th scope=col>&lt;dbl&gt;</th><th scope=col>&lt;dbl&gt;</th><th scope=col>&lt;dbl&gt;</th><th scope=col>&lt;dbl&gt;</th><th scope=col>&lt;dbl&gt;</th><th scope=col>&lt;dbl&gt;</th><th scope=col>&lt;dbl&gt;</th></tr>\n",
       "</thead>\n",
       "<tbody>\n",
       "\t<tr><th scope=row>PNH1_PNH</th><td> 4.86132</td><td>54.5281</td><td>47.7213</td><td>40.6043</td><td>31.0479</td><td>34.3071</td><td>179.088</td><td> 0.0000</td><td>11.3232</td><td> 0.0000</td><td>⋯</td><td>107.1560</td><td>153.4500</td><td>69.0983</td><td>31.3533</td><td>32.3808</td><td>42.7332</td><td>10.6406</td><td>53.5815</td><td>37.12530</td><td>226.611</td></tr>\n",
       "\t<tr><th scope=row>PNH1_WT</th><td>73.69860</td><td>28.8202</td><td>10.7316</td><td>24.9167</td><td>15.3966</td><td>11.8819</td><td>155.451</td><td> 0.0000</td><td>43.5688</td><td> 0.0000</td><td>⋯</td><td> 43.1518</td><td> 89.6828</td><td>59.3699</td><td>30.3374</td><td>25.6837</td><td>25.9432</td><td>34.3068</td><td>36.1625</td><td> 9.80725</td><td>161.636</td></tr>\n",
       "\t<tr><th scope=row>PNH2_PNH</th><td> 0.00000</td><td>38.8762</td><td> 0.0000</td><td>55.8638</td><td>45.0717</td><td> 0.0000</td><td>133.903</td><td>65.2098</td><td> 0.0000</td><td>40.4876</td><td>⋯</td><td> 67.5325</td><td>182.8790</td><td>53.1889</td><td> 0.0000</td><td> 0.0000</td><td> 0.0000</td><td> 0.0000</td><td> 0.0000</td><td> 0.00000</td><td>300.054</td></tr>\n",
       "\t<tr><th scope=row>PNH2_WT</th><td> 0.00000</td><td>43.0136</td><td> 0.0000</td><td>23.1306</td><td>22.1381</td><td> 0.0000</td><td>147.744</td><td>36.1284</td><td> 0.0000</td><td>12.2283</td><td>⋯</td><td> 95.2636</td><td>117.0860</td><td>59.2075</td><td> 0.0000</td><td> 0.0000</td><td> 0.0000</td><td> 0.0000</td><td> 0.0000</td><td> 0.00000</td><td>228.827</td></tr>\n",
       "</tbody>\n",
       "</table>\n"
      ],
      "text/latex": [
       "A data.frame: 4 × 3644\n",
       "\\begin{tabular}{r|lllllllllllllllllllll}\n",
       "  & AKT3 & ABI1 & KCNE3 & TANK & SRA1 & TMEM170B & OST4 & C17ORF107 & TSTD1 & PET100 & ⋯ & CLEC2B & RBX1 & DOP1B & REC8 & RCE1 & HNRNPDL & PPP4R1 & SLC12A6 & PTBP3 & DGCR2\\\\\n",
       "  & <dbl> & <dbl> & <dbl> & <dbl> & <dbl> & <dbl> & <dbl> & <dbl> & <dbl> & <dbl> & ⋯ & <dbl> & <dbl> & <dbl> & <dbl> & <dbl> & <dbl> & <dbl> & <dbl> & <dbl> & <dbl>\\\\\n",
       "\\hline\n",
       "\tPNH1\\_PNH &  4.86132 & 54.5281 & 47.7213 & 40.6043 & 31.0479 & 34.3071 & 179.088 &  0.0000 & 11.3232 &  0.0000 & ⋯ & 107.1560 & 153.4500 & 69.0983 & 31.3533 & 32.3808 & 42.7332 & 10.6406 & 53.5815 & 37.12530 & 226.611\\\\\n",
       "\tPNH1\\_WT & 73.69860 & 28.8202 & 10.7316 & 24.9167 & 15.3966 & 11.8819 & 155.451 &  0.0000 & 43.5688 &  0.0000 & ⋯ &  43.1518 &  89.6828 & 59.3699 & 30.3374 & 25.6837 & 25.9432 & 34.3068 & 36.1625 &  9.80725 & 161.636\\\\\n",
       "\tPNH2\\_PNH &  0.00000 & 38.8762 &  0.0000 & 55.8638 & 45.0717 &  0.0000 & 133.903 & 65.2098 &  0.0000 & 40.4876 & ⋯ &  67.5325 & 182.8790 & 53.1889 &  0.0000 &  0.0000 &  0.0000 &  0.0000 &  0.0000 &  0.00000 & 300.054\\\\\n",
       "\tPNH2\\_WT &  0.00000 & 43.0136 &  0.0000 & 23.1306 & 22.1381 &  0.0000 & 147.744 & 36.1284 &  0.0000 & 12.2283 & ⋯ &  95.2636 & 117.0860 & 59.2075 &  0.0000 &  0.0000 &  0.0000 &  0.0000 &  0.0000 &  0.00000 & 228.827\\\\\n",
       "\\end{tabular}\n"
      ],
      "text/markdown": [
       "\n",
       "A data.frame: 4 × 3644\n",
       "\n",
       "| <!--/--> | AKT3 &lt;dbl&gt; | ABI1 &lt;dbl&gt; | KCNE3 &lt;dbl&gt; | TANK &lt;dbl&gt; | SRA1 &lt;dbl&gt; | TMEM170B &lt;dbl&gt; | OST4 &lt;dbl&gt; | C17ORF107 &lt;dbl&gt; | TSTD1 &lt;dbl&gt; | PET100 &lt;dbl&gt; | ⋯ ⋯ | CLEC2B &lt;dbl&gt; | RBX1 &lt;dbl&gt; | DOP1B &lt;dbl&gt; | REC8 &lt;dbl&gt; | RCE1 &lt;dbl&gt; | HNRNPDL &lt;dbl&gt; | PPP4R1 &lt;dbl&gt; | SLC12A6 &lt;dbl&gt; | PTBP3 &lt;dbl&gt; | DGCR2 &lt;dbl&gt; |\n",
       "|---|---|---|---|---|---|---|---|---|---|---|---|---|---|---|---|---|---|---|---|---|---|\n",
       "| PNH1_PNH |  4.86132 | 54.5281 | 47.7213 | 40.6043 | 31.0479 | 34.3071 | 179.088 |  0.0000 | 11.3232 |  0.0000 | ⋯ | 107.1560 | 153.4500 | 69.0983 | 31.3533 | 32.3808 | 42.7332 | 10.6406 | 53.5815 | 37.12530 | 226.611 |\n",
       "| PNH1_WT | 73.69860 | 28.8202 | 10.7316 | 24.9167 | 15.3966 | 11.8819 | 155.451 |  0.0000 | 43.5688 |  0.0000 | ⋯ |  43.1518 |  89.6828 | 59.3699 | 30.3374 | 25.6837 | 25.9432 | 34.3068 | 36.1625 |  9.80725 | 161.636 |\n",
       "| PNH2_PNH |  0.00000 | 38.8762 |  0.0000 | 55.8638 | 45.0717 |  0.0000 | 133.903 | 65.2098 |  0.0000 | 40.4876 | ⋯ |  67.5325 | 182.8790 | 53.1889 |  0.0000 |  0.0000 |  0.0000 |  0.0000 |  0.0000 |  0.00000 | 300.054 |\n",
       "| PNH2_WT |  0.00000 | 43.0136 |  0.0000 | 23.1306 | 22.1381 |  0.0000 | 147.744 | 36.1284 |  0.0000 | 12.2283 | ⋯ |  95.2636 | 117.0860 | 59.2075 |  0.0000 |  0.0000 |  0.0000 |  0.0000 |  0.0000 |  0.00000 | 228.827 |\n",
       "\n"
      ],
      "text/plain": [
       "         AKT3     ABI1    KCNE3   TANK    SRA1    TMEM170B OST4    C17ORF107\n",
       "PNH1_PNH  4.86132 54.5281 47.7213 40.6043 31.0479 34.3071  179.088  0.0000  \n",
       "PNH1_WT  73.69860 28.8202 10.7316 24.9167 15.3966 11.8819  155.451  0.0000  \n",
       "PNH2_PNH  0.00000 38.8762  0.0000 55.8638 45.0717  0.0000  133.903 65.2098  \n",
       "PNH2_WT   0.00000 43.0136  0.0000 23.1306 22.1381  0.0000  147.744 36.1284  \n",
       "         TSTD1   PET100  ⋯ CLEC2B   RBX1     DOP1B   REC8    RCE1    HNRNPDL\n",
       "PNH1_PNH 11.3232  0.0000 ⋯ 107.1560 153.4500 69.0983 31.3533 32.3808 42.7332\n",
       "PNH1_WT  43.5688  0.0000 ⋯  43.1518  89.6828 59.3699 30.3374 25.6837 25.9432\n",
       "PNH2_PNH  0.0000 40.4876 ⋯  67.5325 182.8790 53.1889  0.0000  0.0000  0.0000\n",
       "PNH2_WT   0.0000 12.2283 ⋯  95.2636 117.0860 59.2075  0.0000  0.0000  0.0000\n",
       "         PPP4R1  SLC12A6 PTBP3    DGCR2  \n",
       "PNH1_PNH 10.6406 53.5815 37.12530 226.611\n",
       "PNH1_WT  34.3068 36.1625  9.80725 161.636\n",
       "PNH2_PNH  0.0000  0.0000  0.00000 300.054\n",
       "PNH2_WT   0.0000  0.0000  0.00000 228.827"
      ]
     },
     "metadata": {},
     "output_type": "display_data"
    }
   ],
   "source": [
    "head(df)"
   ]
  },
  {
   "cell_type": "code",
   "execution_count": 133,
   "id": "afed34ca",
   "metadata": {
    "pycharm": {
     "name": "#%%\n"
    }
   },
   "outputs": [],
   "source": [
    "write.table(df, file=paste(dataPath, csv_name, sep=\"\"), sep=\",\")"
   ]
  },
  {
   "cell_type": "markdown",
   "id": "aa73f105",
   "metadata": {
    "pycharm": {
     "name": "#%% md\n"
    }
   },
   "source": [
    "# PEROXISOMAL 1"
   ]
  },
  {
   "cell_type": "code",
   "execution_count": 144,
   "id": "0d353650",
   "metadata": {
    "pycharm": {
     "name": "#%%\n"
    }
   },
   "outputs": [],
   "source": [
    "csv_name = 'PEROXISOMAL_GSE43996.csv'"
   ]
  },
  {
   "cell_type": "code",
   "execution_count": 145,
   "id": "1551f30f",
   "metadata": {
    "pycharm": {
     "name": "#%%\n"
    }
   },
   "outputs": [],
   "source": [
    "df <- read.csv(file=paste(dataPath, csv_name, sep=\"\"), header=TRUE)"
   ]
  },
  {
   "cell_type": "code",
   "execution_count": 146,
   "id": "8642821f",
   "metadata": {
    "scrolled": true,
    "pycharm": {
     "name": "#%%\n"
    }
   },
   "outputs": [
    {
     "data": {
      "text/html": [
       "<table class=\"dataframe\">\n",
       "<caption>A data.frame: 6 × 21225</caption>\n",
       "<thead>\n",
       "\t<tr><th></th><th scope=col>DDR1.....MIR4640</th><th scope=col>RFC2</th><th scope=col>HSPA6</th><th scope=col>PAX8</th><th scope=col>GUCA1A</th><th scope=col>MIR5193.....UBA7</th><th scope=col>THRA</th><th scope=col>PTPN21</th><th scope=col>CCL5</th><th scope=col>CYP2E1</th><th scope=col>⋯</th><th scope=col>ACTB.2</th><th scope=col>ACTB.3</th><th scope=col>ACTB.4</th><th scope=col>GAPDH.3</th><th scope=col>GAPDH.4</th><th scope=col>GAPDH.5</th><th scope=col>STAT1.2</th><th scope=col>STAT1.3</th><th scope=col>STAT1.4</th><th scope=col>STAT1.5</th></tr>\n",
       "\t<tr><th></th><th scope=col>&lt;dbl&gt;</th><th scope=col>&lt;dbl&gt;</th><th scope=col>&lt;dbl&gt;</th><th scope=col>&lt;dbl&gt;</th><th scope=col>&lt;dbl&gt;</th><th scope=col>&lt;dbl&gt;</th><th scope=col>&lt;dbl&gt;</th><th scope=col>&lt;dbl&gt;</th><th scope=col>&lt;dbl&gt;</th><th scope=col>&lt;dbl&gt;</th><th scope=col>⋯</th><th scope=col>&lt;dbl&gt;</th><th scope=col>&lt;dbl&gt;</th><th scope=col>&lt;dbl&gt;</th><th scope=col>&lt;dbl&gt;</th><th scope=col>&lt;dbl&gt;</th><th scope=col>&lt;dbl&gt;</th><th scope=col>&lt;dbl&gt;</th><th scope=col>&lt;dbl&gt;</th><th scope=col>&lt;dbl&gt;</th><th scope=col>&lt;dbl&gt;</th></tr>\n",
       "</thead>\n",
       "<tbody>\n",
       "\t<tr><th scope=row>GSM1076221</th><td>7.0768</td><td>5.0528</td><td>4.3149</td><td>6.7425</td><td>3.9958</td><td>4.3427</td><td>5.2600</td><td>4.6215</td><td>3.4316</td><td>3.7670</td><td>⋯</td><td>12.9647</td><td>11.4188</td><td>12.5735</td><td>12.5360</td><td>12.1214</td><td>12.1436</td><td>11.1046</td><td>4.3843</td><td>5.8014</td><td>7.1729</td></tr>\n",
       "\t<tr><th scope=row>GSM1076222</th><td>7.7073</td><td>5.5025</td><td>3.9023</td><td>6.2902</td><td>4.2264</td><td>4.1832</td><td>5.1029</td><td>4.4752</td><td>3.6022</td><td>3.8536</td><td>⋯</td><td>12.8276</td><td>11.1116</td><td>12.2317</td><td>12.5378</td><td>12.3075</td><td>12.4840</td><td>10.2477</td><td>4.1779</td><td>5.0179</td><td>6.8319</td></tr>\n",
       "\t<tr><th scope=row>GSM1076223</th><td>7.8793</td><td>5.1808</td><td>4.3387</td><td>5.8373</td><td>3.9753</td><td>4.3371</td><td>5.3442</td><td>4.3785</td><td>3.4890</td><td>3.7592</td><td>⋯</td><td>13.0390</td><td>11.3453</td><td>12.5079</td><td>12.5174</td><td>12.2110</td><td>12.1855</td><td>11.0138</td><td>4.2171</td><td>5.4811</td><td>7.4413</td></tr>\n",
       "\t<tr><th scope=row>GSM1076224</th><td>6.9279</td><td>5.8340</td><td>4.2696</td><td>6.5986</td><td>3.9119</td><td>4.4678</td><td>5.4809</td><td>4.3500</td><td>3.3871</td><td>3.7698</td><td>⋯</td><td>12.8536</td><td>11.2199</td><td>12.1797</td><td>12.7325</td><td>12.5639</td><td>12.7157</td><td> 9.9234</td><td>4.0711</td><td>5.1117</td><td>5.7310</td></tr>\n",
       "\t<tr><th scope=row>GSM1076225</th><td>7.8613</td><td>4.7360</td><td>4.1655</td><td>6.4940</td><td>3.9182</td><td>4.1305</td><td>5.4951</td><td>4.6855</td><td>3.4088</td><td>3.8034</td><td>⋯</td><td>13.0709</td><td>11.3927</td><td>12.6802</td><td>12.3488</td><td>11.9320</td><td>12.2582</td><td>10.4122</td><td>4.0985</td><td>5.0113</td><td>6.3496</td></tr>\n",
       "\t<tr><th scope=row>GSM1076226</th><td>6.5881</td><td>6.3335</td><td>4.5711</td><td>6.5874</td><td>3.8701</td><td>4.8756</td><td>5.3930</td><td>4.3605</td><td>3.3986</td><td>3.7809</td><td>⋯</td><td>12.7698</td><td>11.4416</td><td>12.3531</td><td>13.0415</td><td>12.6648</td><td>12.7245</td><td>10.0229</td><td>3.7954</td><td>5.1809</td><td>5.7449</td></tr>\n",
       "</tbody>\n",
       "</table>\n"
      ],
      "text/latex": [
       "A data.frame: 6 × 21225\n",
       "\\begin{tabular}{r|lllllllllllllllllllll}\n",
       "  & DDR1.....MIR4640 & RFC2 & HSPA6 & PAX8 & GUCA1A & MIR5193.....UBA7 & THRA & PTPN21 & CCL5 & CYP2E1 & ⋯ & ACTB.2 & ACTB.3 & ACTB.4 & GAPDH.3 & GAPDH.4 & GAPDH.5 & STAT1.2 & STAT1.3 & STAT1.4 & STAT1.5\\\\\n",
       "  & <dbl> & <dbl> & <dbl> & <dbl> & <dbl> & <dbl> & <dbl> & <dbl> & <dbl> & <dbl> & ⋯ & <dbl> & <dbl> & <dbl> & <dbl> & <dbl> & <dbl> & <dbl> & <dbl> & <dbl> & <dbl>\\\\\n",
       "\\hline\n",
       "\tGSM1076221 & 7.0768 & 5.0528 & 4.3149 & 6.7425 & 3.9958 & 4.3427 & 5.2600 & 4.6215 & 3.4316 & 3.7670 & ⋯ & 12.9647 & 11.4188 & 12.5735 & 12.5360 & 12.1214 & 12.1436 & 11.1046 & 4.3843 & 5.8014 & 7.1729\\\\\n",
       "\tGSM1076222 & 7.7073 & 5.5025 & 3.9023 & 6.2902 & 4.2264 & 4.1832 & 5.1029 & 4.4752 & 3.6022 & 3.8536 & ⋯ & 12.8276 & 11.1116 & 12.2317 & 12.5378 & 12.3075 & 12.4840 & 10.2477 & 4.1779 & 5.0179 & 6.8319\\\\\n",
       "\tGSM1076223 & 7.8793 & 5.1808 & 4.3387 & 5.8373 & 3.9753 & 4.3371 & 5.3442 & 4.3785 & 3.4890 & 3.7592 & ⋯ & 13.0390 & 11.3453 & 12.5079 & 12.5174 & 12.2110 & 12.1855 & 11.0138 & 4.2171 & 5.4811 & 7.4413\\\\\n",
       "\tGSM1076224 & 6.9279 & 5.8340 & 4.2696 & 6.5986 & 3.9119 & 4.4678 & 5.4809 & 4.3500 & 3.3871 & 3.7698 & ⋯ & 12.8536 & 11.2199 & 12.1797 & 12.7325 & 12.5639 & 12.7157 &  9.9234 & 4.0711 & 5.1117 & 5.7310\\\\\n",
       "\tGSM1076225 & 7.8613 & 4.7360 & 4.1655 & 6.4940 & 3.9182 & 4.1305 & 5.4951 & 4.6855 & 3.4088 & 3.8034 & ⋯ & 13.0709 & 11.3927 & 12.6802 & 12.3488 & 11.9320 & 12.2582 & 10.4122 & 4.0985 & 5.0113 & 6.3496\\\\\n",
       "\tGSM1076226 & 6.5881 & 6.3335 & 4.5711 & 6.5874 & 3.8701 & 4.8756 & 5.3930 & 4.3605 & 3.3986 & 3.7809 & ⋯ & 12.7698 & 11.4416 & 12.3531 & 13.0415 & 12.6648 & 12.7245 & 10.0229 & 3.7954 & 5.1809 & 5.7449\\\\\n",
       "\\end{tabular}\n"
      ],
      "text/markdown": [
       "\n",
       "A data.frame: 6 × 21225\n",
       "\n",
       "| <!--/--> | DDR1.....MIR4640 &lt;dbl&gt; | RFC2 &lt;dbl&gt; | HSPA6 &lt;dbl&gt; | PAX8 &lt;dbl&gt; | GUCA1A &lt;dbl&gt; | MIR5193.....UBA7 &lt;dbl&gt; | THRA &lt;dbl&gt; | PTPN21 &lt;dbl&gt; | CCL5 &lt;dbl&gt; | CYP2E1 &lt;dbl&gt; | ⋯ ⋯ | ACTB.2 &lt;dbl&gt; | ACTB.3 &lt;dbl&gt; | ACTB.4 &lt;dbl&gt; | GAPDH.3 &lt;dbl&gt; | GAPDH.4 &lt;dbl&gt; | GAPDH.5 &lt;dbl&gt; | STAT1.2 &lt;dbl&gt; | STAT1.3 &lt;dbl&gt; | STAT1.4 &lt;dbl&gt; | STAT1.5 &lt;dbl&gt; |\n",
       "|---|---|---|---|---|---|---|---|---|---|---|---|---|---|---|---|---|---|---|---|---|---|\n",
       "| GSM1076221 | 7.0768 | 5.0528 | 4.3149 | 6.7425 | 3.9958 | 4.3427 | 5.2600 | 4.6215 | 3.4316 | 3.7670 | ⋯ | 12.9647 | 11.4188 | 12.5735 | 12.5360 | 12.1214 | 12.1436 | 11.1046 | 4.3843 | 5.8014 | 7.1729 |\n",
       "| GSM1076222 | 7.7073 | 5.5025 | 3.9023 | 6.2902 | 4.2264 | 4.1832 | 5.1029 | 4.4752 | 3.6022 | 3.8536 | ⋯ | 12.8276 | 11.1116 | 12.2317 | 12.5378 | 12.3075 | 12.4840 | 10.2477 | 4.1779 | 5.0179 | 6.8319 |\n",
       "| GSM1076223 | 7.8793 | 5.1808 | 4.3387 | 5.8373 | 3.9753 | 4.3371 | 5.3442 | 4.3785 | 3.4890 | 3.7592 | ⋯ | 13.0390 | 11.3453 | 12.5079 | 12.5174 | 12.2110 | 12.1855 | 11.0138 | 4.2171 | 5.4811 | 7.4413 |\n",
       "| GSM1076224 | 6.9279 | 5.8340 | 4.2696 | 6.5986 | 3.9119 | 4.4678 | 5.4809 | 4.3500 | 3.3871 | 3.7698 | ⋯ | 12.8536 | 11.2199 | 12.1797 | 12.7325 | 12.5639 | 12.7157 |  9.9234 | 4.0711 | 5.1117 | 5.7310 |\n",
       "| GSM1076225 | 7.8613 | 4.7360 | 4.1655 | 6.4940 | 3.9182 | 4.1305 | 5.4951 | 4.6855 | 3.4088 | 3.8034 | ⋯ | 13.0709 | 11.3927 | 12.6802 | 12.3488 | 11.9320 | 12.2582 | 10.4122 | 4.0985 | 5.0113 | 6.3496 |\n",
       "| GSM1076226 | 6.5881 | 6.3335 | 4.5711 | 6.5874 | 3.8701 | 4.8756 | 5.3930 | 4.3605 | 3.3986 | 3.7809 | ⋯ | 12.7698 | 11.4416 | 12.3531 | 13.0415 | 12.6648 | 12.7245 | 10.0229 | 3.7954 | 5.1809 | 5.7449 |\n",
       "\n"
      ],
      "text/plain": [
       "           DDR1.....MIR4640 RFC2   HSPA6  PAX8   GUCA1A MIR5193.....UBA7 THRA  \n",
       "GSM1076221 7.0768           5.0528 4.3149 6.7425 3.9958 4.3427           5.2600\n",
       "GSM1076222 7.7073           5.5025 3.9023 6.2902 4.2264 4.1832           5.1029\n",
       "GSM1076223 7.8793           5.1808 4.3387 5.8373 3.9753 4.3371           5.3442\n",
       "GSM1076224 6.9279           5.8340 4.2696 6.5986 3.9119 4.4678           5.4809\n",
       "GSM1076225 7.8613           4.7360 4.1655 6.4940 3.9182 4.1305           5.4951\n",
       "GSM1076226 6.5881           6.3335 4.5711 6.5874 3.8701 4.8756           5.3930\n",
       "           PTPN21 CCL5   CYP2E1 ⋯ ACTB.2  ACTB.3  ACTB.4  GAPDH.3 GAPDH.4\n",
       "GSM1076221 4.6215 3.4316 3.7670 ⋯ 12.9647 11.4188 12.5735 12.5360 12.1214\n",
       "GSM1076222 4.4752 3.6022 3.8536 ⋯ 12.8276 11.1116 12.2317 12.5378 12.3075\n",
       "GSM1076223 4.3785 3.4890 3.7592 ⋯ 13.0390 11.3453 12.5079 12.5174 12.2110\n",
       "GSM1076224 4.3500 3.3871 3.7698 ⋯ 12.8536 11.2199 12.1797 12.7325 12.5639\n",
       "GSM1076225 4.6855 3.4088 3.8034 ⋯ 13.0709 11.3927 12.6802 12.3488 11.9320\n",
       "GSM1076226 4.3605 3.3986 3.7809 ⋯ 12.7698 11.4416 12.3531 13.0415 12.6648\n",
       "           GAPDH.5 STAT1.2 STAT1.3 STAT1.4 STAT1.5\n",
       "GSM1076221 12.1436 11.1046 4.3843  5.8014  7.1729 \n",
       "GSM1076222 12.4840 10.2477 4.1779  5.0179  6.8319 \n",
       "GSM1076223 12.1855 11.0138 4.2171  5.4811  7.4413 \n",
       "GSM1076224 12.7157  9.9234 4.0711  5.1117  5.7310 \n",
       "GSM1076225 12.2582 10.4122 4.0985  5.0113  6.3496 \n",
       "GSM1076226 12.7245 10.0229 3.7954  5.1809  5.7449 "
      ]
     },
     "metadata": {},
     "output_type": "display_data"
    }
   ],
   "source": [
    "head(df)"
   ]
  },
  {
   "cell_type": "code",
   "execution_count": 158,
   "id": "e39294bf",
   "metadata": {
    "pycharm": {
     "name": "#%%\n"
    }
   },
   "outputs": [],
   "source": [
    "# Remove NA\n",
    "df <- df[, colSums(is.na(df)) == 0]\n",
    "# Remove columns with all 0s\n",
    "df <- df[, colSums(df) > 0]\n",
    "# Remove columns without gene symbol\n",
    "df <- df[,nzchar(colnames(df))]\n",
    "# Remove double names genes (GENE1 /// GENE2)\n",
    "colnames(df) <- gsub(\" ///.*\", \"\", colnames(df))\n",
    "# Make all columns uppercase\n",
    "colnames(df) <- toupper(colnames(df))"
   ]
  },
  {
   "cell_type": "code",
   "execution_count": 159,
   "id": "d352a8eb",
   "metadata": {
    "pycharm": {
     "name": "#%%\n"
    }
   },
   "outputs": [],
   "source": [
    "# Remove double names genes\n",
    "colnames(df) <- gsub(\"\\\\...*\", \"\", colnames(df))"
   ]
  },
  {
   "cell_type": "code",
   "execution_count": 160,
   "id": "6e4f3e87",
   "metadata": {
    "pycharm": {
     "name": "#%%\n"
    }
   },
   "outputs": [
    {
     "data": {
      "text/html": [
       "<table class=\"dataframe\">\n",
       "<caption>A data.frame: 6 × 21225</caption>\n",
       "<thead>\n",
       "\t<tr><th></th><th scope=col>DDR1</th><th scope=col>RFC2</th><th scope=col>HSPA6</th><th scope=col>PAX8</th><th scope=col>GUCA1A</th><th scope=col>MIR5193</th><th scope=col>THRA</th><th scope=col>PTPN21</th><th scope=col>CCL5</th><th scope=col>CYP2E1</th><th scope=col>⋯</th><th scope=col>ACTB</th><th scope=col>ACTB.1</th><th scope=col>ACTB.2</th><th scope=col>GAPDH</th><th scope=col>GAPDH.1</th><th scope=col>GAPDH.2</th><th scope=col>STAT1</th><th scope=col>STAT1.1</th><th scope=col>STAT1.2</th><th scope=col>STAT1.3</th></tr>\n",
       "\t<tr><th></th><th scope=col>&lt;dbl&gt;</th><th scope=col>&lt;dbl&gt;</th><th scope=col>&lt;dbl&gt;</th><th scope=col>&lt;dbl&gt;</th><th scope=col>&lt;dbl&gt;</th><th scope=col>&lt;dbl&gt;</th><th scope=col>&lt;dbl&gt;</th><th scope=col>&lt;dbl&gt;</th><th scope=col>&lt;dbl&gt;</th><th scope=col>&lt;dbl&gt;</th><th scope=col>⋯</th><th scope=col>&lt;dbl&gt;</th><th scope=col>&lt;dbl&gt;</th><th scope=col>&lt;dbl&gt;</th><th scope=col>&lt;dbl&gt;</th><th scope=col>&lt;dbl&gt;</th><th scope=col>&lt;dbl&gt;</th><th scope=col>&lt;dbl&gt;</th><th scope=col>&lt;dbl&gt;</th><th scope=col>&lt;dbl&gt;</th><th scope=col>&lt;dbl&gt;</th></tr>\n",
       "</thead>\n",
       "<tbody>\n",
       "\t<tr><th scope=row>GSM1076221</th><td>7.0768</td><td>5.0528</td><td>4.3149</td><td>6.7425</td><td>3.9958</td><td>4.3427</td><td>5.2600</td><td>4.6215</td><td>3.4316</td><td>3.7670</td><td>⋯</td><td>12.9647</td><td>11.4188</td><td>12.5735</td><td>12.5360</td><td>12.1214</td><td>12.1436</td><td>11.1046</td><td>4.3843</td><td>5.8014</td><td>7.1729</td></tr>\n",
       "\t<tr><th scope=row>GSM1076222</th><td>7.7073</td><td>5.5025</td><td>3.9023</td><td>6.2902</td><td>4.2264</td><td>4.1832</td><td>5.1029</td><td>4.4752</td><td>3.6022</td><td>3.8536</td><td>⋯</td><td>12.8276</td><td>11.1116</td><td>12.2317</td><td>12.5378</td><td>12.3075</td><td>12.4840</td><td>10.2477</td><td>4.1779</td><td>5.0179</td><td>6.8319</td></tr>\n",
       "\t<tr><th scope=row>GSM1076223</th><td>7.8793</td><td>5.1808</td><td>4.3387</td><td>5.8373</td><td>3.9753</td><td>4.3371</td><td>5.3442</td><td>4.3785</td><td>3.4890</td><td>3.7592</td><td>⋯</td><td>13.0390</td><td>11.3453</td><td>12.5079</td><td>12.5174</td><td>12.2110</td><td>12.1855</td><td>11.0138</td><td>4.2171</td><td>5.4811</td><td>7.4413</td></tr>\n",
       "\t<tr><th scope=row>GSM1076224</th><td>6.9279</td><td>5.8340</td><td>4.2696</td><td>6.5986</td><td>3.9119</td><td>4.4678</td><td>5.4809</td><td>4.3500</td><td>3.3871</td><td>3.7698</td><td>⋯</td><td>12.8536</td><td>11.2199</td><td>12.1797</td><td>12.7325</td><td>12.5639</td><td>12.7157</td><td> 9.9234</td><td>4.0711</td><td>5.1117</td><td>5.7310</td></tr>\n",
       "\t<tr><th scope=row>GSM1076225</th><td>7.8613</td><td>4.7360</td><td>4.1655</td><td>6.4940</td><td>3.9182</td><td>4.1305</td><td>5.4951</td><td>4.6855</td><td>3.4088</td><td>3.8034</td><td>⋯</td><td>13.0709</td><td>11.3927</td><td>12.6802</td><td>12.3488</td><td>11.9320</td><td>12.2582</td><td>10.4122</td><td>4.0985</td><td>5.0113</td><td>6.3496</td></tr>\n",
       "\t<tr><th scope=row>GSM1076226</th><td>6.5881</td><td>6.3335</td><td>4.5711</td><td>6.5874</td><td>3.8701</td><td>4.8756</td><td>5.3930</td><td>4.3605</td><td>3.3986</td><td>3.7809</td><td>⋯</td><td>12.7698</td><td>11.4416</td><td>12.3531</td><td>13.0415</td><td>12.6648</td><td>12.7245</td><td>10.0229</td><td>3.7954</td><td>5.1809</td><td>5.7449</td></tr>\n",
       "</tbody>\n",
       "</table>\n"
      ],
      "text/latex": [
       "A data.frame: 6 × 21225\n",
       "\\begin{tabular}{r|lllllllllllllllllllll}\n",
       "  & DDR1 & RFC2 & HSPA6 & PAX8 & GUCA1A & MIR5193 & THRA & PTPN21 & CCL5 & CYP2E1 & ⋯ & ACTB & ACTB.1 & ACTB.2 & GAPDH & GAPDH.1 & GAPDH.2 & STAT1 & STAT1.1 & STAT1.2 & STAT1.3\\\\\n",
       "  & <dbl> & <dbl> & <dbl> & <dbl> & <dbl> & <dbl> & <dbl> & <dbl> & <dbl> & <dbl> & ⋯ & <dbl> & <dbl> & <dbl> & <dbl> & <dbl> & <dbl> & <dbl> & <dbl> & <dbl> & <dbl>\\\\\n",
       "\\hline\n",
       "\tGSM1076221 & 7.0768 & 5.0528 & 4.3149 & 6.7425 & 3.9958 & 4.3427 & 5.2600 & 4.6215 & 3.4316 & 3.7670 & ⋯ & 12.9647 & 11.4188 & 12.5735 & 12.5360 & 12.1214 & 12.1436 & 11.1046 & 4.3843 & 5.8014 & 7.1729\\\\\n",
       "\tGSM1076222 & 7.7073 & 5.5025 & 3.9023 & 6.2902 & 4.2264 & 4.1832 & 5.1029 & 4.4752 & 3.6022 & 3.8536 & ⋯ & 12.8276 & 11.1116 & 12.2317 & 12.5378 & 12.3075 & 12.4840 & 10.2477 & 4.1779 & 5.0179 & 6.8319\\\\\n",
       "\tGSM1076223 & 7.8793 & 5.1808 & 4.3387 & 5.8373 & 3.9753 & 4.3371 & 5.3442 & 4.3785 & 3.4890 & 3.7592 & ⋯ & 13.0390 & 11.3453 & 12.5079 & 12.5174 & 12.2110 & 12.1855 & 11.0138 & 4.2171 & 5.4811 & 7.4413\\\\\n",
       "\tGSM1076224 & 6.9279 & 5.8340 & 4.2696 & 6.5986 & 3.9119 & 4.4678 & 5.4809 & 4.3500 & 3.3871 & 3.7698 & ⋯ & 12.8536 & 11.2199 & 12.1797 & 12.7325 & 12.5639 & 12.7157 &  9.9234 & 4.0711 & 5.1117 & 5.7310\\\\\n",
       "\tGSM1076225 & 7.8613 & 4.7360 & 4.1655 & 6.4940 & 3.9182 & 4.1305 & 5.4951 & 4.6855 & 3.4088 & 3.8034 & ⋯ & 13.0709 & 11.3927 & 12.6802 & 12.3488 & 11.9320 & 12.2582 & 10.4122 & 4.0985 & 5.0113 & 6.3496\\\\\n",
       "\tGSM1076226 & 6.5881 & 6.3335 & 4.5711 & 6.5874 & 3.8701 & 4.8756 & 5.3930 & 4.3605 & 3.3986 & 3.7809 & ⋯ & 12.7698 & 11.4416 & 12.3531 & 13.0415 & 12.6648 & 12.7245 & 10.0229 & 3.7954 & 5.1809 & 5.7449\\\\\n",
       "\\end{tabular}\n"
      ],
      "text/markdown": [
       "\n",
       "A data.frame: 6 × 21225\n",
       "\n",
       "| <!--/--> | DDR1 &lt;dbl&gt; | RFC2 &lt;dbl&gt; | HSPA6 &lt;dbl&gt; | PAX8 &lt;dbl&gt; | GUCA1A &lt;dbl&gt; | MIR5193 &lt;dbl&gt; | THRA &lt;dbl&gt; | PTPN21 &lt;dbl&gt; | CCL5 &lt;dbl&gt; | CYP2E1 &lt;dbl&gt; | ⋯ ⋯ | ACTB &lt;dbl&gt; | ACTB.1 &lt;dbl&gt; | ACTB.2 &lt;dbl&gt; | GAPDH &lt;dbl&gt; | GAPDH.1 &lt;dbl&gt; | GAPDH.2 &lt;dbl&gt; | STAT1 &lt;dbl&gt; | STAT1.1 &lt;dbl&gt; | STAT1.2 &lt;dbl&gt; | STAT1.3 &lt;dbl&gt; |\n",
       "|---|---|---|---|---|---|---|---|---|---|---|---|---|---|---|---|---|---|---|---|---|---|\n",
       "| GSM1076221 | 7.0768 | 5.0528 | 4.3149 | 6.7425 | 3.9958 | 4.3427 | 5.2600 | 4.6215 | 3.4316 | 3.7670 | ⋯ | 12.9647 | 11.4188 | 12.5735 | 12.5360 | 12.1214 | 12.1436 | 11.1046 | 4.3843 | 5.8014 | 7.1729 |\n",
       "| GSM1076222 | 7.7073 | 5.5025 | 3.9023 | 6.2902 | 4.2264 | 4.1832 | 5.1029 | 4.4752 | 3.6022 | 3.8536 | ⋯ | 12.8276 | 11.1116 | 12.2317 | 12.5378 | 12.3075 | 12.4840 | 10.2477 | 4.1779 | 5.0179 | 6.8319 |\n",
       "| GSM1076223 | 7.8793 | 5.1808 | 4.3387 | 5.8373 | 3.9753 | 4.3371 | 5.3442 | 4.3785 | 3.4890 | 3.7592 | ⋯ | 13.0390 | 11.3453 | 12.5079 | 12.5174 | 12.2110 | 12.1855 | 11.0138 | 4.2171 | 5.4811 | 7.4413 |\n",
       "| GSM1076224 | 6.9279 | 5.8340 | 4.2696 | 6.5986 | 3.9119 | 4.4678 | 5.4809 | 4.3500 | 3.3871 | 3.7698 | ⋯ | 12.8536 | 11.2199 | 12.1797 | 12.7325 | 12.5639 | 12.7157 |  9.9234 | 4.0711 | 5.1117 | 5.7310 |\n",
       "| GSM1076225 | 7.8613 | 4.7360 | 4.1655 | 6.4940 | 3.9182 | 4.1305 | 5.4951 | 4.6855 | 3.4088 | 3.8034 | ⋯ | 13.0709 | 11.3927 | 12.6802 | 12.3488 | 11.9320 | 12.2582 | 10.4122 | 4.0985 | 5.0113 | 6.3496 |\n",
       "| GSM1076226 | 6.5881 | 6.3335 | 4.5711 | 6.5874 | 3.8701 | 4.8756 | 5.3930 | 4.3605 | 3.3986 | 3.7809 | ⋯ | 12.7698 | 11.4416 | 12.3531 | 13.0415 | 12.6648 | 12.7245 | 10.0229 | 3.7954 | 5.1809 | 5.7449 |\n",
       "\n"
      ],
      "text/plain": [
       "           DDR1   RFC2   HSPA6  PAX8   GUCA1A MIR5193 THRA   PTPN21 CCL5  \n",
       "GSM1076221 7.0768 5.0528 4.3149 6.7425 3.9958 4.3427  5.2600 4.6215 3.4316\n",
       "GSM1076222 7.7073 5.5025 3.9023 6.2902 4.2264 4.1832  5.1029 4.4752 3.6022\n",
       "GSM1076223 7.8793 5.1808 4.3387 5.8373 3.9753 4.3371  5.3442 4.3785 3.4890\n",
       "GSM1076224 6.9279 5.8340 4.2696 6.5986 3.9119 4.4678  5.4809 4.3500 3.3871\n",
       "GSM1076225 7.8613 4.7360 4.1655 6.4940 3.9182 4.1305  5.4951 4.6855 3.4088\n",
       "GSM1076226 6.5881 6.3335 4.5711 6.5874 3.8701 4.8756  5.3930 4.3605 3.3986\n",
       "           CYP2E1 ⋯ ACTB    ACTB.1  ACTB.2  GAPDH   GAPDH.1 GAPDH.2 STAT1  \n",
       "GSM1076221 3.7670 ⋯ 12.9647 11.4188 12.5735 12.5360 12.1214 12.1436 11.1046\n",
       "GSM1076222 3.8536 ⋯ 12.8276 11.1116 12.2317 12.5378 12.3075 12.4840 10.2477\n",
       "GSM1076223 3.7592 ⋯ 13.0390 11.3453 12.5079 12.5174 12.2110 12.1855 11.0138\n",
       "GSM1076224 3.7698 ⋯ 12.8536 11.2199 12.1797 12.7325 12.5639 12.7157  9.9234\n",
       "GSM1076225 3.8034 ⋯ 13.0709 11.3927 12.6802 12.3488 11.9320 12.2582 10.4122\n",
       "GSM1076226 3.7809 ⋯ 12.7698 11.4416 12.3531 13.0415 12.6648 12.7245 10.0229\n",
       "           STAT1.1 STAT1.2 STAT1.3\n",
       "GSM1076221 4.3843  5.8014  7.1729 \n",
       "GSM1076222 4.1779  5.0179  6.8319 \n",
       "GSM1076223 4.2171  5.4811  7.4413 \n",
       "GSM1076224 4.0711  5.1117  5.7310 \n",
       "GSM1076225 4.0985  5.0113  6.3496 \n",
       "GSM1076226 3.7954  5.1809  5.7449 "
      ]
     },
     "metadata": {},
     "output_type": "display_data"
    }
   ],
   "source": [
    "head(df)"
   ]
  },
  {
   "cell_type": "code",
   "execution_count": 161,
   "id": "83c93d51",
   "metadata": {
    "pycharm": {
     "name": "#%%\n"
    }
   },
   "outputs": [],
   "source": [
    "write.table(df, file=paste(dataPath, csv_name, sep=\"\"), sep=\",\")"
   ]
  },
  {
   "cell_type": "markdown",
   "id": "ac009f1e",
   "metadata": {
    "pycharm": {
     "name": "#%% md\n"
    }
   },
   "source": [
    "# PEROXISOMAL 2"
   ]
  },
  {
   "cell_type": "code",
   "execution_count": 162,
   "id": "86d28672",
   "metadata": {
    "pycharm": {
     "name": "#%%\n"
    }
   },
   "outputs": [],
   "source": [
    "csv_name = 'PEROXISOMAL_GSE69066.csv'"
   ]
  },
  {
   "cell_type": "code",
   "execution_count": 163,
   "id": "3b91caac",
   "metadata": {
    "pycharm": {
     "name": "#%%\n"
    }
   },
   "outputs": [],
   "source": [
    "df <- read.csv(file=paste(dataPath, csv_name, sep=\"\"), header=TRUE)"
   ]
  },
  {
   "cell_type": "code",
   "execution_count": 164,
   "id": "14170900",
   "metadata": {
    "scrolled": true,
    "pycharm": {
     "name": "#%%\n"
    }
   },
   "outputs": [
    {
     "data": {
      "text/html": [
       "<table class=\"dataframe\">\n",
       "<caption>A data.frame: 2 × 21225</caption>\n",
       "<thead>\n",
       "\t<tr><th></th><th scope=col>DDR1.....MIR4640</th><th scope=col>RFC2</th><th scope=col>HSPA6</th><th scope=col>PAX8</th><th scope=col>GUCA1A</th><th scope=col>MIR5193.....UBA7</th><th scope=col>THRA</th><th scope=col>PTPN21</th><th scope=col>CCL5</th><th scope=col>CYP2E1</th><th scope=col>⋯</th><th scope=col>ACTB.2</th><th scope=col>ACTB.3</th><th scope=col>ACTB.4</th><th scope=col>GAPDH.3</th><th scope=col>GAPDH.4</th><th scope=col>GAPDH.5</th><th scope=col>STAT1.2</th><th scope=col>STAT1.3</th><th scope=col>STAT1.4</th><th scope=col>STAT1.5</th></tr>\n",
       "\t<tr><th></th><th scope=col>&lt;dbl&gt;</th><th scope=col>&lt;dbl&gt;</th><th scope=col>&lt;dbl&gt;</th><th scope=col>&lt;dbl&gt;</th><th scope=col>&lt;dbl&gt;</th><th scope=col>&lt;dbl&gt;</th><th scope=col>&lt;dbl&gt;</th><th scope=col>&lt;dbl&gt;</th><th scope=col>&lt;dbl&gt;</th><th scope=col>&lt;dbl&gt;</th><th scope=col>⋯</th><th scope=col>&lt;dbl&gt;</th><th scope=col>&lt;dbl&gt;</th><th scope=col>&lt;dbl&gt;</th><th scope=col>&lt;dbl&gt;</th><th scope=col>&lt;dbl&gt;</th><th scope=col>&lt;dbl&gt;</th><th scope=col>&lt;dbl&gt;</th><th scope=col>&lt;dbl&gt;</th><th scope=col>&lt;dbl&gt;</th><th scope=col>&lt;dbl&gt;</th></tr>\n",
       "</thead>\n",
       "<tbody>\n",
       "\t<tr><th scope=row>GSM1691855</th><td>6.153530</td><td>2.114966</td><td>0.8662884</td><td>3.290827</td><td>0.5929813</td><td>0.8002804</td><td>0.6966309</td><td>1.333083</td><td>0.3372364</td><td>0.7694430</td><td>⋯</td><td>10.90291</td><td>9.060856</td><td>10.501245</td><td>10.66562</td><td>10.484826</td><td>10.66460</td><td>5.799227</td><td>0.5929813</td><td>2.115300</td><td>2.293285</td></tr>\n",
       "\t<tr><th scope=row>GSM1691856</th><td>6.605481</td><td>2.114966</td><td>1.3830027</td><td>3.636813</td><td>0.5929813</td><td>1.0350757</td><td>1.1332877</td><td>1.569880</td><td>0.3372364</td><td>0.5929813</td><td>⋯</td><td>10.39898</td><td>7.365249</td><td> 9.394796</td><td>10.42223</td><td> 9.805768</td><td>10.12718</td><td>5.272491</td><td>0.5929813</td><td>1.985572</td><td>1.695409</td></tr>\n",
       "</tbody>\n",
       "</table>\n"
      ],
      "text/latex": [
       "A data.frame: 2 × 21225\n",
       "\\begin{tabular}{r|lllllllllllllllllllll}\n",
       "  & DDR1.....MIR4640 & RFC2 & HSPA6 & PAX8 & GUCA1A & MIR5193.....UBA7 & THRA & PTPN21 & CCL5 & CYP2E1 & ⋯ & ACTB.2 & ACTB.3 & ACTB.4 & GAPDH.3 & GAPDH.4 & GAPDH.5 & STAT1.2 & STAT1.3 & STAT1.4 & STAT1.5\\\\\n",
       "  & <dbl> & <dbl> & <dbl> & <dbl> & <dbl> & <dbl> & <dbl> & <dbl> & <dbl> & <dbl> & ⋯ & <dbl> & <dbl> & <dbl> & <dbl> & <dbl> & <dbl> & <dbl> & <dbl> & <dbl> & <dbl>\\\\\n",
       "\\hline\n",
       "\tGSM1691855 & 6.153530 & 2.114966 & 0.8662884 & 3.290827 & 0.5929813 & 0.8002804 & 0.6966309 & 1.333083 & 0.3372364 & 0.7694430 & ⋯ & 10.90291 & 9.060856 & 10.501245 & 10.66562 & 10.484826 & 10.66460 & 5.799227 & 0.5929813 & 2.115300 & 2.293285\\\\\n",
       "\tGSM1691856 & 6.605481 & 2.114966 & 1.3830027 & 3.636813 & 0.5929813 & 1.0350757 & 1.1332877 & 1.569880 & 0.3372364 & 0.5929813 & ⋯ & 10.39898 & 7.365249 &  9.394796 & 10.42223 &  9.805768 & 10.12718 & 5.272491 & 0.5929813 & 1.985572 & 1.695409\\\\\n",
       "\\end{tabular}\n"
      ],
      "text/markdown": [
       "\n",
       "A data.frame: 2 × 21225\n",
       "\n",
       "| <!--/--> | DDR1.....MIR4640 &lt;dbl&gt; | RFC2 &lt;dbl&gt; | HSPA6 &lt;dbl&gt; | PAX8 &lt;dbl&gt; | GUCA1A &lt;dbl&gt; | MIR5193.....UBA7 &lt;dbl&gt; | THRA &lt;dbl&gt; | PTPN21 &lt;dbl&gt; | CCL5 &lt;dbl&gt; | CYP2E1 &lt;dbl&gt; | ⋯ ⋯ | ACTB.2 &lt;dbl&gt; | ACTB.3 &lt;dbl&gt; | ACTB.4 &lt;dbl&gt; | GAPDH.3 &lt;dbl&gt; | GAPDH.4 &lt;dbl&gt; | GAPDH.5 &lt;dbl&gt; | STAT1.2 &lt;dbl&gt; | STAT1.3 &lt;dbl&gt; | STAT1.4 &lt;dbl&gt; | STAT1.5 &lt;dbl&gt; |\n",
       "|---|---|---|---|---|---|---|---|---|---|---|---|---|---|---|---|---|---|---|---|---|---|\n",
       "| GSM1691855 | 6.153530 | 2.114966 | 0.8662884 | 3.290827 | 0.5929813 | 0.8002804 | 0.6966309 | 1.333083 | 0.3372364 | 0.7694430 | ⋯ | 10.90291 | 9.060856 | 10.501245 | 10.66562 | 10.484826 | 10.66460 | 5.799227 | 0.5929813 | 2.115300 | 2.293285 |\n",
       "| GSM1691856 | 6.605481 | 2.114966 | 1.3830027 | 3.636813 | 0.5929813 | 1.0350757 | 1.1332877 | 1.569880 | 0.3372364 | 0.5929813 | ⋯ | 10.39898 | 7.365249 |  9.394796 | 10.42223 |  9.805768 | 10.12718 | 5.272491 | 0.5929813 | 1.985572 | 1.695409 |\n",
       "\n"
      ],
      "text/plain": [
       "           DDR1.....MIR4640 RFC2     HSPA6     PAX8     GUCA1A   \n",
       "GSM1691855 6.153530         2.114966 0.8662884 3.290827 0.5929813\n",
       "GSM1691856 6.605481         2.114966 1.3830027 3.636813 0.5929813\n",
       "           MIR5193.....UBA7 THRA      PTPN21   CCL5      CYP2E1    ⋯ ACTB.2  \n",
       "GSM1691855 0.8002804        0.6966309 1.333083 0.3372364 0.7694430 ⋯ 10.90291\n",
       "GSM1691856 1.0350757        1.1332877 1.569880 0.3372364 0.5929813 ⋯ 10.39898\n",
       "           ACTB.3   ACTB.4    GAPDH.3  GAPDH.4   GAPDH.5  STAT1.2  STAT1.3  \n",
       "GSM1691855 9.060856 10.501245 10.66562 10.484826 10.66460 5.799227 0.5929813\n",
       "GSM1691856 7.365249  9.394796 10.42223  9.805768 10.12718 5.272491 0.5929813\n",
       "           STAT1.4  STAT1.5 \n",
       "GSM1691855 2.115300 2.293285\n",
       "GSM1691856 1.985572 1.695409"
      ]
     },
     "metadata": {},
     "output_type": "display_data"
    }
   ],
   "source": [
    "head(df)"
   ]
  },
  {
   "cell_type": "code",
   "execution_count": 165,
   "id": "cd27c43c",
   "metadata": {
    "pycharm": {
     "name": "#%%\n"
    }
   },
   "outputs": [],
   "source": [
    "# Remove NA\n",
    "df <- df[, colSums(is.na(df)) == 0]\n",
    "# Remove columns with all 0s\n",
    "df <- df[, colSums(df) > 0]\n",
    "# Remove columns without gene symbol\n",
    "df <- df[,nzchar(colnames(df))]\n",
    "# Remove double names genes (GENE1 /// GENE2)\n",
    "colnames(df) <- gsub(\" ///.*\", \"\", colnames(df))\n",
    "# Make all columns uppercase\n",
    "colnames(df) <- toupper(colnames(df))"
   ]
  },
  {
   "cell_type": "code",
   "execution_count": 166,
   "id": "e3e625b0",
   "metadata": {
    "pycharm": {
     "name": "#%%\n"
    }
   },
   "outputs": [],
   "source": [
    "# Remove double names genes\n",
    "colnames(df) <- gsub(\"\\\\...*\", \"\", colnames(df))"
   ]
  },
  {
   "cell_type": "code",
   "execution_count": 167,
   "id": "003efb67",
   "metadata": {
    "pycharm": {
     "name": "#%%\n"
    }
   },
   "outputs": [
    {
     "data": {
      "text/html": [
       "<table class=\"dataframe\">\n",
       "<caption>A data.frame: 2 × 21225</caption>\n",
       "<thead>\n",
       "\t<tr><th></th><th scope=col>DDR1</th><th scope=col>RFC2</th><th scope=col>HSPA6</th><th scope=col>PAX8</th><th scope=col>GUCA1A</th><th scope=col>MIR5193</th><th scope=col>THRA</th><th scope=col>PTPN21</th><th scope=col>CCL5</th><th scope=col>CYP2E1</th><th scope=col>⋯</th><th scope=col>ACTB</th><th scope=col>ACTB.1</th><th scope=col>ACTB.2</th><th scope=col>GAPDH</th><th scope=col>GAPDH.1</th><th scope=col>GAPDH.2</th><th scope=col>STAT1</th><th scope=col>STAT1.1</th><th scope=col>STAT1.2</th><th scope=col>STAT1.3</th></tr>\n",
       "\t<tr><th></th><th scope=col>&lt;dbl&gt;</th><th scope=col>&lt;dbl&gt;</th><th scope=col>&lt;dbl&gt;</th><th scope=col>&lt;dbl&gt;</th><th scope=col>&lt;dbl&gt;</th><th scope=col>&lt;dbl&gt;</th><th scope=col>&lt;dbl&gt;</th><th scope=col>&lt;dbl&gt;</th><th scope=col>&lt;dbl&gt;</th><th scope=col>&lt;dbl&gt;</th><th scope=col>⋯</th><th scope=col>&lt;dbl&gt;</th><th scope=col>&lt;dbl&gt;</th><th scope=col>&lt;dbl&gt;</th><th scope=col>&lt;dbl&gt;</th><th scope=col>&lt;dbl&gt;</th><th scope=col>&lt;dbl&gt;</th><th scope=col>&lt;dbl&gt;</th><th scope=col>&lt;dbl&gt;</th><th scope=col>&lt;dbl&gt;</th><th scope=col>&lt;dbl&gt;</th></tr>\n",
       "</thead>\n",
       "<tbody>\n",
       "\t<tr><th scope=row>GSM1691855</th><td>6.153530</td><td>2.114966</td><td>0.8662884</td><td>3.290827</td><td>0.5929813</td><td>0.8002804</td><td>0.6966309</td><td>1.333083</td><td>0.3372364</td><td>0.7694430</td><td>⋯</td><td>10.90291</td><td>9.060856</td><td>10.501245</td><td>10.66562</td><td>10.484826</td><td>10.66460</td><td>5.799227</td><td>0.5929813</td><td>2.115300</td><td>2.293285</td></tr>\n",
       "\t<tr><th scope=row>GSM1691856</th><td>6.605481</td><td>2.114966</td><td>1.3830027</td><td>3.636813</td><td>0.5929813</td><td>1.0350757</td><td>1.1332877</td><td>1.569880</td><td>0.3372364</td><td>0.5929813</td><td>⋯</td><td>10.39898</td><td>7.365249</td><td> 9.394796</td><td>10.42223</td><td> 9.805768</td><td>10.12718</td><td>5.272491</td><td>0.5929813</td><td>1.985572</td><td>1.695409</td></tr>\n",
       "</tbody>\n",
       "</table>\n"
      ],
      "text/latex": [
       "A data.frame: 2 × 21225\n",
       "\\begin{tabular}{r|lllllllllllllllllllll}\n",
       "  & DDR1 & RFC2 & HSPA6 & PAX8 & GUCA1A & MIR5193 & THRA & PTPN21 & CCL5 & CYP2E1 & ⋯ & ACTB & ACTB.1 & ACTB.2 & GAPDH & GAPDH.1 & GAPDH.2 & STAT1 & STAT1.1 & STAT1.2 & STAT1.3\\\\\n",
       "  & <dbl> & <dbl> & <dbl> & <dbl> & <dbl> & <dbl> & <dbl> & <dbl> & <dbl> & <dbl> & ⋯ & <dbl> & <dbl> & <dbl> & <dbl> & <dbl> & <dbl> & <dbl> & <dbl> & <dbl> & <dbl>\\\\\n",
       "\\hline\n",
       "\tGSM1691855 & 6.153530 & 2.114966 & 0.8662884 & 3.290827 & 0.5929813 & 0.8002804 & 0.6966309 & 1.333083 & 0.3372364 & 0.7694430 & ⋯ & 10.90291 & 9.060856 & 10.501245 & 10.66562 & 10.484826 & 10.66460 & 5.799227 & 0.5929813 & 2.115300 & 2.293285\\\\\n",
       "\tGSM1691856 & 6.605481 & 2.114966 & 1.3830027 & 3.636813 & 0.5929813 & 1.0350757 & 1.1332877 & 1.569880 & 0.3372364 & 0.5929813 & ⋯ & 10.39898 & 7.365249 &  9.394796 & 10.42223 &  9.805768 & 10.12718 & 5.272491 & 0.5929813 & 1.985572 & 1.695409\\\\\n",
       "\\end{tabular}\n"
      ],
      "text/markdown": [
       "\n",
       "A data.frame: 2 × 21225\n",
       "\n",
       "| <!--/--> | DDR1 &lt;dbl&gt; | RFC2 &lt;dbl&gt; | HSPA6 &lt;dbl&gt; | PAX8 &lt;dbl&gt; | GUCA1A &lt;dbl&gt; | MIR5193 &lt;dbl&gt; | THRA &lt;dbl&gt; | PTPN21 &lt;dbl&gt; | CCL5 &lt;dbl&gt; | CYP2E1 &lt;dbl&gt; | ⋯ ⋯ | ACTB &lt;dbl&gt; | ACTB.1 &lt;dbl&gt; | ACTB.2 &lt;dbl&gt; | GAPDH &lt;dbl&gt; | GAPDH.1 &lt;dbl&gt; | GAPDH.2 &lt;dbl&gt; | STAT1 &lt;dbl&gt; | STAT1.1 &lt;dbl&gt; | STAT1.2 &lt;dbl&gt; | STAT1.3 &lt;dbl&gt; |\n",
       "|---|---|---|---|---|---|---|---|---|---|---|---|---|---|---|---|---|---|---|---|---|---|\n",
       "| GSM1691855 | 6.153530 | 2.114966 | 0.8662884 | 3.290827 | 0.5929813 | 0.8002804 | 0.6966309 | 1.333083 | 0.3372364 | 0.7694430 | ⋯ | 10.90291 | 9.060856 | 10.501245 | 10.66562 | 10.484826 | 10.66460 | 5.799227 | 0.5929813 | 2.115300 | 2.293285 |\n",
       "| GSM1691856 | 6.605481 | 2.114966 | 1.3830027 | 3.636813 | 0.5929813 | 1.0350757 | 1.1332877 | 1.569880 | 0.3372364 | 0.5929813 | ⋯ | 10.39898 | 7.365249 |  9.394796 | 10.42223 |  9.805768 | 10.12718 | 5.272491 | 0.5929813 | 1.985572 | 1.695409 |\n",
       "\n"
      ],
      "text/plain": [
       "           DDR1     RFC2     HSPA6     PAX8     GUCA1A    MIR5193   THRA     \n",
       "GSM1691855 6.153530 2.114966 0.8662884 3.290827 0.5929813 0.8002804 0.6966309\n",
       "GSM1691856 6.605481 2.114966 1.3830027 3.636813 0.5929813 1.0350757 1.1332877\n",
       "           PTPN21   CCL5      CYP2E1    ⋯ ACTB     ACTB.1   ACTB.2    GAPDH   \n",
       "GSM1691855 1.333083 0.3372364 0.7694430 ⋯ 10.90291 9.060856 10.501245 10.66562\n",
       "GSM1691856 1.569880 0.3372364 0.5929813 ⋯ 10.39898 7.365249  9.394796 10.42223\n",
       "           GAPDH.1   GAPDH.2  STAT1    STAT1.1   STAT1.2  STAT1.3 \n",
       "GSM1691855 10.484826 10.66460 5.799227 0.5929813 2.115300 2.293285\n",
       "GSM1691856  9.805768 10.12718 5.272491 0.5929813 1.985572 1.695409"
      ]
     },
     "metadata": {},
     "output_type": "display_data"
    }
   ],
   "source": [
    "head(df)"
   ]
  },
  {
   "cell_type": "code",
   "execution_count": 168,
   "id": "58ec0235",
   "metadata": {
    "pycharm": {
     "name": "#%%\n"
    }
   },
   "outputs": [],
   "source": [
    "write.table(df, file=paste(dataPath, csv_name, sep=\"\"), sep=\",\")"
   ]
  },
  {
   "cell_type": "markdown",
   "id": "8482a375",
   "metadata": {
    "pycharm": {
     "name": "#%% md\n"
    }
   },
   "source": [
    "# GAUCHER 1"
   ]
  },
  {
   "cell_type": "code",
   "execution_count": 169,
   "id": "cd1da28a",
   "metadata": {
    "pycharm": {
     "name": "#%%\n"
    }
   },
   "outputs": [],
   "source": [
    "csv_name = 'GAUCHER_GSE124283.csv'"
   ]
  },
  {
   "cell_type": "code",
   "execution_count": 170,
   "id": "8d2e7eb7",
   "metadata": {
    "pycharm": {
     "name": "#%%\n"
    }
   },
   "outputs": [],
   "source": [
    "df <- read.csv(file=paste(dataPath, csv_name, sep=\"\"), header=TRUE)"
   ]
  },
  {
   "cell_type": "code",
   "execution_count": 171,
   "id": "0fdee27e",
   "metadata": {
    "scrolled": true,
    "pycharm": {
     "name": "#%%\n"
    }
   },
   "outputs": [
    {
     "data": {
      "text/html": [
       "<table class=\"dataframe\">\n",
       "<caption>A data.frame: 6 × 31424</caption>\n",
       "<thead>\n",
       "\t<tr><th></th><th scope=col>X7A5</th><th scope=col>A1BG</th><th scope=col>A1CF</th><th scope=col>A26C3</th><th scope=col>A2BP1</th><th scope=col>A2LD1</th><th scope=col>A2M</th><th scope=col>A2ML1</th><th scope=col>A3GALT2</th><th scope=col>A4GALT</th><th scope=col>⋯</th><th scope=col>ZWILCH</th><th scope=col>ZWINT</th><th scope=col>ZXDA</th><th scope=col>ZXDB</th><th scope=col>ZXDC</th><th scope=col>ZYG11A</th><th scope=col>ZYG11B</th><th scope=col>ZYX</th><th scope=col>ZZEF1</th><th scope=col>ZZZ3</th></tr>\n",
       "\t<tr><th></th><th scope=col>&lt;dbl&gt;</th><th scope=col>&lt;dbl&gt;</th><th scope=col>&lt;dbl&gt;</th><th scope=col>&lt;dbl&gt;</th><th scope=col>&lt;dbl&gt;</th><th scope=col>&lt;dbl&gt;</th><th scope=col>&lt;dbl&gt;</th><th scope=col>&lt;dbl&gt;</th><th scope=col>&lt;dbl&gt;</th><th scope=col>&lt;dbl&gt;</th><th scope=col>⋯</th><th scope=col>&lt;dbl&gt;</th><th scope=col>&lt;dbl&gt;</th><th scope=col>&lt;dbl&gt;</th><th scope=col>&lt;dbl&gt;</th><th scope=col>&lt;dbl&gt;</th><th scope=col>&lt;dbl&gt;</th><th scope=col>&lt;dbl&gt;</th><th scope=col>&lt;dbl&gt;</th><th scope=col>&lt;dbl&gt;</th><th scope=col>&lt;dbl&gt;</th></tr>\n",
       "</thead>\n",
       "<tbody>\n",
       "\t<tr><th scope=row>GSM3526979</th><td>77.90689</td><td>77.91269</td><td>76.00592</td><td>75.28105</td><td>74.41833</td><td> 89.92991</td><td> 83.31320</td><td>71.61835</td><td>76.07062</td><td>173.85630</td><td>⋯</td><td>110.37890</td><td> 94.28487</td><td>77.18758</td><td> 99.54223</td><td>81.95280</td><td>78.62696</td><td>405.7758</td><td>1214.3800</td><td>260.9414</td><td>203.0276</td></tr>\n",
       "\t<tr><th scope=row>GSM3526980</th><td>75.86201</td><td>80.11732</td><td>74.23648</td><td>72.94248</td><td>75.92688</td><td> 92.90813</td><td> 71.50749</td><td>72.88329</td><td>72.94296</td><td>253.54580</td><td>⋯</td><td> 93.42171</td><td> 81.22705</td><td>79.11552</td><td> 89.55640</td><td>85.88889</td><td>76.47934</td><td>351.6067</td><td> 835.2040</td><td>190.0189</td><td>196.1484</td></tr>\n",
       "\t<tr><th scope=row>GSM3526988</th><td>72.46059</td><td>75.50118</td><td>72.61402</td><td>74.34894</td><td>70.92567</td><td> 83.59776</td><td> 71.76194</td><td>70.64061</td><td>74.49350</td><td> 97.74953</td><td>⋯</td><td>154.72310</td><td>122.07520</td><td>74.51260</td><td> 80.50256</td><td>75.28564</td><td>73.82278</td><td>170.6696</td><td> 440.1375</td><td>127.0901</td><td>190.6778</td></tr>\n",
       "\t<tr><th scope=row>GSM3527004</th><td>82.72894</td><td>80.58268</td><td>82.17849</td><td>79.12257</td><td>78.48637</td><td>120.71830</td><td>190.78470</td><td>80.77851</td><td>77.38298</td><td>168.05590</td><td>⋯</td><td>155.56360</td><td> 97.40102</td><td>81.52473</td><td>102.42350</td><td>93.35011</td><td>78.53728</td><td>718.7820</td><td>1222.2520</td><td>288.9493</td><td>388.2021</td></tr>\n",
       "\t<tr><th scope=row>GSM3527007</th><td>77.87585</td><td>85.32943</td><td>78.29251</td><td>78.42223</td><td>77.56104</td><td>111.99370</td><td> 77.09916</td><td>77.24261</td><td>80.02428</td><td>149.84040</td><td>⋯</td><td>228.03460</td><td>151.03060</td><td>80.03234</td><td> 90.15014</td><td>90.44879</td><td>78.01225</td><td>510.9697</td><td>1037.1090</td><td>233.7106</td><td>404.4689</td></tr>\n",
       "\t<tr><th scope=row>GSM3527008</th><td>82.67387</td><td>82.40833</td><td>80.29066</td><td>78.62093</td><td>75.76055</td><td>111.41830</td><td> 99.75630</td><td>73.16680</td><td>74.18369</td><td>123.66790</td><td>⋯</td><td>150.79300</td><td> 88.90922</td><td>79.73350</td><td>102.26050</td><td>88.67117</td><td>74.79890</td><td>551.6744</td><td>1240.8010</td><td>197.4138</td><td>340.2071</td></tr>\n",
       "</tbody>\n",
       "</table>\n"
      ],
      "text/latex": [
       "A data.frame: 6 × 31424\n",
       "\\begin{tabular}{r|lllllllllllllllllllll}\n",
       "  & X7A5 & A1BG & A1CF & A26C3 & A2BP1 & A2LD1 & A2M & A2ML1 & A3GALT2 & A4GALT & ⋯ & ZWILCH & ZWINT & ZXDA & ZXDB & ZXDC & ZYG11A & ZYG11B & ZYX & ZZEF1 & ZZZ3\\\\\n",
       "  & <dbl> & <dbl> & <dbl> & <dbl> & <dbl> & <dbl> & <dbl> & <dbl> & <dbl> & <dbl> & ⋯ & <dbl> & <dbl> & <dbl> & <dbl> & <dbl> & <dbl> & <dbl> & <dbl> & <dbl> & <dbl>\\\\\n",
       "\\hline\n",
       "\tGSM3526979 & 77.90689 & 77.91269 & 76.00592 & 75.28105 & 74.41833 &  89.92991 &  83.31320 & 71.61835 & 76.07062 & 173.85630 & ⋯ & 110.37890 &  94.28487 & 77.18758 &  99.54223 & 81.95280 & 78.62696 & 405.7758 & 1214.3800 & 260.9414 & 203.0276\\\\\n",
       "\tGSM3526980 & 75.86201 & 80.11732 & 74.23648 & 72.94248 & 75.92688 &  92.90813 &  71.50749 & 72.88329 & 72.94296 & 253.54580 & ⋯ &  93.42171 &  81.22705 & 79.11552 &  89.55640 & 85.88889 & 76.47934 & 351.6067 &  835.2040 & 190.0189 & 196.1484\\\\\n",
       "\tGSM3526988 & 72.46059 & 75.50118 & 72.61402 & 74.34894 & 70.92567 &  83.59776 &  71.76194 & 70.64061 & 74.49350 &  97.74953 & ⋯ & 154.72310 & 122.07520 & 74.51260 &  80.50256 & 75.28564 & 73.82278 & 170.6696 &  440.1375 & 127.0901 & 190.6778\\\\\n",
       "\tGSM3527004 & 82.72894 & 80.58268 & 82.17849 & 79.12257 & 78.48637 & 120.71830 & 190.78470 & 80.77851 & 77.38298 & 168.05590 & ⋯ & 155.56360 &  97.40102 & 81.52473 & 102.42350 & 93.35011 & 78.53728 & 718.7820 & 1222.2520 & 288.9493 & 388.2021\\\\\n",
       "\tGSM3527007 & 77.87585 & 85.32943 & 78.29251 & 78.42223 & 77.56104 & 111.99370 &  77.09916 & 77.24261 & 80.02428 & 149.84040 & ⋯ & 228.03460 & 151.03060 & 80.03234 &  90.15014 & 90.44879 & 78.01225 & 510.9697 & 1037.1090 & 233.7106 & 404.4689\\\\\n",
       "\tGSM3527008 & 82.67387 & 82.40833 & 80.29066 & 78.62093 & 75.76055 & 111.41830 &  99.75630 & 73.16680 & 74.18369 & 123.66790 & ⋯ & 150.79300 &  88.90922 & 79.73350 & 102.26050 & 88.67117 & 74.79890 & 551.6744 & 1240.8010 & 197.4138 & 340.2071\\\\\n",
       "\\end{tabular}\n"
      ],
      "text/markdown": [
       "\n",
       "A data.frame: 6 × 31424\n",
       "\n",
       "| <!--/--> | X7A5 &lt;dbl&gt; | A1BG &lt;dbl&gt; | A1CF &lt;dbl&gt; | A26C3 &lt;dbl&gt; | A2BP1 &lt;dbl&gt; | A2LD1 &lt;dbl&gt; | A2M &lt;dbl&gt; | A2ML1 &lt;dbl&gt; | A3GALT2 &lt;dbl&gt; | A4GALT &lt;dbl&gt; | ⋯ ⋯ | ZWILCH &lt;dbl&gt; | ZWINT &lt;dbl&gt; | ZXDA &lt;dbl&gt; | ZXDB &lt;dbl&gt; | ZXDC &lt;dbl&gt; | ZYG11A &lt;dbl&gt; | ZYG11B &lt;dbl&gt; | ZYX &lt;dbl&gt; | ZZEF1 &lt;dbl&gt; | ZZZ3 &lt;dbl&gt; |\n",
       "|---|---|---|---|---|---|---|---|---|---|---|---|---|---|---|---|---|---|---|---|---|---|\n",
       "| GSM3526979 | 77.90689 | 77.91269 | 76.00592 | 75.28105 | 74.41833 |  89.92991 |  83.31320 | 71.61835 | 76.07062 | 173.85630 | ⋯ | 110.37890 |  94.28487 | 77.18758 |  99.54223 | 81.95280 | 78.62696 | 405.7758 | 1214.3800 | 260.9414 | 203.0276 |\n",
       "| GSM3526980 | 75.86201 | 80.11732 | 74.23648 | 72.94248 | 75.92688 |  92.90813 |  71.50749 | 72.88329 | 72.94296 | 253.54580 | ⋯ |  93.42171 |  81.22705 | 79.11552 |  89.55640 | 85.88889 | 76.47934 | 351.6067 |  835.2040 | 190.0189 | 196.1484 |\n",
       "| GSM3526988 | 72.46059 | 75.50118 | 72.61402 | 74.34894 | 70.92567 |  83.59776 |  71.76194 | 70.64061 | 74.49350 |  97.74953 | ⋯ | 154.72310 | 122.07520 | 74.51260 |  80.50256 | 75.28564 | 73.82278 | 170.6696 |  440.1375 | 127.0901 | 190.6778 |\n",
       "| GSM3527004 | 82.72894 | 80.58268 | 82.17849 | 79.12257 | 78.48637 | 120.71830 | 190.78470 | 80.77851 | 77.38298 | 168.05590 | ⋯ | 155.56360 |  97.40102 | 81.52473 | 102.42350 | 93.35011 | 78.53728 | 718.7820 | 1222.2520 | 288.9493 | 388.2021 |\n",
       "| GSM3527007 | 77.87585 | 85.32943 | 78.29251 | 78.42223 | 77.56104 | 111.99370 |  77.09916 | 77.24261 | 80.02428 | 149.84040 | ⋯ | 228.03460 | 151.03060 | 80.03234 |  90.15014 | 90.44879 | 78.01225 | 510.9697 | 1037.1090 | 233.7106 | 404.4689 |\n",
       "| GSM3527008 | 82.67387 | 82.40833 | 80.29066 | 78.62093 | 75.76055 | 111.41830 |  99.75630 | 73.16680 | 74.18369 | 123.66790 | ⋯ | 150.79300 |  88.90922 | 79.73350 | 102.26050 | 88.67117 | 74.79890 | 551.6744 | 1240.8010 | 197.4138 | 340.2071 |\n",
       "\n"
      ],
      "text/plain": [
       "           X7A5     A1BG     A1CF     A26C3    A2BP1    A2LD1     A2M      \n",
       "GSM3526979 77.90689 77.91269 76.00592 75.28105 74.41833  89.92991  83.31320\n",
       "GSM3526980 75.86201 80.11732 74.23648 72.94248 75.92688  92.90813  71.50749\n",
       "GSM3526988 72.46059 75.50118 72.61402 74.34894 70.92567  83.59776  71.76194\n",
       "GSM3527004 82.72894 80.58268 82.17849 79.12257 78.48637 120.71830 190.78470\n",
       "GSM3527007 77.87585 85.32943 78.29251 78.42223 77.56104 111.99370  77.09916\n",
       "GSM3527008 82.67387 82.40833 80.29066 78.62093 75.76055 111.41830  99.75630\n",
       "           A2ML1    A3GALT2  A4GALT    ⋯ ZWILCH    ZWINT     ZXDA     ZXDB     \n",
       "GSM3526979 71.61835 76.07062 173.85630 ⋯ 110.37890  94.28487 77.18758  99.54223\n",
       "GSM3526980 72.88329 72.94296 253.54580 ⋯  93.42171  81.22705 79.11552  89.55640\n",
       "GSM3526988 70.64061 74.49350  97.74953 ⋯ 154.72310 122.07520 74.51260  80.50256\n",
       "GSM3527004 80.77851 77.38298 168.05590 ⋯ 155.56360  97.40102 81.52473 102.42350\n",
       "GSM3527007 77.24261 80.02428 149.84040 ⋯ 228.03460 151.03060 80.03234  90.15014\n",
       "GSM3527008 73.16680 74.18369 123.66790 ⋯ 150.79300  88.90922 79.73350 102.26050\n",
       "           ZXDC     ZYG11A   ZYG11B   ZYX       ZZEF1    ZZZ3    \n",
       "GSM3526979 81.95280 78.62696 405.7758 1214.3800 260.9414 203.0276\n",
       "GSM3526980 85.88889 76.47934 351.6067  835.2040 190.0189 196.1484\n",
       "GSM3526988 75.28564 73.82278 170.6696  440.1375 127.0901 190.6778\n",
       "GSM3527004 93.35011 78.53728 718.7820 1222.2520 288.9493 388.2021\n",
       "GSM3527007 90.44879 78.01225 510.9697 1037.1090 233.7106 404.4689\n",
       "GSM3527008 88.67117 74.79890 551.6744 1240.8010 197.4138 340.2071"
      ]
     },
     "metadata": {},
     "output_type": "display_data"
    }
   ],
   "source": [
    "head(df)"
   ]
  },
  {
   "cell_type": "code",
   "execution_count": 172,
   "id": "eb72c861",
   "metadata": {
    "pycharm": {
     "name": "#%%\n"
    }
   },
   "outputs": [],
   "source": [
    "# Remove NA\n",
    "df <- df[, colSums(is.na(df)) == 0]\n",
    "# Remove columns with all 0s\n",
    "df <- df[, colSums(df) > 0]\n",
    "# Remove columns without gene symbol\n",
    "df <- df[,nzchar(colnames(df))]\n",
    "# Remove double names genes (GENE1 /// GENE2)\n",
    "colnames(df) <- gsub(\" ///.*\", \"\", colnames(df))\n",
    "# Make all columns uppercase\n",
    "colnames(df) <- toupper(colnames(df))"
   ]
  },
  {
   "cell_type": "code",
   "execution_count": 173,
   "id": "e78a2cdf",
   "metadata": {
    "pycharm": {
     "name": "#%%\n"
    }
   },
   "outputs": [
    {
     "data": {
      "text/html": [
       "<table class=\"dataframe\">\n",
       "<caption>A data.frame: 6 × 31424</caption>\n",
       "<thead>\n",
       "\t<tr><th></th><th scope=col>X7A5</th><th scope=col>A1BG</th><th scope=col>A1CF</th><th scope=col>A26C3</th><th scope=col>A2BP1</th><th scope=col>A2LD1</th><th scope=col>A2M</th><th scope=col>A2ML1</th><th scope=col>A3GALT2</th><th scope=col>A4GALT</th><th scope=col>⋯</th><th scope=col>ZWILCH</th><th scope=col>ZWINT</th><th scope=col>ZXDA</th><th scope=col>ZXDB</th><th scope=col>ZXDC</th><th scope=col>ZYG11A</th><th scope=col>ZYG11B</th><th scope=col>ZYX</th><th scope=col>ZZEF1</th><th scope=col>ZZZ3</th></tr>\n",
       "\t<tr><th></th><th scope=col>&lt;dbl&gt;</th><th scope=col>&lt;dbl&gt;</th><th scope=col>&lt;dbl&gt;</th><th scope=col>&lt;dbl&gt;</th><th scope=col>&lt;dbl&gt;</th><th scope=col>&lt;dbl&gt;</th><th scope=col>&lt;dbl&gt;</th><th scope=col>&lt;dbl&gt;</th><th scope=col>&lt;dbl&gt;</th><th scope=col>&lt;dbl&gt;</th><th scope=col>⋯</th><th scope=col>&lt;dbl&gt;</th><th scope=col>&lt;dbl&gt;</th><th scope=col>&lt;dbl&gt;</th><th scope=col>&lt;dbl&gt;</th><th scope=col>&lt;dbl&gt;</th><th scope=col>&lt;dbl&gt;</th><th scope=col>&lt;dbl&gt;</th><th scope=col>&lt;dbl&gt;</th><th scope=col>&lt;dbl&gt;</th><th scope=col>&lt;dbl&gt;</th></tr>\n",
       "</thead>\n",
       "<tbody>\n",
       "\t<tr><th scope=row>GSM3526979</th><td>77.90689</td><td>77.91269</td><td>76.00592</td><td>75.28105</td><td>74.41833</td><td> 89.92991</td><td> 83.31320</td><td>71.61835</td><td>76.07062</td><td>173.85630</td><td>⋯</td><td>110.37890</td><td> 94.28487</td><td>77.18758</td><td> 99.54223</td><td>81.95280</td><td>78.62696</td><td>405.7758</td><td>1214.3800</td><td>260.9414</td><td>203.0276</td></tr>\n",
       "\t<tr><th scope=row>GSM3526980</th><td>75.86201</td><td>80.11732</td><td>74.23648</td><td>72.94248</td><td>75.92688</td><td> 92.90813</td><td> 71.50749</td><td>72.88329</td><td>72.94296</td><td>253.54580</td><td>⋯</td><td> 93.42171</td><td> 81.22705</td><td>79.11552</td><td> 89.55640</td><td>85.88889</td><td>76.47934</td><td>351.6067</td><td> 835.2040</td><td>190.0189</td><td>196.1484</td></tr>\n",
       "\t<tr><th scope=row>GSM3526988</th><td>72.46059</td><td>75.50118</td><td>72.61402</td><td>74.34894</td><td>70.92567</td><td> 83.59776</td><td> 71.76194</td><td>70.64061</td><td>74.49350</td><td> 97.74953</td><td>⋯</td><td>154.72310</td><td>122.07520</td><td>74.51260</td><td> 80.50256</td><td>75.28564</td><td>73.82278</td><td>170.6696</td><td> 440.1375</td><td>127.0901</td><td>190.6778</td></tr>\n",
       "\t<tr><th scope=row>GSM3527004</th><td>82.72894</td><td>80.58268</td><td>82.17849</td><td>79.12257</td><td>78.48637</td><td>120.71830</td><td>190.78470</td><td>80.77851</td><td>77.38298</td><td>168.05590</td><td>⋯</td><td>155.56360</td><td> 97.40102</td><td>81.52473</td><td>102.42350</td><td>93.35011</td><td>78.53728</td><td>718.7820</td><td>1222.2520</td><td>288.9493</td><td>388.2021</td></tr>\n",
       "\t<tr><th scope=row>GSM3527007</th><td>77.87585</td><td>85.32943</td><td>78.29251</td><td>78.42223</td><td>77.56104</td><td>111.99370</td><td> 77.09916</td><td>77.24261</td><td>80.02428</td><td>149.84040</td><td>⋯</td><td>228.03460</td><td>151.03060</td><td>80.03234</td><td> 90.15014</td><td>90.44879</td><td>78.01225</td><td>510.9697</td><td>1037.1090</td><td>233.7106</td><td>404.4689</td></tr>\n",
       "\t<tr><th scope=row>GSM3527008</th><td>82.67387</td><td>82.40833</td><td>80.29066</td><td>78.62093</td><td>75.76055</td><td>111.41830</td><td> 99.75630</td><td>73.16680</td><td>74.18369</td><td>123.66790</td><td>⋯</td><td>150.79300</td><td> 88.90922</td><td>79.73350</td><td>102.26050</td><td>88.67117</td><td>74.79890</td><td>551.6744</td><td>1240.8010</td><td>197.4138</td><td>340.2071</td></tr>\n",
       "</tbody>\n",
       "</table>\n"
      ],
      "text/latex": [
       "A data.frame: 6 × 31424\n",
       "\\begin{tabular}{r|lllllllllllllllllllll}\n",
       "  & X7A5 & A1BG & A1CF & A26C3 & A2BP1 & A2LD1 & A2M & A2ML1 & A3GALT2 & A4GALT & ⋯ & ZWILCH & ZWINT & ZXDA & ZXDB & ZXDC & ZYG11A & ZYG11B & ZYX & ZZEF1 & ZZZ3\\\\\n",
       "  & <dbl> & <dbl> & <dbl> & <dbl> & <dbl> & <dbl> & <dbl> & <dbl> & <dbl> & <dbl> & ⋯ & <dbl> & <dbl> & <dbl> & <dbl> & <dbl> & <dbl> & <dbl> & <dbl> & <dbl> & <dbl>\\\\\n",
       "\\hline\n",
       "\tGSM3526979 & 77.90689 & 77.91269 & 76.00592 & 75.28105 & 74.41833 &  89.92991 &  83.31320 & 71.61835 & 76.07062 & 173.85630 & ⋯ & 110.37890 &  94.28487 & 77.18758 &  99.54223 & 81.95280 & 78.62696 & 405.7758 & 1214.3800 & 260.9414 & 203.0276\\\\\n",
       "\tGSM3526980 & 75.86201 & 80.11732 & 74.23648 & 72.94248 & 75.92688 &  92.90813 &  71.50749 & 72.88329 & 72.94296 & 253.54580 & ⋯ &  93.42171 &  81.22705 & 79.11552 &  89.55640 & 85.88889 & 76.47934 & 351.6067 &  835.2040 & 190.0189 & 196.1484\\\\\n",
       "\tGSM3526988 & 72.46059 & 75.50118 & 72.61402 & 74.34894 & 70.92567 &  83.59776 &  71.76194 & 70.64061 & 74.49350 &  97.74953 & ⋯ & 154.72310 & 122.07520 & 74.51260 &  80.50256 & 75.28564 & 73.82278 & 170.6696 &  440.1375 & 127.0901 & 190.6778\\\\\n",
       "\tGSM3527004 & 82.72894 & 80.58268 & 82.17849 & 79.12257 & 78.48637 & 120.71830 & 190.78470 & 80.77851 & 77.38298 & 168.05590 & ⋯ & 155.56360 &  97.40102 & 81.52473 & 102.42350 & 93.35011 & 78.53728 & 718.7820 & 1222.2520 & 288.9493 & 388.2021\\\\\n",
       "\tGSM3527007 & 77.87585 & 85.32943 & 78.29251 & 78.42223 & 77.56104 & 111.99370 &  77.09916 & 77.24261 & 80.02428 & 149.84040 & ⋯ & 228.03460 & 151.03060 & 80.03234 &  90.15014 & 90.44879 & 78.01225 & 510.9697 & 1037.1090 & 233.7106 & 404.4689\\\\\n",
       "\tGSM3527008 & 82.67387 & 82.40833 & 80.29066 & 78.62093 & 75.76055 & 111.41830 &  99.75630 & 73.16680 & 74.18369 & 123.66790 & ⋯ & 150.79300 &  88.90922 & 79.73350 & 102.26050 & 88.67117 & 74.79890 & 551.6744 & 1240.8010 & 197.4138 & 340.2071\\\\\n",
       "\\end{tabular}\n"
      ],
      "text/markdown": [
       "\n",
       "A data.frame: 6 × 31424\n",
       "\n",
       "| <!--/--> | X7A5 &lt;dbl&gt; | A1BG &lt;dbl&gt; | A1CF &lt;dbl&gt; | A26C3 &lt;dbl&gt; | A2BP1 &lt;dbl&gt; | A2LD1 &lt;dbl&gt; | A2M &lt;dbl&gt; | A2ML1 &lt;dbl&gt; | A3GALT2 &lt;dbl&gt; | A4GALT &lt;dbl&gt; | ⋯ ⋯ | ZWILCH &lt;dbl&gt; | ZWINT &lt;dbl&gt; | ZXDA &lt;dbl&gt; | ZXDB &lt;dbl&gt; | ZXDC &lt;dbl&gt; | ZYG11A &lt;dbl&gt; | ZYG11B &lt;dbl&gt; | ZYX &lt;dbl&gt; | ZZEF1 &lt;dbl&gt; | ZZZ3 &lt;dbl&gt; |\n",
       "|---|---|---|---|---|---|---|---|---|---|---|---|---|---|---|---|---|---|---|---|---|---|\n",
       "| GSM3526979 | 77.90689 | 77.91269 | 76.00592 | 75.28105 | 74.41833 |  89.92991 |  83.31320 | 71.61835 | 76.07062 | 173.85630 | ⋯ | 110.37890 |  94.28487 | 77.18758 |  99.54223 | 81.95280 | 78.62696 | 405.7758 | 1214.3800 | 260.9414 | 203.0276 |\n",
       "| GSM3526980 | 75.86201 | 80.11732 | 74.23648 | 72.94248 | 75.92688 |  92.90813 |  71.50749 | 72.88329 | 72.94296 | 253.54580 | ⋯ |  93.42171 |  81.22705 | 79.11552 |  89.55640 | 85.88889 | 76.47934 | 351.6067 |  835.2040 | 190.0189 | 196.1484 |\n",
       "| GSM3526988 | 72.46059 | 75.50118 | 72.61402 | 74.34894 | 70.92567 |  83.59776 |  71.76194 | 70.64061 | 74.49350 |  97.74953 | ⋯ | 154.72310 | 122.07520 | 74.51260 |  80.50256 | 75.28564 | 73.82278 | 170.6696 |  440.1375 | 127.0901 | 190.6778 |\n",
       "| GSM3527004 | 82.72894 | 80.58268 | 82.17849 | 79.12257 | 78.48637 | 120.71830 | 190.78470 | 80.77851 | 77.38298 | 168.05590 | ⋯ | 155.56360 |  97.40102 | 81.52473 | 102.42350 | 93.35011 | 78.53728 | 718.7820 | 1222.2520 | 288.9493 | 388.2021 |\n",
       "| GSM3527007 | 77.87585 | 85.32943 | 78.29251 | 78.42223 | 77.56104 | 111.99370 |  77.09916 | 77.24261 | 80.02428 | 149.84040 | ⋯ | 228.03460 | 151.03060 | 80.03234 |  90.15014 | 90.44879 | 78.01225 | 510.9697 | 1037.1090 | 233.7106 | 404.4689 |\n",
       "| GSM3527008 | 82.67387 | 82.40833 | 80.29066 | 78.62093 | 75.76055 | 111.41830 |  99.75630 | 73.16680 | 74.18369 | 123.66790 | ⋯ | 150.79300 |  88.90922 | 79.73350 | 102.26050 | 88.67117 | 74.79890 | 551.6744 | 1240.8010 | 197.4138 | 340.2071 |\n",
       "\n"
      ],
      "text/plain": [
       "           X7A5     A1BG     A1CF     A26C3    A2BP1    A2LD1     A2M      \n",
       "GSM3526979 77.90689 77.91269 76.00592 75.28105 74.41833  89.92991  83.31320\n",
       "GSM3526980 75.86201 80.11732 74.23648 72.94248 75.92688  92.90813  71.50749\n",
       "GSM3526988 72.46059 75.50118 72.61402 74.34894 70.92567  83.59776  71.76194\n",
       "GSM3527004 82.72894 80.58268 82.17849 79.12257 78.48637 120.71830 190.78470\n",
       "GSM3527007 77.87585 85.32943 78.29251 78.42223 77.56104 111.99370  77.09916\n",
       "GSM3527008 82.67387 82.40833 80.29066 78.62093 75.76055 111.41830  99.75630\n",
       "           A2ML1    A3GALT2  A4GALT    ⋯ ZWILCH    ZWINT     ZXDA     ZXDB     \n",
       "GSM3526979 71.61835 76.07062 173.85630 ⋯ 110.37890  94.28487 77.18758  99.54223\n",
       "GSM3526980 72.88329 72.94296 253.54580 ⋯  93.42171  81.22705 79.11552  89.55640\n",
       "GSM3526988 70.64061 74.49350  97.74953 ⋯ 154.72310 122.07520 74.51260  80.50256\n",
       "GSM3527004 80.77851 77.38298 168.05590 ⋯ 155.56360  97.40102 81.52473 102.42350\n",
       "GSM3527007 77.24261 80.02428 149.84040 ⋯ 228.03460 151.03060 80.03234  90.15014\n",
       "GSM3527008 73.16680 74.18369 123.66790 ⋯ 150.79300  88.90922 79.73350 102.26050\n",
       "           ZXDC     ZYG11A   ZYG11B   ZYX       ZZEF1    ZZZ3    \n",
       "GSM3526979 81.95280 78.62696 405.7758 1214.3800 260.9414 203.0276\n",
       "GSM3526980 85.88889 76.47934 351.6067  835.2040 190.0189 196.1484\n",
       "GSM3526988 75.28564 73.82278 170.6696  440.1375 127.0901 190.6778\n",
       "GSM3527004 93.35011 78.53728 718.7820 1222.2520 288.9493 388.2021\n",
       "GSM3527007 90.44879 78.01225 510.9697 1037.1090 233.7106 404.4689\n",
       "GSM3527008 88.67117 74.79890 551.6744 1240.8010 197.4138 340.2071"
      ]
     },
     "metadata": {},
     "output_type": "display_data"
    }
   ],
   "source": [
    "head(df)"
   ]
  },
  {
   "cell_type": "code",
   "execution_count": 174,
   "id": "604315c1",
   "metadata": {
    "pycharm": {
     "name": "#%%\n"
    }
   },
   "outputs": [],
   "source": [
    "write.table(df, file=paste(dataPath, csv_name, sep=\"\"), sep=\",\")"
   ]
  },
  {
   "cell_type": "markdown",
   "id": "311f1b13",
   "metadata": {
    "pycharm": {
     "name": "#%% md\n"
    }
   },
   "source": [
    "# GAUCHER 2"
   ]
  },
  {
   "cell_type": "code",
   "execution_count": 175,
   "id": "192acfe1",
   "metadata": {
    "pycharm": {
     "name": "#%%\n"
    }
   },
   "outputs": [],
   "source": [
    "csv_name = 'GAUCHER_GSE13675.csv'"
   ]
  },
  {
   "cell_type": "code",
   "execution_count": 176,
   "id": "de9c0868",
   "metadata": {
    "pycharm": {
     "name": "#%%\n"
    }
   },
   "outputs": [],
   "source": [
    "df <- read.csv(file=paste(dataPath, csv_name, sep=\"\"), header=TRUE)"
   ]
  },
  {
   "cell_type": "code",
   "execution_count": 177,
   "id": "910f3a73",
   "metadata": {
    "scrolled": true,
    "pycharm": {
     "name": "#%%\n"
    }
   },
   "outputs": [
    {
     "data": {
      "text/html": [
       "<table class=\"dataframe\">\n",
       "<caption>A data.frame: 2 × 9728</caption>\n",
       "<thead>\n",
       "\t<tr><th></th><th scope=col>ACAT1</th><th scope=col>PIGA</th><th scope=col>PRPS1L1</th><th scope=col>PTPN12</th><th scope=col>SDHB</th><th scope=col>IL1RL1</th><th scope=col>RBL1</th><th scope=col>PREPL</th><th scope=col>FGF9</th><th scope=col>PRDX6</th><th scope=col>⋯</th><th scope=col>DZIP3</th><th scope=col>BIRC4.1</th><th scope=col>VKORC1L1.1</th><th scope=col>PLEKHA5.1</th><th scope=col>CNOT6</th><th scope=col>PLXNA1.2</th><th scope=col>RBM26.1</th><th scope=col>HNRNPR.1</th><th scope=col>ANAPC1.1</th><th scope=col>GPATCH8</th></tr>\n",
       "\t<tr><th></th><th scope=col>&lt;dbl&gt;</th><th scope=col>&lt;dbl&gt;</th><th scope=col>&lt;dbl&gt;</th><th scope=col>&lt;dbl&gt;</th><th scope=col>&lt;dbl&gt;</th><th scope=col>&lt;dbl&gt;</th><th scope=col>&lt;dbl&gt;</th><th scope=col>&lt;dbl&gt;</th><th scope=col>&lt;lgl&gt;</th><th scope=col>&lt;dbl&gt;</th><th scope=col>⋯</th><th scope=col>&lt;lgl&gt;</th><th scope=col>&lt;dbl&gt;</th><th scope=col>&lt;dbl&gt;</th><th scope=col>&lt;dbl&gt;</th><th scope=col>&lt;int&gt;</th><th scope=col>&lt;dbl&gt;</th><th scope=col>&lt;dbl&gt;</th><th scope=col>&lt;dbl&gt;</th><th scope=col>&lt;dbl&gt;</th><th scope=col>&lt;dbl&gt;</th></tr>\n",
       "</thead>\n",
       "<tbody>\n",
       "\t<tr><th scope=row>GSM343899</th><td>307.5</td><td> 933.5</td><td>275.000</td><td>689.25</td><td>6628.50</td><td>108.25</td><td>158.50</td><td>445.75</td><td>NA</td><td>19886.25</td><td>⋯</td><td>NA</td><td>3408.875</td><td>122.250</td><td>128.75</td><td>132</td><td>70.5</td><td>211.25</td><td>115.75</td><td>125.25</td><td>99.75</td></tr>\n",
       "\t<tr><th scope=row>GSM343901</th><td>304.0</td><td>1123.5</td><td>269.125</td><td>690.50</td><td>7257.75</td><td>164.75</td><td>158.75</td><td>388.75</td><td>NA</td><td>18588.50</td><td>⋯</td><td>NA</td><td>3060.500</td><td> 95.125</td><td> 90.00</td><td>160</td><td>21.0</td><td>243.75</td><td>127.00</td><td>161.25</td><td>91.00</td></tr>\n",
       "</tbody>\n",
       "</table>\n"
      ],
      "text/latex": [
       "A data.frame: 2 × 9728\n",
       "\\begin{tabular}{r|lllllllllllllllllllll}\n",
       "  & ACAT1 & PIGA & PRPS1L1 & PTPN12 & SDHB & IL1RL1 & RBL1 & PREPL & FGF9 & PRDX6 & ⋯ & DZIP3 & BIRC4.1 & VKORC1L1.1 & PLEKHA5.1 & CNOT6 & PLXNA1.2 & RBM26.1 & HNRNPR.1 & ANAPC1.1 & GPATCH8\\\\\n",
       "  & <dbl> & <dbl> & <dbl> & <dbl> & <dbl> & <dbl> & <dbl> & <dbl> & <lgl> & <dbl> & ⋯ & <lgl> & <dbl> & <dbl> & <dbl> & <int> & <dbl> & <dbl> & <dbl> & <dbl> & <dbl>\\\\\n",
       "\\hline\n",
       "\tGSM343899 & 307.5 &  933.5 & 275.000 & 689.25 & 6628.50 & 108.25 & 158.50 & 445.75 & NA & 19886.25 & ⋯ & NA & 3408.875 & 122.250 & 128.75 & 132 & 70.5 & 211.25 & 115.75 & 125.25 & 99.75\\\\\n",
       "\tGSM343901 & 304.0 & 1123.5 & 269.125 & 690.50 & 7257.75 & 164.75 & 158.75 & 388.75 & NA & 18588.50 & ⋯ & NA & 3060.500 &  95.125 &  90.00 & 160 & 21.0 & 243.75 & 127.00 & 161.25 & 91.00\\\\\n",
       "\\end{tabular}\n"
      ],
      "text/markdown": [
       "\n",
       "A data.frame: 2 × 9728\n",
       "\n",
       "| <!--/--> | ACAT1 &lt;dbl&gt; | PIGA &lt;dbl&gt; | PRPS1L1 &lt;dbl&gt; | PTPN12 &lt;dbl&gt; | SDHB &lt;dbl&gt; | IL1RL1 &lt;dbl&gt; | RBL1 &lt;dbl&gt; | PREPL &lt;dbl&gt; | FGF9 &lt;lgl&gt; | PRDX6 &lt;dbl&gt; | ⋯ ⋯ | DZIP3 &lt;lgl&gt; | BIRC4.1 &lt;dbl&gt; | VKORC1L1.1 &lt;dbl&gt; | PLEKHA5.1 &lt;dbl&gt; | CNOT6 &lt;int&gt; | PLXNA1.2 &lt;dbl&gt; | RBM26.1 &lt;dbl&gt; | HNRNPR.1 &lt;dbl&gt; | ANAPC1.1 &lt;dbl&gt; | GPATCH8 &lt;dbl&gt; |\n",
       "|---|---|---|---|---|---|---|---|---|---|---|---|---|---|---|---|---|---|---|---|---|---|\n",
       "| GSM343899 | 307.5 |  933.5 | 275.000 | 689.25 | 6628.50 | 108.25 | 158.50 | 445.75 | NA | 19886.25 | ⋯ | NA | 3408.875 | 122.250 | 128.75 | 132 | 70.5 | 211.25 | 115.75 | 125.25 | 99.75 |\n",
       "| GSM343901 | 304.0 | 1123.5 | 269.125 | 690.50 | 7257.75 | 164.75 | 158.75 | 388.75 | NA | 18588.50 | ⋯ | NA | 3060.500 |  95.125 |  90.00 | 160 | 21.0 | 243.75 | 127.00 | 161.25 | 91.00 |\n",
       "\n"
      ],
      "text/plain": [
       "          ACAT1 PIGA   PRPS1L1 PTPN12 SDHB    IL1RL1 RBL1   PREPL  FGF9\n",
       "GSM343899 307.5  933.5 275.000 689.25 6628.50 108.25 158.50 445.75 NA  \n",
       "GSM343901 304.0 1123.5 269.125 690.50 7257.75 164.75 158.75 388.75 NA  \n",
       "          PRDX6    ⋯ DZIP3 BIRC4.1  VKORC1L1.1 PLEKHA5.1 CNOT6 PLXNA1.2 RBM26.1\n",
       "GSM343899 19886.25 ⋯ NA    3408.875 122.250    128.75    132   70.5     211.25 \n",
       "GSM343901 18588.50 ⋯ NA    3060.500  95.125     90.00    160   21.0     243.75 \n",
       "          HNRNPR.1 ANAPC1.1 GPATCH8\n",
       "GSM343899 115.75   125.25   99.75  \n",
       "GSM343901 127.00   161.25   91.00  "
      ]
     },
     "metadata": {},
     "output_type": "display_data"
    }
   ],
   "source": [
    "head(df)"
   ]
  },
  {
   "cell_type": "code",
   "execution_count": 179,
   "id": "8bfda385",
   "metadata": {
    "pycharm": {
     "name": "#%%\n"
    }
   },
   "outputs": [],
   "source": [
    "# Remove NA\n",
    "df <- df[, colSums(is.na(df)) == 0]\n",
    "# Remove columns with all 0s\n",
    "df <- df[, colSums(df) > 0]\n",
    "# Remove columns without gene symbol\n",
    "df <- df[,nzchar(colnames(df))]\n",
    "# Remove double names genes (GENE1 /// GENE2)\n",
    "colnames(df) <- gsub(\" ///.*\", \"\", colnames(df))\n",
    "# Make all columns uppercase\n",
    "colnames(df) <- toupper(colnames(df))"
   ]
  },
  {
   "cell_type": "code",
   "execution_count": 180,
   "id": "74c99d71",
   "metadata": {
    "pycharm": {
     "name": "#%%\n"
    }
   },
   "outputs": [
    {
     "data": {
      "text/html": [
       "<table class=\"dataframe\">\n",
       "<caption>A data.frame: 2 × 8066</caption>\n",
       "<thead>\n",
       "\t<tr><th></th><th scope=col>ACAT1</th><th scope=col>PIGA</th><th scope=col>PRPS1L1</th><th scope=col>PTPN12</th><th scope=col>SDHB</th><th scope=col>IL1RL1</th><th scope=col>RBL1</th><th scope=col>PREPL</th><th scope=col>PRDX6</th><th scope=col>CCKAR</th><th scope=col>⋯</th><th scope=col>SEC24A.1</th><th scope=col>BIRC4.1</th><th scope=col>VKORC1L1.1</th><th scope=col>PLEKHA5.1</th><th scope=col>CNOT6</th><th scope=col>PLXNA1.2</th><th scope=col>RBM26.1</th><th scope=col>HNRNPR.1</th><th scope=col>ANAPC1.1</th><th scope=col>GPATCH8</th></tr>\n",
       "\t<tr><th></th><th scope=col>&lt;dbl&gt;</th><th scope=col>&lt;dbl&gt;</th><th scope=col>&lt;dbl&gt;</th><th scope=col>&lt;dbl&gt;</th><th scope=col>&lt;dbl&gt;</th><th scope=col>&lt;dbl&gt;</th><th scope=col>&lt;dbl&gt;</th><th scope=col>&lt;dbl&gt;</th><th scope=col>&lt;dbl&gt;</th><th scope=col>&lt;dbl&gt;</th><th scope=col>⋯</th><th scope=col>&lt;dbl&gt;</th><th scope=col>&lt;dbl&gt;</th><th scope=col>&lt;dbl&gt;</th><th scope=col>&lt;dbl&gt;</th><th scope=col>&lt;int&gt;</th><th scope=col>&lt;dbl&gt;</th><th scope=col>&lt;dbl&gt;</th><th scope=col>&lt;dbl&gt;</th><th scope=col>&lt;dbl&gt;</th><th scope=col>&lt;dbl&gt;</th></tr>\n",
       "</thead>\n",
       "<tbody>\n",
       "\t<tr><th scope=row>GSM343899</th><td>307.5</td><td> 933.5</td><td>275.000</td><td>689.25</td><td>6628.50</td><td>108.25</td><td>158.50</td><td>445.75</td><td>19886.25</td><td>62.75</td><td>⋯</td><td>107.25</td><td>3408.875</td><td>122.250</td><td>128.75</td><td>132</td><td>70.5</td><td>211.25</td><td>115.75</td><td>125.25</td><td>99.75</td></tr>\n",
       "\t<tr><th scope=row>GSM343901</th><td>304.0</td><td>1123.5</td><td>269.125</td><td>690.50</td><td>7257.75</td><td>164.75</td><td>158.75</td><td>388.75</td><td>18588.50</td><td>70.75</td><td>⋯</td><td> 80.25</td><td>3060.500</td><td> 95.125</td><td> 90.00</td><td>160</td><td>21.0</td><td>243.75</td><td>127.00</td><td>161.25</td><td>91.00</td></tr>\n",
       "</tbody>\n",
       "</table>\n"
      ],
      "text/latex": [
       "A data.frame: 2 × 8066\n",
       "\\begin{tabular}{r|lllllllllllllllllllll}\n",
       "  & ACAT1 & PIGA & PRPS1L1 & PTPN12 & SDHB & IL1RL1 & RBL1 & PREPL & PRDX6 & CCKAR & ⋯ & SEC24A.1 & BIRC4.1 & VKORC1L1.1 & PLEKHA5.1 & CNOT6 & PLXNA1.2 & RBM26.1 & HNRNPR.1 & ANAPC1.1 & GPATCH8\\\\\n",
       "  & <dbl> & <dbl> & <dbl> & <dbl> & <dbl> & <dbl> & <dbl> & <dbl> & <dbl> & <dbl> & ⋯ & <dbl> & <dbl> & <dbl> & <dbl> & <int> & <dbl> & <dbl> & <dbl> & <dbl> & <dbl>\\\\\n",
       "\\hline\n",
       "\tGSM343899 & 307.5 &  933.5 & 275.000 & 689.25 & 6628.50 & 108.25 & 158.50 & 445.75 & 19886.25 & 62.75 & ⋯ & 107.25 & 3408.875 & 122.250 & 128.75 & 132 & 70.5 & 211.25 & 115.75 & 125.25 & 99.75\\\\\n",
       "\tGSM343901 & 304.0 & 1123.5 & 269.125 & 690.50 & 7257.75 & 164.75 & 158.75 & 388.75 & 18588.50 & 70.75 & ⋯ &  80.25 & 3060.500 &  95.125 &  90.00 & 160 & 21.0 & 243.75 & 127.00 & 161.25 & 91.00\\\\\n",
       "\\end{tabular}\n"
      ],
      "text/markdown": [
       "\n",
       "A data.frame: 2 × 8066\n",
       "\n",
       "| <!--/--> | ACAT1 &lt;dbl&gt; | PIGA &lt;dbl&gt; | PRPS1L1 &lt;dbl&gt; | PTPN12 &lt;dbl&gt; | SDHB &lt;dbl&gt; | IL1RL1 &lt;dbl&gt; | RBL1 &lt;dbl&gt; | PREPL &lt;dbl&gt; | PRDX6 &lt;dbl&gt; | CCKAR &lt;dbl&gt; | ⋯ ⋯ | SEC24A.1 &lt;dbl&gt; | BIRC4.1 &lt;dbl&gt; | VKORC1L1.1 &lt;dbl&gt; | PLEKHA5.1 &lt;dbl&gt; | CNOT6 &lt;int&gt; | PLXNA1.2 &lt;dbl&gt; | RBM26.1 &lt;dbl&gt; | HNRNPR.1 &lt;dbl&gt; | ANAPC1.1 &lt;dbl&gt; | GPATCH8 &lt;dbl&gt; |\n",
       "|---|---|---|---|---|---|---|---|---|---|---|---|---|---|---|---|---|---|---|---|---|---|\n",
       "| GSM343899 | 307.5 |  933.5 | 275.000 | 689.25 | 6628.50 | 108.25 | 158.50 | 445.75 | 19886.25 | 62.75 | ⋯ | 107.25 | 3408.875 | 122.250 | 128.75 | 132 | 70.5 | 211.25 | 115.75 | 125.25 | 99.75 |\n",
       "| GSM343901 | 304.0 | 1123.5 | 269.125 | 690.50 | 7257.75 | 164.75 | 158.75 | 388.75 | 18588.50 | 70.75 | ⋯ |  80.25 | 3060.500 |  95.125 |  90.00 | 160 | 21.0 | 243.75 | 127.00 | 161.25 | 91.00 |\n",
       "\n"
      ],
      "text/plain": [
       "          ACAT1 PIGA   PRPS1L1 PTPN12 SDHB    IL1RL1 RBL1   PREPL  PRDX6   \n",
       "GSM343899 307.5  933.5 275.000 689.25 6628.50 108.25 158.50 445.75 19886.25\n",
       "GSM343901 304.0 1123.5 269.125 690.50 7257.75 164.75 158.75 388.75 18588.50\n",
       "          CCKAR ⋯ SEC24A.1 BIRC4.1  VKORC1L1.1 PLEKHA5.1 CNOT6 PLXNA1.2 RBM26.1\n",
       "GSM343899 62.75 ⋯ 107.25   3408.875 122.250    128.75    132   70.5     211.25 \n",
       "GSM343901 70.75 ⋯  80.25   3060.500  95.125     90.00    160   21.0     243.75 \n",
       "          HNRNPR.1 ANAPC1.1 GPATCH8\n",
       "GSM343899 115.75   125.25   99.75  \n",
       "GSM343901 127.00   161.25   91.00  "
      ]
     },
     "metadata": {},
     "output_type": "display_data"
    }
   ],
   "source": [
    "head(df)"
   ]
  },
  {
   "cell_type": "code",
   "execution_count": 181,
   "id": "204f6190",
   "metadata": {
    "pycharm": {
     "name": "#%%\n"
    }
   },
   "outputs": [],
   "source": [
    "write.table(df, file=paste(dataPath, csv_name, sep=\"\"), sep=\",\")"
   ]
  },
  {
   "cell_type": "markdown",
   "id": "92cb009d",
   "metadata": {
    "pycharm": {
     "name": "#%% md\n"
    }
   },
   "source": [
    "# GAUCHER 3"
   ]
  },
  {
   "cell_type": "code",
   "execution_count": 182,
   "id": "004fb67f",
   "metadata": {
    "pycharm": {
     "name": "#%%\n"
    }
   },
   "outputs": [],
   "source": [
    "csv_name = 'GAUCHER_GSE21899.csv'"
   ]
  },
  {
   "cell_type": "code",
   "execution_count": 183,
   "id": "ec3dfd5b",
   "metadata": {
    "pycharm": {
     "name": "#%%\n"
    }
   },
   "outputs": [],
   "source": [
    "df <- read.csv(file=paste(dataPath, csv_name, sep=\"\"), header=TRUE)"
   ]
  },
  {
   "cell_type": "code",
   "execution_count": 184,
   "id": "df67de44",
   "metadata": {
    "scrolled": true,
    "pycharm": {
     "name": "#%%\n"
    }
   },
   "outputs": [
    {
     "data": {
      "text/html": [
       "<table class=\"dataframe\">\n",
       "<caption>A data.frame: 2 × 8066</caption>\n",
       "<thead>\n",
       "\t<tr><th></th><th scope=col>ACAT1</th><th scope=col>PIGA</th><th scope=col>PRPS1L1</th><th scope=col>PTPN12</th><th scope=col>SDHB</th><th scope=col>IL1RL1</th><th scope=col>RBL1</th><th scope=col>PREPL</th><th scope=col>PRDX6</th><th scope=col>CCKAR</th><th scope=col>⋯</th><th scope=col>SEC24A.1</th><th scope=col>BIRC4.1</th><th scope=col>VKORC1L1.1</th><th scope=col>PLEKHA5.1</th><th scope=col>CNOT6</th><th scope=col>PLXNA1.2</th><th scope=col>RBM26.1</th><th scope=col>HNRNPR.1</th><th scope=col>ANAPC1.1</th><th scope=col>GPATCH8</th></tr>\n",
       "\t<tr><th></th><th scope=col>&lt;dbl&gt;</th><th scope=col>&lt;dbl&gt;</th><th scope=col>&lt;dbl&gt;</th><th scope=col>&lt;dbl&gt;</th><th scope=col>&lt;dbl&gt;</th><th scope=col>&lt;dbl&gt;</th><th scope=col>&lt;dbl&gt;</th><th scope=col>&lt;dbl&gt;</th><th scope=col>&lt;dbl&gt;</th><th scope=col>&lt;dbl&gt;</th><th scope=col>⋯</th><th scope=col>&lt;dbl&gt;</th><th scope=col>&lt;dbl&gt;</th><th scope=col>&lt;dbl&gt;</th><th scope=col>&lt;dbl&gt;</th><th scope=col>&lt;int&gt;</th><th scope=col>&lt;dbl&gt;</th><th scope=col>&lt;dbl&gt;</th><th scope=col>&lt;dbl&gt;</th><th scope=col>&lt;dbl&gt;</th><th scope=col>&lt;dbl&gt;</th></tr>\n",
       "</thead>\n",
       "<tbody>\n",
       "\t<tr><th scope=row>GSM343899</th><td>307.5</td><td> 933.5</td><td>275.000</td><td>689.25</td><td>6628.50</td><td>108.25</td><td>158.50</td><td>445.75</td><td>19886.25</td><td>62.75</td><td>⋯</td><td>107.25</td><td>3408.875</td><td>122.250</td><td>128.75</td><td>132</td><td>70.5</td><td>211.25</td><td>115.75</td><td>125.25</td><td>99.75</td></tr>\n",
       "\t<tr><th scope=row>GSM343901</th><td>304.0</td><td>1123.5</td><td>269.125</td><td>690.50</td><td>7257.75</td><td>164.75</td><td>158.75</td><td>388.75</td><td>18588.50</td><td>70.75</td><td>⋯</td><td> 80.25</td><td>3060.500</td><td> 95.125</td><td> 90.00</td><td>160</td><td>21.0</td><td>243.75</td><td>127.00</td><td>161.25</td><td>91.00</td></tr>\n",
       "</tbody>\n",
       "</table>\n"
      ],
      "text/latex": [
       "A data.frame: 2 × 8066\n",
       "\\begin{tabular}{r|lllllllllllllllllllll}\n",
       "  & ACAT1 & PIGA & PRPS1L1 & PTPN12 & SDHB & IL1RL1 & RBL1 & PREPL & PRDX6 & CCKAR & ⋯ & SEC24A.1 & BIRC4.1 & VKORC1L1.1 & PLEKHA5.1 & CNOT6 & PLXNA1.2 & RBM26.1 & HNRNPR.1 & ANAPC1.1 & GPATCH8\\\\\n",
       "  & <dbl> & <dbl> & <dbl> & <dbl> & <dbl> & <dbl> & <dbl> & <dbl> & <dbl> & <dbl> & ⋯ & <dbl> & <dbl> & <dbl> & <dbl> & <int> & <dbl> & <dbl> & <dbl> & <dbl> & <dbl>\\\\\n",
       "\\hline\n",
       "\tGSM343899 & 307.5 &  933.5 & 275.000 & 689.25 & 6628.50 & 108.25 & 158.50 & 445.75 & 19886.25 & 62.75 & ⋯ & 107.25 & 3408.875 & 122.250 & 128.75 & 132 & 70.5 & 211.25 & 115.75 & 125.25 & 99.75\\\\\n",
       "\tGSM343901 & 304.0 & 1123.5 & 269.125 & 690.50 & 7257.75 & 164.75 & 158.75 & 388.75 & 18588.50 & 70.75 & ⋯ &  80.25 & 3060.500 &  95.125 &  90.00 & 160 & 21.0 & 243.75 & 127.00 & 161.25 & 91.00\\\\\n",
       "\\end{tabular}\n"
      ],
      "text/markdown": [
       "\n",
       "A data.frame: 2 × 8066\n",
       "\n",
       "| <!--/--> | ACAT1 &lt;dbl&gt; | PIGA &lt;dbl&gt; | PRPS1L1 &lt;dbl&gt; | PTPN12 &lt;dbl&gt; | SDHB &lt;dbl&gt; | IL1RL1 &lt;dbl&gt; | RBL1 &lt;dbl&gt; | PREPL &lt;dbl&gt; | PRDX6 &lt;dbl&gt; | CCKAR &lt;dbl&gt; | ⋯ ⋯ | SEC24A.1 &lt;dbl&gt; | BIRC4.1 &lt;dbl&gt; | VKORC1L1.1 &lt;dbl&gt; | PLEKHA5.1 &lt;dbl&gt; | CNOT6 &lt;int&gt; | PLXNA1.2 &lt;dbl&gt; | RBM26.1 &lt;dbl&gt; | HNRNPR.1 &lt;dbl&gt; | ANAPC1.1 &lt;dbl&gt; | GPATCH8 &lt;dbl&gt; |\n",
       "|---|---|---|---|---|---|---|---|---|---|---|---|---|---|---|---|---|---|---|---|---|---|\n",
       "| GSM343899 | 307.5 |  933.5 | 275.000 | 689.25 | 6628.50 | 108.25 | 158.50 | 445.75 | 19886.25 | 62.75 | ⋯ | 107.25 | 3408.875 | 122.250 | 128.75 | 132 | 70.5 | 211.25 | 115.75 | 125.25 | 99.75 |\n",
       "| GSM343901 | 304.0 | 1123.5 | 269.125 | 690.50 | 7257.75 | 164.75 | 158.75 | 388.75 | 18588.50 | 70.75 | ⋯ |  80.25 | 3060.500 |  95.125 |  90.00 | 160 | 21.0 | 243.75 | 127.00 | 161.25 | 91.00 |\n",
       "\n"
      ],
      "text/plain": [
       "          ACAT1 PIGA   PRPS1L1 PTPN12 SDHB    IL1RL1 RBL1   PREPL  PRDX6   \n",
       "GSM343899 307.5  933.5 275.000 689.25 6628.50 108.25 158.50 445.75 19886.25\n",
       "GSM343901 304.0 1123.5 269.125 690.50 7257.75 164.75 158.75 388.75 18588.50\n",
       "          CCKAR ⋯ SEC24A.1 BIRC4.1  VKORC1L1.1 PLEKHA5.1 CNOT6 PLXNA1.2 RBM26.1\n",
       "GSM343899 62.75 ⋯ 107.25   3408.875 122.250    128.75    132   70.5     211.25 \n",
       "GSM343901 70.75 ⋯  80.25   3060.500  95.125     90.00    160   21.0     243.75 \n",
       "          HNRNPR.1 ANAPC1.1 GPATCH8\n",
       "GSM343899 115.75   125.25   99.75  \n",
       "GSM343901 127.00   161.25   91.00  "
      ]
     },
     "metadata": {},
     "output_type": "display_data"
    }
   ],
   "source": [
    "head(df)"
   ]
  },
  {
   "cell_type": "code",
   "execution_count": 185,
   "id": "aa1956d2",
   "metadata": {
    "pycharm": {
     "name": "#%%\n"
    }
   },
   "outputs": [],
   "source": [
    "# Remove NA\n",
    "df <- df[, colSums(is.na(df)) == 0]\n",
    "# Remove columns with all 0s\n",
    "df <- df[, colSums(df) > 0]\n",
    "# Remove columns without gene symbol\n",
    "df <- df[,nzchar(colnames(df))]\n",
    "# Remove double names genes (GENE1 /// GENE2)\n",
    "colnames(df) <- gsub(\" ///.*\", \"\", colnames(df))\n",
    "# Make all columns uppercase\n",
    "colnames(df) <- toupper(colnames(df))"
   ]
  },
  {
   "cell_type": "code",
   "execution_count": 186,
   "id": "bb73392d",
   "metadata": {
    "pycharm": {
     "name": "#%%\n"
    }
   },
   "outputs": [
    {
     "data": {
      "text/html": [
       "<table class=\"dataframe\">\n",
       "<caption>A data.frame: 2 × 8066</caption>\n",
       "<thead>\n",
       "\t<tr><th></th><th scope=col>ACAT1</th><th scope=col>PIGA</th><th scope=col>PRPS1L1</th><th scope=col>PTPN12</th><th scope=col>SDHB</th><th scope=col>IL1RL1</th><th scope=col>RBL1</th><th scope=col>PREPL</th><th scope=col>PRDX6</th><th scope=col>CCKAR</th><th scope=col>⋯</th><th scope=col>SEC24A.1</th><th scope=col>BIRC4.1</th><th scope=col>VKORC1L1.1</th><th scope=col>PLEKHA5.1</th><th scope=col>CNOT6</th><th scope=col>PLXNA1.2</th><th scope=col>RBM26.1</th><th scope=col>HNRNPR.1</th><th scope=col>ANAPC1.1</th><th scope=col>GPATCH8</th></tr>\n",
       "\t<tr><th></th><th scope=col>&lt;dbl&gt;</th><th scope=col>&lt;dbl&gt;</th><th scope=col>&lt;dbl&gt;</th><th scope=col>&lt;dbl&gt;</th><th scope=col>&lt;dbl&gt;</th><th scope=col>&lt;dbl&gt;</th><th scope=col>&lt;dbl&gt;</th><th scope=col>&lt;dbl&gt;</th><th scope=col>&lt;dbl&gt;</th><th scope=col>&lt;dbl&gt;</th><th scope=col>⋯</th><th scope=col>&lt;dbl&gt;</th><th scope=col>&lt;dbl&gt;</th><th scope=col>&lt;dbl&gt;</th><th scope=col>&lt;dbl&gt;</th><th scope=col>&lt;int&gt;</th><th scope=col>&lt;dbl&gt;</th><th scope=col>&lt;dbl&gt;</th><th scope=col>&lt;dbl&gt;</th><th scope=col>&lt;dbl&gt;</th><th scope=col>&lt;dbl&gt;</th></tr>\n",
       "</thead>\n",
       "<tbody>\n",
       "\t<tr><th scope=row>GSM343899</th><td>307.5</td><td> 933.5</td><td>275.000</td><td>689.25</td><td>6628.50</td><td>108.25</td><td>158.50</td><td>445.75</td><td>19886.25</td><td>62.75</td><td>⋯</td><td>107.25</td><td>3408.875</td><td>122.250</td><td>128.75</td><td>132</td><td>70.5</td><td>211.25</td><td>115.75</td><td>125.25</td><td>99.75</td></tr>\n",
       "\t<tr><th scope=row>GSM343901</th><td>304.0</td><td>1123.5</td><td>269.125</td><td>690.50</td><td>7257.75</td><td>164.75</td><td>158.75</td><td>388.75</td><td>18588.50</td><td>70.75</td><td>⋯</td><td> 80.25</td><td>3060.500</td><td> 95.125</td><td> 90.00</td><td>160</td><td>21.0</td><td>243.75</td><td>127.00</td><td>161.25</td><td>91.00</td></tr>\n",
       "</tbody>\n",
       "</table>\n"
      ],
      "text/latex": [
       "A data.frame: 2 × 8066\n",
       "\\begin{tabular}{r|lllllllllllllllllllll}\n",
       "  & ACAT1 & PIGA & PRPS1L1 & PTPN12 & SDHB & IL1RL1 & RBL1 & PREPL & PRDX6 & CCKAR & ⋯ & SEC24A.1 & BIRC4.1 & VKORC1L1.1 & PLEKHA5.1 & CNOT6 & PLXNA1.2 & RBM26.1 & HNRNPR.1 & ANAPC1.1 & GPATCH8\\\\\n",
       "  & <dbl> & <dbl> & <dbl> & <dbl> & <dbl> & <dbl> & <dbl> & <dbl> & <dbl> & <dbl> & ⋯ & <dbl> & <dbl> & <dbl> & <dbl> & <int> & <dbl> & <dbl> & <dbl> & <dbl> & <dbl>\\\\\n",
       "\\hline\n",
       "\tGSM343899 & 307.5 &  933.5 & 275.000 & 689.25 & 6628.50 & 108.25 & 158.50 & 445.75 & 19886.25 & 62.75 & ⋯ & 107.25 & 3408.875 & 122.250 & 128.75 & 132 & 70.5 & 211.25 & 115.75 & 125.25 & 99.75\\\\\n",
       "\tGSM343901 & 304.0 & 1123.5 & 269.125 & 690.50 & 7257.75 & 164.75 & 158.75 & 388.75 & 18588.50 & 70.75 & ⋯ &  80.25 & 3060.500 &  95.125 &  90.00 & 160 & 21.0 & 243.75 & 127.00 & 161.25 & 91.00\\\\\n",
       "\\end{tabular}\n"
      ],
      "text/markdown": [
       "\n",
       "A data.frame: 2 × 8066\n",
       "\n",
       "| <!--/--> | ACAT1 &lt;dbl&gt; | PIGA &lt;dbl&gt; | PRPS1L1 &lt;dbl&gt; | PTPN12 &lt;dbl&gt; | SDHB &lt;dbl&gt; | IL1RL1 &lt;dbl&gt; | RBL1 &lt;dbl&gt; | PREPL &lt;dbl&gt; | PRDX6 &lt;dbl&gt; | CCKAR &lt;dbl&gt; | ⋯ ⋯ | SEC24A.1 &lt;dbl&gt; | BIRC4.1 &lt;dbl&gt; | VKORC1L1.1 &lt;dbl&gt; | PLEKHA5.1 &lt;dbl&gt; | CNOT6 &lt;int&gt; | PLXNA1.2 &lt;dbl&gt; | RBM26.1 &lt;dbl&gt; | HNRNPR.1 &lt;dbl&gt; | ANAPC1.1 &lt;dbl&gt; | GPATCH8 &lt;dbl&gt; |\n",
       "|---|---|---|---|---|---|---|---|---|---|---|---|---|---|---|---|---|---|---|---|---|---|\n",
       "| GSM343899 | 307.5 |  933.5 | 275.000 | 689.25 | 6628.50 | 108.25 | 158.50 | 445.75 | 19886.25 | 62.75 | ⋯ | 107.25 | 3408.875 | 122.250 | 128.75 | 132 | 70.5 | 211.25 | 115.75 | 125.25 | 99.75 |\n",
       "| GSM343901 | 304.0 | 1123.5 | 269.125 | 690.50 | 7257.75 | 164.75 | 158.75 | 388.75 | 18588.50 | 70.75 | ⋯ |  80.25 | 3060.500 |  95.125 |  90.00 | 160 | 21.0 | 243.75 | 127.00 | 161.25 | 91.00 |\n",
       "\n"
      ],
      "text/plain": [
       "          ACAT1 PIGA   PRPS1L1 PTPN12 SDHB    IL1RL1 RBL1   PREPL  PRDX6   \n",
       "GSM343899 307.5  933.5 275.000 689.25 6628.50 108.25 158.50 445.75 19886.25\n",
       "GSM343901 304.0 1123.5 269.125 690.50 7257.75 164.75 158.75 388.75 18588.50\n",
       "          CCKAR ⋯ SEC24A.1 BIRC4.1  VKORC1L1.1 PLEKHA5.1 CNOT6 PLXNA1.2 RBM26.1\n",
       "GSM343899 62.75 ⋯ 107.25   3408.875 122.250    128.75    132   70.5     211.25 \n",
       "GSM343901 70.75 ⋯  80.25   3060.500  95.125     90.00    160   21.0     243.75 \n",
       "          HNRNPR.1 ANAPC1.1 GPATCH8\n",
       "GSM343899 115.75   125.25   99.75  \n",
       "GSM343901 127.00   161.25   91.00  "
      ]
     },
     "metadata": {},
     "output_type": "display_data"
    }
   ],
   "source": [
    "head(df)"
   ]
  },
  {
   "cell_type": "code",
   "execution_count": 187,
   "id": "e2ac9e6a",
   "metadata": {
    "pycharm": {
     "name": "#%%\n"
    }
   },
   "outputs": [],
   "source": [
    "write.table(df, file=paste(dataPath, csv_name, sep=\"\"), sep=\",\")"
   ]
  },
  {
   "cell_type": "markdown",
   "id": "54a34279",
   "metadata": {
    "pycharm": {
     "name": "#%% md\n"
    }
   },
   "source": [
    "# GAUCHER 4"
   ]
  },
  {
   "cell_type": "code",
   "execution_count": 259,
   "id": "8e8271c5",
   "metadata": {
    "pycharm": {
     "name": "#%%\n"
    }
   },
   "outputs": [],
   "source": [
    "csv_name = 'GAUCHER_GSE41243.csv'"
   ]
  },
  {
   "cell_type": "code",
   "execution_count": 260,
   "id": "6d41e116",
   "metadata": {
    "pycharm": {
     "name": "#%%\n"
    }
   },
   "outputs": [],
   "source": [
    "df <- read.csv(file=paste(dataPath, csv_name, sep=\"\"), header=TRUE)"
   ]
  },
  {
   "cell_type": "code",
   "execution_count": 261,
   "id": "4fc34a83",
   "metadata": {
    "scrolled": false,
    "pycharm": {
     "name": "#%%\n"
    }
   },
   "outputs": [
    {
     "data": {
      "text/html": [
       "<table class=\"dataframe\">\n",
       "<caption>A data.frame: 1 × 32321</caption>\n",
       "<thead>\n",
       "\t<tr><th></th><th scope=col>X7892501</th><th scope=col>X7892502</th><th scope=col>X7892503</th><th scope=col>X7892504</th><th scope=col>X7892505</th><th scope=col>X7892506</th><th scope=col>X7892507</th><th scope=col>X7892508</th><th scope=col>X7892509</th><th scope=col>X7892510</th><th scope=col>⋯</th><th scope=col>X8180408</th><th scope=col>X8180409</th><th scope=col>X8180410</th><th scope=col>X8180411</th><th scope=col>X8180413</th><th scope=col>X8180414</th><th scope=col>X8180415</th><th scope=col>X8180416</th><th scope=col>X8180417</th><th scope=col>X8180418</th></tr>\n",
       "\t<tr><th></th><th scope=col>&lt;dbl&gt;</th><th scope=col>&lt;dbl&gt;</th><th scope=col>&lt;dbl&gt;</th><th scope=col>&lt;dbl&gt;</th><th scope=col>&lt;dbl&gt;</th><th scope=col>&lt;dbl&gt;</th><th scope=col>&lt;dbl&gt;</th><th scope=col>&lt;dbl&gt;</th><th scope=col>&lt;dbl&gt;</th><th scope=col>&lt;dbl&gt;</th><th scope=col>⋯</th><th scope=col>&lt;dbl&gt;</th><th scope=col>&lt;dbl&gt;</th><th scope=col>&lt;dbl&gt;</th><th scope=col>&lt;dbl&gt;</th><th scope=col>&lt;dbl&gt;</th><th scope=col>&lt;dbl&gt;</th><th scope=col>&lt;dbl&gt;</th><th scope=col>&lt;dbl&gt;</th><th scope=col>&lt;dbl&gt;</th><th scope=col>&lt;dbl&gt;</th></tr>\n",
       "</thead>\n",
       "<tbody>\n",
       "\t<tr><th scope=row>GSM1012132</th><td>2.622779</td><td>3.71082</td><td>5.17084</td><td>9.369058</td><td>3.376183</td><td>3.827842</td><td>6.516457</td><td>4.931786</td><td>10.55233</td><td>3.403059</td><td>⋯</td><td>9.018806</td><td>10.69688</td><td>11.40912</td><td>6.130435</td><td>7.879939</td><td>5.742754</td><td>7.893209</td><td>5.229703</td><td>8.427243</td><td>9.467293</td></tr>\n",
       "</tbody>\n",
       "</table>\n"
      ],
      "text/latex": [
       "A data.frame: 1 × 32321\n",
       "\\begin{tabular}{r|lllllllllllllllllllll}\n",
       "  & X7892501 & X7892502 & X7892503 & X7892504 & X7892505 & X7892506 & X7892507 & X7892508 & X7892509 & X7892510 & ⋯ & X8180408 & X8180409 & X8180410 & X8180411 & X8180413 & X8180414 & X8180415 & X8180416 & X8180417 & X8180418\\\\\n",
       "  & <dbl> & <dbl> & <dbl> & <dbl> & <dbl> & <dbl> & <dbl> & <dbl> & <dbl> & <dbl> & ⋯ & <dbl> & <dbl> & <dbl> & <dbl> & <dbl> & <dbl> & <dbl> & <dbl> & <dbl> & <dbl>\\\\\n",
       "\\hline\n",
       "\tGSM1012132 & 2.622779 & 3.71082 & 5.17084 & 9.369058 & 3.376183 & 3.827842 & 6.516457 & 4.931786 & 10.55233 & 3.403059 & ⋯ & 9.018806 & 10.69688 & 11.40912 & 6.130435 & 7.879939 & 5.742754 & 7.893209 & 5.229703 & 8.427243 & 9.467293\\\\\n",
       "\\end{tabular}\n"
      ],
      "text/markdown": [
       "\n",
       "A data.frame: 1 × 32321\n",
       "\n",
       "| <!--/--> | X7892501 &lt;dbl&gt; | X7892502 &lt;dbl&gt; | X7892503 &lt;dbl&gt; | X7892504 &lt;dbl&gt; | X7892505 &lt;dbl&gt; | X7892506 &lt;dbl&gt; | X7892507 &lt;dbl&gt; | X7892508 &lt;dbl&gt; | X7892509 &lt;dbl&gt; | X7892510 &lt;dbl&gt; | ⋯ ⋯ | X8180408 &lt;dbl&gt; | X8180409 &lt;dbl&gt; | X8180410 &lt;dbl&gt; | X8180411 &lt;dbl&gt; | X8180413 &lt;dbl&gt; | X8180414 &lt;dbl&gt; | X8180415 &lt;dbl&gt; | X8180416 &lt;dbl&gt; | X8180417 &lt;dbl&gt; | X8180418 &lt;dbl&gt; |\n",
       "|---|---|---|---|---|---|---|---|---|---|---|---|---|---|---|---|---|---|---|---|---|---|\n",
       "| GSM1012132 | 2.622779 | 3.71082 | 5.17084 | 9.369058 | 3.376183 | 3.827842 | 6.516457 | 4.931786 | 10.55233 | 3.403059 | ⋯ | 9.018806 | 10.69688 | 11.40912 | 6.130435 | 7.879939 | 5.742754 | 7.893209 | 5.229703 | 8.427243 | 9.467293 |\n",
       "\n"
      ],
      "text/plain": [
       "           X7892501 X7892502 X7892503 X7892504 X7892505 X7892506 X7892507\n",
       "GSM1012132 2.622779 3.71082  5.17084  9.369058 3.376183 3.827842 6.516457\n",
       "           X7892508 X7892509 X7892510 ⋯ X8180408 X8180409 X8180410 X8180411\n",
       "GSM1012132 4.931786 10.55233 3.403059 ⋯ 9.018806 10.69688 11.40912 6.130435\n",
       "           X8180413 X8180414 X8180415 X8180416 X8180417 X8180418\n",
       "GSM1012132 7.879939 5.742754 7.893209 5.229703 8.427243 9.467293"
      ]
     },
     "metadata": {},
     "output_type": "display_data"
    }
   ],
   "source": [
    "head(df)"
   ]
  },
  {
   "cell_type": "code",
   "execution_count": 262,
   "id": "b97917be",
   "metadata": {
    "pycharm": {
     "name": "#%%\n"
    }
   },
   "outputs": [],
   "source": [
    "colnames(df) <- sub(\"X\", \"\", colnames(df))"
   ]
  },
  {
   "cell_type": "code",
   "execution_count": 263,
   "id": "d9d3136f",
   "metadata": {
    "pycharm": {
     "name": "#%%\n"
    }
   },
   "outputs": [
    {
     "name": "stderr",
     "output_type": "stream",
     "text": [
      "\n",
      "\n"
     ]
    }
   ],
   "source": [
    "library(hugene10sttranscriptcluster.db)\n",
    "# Get gene symbol\n",
    "x <- hugene10sttranscriptclusterSYMBOL\n",
    "# Get the probe identifiers that are mapped to a gene name\n",
    "mapped_probes <- mappedkeys(x)\n",
    "# Convert to a list\n",
    "xx <- as.list(x[mapped_probes])"
   ]
  },
  {
   "cell_type": "code",
   "execution_count": 264,
   "id": "b8dd0ca4",
   "metadata": {
    "pycharm": {
     "name": "#%%\n"
    }
   },
   "outputs": [],
   "source": [
    "# Transform matrix in a table\n",
    "ref_gene <- do.call(rbind, xx)\n",
    "ref_gene <- as.data.frame(ref_gene)\n",
    "# Add column to get a reference between old and new gene\n",
    "ref_gene$old_gene <- rownames(ref_gene)\n",
    "colnames(ref_gene) <- c(\"new_gene\", \"old_gene\")"
   ]
  },
  {
   "cell_type": "code",
   "execution_count": 267,
   "id": "d4f34bca",
   "metadata": {
    "scrolled": true,
    "pycharm": {
     "name": "#%%\n"
    }
   },
   "outputs": [
    {
     "data": {
      "text/html": [
       "<table class=\"dataframe\">\n",
       "<caption>A data.frame: 19869 × 2</caption>\n",
       "<thead>\n",
       "\t<tr><th></th><th scope=col>new_gene</th><th scope=col>old_gene</th></tr>\n",
       "\t<tr><th></th><th scope=col>&lt;chr&gt;</th><th scope=col>&lt;chr&gt;</th></tr>\n",
       "</thead>\n",
       "<tbody>\n",
       "\t<tr><th scope=row>7896746</th><td>MTND1P23  </td><td>7896746</td></tr>\n",
       "\t<tr><th scope=row>7896754</th><td>SEPTIN7P13</td><td>7896754</td></tr>\n",
       "\t<tr><th scope=row>7896759</th><td>LINC01128 </td><td>7896759</td></tr>\n",
       "\t<tr><th scope=row>7896761</th><td>SAMD11    </td><td>7896761</td></tr>\n",
       "\t<tr><th scope=row>7896779</th><td>KLHL17    </td><td>7896779</td></tr>\n",
       "\t<tr><th scope=row>7896798</th><td>PLEKHN1   </td><td>7896798</td></tr>\n",
       "\t<tr><th scope=row>7896817</th><td>ISG15     </td><td>7896817</td></tr>\n",
       "\t<tr><th scope=row>7896822</th><td>AGRN      </td><td>7896822</td></tr>\n",
       "\t<tr><th scope=row>7896859</th><td>MIR200B   </td><td>7896859</td></tr>\n",
       "\t<tr><th scope=row>7896861</th><td>MIR200A   </td><td>7896861</td></tr>\n",
       "\t<tr><th scope=row>7896863</th><td>MIR429    </td><td>7896863</td></tr>\n",
       "\t<tr><th scope=row>7896865</th><td>TTLL10    </td><td>7896865</td></tr>\n",
       "\t<tr><th scope=row>7896878</th><td>B3GALT6   </td><td>7896878</td></tr>\n",
       "\t<tr><th scope=row>7896882</th><td>SCNN1D    </td><td>7896882</td></tr>\n",
       "\t<tr><th scope=row>7896908</th><td>PUSL1     </td><td>7896908</td></tr>\n",
       "\t<tr><th scope=row>7896917</th><td>CPTP      </td><td>7896917</td></tr>\n",
       "\t<tr><th scope=row>7896921</th><td>TAS1R3    </td><td>7896921</td></tr>\n",
       "\t<tr><th scope=row>7896929</th><td>VWA1      </td><td>7896929</td></tr>\n",
       "\t<tr><th scope=row>7896952</th><td>ATAD3A    </td><td>7896952</td></tr>\n",
       "\t<tr><th scope=row>7896985</th><td>MIB2      </td><td>7896985</td></tr>\n",
       "\t<tr><th scope=row>7897026</th><td>CALML6    </td><td>7897026</td></tr>\n",
       "\t<tr><th scope=row>7897034</th><td>GABRD     </td><td>7897034</td></tr>\n",
       "\t<tr><th scope=row>7897044</th><td>PRKCZ     </td><td>7897044</td></tr>\n",
       "\t<tr><th scope=row>7897066</th><td>FAAP20    </td><td>7897066</td></tr>\n",
       "\t<tr><th scope=row>7897068</th><td>SKI       </td><td>7897068</td></tr>\n",
       "\t<tr><th scope=row>7897078</th><td>RER1      </td><td>7897078</td></tr>\n",
       "\t<tr><th scope=row>7897089</th><td>PLCH2     </td><td>7897089</td></tr>\n",
       "\t<tr><th scope=row>7897119</th><td>PRXL2B    </td><td>7897119</td></tr>\n",
       "\t<tr><th scope=row>7897128</th><td>ACTRT2    </td><td>7897128</td></tr>\n",
       "\t<tr><th scope=row>7897132</th><td>PRDM16    </td><td>7897132</td></tr>\n",
       "\t<tr><th scope=row>⋮</th><td>⋮</td><td>⋮</td></tr>\n",
       "\t<tr><th scope=row>8180386</th><td>NME2      </td><td>8180386</td></tr>\n",
       "\t<tr><th scope=row>8180387</th><td>NME2      </td><td>8180387</td></tr>\n",
       "\t<tr><th scope=row>8180388</th><td>NME2      </td><td>8180388</td></tr>\n",
       "\t<tr><th scope=row>8180389</th><td>NME2      </td><td>8180389</td></tr>\n",
       "\t<tr><th scope=row>8180390</th><td>PPIP5K1   </td><td>8180390</td></tr>\n",
       "\t<tr><th scope=row>8180391</th><td>CYP2D6    </td><td>8180391</td></tr>\n",
       "\t<tr><th scope=row>8180392</th><td>TIMM8B    </td><td>8180392</td></tr>\n",
       "\t<tr><th scope=row>8180393</th><td>POLR2M    </td><td>8180393</td></tr>\n",
       "\t<tr><th scope=row>8180394</th><td>POLR2M    </td><td>8180394</td></tr>\n",
       "\t<tr><th scope=row>8180398</th><td>RPS9      </td><td>8180398</td></tr>\n",
       "\t<tr><th scope=row>8180399</th><td>VN1R4     </td><td>8180399</td></tr>\n",
       "\t<tr><th scope=row>8180400</th><td>BCL2L15   </td><td>8180400</td></tr>\n",
       "\t<tr><th scope=row>8180401</th><td>CT55      </td><td>8180401</td></tr>\n",
       "\t<tr><th scope=row>8180402</th><td>UBE2V1    </td><td>8180402</td></tr>\n",
       "\t<tr><th scope=row>8180403</th><td>TCAF1     </td><td>8180403</td></tr>\n",
       "\t<tr><th scope=row>8180404</th><td>RPL27A    </td><td>8180404</td></tr>\n",
       "\t<tr><th scope=row>8180405</th><td>ARL4A     </td><td>8180405</td></tr>\n",
       "\t<tr><th scope=row>8180406</th><td>SPRR2G    </td><td>8180406</td></tr>\n",
       "\t<tr><th scope=row>8180407</th><td>NPM1      </td><td>8180407</td></tr>\n",
       "\t<tr><th scope=row>8180408</th><td>NPM1      </td><td>8180408</td></tr>\n",
       "\t<tr><th scope=row>8180409</th><td>NPM1      </td><td>8180409</td></tr>\n",
       "\t<tr><th scope=row>8180410</th><td>EIF3F     </td><td>8180410</td></tr>\n",
       "\t<tr><th scope=row>8180411</th><td>ELMO1     </td><td>8180411</td></tr>\n",
       "\t<tr><th scope=row>8180412</th><td>ST6GALNAC4</td><td>8180412</td></tr>\n",
       "\t<tr><th scope=row>8180413</th><td>ST6GALNAC4</td><td>8180413</td></tr>\n",
       "\t<tr><th scope=row>8180414</th><td>ST6GALNAC1</td><td>8180414</td></tr>\n",
       "\t<tr><th scope=row>8180415</th><td>SLC25A51  </td><td>8180415</td></tr>\n",
       "\t<tr><th scope=row>8180416</th><td>OR3A2     </td><td>8180416</td></tr>\n",
       "\t<tr><th scope=row>8180417</th><td>METTL2B   </td><td>8180417</td></tr>\n",
       "\t<tr><th scope=row>8180418</th><td>CHTF8     </td><td>8180418</td></tr>\n",
       "</tbody>\n",
       "</table>\n"
      ],
      "text/latex": [
       "A data.frame: 19869 × 2\n",
       "\\begin{tabular}{r|ll}\n",
       "  & new\\_gene & old\\_gene\\\\\n",
       "  & <chr> & <chr>\\\\\n",
       "\\hline\n",
       "\t7896746 & MTND1P23   & 7896746\\\\\n",
       "\t7896754 & SEPTIN7P13 & 7896754\\\\\n",
       "\t7896759 & LINC01128  & 7896759\\\\\n",
       "\t7896761 & SAMD11     & 7896761\\\\\n",
       "\t7896779 & KLHL17     & 7896779\\\\\n",
       "\t7896798 & PLEKHN1    & 7896798\\\\\n",
       "\t7896817 & ISG15      & 7896817\\\\\n",
       "\t7896822 & AGRN       & 7896822\\\\\n",
       "\t7896859 & MIR200B    & 7896859\\\\\n",
       "\t7896861 & MIR200A    & 7896861\\\\\n",
       "\t7896863 & MIR429     & 7896863\\\\\n",
       "\t7896865 & TTLL10     & 7896865\\\\\n",
       "\t7896878 & B3GALT6    & 7896878\\\\\n",
       "\t7896882 & SCNN1D     & 7896882\\\\\n",
       "\t7896908 & PUSL1      & 7896908\\\\\n",
       "\t7896917 & CPTP       & 7896917\\\\\n",
       "\t7896921 & TAS1R3     & 7896921\\\\\n",
       "\t7896929 & VWA1       & 7896929\\\\\n",
       "\t7896952 & ATAD3A     & 7896952\\\\\n",
       "\t7896985 & MIB2       & 7896985\\\\\n",
       "\t7897026 & CALML6     & 7897026\\\\\n",
       "\t7897034 & GABRD      & 7897034\\\\\n",
       "\t7897044 & PRKCZ      & 7897044\\\\\n",
       "\t7897066 & FAAP20     & 7897066\\\\\n",
       "\t7897068 & SKI        & 7897068\\\\\n",
       "\t7897078 & RER1       & 7897078\\\\\n",
       "\t7897089 & PLCH2      & 7897089\\\\\n",
       "\t7897119 & PRXL2B     & 7897119\\\\\n",
       "\t7897128 & ACTRT2     & 7897128\\\\\n",
       "\t7897132 & PRDM16     & 7897132\\\\\n",
       "\t⋮ & ⋮ & ⋮\\\\\n",
       "\t8180386 & NME2       & 8180386\\\\\n",
       "\t8180387 & NME2       & 8180387\\\\\n",
       "\t8180388 & NME2       & 8180388\\\\\n",
       "\t8180389 & NME2       & 8180389\\\\\n",
       "\t8180390 & PPIP5K1    & 8180390\\\\\n",
       "\t8180391 & CYP2D6     & 8180391\\\\\n",
       "\t8180392 & TIMM8B     & 8180392\\\\\n",
       "\t8180393 & POLR2M     & 8180393\\\\\n",
       "\t8180394 & POLR2M     & 8180394\\\\\n",
       "\t8180398 & RPS9       & 8180398\\\\\n",
       "\t8180399 & VN1R4      & 8180399\\\\\n",
       "\t8180400 & BCL2L15    & 8180400\\\\\n",
       "\t8180401 & CT55       & 8180401\\\\\n",
       "\t8180402 & UBE2V1     & 8180402\\\\\n",
       "\t8180403 & TCAF1      & 8180403\\\\\n",
       "\t8180404 & RPL27A     & 8180404\\\\\n",
       "\t8180405 & ARL4A      & 8180405\\\\\n",
       "\t8180406 & SPRR2G     & 8180406\\\\\n",
       "\t8180407 & NPM1       & 8180407\\\\\n",
       "\t8180408 & NPM1       & 8180408\\\\\n",
       "\t8180409 & NPM1       & 8180409\\\\\n",
       "\t8180410 & EIF3F      & 8180410\\\\\n",
       "\t8180411 & ELMO1      & 8180411\\\\\n",
       "\t8180412 & ST6GALNAC4 & 8180412\\\\\n",
       "\t8180413 & ST6GALNAC4 & 8180413\\\\\n",
       "\t8180414 & ST6GALNAC1 & 8180414\\\\\n",
       "\t8180415 & SLC25A51   & 8180415\\\\\n",
       "\t8180416 & OR3A2      & 8180416\\\\\n",
       "\t8180417 & METTL2B    & 8180417\\\\\n",
       "\t8180418 & CHTF8      & 8180418\\\\\n",
       "\\end{tabular}\n"
      ],
      "text/markdown": [
       "\n",
       "A data.frame: 19869 × 2\n",
       "\n",
       "| <!--/--> | new_gene &lt;chr&gt; | old_gene &lt;chr&gt; |\n",
       "|---|---|---|\n",
       "| 7896746 | MTND1P23   | 7896746 |\n",
       "| 7896754 | SEPTIN7P13 | 7896754 |\n",
       "| 7896759 | LINC01128  | 7896759 |\n",
       "| 7896761 | SAMD11     | 7896761 |\n",
       "| 7896779 | KLHL17     | 7896779 |\n",
       "| 7896798 | PLEKHN1    | 7896798 |\n",
       "| 7896817 | ISG15      | 7896817 |\n",
       "| 7896822 | AGRN       | 7896822 |\n",
       "| 7896859 | MIR200B    | 7896859 |\n",
       "| 7896861 | MIR200A    | 7896861 |\n",
       "| 7896863 | MIR429     | 7896863 |\n",
       "| 7896865 | TTLL10     | 7896865 |\n",
       "| 7896878 | B3GALT6    | 7896878 |\n",
       "| 7896882 | SCNN1D     | 7896882 |\n",
       "| 7896908 | PUSL1      | 7896908 |\n",
       "| 7896917 | CPTP       | 7896917 |\n",
       "| 7896921 | TAS1R3     | 7896921 |\n",
       "| 7896929 | VWA1       | 7896929 |\n",
       "| 7896952 | ATAD3A     | 7896952 |\n",
       "| 7896985 | MIB2       | 7896985 |\n",
       "| 7897026 | CALML6     | 7897026 |\n",
       "| 7897034 | GABRD      | 7897034 |\n",
       "| 7897044 | PRKCZ      | 7897044 |\n",
       "| 7897066 | FAAP20     | 7897066 |\n",
       "| 7897068 | SKI        | 7897068 |\n",
       "| 7897078 | RER1       | 7897078 |\n",
       "| 7897089 | PLCH2      | 7897089 |\n",
       "| 7897119 | PRXL2B     | 7897119 |\n",
       "| 7897128 | ACTRT2     | 7897128 |\n",
       "| 7897132 | PRDM16     | 7897132 |\n",
       "| ⋮ | ⋮ | ⋮ |\n",
       "| 8180386 | NME2       | 8180386 |\n",
       "| 8180387 | NME2       | 8180387 |\n",
       "| 8180388 | NME2       | 8180388 |\n",
       "| 8180389 | NME2       | 8180389 |\n",
       "| 8180390 | PPIP5K1    | 8180390 |\n",
       "| 8180391 | CYP2D6     | 8180391 |\n",
       "| 8180392 | TIMM8B     | 8180392 |\n",
       "| 8180393 | POLR2M     | 8180393 |\n",
       "| 8180394 | POLR2M     | 8180394 |\n",
       "| 8180398 | RPS9       | 8180398 |\n",
       "| 8180399 | VN1R4      | 8180399 |\n",
       "| 8180400 | BCL2L15    | 8180400 |\n",
       "| 8180401 | CT55       | 8180401 |\n",
       "| 8180402 | UBE2V1     | 8180402 |\n",
       "| 8180403 | TCAF1      | 8180403 |\n",
       "| 8180404 | RPL27A     | 8180404 |\n",
       "| 8180405 | ARL4A      | 8180405 |\n",
       "| 8180406 | SPRR2G     | 8180406 |\n",
       "| 8180407 | NPM1       | 8180407 |\n",
       "| 8180408 | NPM1       | 8180408 |\n",
       "| 8180409 | NPM1       | 8180409 |\n",
       "| 8180410 | EIF3F      | 8180410 |\n",
       "| 8180411 | ELMO1      | 8180411 |\n",
       "| 8180412 | ST6GALNAC4 | 8180412 |\n",
       "| 8180413 | ST6GALNAC4 | 8180413 |\n",
       "| 8180414 | ST6GALNAC1 | 8180414 |\n",
       "| 8180415 | SLC25A51   | 8180415 |\n",
       "| 8180416 | OR3A2      | 8180416 |\n",
       "| 8180417 | METTL2B    | 8180417 |\n",
       "| 8180418 | CHTF8      | 8180418 |\n",
       "\n"
      ],
      "text/plain": [
       "        new_gene   old_gene\n",
       "7896746 MTND1P23   7896746 \n",
       "7896754 SEPTIN7P13 7896754 \n",
       "7896759 LINC01128  7896759 \n",
       "7896761 SAMD11     7896761 \n",
       "7896779 KLHL17     7896779 \n",
       "7896798 PLEKHN1    7896798 \n",
       "7896817 ISG15      7896817 \n",
       "7896822 AGRN       7896822 \n",
       "7896859 MIR200B    7896859 \n",
       "7896861 MIR200A    7896861 \n",
       "7896863 MIR429     7896863 \n",
       "7896865 TTLL10     7896865 \n",
       "7896878 B3GALT6    7896878 \n",
       "7896882 SCNN1D     7896882 \n",
       "7896908 PUSL1      7896908 \n",
       "7896917 CPTP       7896917 \n",
       "7896921 TAS1R3     7896921 \n",
       "7896929 VWA1       7896929 \n",
       "7896952 ATAD3A     7896952 \n",
       "7896985 MIB2       7896985 \n",
       "7897026 CALML6     7897026 \n",
       "7897034 GABRD      7897034 \n",
       "7897044 PRKCZ      7897044 \n",
       "7897066 FAAP20     7897066 \n",
       "7897068 SKI        7897068 \n",
       "7897078 RER1       7897078 \n",
       "7897089 PLCH2      7897089 \n",
       "7897119 PRXL2B     7897119 \n",
       "7897128 ACTRT2     7897128 \n",
       "7897132 PRDM16     7897132 \n",
       "⋮       ⋮          ⋮       \n",
       "8180386 NME2       8180386 \n",
       "8180387 NME2       8180387 \n",
       "8180388 NME2       8180388 \n",
       "8180389 NME2       8180389 \n",
       "8180390 PPIP5K1    8180390 \n",
       "8180391 CYP2D6     8180391 \n",
       "8180392 TIMM8B     8180392 \n",
       "8180393 POLR2M     8180393 \n",
       "8180394 POLR2M     8180394 \n",
       "8180398 RPS9       8180398 \n",
       "8180399 VN1R4      8180399 \n",
       "8180400 BCL2L15    8180400 \n",
       "8180401 CT55       8180401 \n",
       "8180402 UBE2V1     8180402 \n",
       "8180403 TCAF1      8180403 \n",
       "8180404 RPL27A     8180404 \n",
       "8180405 ARL4A      8180405 \n",
       "8180406 SPRR2G     8180406 \n",
       "8180407 NPM1       8180407 \n",
       "8180408 NPM1       8180408 \n",
       "8180409 NPM1       8180409 \n",
       "8180410 EIF3F      8180410 \n",
       "8180411 ELMO1      8180411 \n",
       "8180412 ST6GALNAC4 8180412 \n",
       "8180413 ST6GALNAC4 8180413 \n",
       "8180414 ST6GALNAC1 8180414 \n",
       "8180415 SLC25A51   8180415 \n",
       "8180416 OR3A2      8180416 \n",
       "8180417 METTL2B    8180417 \n",
       "8180418 CHTF8      8180418 "
      ]
     },
     "metadata": {},
     "output_type": "display_data"
    }
   ],
   "source": [
    "head(ref_gene)"
   ]
  },
  {
   "cell_type": "code",
   "execution_count": 252,
   "id": "515862ec",
   "metadata": {
    "pycharm": {
     "name": "#%%\n"
    }
   },
   "outputs": [],
   "source": [
    "# Make smaller table to speedup the translation\n",
    "ref_gene_df <- data.frame(colnames(df))\n",
    "colnames(ref_gene_df) <- c(\"old_gene\")\n",
    "ref_gene <- merge(x=ref_gene, y=ref_gene_df, by=\"old_gene\")"
   ]
  },
  {
   "cell_type": "code",
   "execution_count": 268,
   "id": "18959fca",
   "metadata": {
    "pycharm": {
     "name": "#%%\n"
    }
   },
   "outputs": [],
   "source": [
    "# Get Gene Symbol from platform columns\n",
    "new_col <- c()\n",
    "for (i in colnames(df)) {\n",
    "    new_col <- append(new_col, ref_gene[ref_gene$old_gene == i, 'new_gene'])\n",
    "}"
   ]
  },
  {
   "cell_type": "code",
   "execution_count": 269,
   "id": "be823125",
   "metadata": {
    "pycharm": {
     "name": "#%%\n"
    }
   },
   "outputs": [],
   "source": [
    "colnames(df) <- new_col"
   ]
  },
  {
   "cell_type": "code",
   "execution_count": 270,
   "id": "f008a232",
   "metadata": {
    "pycharm": {
     "name": "#%%\n"
    }
   },
   "outputs": [],
   "source": [
    "# Remove NA\n",
    "df <- df[, colSums(is.na(df)) == 0]\n",
    "# Remove columns with all 0s\n",
    "df <- df[, colSums(df) > 0]\n",
    "# Remove columns without gene symbol\n",
    "df <- df[,nzchar(colnames(df))]\n",
    "# Remove double names genes (GENE1 /// GENE2)\n",
    "colnames(df) <- gsub(\" ///.*\", \"\", colnames(df))\n",
    "# Make all columns uppercase\n",
    "colnames(df) <- toupper(colnames(df))"
   ]
  },
  {
   "cell_type": "code",
   "execution_count": 271,
   "id": "46e4f88c",
   "metadata": {
    "pycharm": {
     "name": "#%%\n"
    }
   },
   "outputs": [],
   "source": [
    "# Remove columns which start by \"NA\" because they didn't refer to any gene\n",
    "null_columns <- grep(\"NA.\", colnames(df))\n",
    "df <- df[,-null_columns]"
   ]
  },
  {
   "cell_type": "code",
   "execution_count": 272,
   "id": "614f6e45",
   "metadata": {
    "pycharm": {
     "name": "#%%\n"
    }
   },
   "outputs": [
    {
     "data": {
      "text/html": [
       "<table class=\"dataframe\">\n",
       "<caption>A data.frame: 1 × 19200</caption>\n",
       "<thead>\n",
       "\t<tr><th></th><th scope=col>MTND1P23</th><th scope=col>LINC01128</th><th scope=col>SAMD11</th><th scope=col>KLHL17</th><th scope=col>PLEKHN1</th><th scope=col>ISG15</th><th scope=col>AGRN</th><th scope=col>MIR200B</th><th scope=col>MIR200A</th><th scope=col>MIR429</th><th scope=col>⋯</th><th scope=col>SPRR2G</th><th scope=col>NPM1.1</th><th scope=col>NPM1.2</th><th scope=col>EIF3F.1</th><th scope=col>ELMO1.1</th><th scope=col>SLC25A51.1</th><th scope=col>OR3A2.1</th><th scope=col>METTL2B.1</th><th scope=col>CHTF8</th><th scope=col>NA</th></tr>\n",
       "\t<tr><th></th><th scope=col>&lt;dbl&gt;</th><th scope=col>&lt;dbl&gt;</th><th scope=col>&lt;dbl&gt;</th><th scope=col>&lt;dbl&gt;</th><th scope=col>&lt;dbl&gt;</th><th scope=col>&lt;dbl&gt;</th><th scope=col>&lt;dbl&gt;</th><th scope=col>&lt;dbl&gt;</th><th scope=col>&lt;dbl&gt;</th><th scope=col>&lt;dbl&gt;</th><th scope=col>⋯</th><th scope=col>&lt;dbl&gt;</th><th scope=col>&lt;dbl&gt;</th><th scope=col>&lt;dbl&gt;</th><th scope=col>&lt;dbl&gt;</th><th scope=col>&lt;dbl&gt;</th><th scope=col>&lt;dbl&gt;</th><th scope=col>&lt;dbl&gt;</th><th scope=col>&lt;dbl&gt;</th><th scope=col>&lt;dbl&gt;</th><th scope=col>&lt;dbl&gt;</th></tr>\n",
       "</thead>\n",
       "<tbody>\n",
       "\t<tr><th scope=row>GSM1012132</th><td>2.622779</td><td>3.71082</td><td>5.17084</td><td>9.369058</td><td>3.376183</td><td>3.827842</td><td>6.516457</td><td>4.931786</td><td>10.55233</td><td>3.403059</td><td>⋯</td><td>6.613996</td><td>2.973034</td><td>7.233088</td><td>5.50279</td><td>6.918239</td><td>4.234672</td><td>6.520126</td><td>6.587063</td><td>8.955726</td><td>10.46856</td></tr>\n",
       "</tbody>\n",
       "</table>\n"
      ],
      "text/latex": [
       "A data.frame: 1 × 19200\n",
       "\\begin{tabular}{r|lllllllllllllllllllll}\n",
       "  & MTND1P23 & LINC01128 & SAMD11 & KLHL17 & PLEKHN1 & ISG15 & AGRN & MIR200B & MIR200A & MIR429 & ⋯ & SPRR2G & NPM1.1 & NPM1.2 & EIF3F.1 & ELMO1.1 & SLC25A51.1 & OR3A2.1 & METTL2B.1 & CHTF8 & NA\\\\\n",
       "  & <dbl> & <dbl> & <dbl> & <dbl> & <dbl> & <dbl> & <dbl> & <dbl> & <dbl> & <dbl> & ⋯ & <dbl> & <dbl> & <dbl> & <dbl> & <dbl> & <dbl> & <dbl> & <dbl> & <dbl> & <dbl>\\\\\n",
       "\\hline\n",
       "\tGSM1012132 & 2.622779 & 3.71082 & 5.17084 & 9.369058 & 3.376183 & 3.827842 & 6.516457 & 4.931786 & 10.55233 & 3.403059 & ⋯ & 6.613996 & 2.973034 & 7.233088 & 5.50279 & 6.918239 & 4.234672 & 6.520126 & 6.587063 & 8.955726 & 10.46856\\\\\n",
       "\\end{tabular}\n"
      ],
      "text/markdown": [
       "\n",
       "A data.frame: 1 × 19200\n",
       "\n",
       "| <!--/--> | MTND1P23 &lt;dbl&gt; | LINC01128 &lt;dbl&gt; | SAMD11 &lt;dbl&gt; | KLHL17 &lt;dbl&gt; | PLEKHN1 &lt;dbl&gt; | ISG15 &lt;dbl&gt; | AGRN &lt;dbl&gt; | MIR200B &lt;dbl&gt; | MIR200A &lt;dbl&gt; | MIR429 &lt;dbl&gt; | ⋯ ⋯ | SPRR2G &lt;dbl&gt; | NPM1.1 &lt;dbl&gt; | NPM1.2 &lt;dbl&gt; | EIF3F.1 &lt;dbl&gt; | ELMO1.1 &lt;dbl&gt; | SLC25A51.1 &lt;dbl&gt; | OR3A2.1 &lt;dbl&gt; | METTL2B.1 &lt;dbl&gt; | CHTF8 &lt;dbl&gt; | NA &lt;dbl&gt; |\n",
       "|---|---|---|---|---|---|---|---|---|---|---|---|---|---|---|---|---|---|---|---|---|---|\n",
       "| GSM1012132 | 2.622779 | 3.71082 | 5.17084 | 9.369058 | 3.376183 | 3.827842 | 6.516457 | 4.931786 | 10.55233 | 3.403059 | ⋯ | 6.613996 | 2.973034 | 7.233088 | 5.50279 | 6.918239 | 4.234672 | 6.520126 | 6.587063 | 8.955726 | 10.46856 |\n",
       "\n"
      ],
      "text/plain": [
       "           MTND1P23 LINC01128 SAMD11  KLHL17   PLEKHN1  ISG15    AGRN    \n",
       "GSM1012132 2.622779 3.71082   5.17084 9.369058 3.376183 3.827842 6.516457\n",
       "           MIR200B  MIR200A  MIR429   ⋯ SPRR2G   NPM1.1   NPM1.2   EIF3F.1\n",
       "GSM1012132 4.931786 10.55233 3.403059 ⋯ 6.613996 2.973034 7.233088 5.50279\n",
       "           ELMO1.1  SLC25A51.1 OR3A2.1  METTL2B.1 CHTF8    <NA>    \n",
       "GSM1012132 6.918239 4.234672   6.520126 6.587063  8.955726 10.46856"
      ]
     },
     "metadata": {},
     "output_type": "display_data"
    }
   ],
   "source": [
    "head(df)"
   ]
  },
  {
   "cell_type": "code",
   "execution_count": 273,
   "id": "6dbb494d",
   "metadata": {
    "pycharm": {
     "name": "#%%\n"
    }
   },
   "outputs": [],
   "source": [
    "write.table(df, file=paste(dataPath, csv_name, sep=\"\"), sep=\",\")"
   ]
  },
  {
   "cell_type": "markdown",
   "id": "36a49cb3",
   "metadata": {
    "pycharm": {
     "name": "#%% md\n"
    }
   },
   "source": [
    "# NCL"
   ]
  },
  {
   "cell_type": "code",
   "execution_count": 4,
   "id": "b2b1c74f",
   "metadata": {
    "pycharm": {
     "name": "#%%\n"
    }
   },
   "outputs": [],
   "source": [
    "csv_name = 'eGSE171276m.csv'"
   ]
  },
  {
   "cell_type": "code",
   "execution_count": 10,
   "id": "7607ca35",
   "metadata": {
    "pycharm": {
     "name": "#%%\n"
    }
   },
   "outputs": [],
   "source": [
    "df <- read.csv(file=paste(dataPath, csv_name, sep=\"\"), sep=\"\", header=TRUE)"
   ]
  },
  {
   "cell_type": "code",
   "execution_count": 16,
   "id": "b51b93e7",
   "metadata": {
    "scrolled": false,
    "pycharm": {
     "name": "#%%\n"
    }
   },
   "outputs": [
    {
     "data": {
      "text/html": [
       "<table class=\"dataframe\">\n",
       "<caption>A data.frame: 6 × 58288</caption>\n",
       "<thead>\n",
       "\t<tr><th></th><th scope=col>TSPAN6</th><th scope=col>TNMD</th><th scope=col>DPM1</th><th scope=col>SCYL3</th><th scope=col>C1orf112</th><th scope=col>FGR</th><th scope=col>CFH</th><th scope=col>FUCA2</th><th scope=col>GCLC</th><th scope=col>NFYA</th><th scope=col>⋯</th><th scope=col>BX005132.2</th><th scope=col>AL645728.2</th><th scope=col>PDE11A.1</th><th scope=col>AL163152.1</th><th scope=col>AL139254.3</th><th scope=col>AL591163.1</th><th scope=col>AL589702.1</th><th scope=col>AC068587.10</th><th scope=col>AL034417.4</th><th scope=col>AL513220.1</th></tr>\n",
       "\t<tr><th></th><th scope=col>&lt;dbl&gt;</th><th scope=col>&lt;dbl&gt;</th><th scope=col>&lt;dbl&gt;</th><th scope=col>&lt;dbl&gt;</th><th scope=col>&lt;dbl&gt;</th><th scope=col>&lt;dbl&gt;</th><th scope=col>&lt;dbl&gt;</th><th scope=col>&lt;dbl&gt;</th><th scope=col>&lt;dbl&gt;</th><th scope=col>&lt;dbl&gt;</th><th scope=col>⋯</th><th scope=col>&lt;dbl&gt;</th><th scope=col>&lt;dbl&gt;</th><th scope=col>&lt;dbl&gt;</th><th scope=col>&lt;dbl&gt;</th><th scope=col>&lt;dbl&gt;</th><th scope=col>&lt;dbl&gt;</th><th scope=col>&lt;dbl&gt;</th><th scope=col>&lt;dbl&gt;</th><th scope=col>&lt;dbl&gt;</th><th scope=col>&lt;dbl&gt;</th></tr>\n",
       "</thead>\n",
       "<tbody>\n",
       "\t<tr><th scope=row>GRN.Rep0</th><td>4.567620</td><td>1e-05</td><td>17.72261</td><td>1.95574</td><td>1.445130</td><td>161.428</td><td>0.1303780</td><td>47.90601</td><td>105.08101</td><td>11.24911</td><td>⋯</td><td>1e-05</td><td>0.412272</td><td>1.000000e-05</td><td>1e-05</td><td>1e-05</td><td>1e-05</td><td>1e-05</td><td>1e-05</td><td>0.298582</td><td>1e-05</td></tr>\n",
       "\t<tr><th scope=row>GRN.Rep1</th><td>4.175720</td><td>1e-05</td><td>20.55151</td><td>1.65214</td><td>1.928600</td><td>167.051</td><td>0.2493420</td><td>50.68341</td><td>100.08501</td><td>10.26511</td><td>⋯</td><td>1e-05</td><td>0.000010</td><td>1.000000e-05</td><td>1e-05</td><td>1e-05</td><td>1e-05</td><td>1e-05</td><td>1e-05</td><td>0.439470</td><td>1e-05</td></tr>\n",
       "\t<tr><th scope=row>GRN.Rep2</th><td>4.056860</td><td>1e-05</td><td>20.37221</td><td>1.60467</td><td>3.689060</td><td>153.524</td><td>0.3744310</td><td>50.55921</td><td>114.85701</td><td>11.74231</td><td>⋯</td><td>1e-05</td><td>0.321201</td><td>1.000000e-05</td><td>1e-05</td><td>1e-05</td><td>1e-05</td><td>1e-05</td><td>1e-05</td><td>0.277072</td><td>1e-05</td></tr>\n",
       "\t<tr><th scope=row>MeCP2.Rep0</th><td>0.670684</td><td>1e-05</td><td>21.05121</td><td>1.35741</td><td>0.512520</td><td>235.849</td><td>0.2991940</td><td>71.84811</td><td> 11.57551</td><td> 2.91352</td><td>⋯</td><td>1e-05</td><td>0.000010</td><td>1.000000e-05</td><td>1e-05</td><td>1e-05</td><td>1e-05</td><td>1e-05</td><td>1e-05</td><td>0.666880</td><td>1e-05</td></tr>\n",
       "\t<tr><th scope=row>SNCA.Rep0</th><td>4.691710</td><td>1e-05</td><td>21.24151</td><td>1.83863</td><td>1.690950</td><td>158.569</td><td>0.1790100</td><td>49.03211</td><td>117.49601</td><td>10.60711</td><td>⋯</td><td>1e-05</td><td>1.564350</td><td>1.000000e-05</td><td>1e-05</td><td>1e-05</td><td>1e-05</td><td>1e-05</td><td>1e-05</td><td>0.267216</td><td>1e-05</td></tr>\n",
       "\t<tr><th scope=row>AHN.Rep0</th><td>8.377920</td><td>1e-05</td><td>25.51011</td><td>1.23766</td><td>0.879958</td><td>189.702</td><td>0.0887336</td><td>65.85901</td><td> 37.08351</td><td> 5.65463</td><td>⋯</td><td>1e-05</td><td>0.407233</td><td>1.258147e-05</td><td>1e-05</td><td>1e-05</td><td>1e-05</td><td>1e-05</td><td>1e-05</td><td>0.461774</td><td>1e-05</td></tr>\n",
       "</tbody>\n",
       "</table>\n"
      ],
      "text/latex": [
       "A data.frame: 6 × 58288\n",
       "\\begin{tabular}{r|lllllllllllllllllllll}\n",
       "  & TSPAN6 & TNMD & DPM1 & SCYL3 & C1orf112 & FGR & CFH & FUCA2 & GCLC & NFYA & ⋯ & BX005132.2 & AL645728.2 & PDE11A.1 & AL163152.1 & AL139254.3 & AL591163.1 & AL589702.1 & AC068587.10 & AL034417.4 & AL513220.1\\\\\n",
       "  & <dbl> & <dbl> & <dbl> & <dbl> & <dbl> & <dbl> & <dbl> & <dbl> & <dbl> & <dbl> & ⋯ & <dbl> & <dbl> & <dbl> & <dbl> & <dbl> & <dbl> & <dbl> & <dbl> & <dbl> & <dbl>\\\\\n",
       "\\hline\n",
       "\tGRN.Rep0 & 4.567620 & 1e-05 & 17.72261 & 1.95574 & 1.445130 & 161.428 & 0.1303780 & 47.90601 & 105.08101 & 11.24911 & ⋯ & 1e-05 & 0.412272 & 1.000000e-05 & 1e-05 & 1e-05 & 1e-05 & 1e-05 & 1e-05 & 0.298582 & 1e-05\\\\\n",
       "\tGRN.Rep1 & 4.175720 & 1e-05 & 20.55151 & 1.65214 & 1.928600 & 167.051 & 0.2493420 & 50.68341 & 100.08501 & 10.26511 & ⋯ & 1e-05 & 0.000010 & 1.000000e-05 & 1e-05 & 1e-05 & 1e-05 & 1e-05 & 1e-05 & 0.439470 & 1e-05\\\\\n",
       "\tGRN.Rep2 & 4.056860 & 1e-05 & 20.37221 & 1.60467 & 3.689060 & 153.524 & 0.3744310 & 50.55921 & 114.85701 & 11.74231 & ⋯ & 1e-05 & 0.321201 & 1.000000e-05 & 1e-05 & 1e-05 & 1e-05 & 1e-05 & 1e-05 & 0.277072 & 1e-05\\\\\n",
       "\tMeCP2.Rep0 & 0.670684 & 1e-05 & 21.05121 & 1.35741 & 0.512520 & 235.849 & 0.2991940 & 71.84811 &  11.57551 &  2.91352 & ⋯ & 1e-05 & 0.000010 & 1.000000e-05 & 1e-05 & 1e-05 & 1e-05 & 1e-05 & 1e-05 & 0.666880 & 1e-05\\\\\n",
       "\tSNCA.Rep0 & 4.691710 & 1e-05 & 21.24151 & 1.83863 & 1.690950 & 158.569 & 0.1790100 & 49.03211 & 117.49601 & 10.60711 & ⋯ & 1e-05 & 1.564350 & 1.000000e-05 & 1e-05 & 1e-05 & 1e-05 & 1e-05 & 1e-05 & 0.267216 & 1e-05\\\\\n",
       "\tAHN.Rep0 & 8.377920 & 1e-05 & 25.51011 & 1.23766 & 0.879958 & 189.702 & 0.0887336 & 65.85901 &  37.08351 &  5.65463 & ⋯ & 1e-05 & 0.407233 & 1.258147e-05 & 1e-05 & 1e-05 & 1e-05 & 1e-05 & 1e-05 & 0.461774 & 1e-05\\\\\n",
       "\\end{tabular}\n"
      ],
      "text/markdown": [
       "\n",
       "A data.frame: 6 × 58288\n",
       "\n",
       "| <!--/--> | TSPAN6 &lt;dbl&gt; | TNMD &lt;dbl&gt; | DPM1 &lt;dbl&gt; | SCYL3 &lt;dbl&gt; | C1orf112 &lt;dbl&gt; | FGR &lt;dbl&gt; | CFH &lt;dbl&gt; | FUCA2 &lt;dbl&gt; | GCLC &lt;dbl&gt; | NFYA &lt;dbl&gt; | ⋯ ⋯ | BX005132.2 &lt;dbl&gt; | AL645728.2 &lt;dbl&gt; | PDE11A.1 &lt;dbl&gt; | AL163152.1 &lt;dbl&gt; | AL139254.3 &lt;dbl&gt; | AL591163.1 &lt;dbl&gt; | AL589702.1 &lt;dbl&gt; | AC068587.10 &lt;dbl&gt; | AL034417.4 &lt;dbl&gt; | AL513220.1 &lt;dbl&gt; |\n",
       "|---|---|---|---|---|---|---|---|---|---|---|---|---|---|---|---|---|---|---|---|---|---|\n",
       "| GRN.Rep0 | 4.567620 | 1e-05 | 17.72261 | 1.95574 | 1.445130 | 161.428 | 0.1303780 | 47.90601 | 105.08101 | 11.24911 | ⋯ | 1e-05 | 0.412272 | 1.000000e-05 | 1e-05 | 1e-05 | 1e-05 | 1e-05 | 1e-05 | 0.298582 | 1e-05 |\n",
       "| GRN.Rep1 | 4.175720 | 1e-05 | 20.55151 | 1.65214 | 1.928600 | 167.051 | 0.2493420 | 50.68341 | 100.08501 | 10.26511 | ⋯ | 1e-05 | 0.000010 | 1.000000e-05 | 1e-05 | 1e-05 | 1e-05 | 1e-05 | 1e-05 | 0.439470 | 1e-05 |\n",
       "| GRN.Rep2 | 4.056860 | 1e-05 | 20.37221 | 1.60467 | 3.689060 | 153.524 | 0.3744310 | 50.55921 | 114.85701 | 11.74231 | ⋯ | 1e-05 | 0.321201 | 1.000000e-05 | 1e-05 | 1e-05 | 1e-05 | 1e-05 | 1e-05 | 0.277072 | 1e-05 |\n",
       "| MeCP2.Rep0 | 0.670684 | 1e-05 | 21.05121 | 1.35741 | 0.512520 | 235.849 | 0.2991940 | 71.84811 |  11.57551 |  2.91352 | ⋯ | 1e-05 | 0.000010 | 1.000000e-05 | 1e-05 | 1e-05 | 1e-05 | 1e-05 | 1e-05 | 0.666880 | 1e-05 |\n",
       "| SNCA.Rep0 | 4.691710 | 1e-05 | 21.24151 | 1.83863 | 1.690950 | 158.569 | 0.1790100 | 49.03211 | 117.49601 | 10.60711 | ⋯ | 1e-05 | 1.564350 | 1.000000e-05 | 1e-05 | 1e-05 | 1e-05 | 1e-05 | 1e-05 | 0.267216 | 1e-05 |\n",
       "| AHN.Rep0 | 8.377920 | 1e-05 | 25.51011 | 1.23766 | 0.879958 | 189.702 | 0.0887336 | 65.85901 |  37.08351 |  5.65463 | ⋯ | 1e-05 | 0.407233 | 1.258147e-05 | 1e-05 | 1e-05 | 1e-05 | 1e-05 | 1e-05 | 0.461774 | 1e-05 |\n",
       "\n"
      ],
      "text/plain": [
       "           TSPAN6   TNMD  DPM1     SCYL3   C1orf112 FGR     CFH       FUCA2   \n",
       "GRN.Rep0   4.567620 1e-05 17.72261 1.95574 1.445130 161.428 0.1303780 47.90601\n",
       "GRN.Rep1   4.175720 1e-05 20.55151 1.65214 1.928600 167.051 0.2493420 50.68341\n",
       "GRN.Rep2   4.056860 1e-05 20.37221 1.60467 3.689060 153.524 0.3744310 50.55921\n",
       "MeCP2.Rep0 0.670684 1e-05 21.05121 1.35741 0.512520 235.849 0.2991940 71.84811\n",
       "SNCA.Rep0  4.691710 1e-05 21.24151 1.83863 1.690950 158.569 0.1790100 49.03211\n",
       "AHN.Rep0   8.377920 1e-05 25.51011 1.23766 0.879958 189.702 0.0887336 65.85901\n",
       "           GCLC      NFYA     ⋯ BX005132.2 AL645728.2 PDE11A.1     AL163152.1\n",
       "GRN.Rep0   105.08101 11.24911 ⋯ 1e-05      0.412272   1.000000e-05 1e-05     \n",
       "GRN.Rep1   100.08501 10.26511 ⋯ 1e-05      0.000010   1.000000e-05 1e-05     \n",
       "GRN.Rep2   114.85701 11.74231 ⋯ 1e-05      0.321201   1.000000e-05 1e-05     \n",
       "MeCP2.Rep0  11.57551  2.91352 ⋯ 1e-05      0.000010   1.000000e-05 1e-05     \n",
       "SNCA.Rep0  117.49601 10.60711 ⋯ 1e-05      1.564350   1.000000e-05 1e-05     \n",
       "AHN.Rep0    37.08351  5.65463 ⋯ 1e-05      0.407233   1.258147e-05 1e-05     \n",
       "           AL139254.3 AL591163.1 AL589702.1 AC068587.10 AL034417.4 AL513220.1\n",
       "GRN.Rep0   1e-05      1e-05      1e-05      1e-05       0.298582   1e-05     \n",
       "GRN.Rep1   1e-05      1e-05      1e-05      1e-05       0.439470   1e-05     \n",
       "GRN.Rep2   1e-05      1e-05      1e-05      1e-05       0.277072   1e-05     \n",
       "MeCP2.Rep0 1e-05      1e-05      1e-05      1e-05       0.666880   1e-05     \n",
       "SNCA.Rep0  1e-05      1e-05      1e-05      1e-05       0.267216   1e-05     \n",
       "AHN.Rep0   1e-05      1e-05      1e-05      1e-05       0.461774   1e-05     "
      ]
     },
     "metadata": {},
     "output_type": "display_data"
    }
   ],
   "source": [
    "head(df)"
   ]
  },
  {
   "cell_type": "code",
   "execution_count": 12,
   "id": "502e6cc4",
   "metadata": {
    "pycharm": {
     "name": "#%%\n"
    }
   },
   "outputs": [],
   "source": [
    "rownames(df) <- df$X"
   ]
  },
  {
   "cell_type": "code",
   "execution_count": 15,
   "id": "9f4850d1",
   "metadata": {
    "pycharm": {
     "name": "#%%\n"
    }
   },
   "outputs": [],
   "source": [
    "df <- df[,2:ncol(df)]"
   ]
  },
  {
   "cell_type": "code",
   "execution_count": 17,
   "id": "59e4639b",
   "metadata": {
    "pycharm": {
     "name": "#%%\n"
    }
   },
   "outputs": [],
   "source": [
    "# Remove NA\n",
    "df <- df[, colSums(is.na(df)) == 0]\n",
    "# Remove columns with all 0s\n",
    "df <- df[, colSums(df) > 0]\n",
    "# Remove columns without gene symbol\n",
    "df <- df[,nzchar(colnames(df))]\n",
    "# Remove double names genes (GENE1 /// GENE2)\n",
    "colnames(df) <- gsub(\" ///.*\", \"\", colnames(df))\n",
    "# Make all columns uppercase\n",
    "colnames(df) <- toupper(colnames(df))"
   ]
  },
  {
   "cell_type": "code",
   "execution_count": 18,
   "id": "f753ce11",
   "metadata": {
    "pycharm": {
     "name": "#%%\n"
    }
   },
   "outputs": [
    {
     "data": {
      "text/html": [
       "<table class=\"dataframe\">\n",
       "<caption>A data.frame: 6 × 58288</caption>\n",
       "<thead>\n",
       "\t<tr><th></th><th scope=col>TSPAN6</th><th scope=col>TNMD</th><th scope=col>DPM1</th><th scope=col>SCYL3</th><th scope=col>C1ORF112</th><th scope=col>FGR</th><th scope=col>CFH</th><th scope=col>FUCA2</th><th scope=col>GCLC</th><th scope=col>NFYA</th><th scope=col>⋯</th><th scope=col>BX005132.2</th><th scope=col>AL645728.2</th><th scope=col>PDE11A.1</th><th scope=col>AL163152.1</th><th scope=col>AL139254.3</th><th scope=col>AL591163.1</th><th scope=col>AL589702.1</th><th scope=col>AC068587.10</th><th scope=col>AL034417.4</th><th scope=col>AL513220.1</th></tr>\n",
       "\t<tr><th></th><th scope=col>&lt;dbl&gt;</th><th scope=col>&lt;dbl&gt;</th><th scope=col>&lt;dbl&gt;</th><th scope=col>&lt;dbl&gt;</th><th scope=col>&lt;dbl&gt;</th><th scope=col>&lt;dbl&gt;</th><th scope=col>&lt;dbl&gt;</th><th scope=col>&lt;dbl&gt;</th><th scope=col>&lt;dbl&gt;</th><th scope=col>&lt;dbl&gt;</th><th scope=col>⋯</th><th scope=col>&lt;dbl&gt;</th><th scope=col>&lt;dbl&gt;</th><th scope=col>&lt;dbl&gt;</th><th scope=col>&lt;dbl&gt;</th><th scope=col>&lt;dbl&gt;</th><th scope=col>&lt;dbl&gt;</th><th scope=col>&lt;dbl&gt;</th><th scope=col>&lt;dbl&gt;</th><th scope=col>&lt;dbl&gt;</th><th scope=col>&lt;dbl&gt;</th></tr>\n",
       "</thead>\n",
       "<tbody>\n",
       "\t<tr><th scope=row>GRN.Rep0</th><td>4.567620</td><td>1e-05</td><td>17.72261</td><td>1.95574</td><td>1.445130</td><td>161.428</td><td>0.1303780</td><td>47.90601</td><td>105.08101</td><td>11.24911</td><td>⋯</td><td>1e-05</td><td>0.412272</td><td>1.000000e-05</td><td>1e-05</td><td>1e-05</td><td>1e-05</td><td>1e-05</td><td>1e-05</td><td>0.298582</td><td>1e-05</td></tr>\n",
       "\t<tr><th scope=row>GRN.Rep1</th><td>4.175720</td><td>1e-05</td><td>20.55151</td><td>1.65214</td><td>1.928600</td><td>167.051</td><td>0.2493420</td><td>50.68341</td><td>100.08501</td><td>10.26511</td><td>⋯</td><td>1e-05</td><td>0.000010</td><td>1.000000e-05</td><td>1e-05</td><td>1e-05</td><td>1e-05</td><td>1e-05</td><td>1e-05</td><td>0.439470</td><td>1e-05</td></tr>\n",
       "\t<tr><th scope=row>GRN.Rep2</th><td>4.056860</td><td>1e-05</td><td>20.37221</td><td>1.60467</td><td>3.689060</td><td>153.524</td><td>0.3744310</td><td>50.55921</td><td>114.85701</td><td>11.74231</td><td>⋯</td><td>1e-05</td><td>0.321201</td><td>1.000000e-05</td><td>1e-05</td><td>1e-05</td><td>1e-05</td><td>1e-05</td><td>1e-05</td><td>0.277072</td><td>1e-05</td></tr>\n",
       "\t<tr><th scope=row>MeCP2.Rep0</th><td>0.670684</td><td>1e-05</td><td>21.05121</td><td>1.35741</td><td>0.512520</td><td>235.849</td><td>0.2991940</td><td>71.84811</td><td> 11.57551</td><td> 2.91352</td><td>⋯</td><td>1e-05</td><td>0.000010</td><td>1.000000e-05</td><td>1e-05</td><td>1e-05</td><td>1e-05</td><td>1e-05</td><td>1e-05</td><td>0.666880</td><td>1e-05</td></tr>\n",
       "\t<tr><th scope=row>SNCA.Rep0</th><td>4.691710</td><td>1e-05</td><td>21.24151</td><td>1.83863</td><td>1.690950</td><td>158.569</td><td>0.1790100</td><td>49.03211</td><td>117.49601</td><td>10.60711</td><td>⋯</td><td>1e-05</td><td>1.564350</td><td>1.000000e-05</td><td>1e-05</td><td>1e-05</td><td>1e-05</td><td>1e-05</td><td>1e-05</td><td>0.267216</td><td>1e-05</td></tr>\n",
       "\t<tr><th scope=row>AHN.Rep0</th><td>8.377920</td><td>1e-05</td><td>25.51011</td><td>1.23766</td><td>0.879958</td><td>189.702</td><td>0.0887336</td><td>65.85901</td><td> 37.08351</td><td> 5.65463</td><td>⋯</td><td>1e-05</td><td>0.407233</td><td>1.258147e-05</td><td>1e-05</td><td>1e-05</td><td>1e-05</td><td>1e-05</td><td>1e-05</td><td>0.461774</td><td>1e-05</td></tr>\n",
       "</tbody>\n",
       "</table>\n"
      ],
      "text/latex": [
       "A data.frame: 6 × 58288\n",
       "\\begin{tabular}{r|lllllllllllllllllllll}\n",
       "  & TSPAN6 & TNMD & DPM1 & SCYL3 & C1ORF112 & FGR & CFH & FUCA2 & GCLC & NFYA & ⋯ & BX005132.2 & AL645728.2 & PDE11A.1 & AL163152.1 & AL139254.3 & AL591163.1 & AL589702.1 & AC068587.10 & AL034417.4 & AL513220.1\\\\\n",
       "  & <dbl> & <dbl> & <dbl> & <dbl> & <dbl> & <dbl> & <dbl> & <dbl> & <dbl> & <dbl> & ⋯ & <dbl> & <dbl> & <dbl> & <dbl> & <dbl> & <dbl> & <dbl> & <dbl> & <dbl> & <dbl>\\\\\n",
       "\\hline\n",
       "\tGRN.Rep0 & 4.567620 & 1e-05 & 17.72261 & 1.95574 & 1.445130 & 161.428 & 0.1303780 & 47.90601 & 105.08101 & 11.24911 & ⋯ & 1e-05 & 0.412272 & 1.000000e-05 & 1e-05 & 1e-05 & 1e-05 & 1e-05 & 1e-05 & 0.298582 & 1e-05\\\\\n",
       "\tGRN.Rep1 & 4.175720 & 1e-05 & 20.55151 & 1.65214 & 1.928600 & 167.051 & 0.2493420 & 50.68341 & 100.08501 & 10.26511 & ⋯ & 1e-05 & 0.000010 & 1.000000e-05 & 1e-05 & 1e-05 & 1e-05 & 1e-05 & 1e-05 & 0.439470 & 1e-05\\\\\n",
       "\tGRN.Rep2 & 4.056860 & 1e-05 & 20.37221 & 1.60467 & 3.689060 & 153.524 & 0.3744310 & 50.55921 & 114.85701 & 11.74231 & ⋯ & 1e-05 & 0.321201 & 1.000000e-05 & 1e-05 & 1e-05 & 1e-05 & 1e-05 & 1e-05 & 0.277072 & 1e-05\\\\\n",
       "\tMeCP2.Rep0 & 0.670684 & 1e-05 & 21.05121 & 1.35741 & 0.512520 & 235.849 & 0.2991940 & 71.84811 &  11.57551 &  2.91352 & ⋯ & 1e-05 & 0.000010 & 1.000000e-05 & 1e-05 & 1e-05 & 1e-05 & 1e-05 & 1e-05 & 0.666880 & 1e-05\\\\\n",
       "\tSNCA.Rep0 & 4.691710 & 1e-05 & 21.24151 & 1.83863 & 1.690950 & 158.569 & 0.1790100 & 49.03211 & 117.49601 & 10.60711 & ⋯ & 1e-05 & 1.564350 & 1.000000e-05 & 1e-05 & 1e-05 & 1e-05 & 1e-05 & 1e-05 & 0.267216 & 1e-05\\\\\n",
       "\tAHN.Rep0 & 8.377920 & 1e-05 & 25.51011 & 1.23766 & 0.879958 & 189.702 & 0.0887336 & 65.85901 &  37.08351 &  5.65463 & ⋯ & 1e-05 & 0.407233 & 1.258147e-05 & 1e-05 & 1e-05 & 1e-05 & 1e-05 & 1e-05 & 0.461774 & 1e-05\\\\\n",
       "\\end{tabular}\n"
      ],
      "text/markdown": [
       "\n",
       "A data.frame: 6 × 58288\n",
       "\n",
       "| <!--/--> | TSPAN6 &lt;dbl&gt; | TNMD &lt;dbl&gt; | DPM1 &lt;dbl&gt; | SCYL3 &lt;dbl&gt; | C1ORF112 &lt;dbl&gt; | FGR &lt;dbl&gt; | CFH &lt;dbl&gt; | FUCA2 &lt;dbl&gt; | GCLC &lt;dbl&gt; | NFYA &lt;dbl&gt; | ⋯ ⋯ | BX005132.2 &lt;dbl&gt; | AL645728.2 &lt;dbl&gt; | PDE11A.1 &lt;dbl&gt; | AL163152.1 &lt;dbl&gt; | AL139254.3 &lt;dbl&gt; | AL591163.1 &lt;dbl&gt; | AL589702.1 &lt;dbl&gt; | AC068587.10 &lt;dbl&gt; | AL034417.4 &lt;dbl&gt; | AL513220.1 &lt;dbl&gt; |\n",
       "|---|---|---|---|---|---|---|---|---|---|---|---|---|---|---|---|---|---|---|---|---|---|\n",
       "| GRN.Rep0 | 4.567620 | 1e-05 | 17.72261 | 1.95574 | 1.445130 | 161.428 | 0.1303780 | 47.90601 | 105.08101 | 11.24911 | ⋯ | 1e-05 | 0.412272 | 1.000000e-05 | 1e-05 | 1e-05 | 1e-05 | 1e-05 | 1e-05 | 0.298582 | 1e-05 |\n",
       "| GRN.Rep1 | 4.175720 | 1e-05 | 20.55151 | 1.65214 | 1.928600 | 167.051 | 0.2493420 | 50.68341 | 100.08501 | 10.26511 | ⋯ | 1e-05 | 0.000010 | 1.000000e-05 | 1e-05 | 1e-05 | 1e-05 | 1e-05 | 1e-05 | 0.439470 | 1e-05 |\n",
       "| GRN.Rep2 | 4.056860 | 1e-05 | 20.37221 | 1.60467 | 3.689060 | 153.524 | 0.3744310 | 50.55921 | 114.85701 | 11.74231 | ⋯ | 1e-05 | 0.321201 | 1.000000e-05 | 1e-05 | 1e-05 | 1e-05 | 1e-05 | 1e-05 | 0.277072 | 1e-05 |\n",
       "| MeCP2.Rep0 | 0.670684 | 1e-05 | 21.05121 | 1.35741 | 0.512520 | 235.849 | 0.2991940 | 71.84811 |  11.57551 |  2.91352 | ⋯ | 1e-05 | 0.000010 | 1.000000e-05 | 1e-05 | 1e-05 | 1e-05 | 1e-05 | 1e-05 | 0.666880 | 1e-05 |\n",
       "| SNCA.Rep0 | 4.691710 | 1e-05 | 21.24151 | 1.83863 | 1.690950 | 158.569 | 0.1790100 | 49.03211 | 117.49601 | 10.60711 | ⋯ | 1e-05 | 1.564350 | 1.000000e-05 | 1e-05 | 1e-05 | 1e-05 | 1e-05 | 1e-05 | 0.267216 | 1e-05 |\n",
       "| AHN.Rep0 | 8.377920 | 1e-05 | 25.51011 | 1.23766 | 0.879958 | 189.702 | 0.0887336 | 65.85901 |  37.08351 |  5.65463 | ⋯ | 1e-05 | 0.407233 | 1.258147e-05 | 1e-05 | 1e-05 | 1e-05 | 1e-05 | 1e-05 | 0.461774 | 1e-05 |\n",
       "\n"
      ],
      "text/plain": [
       "           TSPAN6   TNMD  DPM1     SCYL3   C1ORF112 FGR     CFH       FUCA2   \n",
       "GRN.Rep0   4.567620 1e-05 17.72261 1.95574 1.445130 161.428 0.1303780 47.90601\n",
       "GRN.Rep1   4.175720 1e-05 20.55151 1.65214 1.928600 167.051 0.2493420 50.68341\n",
       "GRN.Rep2   4.056860 1e-05 20.37221 1.60467 3.689060 153.524 0.3744310 50.55921\n",
       "MeCP2.Rep0 0.670684 1e-05 21.05121 1.35741 0.512520 235.849 0.2991940 71.84811\n",
       "SNCA.Rep0  4.691710 1e-05 21.24151 1.83863 1.690950 158.569 0.1790100 49.03211\n",
       "AHN.Rep0   8.377920 1e-05 25.51011 1.23766 0.879958 189.702 0.0887336 65.85901\n",
       "           GCLC      NFYA     ⋯ BX005132.2 AL645728.2 PDE11A.1     AL163152.1\n",
       "GRN.Rep0   105.08101 11.24911 ⋯ 1e-05      0.412272   1.000000e-05 1e-05     \n",
       "GRN.Rep1   100.08501 10.26511 ⋯ 1e-05      0.000010   1.000000e-05 1e-05     \n",
       "GRN.Rep2   114.85701 11.74231 ⋯ 1e-05      0.321201   1.000000e-05 1e-05     \n",
       "MeCP2.Rep0  11.57551  2.91352 ⋯ 1e-05      0.000010   1.000000e-05 1e-05     \n",
       "SNCA.Rep0  117.49601 10.60711 ⋯ 1e-05      1.564350   1.000000e-05 1e-05     \n",
       "AHN.Rep0    37.08351  5.65463 ⋯ 1e-05      0.407233   1.258147e-05 1e-05     \n",
       "           AL139254.3 AL591163.1 AL589702.1 AC068587.10 AL034417.4 AL513220.1\n",
       "GRN.Rep0   1e-05      1e-05      1e-05      1e-05       0.298582   1e-05     \n",
       "GRN.Rep1   1e-05      1e-05      1e-05      1e-05       0.439470   1e-05     \n",
       "GRN.Rep2   1e-05      1e-05      1e-05      1e-05       0.277072   1e-05     \n",
       "MeCP2.Rep0 1e-05      1e-05      1e-05      1e-05       0.666880   1e-05     \n",
       "SNCA.Rep0  1e-05      1e-05      1e-05      1e-05       0.267216   1e-05     \n",
       "AHN.Rep0   1e-05      1e-05      1e-05      1e-05       0.461774   1e-05     "
      ]
     },
     "metadata": {},
     "output_type": "display_data"
    }
   ],
   "source": [
    "head(df)"
   ]
  },
  {
   "cell_type": "code",
   "execution_count": 19,
   "id": "a5d32118",
   "metadata": {
    "pycharm": {
     "name": "#%%\n"
    }
   },
   "outputs": [],
   "source": [
    "write.table(df, file=paste(dataPath, csv_name, sep=\"\"), sep=\",\")"
   ]
  },
  {
   "cell_type": "markdown",
   "id": "7853db89",
   "metadata": {
    "pycharm": {
     "name": "#%% md\n"
    }
   },
   "source": [
    "# NCL 2"
   ]
  },
  {
   "cell_type": "code",
   "execution_count": 20,
   "id": "2b301564",
   "metadata": {
    "pycharm": {
     "name": "#%%\n"
    }
   },
   "outputs": [],
   "source": [
    "csv_name = 'eGSE30369m.csv'"
   ]
  },
  {
   "cell_type": "code",
   "execution_count": 21,
   "id": "404bbf20",
   "metadata": {
    "pycharm": {
     "name": "#%%\n"
    }
   },
   "outputs": [],
   "source": [
    "df <- read.csv(file=paste(dataPath, csv_name, sep=\"\"), sep=\"\", header=TRUE)"
   ]
  },
  {
   "cell_type": "code",
   "execution_count": 22,
   "id": "2a824bf9",
   "metadata": {
    "scrolled": true,
    "pycharm": {
     "name": "#%%\n"
    }
   },
   "outputs": [
    {
     "data": {
      "text/html": [
       "<table class=\"dataframe\">\n",
       "<caption>A data.frame: 4 × 22178</caption>\n",
       "<thead>\n",
       "\t<tr><th></th><th scope=col>X</th><th scope=col>ILMN_1651209</th><th scope=col>ILMN_1651217</th><th scope=col>ILMN_1651228</th><th scope=col>ILMN_1651229</th><th scope=col>ILMN_1651234</th><th scope=col>ILMN_1651235</th><th scope=col>ILMN_1651236</th><th scope=col>ILMN_1651237</th><th scope=col>ILMN_1651238</th><th scope=col>⋯</th><th scope=col>ILMN_1815885</th><th scope=col>ILMN_1815890</th><th scope=col>ILMN_1815908</th><th scope=col>ILMN_1815923</th><th scope=col>ILMN_1815924</th><th scope=col>ILMN_1815933</th><th scope=col>ILMN_1815937</th><th scope=col>ILMN_1815938</th><th scope=col>ILMN_1815941</th><th scope=col>ILMN_1815951</th></tr>\n",
       "\t<tr><th></th><th scope=col>&lt;chr&gt;</th><th scope=col>&lt;dbl&gt;</th><th scope=col>&lt;dbl&gt;</th><th scope=col>&lt;dbl&gt;</th><th scope=col>&lt;dbl&gt;</th><th scope=col>&lt;dbl&gt;</th><th scope=col>&lt;dbl&gt;</th><th scope=col>&lt;dbl&gt;</th><th scope=col>&lt;dbl&gt;</th><th scope=col>&lt;dbl&gt;</th><th scope=col>⋯</th><th scope=col>&lt;dbl&gt;</th><th scope=col>&lt;dbl&gt;</th><th scope=col>&lt;dbl&gt;</th><th scope=col>&lt;dbl&gt;</th><th scope=col>&lt;dbl&gt;</th><th scope=col>&lt;dbl&gt;</th><th scope=col>&lt;dbl&gt;</th><th scope=col>&lt;dbl&gt;</th><th scope=col>&lt;dbl&gt;</th><th scope=col>&lt;dbl&gt;</th></tr>\n",
       "</thead>\n",
       "<tbody>\n",
       "\t<tr><th scope=row>1</th><td>GSM753551</td><td>6.441433</td><td>6.292399</td><td>13.43724</td><td>7.988214</td><td>5.696954</td><td>6.035412</td><td>5.935416</td><td>6.093311</td><td>6.048240</td><td>⋯</td><td>6.398945</td><td>8.053059</td><td>6.554411</td><td>5.828407</td><td>9.418736</td><td>7.057031</td><td>5.944536</td><td>5.820384</td><td>8.478805</td><td>7.652425</td></tr>\n",
       "\t<tr><th scope=row>2</th><td>GSM753552</td><td>6.501252</td><td>6.199564</td><td>13.87455</td><td>7.613662</td><td>5.792640</td><td>6.021823</td><td>6.047903</td><td>5.857664</td><td>5.942314</td><td>⋯</td><td>6.513539</td><td>8.014108</td><td>6.380647</td><td>5.810531</td><td>8.893691</td><td>7.203604</td><td>6.020227</td><td>5.740604</td><td>8.816835</td><td>7.723623</td></tr>\n",
       "\t<tr><th scope=row>3</th><td>GSM753553</td><td>6.217822</td><td>5.942144</td><td>13.99501</td><td>7.578761</td><td>5.724316</td><td>6.011809</td><td>5.936246</td><td>5.877185</td><td>5.807121</td><td>⋯</td><td>6.435321</td><td>7.409345</td><td>6.182712</td><td>5.661384</td><td>9.257995</td><td>7.027332</td><td>6.050437</td><td>5.981099</td><td>9.142315</td><td>7.678386</td></tr>\n",
       "\t<tr><th scope=row>4</th><td>GSM753554</td><td>6.100076</td><td>6.019551</td><td>13.84246</td><td>7.689085</td><td>5.762888</td><td>6.097306</td><td>6.033793</td><td>5.800126</td><td>5.942409</td><td>⋯</td><td>6.531783</td><td>7.560220</td><td>6.421435</td><td>5.770118</td><td>9.384104</td><td>7.323473</td><td>6.068272</td><td>6.071177</td><td>8.226703</td><td>7.646915</td></tr>\n",
       "</tbody>\n",
       "</table>\n"
      ],
      "text/latex": [
       "A data.frame: 4 × 22178\n",
       "\\begin{tabular}{r|lllllllllllllllllllll}\n",
       "  & X & ILMN\\_1651209 & ILMN\\_1651217 & ILMN\\_1651228 & ILMN\\_1651229 & ILMN\\_1651234 & ILMN\\_1651235 & ILMN\\_1651236 & ILMN\\_1651237 & ILMN\\_1651238 & ⋯ & ILMN\\_1815885 & ILMN\\_1815890 & ILMN\\_1815908 & ILMN\\_1815923 & ILMN\\_1815924 & ILMN\\_1815933 & ILMN\\_1815937 & ILMN\\_1815938 & ILMN\\_1815941 & ILMN\\_1815951\\\\\n",
       "  & <chr> & <dbl> & <dbl> & <dbl> & <dbl> & <dbl> & <dbl> & <dbl> & <dbl> & <dbl> & ⋯ & <dbl> & <dbl> & <dbl> & <dbl> & <dbl> & <dbl> & <dbl> & <dbl> & <dbl> & <dbl>\\\\\n",
       "\\hline\n",
       "\t1 & GSM753551 & 6.441433 & 6.292399 & 13.43724 & 7.988214 & 5.696954 & 6.035412 & 5.935416 & 6.093311 & 6.048240 & ⋯ & 6.398945 & 8.053059 & 6.554411 & 5.828407 & 9.418736 & 7.057031 & 5.944536 & 5.820384 & 8.478805 & 7.652425\\\\\n",
       "\t2 & GSM753552 & 6.501252 & 6.199564 & 13.87455 & 7.613662 & 5.792640 & 6.021823 & 6.047903 & 5.857664 & 5.942314 & ⋯ & 6.513539 & 8.014108 & 6.380647 & 5.810531 & 8.893691 & 7.203604 & 6.020227 & 5.740604 & 8.816835 & 7.723623\\\\\n",
       "\t3 & GSM753553 & 6.217822 & 5.942144 & 13.99501 & 7.578761 & 5.724316 & 6.011809 & 5.936246 & 5.877185 & 5.807121 & ⋯ & 6.435321 & 7.409345 & 6.182712 & 5.661384 & 9.257995 & 7.027332 & 6.050437 & 5.981099 & 9.142315 & 7.678386\\\\\n",
       "\t4 & GSM753554 & 6.100076 & 6.019551 & 13.84246 & 7.689085 & 5.762888 & 6.097306 & 6.033793 & 5.800126 & 5.942409 & ⋯ & 6.531783 & 7.560220 & 6.421435 & 5.770118 & 9.384104 & 7.323473 & 6.068272 & 6.071177 & 8.226703 & 7.646915\\\\\n",
       "\\end{tabular}\n"
      ],
      "text/markdown": [
       "\n",
       "A data.frame: 4 × 22178\n",
       "\n",
       "| <!--/--> | X &lt;chr&gt; | ILMN_1651209 &lt;dbl&gt; | ILMN_1651217 &lt;dbl&gt; | ILMN_1651228 &lt;dbl&gt; | ILMN_1651229 &lt;dbl&gt; | ILMN_1651234 &lt;dbl&gt; | ILMN_1651235 &lt;dbl&gt; | ILMN_1651236 &lt;dbl&gt; | ILMN_1651237 &lt;dbl&gt; | ILMN_1651238 &lt;dbl&gt; | ⋯ ⋯ | ILMN_1815885 &lt;dbl&gt; | ILMN_1815890 &lt;dbl&gt; | ILMN_1815908 &lt;dbl&gt; | ILMN_1815923 &lt;dbl&gt; | ILMN_1815924 &lt;dbl&gt; | ILMN_1815933 &lt;dbl&gt; | ILMN_1815937 &lt;dbl&gt; | ILMN_1815938 &lt;dbl&gt; | ILMN_1815941 &lt;dbl&gt; | ILMN_1815951 &lt;dbl&gt; |\n",
       "|---|---|---|---|---|---|---|---|---|---|---|---|---|---|---|---|---|---|---|---|---|---|\n",
       "| 1 | GSM753551 | 6.441433 | 6.292399 | 13.43724 | 7.988214 | 5.696954 | 6.035412 | 5.935416 | 6.093311 | 6.048240 | ⋯ | 6.398945 | 8.053059 | 6.554411 | 5.828407 | 9.418736 | 7.057031 | 5.944536 | 5.820384 | 8.478805 | 7.652425 |\n",
       "| 2 | GSM753552 | 6.501252 | 6.199564 | 13.87455 | 7.613662 | 5.792640 | 6.021823 | 6.047903 | 5.857664 | 5.942314 | ⋯ | 6.513539 | 8.014108 | 6.380647 | 5.810531 | 8.893691 | 7.203604 | 6.020227 | 5.740604 | 8.816835 | 7.723623 |\n",
       "| 3 | GSM753553 | 6.217822 | 5.942144 | 13.99501 | 7.578761 | 5.724316 | 6.011809 | 5.936246 | 5.877185 | 5.807121 | ⋯ | 6.435321 | 7.409345 | 6.182712 | 5.661384 | 9.257995 | 7.027332 | 6.050437 | 5.981099 | 9.142315 | 7.678386 |\n",
       "| 4 | GSM753554 | 6.100076 | 6.019551 | 13.84246 | 7.689085 | 5.762888 | 6.097306 | 6.033793 | 5.800126 | 5.942409 | ⋯ | 6.531783 | 7.560220 | 6.421435 | 5.770118 | 9.384104 | 7.323473 | 6.068272 | 6.071177 | 8.226703 | 7.646915 |\n",
       "\n"
      ],
      "text/plain": [
       "  X         ILMN_1651209 ILMN_1651217 ILMN_1651228 ILMN_1651229 ILMN_1651234\n",
       "1 GSM753551 6.441433     6.292399     13.43724     7.988214     5.696954    \n",
       "2 GSM753552 6.501252     6.199564     13.87455     7.613662     5.792640    \n",
       "3 GSM753553 6.217822     5.942144     13.99501     7.578761     5.724316    \n",
       "4 GSM753554 6.100076     6.019551     13.84246     7.689085     5.762888    \n",
       "  ILMN_1651235 ILMN_1651236 ILMN_1651237 ILMN_1651238 ⋯ ILMN_1815885\n",
       "1 6.035412     5.935416     6.093311     6.048240     ⋯ 6.398945    \n",
       "2 6.021823     6.047903     5.857664     5.942314     ⋯ 6.513539    \n",
       "3 6.011809     5.936246     5.877185     5.807121     ⋯ 6.435321    \n",
       "4 6.097306     6.033793     5.800126     5.942409     ⋯ 6.531783    \n",
       "  ILMN_1815890 ILMN_1815908 ILMN_1815923 ILMN_1815924 ILMN_1815933 ILMN_1815937\n",
       "1 8.053059     6.554411     5.828407     9.418736     7.057031     5.944536    \n",
       "2 8.014108     6.380647     5.810531     8.893691     7.203604     6.020227    \n",
       "3 7.409345     6.182712     5.661384     9.257995     7.027332     6.050437    \n",
       "4 7.560220     6.421435     5.770118     9.384104     7.323473     6.068272    \n",
       "  ILMN_1815938 ILMN_1815941 ILMN_1815951\n",
       "1 5.820384     8.478805     7.652425    \n",
       "2 5.740604     8.816835     7.723623    \n",
       "3 5.981099     9.142315     7.678386    \n",
       "4 6.071177     8.226703     7.646915    "
      ]
     },
     "metadata": {},
     "output_type": "display_data"
    }
   ],
   "source": [
    "head(df)"
   ]
  },
  {
   "cell_type": "code",
   "execution_count": 23,
   "id": "af245327",
   "metadata": {
    "pycharm": {
     "name": "#%%\n"
    }
   },
   "outputs": [],
   "source": [
    "rownames(df) <- df$X"
   ]
  },
  {
   "cell_type": "code",
   "execution_count": 24,
   "id": "dce1587d",
   "metadata": {
    "pycharm": {
     "name": "#%%\n"
    }
   },
   "outputs": [],
   "source": [
    "df <- df[,2:ncol(df)]"
   ]
  },
  {
   "cell_type": "code",
   "execution_count": 25,
   "id": "6f6b0db5",
   "metadata": {
    "pycharm": {
     "name": "#%%\n"
    }
   },
   "outputs": [
    {
     "name": "stderr",
     "output_type": "stream",
     "text": [
      "Caricamento del pacchetto richiesto: org.Hs.eg.db\n",
      "\n",
      "\n",
      "\n",
      "\n",
      "\n"
     ]
    }
   ],
   "source": [
    "library(illuminaHumanv2.db)\n",
    "# Get gene symbol\n",
    "x <- illuminaHumanv2SYMBOL\n",
    "# Get the probe identifiers that are mapped to a gene name\n",
    "mapped_probes <- mappedkeys(x)\n",
    "# Convert to a list\n",
    "xx <- as.list(x[mapped_probes])"
   ]
  },
  {
   "cell_type": "code",
   "execution_count": 26,
   "id": "0fcd91ae",
   "metadata": {
    "pycharm": {
     "name": "#%%\n"
    }
   },
   "outputs": [],
   "source": [
    "# Transform matrix in a table\n",
    "ref_gene <- do.call(rbind, xx)\n",
    "ref_gene <- as.data.frame(ref_gene)\n",
    "# Add column to get a reference between old and new gene\n",
    "ref_gene$old_gene <- rownames(ref_gene)\n",
    "colnames(ref_gene) <- c(\"new_gene\", \"old_gene\")"
   ]
  },
  {
   "cell_type": "code",
   "execution_count": 27,
   "id": "2657c8bd",
   "metadata": {
    "pycharm": {
     "name": "#%%\n"
    }
   },
   "outputs": [
    {
     "data": {
      "text/html": [
       "<table class=\"dataframe\">\n",
       "<caption>A data.frame: 6 × 2</caption>\n",
       "<thead>\n",
       "\t<tr><th></th><th scope=col>new_gene</th><th scope=col>old_gene</th></tr>\n",
       "\t<tr><th></th><th scope=col>&lt;chr&gt;</th><th scope=col>&lt;chr&gt;</th></tr>\n",
       "</thead>\n",
       "<tbody>\n",
       "\t<tr><th scope=row>ILMN_1343289</th><td>RPS9  </td><td>ILMN_1343289</td></tr>\n",
       "\t<tr><th scope=row>ILMN_1343290</th><td>UBC   </td><td>ILMN_1343290</td></tr>\n",
       "\t<tr><th scope=row>ILMN_1343291</th><td>EEF1A1</td><td>ILMN_1343291</td></tr>\n",
       "\t<tr><th scope=row>ILMN_1343292</th><td>TUBB2A</td><td>ILMN_1343292</td></tr>\n",
       "\t<tr><th scope=row>ILMN_1343293</th><td>TXN   </td><td>ILMN_1343293</td></tr>\n",
       "\t<tr><th scope=row>ILMN_1343294</th><td>ACTB  </td><td>ILMN_1343294</td></tr>\n",
       "</tbody>\n",
       "</table>\n"
      ],
      "text/latex": [
       "A data.frame: 6 × 2\n",
       "\\begin{tabular}{r|ll}\n",
       "  & new\\_gene & old\\_gene\\\\\n",
       "  & <chr> & <chr>\\\\\n",
       "\\hline\n",
       "\tILMN\\_1343289 & RPS9   & ILMN\\_1343289\\\\\n",
       "\tILMN\\_1343290 & UBC    & ILMN\\_1343290\\\\\n",
       "\tILMN\\_1343291 & EEF1A1 & ILMN\\_1343291\\\\\n",
       "\tILMN\\_1343292 & TUBB2A & ILMN\\_1343292\\\\\n",
       "\tILMN\\_1343293 & TXN    & ILMN\\_1343293\\\\\n",
       "\tILMN\\_1343294 & ACTB   & ILMN\\_1343294\\\\\n",
       "\\end{tabular}\n"
      ],
      "text/markdown": [
       "\n",
       "A data.frame: 6 × 2\n",
       "\n",
       "| <!--/--> | new_gene &lt;chr&gt; | old_gene &lt;chr&gt; |\n",
       "|---|---|---|\n",
       "| ILMN_1343289 | RPS9   | ILMN_1343289 |\n",
       "| ILMN_1343290 | UBC    | ILMN_1343290 |\n",
       "| ILMN_1343291 | EEF1A1 | ILMN_1343291 |\n",
       "| ILMN_1343292 | TUBB2A | ILMN_1343292 |\n",
       "| ILMN_1343293 | TXN    | ILMN_1343293 |\n",
       "| ILMN_1343294 | ACTB   | ILMN_1343294 |\n",
       "\n"
      ],
      "text/plain": [
       "             new_gene old_gene    \n",
       "ILMN_1343289 RPS9     ILMN_1343289\n",
       "ILMN_1343290 UBC      ILMN_1343290\n",
       "ILMN_1343291 EEF1A1   ILMN_1343291\n",
       "ILMN_1343292 TUBB2A   ILMN_1343292\n",
       "ILMN_1343293 TXN      ILMN_1343293\n",
       "ILMN_1343294 ACTB     ILMN_1343294"
      ]
     },
     "metadata": {},
     "output_type": "display_data"
    }
   ],
   "source": [
    "head(ref_gene)"
   ]
  },
  {
   "cell_type": "code",
   "execution_count": 28,
   "id": "0f94043b",
   "metadata": {
    "pycharm": {
     "name": "#%%\n"
    }
   },
   "outputs": [],
   "source": [
    "# Make smaller table to speedup the translation\n",
    "ref_gene_df <- data.frame(colnames(df))\n",
    "colnames(ref_gene_df) <- c(\"old_gene\")\n",
    "ref_gene <- merge(x=ref_gene, y=ref_gene_df, by=\"old_gene\")"
   ]
  },
  {
   "cell_type": "code",
   "execution_count": 29,
   "id": "d4e2bccf",
   "metadata": {
    "pycharm": {
     "name": "#%%\n"
    }
   },
   "outputs": [],
   "source": [
    "# Get Gene Symbol from platform columns\n",
    "new_col <- c()\n",
    "for (i in colnames(df)) {\n",
    "    new_col <- append(new_col, ref_gene[ref_gene$old_gene == i, 'new_gene'])\n",
    "}"
   ]
  },
  {
   "cell_type": "code",
   "execution_count": 30,
   "id": "f5e7d74c",
   "metadata": {
    "pycharm": {
     "name": "#%%\n"
    }
   },
   "outputs": [],
   "source": [
    "colnames(df) <- new_col"
   ]
  },
  {
   "cell_type": "code",
   "execution_count": 32,
   "id": "cf9efcaa",
   "metadata": {
    "pycharm": {
     "name": "#%%\n"
    }
   },
   "outputs": [],
   "source": [
    "# Remove NA\n",
    "df <- df[, colSums(is.na(df)) == 0]\n",
    "# Remove columns with all 0s\n",
    "df <- df[, colSums(df) > 0]\n",
    "# Remove columns without gene symbol\n",
    "df <- df[,nzchar(colnames(df))]\n",
    "# Remove double names genes (GENE1 /// GENE2)\n",
    "colnames(df) <- gsub(\" ///.*\", \"\", colnames(df))\n",
    "# Make all columns uppercase\n",
    "colnames(df) <- toupper(colnames(df))"
   ]
  },
  {
   "cell_type": "code",
   "execution_count": 33,
   "id": "ca5670cb",
   "metadata": {
    "pycharm": {
     "name": "#%%\n"
    }
   },
   "outputs": [],
   "source": [
    "# Remove columns which start by \"NA\" because they didn't refer to any gene\n",
    "null_columns <- grep(\"NA.\", colnames(df))\n",
    "df <- df[,-null_columns]"
   ]
  },
  {
   "cell_type": "code",
   "execution_count": 34,
   "id": "3f972cdc",
   "metadata": {
    "pycharm": {
     "name": "#%%\n"
    }
   },
   "outputs": [
    {
     "data": {
      "text/html": [
       "<table class=\"dataframe\">\n",
       "<caption>A data.frame: 4 × 20361</caption>\n",
       "<thead>\n",
       "\t<tr><th></th><th scope=col>SLC35E2A</th><th scope=col>PDCD1LG2</th><th scope=col>RPS28</th><th scope=col>IPO13</th><th scope=col>SYT14</th><th scope=col>AFAP1</th><th scope=col>CDT1</th><th scope=col>TRPV1</th><th scope=col>LPP</th><th scope=col>UGP2</th><th scope=col>⋯</th><th scope=col>IL12RB1.2</th><th scope=col>GYPE.2</th><th scope=col>MIEF2.1</th><th scope=col>NUP107</th><th scope=col>MRM2</th><th scope=col>TMEM184A</th><th scope=col>TRPM3.1</th><th scope=col>SMAD7</th><th scope=col>PCYOX1L</th><th scope=col>NA</th></tr>\n",
       "\t<tr><th></th><th scope=col>&lt;dbl&gt;</th><th scope=col>&lt;dbl&gt;</th><th scope=col>&lt;dbl&gt;</th><th scope=col>&lt;dbl&gt;</th><th scope=col>&lt;dbl&gt;</th><th scope=col>&lt;dbl&gt;</th><th scope=col>&lt;dbl&gt;</th><th scope=col>&lt;dbl&gt;</th><th scope=col>&lt;dbl&gt;</th><th scope=col>&lt;dbl&gt;</th><th scope=col>⋯</th><th scope=col>&lt;dbl&gt;</th><th scope=col>&lt;dbl&gt;</th><th scope=col>&lt;dbl&gt;</th><th scope=col>&lt;dbl&gt;</th><th scope=col>&lt;dbl&gt;</th><th scope=col>&lt;dbl&gt;</th><th scope=col>&lt;dbl&gt;</th><th scope=col>&lt;dbl&gt;</th><th scope=col>&lt;dbl&gt;</th><th scope=col>&lt;dbl&gt;</th></tr>\n",
       "</thead>\n",
       "<tbody>\n",
       "\t<tr><th scope=row>GSM753551</th><td>6.441433</td><td>6.292399</td><td>13.43724</td><td>7.988214</td><td>5.696954</td><td>6.035412</td><td>5.935416</td><td>6.093311</td><td>6.048240</td><td>10.88280</td><td>⋯</td><td>8.881951</td><td>5.742600</td><td>9.761695</td><td>8.399498</td><td>9.348179</td><td>5.823650</td><td>5.760643</td><td>7.008496</td><td>9.556403</td><td>5.982533</td></tr>\n",
       "\t<tr><th scope=row>GSM753552</th><td>6.501252</td><td>6.199564</td><td>13.87455</td><td>7.613662</td><td>5.792640</td><td>6.021823</td><td>6.047903</td><td>5.857664</td><td>5.942314</td><td>10.77981</td><td>⋯</td><td>8.888432</td><td>5.680141</td><td>9.329160</td><td>8.636070</td><td>9.081144</td><td>5.635906</td><td>5.774344</td><td>6.962168</td><td>9.510372</td><td>6.045377</td></tr>\n",
       "\t<tr><th scope=row>GSM753553</th><td>6.217822</td><td>5.942144</td><td>13.99501</td><td>7.578761</td><td>5.724316</td><td>6.011809</td><td>5.936246</td><td>5.877185</td><td>5.807121</td><td>10.93185</td><td>⋯</td><td>8.667122</td><td>5.818894</td><td>9.580230</td><td>8.689073</td><td>8.937797</td><td>5.602713</td><td>5.672968</td><td>6.705277</td><td>9.727296</td><td>6.013081</td></tr>\n",
       "\t<tr><th scope=row>GSM753554</th><td>6.100076</td><td>6.019551</td><td>13.84246</td><td>7.689085</td><td>5.762888</td><td>6.097306</td><td>6.033793</td><td>5.800126</td><td>5.942409</td><td>10.80619</td><td>⋯</td><td>8.609744</td><td>5.759345</td><td>9.962157</td><td>8.409808</td><td>9.151297</td><td>5.802742</td><td>5.707643</td><td>6.989262</td><td>9.684138</td><td>6.185584</td></tr>\n",
       "</tbody>\n",
       "</table>\n"
      ],
      "text/latex": [
       "A data.frame: 4 × 20361\n",
       "\\begin{tabular}{r|lllllllllllllllllllll}\n",
       "  & SLC35E2A & PDCD1LG2 & RPS28 & IPO13 & SYT14 & AFAP1 & CDT1 & TRPV1 & LPP & UGP2 & ⋯ & IL12RB1.2 & GYPE.2 & MIEF2.1 & NUP107 & MRM2 & TMEM184A & TRPM3.1 & SMAD7 & PCYOX1L & NA\\\\\n",
       "  & <dbl> & <dbl> & <dbl> & <dbl> & <dbl> & <dbl> & <dbl> & <dbl> & <dbl> & <dbl> & ⋯ & <dbl> & <dbl> & <dbl> & <dbl> & <dbl> & <dbl> & <dbl> & <dbl> & <dbl> & <dbl>\\\\\n",
       "\\hline\n",
       "\tGSM753551 & 6.441433 & 6.292399 & 13.43724 & 7.988214 & 5.696954 & 6.035412 & 5.935416 & 6.093311 & 6.048240 & 10.88280 & ⋯ & 8.881951 & 5.742600 & 9.761695 & 8.399498 & 9.348179 & 5.823650 & 5.760643 & 7.008496 & 9.556403 & 5.982533\\\\\n",
       "\tGSM753552 & 6.501252 & 6.199564 & 13.87455 & 7.613662 & 5.792640 & 6.021823 & 6.047903 & 5.857664 & 5.942314 & 10.77981 & ⋯ & 8.888432 & 5.680141 & 9.329160 & 8.636070 & 9.081144 & 5.635906 & 5.774344 & 6.962168 & 9.510372 & 6.045377\\\\\n",
       "\tGSM753553 & 6.217822 & 5.942144 & 13.99501 & 7.578761 & 5.724316 & 6.011809 & 5.936246 & 5.877185 & 5.807121 & 10.93185 & ⋯ & 8.667122 & 5.818894 & 9.580230 & 8.689073 & 8.937797 & 5.602713 & 5.672968 & 6.705277 & 9.727296 & 6.013081\\\\\n",
       "\tGSM753554 & 6.100076 & 6.019551 & 13.84246 & 7.689085 & 5.762888 & 6.097306 & 6.033793 & 5.800126 & 5.942409 & 10.80619 & ⋯ & 8.609744 & 5.759345 & 9.962157 & 8.409808 & 9.151297 & 5.802742 & 5.707643 & 6.989262 & 9.684138 & 6.185584\\\\\n",
       "\\end{tabular}\n"
      ],
      "text/markdown": [
       "\n",
       "A data.frame: 4 × 20361\n",
       "\n",
       "| <!--/--> | SLC35E2A &lt;dbl&gt; | PDCD1LG2 &lt;dbl&gt; | RPS28 &lt;dbl&gt; | IPO13 &lt;dbl&gt; | SYT14 &lt;dbl&gt; | AFAP1 &lt;dbl&gt; | CDT1 &lt;dbl&gt; | TRPV1 &lt;dbl&gt; | LPP &lt;dbl&gt; | UGP2 &lt;dbl&gt; | ⋯ ⋯ | IL12RB1.2 &lt;dbl&gt; | GYPE.2 &lt;dbl&gt; | MIEF2.1 &lt;dbl&gt; | NUP107 &lt;dbl&gt; | MRM2 &lt;dbl&gt; | TMEM184A &lt;dbl&gt; | TRPM3.1 &lt;dbl&gt; | SMAD7 &lt;dbl&gt; | PCYOX1L &lt;dbl&gt; | NA &lt;dbl&gt; |\n",
       "|---|---|---|---|---|---|---|---|---|---|---|---|---|---|---|---|---|---|---|---|---|---|\n",
       "| GSM753551 | 6.441433 | 6.292399 | 13.43724 | 7.988214 | 5.696954 | 6.035412 | 5.935416 | 6.093311 | 6.048240 | 10.88280 | ⋯ | 8.881951 | 5.742600 | 9.761695 | 8.399498 | 9.348179 | 5.823650 | 5.760643 | 7.008496 | 9.556403 | 5.982533 |\n",
       "| GSM753552 | 6.501252 | 6.199564 | 13.87455 | 7.613662 | 5.792640 | 6.021823 | 6.047903 | 5.857664 | 5.942314 | 10.77981 | ⋯ | 8.888432 | 5.680141 | 9.329160 | 8.636070 | 9.081144 | 5.635906 | 5.774344 | 6.962168 | 9.510372 | 6.045377 |\n",
       "| GSM753553 | 6.217822 | 5.942144 | 13.99501 | 7.578761 | 5.724316 | 6.011809 | 5.936246 | 5.877185 | 5.807121 | 10.93185 | ⋯ | 8.667122 | 5.818894 | 9.580230 | 8.689073 | 8.937797 | 5.602713 | 5.672968 | 6.705277 | 9.727296 | 6.013081 |\n",
       "| GSM753554 | 6.100076 | 6.019551 | 13.84246 | 7.689085 | 5.762888 | 6.097306 | 6.033793 | 5.800126 | 5.942409 | 10.80619 | ⋯ | 8.609744 | 5.759345 | 9.962157 | 8.409808 | 9.151297 | 5.802742 | 5.707643 | 6.989262 | 9.684138 | 6.185584 |\n",
       "\n"
      ],
      "text/plain": [
       "          SLC35E2A PDCD1LG2 RPS28    IPO13    SYT14    AFAP1    CDT1    \n",
       "GSM753551 6.441433 6.292399 13.43724 7.988214 5.696954 6.035412 5.935416\n",
       "GSM753552 6.501252 6.199564 13.87455 7.613662 5.792640 6.021823 6.047903\n",
       "GSM753553 6.217822 5.942144 13.99501 7.578761 5.724316 6.011809 5.936246\n",
       "GSM753554 6.100076 6.019551 13.84246 7.689085 5.762888 6.097306 6.033793\n",
       "          TRPV1    LPP      UGP2     ⋯ IL12RB1.2 GYPE.2   MIEF2.1  NUP107  \n",
       "GSM753551 6.093311 6.048240 10.88280 ⋯ 8.881951  5.742600 9.761695 8.399498\n",
       "GSM753552 5.857664 5.942314 10.77981 ⋯ 8.888432  5.680141 9.329160 8.636070\n",
       "GSM753553 5.877185 5.807121 10.93185 ⋯ 8.667122  5.818894 9.580230 8.689073\n",
       "GSM753554 5.800126 5.942409 10.80619 ⋯ 8.609744  5.759345 9.962157 8.409808\n",
       "          MRM2     TMEM184A TRPM3.1  SMAD7    PCYOX1L  <NA>    \n",
       "GSM753551 9.348179 5.823650 5.760643 7.008496 9.556403 5.982533\n",
       "GSM753552 9.081144 5.635906 5.774344 6.962168 9.510372 6.045377\n",
       "GSM753553 8.937797 5.602713 5.672968 6.705277 9.727296 6.013081\n",
       "GSM753554 9.151297 5.802742 5.707643 6.989262 9.684138 6.185584"
      ]
     },
     "metadata": {},
     "output_type": "display_data"
    }
   ],
   "source": [
    "head(df)"
   ]
  },
  {
   "cell_type": "code",
   "execution_count": 35,
   "id": "8ec55881",
   "metadata": {
    "pycharm": {
     "name": "#%%\n"
    }
   },
   "outputs": [],
   "source": [
    "write.table(df, file=paste(dataPath, csv_name, sep=\"\"), sep=\",\")"
   ]
  },
  {
   "cell_type": "markdown",
   "id": "531bebbc",
   "metadata": {
    "pycharm": {
     "name": "#%% md\n"
    }
   },
   "source": [
    "# NCL 3"
   ]
  },
  {
   "cell_type": "code",
   "execution_count": 73,
   "id": "00e648f9",
   "metadata": {
    "pycharm": {
     "name": "#%%\n"
    }
   },
   "outputs": [],
   "source": [
    "csv_name = 'eGSE22225m.csv'"
   ]
  },
  {
   "cell_type": "code",
   "execution_count": 76,
   "id": "01e713a0",
   "metadata": {
    "pycharm": {
     "name": "#%%\n"
    }
   },
   "outputs": [],
   "source": [
    "df <- read.csv(file=paste(dataPath, csv_name, sep=\"\"), sep=\"\", header=TRUE)"
   ]
  },
  {
   "cell_type": "code",
   "execution_count": 81,
   "id": "229c687d",
   "metadata": {
    "scrolled": false,
    "pycharm": {
     "name": "#%%\n"
    }
   },
   "outputs": [
    {
     "data": {
      "text/html": [
       "<table class=\"dataframe\">\n",
       "<caption>A data.frame: 6 × 54675</caption>\n",
       "<thead>\n",
       "\t<tr><th></th><th scope=col>1007_s_at</th><th scope=col>1053_at</th><th scope=col>117_at</th><th scope=col>121_at</th><th scope=col>1255_g_at</th><th scope=col>1294_at</th><th scope=col>1316_at</th><th scope=col>1320_at</th><th scope=col>1405_i_at</th><th scope=col>1431_at</th><th scope=col>⋯</th><th scope=col>AFFX.r2.Ec.bioD.3_at</th><th scope=col>AFFX.r2.Ec.bioD.5_at</th><th scope=col>AFFX.r2.P1.cre.3_at</th><th scope=col>AFFX.r2.P1.cre.5_at</th><th scope=col>AFFX.ThrX.3_at</th><th scope=col>AFFX.ThrX.5_at</th><th scope=col>AFFX.ThrX.M_at</th><th scope=col>AFFX.TrpnX.3_at</th><th scope=col>AFFX.TrpnX.5_at</th><th scope=col>AFFX.TrpnX.M_at</th></tr>\n",
       "\t<tr><th></th><th scope=col>&lt;dbl&gt;</th><th scope=col>&lt;dbl&gt;</th><th scope=col>&lt;dbl&gt;</th><th scope=col>&lt;dbl&gt;</th><th scope=col>&lt;dbl&gt;</th><th scope=col>&lt;dbl&gt;</th><th scope=col>&lt;dbl&gt;</th><th scope=col>&lt;dbl&gt;</th><th scope=col>&lt;dbl&gt;</th><th scope=col>&lt;dbl&gt;</th><th scope=col>⋯</th><th scope=col>&lt;dbl&gt;</th><th scope=col>&lt;dbl&gt;</th><th scope=col>&lt;dbl&gt;</th><th scope=col>&lt;dbl&gt;</th><th scope=col>&lt;dbl&gt;</th><th scope=col>&lt;dbl&gt;</th><th scope=col>&lt;dbl&gt;</th><th scope=col>&lt;dbl&gt;</th><th scope=col>&lt;dbl&gt;</th><th scope=col>&lt;dbl&gt;</th></tr>\n",
       "</thead>\n",
       "<tbody>\n",
       "\t<tr><th scope=row>GSM553488</th><td>402.316</td><td> 49.9719</td><td>316.742</td><td>137.057</td><td>2.00192</td><td>2382.58</td><td>56.0270</td><td>1.74040</td><td>12702.10</td><td>14.1855</td><td>⋯</td><td>6595.42</td><td>5951.66</td><td>18369.3</td><td>14085.9</td><td>1.40761</td><td>2.78140</td><td>11.393000</td><td>0.781948</td><td> 1.42560</td><td>1.057220</td></tr>\n",
       "\t<tr><th scope=row>GSM553489</th><td>280.852</td><td>141.7080</td><td>229.717</td><td>198.294</td><td>3.80613</td><td>1782.65</td><td>38.5179</td><td>3.17614</td><td>12908.10</td><td>18.7509</td><td>⋯</td><td>6258.48</td><td>5641.96</td><td>17875.1</td><td>13297.1</td><td>4.35850</td><td>1.11712</td><td> 1.255180</td><td>1.758010</td><td> 2.75364</td><td>2.113560</td></tr>\n",
       "\t<tr><th scope=row>GSM553490</th><td>233.065</td><td> 55.2751</td><td>237.900</td><td>176.998</td><td>5.74062</td><td>2029.92</td><td>41.4362</td><td>1.90828</td><td>12115.70</td><td>22.6535</td><td>⋯</td><td>6325.02</td><td>5557.57</td><td>17395.3</td><td>13134.4</td><td>1.62565</td><td>2.22278</td><td> 3.416090</td><td>2.437500</td><td>18.24970</td><td>6.341010</td></tr>\n",
       "\t<tr><th scope=row>GSM553491</th><td>322.712</td><td>121.6030</td><td>133.198</td><td>111.450</td><td>2.03515</td><td>1474.99</td><td>20.6418</td><td>3.62619</td><td> 6868.38</td><td>20.2586</td><td>⋯</td><td>4393.02</td><td>4077.11</td><td>15164.8</td><td>10507.1</td><td>1.49038</td><td>2.48639</td><td> 0.618481</td><td>6.497000</td><td> 3.27684</td><td>3.018970</td></tr>\n",
       "\t<tr><th scope=row>GSM553492</th><td>356.386</td><td>100.0110</td><td>426.484</td><td>124.452</td><td>8.60303</td><td>2433.58</td><td>29.9426</td><td>1.41034</td><td> 8207.56</td><td>34.2108</td><td>⋯</td><td>5734.50</td><td>4934.68</td><td>14623.1</td><td>11621.4</td><td>2.27668</td><td>1.78621</td><td> 2.180720</td><td>6.339210</td><td> 9.84354</td><td>0.959524</td></tr>\n",
       "\t<tr><th scope=row>GSM553493</th><td>399.190</td><td> 81.0371</td><td>240.577</td><td>152.464</td><td>1.49584</td><td>2591.47</td><td>66.9889</td><td>4.67163</td><td> 8641.03</td><td>24.9140</td><td>⋯</td><td>5856.73</td><td>4993.38</td><td>15664.8</td><td>12378.0</td><td>1.71180</td><td>2.77251</td><td> 0.641685</td><td>0.920228</td><td> 6.35599</td><td>2.201160</td></tr>\n",
       "</tbody>\n",
       "</table>\n"
      ],
      "text/latex": [
       "A data.frame: 6 × 54675\n",
       "\\begin{tabular}{r|lllllllllllllllllllll}\n",
       "  & 1007\\_s\\_at & 1053\\_at & 117\\_at & 121\\_at & 1255\\_g\\_at & 1294\\_at & 1316\\_at & 1320\\_at & 1405\\_i\\_at & 1431\\_at & ⋯ & AFFX.r2.Ec.bioD.3\\_at & AFFX.r2.Ec.bioD.5\\_at & AFFX.r2.P1.cre.3\\_at & AFFX.r2.P1.cre.5\\_at & AFFX.ThrX.3\\_at & AFFX.ThrX.5\\_at & AFFX.ThrX.M\\_at & AFFX.TrpnX.3\\_at & AFFX.TrpnX.5\\_at & AFFX.TrpnX.M\\_at\\\\\n",
       "  & <dbl> & <dbl> & <dbl> & <dbl> & <dbl> & <dbl> & <dbl> & <dbl> & <dbl> & <dbl> & ⋯ & <dbl> & <dbl> & <dbl> & <dbl> & <dbl> & <dbl> & <dbl> & <dbl> & <dbl> & <dbl>\\\\\n",
       "\\hline\n",
       "\tGSM553488 & 402.316 &  49.9719 & 316.742 & 137.057 & 2.00192 & 2382.58 & 56.0270 & 1.74040 & 12702.10 & 14.1855 & ⋯ & 6595.42 & 5951.66 & 18369.3 & 14085.9 & 1.40761 & 2.78140 & 11.393000 & 0.781948 &  1.42560 & 1.057220\\\\\n",
       "\tGSM553489 & 280.852 & 141.7080 & 229.717 & 198.294 & 3.80613 & 1782.65 & 38.5179 & 3.17614 & 12908.10 & 18.7509 & ⋯ & 6258.48 & 5641.96 & 17875.1 & 13297.1 & 4.35850 & 1.11712 &  1.255180 & 1.758010 &  2.75364 & 2.113560\\\\\n",
       "\tGSM553490 & 233.065 &  55.2751 & 237.900 & 176.998 & 5.74062 & 2029.92 & 41.4362 & 1.90828 & 12115.70 & 22.6535 & ⋯ & 6325.02 & 5557.57 & 17395.3 & 13134.4 & 1.62565 & 2.22278 &  3.416090 & 2.437500 & 18.24970 & 6.341010\\\\\n",
       "\tGSM553491 & 322.712 & 121.6030 & 133.198 & 111.450 & 2.03515 & 1474.99 & 20.6418 & 3.62619 &  6868.38 & 20.2586 & ⋯ & 4393.02 & 4077.11 & 15164.8 & 10507.1 & 1.49038 & 2.48639 &  0.618481 & 6.497000 &  3.27684 & 3.018970\\\\\n",
       "\tGSM553492 & 356.386 & 100.0110 & 426.484 & 124.452 & 8.60303 & 2433.58 & 29.9426 & 1.41034 &  8207.56 & 34.2108 & ⋯ & 5734.50 & 4934.68 & 14623.1 & 11621.4 & 2.27668 & 1.78621 &  2.180720 & 6.339210 &  9.84354 & 0.959524\\\\\n",
       "\tGSM553493 & 399.190 &  81.0371 & 240.577 & 152.464 & 1.49584 & 2591.47 & 66.9889 & 4.67163 &  8641.03 & 24.9140 & ⋯ & 5856.73 & 4993.38 & 15664.8 & 12378.0 & 1.71180 & 2.77251 &  0.641685 & 0.920228 &  6.35599 & 2.201160\\\\\n",
       "\\end{tabular}\n"
      ],
      "text/markdown": [
       "\n",
       "A data.frame: 6 × 54675\n",
       "\n",
       "| <!--/--> | 1007_s_at &lt;dbl&gt; | 1053_at &lt;dbl&gt; | 117_at &lt;dbl&gt; | 121_at &lt;dbl&gt; | 1255_g_at &lt;dbl&gt; | 1294_at &lt;dbl&gt; | 1316_at &lt;dbl&gt; | 1320_at &lt;dbl&gt; | 1405_i_at &lt;dbl&gt; | 1431_at &lt;dbl&gt; | ⋯ ⋯ | AFFX.r2.Ec.bioD.3_at &lt;dbl&gt; | AFFX.r2.Ec.bioD.5_at &lt;dbl&gt; | AFFX.r2.P1.cre.3_at &lt;dbl&gt; | AFFX.r2.P1.cre.5_at &lt;dbl&gt; | AFFX.ThrX.3_at &lt;dbl&gt; | AFFX.ThrX.5_at &lt;dbl&gt; | AFFX.ThrX.M_at &lt;dbl&gt; | AFFX.TrpnX.3_at &lt;dbl&gt; | AFFX.TrpnX.5_at &lt;dbl&gt; | AFFX.TrpnX.M_at &lt;dbl&gt; |\n",
       "|---|---|---|---|---|---|---|---|---|---|---|---|---|---|---|---|---|---|---|---|---|---|\n",
       "| GSM553488 | 402.316 |  49.9719 | 316.742 | 137.057 | 2.00192 | 2382.58 | 56.0270 | 1.74040 | 12702.10 | 14.1855 | ⋯ | 6595.42 | 5951.66 | 18369.3 | 14085.9 | 1.40761 | 2.78140 | 11.393000 | 0.781948 |  1.42560 | 1.057220 |\n",
       "| GSM553489 | 280.852 | 141.7080 | 229.717 | 198.294 | 3.80613 | 1782.65 | 38.5179 | 3.17614 | 12908.10 | 18.7509 | ⋯ | 6258.48 | 5641.96 | 17875.1 | 13297.1 | 4.35850 | 1.11712 |  1.255180 | 1.758010 |  2.75364 | 2.113560 |\n",
       "| GSM553490 | 233.065 |  55.2751 | 237.900 | 176.998 | 5.74062 | 2029.92 | 41.4362 | 1.90828 | 12115.70 | 22.6535 | ⋯ | 6325.02 | 5557.57 | 17395.3 | 13134.4 | 1.62565 | 2.22278 |  3.416090 | 2.437500 | 18.24970 | 6.341010 |\n",
       "| GSM553491 | 322.712 | 121.6030 | 133.198 | 111.450 | 2.03515 | 1474.99 | 20.6418 | 3.62619 |  6868.38 | 20.2586 | ⋯ | 4393.02 | 4077.11 | 15164.8 | 10507.1 | 1.49038 | 2.48639 |  0.618481 | 6.497000 |  3.27684 | 3.018970 |\n",
       "| GSM553492 | 356.386 | 100.0110 | 426.484 | 124.452 | 8.60303 | 2433.58 | 29.9426 | 1.41034 |  8207.56 | 34.2108 | ⋯ | 5734.50 | 4934.68 | 14623.1 | 11621.4 | 2.27668 | 1.78621 |  2.180720 | 6.339210 |  9.84354 | 0.959524 |\n",
       "| GSM553493 | 399.190 |  81.0371 | 240.577 | 152.464 | 1.49584 | 2591.47 | 66.9889 | 4.67163 |  8641.03 | 24.9140 | ⋯ | 5856.73 | 4993.38 | 15664.8 | 12378.0 | 1.71180 | 2.77251 |  0.641685 | 0.920228 |  6.35599 | 2.201160 |\n",
       "\n"
      ],
      "text/plain": [
       "          1007_s_at 1053_at  117_at  121_at  1255_g_at 1294_at 1316_at 1320_at\n",
       "GSM553488 402.316    49.9719 316.742 137.057 2.00192   2382.58 56.0270 1.74040\n",
       "GSM553489 280.852   141.7080 229.717 198.294 3.80613   1782.65 38.5179 3.17614\n",
       "GSM553490 233.065    55.2751 237.900 176.998 5.74062   2029.92 41.4362 1.90828\n",
       "GSM553491 322.712   121.6030 133.198 111.450 2.03515   1474.99 20.6418 3.62619\n",
       "GSM553492 356.386   100.0110 426.484 124.452 8.60303   2433.58 29.9426 1.41034\n",
       "GSM553493 399.190    81.0371 240.577 152.464 1.49584   2591.47 66.9889 4.67163\n",
       "          1405_i_at 1431_at ⋯ AFFX.r2.Ec.bioD.3_at AFFX.r2.Ec.bioD.5_at\n",
       "GSM553488 12702.10  14.1855 ⋯ 6595.42              5951.66             \n",
       "GSM553489 12908.10  18.7509 ⋯ 6258.48              5641.96             \n",
       "GSM553490 12115.70  22.6535 ⋯ 6325.02              5557.57             \n",
       "GSM553491  6868.38  20.2586 ⋯ 4393.02              4077.11             \n",
       "GSM553492  8207.56  34.2108 ⋯ 5734.50              4934.68             \n",
       "GSM553493  8641.03  24.9140 ⋯ 5856.73              4993.38             \n",
       "          AFFX.r2.P1.cre.3_at AFFX.r2.P1.cre.5_at AFFX.ThrX.3_at AFFX.ThrX.5_at\n",
       "GSM553488 18369.3             14085.9             1.40761        2.78140       \n",
       "GSM553489 17875.1             13297.1             4.35850        1.11712       \n",
       "GSM553490 17395.3             13134.4             1.62565        2.22278       \n",
       "GSM553491 15164.8             10507.1             1.49038        2.48639       \n",
       "GSM553492 14623.1             11621.4             2.27668        1.78621       \n",
       "GSM553493 15664.8             12378.0             1.71180        2.77251       \n",
       "          AFFX.ThrX.M_at AFFX.TrpnX.3_at AFFX.TrpnX.5_at AFFX.TrpnX.M_at\n",
       "GSM553488 11.393000      0.781948         1.42560        1.057220       \n",
       "GSM553489  1.255180      1.758010         2.75364        2.113560       \n",
       "GSM553490  3.416090      2.437500        18.24970        6.341010       \n",
       "GSM553491  0.618481      6.497000         3.27684        3.018970       \n",
       "GSM553492  2.180720      6.339210         9.84354        0.959524       \n",
       "GSM553493  0.641685      0.920228         6.35599        2.201160       "
      ]
     },
     "metadata": {},
     "output_type": "display_data"
    }
   ],
   "source": [
    "head(df)"
   ]
  },
  {
   "cell_type": "code",
   "execution_count": 78,
   "id": "518bc153",
   "metadata": {
    "pycharm": {
     "name": "#%%\n"
    }
   },
   "outputs": [],
   "source": [
    "rownames(df) <- df$X"
   ]
  },
  {
   "cell_type": "code",
   "execution_count": 79,
   "id": "0f068e78",
   "metadata": {
    "pycharm": {
     "name": "#%%\n"
    }
   },
   "outputs": [],
   "source": [
    "df <- df[,2:ncol(df)]"
   ]
  },
  {
   "cell_type": "code",
   "execution_count": 80,
   "id": "a4667e9b",
   "metadata": {
    "pycharm": {
     "name": "#%%\n"
    }
   },
   "outputs": [],
   "source": [
    "colnames(df) <- sub(\"^X\", \"\", colnames(df))"
   ]
  },
  {
   "cell_type": "code",
   "execution_count": 82,
   "id": "a0c9929a",
   "metadata": {
    "pycharm": {
     "name": "#%%\n"
    }
   },
   "outputs": [],
   "source": [
    "library(hgu133plus2.db)\n",
    "# Get gene symbol\n",
    "x <- hgu133plus2SYMBOL\n",
    "# Get the probe identifiers that are mapped to a gene name\n",
    "mapped_probes <- mappedkeys(x)\n",
    "# Convert to a list\n",
    "xx <- as.list(x[mapped_probes])"
   ]
  },
  {
   "cell_type": "code",
   "execution_count": 83,
   "id": "54dcdde7",
   "metadata": {
    "pycharm": {
     "name": "#%%\n"
    }
   },
   "outputs": [],
   "source": [
    "# Transform matrix in a table\n",
    "ref_gene <- do.call(rbind, xx)\n",
    "ref_gene <- as.data.frame(ref_gene)\n",
    "# Add column to get a reference between old and new gene\n",
    "ref_gene$old_gene <- rownames(ref_gene)\n",
    "colnames(ref_gene) <- c(\"new_gene\", \"old_gene\")"
   ]
  },
  {
   "cell_type": "code",
   "execution_count": 86,
   "id": "b16d8e41",
   "metadata": {
    "scrolled": true,
    "pycharm": {
     "name": "#%%\n"
    }
   },
   "outputs": [
    {
     "data": {
      "text/html": [
       "<table class=\"dataframe\">\n",
       "<caption>A data.frame: 6 × 2</caption>\n",
       "<thead>\n",
       "\t<tr><th></th><th scope=col>old_gene</th><th scope=col>new_gene</th></tr>\n",
       "\t<tr><th></th><th scope=col>&lt;chr&gt;</th><th scope=col>&lt;chr&gt;</th></tr>\n",
       "</thead>\n",
       "<tbody>\n",
       "\t<tr><th scope=row>1</th><td>1007_s_at</td><td>DDR1  </td></tr>\n",
       "\t<tr><th scope=row>2</th><td>1053_at  </td><td>RFC2  </td></tr>\n",
       "\t<tr><th scope=row>3</th><td>117_at   </td><td>HSPA6 </td></tr>\n",
       "\t<tr><th scope=row>4</th><td>121_at   </td><td>PAX8  </td></tr>\n",
       "\t<tr><th scope=row>5</th><td>1255_g_at</td><td>GUCA1A</td></tr>\n",
       "\t<tr><th scope=row>6</th><td>1294_at  </td><td>UBA7  </td></tr>\n",
       "</tbody>\n",
       "</table>\n"
      ],
      "text/latex": [
       "A data.frame: 6 × 2\n",
       "\\begin{tabular}{r|ll}\n",
       "  & old\\_gene & new\\_gene\\\\\n",
       "  & <chr> & <chr>\\\\\n",
       "\\hline\n",
       "\t1 & 1007\\_s\\_at & DDR1  \\\\\n",
       "\t2 & 1053\\_at   & RFC2  \\\\\n",
       "\t3 & 117\\_at    & HSPA6 \\\\\n",
       "\t4 & 121\\_at    & PAX8  \\\\\n",
       "\t5 & 1255\\_g\\_at & GUCA1A\\\\\n",
       "\t6 & 1294\\_at   & UBA7  \\\\\n",
       "\\end{tabular}\n"
      ],
      "text/markdown": [
       "\n",
       "A data.frame: 6 × 2\n",
       "\n",
       "| <!--/--> | old_gene &lt;chr&gt; | new_gene &lt;chr&gt; |\n",
       "|---|---|---|\n",
       "| 1 | 1007_s_at | DDR1   |\n",
       "| 2 | 1053_at   | RFC2   |\n",
       "| 3 | 117_at    | HSPA6  |\n",
       "| 4 | 121_at    | PAX8   |\n",
       "| 5 | 1255_g_at | GUCA1A |\n",
       "| 6 | 1294_at   | UBA7   |\n",
       "\n"
      ],
      "text/plain": [
       "  old_gene  new_gene\n",
       "1 1007_s_at DDR1    \n",
       "2 1053_at   RFC2    \n",
       "3 117_at    HSPA6   \n",
       "4 121_at    PAX8    \n",
       "5 1255_g_at GUCA1A  \n",
       "6 1294_at   UBA7    "
      ]
     },
     "metadata": {},
     "output_type": "display_data"
    }
   ],
   "source": [
    "head(ref_gene)"
   ]
  },
  {
   "cell_type": "code",
   "execution_count": 85,
   "id": "64a9910f",
   "metadata": {
    "pycharm": {
     "name": "#%%\n"
    }
   },
   "outputs": [],
   "source": [
    "# Make smaller table to speedup the translation\n",
    "ref_gene_df <- data.frame(colnames(df))\n",
    "colnames(ref_gene_df) <- c(\"old_gene\")\n",
    "ref_gene <- merge(x=ref_gene, y=ref_gene_df, by=\"old_gene\")"
   ]
  },
  {
   "cell_type": "code",
   "execution_count": 87,
   "id": "3caffe94",
   "metadata": {
    "pycharm": {
     "name": "#%%\n"
    }
   },
   "outputs": [],
   "source": [
    "# Get Gene Symbol from platform columns\n",
    "new_col <- c()\n",
    "for (i in colnames(df)) {\n",
    "    new_col <- append(new_col, ref_gene[ref_gene$old_gene == i, 'new_gene'])\n",
    "}"
   ]
  },
  {
   "cell_type": "code",
   "execution_count": 88,
   "id": "2328ba63",
   "metadata": {
    "pycharm": {
     "name": "#%%\n"
    }
   },
   "outputs": [],
   "source": [
    "colnames(df) <- new_col"
   ]
  },
  {
   "cell_type": "code",
   "execution_count": 90,
   "id": "323d8ee3",
   "metadata": {
    "pycharm": {
     "name": "#%%\n"
    }
   },
   "outputs": [],
   "source": [
    "# Remove NA\n",
    "df <- df[, colSums(is.na(df)) == 0]\n",
    "# Remove columns with all 0s\n",
    "df <- df[, colSums(df) > 0]\n",
    "# Remove columns without gene symbol\n",
    "df <- df[,nzchar(colnames(df))]\n",
    "# Remove double names genes (GENE1 /// GENE2)\n",
    "colnames(df) <- gsub(\" ///.*\", \"\", colnames(df))\n",
    "# Make all columns uppercase\n",
    "colnames(df) <- toupper(colnames(df))"
   ]
  },
  {
   "cell_type": "code",
   "execution_count": 91,
   "id": "ca01a939",
   "metadata": {
    "pycharm": {
     "name": "#%%\n"
    }
   },
   "outputs": [],
   "source": [
    "# Remove columns which start by \"NA\" because they didn't refer to any gene\n",
    "null_columns <- grep(\"NA.\", colnames(df))\n",
    "df <- df[,-null_columns]"
   ]
  },
  {
   "cell_type": "code",
   "execution_count": 92,
   "id": "5b722b16",
   "metadata": {
    "pycharm": {
     "name": "#%%\n"
    }
   },
   "outputs": [
    {
     "data": {
      "text/html": [
       "<table class=\"dataframe\">\n",
       "<caption>A data.frame: 6 × 42286</caption>\n",
       "<thead>\n",
       "\t<tr><th></th><th scope=col>DDR1</th><th scope=col>RFC2</th><th scope=col>HSPA6</th><th scope=col>PAX8</th><th scope=col>GUCA1A</th><th scope=col>UBA7</th><th scope=col>THRA</th><th scope=col>PTPN21</th><th scope=col>CCL5</th><th scope=col>CYP2E1</th><th scope=col>⋯</th><th scope=col>LRTM1.1</th><th scope=col>DGCR8.3</th><th scope=col>EXOSC4.2</th><th scope=col>EXOSC4.3</th><th scope=col>EHBP1L1.3</th><th scope=col>MEX3D.2</th><th scope=col>EPS8L1.4</th><th scope=col>BCAN.2</th><th scope=col>DCAF15.3</th><th scope=col>NA</th></tr>\n",
       "\t<tr><th></th><th scope=col>&lt;dbl&gt;</th><th scope=col>&lt;dbl&gt;</th><th scope=col>&lt;dbl&gt;</th><th scope=col>&lt;dbl&gt;</th><th scope=col>&lt;dbl&gt;</th><th scope=col>&lt;dbl&gt;</th><th scope=col>&lt;dbl&gt;</th><th scope=col>&lt;dbl&gt;</th><th scope=col>&lt;dbl&gt;</th><th scope=col>&lt;dbl&gt;</th><th scope=col>⋯</th><th scope=col>&lt;dbl&gt;</th><th scope=col>&lt;dbl&gt;</th><th scope=col>&lt;dbl&gt;</th><th scope=col>&lt;dbl&gt;</th><th scope=col>&lt;dbl&gt;</th><th scope=col>&lt;dbl&gt;</th><th scope=col>&lt;dbl&gt;</th><th scope=col>&lt;dbl&gt;</th><th scope=col>&lt;dbl&gt;</th><th scope=col>&lt;dbl&gt;</th></tr>\n",
       "</thead>\n",
       "<tbody>\n",
       "\t<tr><th scope=row>GSM553488</th><td>402.316</td><td> 49.9719</td><td>316.742</td><td>137.057</td><td>2.00192</td><td>2382.58</td><td>56.0270</td><td>1.74040</td><td>12702.10</td><td>14.1855</td><td>⋯</td><td>137.7770</td><td>62.17850</td><td>  8.37484</td><td>1.220240</td><td>222.116</td><td>46.9557</td><td> 2.70320</td><td> 4.26834</td><td>12.6071</td><td>1.79327</td></tr>\n",
       "\t<tr><th scope=row>GSM553489</th><td>280.852</td><td>141.7080</td><td>229.717</td><td>198.294</td><td>3.80613</td><td>1782.65</td><td>38.5179</td><td>3.17614</td><td>12908.10</td><td>18.7509</td><td>⋯</td><td> 61.4688</td><td>22.91660</td><td> 57.17760</td><td>4.201630</td><td>133.852</td><td>50.3944</td><td> 1.43971</td><td> 9.80503</td><td>46.7709</td><td>8.04823</td></tr>\n",
       "\t<tr><th scope=row>GSM553490</th><td>233.065</td><td> 55.2751</td><td>237.900</td><td>176.998</td><td>5.74062</td><td>2029.92</td><td>41.4362</td><td>1.90828</td><td>12115.70</td><td>22.6535</td><td>⋯</td><td> 54.1747</td><td>30.97150</td><td> 38.33630</td><td>0.563291</td><td>189.800</td><td>64.4948</td><td> 3.71684</td><td>14.04010</td><td>28.2501</td><td>2.80511</td></tr>\n",
       "\t<tr><th scope=row>GSM553491</th><td>322.712</td><td>121.6030</td><td>133.198</td><td>111.450</td><td>2.03515</td><td>1474.99</td><td>20.6418</td><td>3.62619</td><td> 6868.38</td><td>20.2586</td><td>⋯</td><td> 13.6870</td><td> 2.40774</td><td>127.00000</td><td>1.735340</td><td>161.193</td><td>62.5642</td><td> 4.02385</td><td> 2.79884</td><td>33.4408</td><td>3.29151</td></tr>\n",
       "\t<tr><th scope=row>GSM553492</th><td>356.386</td><td>100.0110</td><td>426.484</td><td>124.452</td><td>8.60303</td><td>2433.58</td><td>29.9426</td><td>1.41034</td><td> 8207.56</td><td>34.2108</td><td>⋯</td><td> 24.5837</td><td>34.50810</td><td> 74.38060</td><td>2.071230</td><td>214.288</td><td>64.3161</td><td>12.08490</td><td> 2.03465</td><td>51.4488</td><td>4.69052</td></tr>\n",
       "\t<tr><th scope=row>GSM553493</th><td>399.190</td><td> 81.0371</td><td>240.577</td><td>152.464</td><td>1.49584</td><td>2591.47</td><td>66.9889</td><td>4.67163</td><td> 8641.03</td><td>24.9140</td><td>⋯</td><td> 62.3704</td><td> 9.22732</td><td> 31.22420</td><td>0.980133</td><td>169.738</td><td>47.7095</td><td> 3.23263</td><td> 7.15798</td><td>62.4847</td><td>7.55601</td></tr>\n",
       "</tbody>\n",
       "</table>\n"
      ],
      "text/latex": [
       "A data.frame: 6 × 42286\n",
       "\\begin{tabular}{r|lllllllllllllllllllll}\n",
       "  & DDR1 & RFC2 & HSPA6 & PAX8 & GUCA1A & UBA7 & THRA & PTPN21 & CCL5 & CYP2E1 & ⋯ & LRTM1.1 & DGCR8.3 & EXOSC4.2 & EXOSC4.3 & EHBP1L1.3 & MEX3D.2 & EPS8L1.4 & BCAN.2 & DCAF15.3 & NA\\\\\n",
       "  & <dbl> & <dbl> & <dbl> & <dbl> & <dbl> & <dbl> & <dbl> & <dbl> & <dbl> & <dbl> & ⋯ & <dbl> & <dbl> & <dbl> & <dbl> & <dbl> & <dbl> & <dbl> & <dbl> & <dbl> & <dbl>\\\\\n",
       "\\hline\n",
       "\tGSM553488 & 402.316 &  49.9719 & 316.742 & 137.057 & 2.00192 & 2382.58 & 56.0270 & 1.74040 & 12702.10 & 14.1855 & ⋯ & 137.7770 & 62.17850 &   8.37484 & 1.220240 & 222.116 & 46.9557 &  2.70320 &  4.26834 & 12.6071 & 1.79327\\\\\n",
       "\tGSM553489 & 280.852 & 141.7080 & 229.717 & 198.294 & 3.80613 & 1782.65 & 38.5179 & 3.17614 & 12908.10 & 18.7509 & ⋯ &  61.4688 & 22.91660 &  57.17760 & 4.201630 & 133.852 & 50.3944 &  1.43971 &  9.80503 & 46.7709 & 8.04823\\\\\n",
       "\tGSM553490 & 233.065 &  55.2751 & 237.900 & 176.998 & 5.74062 & 2029.92 & 41.4362 & 1.90828 & 12115.70 & 22.6535 & ⋯ &  54.1747 & 30.97150 &  38.33630 & 0.563291 & 189.800 & 64.4948 &  3.71684 & 14.04010 & 28.2501 & 2.80511\\\\\n",
       "\tGSM553491 & 322.712 & 121.6030 & 133.198 & 111.450 & 2.03515 & 1474.99 & 20.6418 & 3.62619 &  6868.38 & 20.2586 & ⋯ &  13.6870 &  2.40774 & 127.00000 & 1.735340 & 161.193 & 62.5642 &  4.02385 &  2.79884 & 33.4408 & 3.29151\\\\\n",
       "\tGSM553492 & 356.386 & 100.0110 & 426.484 & 124.452 & 8.60303 & 2433.58 & 29.9426 & 1.41034 &  8207.56 & 34.2108 & ⋯ &  24.5837 & 34.50810 &  74.38060 & 2.071230 & 214.288 & 64.3161 & 12.08490 &  2.03465 & 51.4488 & 4.69052\\\\\n",
       "\tGSM553493 & 399.190 &  81.0371 & 240.577 & 152.464 & 1.49584 & 2591.47 & 66.9889 & 4.67163 &  8641.03 & 24.9140 & ⋯ &  62.3704 &  9.22732 &  31.22420 & 0.980133 & 169.738 & 47.7095 &  3.23263 &  7.15798 & 62.4847 & 7.55601\\\\\n",
       "\\end{tabular}\n"
      ],
      "text/markdown": [
       "\n",
       "A data.frame: 6 × 42286\n",
       "\n",
       "| <!--/--> | DDR1 &lt;dbl&gt; | RFC2 &lt;dbl&gt; | HSPA6 &lt;dbl&gt; | PAX8 &lt;dbl&gt; | GUCA1A &lt;dbl&gt; | UBA7 &lt;dbl&gt; | THRA &lt;dbl&gt; | PTPN21 &lt;dbl&gt; | CCL5 &lt;dbl&gt; | CYP2E1 &lt;dbl&gt; | ⋯ ⋯ | LRTM1.1 &lt;dbl&gt; | DGCR8.3 &lt;dbl&gt; | EXOSC4.2 &lt;dbl&gt; | EXOSC4.3 &lt;dbl&gt; | EHBP1L1.3 &lt;dbl&gt; | MEX3D.2 &lt;dbl&gt; | EPS8L1.4 &lt;dbl&gt; | BCAN.2 &lt;dbl&gt; | DCAF15.3 &lt;dbl&gt; | NA &lt;dbl&gt; |\n",
       "|---|---|---|---|---|---|---|---|---|---|---|---|---|---|---|---|---|---|---|---|---|---|\n",
       "| GSM553488 | 402.316 |  49.9719 | 316.742 | 137.057 | 2.00192 | 2382.58 | 56.0270 | 1.74040 | 12702.10 | 14.1855 | ⋯ | 137.7770 | 62.17850 |   8.37484 | 1.220240 | 222.116 | 46.9557 |  2.70320 |  4.26834 | 12.6071 | 1.79327 |\n",
       "| GSM553489 | 280.852 | 141.7080 | 229.717 | 198.294 | 3.80613 | 1782.65 | 38.5179 | 3.17614 | 12908.10 | 18.7509 | ⋯ |  61.4688 | 22.91660 |  57.17760 | 4.201630 | 133.852 | 50.3944 |  1.43971 |  9.80503 | 46.7709 | 8.04823 |\n",
       "| GSM553490 | 233.065 |  55.2751 | 237.900 | 176.998 | 5.74062 | 2029.92 | 41.4362 | 1.90828 | 12115.70 | 22.6535 | ⋯ |  54.1747 | 30.97150 |  38.33630 | 0.563291 | 189.800 | 64.4948 |  3.71684 | 14.04010 | 28.2501 | 2.80511 |\n",
       "| GSM553491 | 322.712 | 121.6030 | 133.198 | 111.450 | 2.03515 | 1474.99 | 20.6418 | 3.62619 |  6868.38 | 20.2586 | ⋯ |  13.6870 |  2.40774 | 127.00000 | 1.735340 | 161.193 | 62.5642 |  4.02385 |  2.79884 | 33.4408 | 3.29151 |\n",
       "| GSM553492 | 356.386 | 100.0110 | 426.484 | 124.452 | 8.60303 | 2433.58 | 29.9426 | 1.41034 |  8207.56 | 34.2108 | ⋯ |  24.5837 | 34.50810 |  74.38060 | 2.071230 | 214.288 | 64.3161 | 12.08490 |  2.03465 | 51.4488 | 4.69052 |\n",
       "| GSM553493 | 399.190 |  81.0371 | 240.577 | 152.464 | 1.49584 | 2591.47 | 66.9889 | 4.67163 |  8641.03 | 24.9140 | ⋯ |  62.3704 |  9.22732 |  31.22420 | 0.980133 | 169.738 | 47.7095 |  3.23263 |  7.15798 | 62.4847 | 7.55601 |\n",
       "\n"
      ],
      "text/plain": [
       "          DDR1    RFC2     HSPA6   PAX8    GUCA1A  UBA7    THRA    PTPN21 \n",
       "GSM553488 402.316  49.9719 316.742 137.057 2.00192 2382.58 56.0270 1.74040\n",
       "GSM553489 280.852 141.7080 229.717 198.294 3.80613 1782.65 38.5179 3.17614\n",
       "GSM553490 233.065  55.2751 237.900 176.998 5.74062 2029.92 41.4362 1.90828\n",
       "GSM553491 322.712 121.6030 133.198 111.450 2.03515 1474.99 20.6418 3.62619\n",
       "GSM553492 356.386 100.0110 426.484 124.452 8.60303 2433.58 29.9426 1.41034\n",
       "GSM553493 399.190  81.0371 240.577 152.464 1.49584 2591.47 66.9889 4.67163\n",
       "          CCL5     CYP2E1  ⋯ LRTM1.1  DGCR8.3  EXOSC4.2  EXOSC4.3 EHBP1L1.3\n",
       "GSM553488 12702.10 14.1855 ⋯ 137.7770 62.17850   8.37484 1.220240 222.116  \n",
       "GSM553489 12908.10 18.7509 ⋯  61.4688 22.91660  57.17760 4.201630 133.852  \n",
       "GSM553490 12115.70 22.6535 ⋯  54.1747 30.97150  38.33630 0.563291 189.800  \n",
       "GSM553491  6868.38 20.2586 ⋯  13.6870  2.40774 127.00000 1.735340 161.193  \n",
       "GSM553492  8207.56 34.2108 ⋯  24.5837 34.50810  74.38060 2.071230 214.288  \n",
       "GSM553493  8641.03 24.9140 ⋯  62.3704  9.22732  31.22420 0.980133 169.738  \n",
       "          MEX3D.2 EPS8L1.4 BCAN.2   DCAF15.3 <NA>   \n",
       "GSM553488 46.9557  2.70320  4.26834 12.6071  1.79327\n",
       "GSM553489 50.3944  1.43971  9.80503 46.7709  8.04823\n",
       "GSM553490 64.4948  3.71684 14.04010 28.2501  2.80511\n",
       "GSM553491 62.5642  4.02385  2.79884 33.4408  3.29151\n",
       "GSM553492 64.3161 12.08490  2.03465 51.4488  4.69052\n",
       "GSM553493 47.7095  3.23263  7.15798 62.4847  7.55601"
      ]
     },
     "metadata": {},
     "output_type": "display_data"
    }
   ],
   "source": [
    "head(df)"
   ]
  },
  {
   "cell_type": "code",
   "execution_count": 93,
   "id": "f1580f7b",
   "metadata": {
    "pycharm": {
     "name": "#%%\n"
    }
   },
   "outputs": [],
   "source": [
    "write.table(df, file=paste(dataPath, csv_name, sep=\"\"), sep=\",\")"
   ]
  },
  {
   "cell_type": "markdown",
   "id": "2d2aa3c2",
   "metadata": {
    "pycharm": {
     "name": "#%% md\n"
    }
   },
   "source": [
    "# NALD 1"
   ]
  },
  {
   "cell_type": "code",
   "execution_count": 94,
   "id": "0cecf077",
   "metadata": {
    "pycharm": {
     "name": "#%%\n"
    }
   },
   "outputs": [],
   "source": [
    "csv_name = 'eGSE117647m.csv'"
   ]
  },
  {
   "cell_type": "code",
   "execution_count": 95,
   "id": "bc25262c",
   "metadata": {
    "pycharm": {
     "name": "#%%\n"
    }
   },
   "outputs": [],
   "source": [
    "df <- read.csv(file=paste(dataPath, csv_name, sep=\"\"), sep=\"\", header=TRUE)"
   ]
  },
  {
   "cell_type": "code",
   "execution_count": 100,
   "id": "20181f24",
   "metadata": {
    "scrolled": true,
    "pycharm": {
     "name": "#%%\n"
    }
   },
   "outputs": [
    {
     "data": {
      "text/html": [
       "<table class=\"dataframe\">\n",
       "<caption>A data.frame: 6 × 22283</caption>\n",
       "<thead>\n",
       "\t<tr><th></th><th scope=col>1007_s_at</th><th scope=col>1053_at</th><th scope=col>117_at</th><th scope=col>121_at</th><th scope=col>1255_g_at</th><th scope=col>1294_at</th><th scope=col>1316_at</th><th scope=col>1320_at</th><th scope=col>1405_i_at</th><th scope=col>1431_at</th><th scope=col>⋯</th><th scope=col>AFFX.r2.Hs28SrRNA.5_at</th><th scope=col>AFFX.r2.Hs28SrRNA.M_at</th><th scope=col>AFFX.r2.P1.cre.3_at</th><th scope=col>AFFX.r2.P1.cre.5_at</th><th scope=col>AFFX.ThrX.3_at</th><th scope=col>AFFX.ThrX.5_at</th><th scope=col>AFFX.ThrX.M_at</th><th scope=col>AFFX.TrpnX.3_at</th><th scope=col>AFFX.TrpnX.5_at</th><th scope=col>AFFX.TrpnX.M_at</th></tr>\n",
       "\t<tr><th></th><th scope=col>&lt;dbl&gt;</th><th scope=col>&lt;dbl&gt;</th><th scope=col>&lt;dbl&gt;</th><th scope=col>&lt;dbl&gt;</th><th scope=col>&lt;dbl&gt;</th><th scope=col>&lt;dbl&gt;</th><th scope=col>&lt;dbl&gt;</th><th scope=col>&lt;dbl&gt;</th><th scope=col>&lt;dbl&gt;</th><th scope=col>&lt;dbl&gt;</th><th scope=col>⋯</th><th scope=col>&lt;dbl&gt;</th><th scope=col>&lt;dbl&gt;</th><th scope=col>&lt;dbl&gt;</th><th scope=col>&lt;dbl&gt;</th><th scope=col>&lt;dbl&gt;</th><th scope=col>&lt;dbl&gt;</th><th scope=col>&lt;dbl&gt;</th><th scope=col>&lt;dbl&gt;</th><th scope=col>&lt;dbl&gt;</th><th scope=col>&lt;dbl&gt;</th></tr>\n",
       "</thead>\n",
       "<tbody>\n",
       "\t<tr><th scope=row>GSM3305543</th><td>10.5602</td><td>4.88739</td><td>6.37506</td><td>8.21095</td><td>3.85878</td><td>6.82803</td><td>5.80560</td><td>4.56967</td><td>3.83793</td><td>4.03723</td><td>⋯</td><td>6.17693</td><td>6.25184</td><td>12.7736</td><td>12.4525</td><td>4.80926</td><td>4.05225</td><td>3.56501</td><td>3.35627</td><td>3.73266</td><td>3.60671</td></tr>\n",
       "\t<tr><th scope=row>GSM3305544</th><td>10.4210</td><td>4.69174</td><td>6.36858</td><td>8.16335</td><td>3.90241</td><td>6.77299</td><td>5.98227</td><td>4.56041</td><td>3.89118</td><td>4.06312</td><td>⋯</td><td>5.77611</td><td>6.31226</td><td>12.7681</td><td>12.4877</td><td>4.83666</td><td>4.08639</td><td>3.51865</td><td>3.44515</td><td>3.69921</td><td>3.69556</td></tr>\n",
       "\t<tr><th scope=row>GSM3305545</th><td>10.5141</td><td>4.67749</td><td>6.36301</td><td>8.12071</td><td>3.89135</td><td>6.98857</td><td>5.82710</td><td>4.70470</td><td>3.98109</td><td>4.17354</td><td>⋯</td><td>5.59198</td><td>6.29947</td><td>12.5715</td><td>12.2950</td><td>4.85267</td><td>4.16020</td><td>3.58586</td><td>3.44989</td><td>3.79205</td><td>3.67558</td></tr>\n",
       "\t<tr><th scope=row>GSM3305546</th><td>10.3080</td><td>4.71070</td><td>6.14188</td><td>7.89710</td><td>3.78553</td><td>6.71299</td><td>5.84008</td><td>4.53418</td><td>3.85541</td><td>4.08813</td><td>⋯</td><td>6.36244</td><td>6.84612</td><td>12.7375</td><td>12.6246</td><td>4.65517</td><td>4.03839</td><td>3.44941</td><td>3.39253</td><td>3.65439</td><td>3.53906</td></tr>\n",
       "\t<tr><th scope=row>GSM3305547</th><td>10.3174</td><td>4.67528</td><td>6.41441</td><td>8.05305</td><td>3.90189</td><td>6.72251</td><td>5.87682</td><td>4.59815</td><td>3.91390</td><td>4.07607</td><td>⋯</td><td>5.45843</td><td>6.11015</td><td>12.5979</td><td>12.2991</td><td>4.83351</td><td>4.09642</td><td>3.53042</td><td>3.45339</td><td>3.72413</td><td>3.68635</td></tr>\n",
       "\t<tr><th scope=row>GSM3305548</th><td>10.3783</td><td>4.55753</td><td>6.75081</td><td>7.99613</td><td>3.88854</td><td>6.75443</td><td>5.95493</td><td>4.47163</td><td>3.86128</td><td>3.97068</td><td>⋯</td><td>6.30147</td><td>6.98928</td><td>12.6244</td><td>12.3425</td><td>4.77618</td><td>4.05246</td><td>3.53213</td><td>3.38350</td><td>3.62129</td><td>3.55534</td></tr>\n",
       "</tbody>\n",
       "</table>\n"
      ],
      "text/latex": [
       "A data.frame: 6 × 22283\n",
       "\\begin{tabular}{r|lllllllllllllllllllll}\n",
       "  & 1007\\_s\\_at & 1053\\_at & 117\\_at & 121\\_at & 1255\\_g\\_at & 1294\\_at & 1316\\_at & 1320\\_at & 1405\\_i\\_at & 1431\\_at & ⋯ & AFFX.r2.Hs28SrRNA.5\\_at & AFFX.r2.Hs28SrRNA.M\\_at & AFFX.r2.P1.cre.3\\_at & AFFX.r2.P1.cre.5\\_at & AFFX.ThrX.3\\_at & AFFX.ThrX.5\\_at & AFFX.ThrX.M\\_at & AFFX.TrpnX.3\\_at & AFFX.TrpnX.5\\_at & AFFX.TrpnX.M\\_at\\\\\n",
       "  & <dbl> & <dbl> & <dbl> & <dbl> & <dbl> & <dbl> & <dbl> & <dbl> & <dbl> & <dbl> & ⋯ & <dbl> & <dbl> & <dbl> & <dbl> & <dbl> & <dbl> & <dbl> & <dbl> & <dbl> & <dbl>\\\\\n",
       "\\hline\n",
       "\tGSM3305543 & 10.5602 & 4.88739 & 6.37506 & 8.21095 & 3.85878 & 6.82803 & 5.80560 & 4.56967 & 3.83793 & 4.03723 & ⋯ & 6.17693 & 6.25184 & 12.7736 & 12.4525 & 4.80926 & 4.05225 & 3.56501 & 3.35627 & 3.73266 & 3.60671\\\\\n",
       "\tGSM3305544 & 10.4210 & 4.69174 & 6.36858 & 8.16335 & 3.90241 & 6.77299 & 5.98227 & 4.56041 & 3.89118 & 4.06312 & ⋯ & 5.77611 & 6.31226 & 12.7681 & 12.4877 & 4.83666 & 4.08639 & 3.51865 & 3.44515 & 3.69921 & 3.69556\\\\\n",
       "\tGSM3305545 & 10.5141 & 4.67749 & 6.36301 & 8.12071 & 3.89135 & 6.98857 & 5.82710 & 4.70470 & 3.98109 & 4.17354 & ⋯ & 5.59198 & 6.29947 & 12.5715 & 12.2950 & 4.85267 & 4.16020 & 3.58586 & 3.44989 & 3.79205 & 3.67558\\\\\n",
       "\tGSM3305546 & 10.3080 & 4.71070 & 6.14188 & 7.89710 & 3.78553 & 6.71299 & 5.84008 & 4.53418 & 3.85541 & 4.08813 & ⋯ & 6.36244 & 6.84612 & 12.7375 & 12.6246 & 4.65517 & 4.03839 & 3.44941 & 3.39253 & 3.65439 & 3.53906\\\\\n",
       "\tGSM3305547 & 10.3174 & 4.67528 & 6.41441 & 8.05305 & 3.90189 & 6.72251 & 5.87682 & 4.59815 & 3.91390 & 4.07607 & ⋯ & 5.45843 & 6.11015 & 12.5979 & 12.2991 & 4.83351 & 4.09642 & 3.53042 & 3.45339 & 3.72413 & 3.68635\\\\\n",
       "\tGSM3305548 & 10.3783 & 4.55753 & 6.75081 & 7.99613 & 3.88854 & 6.75443 & 5.95493 & 4.47163 & 3.86128 & 3.97068 & ⋯ & 6.30147 & 6.98928 & 12.6244 & 12.3425 & 4.77618 & 4.05246 & 3.53213 & 3.38350 & 3.62129 & 3.55534\\\\\n",
       "\\end{tabular}\n"
      ],
      "text/markdown": [
       "\n",
       "A data.frame: 6 × 22283\n",
       "\n",
       "| <!--/--> | 1007_s_at &lt;dbl&gt; | 1053_at &lt;dbl&gt; | 117_at &lt;dbl&gt; | 121_at &lt;dbl&gt; | 1255_g_at &lt;dbl&gt; | 1294_at &lt;dbl&gt; | 1316_at &lt;dbl&gt; | 1320_at &lt;dbl&gt; | 1405_i_at &lt;dbl&gt; | 1431_at &lt;dbl&gt; | ⋯ ⋯ | AFFX.r2.Hs28SrRNA.5_at &lt;dbl&gt; | AFFX.r2.Hs28SrRNA.M_at &lt;dbl&gt; | AFFX.r2.P1.cre.3_at &lt;dbl&gt; | AFFX.r2.P1.cre.5_at &lt;dbl&gt; | AFFX.ThrX.3_at &lt;dbl&gt; | AFFX.ThrX.5_at &lt;dbl&gt; | AFFX.ThrX.M_at &lt;dbl&gt; | AFFX.TrpnX.3_at &lt;dbl&gt; | AFFX.TrpnX.5_at &lt;dbl&gt; | AFFX.TrpnX.M_at &lt;dbl&gt; |\n",
       "|---|---|---|---|---|---|---|---|---|---|---|---|---|---|---|---|---|---|---|---|---|---|\n",
       "| GSM3305543 | 10.5602 | 4.88739 | 6.37506 | 8.21095 | 3.85878 | 6.82803 | 5.80560 | 4.56967 | 3.83793 | 4.03723 | ⋯ | 6.17693 | 6.25184 | 12.7736 | 12.4525 | 4.80926 | 4.05225 | 3.56501 | 3.35627 | 3.73266 | 3.60671 |\n",
       "| GSM3305544 | 10.4210 | 4.69174 | 6.36858 | 8.16335 | 3.90241 | 6.77299 | 5.98227 | 4.56041 | 3.89118 | 4.06312 | ⋯ | 5.77611 | 6.31226 | 12.7681 | 12.4877 | 4.83666 | 4.08639 | 3.51865 | 3.44515 | 3.69921 | 3.69556 |\n",
       "| GSM3305545 | 10.5141 | 4.67749 | 6.36301 | 8.12071 | 3.89135 | 6.98857 | 5.82710 | 4.70470 | 3.98109 | 4.17354 | ⋯ | 5.59198 | 6.29947 | 12.5715 | 12.2950 | 4.85267 | 4.16020 | 3.58586 | 3.44989 | 3.79205 | 3.67558 |\n",
       "| GSM3305546 | 10.3080 | 4.71070 | 6.14188 | 7.89710 | 3.78553 | 6.71299 | 5.84008 | 4.53418 | 3.85541 | 4.08813 | ⋯ | 6.36244 | 6.84612 | 12.7375 | 12.6246 | 4.65517 | 4.03839 | 3.44941 | 3.39253 | 3.65439 | 3.53906 |\n",
       "| GSM3305547 | 10.3174 | 4.67528 | 6.41441 | 8.05305 | 3.90189 | 6.72251 | 5.87682 | 4.59815 | 3.91390 | 4.07607 | ⋯ | 5.45843 | 6.11015 | 12.5979 | 12.2991 | 4.83351 | 4.09642 | 3.53042 | 3.45339 | 3.72413 | 3.68635 |\n",
       "| GSM3305548 | 10.3783 | 4.55753 | 6.75081 | 7.99613 | 3.88854 | 6.75443 | 5.95493 | 4.47163 | 3.86128 | 3.97068 | ⋯ | 6.30147 | 6.98928 | 12.6244 | 12.3425 | 4.77618 | 4.05246 | 3.53213 | 3.38350 | 3.62129 | 3.55534 |\n",
       "\n"
      ],
      "text/plain": [
       "           1007_s_at 1053_at 117_at  121_at  1255_g_at 1294_at 1316_at 1320_at\n",
       "GSM3305543 10.5602   4.88739 6.37506 8.21095 3.85878   6.82803 5.80560 4.56967\n",
       "GSM3305544 10.4210   4.69174 6.36858 8.16335 3.90241   6.77299 5.98227 4.56041\n",
       "GSM3305545 10.5141   4.67749 6.36301 8.12071 3.89135   6.98857 5.82710 4.70470\n",
       "GSM3305546 10.3080   4.71070 6.14188 7.89710 3.78553   6.71299 5.84008 4.53418\n",
       "GSM3305547 10.3174   4.67528 6.41441 8.05305 3.90189   6.72251 5.87682 4.59815\n",
       "GSM3305548 10.3783   4.55753 6.75081 7.99613 3.88854   6.75443 5.95493 4.47163\n",
       "           1405_i_at 1431_at ⋯ AFFX.r2.Hs28SrRNA.5_at AFFX.r2.Hs28SrRNA.M_at\n",
       "GSM3305543 3.83793   4.03723 ⋯ 6.17693                6.25184               \n",
       "GSM3305544 3.89118   4.06312 ⋯ 5.77611                6.31226               \n",
       "GSM3305545 3.98109   4.17354 ⋯ 5.59198                6.29947               \n",
       "GSM3305546 3.85541   4.08813 ⋯ 6.36244                6.84612               \n",
       "GSM3305547 3.91390   4.07607 ⋯ 5.45843                6.11015               \n",
       "GSM3305548 3.86128   3.97068 ⋯ 6.30147                6.98928               \n",
       "           AFFX.r2.P1.cre.3_at AFFX.r2.P1.cre.5_at AFFX.ThrX.3_at\n",
       "GSM3305543 12.7736             12.4525             4.80926       \n",
       "GSM3305544 12.7681             12.4877             4.83666       \n",
       "GSM3305545 12.5715             12.2950             4.85267       \n",
       "GSM3305546 12.7375             12.6246             4.65517       \n",
       "GSM3305547 12.5979             12.2991             4.83351       \n",
       "GSM3305548 12.6244             12.3425             4.77618       \n",
       "           AFFX.ThrX.5_at AFFX.ThrX.M_at AFFX.TrpnX.3_at AFFX.TrpnX.5_at\n",
       "GSM3305543 4.05225        3.56501        3.35627         3.73266        \n",
       "GSM3305544 4.08639        3.51865        3.44515         3.69921        \n",
       "GSM3305545 4.16020        3.58586        3.44989         3.79205        \n",
       "GSM3305546 4.03839        3.44941        3.39253         3.65439        \n",
       "GSM3305547 4.09642        3.53042        3.45339         3.72413        \n",
       "GSM3305548 4.05246        3.53213        3.38350         3.62129        \n",
       "           AFFX.TrpnX.M_at\n",
       "GSM3305543 3.60671        \n",
       "GSM3305544 3.69556        \n",
       "GSM3305545 3.67558        \n",
       "GSM3305546 3.53906        \n",
       "GSM3305547 3.68635        \n",
       "GSM3305548 3.55534        "
      ]
     },
     "metadata": {},
     "output_type": "display_data"
    }
   ],
   "source": [
    "head(df)"
   ]
  },
  {
   "cell_type": "code",
   "execution_count": 97,
   "id": "d60e5894",
   "metadata": {
    "pycharm": {
     "name": "#%%\n"
    }
   },
   "outputs": [],
   "source": [
    "rownames(df) <- df$X"
   ]
  },
  {
   "cell_type": "code",
   "execution_count": 98,
   "id": "599ac286",
   "metadata": {
    "pycharm": {
     "name": "#%%\n"
    }
   },
   "outputs": [],
   "source": [
    "df <- df[,2:ncol(df)]"
   ]
  },
  {
   "cell_type": "code",
   "execution_count": 99,
   "id": "756e2a6a",
   "metadata": {
    "pycharm": {
     "name": "#%%\n"
    }
   },
   "outputs": [],
   "source": [
    "colnames(df) <- sub(\"^X\", \"\", colnames(df))"
   ]
  },
  {
   "cell_type": "code",
   "execution_count": 101,
   "id": "e34c2893",
   "metadata": {
    "pycharm": {
     "name": "#%%\n"
    }
   },
   "outputs": [
    {
     "name": "stderr",
     "output_type": "stream",
     "text": [
      "\n",
      "\n"
     ]
    }
   ],
   "source": [
    "library(hgu133a.db)\n",
    "# Get gene symbol\n",
    "x <- hgu133aSYMBOL\n",
    "# Get the probe identifiers that are mapped to a gene name\n",
    "mapped_probes <- mappedkeys(x)\n",
    "# Convert to a list\n",
    "xx <- as.list(x[mapped_probes])"
   ]
  },
  {
   "cell_type": "code",
   "execution_count": 102,
   "id": "8536d402",
   "metadata": {
    "pycharm": {
     "name": "#%%\n"
    }
   },
   "outputs": [],
   "source": [
    "# Transform matrix in a table\n",
    "ref_gene <- do.call(rbind, xx)\n",
    "ref_gene <- as.data.frame(ref_gene)\n",
    "# Add column to get a reference between old and new gene\n",
    "ref_gene$old_gene <- rownames(ref_gene)\n",
    "colnames(ref_gene) <- c(\"new_gene\", \"old_gene\")"
   ]
  },
  {
   "cell_type": "code",
   "execution_count": 105,
   "id": "066c21b2",
   "metadata": {
    "scrolled": true,
    "pycharm": {
     "name": "#%%\n"
    }
   },
   "outputs": [
    {
     "data": {
      "text/html": [
       "<table class=\"dataframe\">\n",
       "<caption>A data.frame: 6 × 2</caption>\n",
       "<thead>\n",
       "\t<tr><th></th><th scope=col>old_gene</th><th scope=col>new_gene</th></tr>\n",
       "\t<tr><th></th><th scope=col>&lt;chr&gt;</th><th scope=col>&lt;chr&gt;</th></tr>\n",
       "</thead>\n",
       "<tbody>\n",
       "\t<tr><th scope=row>1</th><td>1007_s_at</td><td>DDR1  </td></tr>\n",
       "\t<tr><th scope=row>2</th><td>1053_at  </td><td>RFC2  </td></tr>\n",
       "\t<tr><th scope=row>3</th><td>117_at   </td><td>HSPA6 </td></tr>\n",
       "\t<tr><th scope=row>4</th><td>121_at   </td><td>PAX8  </td></tr>\n",
       "\t<tr><th scope=row>5</th><td>1255_g_at</td><td>GUCA1A</td></tr>\n",
       "\t<tr><th scope=row>6</th><td>1294_at  </td><td>UBA7  </td></tr>\n",
       "</tbody>\n",
       "</table>\n"
      ],
      "text/latex": [
       "A data.frame: 6 × 2\n",
       "\\begin{tabular}{r|ll}\n",
       "  & old\\_gene & new\\_gene\\\\\n",
       "  & <chr> & <chr>\\\\\n",
       "\\hline\n",
       "\t1 & 1007\\_s\\_at & DDR1  \\\\\n",
       "\t2 & 1053\\_at   & RFC2  \\\\\n",
       "\t3 & 117\\_at    & HSPA6 \\\\\n",
       "\t4 & 121\\_at    & PAX8  \\\\\n",
       "\t5 & 1255\\_g\\_at & GUCA1A\\\\\n",
       "\t6 & 1294\\_at   & UBA7  \\\\\n",
       "\\end{tabular}\n"
      ],
      "text/markdown": [
       "\n",
       "A data.frame: 6 × 2\n",
       "\n",
       "| <!--/--> | old_gene &lt;chr&gt; | new_gene &lt;chr&gt; |\n",
       "|---|---|---|\n",
       "| 1 | 1007_s_at | DDR1   |\n",
       "| 2 | 1053_at   | RFC2   |\n",
       "| 3 | 117_at    | HSPA6  |\n",
       "| 4 | 121_at    | PAX8   |\n",
       "| 5 | 1255_g_at | GUCA1A |\n",
       "| 6 | 1294_at   | UBA7   |\n",
       "\n"
      ],
      "text/plain": [
       "  old_gene  new_gene\n",
       "1 1007_s_at DDR1    \n",
       "2 1053_at   RFC2    \n",
       "3 117_at    HSPA6   \n",
       "4 121_at    PAX8    \n",
       "5 1255_g_at GUCA1A  \n",
       "6 1294_at   UBA7    "
      ]
     },
     "metadata": {},
     "output_type": "display_data"
    }
   ],
   "source": [
    "head(ref_gene)"
   ]
  },
  {
   "cell_type": "code",
   "execution_count": 104,
   "id": "0dc75e5a",
   "metadata": {
    "pycharm": {
     "name": "#%%\n"
    }
   },
   "outputs": [],
   "source": [
    "# Make smaller table to speedup the translation\n",
    "ref_gene_df <- data.frame(colnames(df))\n",
    "colnames(ref_gene_df) <- c(\"old_gene\")\n",
    "ref_gene <- merge(x=ref_gene, y=ref_gene_df, by=\"old_gene\")"
   ]
  },
  {
   "cell_type": "code",
   "execution_count": 106,
   "id": "f44a8edc",
   "metadata": {
    "pycharm": {
     "name": "#%%\n"
    }
   },
   "outputs": [],
   "source": [
    "# Get Gene Symbol from platform columns\n",
    "new_col <- c()\n",
    "for (i in colnames(df)) {\n",
    "    new_col <- append(new_col, ref_gene[ref_gene$old_gene == i, 'new_gene'])\n",
    "}"
   ]
  },
  {
   "cell_type": "code",
   "execution_count": 107,
   "id": "24794881",
   "metadata": {
    "pycharm": {
     "name": "#%%\n"
    }
   },
   "outputs": [],
   "source": [
    "colnames(df) <- new_col"
   ]
  },
  {
   "cell_type": "code",
   "execution_count": 108,
   "id": "8ef9866f",
   "metadata": {
    "pycharm": {
     "name": "#%%\n"
    }
   },
   "outputs": [],
   "source": [
    "# Remove NA\n",
    "df <- df[, colSums(is.na(df)) == 0]\n",
    "# Remove columns with all 0s\n",
    "df <- df[, colSums(df) > 0]\n",
    "# Remove columns without gene symbol\n",
    "df <- df[,nzchar(colnames(df))]\n",
    "# Remove double names genes (GENE1 /// GENE2)\n",
    "colnames(df) <- gsub(\" ///.*\", \"\", colnames(df))\n",
    "# Make all columns uppercase\n",
    "colnames(df) <- toupper(colnames(df))"
   ]
  },
  {
   "cell_type": "code",
   "execution_count": 109,
   "id": "ef931f96",
   "metadata": {
    "pycharm": {
     "name": "#%%\n"
    }
   },
   "outputs": [],
   "source": [
    "# Remove columns which start by \"NA\" because they didn't refer to any gene\n",
    "null_columns <- grep(\"NA.\", colnames(df))\n",
    "df <- df[,-null_columns]"
   ]
  },
  {
   "cell_type": "code",
   "execution_count": 110,
   "id": "0b0c258b",
   "metadata": {
    "pycharm": {
     "name": "#%%\n"
    }
   },
   "outputs": [
    {
     "data": {
      "text/html": [
       "<table class=\"dataframe\">\n",
       "<caption>A data.frame: 6 × 19791</caption>\n",
       "<thead>\n",
       "\t<tr><th></th><th scope=col>DDR1</th><th scope=col>RFC2</th><th scope=col>HSPA6</th><th scope=col>PAX8</th><th scope=col>GUCA1A</th><th scope=col>UBA7</th><th scope=col>THRA</th><th scope=col>PTPN21</th><th scope=col>CCL5</th><th scope=col>CYP2E1</th><th scope=col>⋯</th><th scope=col>LRTM1.1</th><th scope=col>DGCR8.3</th><th scope=col>EXOSC4.2</th><th scope=col>EXOSC4.3</th><th scope=col>EHBP1L1.1</th><th scope=col>MEX3D.1</th><th scope=col>EPS8L1.4</th><th scope=col>BCAN.2</th><th scope=col>DCAF15.3</th><th scope=col>NA</th></tr>\n",
       "\t<tr><th></th><th scope=col>&lt;dbl&gt;</th><th scope=col>&lt;dbl&gt;</th><th scope=col>&lt;dbl&gt;</th><th scope=col>&lt;dbl&gt;</th><th scope=col>&lt;dbl&gt;</th><th scope=col>&lt;dbl&gt;</th><th scope=col>&lt;dbl&gt;</th><th scope=col>&lt;dbl&gt;</th><th scope=col>&lt;dbl&gt;</th><th scope=col>&lt;dbl&gt;</th><th scope=col>⋯</th><th scope=col>&lt;dbl&gt;</th><th scope=col>&lt;dbl&gt;</th><th scope=col>&lt;dbl&gt;</th><th scope=col>&lt;dbl&gt;</th><th scope=col>&lt;dbl&gt;</th><th scope=col>&lt;dbl&gt;</th><th scope=col>&lt;dbl&gt;</th><th scope=col>&lt;dbl&gt;</th><th scope=col>&lt;dbl&gt;</th><th scope=col>&lt;dbl&gt;</th></tr>\n",
       "</thead>\n",
       "<tbody>\n",
       "\t<tr><th scope=row>GSM3305543</th><td>10.5602</td><td>4.88739</td><td>6.37506</td><td>8.21095</td><td>3.85878</td><td>6.82803</td><td>5.80560</td><td>4.56967</td><td>3.83793</td><td>4.03723</td><td>⋯</td><td>6.53580</td><td>5.52100</td><td>5.90202</td><td>5.68591</td><td>4.59300</td><td>4.34913</td><td>4.26716</td><td>5.33330</td><td>5.01056</td><td>5.08519</td></tr>\n",
       "\t<tr><th scope=row>GSM3305544</th><td>10.4210</td><td>4.69174</td><td>6.36858</td><td>8.16335</td><td>3.90241</td><td>6.77299</td><td>5.98227</td><td>4.56041</td><td>3.89118</td><td>4.06312</td><td>⋯</td><td>6.81556</td><td>5.67873</td><td>5.69920</td><td>5.95416</td><td>4.53068</td><td>4.42343</td><td>4.41385</td><td>5.58897</td><td>4.91408</td><td>4.94859</td></tr>\n",
       "\t<tr><th scope=row>GSM3305545</th><td>10.5141</td><td>4.67749</td><td>6.36301</td><td>8.12071</td><td>3.89135</td><td>6.98857</td><td>5.82710</td><td>4.70470</td><td>3.98109</td><td>4.17354</td><td>⋯</td><td>6.82930</td><td>5.72211</td><td>5.84393</td><td>5.96313</td><td>4.50824</td><td>4.32699</td><td>4.50664</td><td>5.59945</td><td>5.12298</td><td>5.16015</td></tr>\n",
       "\t<tr><th scope=row>GSM3305546</th><td>10.3080</td><td>4.71070</td><td>6.14188</td><td>7.89710</td><td>3.78553</td><td>6.71299</td><td>5.84008</td><td>4.53418</td><td>3.85541</td><td>4.08813</td><td>⋯</td><td>6.81599</td><td>5.40186</td><td>5.26108</td><td>5.58416</td><td>4.53961</td><td>4.22180</td><td>4.31490</td><td>5.24472</td><td>4.77130</td><td>4.88011</td></tr>\n",
       "\t<tr><th scope=row>GSM3305547</th><td>10.3174</td><td>4.67528</td><td>6.41441</td><td>8.05305</td><td>3.90189</td><td>6.72251</td><td>5.87682</td><td>4.59815</td><td>3.91390</td><td>4.07607</td><td>⋯</td><td>6.86601</td><td>5.80670</td><td>5.66685</td><td>5.73578</td><td>4.44977</td><td>4.44079</td><td>4.32020</td><td>5.49581</td><td>5.02155</td><td>5.21626</td></tr>\n",
       "\t<tr><th scope=row>GSM3305548</th><td>10.3783</td><td>4.55753</td><td>6.75081</td><td>7.99613</td><td>3.88854</td><td>6.75443</td><td>5.95493</td><td>4.47163</td><td>3.86128</td><td>3.97068</td><td>⋯</td><td>6.77384</td><td>5.48603</td><td>5.78242</td><td>5.98683</td><td>4.48202</td><td>4.25062</td><td>4.33747</td><td>5.31338</td><td>4.86964</td><td>5.13845</td></tr>\n",
       "</tbody>\n",
       "</table>\n"
      ],
      "text/latex": [
       "A data.frame: 6 × 19791\n",
       "\\begin{tabular}{r|lllllllllllllllllllll}\n",
       "  & DDR1 & RFC2 & HSPA6 & PAX8 & GUCA1A & UBA7 & THRA & PTPN21 & CCL5 & CYP2E1 & ⋯ & LRTM1.1 & DGCR8.3 & EXOSC4.2 & EXOSC4.3 & EHBP1L1.1 & MEX3D.1 & EPS8L1.4 & BCAN.2 & DCAF15.3 & NA\\\\\n",
       "  & <dbl> & <dbl> & <dbl> & <dbl> & <dbl> & <dbl> & <dbl> & <dbl> & <dbl> & <dbl> & ⋯ & <dbl> & <dbl> & <dbl> & <dbl> & <dbl> & <dbl> & <dbl> & <dbl> & <dbl> & <dbl>\\\\\n",
       "\\hline\n",
       "\tGSM3305543 & 10.5602 & 4.88739 & 6.37506 & 8.21095 & 3.85878 & 6.82803 & 5.80560 & 4.56967 & 3.83793 & 4.03723 & ⋯ & 6.53580 & 5.52100 & 5.90202 & 5.68591 & 4.59300 & 4.34913 & 4.26716 & 5.33330 & 5.01056 & 5.08519\\\\\n",
       "\tGSM3305544 & 10.4210 & 4.69174 & 6.36858 & 8.16335 & 3.90241 & 6.77299 & 5.98227 & 4.56041 & 3.89118 & 4.06312 & ⋯ & 6.81556 & 5.67873 & 5.69920 & 5.95416 & 4.53068 & 4.42343 & 4.41385 & 5.58897 & 4.91408 & 4.94859\\\\\n",
       "\tGSM3305545 & 10.5141 & 4.67749 & 6.36301 & 8.12071 & 3.89135 & 6.98857 & 5.82710 & 4.70470 & 3.98109 & 4.17354 & ⋯ & 6.82930 & 5.72211 & 5.84393 & 5.96313 & 4.50824 & 4.32699 & 4.50664 & 5.59945 & 5.12298 & 5.16015\\\\\n",
       "\tGSM3305546 & 10.3080 & 4.71070 & 6.14188 & 7.89710 & 3.78553 & 6.71299 & 5.84008 & 4.53418 & 3.85541 & 4.08813 & ⋯ & 6.81599 & 5.40186 & 5.26108 & 5.58416 & 4.53961 & 4.22180 & 4.31490 & 5.24472 & 4.77130 & 4.88011\\\\\n",
       "\tGSM3305547 & 10.3174 & 4.67528 & 6.41441 & 8.05305 & 3.90189 & 6.72251 & 5.87682 & 4.59815 & 3.91390 & 4.07607 & ⋯ & 6.86601 & 5.80670 & 5.66685 & 5.73578 & 4.44977 & 4.44079 & 4.32020 & 5.49581 & 5.02155 & 5.21626\\\\\n",
       "\tGSM3305548 & 10.3783 & 4.55753 & 6.75081 & 7.99613 & 3.88854 & 6.75443 & 5.95493 & 4.47163 & 3.86128 & 3.97068 & ⋯ & 6.77384 & 5.48603 & 5.78242 & 5.98683 & 4.48202 & 4.25062 & 4.33747 & 5.31338 & 4.86964 & 5.13845\\\\\n",
       "\\end{tabular}\n"
      ],
      "text/markdown": [
       "\n",
       "A data.frame: 6 × 19791\n",
       "\n",
       "| <!--/--> | DDR1 &lt;dbl&gt; | RFC2 &lt;dbl&gt; | HSPA6 &lt;dbl&gt; | PAX8 &lt;dbl&gt; | GUCA1A &lt;dbl&gt; | UBA7 &lt;dbl&gt; | THRA &lt;dbl&gt; | PTPN21 &lt;dbl&gt; | CCL5 &lt;dbl&gt; | CYP2E1 &lt;dbl&gt; | ⋯ ⋯ | LRTM1.1 &lt;dbl&gt; | DGCR8.3 &lt;dbl&gt; | EXOSC4.2 &lt;dbl&gt; | EXOSC4.3 &lt;dbl&gt; | EHBP1L1.1 &lt;dbl&gt; | MEX3D.1 &lt;dbl&gt; | EPS8L1.4 &lt;dbl&gt; | BCAN.2 &lt;dbl&gt; | DCAF15.3 &lt;dbl&gt; | NA &lt;dbl&gt; |\n",
       "|---|---|---|---|---|---|---|---|---|---|---|---|---|---|---|---|---|---|---|---|---|---|\n",
       "| GSM3305543 | 10.5602 | 4.88739 | 6.37506 | 8.21095 | 3.85878 | 6.82803 | 5.80560 | 4.56967 | 3.83793 | 4.03723 | ⋯ | 6.53580 | 5.52100 | 5.90202 | 5.68591 | 4.59300 | 4.34913 | 4.26716 | 5.33330 | 5.01056 | 5.08519 |\n",
       "| GSM3305544 | 10.4210 | 4.69174 | 6.36858 | 8.16335 | 3.90241 | 6.77299 | 5.98227 | 4.56041 | 3.89118 | 4.06312 | ⋯ | 6.81556 | 5.67873 | 5.69920 | 5.95416 | 4.53068 | 4.42343 | 4.41385 | 5.58897 | 4.91408 | 4.94859 |\n",
       "| GSM3305545 | 10.5141 | 4.67749 | 6.36301 | 8.12071 | 3.89135 | 6.98857 | 5.82710 | 4.70470 | 3.98109 | 4.17354 | ⋯ | 6.82930 | 5.72211 | 5.84393 | 5.96313 | 4.50824 | 4.32699 | 4.50664 | 5.59945 | 5.12298 | 5.16015 |\n",
       "| GSM3305546 | 10.3080 | 4.71070 | 6.14188 | 7.89710 | 3.78553 | 6.71299 | 5.84008 | 4.53418 | 3.85541 | 4.08813 | ⋯ | 6.81599 | 5.40186 | 5.26108 | 5.58416 | 4.53961 | 4.22180 | 4.31490 | 5.24472 | 4.77130 | 4.88011 |\n",
       "| GSM3305547 | 10.3174 | 4.67528 | 6.41441 | 8.05305 | 3.90189 | 6.72251 | 5.87682 | 4.59815 | 3.91390 | 4.07607 | ⋯ | 6.86601 | 5.80670 | 5.66685 | 5.73578 | 4.44977 | 4.44079 | 4.32020 | 5.49581 | 5.02155 | 5.21626 |\n",
       "| GSM3305548 | 10.3783 | 4.55753 | 6.75081 | 7.99613 | 3.88854 | 6.75443 | 5.95493 | 4.47163 | 3.86128 | 3.97068 | ⋯ | 6.77384 | 5.48603 | 5.78242 | 5.98683 | 4.48202 | 4.25062 | 4.33747 | 5.31338 | 4.86964 | 5.13845 |\n",
       "\n"
      ],
      "text/plain": [
       "           DDR1    RFC2    HSPA6   PAX8    GUCA1A  UBA7    THRA    PTPN21 \n",
       "GSM3305543 10.5602 4.88739 6.37506 8.21095 3.85878 6.82803 5.80560 4.56967\n",
       "GSM3305544 10.4210 4.69174 6.36858 8.16335 3.90241 6.77299 5.98227 4.56041\n",
       "GSM3305545 10.5141 4.67749 6.36301 8.12071 3.89135 6.98857 5.82710 4.70470\n",
       "GSM3305546 10.3080 4.71070 6.14188 7.89710 3.78553 6.71299 5.84008 4.53418\n",
       "GSM3305547 10.3174 4.67528 6.41441 8.05305 3.90189 6.72251 5.87682 4.59815\n",
       "GSM3305548 10.3783 4.55753 6.75081 7.99613 3.88854 6.75443 5.95493 4.47163\n",
       "           CCL5    CYP2E1  ⋯ LRTM1.1 DGCR8.3 EXOSC4.2 EXOSC4.3 EHBP1L1.1\n",
       "GSM3305543 3.83793 4.03723 ⋯ 6.53580 5.52100 5.90202  5.68591  4.59300  \n",
       "GSM3305544 3.89118 4.06312 ⋯ 6.81556 5.67873 5.69920  5.95416  4.53068  \n",
       "GSM3305545 3.98109 4.17354 ⋯ 6.82930 5.72211 5.84393  5.96313  4.50824  \n",
       "GSM3305546 3.85541 4.08813 ⋯ 6.81599 5.40186 5.26108  5.58416  4.53961  \n",
       "GSM3305547 3.91390 4.07607 ⋯ 6.86601 5.80670 5.66685  5.73578  4.44977  \n",
       "GSM3305548 3.86128 3.97068 ⋯ 6.77384 5.48603 5.78242  5.98683  4.48202  \n",
       "           MEX3D.1 EPS8L1.4 BCAN.2  DCAF15.3 <NA>   \n",
       "GSM3305543 4.34913 4.26716  5.33330 5.01056  5.08519\n",
       "GSM3305544 4.42343 4.41385  5.58897 4.91408  4.94859\n",
       "GSM3305545 4.32699 4.50664  5.59945 5.12298  5.16015\n",
       "GSM3305546 4.22180 4.31490  5.24472 4.77130  4.88011\n",
       "GSM3305547 4.44079 4.32020  5.49581 5.02155  5.21626\n",
       "GSM3305548 4.25062 4.33747  5.31338 4.86964  5.13845"
      ]
     },
     "metadata": {},
     "output_type": "display_data"
    }
   ],
   "source": [
    "head(df)"
   ]
  },
  {
   "cell_type": "code",
   "execution_count": 111,
   "id": "5376d53c",
   "metadata": {
    "pycharm": {
     "name": "#%%\n"
    }
   },
   "outputs": [],
   "source": [
    "write.table(df, file=paste(dataPath, csv_name, sep=\"\"), sep=\",\")"
   ]
  },
  {
   "cell_type": "markdown",
   "id": "f4fd9483",
   "metadata": {
    "pycharm": {
     "name": "#%% md\n"
    }
   },
   "source": [
    "# NALD 2"
   ]
  },
  {
   "cell_type": "code",
   "execution_count": 115,
   "id": "335d5d7a",
   "metadata": {
    "pycharm": {
     "name": "#%%\n"
    }
   },
   "outputs": [],
   "source": [
    "csv_name = 'eGSE85804m.csv'"
   ]
  },
  {
   "cell_type": "code",
   "execution_count": 116,
   "id": "2da18e4b",
   "metadata": {
    "pycharm": {
     "name": "#%%\n"
    }
   },
   "outputs": [],
   "source": [
    "df <- read.csv(file=paste(dataPath, csv_name, sep=\"\"), sep=\"\", header=TRUE)"
   ]
  },
  {
   "cell_type": "code",
   "execution_count": 117,
   "id": "a20d2796",
   "metadata": {
    "scrolled": true,
    "pycharm": {
     "name": "#%%\n"
    }
   },
   "outputs": [
    {
     "data": {
      "text/html": [
       "<table class=\"dataframe\">\n",
       "<caption>A data.frame: 6 × 47324</caption>\n",
       "<thead>\n",
       "\t<tr><th></th><th scope=col>X</th><th scope=col>ILMN_1343291</th><th scope=col>ILMN_1343295</th><th scope=col>ILMN_1651199</th><th scope=col>ILMN_1651209</th><th scope=col>ILMN_1651210</th><th scope=col>ILMN_1651221</th><th scope=col>ILMN_1651228</th><th scope=col>ILMN_1651229</th><th scope=col>ILMN_1651230</th><th scope=col>⋯</th><th scope=col>ILMN_3311145</th><th scope=col>ILMN_3311150</th><th scope=col>ILMN_3311155</th><th scope=col>ILMN_3311160</th><th scope=col>ILMN_3311165</th><th scope=col>ILMN_3311170</th><th scope=col>ILMN_3311175</th><th scope=col>ILMN_3311180</th><th scope=col>ILMN_3311185</th><th scope=col>ILMN_3311190</th></tr>\n",
       "\t<tr><th></th><th scope=col>&lt;chr&gt;</th><th scope=col>&lt;dbl&gt;</th><th scope=col>&lt;dbl&gt;</th><th scope=col>&lt;dbl&gt;</th><th scope=col>&lt;dbl&gt;</th><th scope=col>&lt;dbl&gt;</th><th scope=col>&lt;dbl&gt;</th><th scope=col>&lt;dbl&gt;</th><th scope=col>&lt;dbl&gt;</th><th scope=col>&lt;dbl&gt;</th><th scope=col>⋯</th><th scope=col>&lt;dbl&gt;</th><th scope=col>&lt;dbl&gt;</th><th scope=col>&lt;dbl&gt;</th><th scope=col>&lt;dbl&gt;</th><th scope=col>&lt;dbl&gt;</th><th scope=col>&lt;dbl&gt;</th><th scope=col>&lt;dbl&gt;</th><th scope=col>&lt;dbl&gt;</th><th scope=col>&lt;dbl&gt;</th><th scope=col>&lt;dbl&gt;</th></tr>\n",
       "</thead>\n",
       "<tbody>\n",
       "\t<tr><th scope=row>1</th><td>GSM2284671</td><td>15.83386</td><td>14.54472</td><td>6.281292</td><td>6.619897</td><td>6.413851</td><td>6.638063</td><td>10.81211</td><td>8.828693</td><td>6.476976</td><td>⋯</td><td>6.801084</td><td>6.451900</td><td>6.842599</td><td>6.645013</td><td>7.031729</td><td>6.623841</td><td>6.707154</td><td>6.819731</td><td>6.825700</td><td>7.131148</td></tr>\n",
       "\t<tr><th scope=row>2</th><td>GSM2284672</td><td>15.83386</td><td>14.75326</td><td>6.561281</td><td>6.643221</td><td>6.403661</td><td>6.754368</td><td>11.11089</td><td>9.102738</td><td>6.536011</td><td>⋯</td><td>6.623955</td><td>6.711346</td><td>6.760629</td><td>6.515061</td><td>7.211130</td><td>6.608122</td><td>6.829850</td><td>6.835666</td><td>6.534389</td><td>6.969426</td></tr>\n",
       "\t<tr><th scope=row>3</th><td>GSM2284673</td><td>15.79367</td><td>14.85705</td><td>6.480725</td><td>6.833132</td><td>6.507696</td><td>6.723469</td><td>10.83922</td><td>9.340438</td><td>6.359756</td><td>⋯</td><td>6.674612</td><td>6.710991</td><td>6.811371</td><td>6.423476</td><td>7.086390</td><td>6.588900</td><td>6.810340</td><td>6.850024</td><td>6.678133</td><td>7.153313</td></tr>\n",
       "\t<tr><th scope=row>4</th><td>GSM2284677</td><td>15.71969</td><td>14.70113</td><td>6.536609</td><td>6.667342</td><td>6.455909</td><td>6.968357</td><td>11.63309</td><td>9.426174</td><td>6.504793</td><td>⋯</td><td>6.722703</td><td>6.581198</td><td>6.721649</td><td>6.341482</td><td>7.128031</td><td>6.505155</td><td>6.766391</td><td>7.025292</td><td>6.722994</td><td>7.244974</td></tr>\n",
       "\t<tr><th scope=row>5</th><td>GSM2284678</td><td>15.77584</td><td>14.76104</td><td>6.397413</td><td>6.507473</td><td>6.537430</td><td>6.732759</td><td>11.48547</td><td>9.175696</td><td>6.505945</td><td>⋯</td><td>6.807464</td><td>6.773498</td><td>6.869154</td><td>6.483392</td><td>7.058450</td><td>6.551044</td><td>6.805510</td><td>6.980071</td><td>6.674849</td><td>7.177885</td></tr>\n",
       "\t<tr><th scope=row>6</th><td>GSM2284679</td><td>15.77584</td><td>14.82463</td><td>6.159434</td><td>6.703762</td><td>6.462397</td><td>6.982827</td><td>11.65260</td><td>9.766835</td><td>6.512670</td><td>⋯</td><td>6.808123</td><td>6.485108</td><td>6.683724</td><td>6.406548</td><td>7.104918</td><td>6.707592</td><td>6.679405</td><td>6.860728</td><td>6.484390</td><td>7.088159</td></tr>\n",
       "</tbody>\n",
       "</table>\n"
      ],
      "text/latex": [
       "A data.frame: 6 × 47324\n",
       "\\begin{tabular}{r|lllllllllllllllllllll}\n",
       "  & X & ILMN\\_1343291 & ILMN\\_1343295 & ILMN\\_1651199 & ILMN\\_1651209 & ILMN\\_1651210 & ILMN\\_1651221 & ILMN\\_1651228 & ILMN\\_1651229 & ILMN\\_1651230 & ⋯ & ILMN\\_3311145 & ILMN\\_3311150 & ILMN\\_3311155 & ILMN\\_3311160 & ILMN\\_3311165 & ILMN\\_3311170 & ILMN\\_3311175 & ILMN\\_3311180 & ILMN\\_3311185 & ILMN\\_3311190\\\\\n",
       "  & <chr> & <dbl> & <dbl> & <dbl> & <dbl> & <dbl> & <dbl> & <dbl> & <dbl> & <dbl> & ⋯ & <dbl> & <dbl> & <dbl> & <dbl> & <dbl> & <dbl> & <dbl> & <dbl> & <dbl> & <dbl>\\\\\n",
       "\\hline\n",
       "\t1 & GSM2284671 & 15.83386 & 14.54472 & 6.281292 & 6.619897 & 6.413851 & 6.638063 & 10.81211 & 8.828693 & 6.476976 & ⋯ & 6.801084 & 6.451900 & 6.842599 & 6.645013 & 7.031729 & 6.623841 & 6.707154 & 6.819731 & 6.825700 & 7.131148\\\\\n",
       "\t2 & GSM2284672 & 15.83386 & 14.75326 & 6.561281 & 6.643221 & 6.403661 & 6.754368 & 11.11089 & 9.102738 & 6.536011 & ⋯ & 6.623955 & 6.711346 & 6.760629 & 6.515061 & 7.211130 & 6.608122 & 6.829850 & 6.835666 & 6.534389 & 6.969426\\\\\n",
       "\t3 & GSM2284673 & 15.79367 & 14.85705 & 6.480725 & 6.833132 & 6.507696 & 6.723469 & 10.83922 & 9.340438 & 6.359756 & ⋯ & 6.674612 & 6.710991 & 6.811371 & 6.423476 & 7.086390 & 6.588900 & 6.810340 & 6.850024 & 6.678133 & 7.153313\\\\\n",
       "\t4 & GSM2284677 & 15.71969 & 14.70113 & 6.536609 & 6.667342 & 6.455909 & 6.968357 & 11.63309 & 9.426174 & 6.504793 & ⋯ & 6.722703 & 6.581198 & 6.721649 & 6.341482 & 7.128031 & 6.505155 & 6.766391 & 7.025292 & 6.722994 & 7.244974\\\\\n",
       "\t5 & GSM2284678 & 15.77584 & 14.76104 & 6.397413 & 6.507473 & 6.537430 & 6.732759 & 11.48547 & 9.175696 & 6.505945 & ⋯ & 6.807464 & 6.773498 & 6.869154 & 6.483392 & 7.058450 & 6.551044 & 6.805510 & 6.980071 & 6.674849 & 7.177885\\\\\n",
       "\t6 & GSM2284679 & 15.77584 & 14.82463 & 6.159434 & 6.703762 & 6.462397 & 6.982827 & 11.65260 & 9.766835 & 6.512670 & ⋯ & 6.808123 & 6.485108 & 6.683724 & 6.406548 & 7.104918 & 6.707592 & 6.679405 & 6.860728 & 6.484390 & 7.088159\\\\\n",
       "\\end{tabular}\n"
      ],
      "text/markdown": [
       "\n",
       "A data.frame: 6 × 47324\n",
       "\n",
       "| <!--/--> | X &lt;chr&gt; | ILMN_1343291 &lt;dbl&gt; | ILMN_1343295 &lt;dbl&gt; | ILMN_1651199 &lt;dbl&gt; | ILMN_1651209 &lt;dbl&gt; | ILMN_1651210 &lt;dbl&gt; | ILMN_1651221 &lt;dbl&gt; | ILMN_1651228 &lt;dbl&gt; | ILMN_1651229 &lt;dbl&gt; | ILMN_1651230 &lt;dbl&gt; | ⋯ ⋯ | ILMN_3311145 &lt;dbl&gt; | ILMN_3311150 &lt;dbl&gt; | ILMN_3311155 &lt;dbl&gt; | ILMN_3311160 &lt;dbl&gt; | ILMN_3311165 &lt;dbl&gt; | ILMN_3311170 &lt;dbl&gt; | ILMN_3311175 &lt;dbl&gt; | ILMN_3311180 &lt;dbl&gt; | ILMN_3311185 &lt;dbl&gt; | ILMN_3311190 &lt;dbl&gt; |\n",
       "|---|---|---|---|---|---|---|---|---|---|---|---|---|---|---|---|---|---|---|---|---|---|\n",
       "| 1 | GSM2284671 | 15.83386 | 14.54472 | 6.281292 | 6.619897 | 6.413851 | 6.638063 | 10.81211 | 8.828693 | 6.476976 | ⋯ | 6.801084 | 6.451900 | 6.842599 | 6.645013 | 7.031729 | 6.623841 | 6.707154 | 6.819731 | 6.825700 | 7.131148 |\n",
       "| 2 | GSM2284672 | 15.83386 | 14.75326 | 6.561281 | 6.643221 | 6.403661 | 6.754368 | 11.11089 | 9.102738 | 6.536011 | ⋯ | 6.623955 | 6.711346 | 6.760629 | 6.515061 | 7.211130 | 6.608122 | 6.829850 | 6.835666 | 6.534389 | 6.969426 |\n",
       "| 3 | GSM2284673 | 15.79367 | 14.85705 | 6.480725 | 6.833132 | 6.507696 | 6.723469 | 10.83922 | 9.340438 | 6.359756 | ⋯ | 6.674612 | 6.710991 | 6.811371 | 6.423476 | 7.086390 | 6.588900 | 6.810340 | 6.850024 | 6.678133 | 7.153313 |\n",
       "| 4 | GSM2284677 | 15.71969 | 14.70113 | 6.536609 | 6.667342 | 6.455909 | 6.968357 | 11.63309 | 9.426174 | 6.504793 | ⋯ | 6.722703 | 6.581198 | 6.721649 | 6.341482 | 7.128031 | 6.505155 | 6.766391 | 7.025292 | 6.722994 | 7.244974 |\n",
       "| 5 | GSM2284678 | 15.77584 | 14.76104 | 6.397413 | 6.507473 | 6.537430 | 6.732759 | 11.48547 | 9.175696 | 6.505945 | ⋯ | 6.807464 | 6.773498 | 6.869154 | 6.483392 | 7.058450 | 6.551044 | 6.805510 | 6.980071 | 6.674849 | 7.177885 |\n",
       "| 6 | GSM2284679 | 15.77584 | 14.82463 | 6.159434 | 6.703762 | 6.462397 | 6.982827 | 11.65260 | 9.766835 | 6.512670 | ⋯ | 6.808123 | 6.485108 | 6.683724 | 6.406548 | 7.104918 | 6.707592 | 6.679405 | 6.860728 | 6.484390 | 7.088159 |\n",
       "\n"
      ],
      "text/plain": [
       "  X          ILMN_1343291 ILMN_1343295 ILMN_1651199 ILMN_1651209 ILMN_1651210\n",
       "1 GSM2284671 15.83386     14.54472     6.281292     6.619897     6.413851    \n",
       "2 GSM2284672 15.83386     14.75326     6.561281     6.643221     6.403661    \n",
       "3 GSM2284673 15.79367     14.85705     6.480725     6.833132     6.507696    \n",
       "4 GSM2284677 15.71969     14.70113     6.536609     6.667342     6.455909    \n",
       "5 GSM2284678 15.77584     14.76104     6.397413     6.507473     6.537430    \n",
       "6 GSM2284679 15.77584     14.82463     6.159434     6.703762     6.462397    \n",
       "  ILMN_1651221 ILMN_1651228 ILMN_1651229 ILMN_1651230 ⋯ ILMN_3311145\n",
       "1 6.638063     10.81211     8.828693     6.476976     ⋯ 6.801084    \n",
       "2 6.754368     11.11089     9.102738     6.536011     ⋯ 6.623955    \n",
       "3 6.723469     10.83922     9.340438     6.359756     ⋯ 6.674612    \n",
       "4 6.968357     11.63309     9.426174     6.504793     ⋯ 6.722703    \n",
       "5 6.732759     11.48547     9.175696     6.505945     ⋯ 6.807464    \n",
       "6 6.982827     11.65260     9.766835     6.512670     ⋯ 6.808123    \n",
       "  ILMN_3311150 ILMN_3311155 ILMN_3311160 ILMN_3311165 ILMN_3311170 ILMN_3311175\n",
       "1 6.451900     6.842599     6.645013     7.031729     6.623841     6.707154    \n",
       "2 6.711346     6.760629     6.515061     7.211130     6.608122     6.829850    \n",
       "3 6.710991     6.811371     6.423476     7.086390     6.588900     6.810340    \n",
       "4 6.581198     6.721649     6.341482     7.128031     6.505155     6.766391    \n",
       "5 6.773498     6.869154     6.483392     7.058450     6.551044     6.805510    \n",
       "6 6.485108     6.683724     6.406548     7.104918     6.707592     6.679405    \n",
       "  ILMN_3311180 ILMN_3311185 ILMN_3311190\n",
       "1 6.819731     6.825700     7.131148    \n",
       "2 6.835666     6.534389     6.969426    \n",
       "3 6.850024     6.678133     7.153313    \n",
       "4 7.025292     6.722994     7.244974    \n",
       "5 6.980071     6.674849     7.177885    \n",
       "6 6.860728     6.484390     7.088159    "
      ]
     },
     "metadata": {},
     "output_type": "display_data"
    }
   ],
   "source": [
    "head(df)"
   ]
  },
  {
   "cell_type": "code",
   "execution_count": 118,
   "id": "bffb82b5",
   "metadata": {
    "pycharm": {
     "name": "#%%\n"
    }
   },
   "outputs": [],
   "source": [
    "rownames(df) <- df$X"
   ]
  },
  {
   "cell_type": "code",
   "execution_count": 119,
   "id": "36594456",
   "metadata": {
    "pycharm": {
     "name": "#%%\n"
    }
   },
   "outputs": [],
   "source": [
    "df <- df[,2:ncol(df)]"
   ]
  },
  {
   "cell_type": "code",
   "execution_count": 120,
   "id": "dc965110",
   "metadata": {
    "pycharm": {
     "name": "#%%\n"
    }
   },
   "outputs": [
    {
     "name": "stderr",
     "output_type": "stream",
     "text": [
      "\n",
      "\n"
     ]
    }
   ],
   "source": [
    "library(illuminaHumanv4.db)\n",
    "# Get gene symbol\n",
    "x <- illuminaHumanv4SYMBOL\n",
    "# Get the probe identifiers that are mapped to a gene name\n",
    "mapped_probes <- mappedkeys(x)\n",
    "# Convert to a list\n",
    "xx <- as.list(x[mapped_probes])"
   ]
  },
  {
   "cell_type": "code",
   "execution_count": 121,
   "id": "aa5d6f8e",
   "metadata": {
    "pycharm": {
     "name": "#%%\n"
    }
   },
   "outputs": [],
   "source": [
    "# Transform matrix in a table\n",
    "ref_gene <- do.call(rbind, xx)\n",
    "ref_gene <- as.data.frame(ref_gene)\n",
    "# Add column to get a reference between old and new gene\n",
    "ref_gene$old_gene <- rownames(ref_gene)\n",
    "colnames(ref_gene) <- c(\"new_gene\", \"old_gene\")"
   ]
  },
  {
   "cell_type": "code",
   "execution_count": 124,
   "id": "7f45febe",
   "metadata": {
    "scrolled": true,
    "pycharm": {
     "name": "#%%\n"
    }
   },
   "outputs": [
    {
     "data": {
      "text/html": [
       "<table class=\"dataframe\">\n",
       "<caption>A data.frame: 6 × 2</caption>\n",
       "<thead>\n",
       "\t<tr><th></th><th scope=col>old_gene</th><th scope=col>new_gene</th></tr>\n",
       "\t<tr><th></th><th scope=col>&lt;chr&gt;</th><th scope=col>&lt;chr&gt;</th></tr>\n",
       "</thead>\n",
       "<tbody>\n",
       "\t<tr><th scope=row>1</th><td>ILMN_1343291</td><td>EEF1A1  </td></tr>\n",
       "\t<tr><th scope=row>2</th><td>ILMN_1343295</td><td>GAPDH   </td></tr>\n",
       "\t<tr><th scope=row>3</th><td>ILMN_1651209</td><td>SLC35E2A</td></tr>\n",
       "\t<tr><th scope=row>4</th><td>ILMN_1651221</td><td>EFCAB1  </td></tr>\n",
       "\t<tr><th scope=row>5</th><td>ILMN_1651228</td><td>RPS28   </td></tr>\n",
       "\t<tr><th scope=row>6</th><td>ILMN_1651229</td><td>IPO13   </td></tr>\n",
       "</tbody>\n",
       "</table>\n"
      ],
      "text/latex": [
       "A data.frame: 6 × 2\n",
       "\\begin{tabular}{r|ll}\n",
       "  & old\\_gene & new\\_gene\\\\\n",
       "  & <chr> & <chr>\\\\\n",
       "\\hline\n",
       "\t1 & ILMN\\_1343291 & EEF1A1  \\\\\n",
       "\t2 & ILMN\\_1343295 & GAPDH   \\\\\n",
       "\t3 & ILMN\\_1651209 & SLC35E2A\\\\\n",
       "\t4 & ILMN\\_1651221 & EFCAB1  \\\\\n",
       "\t5 & ILMN\\_1651228 & RPS28   \\\\\n",
       "\t6 & ILMN\\_1651229 & IPO13   \\\\\n",
       "\\end{tabular}\n"
      ],
      "text/markdown": [
       "\n",
       "A data.frame: 6 × 2\n",
       "\n",
       "| <!--/--> | old_gene &lt;chr&gt; | new_gene &lt;chr&gt; |\n",
       "|---|---|---|\n",
       "| 1 | ILMN_1343291 | EEF1A1   |\n",
       "| 2 | ILMN_1343295 | GAPDH    |\n",
       "| 3 | ILMN_1651209 | SLC35E2A |\n",
       "| 4 | ILMN_1651221 | EFCAB1   |\n",
       "| 5 | ILMN_1651228 | RPS28    |\n",
       "| 6 | ILMN_1651229 | IPO13    |\n",
       "\n"
      ],
      "text/plain": [
       "  old_gene     new_gene\n",
       "1 ILMN_1343291 EEF1A1  \n",
       "2 ILMN_1343295 GAPDH   \n",
       "3 ILMN_1651209 SLC35E2A\n",
       "4 ILMN_1651221 EFCAB1  \n",
       "5 ILMN_1651228 RPS28   \n",
       "6 ILMN_1651229 IPO13   "
      ]
     },
     "metadata": {},
     "output_type": "display_data"
    }
   ],
   "source": [
    "head(ref_gene)"
   ]
  },
  {
   "cell_type": "code",
   "execution_count": 123,
   "id": "fcb06ed9",
   "metadata": {
    "pycharm": {
     "name": "#%%\n"
    }
   },
   "outputs": [],
   "source": [
    "# Make smaller table to speedup the translation\n",
    "ref_gene_df <- data.frame(colnames(df))\n",
    "colnames(ref_gene_df) <- c(\"old_gene\")\n",
    "ref_gene <- merge(x=ref_gene, y=ref_gene_df, by=\"old_gene\")"
   ]
  },
  {
   "cell_type": "code",
   "execution_count": 125,
   "id": "ffe72303",
   "metadata": {
    "pycharm": {
     "name": "#%%\n"
    }
   },
   "outputs": [],
   "source": [
    "# Get Gene Symbol from platform columns\n",
    "new_col <- c()\n",
    "for (i in colnames(df)) {\n",
    "    new_col <- append(new_col, ref_gene[ref_gene$old_gene == i, 'new_gene'])\n",
    "}"
   ]
  },
  {
   "cell_type": "code",
   "execution_count": 126,
   "id": "8d3d900c",
   "metadata": {
    "pycharm": {
     "name": "#%%\n"
    }
   },
   "outputs": [],
   "source": [
    "colnames(df) <- new_col"
   ]
  },
  {
   "cell_type": "code",
   "execution_count": 128,
   "id": "6b29247a",
   "metadata": {
    "pycharm": {
     "name": "#%%\n"
    }
   },
   "outputs": [],
   "source": [
    "# Remove NA\n",
    "df <- df[, colSums(is.na(df)) == 0]\n",
    "# Remove columns with all 0s\n",
    "df <- df[, colSums(df) > 0]\n",
    "# Remove columns without gene symbol\n",
    "df <- df[,nzchar(colnames(df))]\n",
    "# Remove double names genes (GENE1 /// GENE2)\n",
    "colnames(df) <- gsub(\" ///.*\", \"\", colnames(df))\n",
    "# Make all columns uppercase\n",
    "colnames(df) <- toupper(colnames(df))"
   ]
  },
  {
   "cell_type": "code",
   "execution_count": 129,
   "id": "d6d02a2d",
   "metadata": {
    "pycharm": {
     "name": "#%%\n"
    }
   },
   "outputs": [],
   "source": [
    "# Remove columns which start by \"NA\" because they didn't refer to any gene\n",
    "null_columns <- grep(\"NA.\", colnames(df))\n",
    "df <- df[,-null_columns]"
   ]
  },
  {
   "cell_type": "code",
   "execution_count": 130,
   "id": "bc5390de",
   "metadata": {
    "pycharm": {
     "name": "#%%\n"
    }
   },
   "outputs": [
    {
     "data": {
      "text/html": [
       "<table class=\"dataframe\">\n",
       "<caption>A data.frame: 6 × 33341</caption>\n",
       "<thead>\n",
       "\t<tr><th></th><th scope=col>EEF1A1</th><th scope=col>GAPDH</th><th scope=col>SLC35E2A</th><th scope=col>EFCAB1</th><th scope=col>RPS28</th><th scope=col>IPO13</th><th scope=col>PRSS41</th><th scope=col>FAM86FP</th><th scope=col>AFAP1</th><th scope=col>CDT1</th><th scope=col>⋯</th><th scope=col>MIR335</th><th scope=col>MIR663B</th><th scope=col>MIR548P</th><th scope=col>MIR320C1</th><th scope=col>MIR1255B2</th><th scope=col>LINC00293.1</th><th scope=col>LINC00293.2</th><th scope=col>LINC00173.1</th><th scope=col>LINC00173.2</th><th scope=col>NA</th></tr>\n",
       "\t<tr><th></th><th scope=col>&lt;dbl&gt;</th><th scope=col>&lt;dbl&gt;</th><th scope=col>&lt;dbl&gt;</th><th scope=col>&lt;dbl&gt;</th><th scope=col>&lt;dbl&gt;</th><th scope=col>&lt;dbl&gt;</th><th scope=col>&lt;dbl&gt;</th><th scope=col>&lt;dbl&gt;</th><th scope=col>&lt;dbl&gt;</th><th scope=col>&lt;dbl&gt;</th><th scope=col>⋯</th><th scope=col>&lt;dbl&gt;</th><th scope=col>&lt;dbl&gt;</th><th scope=col>&lt;dbl&gt;</th><th scope=col>&lt;dbl&gt;</th><th scope=col>&lt;dbl&gt;</th><th scope=col>&lt;dbl&gt;</th><th scope=col>&lt;dbl&gt;</th><th scope=col>&lt;dbl&gt;</th><th scope=col>&lt;dbl&gt;</th><th scope=col>&lt;dbl&gt;</th></tr>\n",
       "</thead>\n",
       "<tbody>\n",
       "\t<tr><th scope=row>GSM2284671</th><td>15.83386</td><td>14.54472</td><td>6.281292</td><td>6.619897</td><td>6.413851</td><td>6.638063</td><td>10.81211</td><td>8.828693</td><td>6.476976</td><td>7.023736</td><td>⋯</td><td>6.236264</td><td>9.298238</td><td>6.253194</td><td>6.560741</td><td>8.888861</td><td>6.772176</td><td>6.740707</td><td>6.354117</td><td>6.478599</td><td>9.922648</td></tr>\n",
       "\t<tr><th scope=row>GSM2284672</th><td>15.83386</td><td>14.75326</td><td>6.561281</td><td>6.643221</td><td>6.403661</td><td>6.754368</td><td>11.11089</td><td>9.102738</td><td>6.536011</td><td>7.225084</td><td>⋯</td><td>6.447237</td><td>9.413363</td><td>6.687802</td><td>6.174438</td><td>8.838217</td><td>6.842338</td><td>7.453013</td><td>6.523148</td><td>6.164814</td><td>9.806783</td></tr>\n",
       "\t<tr><th scope=row>GSM2284673</th><td>15.79367</td><td>14.85705</td><td>6.480725</td><td>6.833132</td><td>6.507696</td><td>6.723469</td><td>10.83922</td><td>9.340438</td><td>6.359756</td><td>7.096716</td><td>⋯</td><td>6.297002</td><td>9.081304</td><td>6.522567</td><td>6.380331</td><td>8.737239</td><td>6.676393</td><td>7.194861</td><td>6.394657</td><td>6.275892</td><td>9.471546</td></tr>\n",
       "\t<tr><th scope=row>GSM2284677</th><td>15.71969</td><td>14.70113</td><td>6.536609</td><td>6.667342</td><td>6.455909</td><td>6.968357</td><td>11.63309</td><td>9.426174</td><td>6.504793</td><td>6.811274</td><td>⋯</td><td>6.338141</td><td>9.836738</td><td>6.539993</td><td>6.104720</td><td>9.025804</td><td>6.633863</td><td>7.569025</td><td>6.664560</td><td>6.215367</td><td>9.756255</td></tr>\n",
       "\t<tr><th scope=row>GSM2284678</th><td>15.77584</td><td>14.76104</td><td>6.397413</td><td>6.507473</td><td>6.537430</td><td>6.732759</td><td>11.48547</td><td>9.175696</td><td>6.505945</td><td>7.016635</td><td>⋯</td><td>6.388176</td><td>9.666861</td><td>6.629297</td><td>6.368728</td><td>9.086856</td><td>6.704024</td><td>7.391966</td><td>6.589769</td><td>6.193584</td><td>9.902244</td></tr>\n",
       "\t<tr><th scope=row>GSM2284679</th><td>15.77584</td><td>14.82463</td><td>6.159434</td><td>6.703762</td><td>6.462397</td><td>6.982827</td><td>11.65260</td><td>9.766835</td><td>6.512670</td><td>7.171394</td><td>⋯</td><td>6.437337</td><td>8.713492</td><td>6.687672</td><td>6.320088</td><td>9.018861</td><td>6.651407</td><td>7.176205</td><td>6.539830</td><td>6.311227</td><td>8.475927</td></tr>\n",
       "</tbody>\n",
       "</table>\n"
      ],
      "text/latex": [
       "A data.frame: 6 × 33341\n",
       "\\begin{tabular}{r|lllllllllllllllllllll}\n",
       "  & EEF1A1 & GAPDH & SLC35E2A & EFCAB1 & RPS28 & IPO13 & PRSS41 & FAM86FP & AFAP1 & CDT1 & ⋯ & MIR335 & MIR663B & MIR548P & MIR320C1 & MIR1255B2 & LINC00293.1 & LINC00293.2 & LINC00173.1 & LINC00173.2 & NA\\\\\n",
       "  & <dbl> & <dbl> & <dbl> & <dbl> & <dbl> & <dbl> & <dbl> & <dbl> & <dbl> & <dbl> & ⋯ & <dbl> & <dbl> & <dbl> & <dbl> & <dbl> & <dbl> & <dbl> & <dbl> & <dbl> & <dbl>\\\\\n",
       "\\hline\n",
       "\tGSM2284671 & 15.83386 & 14.54472 & 6.281292 & 6.619897 & 6.413851 & 6.638063 & 10.81211 & 8.828693 & 6.476976 & 7.023736 & ⋯ & 6.236264 & 9.298238 & 6.253194 & 6.560741 & 8.888861 & 6.772176 & 6.740707 & 6.354117 & 6.478599 & 9.922648\\\\\n",
       "\tGSM2284672 & 15.83386 & 14.75326 & 6.561281 & 6.643221 & 6.403661 & 6.754368 & 11.11089 & 9.102738 & 6.536011 & 7.225084 & ⋯ & 6.447237 & 9.413363 & 6.687802 & 6.174438 & 8.838217 & 6.842338 & 7.453013 & 6.523148 & 6.164814 & 9.806783\\\\\n",
       "\tGSM2284673 & 15.79367 & 14.85705 & 6.480725 & 6.833132 & 6.507696 & 6.723469 & 10.83922 & 9.340438 & 6.359756 & 7.096716 & ⋯ & 6.297002 & 9.081304 & 6.522567 & 6.380331 & 8.737239 & 6.676393 & 7.194861 & 6.394657 & 6.275892 & 9.471546\\\\\n",
       "\tGSM2284677 & 15.71969 & 14.70113 & 6.536609 & 6.667342 & 6.455909 & 6.968357 & 11.63309 & 9.426174 & 6.504793 & 6.811274 & ⋯ & 6.338141 & 9.836738 & 6.539993 & 6.104720 & 9.025804 & 6.633863 & 7.569025 & 6.664560 & 6.215367 & 9.756255\\\\\n",
       "\tGSM2284678 & 15.77584 & 14.76104 & 6.397413 & 6.507473 & 6.537430 & 6.732759 & 11.48547 & 9.175696 & 6.505945 & 7.016635 & ⋯ & 6.388176 & 9.666861 & 6.629297 & 6.368728 & 9.086856 & 6.704024 & 7.391966 & 6.589769 & 6.193584 & 9.902244\\\\\n",
       "\tGSM2284679 & 15.77584 & 14.82463 & 6.159434 & 6.703762 & 6.462397 & 6.982827 & 11.65260 & 9.766835 & 6.512670 & 7.171394 & ⋯ & 6.437337 & 8.713492 & 6.687672 & 6.320088 & 9.018861 & 6.651407 & 7.176205 & 6.539830 & 6.311227 & 8.475927\\\\\n",
       "\\end{tabular}\n"
      ],
      "text/markdown": [
       "\n",
       "A data.frame: 6 × 33341\n",
       "\n",
       "| <!--/--> | EEF1A1 &lt;dbl&gt; | GAPDH &lt;dbl&gt; | SLC35E2A &lt;dbl&gt; | EFCAB1 &lt;dbl&gt; | RPS28 &lt;dbl&gt; | IPO13 &lt;dbl&gt; | PRSS41 &lt;dbl&gt; | FAM86FP &lt;dbl&gt; | AFAP1 &lt;dbl&gt; | CDT1 &lt;dbl&gt; | ⋯ ⋯ | MIR335 &lt;dbl&gt; | MIR663B &lt;dbl&gt; | MIR548P &lt;dbl&gt; | MIR320C1 &lt;dbl&gt; | MIR1255B2 &lt;dbl&gt; | LINC00293.1 &lt;dbl&gt; | LINC00293.2 &lt;dbl&gt; | LINC00173.1 &lt;dbl&gt; | LINC00173.2 &lt;dbl&gt; | NA &lt;dbl&gt; |\n",
       "|---|---|---|---|---|---|---|---|---|---|---|---|---|---|---|---|---|---|---|---|---|---|\n",
       "| GSM2284671 | 15.83386 | 14.54472 | 6.281292 | 6.619897 | 6.413851 | 6.638063 | 10.81211 | 8.828693 | 6.476976 | 7.023736 | ⋯ | 6.236264 | 9.298238 | 6.253194 | 6.560741 | 8.888861 | 6.772176 | 6.740707 | 6.354117 | 6.478599 | 9.922648 |\n",
       "| GSM2284672 | 15.83386 | 14.75326 | 6.561281 | 6.643221 | 6.403661 | 6.754368 | 11.11089 | 9.102738 | 6.536011 | 7.225084 | ⋯ | 6.447237 | 9.413363 | 6.687802 | 6.174438 | 8.838217 | 6.842338 | 7.453013 | 6.523148 | 6.164814 | 9.806783 |\n",
       "| GSM2284673 | 15.79367 | 14.85705 | 6.480725 | 6.833132 | 6.507696 | 6.723469 | 10.83922 | 9.340438 | 6.359756 | 7.096716 | ⋯ | 6.297002 | 9.081304 | 6.522567 | 6.380331 | 8.737239 | 6.676393 | 7.194861 | 6.394657 | 6.275892 | 9.471546 |\n",
       "| GSM2284677 | 15.71969 | 14.70113 | 6.536609 | 6.667342 | 6.455909 | 6.968357 | 11.63309 | 9.426174 | 6.504793 | 6.811274 | ⋯ | 6.338141 | 9.836738 | 6.539993 | 6.104720 | 9.025804 | 6.633863 | 7.569025 | 6.664560 | 6.215367 | 9.756255 |\n",
       "| GSM2284678 | 15.77584 | 14.76104 | 6.397413 | 6.507473 | 6.537430 | 6.732759 | 11.48547 | 9.175696 | 6.505945 | 7.016635 | ⋯ | 6.388176 | 9.666861 | 6.629297 | 6.368728 | 9.086856 | 6.704024 | 7.391966 | 6.589769 | 6.193584 | 9.902244 |\n",
       "| GSM2284679 | 15.77584 | 14.82463 | 6.159434 | 6.703762 | 6.462397 | 6.982827 | 11.65260 | 9.766835 | 6.512670 | 7.171394 | ⋯ | 6.437337 | 8.713492 | 6.687672 | 6.320088 | 9.018861 | 6.651407 | 7.176205 | 6.539830 | 6.311227 | 8.475927 |\n",
       "\n"
      ],
      "text/plain": [
       "           EEF1A1   GAPDH    SLC35E2A EFCAB1   RPS28    IPO13    PRSS41  \n",
       "GSM2284671 15.83386 14.54472 6.281292 6.619897 6.413851 6.638063 10.81211\n",
       "GSM2284672 15.83386 14.75326 6.561281 6.643221 6.403661 6.754368 11.11089\n",
       "GSM2284673 15.79367 14.85705 6.480725 6.833132 6.507696 6.723469 10.83922\n",
       "GSM2284677 15.71969 14.70113 6.536609 6.667342 6.455909 6.968357 11.63309\n",
       "GSM2284678 15.77584 14.76104 6.397413 6.507473 6.537430 6.732759 11.48547\n",
       "GSM2284679 15.77584 14.82463 6.159434 6.703762 6.462397 6.982827 11.65260\n",
       "           FAM86FP  AFAP1    CDT1     ⋯ MIR335   MIR663B  MIR548P  MIR320C1\n",
       "GSM2284671 8.828693 6.476976 7.023736 ⋯ 6.236264 9.298238 6.253194 6.560741\n",
       "GSM2284672 9.102738 6.536011 7.225084 ⋯ 6.447237 9.413363 6.687802 6.174438\n",
       "GSM2284673 9.340438 6.359756 7.096716 ⋯ 6.297002 9.081304 6.522567 6.380331\n",
       "GSM2284677 9.426174 6.504793 6.811274 ⋯ 6.338141 9.836738 6.539993 6.104720\n",
       "GSM2284678 9.175696 6.505945 7.016635 ⋯ 6.388176 9.666861 6.629297 6.368728\n",
       "GSM2284679 9.766835 6.512670 7.171394 ⋯ 6.437337 8.713492 6.687672 6.320088\n",
       "           MIR1255B2 LINC00293.1 LINC00293.2 LINC00173.1 LINC00173.2 <NA>    \n",
       "GSM2284671 8.888861  6.772176    6.740707    6.354117    6.478599    9.922648\n",
       "GSM2284672 8.838217  6.842338    7.453013    6.523148    6.164814    9.806783\n",
       "GSM2284673 8.737239  6.676393    7.194861    6.394657    6.275892    9.471546\n",
       "GSM2284677 9.025804  6.633863    7.569025    6.664560    6.215367    9.756255\n",
       "GSM2284678 9.086856  6.704024    7.391966    6.589769    6.193584    9.902244\n",
       "GSM2284679 9.018861  6.651407    7.176205    6.539830    6.311227    8.475927"
      ]
     },
     "metadata": {},
     "output_type": "display_data"
    }
   ],
   "source": [
    "head(df)"
   ]
  },
  {
   "cell_type": "code",
   "execution_count": 131,
   "id": "d1d65ce4",
   "metadata": {
    "pycharm": {
     "name": "#%%\n"
    }
   },
   "outputs": [],
   "source": [
    "write.table(df, file=paste(dataPath, csv_name, sep=\"\"), sep=\",\")"
   ]
  },
  {
   "cell_type": "markdown",
   "id": "e15cc07b",
   "metadata": {
    "pycharm": {
     "name": "#%% md\n"
    }
   },
   "source": [
    "# NALD 3"
   ]
  },
  {
   "cell_type": "code",
   "execution_count": 132,
   "id": "3fce8f6d",
   "metadata": {
    "pycharm": {
     "name": "#%%\n"
    }
   },
   "outputs": [],
   "source": [
    "csv_name = 'eGSE34308m.csv'"
   ]
  },
  {
   "cell_type": "code",
   "execution_count": 133,
   "id": "e7b36485",
   "metadata": {
    "pycharm": {
     "name": "#%%\n"
    }
   },
   "outputs": [],
   "source": [
    "df <- read.csv(file=paste(dataPath, csv_name, sep=\"\"), sep=\"\", header=TRUE)"
   ]
  },
  {
   "cell_type": "code",
   "execution_count": 138,
   "id": "a2fd66f7",
   "metadata": {
    "scrolled": true,
    "pycharm": {
     "name": "#%%\n"
    }
   },
   "outputs": [
    {
     "data": {
      "text/html": [
       "<table class=\"dataframe\">\n",
       "<caption>A data.frame: 5 × 54675</caption>\n",
       "<thead>\n",
       "\t<tr><th></th><th scope=col>1007_s_at</th><th scope=col>1053_at</th><th scope=col>117_at</th><th scope=col>121_at</th><th scope=col>1255_g_at</th><th scope=col>1294_at</th><th scope=col>1316_at</th><th scope=col>1320_at</th><th scope=col>1405_i_at</th><th scope=col>1431_at</th><th scope=col>⋯</th><th scope=col>AFFX.r2.Ec.bioD.3_at</th><th scope=col>AFFX.r2.Ec.bioD.5_at</th><th scope=col>AFFX.r2.P1.cre.3_at</th><th scope=col>AFFX.r2.P1.cre.5_at</th><th scope=col>AFFX.ThrX.3_at</th><th scope=col>AFFX.ThrX.5_at</th><th scope=col>AFFX.ThrX.M_at</th><th scope=col>AFFX.TrpnX.3_at</th><th scope=col>AFFX.TrpnX.5_at</th><th scope=col>AFFX.TrpnX.M_at</th></tr>\n",
       "\t<tr><th></th><th scope=col>&lt;dbl&gt;</th><th scope=col>&lt;dbl&gt;</th><th scope=col>&lt;dbl&gt;</th><th scope=col>&lt;dbl&gt;</th><th scope=col>&lt;dbl&gt;</th><th scope=col>&lt;dbl&gt;</th><th scope=col>&lt;dbl&gt;</th><th scope=col>&lt;dbl&gt;</th><th scope=col>&lt;dbl&gt;</th><th scope=col>&lt;dbl&gt;</th><th scope=col>⋯</th><th scope=col>&lt;dbl&gt;</th><th scope=col>&lt;dbl&gt;</th><th scope=col>&lt;dbl&gt;</th><th scope=col>&lt;dbl&gt;</th><th scope=col>&lt;dbl&gt;</th><th scope=col>&lt;dbl&gt;</th><th scope=col>&lt;dbl&gt;</th><th scope=col>&lt;dbl&gt;</th><th scope=col>&lt;dbl&gt;</th><th scope=col>&lt;dbl&gt;</th></tr>\n",
       "</thead>\n",
       "<tbody>\n",
       "\t<tr><th scope=row>GSM847083</th><td>6.856013</td><td>4.872198</td><td>3.070721</td><td>5.949972</td><td>2.563389</td><td>6.549806</td><td>3.887666</td><td>4.335238</td><td>2.631582</td><td>2.742217</td><td>⋯</td><td>10.84725</td><td>10.401905</td><td>12.48716</td><td>12.33186</td><td>4.404147</td><td>3.188694</td><td>3.676707</td><td>2.623115</td><td>2.950158</td><td>2.712637</td></tr>\n",
       "\t<tr><th scope=row>GSM847084</th><td>6.373692</td><td>5.160413</td><td>3.086563</td><td>6.187076</td><td>2.833957</td><td>6.397387</td><td>4.040880</td><td>4.335334</td><td>2.513761</td><td>2.724881</td><td>⋯</td><td>11.38098</td><td>10.724874</td><td>12.80207</td><td>12.34969</td><td>4.615457</td><td>3.495858</td><td>3.562872</td><td>2.672477</td><td>3.116305</td><td>2.710284</td></tr>\n",
       "\t<tr><th scope=row>GSM847085</th><td>6.562429</td><td>5.359019</td><td>3.207338</td><td>6.280731</td><td>2.577091</td><td>5.999377</td><td>4.046283</td><td>4.446986</td><td>2.730223</td><td>2.905883</td><td>⋯</td><td>10.29835</td><td> 9.764847</td><td>12.25980</td><td>11.95660</td><td>6.626405</td><td>4.127738</td><td>4.876908</td><td>2.591166</td><td>2.885586</td><td>2.960692</td></tr>\n",
       "\t<tr><th scope=row>GSM847086</th><td>6.934789</td><td>6.031420</td><td>3.232655</td><td>6.416759</td><td>2.684375</td><td>5.246129</td><td>4.077676</td><td>4.198332</td><td>2.495319</td><td>2.808868</td><td>⋯</td><td>10.68187</td><td>10.314476</td><td>12.49073</td><td>12.16922</td><td>6.295895</td><td>4.246219</td><td>5.093925</td><td>2.580937</td><td>2.809403</td><td>2.679016</td></tr>\n",
       "\t<tr><th scope=row>GSM847087</th><td>6.887037</td><td>5.581526</td><td>3.172550</td><td>6.125426</td><td>2.680152</td><td>5.531435</td><td>4.140237</td><td>4.099861</td><td>2.725907</td><td>2.742127</td><td>⋯</td><td>10.99153</td><td>10.464466</td><td>12.76326</td><td>12.37694</td><td>6.423731</td><td>4.282367</td><td>5.125491</td><td>2.547068</td><td>2.829246</td><td>2.599838</td></tr>\n",
       "</tbody>\n",
       "</table>\n"
      ],
      "text/latex": [
       "A data.frame: 5 × 54675\n",
       "\\begin{tabular}{r|lllllllllllllllllllll}\n",
       "  & 1007\\_s\\_at & 1053\\_at & 117\\_at & 121\\_at & 1255\\_g\\_at & 1294\\_at & 1316\\_at & 1320\\_at & 1405\\_i\\_at & 1431\\_at & ⋯ & AFFX.r2.Ec.bioD.3\\_at & AFFX.r2.Ec.bioD.5\\_at & AFFX.r2.P1.cre.3\\_at & AFFX.r2.P1.cre.5\\_at & AFFX.ThrX.3\\_at & AFFX.ThrX.5\\_at & AFFX.ThrX.M\\_at & AFFX.TrpnX.3\\_at & AFFX.TrpnX.5\\_at & AFFX.TrpnX.M\\_at\\\\\n",
       "  & <dbl> & <dbl> & <dbl> & <dbl> & <dbl> & <dbl> & <dbl> & <dbl> & <dbl> & <dbl> & ⋯ & <dbl> & <dbl> & <dbl> & <dbl> & <dbl> & <dbl> & <dbl> & <dbl> & <dbl> & <dbl>\\\\\n",
       "\\hline\n",
       "\tGSM847083 & 6.856013 & 4.872198 & 3.070721 & 5.949972 & 2.563389 & 6.549806 & 3.887666 & 4.335238 & 2.631582 & 2.742217 & ⋯ & 10.84725 & 10.401905 & 12.48716 & 12.33186 & 4.404147 & 3.188694 & 3.676707 & 2.623115 & 2.950158 & 2.712637\\\\\n",
       "\tGSM847084 & 6.373692 & 5.160413 & 3.086563 & 6.187076 & 2.833957 & 6.397387 & 4.040880 & 4.335334 & 2.513761 & 2.724881 & ⋯ & 11.38098 & 10.724874 & 12.80207 & 12.34969 & 4.615457 & 3.495858 & 3.562872 & 2.672477 & 3.116305 & 2.710284\\\\\n",
       "\tGSM847085 & 6.562429 & 5.359019 & 3.207338 & 6.280731 & 2.577091 & 5.999377 & 4.046283 & 4.446986 & 2.730223 & 2.905883 & ⋯ & 10.29835 &  9.764847 & 12.25980 & 11.95660 & 6.626405 & 4.127738 & 4.876908 & 2.591166 & 2.885586 & 2.960692\\\\\n",
       "\tGSM847086 & 6.934789 & 6.031420 & 3.232655 & 6.416759 & 2.684375 & 5.246129 & 4.077676 & 4.198332 & 2.495319 & 2.808868 & ⋯ & 10.68187 & 10.314476 & 12.49073 & 12.16922 & 6.295895 & 4.246219 & 5.093925 & 2.580937 & 2.809403 & 2.679016\\\\\n",
       "\tGSM847087 & 6.887037 & 5.581526 & 3.172550 & 6.125426 & 2.680152 & 5.531435 & 4.140237 & 4.099861 & 2.725907 & 2.742127 & ⋯ & 10.99153 & 10.464466 & 12.76326 & 12.37694 & 6.423731 & 4.282367 & 5.125491 & 2.547068 & 2.829246 & 2.599838\\\\\n",
       "\\end{tabular}\n"
      ],
      "text/markdown": [
       "\n",
       "A data.frame: 5 × 54675\n",
       "\n",
       "| <!--/--> | 1007_s_at &lt;dbl&gt; | 1053_at &lt;dbl&gt; | 117_at &lt;dbl&gt; | 121_at &lt;dbl&gt; | 1255_g_at &lt;dbl&gt; | 1294_at &lt;dbl&gt; | 1316_at &lt;dbl&gt; | 1320_at &lt;dbl&gt; | 1405_i_at &lt;dbl&gt; | 1431_at &lt;dbl&gt; | ⋯ ⋯ | AFFX.r2.Ec.bioD.3_at &lt;dbl&gt; | AFFX.r2.Ec.bioD.5_at &lt;dbl&gt; | AFFX.r2.P1.cre.3_at &lt;dbl&gt; | AFFX.r2.P1.cre.5_at &lt;dbl&gt; | AFFX.ThrX.3_at &lt;dbl&gt; | AFFX.ThrX.5_at &lt;dbl&gt; | AFFX.ThrX.M_at &lt;dbl&gt; | AFFX.TrpnX.3_at &lt;dbl&gt; | AFFX.TrpnX.5_at &lt;dbl&gt; | AFFX.TrpnX.M_at &lt;dbl&gt; |\n",
       "|---|---|---|---|---|---|---|---|---|---|---|---|---|---|---|---|---|---|---|---|---|---|\n",
       "| GSM847083 | 6.856013 | 4.872198 | 3.070721 | 5.949972 | 2.563389 | 6.549806 | 3.887666 | 4.335238 | 2.631582 | 2.742217 | ⋯ | 10.84725 | 10.401905 | 12.48716 | 12.33186 | 4.404147 | 3.188694 | 3.676707 | 2.623115 | 2.950158 | 2.712637 |\n",
       "| GSM847084 | 6.373692 | 5.160413 | 3.086563 | 6.187076 | 2.833957 | 6.397387 | 4.040880 | 4.335334 | 2.513761 | 2.724881 | ⋯ | 11.38098 | 10.724874 | 12.80207 | 12.34969 | 4.615457 | 3.495858 | 3.562872 | 2.672477 | 3.116305 | 2.710284 |\n",
       "| GSM847085 | 6.562429 | 5.359019 | 3.207338 | 6.280731 | 2.577091 | 5.999377 | 4.046283 | 4.446986 | 2.730223 | 2.905883 | ⋯ | 10.29835 |  9.764847 | 12.25980 | 11.95660 | 6.626405 | 4.127738 | 4.876908 | 2.591166 | 2.885586 | 2.960692 |\n",
       "| GSM847086 | 6.934789 | 6.031420 | 3.232655 | 6.416759 | 2.684375 | 5.246129 | 4.077676 | 4.198332 | 2.495319 | 2.808868 | ⋯ | 10.68187 | 10.314476 | 12.49073 | 12.16922 | 6.295895 | 4.246219 | 5.093925 | 2.580937 | 2.809403 | 2.679016 |\n",
       "| GSM847087 | 6.887037 | 5.581526 | 3.172550 | 6.125426 | 2.680152 | 5.531435 | 4.140237 | 4.099861 | 2.725907 | 2.742127 | ⋯ | 10.99153 | 10.464466 | 12.76326 | 12.37694 | 6.423731 | 4.282367 | 5.125491 | 2.547068 | 2.829246 | 2.599838 |\n",
       "\n"
      ],
      "text/plain": [
       "          1007_s_at 1053_at  117_at   121_at   1255_g_at 1294_at  1316_at \n",
       "GSM847083 6.856013  4.872198 3.070721 5.949972 2.563389  6.549806 3.887666\n",
       "GSM847084 6.373692  5.160413 3.086563 6.187076 2.833957  6.397387 4.040880\n",
       "GSM847085 6.562429  5.359019 3.207338 6.280731 2.577091  5.999377 4.046283\n",
       "GSM847086 6.934789  6.031420 3.232655 6.416759 2.684375  5.246129 4.077676\n",
       "GSM847087 6.887037  5.581526 3.172550 6.125426 2.680152  5.531435 4.140237\n",
       "          1320_at  1405_i_at 1431_at  ⋯ AFFX.r2.Ec.bioD.3_at\n",
       "GSM847083 4.335238 2.631582  2.742217 ⋯ 10.84725            \n",
       "GSM847084 4.335334 2.513761  2.724881 ⋯ 11.38098            \n",
       "GSM847085 4.446986 2.730223  2.905883 ⋯ 10.29835            \n",
       "GSM847086 4.198332 2.495319  2.808868 ⋯ 10.68187            \n",
       "GSM847087 4.099861 2.725907  2.742127 ⋯ 10.99153            \n",
       "          AFFX.r2.Ec.bioD.5_at AFFX.r2.P1.cre.3_at AFFX.r2.P1.cre.5_at\n",
       "GSM847083 10.401905            12.48716            12.33186           \n",
       "GSM847084 10.724874            12.80207            12.34969           \n",
       "GSM847085  9.764847            12.25980            11.95660           \n",
       "GSM847086 10.314476            12.49073            12.16922           \n",
       "GSM847087 10.464466            12.76326            12.37694           \n",
       "          AFFX.ThrX.3_at AFFX.ThrX.5_at AFFX.ThrX.M_at AFFX.TrpnX.3_at\n",
       "GSM847083 4.404147       3.188694       3.676707       2.623115       \n",
       "GSM847084 4.615457       3.495858       3.562872       2.672477       \n",
       "GSM847085 6.626405       4.127738       4.876908       2.591166       \n",
       "GSM847086 6.295895       4.246219       5.093925       2.580937       \n",
       "GSM847087 6.423731       4.282367       5.125491       2.547068       \n",
       "          AFFX.TrpnX.5_at AFFX.TrpnX.M_at\n",
       "GSM847083 2.950158        2.712637       \n",
       "GSM847084 3.116305        2.710284       \n",
       "GSM847085 2.885586        2.960692       \n",
       "GSM847086 2.809403        2.679016       \n",
       "GSM847087 2.829246        2.599838       "
      ]
     },
     "metadata": {},
     "output_type": "display_data"
    }
   ],
   "source": [
    "head(df)"
   ]
  },
  {
   "cell_type": "code",
   "execution_count": 135,
   "id": "4e20c457",
   "metadata": {
    "pycharm": {
     "name": "#%%\n"
    }
   },
   "outputs": [],
   "source": [
    "rownames(df) <- df$X"
   ]
  },
  {
   "cell_type": "code",
   "execution_count": 136,
   "id": "d719f4cc",
   "metadata": {
    "pycharm": {
     "name": "#%%\n"
    }
   },
   "outputs": [],
   "source": [
    "df <- df[,2:ncol(df)]"
   ]
  },
  {
   "cell_type": "code",
   "execution_count": 137,
   "id": "10a97373",
   "metadata": {
    "pycharm": {
     "name": "#%%\n"
    }
   },
   "outputs": [],
   "source": [
    "colnames(df) <- sub(\"^X\", \"\", colnames(df))"
   ]
  },
  {
   "cell_type": "code",
   "execution_count": 139,
   "id": "0fa66861",
   "metadata": {
    "pycharm": {
     "name": "#%%\n"
    }
   },
   "outputs": [],
   "source": [
    "library(hgu133plus2.db)\n",
    "# Get gene symbol\n",
    "x <- hgu133plus2SYMBOL\n",
    "# Get the probe identifiers that are mapped to a gene name\n",
    "mapped_probes <- mappedkeys(x)\n",
    "# Convert to a list\n",
    "xx <- as.list(x[mapped_probes])"
   ]
  },
  {
   "cell_type": "code",
   "execution_count": 140,
   "id": "f09ab8fe",
   "metadata": {
    "pycharm": {
     "name": "#%%\n"
    }
   },
   "outputs": [],
   "source": [
    "# Transform matrix in a table\n",
    "ref_gene <- do.call(rbind, xx)\n",
    "ref_gene <- as.data.frame(ref_gene)\n",
    "# Add column to get a reference between old and new gene\n",
    "ref_gene$old_gene <- rownames(ref_gene)\n",
    "colnames(ref_gene) <- c(\"new_gene\", \"old_gene\")"
   ]
  },
  {
   "cell_type": "code",
   "execution_count": 143,
   "id": "25ad66ef",
   "metadata": {
    "scrolled": true,
    "pycharm": {
     "name": "#%%\n"
    }
   },
   "outputs": [
    {
     "data": {
      "text/html": [
       "<table class=\"dataframe\">\n",
       "<caption>A data.frame: 6 × 2</caption>\n",
       "<thead>\n",
       "\t<tr><th></th><th scope=col>old_gene</th><th scope=col>new_gene</th></tr>\n",
       "\t<tr><th></th><th scope=col>&lt;chr&gt;</th><th scope=col>&lt;chr&gt;</th></tr>\n",
       "</thead>\n",
       "<tbody>\n",
       "\t<tr><th scope=row>1</th><td>1007_s_at</td><td>DDR1  </td></tr>\n",
       "\t<tr><th scope=row>2</th><td>1053_at  </td><td>RFC2  </td></tr>\n",
       "\t<tr><th scope=row>3</th><td>117_at   </td><td>HSPA6 </td></tr>\n",
       "\t<tr><th scope=row>4</th><td>121_at   </td><td>PAX8  </td></tr>\n",
       "\t<tr><th scope=row>5</th><td>1255_g_at</td><td>GUCA1A</td></tr>\n",
       "\t<tr><th scope=row>6</th><td>1294_at  </td><td>UBA7  </td></tr>\n",
       "</tbody>\n",
       "</table>\n"
      ],
      "text/latex": [
       "A data.frame: 6 × 2\n",
       "\\begin{tabular}{r|ll}\n",
       "  & old\\_gene & new\\_gene\\\\\n",
       "  & <chr> & <chr>\\\\\n",
       "\\hline\n",
       "\t1 & 1007\\_s\\_at & DDR1  \\\\\n",
       "\t2 & 1053\\_at   & RFC2  \\\\\n",
       "\t3 & 117\\_at    & HSPA6 \\\\\n",
       "\t4 & 121\\_at    & PAX8  \\\\\n",
       "\t5 & 1255\\_g\\_at & GUCA1A\\\\\n",
       "\t6 & 1294\\_at   & UBA7  \\\\\n",
       "\\end{tabular}\n"
      ],
      "text/markdown": [
       "\n",
       "A data.frame: 6 × 2\n",
       "\n",
       "| <!--/--> | old_gene &lt;chr&gt; | new_gene &lt;chr&gt; |\n",
       "|---|---|---|\n",
       "| 1 | 1007_s_at | DDR1   |\n",
       "| 2 | 1053_at   | RFC2   |\n",
       "| 3 | 117_at    | HSPA6  |\n",
       "| 4 | 121_at    | PAX8   |\n",
       "| 5 | 1255_g_at | GUCA1A |\n",
       "| 6 | 1294_at   | UBA7   |\n",
       "\n"
      ],
      "text/plain": [
       "  old_gene  new_gene\n",
       "1 1007_s_at DDR1    \n",
       "2 1053_at   RFC2    \n",
       "3 117_at    HSPA6   \n",
       "4 121_at    PAX8    \n",
       "5 1255_g_at GUCA1A  \n",
       "6 1294_at   UBA7    "
      ]
     },
     "metadata": {},
     "output_type": "display_data"
    }
   ],
   "source": [
    "head(ref_gene)"
   ]
  },
  {
   "cell_type": "code",
   "execution_count": 142,
   "id": "daff3888",
   "metadata": {
    "pycharm": {
     "name": "#%%\n"
    }
   },
   "outputs": [],
   "source": [
    "# Make smaller table to speedup the translation\n",
    "ref_gene_df <- data.frame(colnames(df))\n",
    "colnames(ref_gene_df) <- c(\"old_gene\")\n",
    "ref_gene <- merge(x=ref_gene, y=ref_gene_df, by=\"old_gene\")"
   ]
  },
  {
   "cell_type": "code",
   "execution_count": 144,
   "id": "08f73a88",
   "metadata": {
    "pycharm": {
     "name": "#%%\n"
    }
   },
   "outputs": [],
   "source": [
    "# Get Gene Symbol from platform columns\n",
    "new_col <- c()\n",
    "for (i in colnames(df)) {\n",
    "    new_col <- append(new_col, ref_gene[ref_gene$old_gene == i, 'new_gene'])\n",
    "}"
   ]
  },
  {
   "cell_type": "code",
   "execution_count": 145,
   "id": "37546e69",
   "metadata": {
    "pycharm": {
     "name": "#%%\n"
    }
   },
   "outputs": [],
   "source": [
    "colnames(df) <- new_col"
   ]
  },
  {
   "cell_type": "code",
   "execution_count": 147,
   "id": "4a293c6b",
   "metadata": {
    "pycharm": {
     "name": "#%%\n"
    }
   },
   "outputs": [],
   "source": [
    "# Remove NA\n",
    "df <- df[, colSums(is.na(df)) == 0]\n",
    "# Remove columns with all 0s\n",
    "df <- df[, colSums(df) > 0]\n",
    "# Remove columns without gene symbol\n",
    "df <- df[,nzchar(colnames(df))]\n",
    "# Remove double names genes (GENE1 /// GENE2)\n",
    "colnames(df) <- gsub(\" ///.*\", \"\", colnames(df))\n",
    "# Make all columns uppercase\n",
    "colnames(df) <- toupper(colnames(df))"
   ]
  },
  {
   "cell_type": "code",
   "execution_count": 148,
   "id": "7efb0434",
   "metadata": {
    "pycharm": {
     "name": "#%%\n"
    }
   },
   "outputs": [],
   "source": [
    "# Remove columns which start by \"NA\" because they didn't refer to any gene\n",
    "null_columns <- grep(\"NA.\", colnames(df))\n",
    "df <- df[,-null_columns]"
   ]
  },
  {
   "cell_type": "code",
   "execution_count": 149,
   "id": "19b972dd",
   "metadata": {
    "pycharm": {
     "name": "#%%\n"
    }
   },
   "outputs": [
    {
     "data": {
      "text/html": [
       "<table class=\"dataframe\">\n",
       "<caption>A data.frame: 5 × 42286</caption>\n",
       "<thead>\n",
       "\t<tr><th></th><th scope=col>DDR1</th><th scope=col>RFC2</th><th scope=col>HSPA6</th><th scope=col>PAX8</th><th scope=col>GUCA1A</th><th scope=col>UBA7</th><th scope=col>THRA</th><th scope=col>PTPN21</th><th scope=col>CCL5</th><th scope=col>CYP2E1</th><th scope=col>⋯</th><th scope=col>LRTM1.1</th><th scope=col>DGCR8.3</th><th scope=col>EXOSC4.2</th><th scope=col>EXOSC4.3</th><th scope=col>EHBP1L1.3</th><th scope=col>MEX3D.2</th><th scope=col>EPS8L1.4</th><th scope=col>BCAN.2</th><th scope=col>DCAF15.3</th><th scope=col>NA</th></tr>\n",
       "\t<tr><th></th><th scope=col>&lt;dbl&gt;</th><th scope=col>&lt;dbl&gt;</th><th scope=col>&lt;dbl&gt;</th><th scope=col>&lt;dbl&gt;</th><th scope=col>&lt;dbl&gt;</th><th scope=col>&lt;dbl&gt;</th><th scope=col>&lt;dbl&gt;</th><th scope=col>&lt;dbl&gt;</th><th scope=col>&lt;dbl&gt;</th><th scope=col>&lt;dbl&gt;</th><th scope=col>⋯</th><th scope=col>&lt;dbl&gt;</th><th scope=col>&lt;dbl&gt;</th><th scope=col>&lt;dbl&gt;</th><th scope=col>&lt;dbl&gt;</th><th scope=col>&lt;dbl&gt;</th><th scope=col>&lt;dbl&gt;</th><th scope=col>&lt;dbl&gt;</th><th scope=col>&lt;dbl&gt;</th><th scope=col>&lt;dbl&gt;</th><th scope=col>&lt;dbl&gt;</th></tr>\n",
       "</thead>\n",
       "<tbody>\n",
       "\t<tr><th scope=row>GSM847083</th><td>6.856013</td><td>4.872198</td><td>3.070721</td><td>5.949972</td><td>2.563389</td><td>6.549806</td><td>3.887666</td><td>4.335238</td><td>2.631582</td><td>2.742217</td><td>⋯</td><td>2.972538</td><td>4.109483</td><td>7.459844</td><td>2.687935</td><td>3.357634</td><td>4.267203</td><td>2.979519</td><td>3.592563</td><td>2.660471</td><td>3.964065</td></tr>\n",
       "\t<tr><th scope=row>GSM847084</th><td>6.373692</td><td>5.160413</td><td>3.086563</td><td>6.187076</td><td>2.833957</td><td>6.397387</td><td>4.040880</td><td>4.335334</td><td>2.513761</td><td>2.724881</td><td>⋯</td><td>2.725198</td><td>4.607020</td><td>7.648045</td><td>2.909657</td><td>3.029686</td><td>4.463457</td><td>2.883185</td><td>3.483309</td><td>2.713319</td><td>3.801825</td></tr>\n",
       "\t<tr><th scope=row>GSM847085</th><td>6.562429</td><td>5.359019</td><td>3.207338</td><td>6.280731</td><td>2.577091</td><td>5.999377</td><td>4.046283</td><td>4.446986</td><td>2.730223</td><td>2.905883</td><td>⋯</td><td>2.931048</td><td>4.219745</td><td>7.004625</td><td>2.834465</td><td>3.537678</td><td>4.186574</td><td>2.925019</td><td>3.745635</td><td>2.787650</td><td>3.865879</td></tr>\n",
       "\t<tr><th scope=row>GSM847086</th><td>6.934789</td><td>6.031420</td><td>3.232655</td><td>6.416759</td><td>2.684375</td><td>5.246129</td><td>4.077676</td><td>4.198332</td><td>2.495319</td><td>2.808868</td><td>⋯</td><td>3.100757</td><td>4.260399</td><td>7.158476</td><td>2.514485</td><td>3.097804</td><td>3.906699</td><td>3.002416</td><td>3.451537</td><td>2.779323</td><td>3.787423</td></tr>\n",
       "\t<tr><th scope=row>GSM847087</th><td>6.887037</td><td>5.581526</td><td>3.172550</td><td>6.125426</td><td>2.680152</td><td>5.531435</td><td>4.140237</td><td>4.099861</td><td>2.725907</td><td>2.742127</td><td>⋯</td><td>2.829036</td><td>4.432039</td><td>7.208206</td><td>2.717797</td><td>3.095362</td><td>4.369413</td><td>3.065409</td><td>3.533245</td><td>2.651866</td><td>3.919860</td></tr>\n",
       "</tbody>\n",
       "</table>\n"
      ],
      "text/latex": [
       "A data.frame: 5 × 42286\n",
       "\\begin{tabular}{r|lllllllllllllllllllll}\n",
       "  & DDR1 & RFC2 & HSPA6 & PAX8 & GUCA1A & UBA7 & THRA & PTPN21 & CCL5 & CYP2E1 & ⋯ & LRTM1.1 & DGCR8.3 & EXOSC4.2 & EXOSC4.3 & EHBP1L1.3 & MEX3D.2 & EPS8L1.4 & BCAN.2 & DCAF15.3 & NA\\\\\n",
       "  & <dbl> & <dbl> & <dbl> & <dbl> & <dbl> & <dbl> & <dbl> & <dbl> & <dbl> & <dbl> & ⋯ & <dbl> & <dbl> & <dbl> & <dbl> & <dbl> & <dbl> & <dbl> & <dbl> & <dbl> & <dbl>\\\\\n",
       "\\hline\n",
       "\tGSM847083 & 6.856013 & 4.872198 & 3.070721 & 5.949972 & 2.563389 & 6.549806 & 3.887666 & 4.335238 & 2.631582 & 2.742217 & ⋯ & 2.972538 & 4.109483 & 7.459844 & 2.687935 & 3.357634 & 4.267203 & 2.979519 & 3.592563 & 2.660471 & 3.964065\\\\\n",
       "\tGSM847084 & 6.373692 & 5.160413 & 3.086563 & 6.187076 & 2.833957 & 6.397387 & 4.040880 & 4.335334 & 2.513761 & 2.724881 & ⋯ & 2.725198 & 4.607020 & 7.648045 & 2.909657 & 3.029686 & 4.463457 & 2.883185 & 3.483309 & 2.713319 & 3.801825\\\\\n",
       "\tGSM847085 & 6.562429 & 5.359019 & 3.207338 & 6.280731 & 2.577091 & 5.999377 & 4.046283 & 4.446986 & 2.730223 & 2.905883 & ⋯ & 2.931048 & 4.219745 & 7.004625 & 2.834465 & 3.537678 & 4.186574 & 2.925019 & 3.745635 & 2.787650 & 3.865879\\\\\n",
       "\tGSM847086 & 6.934789 & 6.031420 & 3.232655 & 6.416759 & 2.684375 & 5.246129 & 4.077676 & 4.198332 & 2.495319 & 2.808868 & ⋯ & 3.100757 & 4.260399 & 7.158476 & 2.514485 & 3.097804 & 3.906699 & 3.002416 & 3.451537 & 2.779323 & 3.787423\\\\\n",
       "\tGSM847087 & 6.887037 & 5.581526 & 3.172550 & 6.125426 & 2.680152 & 5.531435 & 4.140237 & 4.099861 & 2.725907 & 2.742127 & ⋯ & 2.829036 & 4.432039 & 7.208206 & 2.717797 & 3.095362 & 4.369413 & 3.065409 & 3.533245 & 2.651866 & 3.919860\\\\\n",
       "\\end{tabular}\n"
      ],
      "text/markdown": [
       "\n",
       "A data.frame: 5 × 42286\n",
       "\n",
       "| <!--/--> | DDR1 &lt;dbl&gt; | RFC2 &lt;dbl&gt; | HSPA6 &lt;dbl&gt; | PAX8 &lt;dbl&gt; | GUCA1A &lt;dbl&gt; | UBA7 &lt;dbl&gt; | THRA &lt;dbl&gt; | PTPN21 &lt;dbl&gt; | CCL5 &lt;dbl&gt; | CYP2E1 &lt;dbl&gt; | ⋯ ⋯ | LRTM1.1 &lt;dbl&gt; | DGCR8.3 &lt;dbl&gt; | EXOSC4.2 &lt;dbl&gt; | EXOSC4.3 &lt;dbl&gt; | EHBP1L1.3 &lt;dbl&gt; | MEX3D.2 &lt;dbl&gt; | EPS8L1.4 &lt;dbl&gt; | BCAN.2 &lt;dbl&gt; | DCAF15.3 &lt;dbl&gt; | NA &lt;dbl&gt; |\n",
       "|---|---|---|---|---|---|---|---|---|---|---|---|---|---|---|---|---|---|---|---|---|---|\n",
       "| GSM847083 | 6.856013 | 4.872198 | 3.070721 | 5.949972 | 2.563389 | 6.549806 | 3.887666 | 4.335238 | 2.631582 | 2.742217 | ⋯ | 2.972538 | 4.109483 | 7.459844 | 2.687935 | 3.357634 | 4.267203 | 2.979519 | 3.592563 | 2.660471 | 3.964065 |\n",
       "| GSM847084 | 6.373692 | 5.160413 | 3.086563 | 6.187076 | 2.833957 | 6.397387 | 4.040880 | 4.335334 | 2.513761 | 2.724881 | ⋯ | 2.725198 | 4.607020 | 7.648045 | 2.909657 | 3.029686 | 4.463457 | 2.883185 | 3.483309 | 2.713319 | 3.801825 |\n",
       "| GSM847085 | 6.562429 | 5.359019 | 3.207338 | 6.280731 | 2.577091 | 5.999377 | 4.046283 | 4.446986 | 2.730223 | 2.905883 | ⋯ | 2.931048 | 4.219745 | 7.004625 | 2.834465 | 3.537678 | 4.186574 | 2.925019 | 3.745635 | 2.787650 | 3.865879 |\n",
       "| GSM847086 | 6.934789 | 6.031420 | 3.232655 | 6.416759 | 2.684375 | 5.246129 | 4.077676 | 4.198332 | 2.495319 | 2.808868 | ⋯ | 3.100757 | 4.260399 | 7.158476 | 2.514485 | 3.097804 | 3.906699 | 3.002416 | 3.451537 | 2.779323 | 3.787423 |\n",
       "| GSM847087 | 6.887037 | 5.581526 | 3.172550 | 6.125426 | 2.680152 | 5.531435 | 4.140237 | 4.099861 | 2.725907 | 2.742127 | ⋯ | 2.829036 | 4.432039 | 7.208206 | 2.717797 | 3.095362 | 4.369413 | 3.065409 | 3.533245 | 2.651866 | 3.919860 |\n",
       "\n"
      ],
      "text/plain": [
       "          DDR1     RFC2     HSPA6    PAX8     GUCA1A   UBA7     THRA    \n",
       "GSM847083 6.856013 4.872198 3.070721 5.949972 2.563389 6.549806 3.887666\n",
       "GSM847084 6.373692 5.160413 3.086563 6.187076 2.833957 6.397387 4.040880\n",
       "GSM847085 6.562429 5.359019 3.207338 6.280731 2.577091 5.999377 4.046283\n",
       "GSM847086 6.934789 6.031420 3.232655 6.416759 2.684375 5.246129 4.077676\n",
       "GSM847087 6.887037 5.581526 3.172550 6.125426 2.680152 5.531435 4.140237\n",
       "          PTPN21   CCL5     CYP2E1   ⋯ LRTM1.1  DGCR8.3  EXOSC4.2 EXOSC4.3\n",
       "GSM847083 4.335238 2.631582 2.742217 ⋯ 2.972538 4.109483 7.459844 2.687935\n",
       "GSM847084 4.335334 2.513761 2.724881 ⋯ 2.725198 4.607020 7.648045 2.909657\n",
       "GSM847085 4.446986 2.730223 2.905883 ⋯ 2.931048 4.219745 7.004625 2.834465\n",
       "GSM847086 4.198332 2.495319 2.808868 ⋯ 3.100757 4.260399 7.158476 2.514485\n",
       "GSM847087 4.099861 2.725907 2.742127 ⋯ 2.829036 4.432039 7.208206 2.717797\n",
       "          EHBP1L1.3 MEX3D.2  EPS8L1.4 BCAN.2   DCAF15.3 <NA>    \n",
       "GSM847083 3.357634  4.267203 2.979519 3.592563 2.660471 3.964065\n",
       "GSM847084 3.029686  4.463457 2.883185 3.483309 2.713319 3.801825\n",
       "GSM847085 3.537678  4.186574 2.925019 3.745635 2.787650 3.865879\n",
       "GSM847086 3.097804  3.906699 3.002416 3.451537 2.779323 3.787423\n",
       "GSM847087 3.095362  4.369413 3.065409 3.533245 2.651866 3.919860"
      ]
     },
     "metadata": {},
     "output_type": "display_data"
    }
   ],
   "source": [
    "head(df)"
   ]
  },
  {
   "cell_type": "code",
   "execution_count": 150,
   "id": "89cb94d3",
   "metadata": {
    "pycharm": {
     "name": "#%%\n"
    }
   },
   "outputs": [],
   "source": [
    "write.table(df, file=paste(dataPath, csv_name, sep=\"\"), sep=\",\")"
   ]
  },
  {
   "cell_type": "markdown",
   "id": "bb428073",
   "metadata": {
    "pycharm": {
     "name": "#%% md\n"
    }
   },
   "source": [
    "# GSD "
   ]
  },
  {
   "cell_type": "code",
   "execution_count": 11,
   "id": "be9a5d56",
   "metadata": {
    "pycharm": {
     "name": "#%%\n"
    }
   },
   "outputs": [],
   "source": [
    "csv_name = 'GSD_GSE188956.csv'"
   ]
  },
  {
   "cell_type": "code",
   "execution_count": 12,
   "id": "1495e6e1",
   "metadata": {
    "pycharm": {
     "name": "#%%\n"
    }
   },
   "outputs": [],
   "source": [
    "df <- read.csv(file=paste(dataPath, csv_name, sep=\"\"), header=TRUE)"
   ]
  },
  {
   "cell_type": "code",
   "execution_count": 13,
   "id": "e7e49b91",
   "metadata": {
    "scrolled": false,
    "pycharm": {
     "name": "#%%\n"
    }
   },
   "outputs": [
    {
     "data": {
      "text/html": [
       "<table class=\"dataframe\">\n",
       "<caption>A data.frame: 6 × 384</caption>\n",
       "<thead>\n",
       "\t<tr><th></th><th scope=col>hsa.let.7a.000377</th><th scope=col>hsa.let.7c.000379</th><th scope=col>hsa.let.7d.002283</th><th scope=col>hsa.let.7e.002406</th><th scope=col>hsa.let.7f.000382</th><th scope=col>hsa.let.7g.002282</th><th scope=col>hsa.miR.1.002222</th><th scope=col>hsa.miR.9.000583</th><th scope=col>hsa.miR.10a.000387</th><th scope=col>hsa.miR.10b.002218</th><th scope=col>⋯</th><th scope=col>hsa.miR.448.001029</th><th scope=col>hsa.miR.492.001039</th><th scope=col>hsa.miR.506.001050</th><th scope=col>hsa.miR.509.3.5p.002155</th><th scope=col>hsa.miR.511.001111</th><th scope=col>hsa.miR.517b.001152</th><th scope=col>hsa.miR.519c.001163</th><th scope=col>hsa.miR.520b.001116</th><th scope=col>hsa.miR.520e.001119</th><th scope=col>hsa.miR.520f.001120</th></tr>\n",
       "\t<tr><th></th><th scope=col>&lt;dbl&gt;</th><th scope=col>&lt;dbl&gt;</th><th scope=col>&lt;dbl&gt;</th><th scope=col>&lt;dbl&gt;</th><th scope=col>&lt;dbl&gt;</th><th scope=col>&lt;dbl&gt;</th><th scope=col>&lt;dbl&gt;</th><th scope=col>&lt;dbl&gt;</th><th scope=col>&lt;dbl&gt;</th><th scope=col>&lt;dbl&gt;</th><th scope=col>⋯</th><th scope=col>&lt;dbl&gt;</th><th scope=col>&lt;dbl&gt;</th><th scope=col>&lt;dbl&gt;</th><th scope=col>&lt;dbl&gt;</th><th scope=col>&lt;dbl&gt;</th><th scope=col>&lt;dbl&gt;</th><th scope=col>&lt;dbl&gt;</th><th scope=col>&lt;dbl&gt;</th><th scope=col>&lt;dbl&gt;</th><th scope=col>&lt;dbl&gt;</th></tr>\n",
       "</thead>\n",
       "<tbody>\n",
       "\t<tr><th scope=row>G_107_GSP_144_no_tumor_19_M.txt</th><td>24.015</td><td>30.965</td><td>23.391</td><td>22.342</td><td>25.925</td><td>23.932</td><td>33.666</td><td>30.182</td><td>29.209</td><td>31.421</td><td>⋯</td><td>40</td><td>40</td><td>40</td><td>40</td><td>32.199</td><td>40</td><td>40.000</td><td>40.000</td><td>40</td><td>40.000</td></tr>\n",
       "\t<tr><th scope=row>G_51_GSP_83_no_tumor_19_F.txt</th><td>24.655</td><td>28.127</td><td>24.655</td><td>22.682</td><td>28.316</td><td>25.332</td><td>31.168</td><td>31.613</td><td>27.041</td><td>25.775</td><td>⋯</td><td>40</td><td>40</td><td>40</td><td>40</td><td>32.259</td><td>40</td><td>40.000</td><td>40.000</td><td>40</td><td>40.000</td></tr>\n",
       "\t<tr><th scope=row>G_34_GSP_54_no_tumor_19_M_BIS.txt</th><td>24.958</td><td>29.379</td><td>23.988</td><td>22.087</td><td>28.589</td><td>24.587</td><td>40.000</td><td>28.932</td><td>27.058</td><td>26.747</td><td>⋯</td><td>40</td><td>40</td><td>40</td><td>40</td><td>40.000</td><td>40</td><td>40.000</td><td>40.000</td><td>40</td><td>40.000</td></tr>\n",
       "\t<tr><th scope=row>G_102_GSP_155_no_tumor_20_F.txt</th><td>23.746</td><td>27.057</td><td>22.650</td><td>21.119</td><td>26.293</td><td>23.270</td><td>33.221</td><td>29.778</td><td>26.117</td><td>26.834</td><td>⋯</td><td>40</td><td>40</td><td>40</td><td>40</td><td>32.986</td><td>40</td><td>40.000</td><td>34.255</td><td>40</td><td>31.311</td></tr>\n",
       "\t<tr><th scope=row>G_32_GSP_51_no_tumor_21_F.txt</th><td>40.000</td><td>40.000</td><td>33.873</td><td>28.985</td><td>40.000</td><td>32.523</td><td>40.000</td><td>40.000</td><td>40.000</td><td>27.387</td><td>⋯</td><td>40</td><td>40</td><td>40</td><td>40</td><td>40.000</td><td>40</td><td>31.472</td><td>40.000</td><td>40</td><td>40.000</td></tr>\n",
       "\t<tr><th scope=row>G_170_GSP_221_no_tumor_22_F.txt</th><td>24.899</td><td>27.147</td><td>22.932</td><td>22.080</td><td>27.598</td><td>22.797</td><td>31.694</td><td>29.518</td><td>26.336</td><td>27.628</td><td>⋯</td><td>40</td><td>40</td><td>40</td><td>40</td><td>29.842</td><td>40</td><td>40.000</td><td>35.581</td><td>40</td><td>40.000</td></tr>\n",
       "</tbody>\n",
       "</table>\n"
      ],
      "text/latex": [
       "A data.frame: 6 × 384\n",
       "\\begin{tabular}{r|lllllllllllllllllllll}\n",
       "  & hsa.let.7a.000377 & hsa.let.7c.000379 & hsa.let.7d.002283 & hsa.let.7e.002406 & hsa.let.7f.000382 & hsa.let.7g.002282 & hsa.miR.1.002222 & hsa.miR.9.000583 & hsa.miR.10a.000387 & hsa.miR.10b.002218 & ⋯ & hsa.miR.448.001029 & hsa.miR.492.001039 & hsa.miR.506.001050 & hsa.miR.509.3.5p.002155 & hsa.miR.511.001111 & hsa.miR.517b.001152 & hsa.miR.519c.001163 & hsa.miR.520b.001116 & hsa.miR.520e.001119 & hsa.miR.520f.001120\\\\\n",
       "  & <dbl> & <dbl> & <dbl> & <dbl> & <dbl> & <dbl> & <dbl> & <dbl> & <dbl> & <dbl> & ⋯ & <dbl> & <dbl> & <dbl> & <dbl> & <dbl> & <dbl> & <dbl> & <dbl> & <dbl> & <dbl>\\\\\n",
       "\\hline\n",
       "\tG\\_107\\_GSP\\_144\\_no\\_tumor\\_19\\_M.txt & 24.015 & 30.965 & 23.391 & 22.342 & 25.925 & 23.932 & 33.666 & 30.182 & 29.209 & 31.421 & ⋯ & 40 & 40 & 40 & 40 & 32.199 & 40 & 40.000 & 40.000 & 40 & 40.000\\\\\n",
       "\tG\\_51\\_GSP\\_83\\_no\\_tumor\\_19\\_F.txt & 24.655 & 28.127 & 24.655 & 22.682 & 28.316 & 25.332 & 31.168 & 31.613 & 27.041 & 25.775 & ⋯ & 40 & 40 & 40 & 40 & 32.259 & 40 & 40.000 & 40.000 & 40 & 40.000\\\\\n",
       "\tG\\_34\\_GSP\\_54\\_no\\_tumor\\_19\\_M\\_BIS.txt & 24.958 & 29.379 & 23.988 & 22.087 & 28.589 & 24.587 & 40.000 & 28.932 & 27.058 & 26.747 & ⋯ & 40 & 40 & 40 & 40 & 40.000 & 40 & 40.000 & 40.000 & 40 & 40.000\\\\\n",
       "\tG\\_102\\_GSP\\_155\\_no\\_tumor\\_20\\_F.txt & 23.746 & 27.057 & 22.650 & 21.119 & 26.293 & 23.270 & 33.221 & 29.778 & 26.117 & 26.834 & ⋯ & 40 & 40 & 40 & 40 & 32.986 & 40 & 40.000 & 34.255 & 40 & 31.311\\\\\n",
       "\tG\\_32\\_GSP\\_51\\_no\\_tumor\\_21\\_F.txt & 40.000 & 40.000 & 33.873 & 28.985 & 40.000 & 32.523 & 40.000 & 40.000 & 40.000 & 27.387 & ⋯ & 40 & 40 & 40 & 40 & 40.000 & 40 & 31.472 & 40.000 & 40 & 40.000\\\\\n",
       "\tG\\_170\\_GSP\\_221\\_no\\_tumor\\_22\\_F.txt & 24.899 & 27.147 & 22.932 & 22.080 & 27.598 & 22.797 & 31.694 & 29.518 & 26.336 & 27.628 & ⋯ & 40 & 40 & 40 & 40 & 29.842 & 40 & 40.000 & 35.581 & 40 & 40.000\\\\\n",
       "\\end{tabular}\n"
      ],
      "text/markdown": [
       "\n",
       "A data.frame: 6 × 384\n",
       "\n",
       "| <!--/--> | hsa.let.7a.000377 &lt;dbl&gt; | hsa.let.7c.000379 &lt;dbl&gt; | hsa.let.7d.002283 &lt;dbl&gt; | hsa.let.7e.002406 &lt;dbl&gt; | hsa.let.7f.000382 &lt;dbl&gt; | hsa.let.7g.002282 &lt;dbl&gt; | hsa.miR.1.002222 &lt;dbl&gt; | hsa.miR.9.000583 &lt;dbl&gt; | hsa.miR.10a.000387 &lt;dbl&gt; | hsa.miR.10b.002218 &lt;dbl&gt; | ⋯ ⋯ | hsa.miR.448.001029 &lt;dbl&gt; | hsa.miR.492.001039 &lt;dbl&gt; | hsa.miR.506.001050 &lt;dbl&gt; | hsa.miR.509.3.5p.002155 &lt;dbl&gt; | hsa.miR.511.001111 &lt;dbl&gt; | hsa.miR.517b.001152 &lt;dbl&gt; | hsa.miR.519c.001163 &lt;dbl&gt; | hsa.miR.520b.001116 &lt;dbl&gt; | hsa.miR.520e.001119 &lt;dbl&gt; | hsa.miR.520f.001120 &lt;dbl&gt; |\n",
       "|---|---|---|---|---|---|---|---|---|---|---|---|---|---|---|---|---|---|---|---|---|---|\n",
       "| G_107_GSP_144_no_tumor_19_M.txt | 24.015 | 30.965 | 23.391 | 22.342 | 25.925 | 23.932 | 33.666 | 30.182 | 29.209 | 31.421 | ⋯ | 40 | 40 | 40 | 40 | 32.199 | 40 | 40.000 | 40.000 | 40 | 40.000 |\n",
       "| G_51_GSP_83_no_tumor_19_F.txt | 24.655 | 28.127 | 24.655 | 22.682 | 28.316 | 25.332 | 31.168 | 31.613 | 27.041 | 25.775 | ⋯ | 40 | 40 | 40 | 40 | 32.259 | 40 | 40.000 | 40.000 | 40 | 40.000 |\n",
       "| G_34_GSP_54_no_tumor_19_M_BIS.txt | 24.958 | 29.379 | 23.988 | 22.087 | 28.589 | 24.587 | 40.000 | 28.932 | 27.058 | 26.747 | ⋯ | 40 | 40 | 40 | 40 | 40.000 | 40 | 40.000 | 40.000 | 40 | 40.000 |\n",
       "| G_102_GSP_155_no_tumor_20_F.txt | 23.746 | 27.057 | 22.650 | 21.119 | 26.293 | 23.270 | 33.221 | 29.778 | 26.117 | 26.834 | ⋯ | 40 | 40 | 40 | 40 | 32.986 | 40 | 40.000 | 34.255 | 40 | 31.311 |\n",
       "| G_32_GSP_51_no_tumor_21_F.txt | 40.000 | 40.000 | 33.873 | 28.985 | 40.000 | 32.523 | 40.000 | 40.000 | 40.000 | 27.387 | ⋯ | 40 | 40 | 40 | 40 | 40.000 | 40 | 31.472 | 40.000 | 40 | 40.000 |\n",
       "| G_170_GSP_221_no_tumor_22_F.txt | 24.899 | 27.147 | 22.932 | 22.080 | 27.598 | 22.797 | 31.694 | 29.518 | 26.336 | 27.628 | ⋯ | 40 | 40 | 40 | 40 | 29.842 | 40 | 40.000 | 35.581 | 40 | 40.000 |\n",
       "\n"
      ],
      "text/plain": [
       "                                  hsa.let.7a.000377 hsa.let.7c.000379\n",
       "G_107_GSP_144_no_tumor_19_M.txt   24.015            30.965           \n",
       "G_51_GSP_83_no_tumor_19_F.txt     24.655            28.127           \n",
       "G_34_GSP_54_no_tumor_19_M_BIS.txt 24.958            29.379           \n",
       "G_102_GSP_155_no_tumor_20_F.txt   23.746            27.057           \n",
       "G_32_GSP_51_no_tumor_21_F.txt     40.000            40.000           \n",
       "G_170_GSP_221_no_tumor_22_F.txt   24.899            27.147           \n",
       "                                  hsa.let.7d.002283 hsa.let.7e.002406\n",
       "G_107_GSP_144_no_tumor_19_M.txt   23.391            22.342           \n",
       "G_51_GSP_83_no_tumor_19_F.txt     24.655            22.682           \n",
       "G_34_GSP_54_no_tumor_19_M_BIS.txt 23.988            22.087           \n",
       "G_102_GSP_155_no_tumor_20_F.txt   22.650            21.119           \n",
       "G_32_GSP_51_no_tumor_21_F.txt     33.873            28.985           \n",
       "G_170_GSP_221_no_tumor_22_F.txt   22.932            22.080           \n",
       "                                  hsa.let.7f.000382 hsa.let.7g.002282\n",
       "G_107_GSP_144_no_tumor_19_M.txt   25.925            23.932           \n",
       "G_51_GSP_83_no_tumor_19_F.txt     28.316            25.332           \n",
       "G_34_GSP_54_no_tumor_19_M_BIS.txt 28.589            24.587           \n",
       "G_102_GSP_155_no_tumor_20_F.txt   26.293            23.270           \n",
       "G_32_GSP_51_no_tumor_21_F.txt     40.000            32.523           \n",
       "G_170_GSP_221_no_tumor_22_F.txt   27.598            22.797           \n",
       "                                  hsa.miR.1.002222 hsa.miR.9.000583\n",
       "G_107_GSP_144_no_tumor_19_M.txt   33.666           30.182          \n",
       "G_51_GSP_83_no_tumor_19_F.txt     31.168           31.613          \n",
       "G_34_GSP_54_no_tumor_19_M_BIS.txt 40.000           28.932          \n",
       "G_102_GSP_155_no_tumor_20_F.txt   33.221           29.778          \n",
       "G_32_GSP_51_no_tumor_21_F.txt     40.000           40.000          \n",
       "G_170_GSP_221_no_tumor_22_F.txt   31.694           29.518          \n",
       "                                  hsa.miR.10a.000387 hsa.miR.10b.002218 ⋯\n",
       "G_107_GSP_144_no_tumor_19_M.txt   29.209             31.421             ⋯\n",
       "G_51_GSP_83_no_tumor_19_F.txt     27.041             25.775             ⋯\n",
       "G_34_GSP_54_no_tumor_19_M_BIS.txt 27.058             26.747             ⋯\n",
       "G_102_GSP_155_no_tumor_20_F.txt   26.117             26.834             ⋯\n",
       "G_32_GSP_51_no_tumor_21_F.txt     40.000             27.387             ⋯\n",
       "G_170_GSP_221_no_tumor_22_F.txt   26.336             27.628             ⋯\n",
       "                                  hsa.miR.448.001029 hsa.miR.492.001039\n",
       "G_107_GSP_144_no_tumor_19_M.txt   40                 40                \n",
       "G_51_GSP_83_no_tumor_19_F.txt     40                 40                \n",
       "G_34_GSP_54_no_tumor_19_M_BIS.txt 40                 40                \n",
       "G_102_GSP_155_no_tumor_20_F.txt   40                 40                \n",
       "G_32_GSP_51_no_tumor_21_F.txt     40                 40                \n",
       "G_170_GSP_221_no_tumor_22_F.txt   40                 40                \n",
       "                                  hsa.miR.506.001050 hsa.miR.509.3.5p.002155\n",
       "G_107_GSP_144_no_tumor_19_M.txt   40                 40                     \n",
       "G_51_GSP_83_no_tumor_19_F.txt     40                 40                     \n",
       "G_34_GSP_54_no_tumor_19_M_BIS.txt 40                 40                     \n",
       "G_102_GSP_155_no_tumor_20_F.txt   40                 40                     \n",
       "G_32_GSP_51_no_tumor_21_F.txt     40                 40                     \n",
       "G_170_GSP_221_no_tumor_22_F.txt   40                 40                     \n",
       "                                  hsa.miR.511.001111 hsa.miR.517b.001152\n",
       "G_107_GSP_144_no_tumor_19_M.txt   32.199             40                 \n",
       "G_51_GSP_83_no_tumor_19_F.txt     32.259             40                 \n",
       "G_34_GSP_54_no_tumor_19_M_BIS.txt 40.000             40                 \n",
       "G_102_GSP_155_no_tumor_20_F.txt   32.986             40                 \n",
       "G_32_GSP_51_no_tumor_21_F.txt     40.000             40                 \n",
       "G_170_GSP_221_no_tumor_22_F.txt   29.842             40                 \n",
       "                                  hsa.miR.519c.001163 hsa.miR.520b.001116\n",
       "G_107_GSP_144_no_tumor_19_M.txt   40.000              40.000             \n",
       "G_51_GSP_83_no_tumor_19_F.txt     40.000              40.000             \n",
       "G_34_GSP_54_no_tumor_19_M_BIS.txt 40.000              40.000             \n",
       "G_102_GSP_155_no_tumor_20_F.txt   40.000              34.255             \n",
       "G_32_GSP_51_no_tumor_21_F.txt     31.472              40.000             \n",
       "G_170_GSP_221_no_tumor_22_F.txt   40.000              35.581             \n",
       "                                  hsa.miR.520e.001119 hsa.miR.520f.001120\n",
       "G_107_GSP_144_no_tumor_19_M.txt   40                  40.000             \n",
       "G_51_GSP_83_no_tumor_19_F.txt     40                  40.000             \n",
       "G_34_GSP_54_no_tumor_19_M_BIS.txt 40                  40.000             \n",
       "G_102_GSP_155_no_tumor_20_F.txt   40                  31.311             \n",
       "G_32_GSP_51_no_tumor_21_F.txt     40                  40.000             \n",
       "G_170_GSP_221_no_tumor_22_F.txt   40                  40.000             "
      ]
     },
     "metadata": {},
     "output_type": "display_data"
    }
   ],
   "source": [
    "head(df)"
   ]
  },
  {
   "cell_type": "code",
   "execution_count": 7,
   "id": "90ed716e",
   "metadata": {
    "pycharm": {
     "name": "#%%\n"
    }
   },
   "outputs": [],
   "source": [
    "library(miRBaseConverter)"
   ]
  },
  {
   "cell_type": "code",
   "execution_count": 15,
   "id": "6e0e9406",
   "metadata": {
    "pycharm": {
     "name": "#%%\n"
    }
   },
   "outputs": [
    {
     "name": "stdout",
     "output_type": "stream",
     "text": [
      "   Version Proportion           Recommend\n",
      "1       v6         0%                    \n",
      "2     v7_1      0.26%  ***BEST Matched***\n",
      "3       v8      0.26%  ***BEST Matched***\n",
      "4     v8_1      0.26%  ***BEST Matched***\n",
      "5     v8_2      0.26%  ***BEST Matched***\n",
      "6       v9      0.26%  ***BEST Matched***\n",
      "7     v9_1      0.26%  ***BEST Matched***\n",
      "8     v9_2      0.26%  ***BEST Matched***\n",
      "9      v10         0%                    \n",
      "10   v10_1         0%                    \n",
      "11     v11         0%                    \n",
      "12     v12         0%                    \n",
      "13     v13         0%                    \n",
      "14     v14         0%                    \n",
      "15     v15         0%                    \n",
      "16     v16         0%                    \n",
      "17     v17         0%                    \n",
      "18     v18         0%                    \n",
      "19     v19         0%                    \n",
      "20     v20         0%                    \n",
      "21     v21         0%                    \n",
      "22     v22         0%                    \n"
     ]
    },
    {
     "data": {
      "text/html": [
       "'v9_2'"
      ],
      "text/latex": [
       "'v9\\_2'"
      ],
      "text/markdown": [
       "'v9_2'"
      ],
      "text/plain": [
       "[1] \"v9_2\""
      ]
     },
     "metadata": {},
     "output_type": "display_data"
    }
   ],
   "source": [
    "checkMiRNAVersion(gsub(\"\\\\.\", \"-\", colnames(df)))"
   ]
  },
  {
   "cell_type": "markdown",
   "id": "08f7f25e",
   "metadata": {
    "pycharm": {
     "name": "#%% md\n"
    }
   },
   "source": [
    "# Extra code"
   ]
  },
  {
   "cell_type": "code",
   "execution_count": null,
   "id": "f563768e",
   "metadata": {
    "pycharm": {
     "name": "#%%\n"
    }
   },
   "outputs": [],
   "source": [
    "library(org.Hs.eg.db)\n",
    "columns(org.Hs.eg.db)\n",
    "keys <- keys(org.Hs.eg.db)\n",
    "ref_gene <- select(org.Hs.eg.db, keys=keys, columns = c(\"SYMBOL\", \"ENSEMBL\"))"
   ]
  },
  {
   "cell_type": "code",
   "execution_count": null,
   "id": "b040f8ca",
   "metadata": {
    "pycharm": {
     "name": "#%%\n"
    }
   },
   "outputs": [],
   "source": [
    "library(hugene20stprobeset.db)\n",
    "# Get gene symbol\n",
    "x <- hugene20stprobesetSYMBOL\n",
    "# Get the probe identifiers that are mapped to a gene name\n",
    "mapped_probes <- mappedkeys(x)\n",
    "# Convert to a list\n",
    "xx <- as.list(x[mapped_probes])\n",
    "# Transform matrix in a table\n",
    "ref_gene <- do.call(rbind, xx)\n",
    "ref_gene <- as.data.frame(ref_gene)\n",
    "# Add column to get a reference between old and new gene\n",
    "ref_gene$old_gene <- rownames(ref_gene)\n",
    "colnames(ref_gene) <- c(\"new_gene\", \"old_gene\")"
   ]
  }
 ],
 "metadata": {
  "kernelspec": {
   "display_name": "R",
   "language": "R",
   "name": "ir"
  },
  "language_info": {
   "codemirror_mode": "r",
   "file_extension": ".r",
   "mimetype": "text/x-r-source",
   "name": "R",
   "pygments_lexer": "r",
   "version": "4.1.2"
  }
 },
 "nbformat": 4,
 "nbformat_minor": 5
}