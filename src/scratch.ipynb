{
 "cells": [
  {
   "cell_type": "code",
   "execution_count": 1,
   "outputs": [],
   "source": [
    "from src.dataset_intersection import *"
   ],
   "metadata": {
    "collapsed": false,
    "pycharm": {
     "name": "#%%\n"
    }
   }
  },
  {
   "cell_type": "code",
   "execution_count": 7,
   "outputs": [
    {
     "data": {
      "text/plain": "     ARHGEF12  DISEASE\n0    5.341766       GS\n1    5.259017       GS\n2    5.271472       GS\n3    4.951749       GS\n4    5.144355       GS\n..        ...      ...\n12  17.030000  DIABETE\n13   4.200000  DIABETE\n14   3.600000  DIABETE\n15   3.830000  DIABETE\n16   5.300000  DIABETE\n\n[399 rows x 2 columns]",
      "text/html": "<div>\n<style scoped>\n    .dataframe tbody tr th:only-of-type {\n        vertical-align: middle;\n    }\n\n    .dataframe tbody tr th {\n        vertical-align: top;\n    }\n\n    .dataframe thead th {\n        text-align: right;\n    }\n</style>\n<table border=\"1\" class=\"dataframe\">\n  <thead>\n    <tr style=\"text-align: right;\">\n      <th></th>\n      <th>ARHGEF12</th>\n      <th>DISEASE</th>\n    </tr>\n  </thead>\n  <tbody>\n    <tr>\n      <th>0</th>\n      <td>5.341766</td>\n      <td>GS</td>\n    </tr>\n    <tr>\n      <th>1</th>\n      <td>5.259017</td>\n      <td>GS</td>\n    </tr>\n    <tr>\n      <th>2</th>\n      <td>5.271472</td>\n      <td>GS</td>\n    </tr>\n    <tr>\n      <th>3</th>\n      <td>4.951749</td>\n      <td>GS</td>\n    </tr>\n    <tr>\n      <th>4</th>\n      <td>5.144355</td>\n      <td>GS</td>\n    </tr>\n    <tr>\n      <th>...</th>\n      <td>...</td>\n      <td>...</td>\n    </tr>\n    <tr>\n      <th>12</th>\n      <td>17.030000</td>\n      <td>DIABETE</td>\n    </tr>\n    <tr>\n      <th>13</th>\n      <td>4.200000</td>\n      <td>DIABETE</td>\n    </tr>\n    <tr>\n      <th>14</th>\n      <td>3.600000</td>\n      <td>DIABETE</td>\n    </tr>\n    <tr>\n      <th>15</th>\n      <td>3.830000</td>\n      <td>DIABETE</td>\n    </tr>\n    <tr>\n      <th>16</th>\n      <td>5.300000</td>\n      <td>DIABETE</td>\n    </tr>\n  </tbody>\n</table>\n<p>399 rows × 2 columns</p>\n</div>"
     },
     "execution_count": 7,
     "metadata": {},
     "output_type": "execute_result"
    }
   ],
   "source": [
    "BIG_DS[['ARHGEF12', 'DISEASE']]"
   ],
   "metadata": {
    "collapsed": false,
    "pycharm": {
     "name": "#%%\n"
    }
   }
  },
  {
   "cell_type": "code",
   "execution_count": 13,
   "outputs": [
    {
     "data": {
      "text/plain": "<Figure size 432x288 with 1 Axes>",
      "image/png": "[encoded data removed]"
     },
     "metadata": {
      "needs_background": "light"
     },
     "output_type": "display_data"
    }
   ],
   "source": [
    "import matplotlib.pyplot as plt\n",
    "import pandas as pd\n",
    "\n",
    "BIG_DS.plot(x='DISEASE', y='ARHGEF12')"
   ],
   "metadata": {
    "collapsed": false,
    "pycharm": {
     "name": "#%%\n"
    }
   }
  },
  {
   "cell_type": "code",
   "execution_count": 19,
   "outputs": [],
   "source": [
    "BIG_DS.to_csv('../dataset/merged.csv')"
   ],
   "metadata": {
    "collapsed": false,
    "pycharm": {
     "name": "#%%\n"
    }
   }
  }
 ],
 "metadata": {
  "kernelspec": {
   "display_name": "Python 3",
   "language": "python",
   "name": "python3"
  },
  "language_info": {
   "codemirror_mode": {
    "name": "ipython",
    "version": 2
   },
   "file_extension": ".py",
   "mimetype": "text/x-python",
   "name": "python",
   "nbconvert_exporter": "python",
   "pygments_lexer": "ipython2",
   "version": "2.7.6"
  }
 },
 "nbformat": 4,
 "nbformat_minor": 0
}