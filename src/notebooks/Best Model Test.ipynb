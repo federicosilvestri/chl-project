{
 "cells": [
  {
   "cell_type": "markdown",
   "id": "168ae984",
   "metadata": {
    "pycharm": {
     "name": "#%% md\n"
    }
   },
   "source": [
    "# Training and test the final model to classify metabolic diseases"
   ]
  },
  {
   "cell_type": "markdown",
   "id": "e93c33a6",
   "metadata": {},
   "source": [
    "In this notebook we tested the final model (SVC) to classify 5 metabolic diseases: A1A, DIABETE, NALD, MCM, GS. <br>\n",
    "The model works with a Recursive Feature Elimination which selects the best features (biomarker) in our dataset. <br>\n",
    "The best hyper-parameters of the SVC model were already selected in a previous grid search."
   ]
  },
  {
   "cell_type": "code",
   "execution_count": 1,
   "id": "e50dbb21",
   "metadata": {
    "ExecuteTime": {
     "end_time": "2022-06-23T11:21:31.309666Z",
     "start_time": "2022-06-23T11:21:27.405825Z"
    },
    "pycharm": {
     "name": "#%%\n"
    }
   },
   "outputs": [],
   "source": [
    "import pandas as pd\n",
    "import numpy as np\n",
    "import matplotlib.pyplot as plt\n",
    "from itertools import compress\n",
    "from sklearn.model_selection import train_test_split\n",
    "import sklearn.metrics as metrics\n",
    "from sklearn.metrics import classification_report, ConfusionMatrixDisplay\n",
    "from sklearn.svm import SVC\n",
    "from sklearn.feature_selection import SelectFromModel, RFECV, RFE\n",
    "from sklearn.ensemble import RandomForestClassifier"
   ]
  },
  {
   "cell_type": "code",
   "execution_count": 2,
   "id": "36dcff45",
   "metadata": {
    "ExecuteTime": {
     "end_time": "2022-06-23T11:21:32.271986Z",
     "start_time": "2022-06-23T11:21:31.315875Z"
    },
    "pycharm": {
     "name": "#%%\n"
    }
   },
   "outputs": [],
   "source": [
    "df = pd.read_csv('../../dataset/trainU.csv', sep=',', index_col=0)"
   ]
  },
  {
   "cell_type": "code",
   "execution_count": 3,
   "id": "1e558074",
   "metadata": {
    "ExecuteTime": {
     "end_time": "2022-06-23T11:21:32.321490Z",
     "start_time": "2022-06-23T11:21:32.275586Z"
    },
    "pycharm": {
     "name": "#%%\n"
    }
   },
   "outputs": [
    {
     "data": {
      "text/html": [
       "<div>\n",
       "<style scoped>\n",
       "    .dataframe tbody tr th:only-of-type {\n",
       "        vertical-align: middle;\n",
       "    }\n",
       "\n",
       "    .dataframe tbody tr th {\n",
       "        vertical-align: top;\n",
       "    }\n",
       "\n",
       "    .dataframe thead th {\n",
       "        text-align: right;\n",
       "    }\n",
       "</style>\n",
       "<table border=\"1\" class=\"dataframe\">\n",
       "  <thead>\n",
       "    <tr style=\"text-align: right;\">\n",
       "      <th></th>\n",
       "      <th>TPD52L2</th>\n",
       "      <th>PQBP1</th>\n",
       "      <th>UBC</th>\n",
       "      <th>MSN</th>\n",
       "      <th>TECPR2</th>\n",
       "      <th>HTRA1</th>\n",
       "      <th>TSC2</th>\n",
       "      <th>TFPI2</th>\n",
       "      <th>BRMS1</th>\n",
       "      <th>RNF122</th>\n",
       "      <th>...</th>\n",
       "      <th>TMEM120B</th>\n",
       "      <th>GMPS</th>\n",
       "      <th>STX17</th>\n",
       "      <th>MYO10</th>\n",
       "      <th>DCTN5</th>\n",
       "      <th>ACOT8</th>\n",
       "      <th>DDX41</th>\n",
       "      <th>NUP37</th>\n",
       "      <th>S100A13</th>\n",
       "      <th>DISEASE</th>\n",
       "    </tr>\n",
       "  </thead>\n",
       "  <tbody>\n",
       "    <tr>\n",
       "      <th>DIABETE_80</th>\n",
       "      <td>0.317308</td>\n",
       "      <td>0.524752</td>\n",
       "      <td>0.423841</td>\n",
       "      <td>0.609589</td>\n",
       "      <td>0.038095</td>\n",
       "      <td>0.570313</td>\n",
       "      <td>0.194444</td>\n",
       "      <td>0.259825</td>\n",
       "      <td>0.611940</td>\n",
       "      <td>0.502262</td>\n",
       "      <td>...</td>\n",
       "      <td>0.299145</td>\n",
       "      <td>0.834951</td>\n",
       "      <td>0.678571</td>\n",
       "      <td>0.318898</td>\n",
       "      <td>0.222222</td>\n",
       "      <td>0.287770</td>\n",
       "      <td>0.574713</td>\n",
       "      <td>0.550459</td>\n",
       "      <td>0.481865</td>\n",
       "      <td>DIABETE</td>\n",
       "    </tr>\n",
       "    <tr>\n",
       "      <th>MCM_24</th>\n",
       "      <td>0.212228</td>\n",
       "      <td>0.397281</td>\n",
       "      <td>0.387946</td>\n",
       "      <td>0.434344</td>\n",
       "      <td>0.582763</td>\n",
       "      <td>0.377927</td>\n",
       "      <td>0.750613</td>\n",
       "      <td>0.156657</td>\n",
       "      <td>0.670648</td>\n",
       "      <td>0.565605</td>\n",
       "      <td>...</td>\n",
       "      <td>0.836315</td>\n",
       "      <td>0.480588</td>\n",
       "      <td>0.544868</td>\n",
       "      <td>0.512937</td>\n",
       "      <td>0.572418</td>\n",
       "      <td>0.295262</td>\n",
       "      <td>0.444807</td>\n",
       "      <td>0.199677</td>\n",
       "      <td>0.707201</td>\n",
       "      <td>MCM</td>\n",
       "    </tr>\n",
       "    <tr>\n",
       "      <th>DIABETE_117</th>\n",
       "      <td>1.000000</td>\n",
       "      <td>0.195577</td>\n",
       "      <td>1.000000</td>\n",
       "      <td>0.484255</td>\n",
       "      <td>0.000000</td>\n",
       "      <td>0.282397</td>\n",
       "      <td>0.432391</td>\n",
       "      <td>1.000000</td>\n",
       "      <td>0.430812</td>\n",
       "      <td>0.085137</td>\n",
       "      <td>...</td>\n",
       "      <td>0.867477</td>\n",
       "      <td>0.670118</td>\n",
       "      <td>0.050938</td>\n",
       "      <td>0.511076</td>\n",
       "      <td>0.000000</td>\n",
       "      <td>0.459641</td>\n",
       "      <td>0.381262</td>\n",
       "      <td>1.000000</td>\n",
       "      <td>0.050781</td>\n",
       "      <td>DIABETE</td>\n",
       "    </tr>\n",
       "    <tr>\n",
       "      <th>A1A_39</th>\n",
       "      <td>0.375781</td>\n",
       "      <td>0.000000</td>\n",
       "      <td>0.436904</td>\n",
       "      <td>0.469231</td>\n",
       "      <td>0.247460</td>\n",
       "      <td>0.050300</td>\n",
       "      <td>0.149881</td>\n",
       "      <td>0.233997</td>\n",
       "      <td>0.007119</td>\n",
       "      <td>0.805700</td>\n",
       "      <td>...</td>\n",
       "      <td>0.193024</td>\n",
       "      <td>0.911520</td>\n",
       "      <td>0.851867</td>\n",
       "      <td>0.230744</td>\n",
       "      <td>0.433154</td>\n",
       "      <td>0.191503</td>\n",
       "      <td>0.181347</td>\n",
       "      <td>0.386808</td>\n",
       "      <td>0.069342</td>\n",
       "      <td>A1A</td>\n",
       "    </tr>\n",
       "    <tr>\n",
       "      <th>GS_12</th>\n",
       "      <td>0.551092</td>\n",
       "      <td>0.914364</td>\n",
       "      <td>0.293751</td>\n",
       "      <td>0.438265</td>\n",
       "      <td>0.707744</td>\n",
       "      <td>0.818267</td>\n",
       "      <td>0.713636</td>\n",
       "      <td>0.824889</td>\n",
       "      <td>0.382334</td>\n",
       "      <td>0.674181</td>\n",
       "      <td>...</td>\n",
       "      <td>0.000000</td>\n",
       "      <td>0.465992</td>\n",
       "      <td>0.866507</td>\n",
       "      <td>0.867688</td>\n",
       "      <td>0.706209</td>\n",
       "      <td>0.169942</td>\n",
       "      <td>0.448738</td>\n",
       "      <td>0.688865</td>\n",
       "      <td>0.067062</td>\n",
       "      <td>GS</td>\n",
       "    </tr>\n",
       "  </tbody>\n",
       "</table>\n",
       "<p>5 rows × 4421 columns</p>\n",
       "</div>"
      ],
      "text/plain": [
       "              TPD52L2     PQBP1       UBC       MSN    TECPR2     HTRA1  \\\n",
       "DIABETE_80   0.317308  0.524752  0.423841  0.609589  0.038095  0.570313   \n",
       "MCM_24       0.212228  0.397281  0.387946  0.434344  0.582763  0.377927   \n",
       "DIABETE_117  1.000000  0.195577  1.000000  0.484255  0.000000  0.282397   \n",
       "A1A_39       0.375781  0.000000  0.436904  0.469231  0.247460  0.050300   \n",
       "GS_12        0.551092  0.914364  0.293751  0.438265  0.707744  0.818267   \n",
       "\n",
       "                 TSC2     TFPI2     BRMS1    RNF122  ...  TMEM120B      GMPS  \\\n",
       "DIABETE_80   0.194444  0.259825  0.611940  0.502262  ...  0.299145  0.834951   \n",
       "MCM_24       0.750613  0.156657  0.670648  0.565605  ...  0.836315  0.480588   \n",
       "DIABETE_117  0.432391  1.000000  0.430812  0.085137  ...  0.867477  0.670118   \n",
       "A1A_39       0.149881  0.233997  0.007119  0.805700  ...  0.193024  0.911520   \n",
       "GS_12        0.713636  0.824889  0.382334  0.674181  ...  0.000000  0.465992   \n",
       "\n",
       "                STX17     MYO10     DCTN5     ACOT8     DDX41     NUP37  \\\n",
       "DIABETE_80   0.678571  0.318898  0.222222  0.287770  0.574713  0.550459   \n",
       "MCM_24       0.544868  0.512937  0.572418  0.295262  0.444807  0.199677   \n",
       "DIABETE_117  0.050938  0.511076  0.000000  0.459641  0.381262  1.000000   \n",
       "A1A_39       0.851867  0.230744  0.433154  0.191503  0.181347  0.386808   \n",
       "GS_12        0.866507  0.867688  0.706209  0.169942  0.448738  0.688865   \n",
       "\n",
       "              S100A13  DISEASE  \n",
       "DIABETE_80   0.481865  DIABETE  \n",
       "MCM_24       0.707201      MCM  \n",
       "DIABETE_117  0.050781  DIABETE  \n",
       "A1A_39       0.069342      A1A  \n",
       "GS_12        0.067062       GS  \n",
       "\n",
       "[5 rows x 4421 columns]"
      ]
     },
     "execution_count": 3,
     "metadata": {},
     "output_type": "execute_result"
    }
   ],
   "source": [
    "df.head()"
   ]
  },
  {
   "cell_type": "code",
   "execution_count": 4,
   "id": "c5d3e81f",
   "metadata": {
    "ExecuteTime": {
     "end_time": "2022-06-23T11:21:32.605292Z",
     "start_time": "2022-06-23T11:21:32.330524Z"
    },
    "pycharm": {
     "name": "#%%\n"
    }
   },
   "outputs": [
    {
     "name": "stdout",
     "output_type": "stream",
     "text": [
      "<class 'pandas.core.frame.DataFrame'>\n",
      "Index: 299 entries, DIABETE_80 to A1A_111\n",
      "Columns: 4421 entries, TPD52L2 to DISEASE\n",
      "dtypes: float64(4420), object(1)\n",
      "memory usage: 10.1+ MB\n"
     ]
    }
   ],
   "source": [
    "df.info()"
   ]
  },
  {
   "cell_type": "code",
   "execution_count": 5,
   "id": "d5a13c76",
   "metadata": {
    "ExecuteTime": {
     "end_time": "2022-06-23T11:21:32.978232Z",
     "start_time": "2022-06-23T11:21:32.612284Z"
    },
    "pycharm": {
     "name": "#%%\n"
    }
   },
   "outputs": [
    {
     "data": {
      "text/plain": [
       "<AxesSubplot:>"
      ]
     },
     "execution_count": 5,
     "metadata": {},
     "output_type": "execute_result"
    },
    {
     "data": {
      "image/png": "[encoded data removed]",
      "text/plain": [
       "<Figure size 432x288 with 1 Axes>"
      ]
     },
     "metadata": {
      "needs_background": "light"
     },
     "output_type": "display_data"
    }
   ],
   "source": [
    "df['DISEASE'].value_counts().plot.bar()"
   ]
  },
  {
   "cell_type": "code",
   "execution_count": 6,
   "id": "2189f585",
   "metadata": {
    "ExecuteTime": {
     "end_time": "2022-06-23T11:21:32.991962Z",
     "start_time": "2022-06-23T11:21:32.985021Z"
    },
    "pycharm": {
     "name": "#%%\n"
    }
   },
   "outputs": [],
   "source": [
    "data_cols = [col_name for col_name in df.columns if col_name != 'DISEASE']"
   ]
  },
  {
   "cell_type": "code",
   "execution_count": 7,
   "id": "59ade155",
   "metadata": {
    "ExecuteTime": {
     "end_time": "2022-06-23T11:21:33.041284Z",
     "start_time": "2022-06-23T11:21:32.994847Z"
    },
    "pycharm": {
     "name": "#%%\n"
    }
   },
   "outputs": [],
   "source": [
    "train_x, val_x, train_y, val_y = train_test_split(df[data_cols], df['DISEASE'], test_size=.25, stratify=df['DISEASE'])"
   ]
  },
  {
   "cell_type": "markdown",
   "id": "c65eb474",
   "metadata": {},
   "source": [
    "## Feature selection"
   ]
  },
  {
   "cell_type": "markdown",
   "id": "4bfa994b",
   "metadata": {
    "pycharm": {
     "name": "#%% md\n"
    }
   },
   "source": [
    "This feature selection works in steps, reducing the number of features recursively:\n",
    "   1. Select most important features using feature importances of a random forest classifier\n",
    "   2. Select from the previous features the most important ones using recursive feature elimination (the best number of features were already selected in previous grid search)"
   ]
  },
  {
   "cell_type": "markdown",
   "id": "b917facb",
   "metadata": {
    "pycharm": {
     "name": "#%% md\n"
    }
   },
   "source": [
    "#### Feature importance RandomForest"
   ]
  },
  {
   "cell_type": "code",
   "execution_count": 8,
   "id": "65a2fa13",
   "metadata": {
    "ExecuteTime": {
     "end_time": "2022-06-23T11:21:40.708606Z",
     "start_time": "2022-06-23T11:21:33.044226Z"
    },
    "pycharm": {
     "name": "#%%\n"
    },
    "scrolled": true
   },
   "outputs": [
    {
     "name": "stdout",
     "output_type": "stream",
     "text": [
      "Optimal number of features : 987\n"
     ]
    },
    {
     "data": {
      "image/png": "[encoded data removed]",
      "text/plain": [
       "<Figure size 576x360 with 1 Axes>"
      ]
     },
     "metadata": {
      "needs_background": "light"
     },
     "output_type": "display_data"
    }
   ],
   "source": [
    "# Use RandomForestClassifier to select most important features\n",
    "\n",
    "rf_clf = RandomForestClassifier()\n",
    "rf_clf = rf_clf.fit(train_x, train_y)\n",
    "model = SelectFromModel(rf_clf, prefit=True)\n",
    "\n",
    "importances = rf_clf.feature_importances_\n",
    "indices = np.argsort(importances)[::-1]\n",
    "indices = indices[:2000]\n",
    "print('Optimal number of features :', model.get_support().sum())\n",
    "\n",
    "plt.figure(1, figsize=(8, 5))\n",
    "plt.title(\"Feature importances\")\n",
    "plt.xlabel(\"# of Features \")\n",
    "plt.ylabel(\"Importance Score\")\n",
    "plt.bar(range(2000), importances[indices])\n",
    "plt.show()"
   ]
  },
  {
   "cell_type": "code",
   "execution_count": 9,
   "id": "1afcadb1",
   "metadata": {
    "ExecuteTime": {
     "end_time": "2022-06-23T11:21:40.788032Z",
     "start_time": "2022-06-23T11:21:40.712921Z"
    }
   },
   "outputs": [],
   "source": [
    "rf_cols = list(compress(data_cols, model.get_support()))"
   ]
  },
  {
   "cell_type": "markdown",
   "id": "10cb0938",
   "metadata": {
    "pycharm": {
     "name": "#%% md\n"
    }
   },
   "source": [
    "#### Recursive Feature Elimination"
   ]
  },
  {
   "cell_type": "code",
   "execution_count": 10,
   "id": "acfc7261",
   "metadata": {
    "ExecuteTime": {
     "end_time": "2022-06-23T11:21:40.801583Z",
     "start_time": "2022-06-23T11:21:40.795817Z"
    }
   },
   "outputs": [],
   "source": [
    "n_features = 283"
   ]
  },
  {
   "cell_type": "code",
   "execution_count": 11,
   "id": "73821900",
   "metadata": {
    "ExecuteTime": {
     "end_time": "2022-06-23T11:22:40.168688Z",
     "start_time": "2022-06-23T11:21:40.805907Z"
    },
    "pycharm": {
     "name": "#%%\n"
    }
   },
   "outputs": [],
   "source": [
    "rfe = RFE(estimator=RandomForestClassifier(), n_features_to_select=n_features, step=5)\n",
    "rfe = rfe.fit(train_x[rf_cols], train_y)"
   ]
  },
  {
   "cell_type": "code",
   "execution_count": 12,
   "id": "b48176b9",
   "metadata": {
    "ExecuteTime": {
     "end_time": "2022-06-23T11:22:40.187732Z",
     "start_time": "2022-06-23T11:22:40.171780Z"
    }
   },
   "outputs": [],
   "source": [
    "rfe_cols = list(compress(train_x[rf_cols].columns, rfe.get_support()))"
   ]
  },
  {
   "cell_type": "code",
   "execution_count": 13,
   "id": "b4789651",
   "metadata": {
    "ExecuteTime": {
     "end_time": "2022-06-23T11:22:40.201754Z",
     "start_time": "2022-06-23T11:22:40.190643Z"
    }
   },
   "outputs": [],
   "source": [
    "train_x, val_x, train_y, val_y = train_x[rfe_cols], val_x[rfe_cols], train_y, val_y"
   ]
  },
  {
   "cell_type": "code",
   "execution_count": 14,
   "id": "b5924c9e",
   "metadata": {
    "ExecuteTime": {
     "end_time": "2022-06-23T11:22:40.234189Z",
     "start_time": "2022-06-23T11:22:40.205288Z"
    }
   },
   "outputs": [
    {
     "name": "stdout",
     "output_type": "stream",
     "text": [
      "<class 'pandas.core.frame.DataFrame'>\n",
      "Index: 224 entries, DIABETE_126 to DIABETE_88\n",
      "Columns: 283 entries, PQBP1 to PPIC\n",
      "dtypes: float64(283)\n",
      "memory usage: 497.0+ KB\n"
     ]
    }
   ],
   "source": [
    "train_x.info()"
   ]
  },
  {
   "cell_type": "code",
   "execution_count": 15,
   "id": "439dfcbf",
   "metadata": {
    "ExecuteTime": {
     "end_time": "2022-06-23T11:22:40.269385Z",
     "start_time": "2022-06-23T11:22:40.237713Z"
    }
   },
   "outputs": [
    {
     "name": "stdout",
     "output_type": "stream",
     "text": [
      "<class 'pandas.core.frame.DataFrame'>\n",
      "Index: 75 entries, DIABETE_20 to A1A_3\n",
      "Columns: 283 entries, PQBP1 to PPIC\n",
      "dtypes: float64(283)\n",
      "memory usage: 166.4+ KB\n"
     ]
    }
   ],
   "source": [
    "val_x.info()"
   ]
  },
  {
   "cell_type": "markdown",
   "id": "d3a6a32f",
   "metadata": {
    "pycharm": {
     "name": "#%% md\n"
    }
   },
   "source": [
    "## Train SVC"
   ]
  },
  {
   "cell_type": "code",
   "execution_count": 16,
   "id": "4b089f75",
   "metadata": {
    "ExecuteTime": {
     "end_time": "2022-06-23T11:22:40.282277Z",
     "start_time": "2022-06-23T11:22:40.274168Z"
    },
    "pycharm": {
     "name": "#%%\n"
    }
   },
   "outputs": [],
   "source": [
    "best_params = {'C': 4.3,\n",
    "               'class_weight': 'balanced',\n",
    "               'coef0': 1.9, 'degree': 2,\n",
    "               'gamma': 'scale',\n",
    "               'kernel': 'poly',\n",
    "               'shrinking': True}"
   ]
  },
  {
   "cell_type": "code",
   "execution_count": 17,
   "id": "294a97a5",
   "metadata": {
    "ExecuteTime": {
     "end_time": "2022-06-23T11:22:40.311783Z",
     "start_time": "2022-06-23T11:22:40.285131Z"
    },
    "pycharm": {
     "name": "#%%\n"
    }
   },
   "outputs": [
    {
     "data": {
      "text/plain": [
       "SVC(C=4.3, class_weight='balanced', coef0=1.9, degree=2, kernel='poly')"
      ]
     },
     "execution_count": 17,
     "metadata": {},
     "output_type": "execute_result"
    }
   ],
   "source": [
    "clf = SVC(**best_params)\n",
    "clf.fit(train_x, train_y)"
   ]
  },
  {
   "cell_type": "code",
   "execution_count": 18,
   "id": "f9e92dda",
   "metadata": {
    "ExecuteTime": {
     "end_time": "2022-06-23T11:22:40.334071Z",
     "start_time": "2022-06-23T11:22:40.315111Z"
    }
   },
   "outputs": [
    {
     "data": {
      "text/plain": [
       "1.0"
      ]
     },
     "execution_count": 18,
     "metadata": {},
     "output_type": "execute_result"
    }
   ],
   "source": [
    "clf.score(train_x, train_y)"
   ]
  },
  {
   "cell_type": "code",
   "execution_count": 19,
   "id": "29aca63e",
   "metadata": {
    "ExecuteTime": {
     "end_time": "2022-06-23T11:22:40.358919Z",
     "start_time": "2022-06-23T11:22:40.337090Z"
    },
    "pycharm": {
     "name": "#%%\n"
    }
   },
   "outputs": [
    {
     "name": "stdout",
     "output_type": "stream",
     "text": [
      "              precision    recall  f1-score   support\n",
      "\n",
      "         A1A       1.00      1.00      1.00        24\n",
      "     DIABETE       0.94      0.91      0.92        33\n",
      "          GS       0.75      1.00      0.86         6\n",
      "         MCM       1.00      1.00      1.00         5\n",
      "        NALD       0.83      0.71      0.77         7\n",
      "\n",
      "    accuracy                           0.93        75\n",
      "   macro avg       0.90      0.92      0.91        75\n",
      "weighted avg       0.94      0.93      0.93        75\n",
      "\n"
     ]
    }
   ],
   "source": [
    "print(classification_report(val_y, clf.predict(val_x)))"
   ]
  },
  {
   "cell_type": "code",
   "execution_count": 31,
   "id": "911aa94b",
   "metadata": {
    "ExecuteTime": {
     "end_time": "2022-06-23T11:26:05.024960Z",
     "start_time": "2022-06-23T11:26:04.353230Z"
    }
   },
   "outputs": [
    {
     "data": {
      "image/png": "[encoded data removed]",
      "text/plain": [
       "<Figure size 432x288 with 2 Axes>"
      ]
     },
     "metadata": {
      "needs_background": "light"
     },
     "output_type": "display_data"
    }
   ],
   "source": [
    "ConfusionMatrixDisplay.from_estimator(clf, val_x, val_y)"
   ]
  },
  {
   "cell_type": "markdown",
   "id": "16d9ec33",
   "metadata": {
    "pycharm": {
     "name": "#%% md\n"
    }
   },
   "source": [
    "## Test SVC"
   ]
  },
  {
   "cell_type": "code",
   "execution_count": 21,
   "id": "670b8d53",
   "metadata": {
    "ExecuteTime": {
     "end_time": "2022-06-23T11:22:41.280308Z",
     "start_time": "2022-06-23T11:22:40.799786Z"
    },
    "pycharm": {
     "name": "#%%\n"
    }
   },
   "outputs": [],
   "source": [
    "test = pd.read_csv('../../dataset/testU.csv', sep=',', index_col=0)"
   ]
  },
  {
   "cell_type": "code",
   "execution_count": 22,
   "id": "3661d175",
   "metadata": {
    "ExecuteTime": {
     "end_time": "2022-06-23T11:22:41.348077Z",
     "start_time": "2022-06-23T11:22:41.283960Z"
    },
    "pycharm": {
     "name": "#%%\n"
    }
   },
   "outputs": [
    {
     "data": {
      "text/html": [
       "<div>\n",
       "<style scoped>\n",
       "    .dataframe tbody tr th:only-of-type {\n",
       "        vertical-align: middle;\n",
       "    }\n",
       "\n",
       "    .dataframe tbody tr th {\n",
       "        vertical-align: top;\n",
       "    }\n",
       "\n",
       "    .dataframe thead th {\n",
       "        text-align: right;\n",
       "    }\n",
       "</style>\n",
       "<table border=\"1\" class=\"dataframe\">\n",
       "  <thead>\n",
       "    <tr style=\"text-align: right;\">\n",
       "      <th></th>\n",
       "      <th>TPD52L2</th>\n",
       "      <th>PQBP1</th>\n",
       "      <th>UBC</th>\n",
       "      <th>MSN</th>\n",
       "      <th>TECPR2</th>\n",
       "      <th>HTRA1</th>\n",
       "      <th>TSC2</th>\n",
       "      <th>TFPI2</th>\n",
       "      <th>BRMS1</th>\n",
       "      <th>RNF122</th>\n",
       "      <th>...</th>\n",
       "      <th>TMEM120B</th>\n",
       "      <th>GMPS</th>\n",
       "      <th>STX17</th>\n",
       "      <th>MYO10</th>\n",
       "      <th>DCTN5</th>\n",
       "      <th>ACOT8</th>\n",
       "      <th>DDX41</th>\n",
       "      <th>NUP37</th>\n",
       "      <th>S100A13</th>\n",
       "      <th>DISEASE</th>\n",
       "    </tr>\n",
       "  </thead>\n",
       "  <tbody>\n",
       "    <tr>\n",
       "      <th>DIABETE_107</th>\n",
       "      <td>0.480062</td>\n",
       "      <td>0.331089</td>\n",
       "      <td>0.559612</td>\n",
       "      <td>0.145919</td>\n",
       "      <td>0.552987</td>\n",
       "      <td>0.928214</td>\n",
       "      <td>1.000000</td>\n",
       "      <td>0.627466</td>\n",
       "      <td>0.777439</td>\n",
       "      <td>0.377028</td>\n",
       "      <td>...</td>\n",
       "      <td>0.160809</td>\n",
       "      <td>0.330324</td>\n",
       "      <td>0.039148</td>\n",
       "      <td>0.612082</td>\n",
       "      <td>0.301108</td>\n",
       "      <td>0.424032</td>\n",
       "      <td>0.534618</td>\n",
       "      <td>0.374668</td>\n",
       "      <td>0.157539</td>\n",
       "      <td>DIABETE</td>\n",
       "    </tr>\n",
       "    <tr>\n",
       "      <th>DIABETE_89</th>\n",
       "      <td>0.663462</td>\n",
       "      <td>0.841584</td>\n",
       "      <td>0.907285</td>\n",
       "      <td>0.472603</td>\n",
       "      <td>0.771429</td>\n",
       "      <td>0.218750</td>\n",
       "      <td>0.784722</td>\n",
       "      <td>0.471616</td>\n",
       "      <td>0.917910</td>\n",
       "      <td>0.285068</td>\n",
       "      <td>...</td>\n",
       "      <td>0.982906</td>\n",
       "      <td>0.368932</td>\n",
       "      <td>0.190476</td>\n",
       "      <td>0.527559</td>\n",
       "      <td>0.802469</td>\n",
       "      <td>0.618705</td>\n",
       "      <td>0.781609</td>\n",
       "      <td>0.688073</td>\n",
       "      <td>1.000000</td>\n",
       "      <td>DIABETE</td>\n",
       "    </tr>\n",
       "    <tr>\n",
       "      <th>A1A_2</th>\n",
       "      <td>0.522464</td>\n",
       "      <td>0.243671</td>\n",
       "      <td>0.503386</td>\n",
       "      <td>0.225593</td>\n",
       "      <td>0.133470</td>\n",
       "      <td>0.430692</td>\n",
       "      <td>0.343143</td>\n",
       "      <td>0.059188</td>\n",
       "      <td>0.332863</td>\n",
       "      <td>0.217627</td>\n",
       "      <td>...</td>\n",
       "      <td>0.711604</td>\n",
       "      <td>0.694920</td>\n",
       "      <td>0.580323</td>\n",
       "      <td>0.322831</td>\n",
       "      <td>0.278889</td>\n",
       "      <td>0.226221</td>\n",
       "      <td>0.203807</td>\n",
       "      <td>0.363662</td>\n",
       "      <td>0.083471</td>\n",
       "      <td>A1A</td>\n",
       "    </tr>\n",
       "    <tr>\n",
       "      <th>GS_23</th>\n",
       "      <td>0.569581</td>\n",
       "      <td>0.761194</td>\n",
       "      <td>0.232405</td>\n",
       "      <td>0.461864</td>\n",
       "      <td>0.120214</td>\n",
       "      <td>0.990555</td>\n",
       "      <td>0.434700</td>\n",
       "      <td>0.637531</td>\n",
       "      <td>0.837640</td>\n",
       "      <td>0.880204</td>\n",
       "      <td>...</td>\n",
       "      <td>0.349635</td>\n",
       "      <td>0.462027</td>\n",
       "      <td>0.530053</td>\n",
       "      <td>0.717613</td>\n",
       "      <td>0.159534</td>\n",
       "      <td>0.697094</td>\n",
       "      <td>0.328126</td>\n",
       "      <td>0.597554</td>\n",
       "      <td>0.441224</td>\n",
       "      <td>GS</td>\n",
       "    </tr>\n",
       "    <tr>\n",
       "      <th>MCM_15</th>\n",
       "      <td>0.193595</td>\n",
       "      <td>0.603720</td>\n",
       "      <td>0.578065</td>\n",
       "      <td>0.000000</td>\n",
       "      <td>0.159841</td>\n",
       "      <td>0.970036</td>\n",
       "      <td>0.948340</td>\n",
       "      <td>0.258584</td>\n",
       "      <td>0.132309</td>\n",
       "      <td>0.816709</td>\n",
       "      <td>...</td>\n",
       "      <td>0.103328</td>\n",
       "      <td>0.622793</td>\n",
       "      <td>0.489486</td>\n",
       "      <td>0.294818</td>\n",
       "      <td>0.693985</td>\n",
       "      <td>0.397131</td>\n",
       "      <td>1.000000</td>\n",
       "      <td>0.142732</td>\n",
       "      <td>0.653312</td>\n",
       "      <td>MCM</td>\n",
       "    </tr>\n",
       "  </tbody>\n",
       "</table>\n",
       "<p>5 rows × 4421 columns</p>\n",
       "</div>"
      ],
      "text/plain": [
       "              TPD52L2     PQBP1       UBC       MSN    TECPR2     HTRA1  \\\n",
       "DIABETE_107  0.480062  0.331089  0.559612  0.145919  0.552987  0.928214   \n",
       "DIABETE_89   0.663462  0.841584  0.907285  0.472603  0.771429  0.218750   \n",
       "A1A_2        0.522464  0.243671  0.503386  0.225593  0.133470  0.430692   \n",
       "GS_23        0.569581  0.761194  0.232405  0.461864  0.120214  0.990555   \n",
       "MCM_15       0.193595  0.603720  0.578065  0.000000  0.159841  0.970036   \n",
       "\n",
       "                 TSC2     TFPI2     BRMS1    RNF122  ...  TMEM120B      GMPS  \\\n",
       "DIABETE_107  1.000000  0.627466  0.777439  0.377028  ...  0.160809  0.330324   \n",
       "DIABETE_89   0.784722  0.471616  0.917910  0.285068  ...  0.982906  0.368932   \n",
       "A1A_2        0.343143  0.059188  0.332863  0.217627  ...  0.711604  0.694920   \n",
       "GS_23        0.434700  0.637531  0.837640  0.880204  ...  0.349635  0.462027   \n",
       "MCM_15       0.948340  0.258584  0.132309  0.816709  ...  0.103328  0.622793   \n",
       "\n",
       "                STX17     MYO10     DCTN5     ACOT8     DDX41     NUP37  \\\n",
       "DIABETE_107  0.039148  0.612082  0.301108  0.424032  0.534618  0.374668   \n",
       "DIABETE_89   0.190476  0.527559  0.802469  0.618705  0.781609  0.688073   \n",
       "A1A_2        0.580323  0.322831  0.278889  0.226221  0.203807  0.363662   \n",
       "GS_23        0.530053  0.717613  0.159534  0.697094  0.328126  0.597554   \n",
       "MCM_15       0.489486  0.294818  0.693985  0.397131  1.000000  0.142732   \n",
       "\n",
       "              S100A13  DISEASE  \n",
       "DIABETE_107  0.157539  DIABETE  \n",
       "DIABETE_89   1.000000  DIABETE  \n",
       "A1A_2        0.083471      A1A  \n",
       "GS_23        0.441224       GS  \n",
       "MCM_15       0.653312      MCM  \n",
       "\n",
       "[5 rows x 4421 columns]"
      ]
     },
     "execution_count": 22,
     "metadata": {},
     "output_type": "execute_result"
    }
   ],
   "source": [
    "test.head()"
   ]
  },
  {
   "cell_type": "code",
   "execution_count": 23,
   "id": "1751b5f8",
   "metadata": {
    "ExecuteTime": {
     "end_time": "2022-06-23T11:22:42.015309Z",
     "start_time": "2022-06-23T11:22:41.381333Z"
    },
    "pycharm": {
     "name": "#%%\n"
    }
   },
   "outputs": [
    {
     "name": "stdout",
     "output_type": "stream",
     "text": [
      "<class 'pandas.core.frame.DataFrame'>\n",
      "Index: 100 entries, DIABETE_107 to DIABETE_62\n",
      "Columns: 4421 entries, TPD52L2 to DISEASE\n",
      "dtypes: float64(4420), object(1)\n",
      "memory usage: 3.4+ MB\n"
     ]
    }
   ],
   "source": [
    "test.info()"
   ]
  },
  {
   "cell_type": "code",
   "execution_count": 24,
   "id": "fd00155b",
   "metadata": {
    "ExecuteTime": {
     "end_time": "2022-06-23T11:22:42.295118Z",
     "start_time": "2022-06-23T11:22:42.032956Z"
    },
    "pycharm": {
     "name": "#%%\n"
    }
   },
   "outputs": [
    {
     "data": {
      "text/plain": [
       "<AxesSubplot:>"
      ]
     },
     "execution_count": 24,
     "metadata": {},
     "output_type": "execute_result"
    },
    {
     "data": {
      "image/png": "[encoded data removed]",
      "text/plain": [
       "<Figure size 432x288 with 1 Axes>"
      ]
     },
     "metadata": {
      "needs_background": "light"
     },
     "output_type": "display_data"
    }
   ],
   "source": [
    "test['DISEASE'].value_counts().plot.bar()"
   ]
  },
  {
   "cell_type": "code",
   "execution_count": 25,
   "id": "f68f72ac",
   "metadata": {
    "ExecuteTime": {
     "end_time": "2022-06-23T11:22:42.308775Z",
     "start_time": "2022-06-23T11:22:42.299238Z"
    },
    "pycharm": {
     "name": "#%%\n"
    }
   },
   "outputs": [],
   "source": [
    "data_cols = [col_name for col_name in test.columns if col_name != 'DISEASE']"
   ]
  },
  {
   "cell_type": "code",
   "execution_count": 26,
   "id": "3d8da92b",
   "metadata": {
    "ExecuteTime": {
     "end_time": "2022-06-23T11:22:42.331961Z",
     "start_time": "2022-06-23T11:22:42.314463Z"
    }
   },
   "outputs": [],
   "source": [
    "test_x, test_y = test[data_cols], test['DISEASE']"
   ]
  },
  {
   "cell_type": "code",
   "execution_count": 27,
   "id": "ab486d25",
   "metadata": {
    "ExecuteTime": {
     "end_time": "2022-06-23T11:22:42.349680Z",
     "start_time": "2022-06-23T11:22:42.340397Z"
    }
   },
   "outputs": [],
   "source": [
    "# Apply feature selection to test set\n",
    "test_x, test_y = test[rfe_cols], test_y"
   ]
  },
  {
   "cell_type": "code",
   "execution_count": 28,
   "id": "326c0a0d",
   "metadata": {
    "ExecuteTime": {
     "end_time": "2022-06-23T11:22:42.397787Z",
     "start_time": "2022-06-23T11:22:42.371138Z"
    },
    "pycharm": {
     "name": "#%%\n"
    }
   },
   "outputs": [
    {
     "name": "stdout",
     "output_type": "stream",
     "text": [
      "              precision    recall  f1-score   support\n",
      "\n",
      "         A1A       0.94      0.94      0.94        32\n",
      "     DIABETE       0.83      0.91      0.87        44\n",
      "          GS       1.00      1.00      1.00         7\n",
      "         MCM       1.00      1.00      1.00         7\n",
      "        NALD       0.67      0.40      0.50        10\n",
      "\n",
      "    accuracy                           0.88       100\n",
      "   macro avg       0.89      0.85      0.86       100\n",
      "weighted avg       0.87      0.88      0.87       100\n",
      "\n"
     ]
    }
   ],
   "source": [
    "print(classification_report(test_y, clf.predict(test_x)))"
   ]
  },
  {
   "cell_type": "code",
   "execution_count": 32,
   "id": "4870edc7",
   "metadata": {
    "ExecuteTime": {
     "end_time": "2022-06-23T11:26:25.416264Z",
     "start_time": "2022-06-23T11:26:24.725722Z"
    }
   },
   "outputs": [
    {
     "data": {
      "image/png": "[encoded data removed]",
      "text/plain": [
       "<Figure size 432x288 with 2 Axes>"
      ]
     },
     "metadata": {
      "needs_background": "light"
     },
     "output_type": "display_data"
    }
   ],
   "source": [
    "ConfusionMatrixDisplay.from_estimator(clf, test_x, test_y)"
   ]
  },
  {
   "cell_type": "code",
   "execution_count": null,
   "id": "0cc3c669",
   "metadata": {},
   "outputs": [],
   "source": []
  }
 ],
 "metadata": {
  "kernelspec": {
   "display_name": "Python 3 (ipykernel)",
   "language": "python",
   "name": "python3"
  },
  "language_info": {
   "codemirror_mode": {
    "name": "ipython",
    "version": 3
   },
   "file_extension": ".py",
   "mimetype": "text/x-python",
   "name": "python",
   "nbconvert_exporter": "python",
   "pygments_lexer": "ipython3",
   "version": "3.10.2"
  }
 },
 "nbformat": 4,
 "nbformat_minor": 5
}
