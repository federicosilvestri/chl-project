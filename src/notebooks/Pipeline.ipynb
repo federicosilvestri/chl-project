{
 "cells": [
  {
   "cell_type": "markdown",
   "id": "ae2ba176",
   "metadata": {
    "pycharm": {
     "name": "#%% md\n"
    }
   },
   "source": [
    "# Preprocessing pipeline"
   ]
  },
  {
   "cell_type": "code",
   "execution_count": 1,
   "id": "756cfed2",
   "metadata": {
    "pycharm": {
     "name": "#%%\n"
    }
   },
   "outputs": [],
   "source": [
    "# adding the project root inside the python path\n",
    "import sys\n",
    "import os\n",
    "\n",
    "sys.path.insert(0, os.path.abspath('..'))"
   ]
  },
  {
   "cell_type": "code",
   "execution_count": 2,
   "id": "6d631aee",
   "metadata": {
    "pycharm": {
     "name": "#%%\n"
    }
   },
   "outputs": [],
   "source": [
    "# The path where the dataset are stored\n",
    "DATASET_PATH: str = \"../../dataset/first_disease_sel/\"\n",
    "DISEASE_COLNAME: str = 'DISEASE'"
   ]
  },
  {
   "cell_type": "markdown",
   "id": "9f30ec15",
   "metadata": {
    "pycharm": {
     "name": "#%% md\n"
    }
   },
   "source": [
    "## Starting the pipeline"
   ]
  },
  {
   "cell_type": "code",
   "execution_count": 3,
   "id": "e04b6914",
   "metadata": {
    "pycharm": {
     "name": "#%%\n"
    }
   },
   "outputs": [
    {
     "name": "stderr",
     "output_type": "stream",
     "text": [
      "INFO:root:Pipeline already executed, found dataset inside /tmp/chl\n",
      "INFO:root:Splitting dataset\n",
      "INFO:root:Pipeline executed\n"
     ]
    }
   ],
   "source": [
    "from analysis.preprocess import PreprocessPipeline\n",
    "\n",
    "pipeline = PreprocessPipeline(datasets_path=DATASET_PATH, disease_col_name=DISEASE_COLNAME)\n",
    "pipeline.execute_pipeline()"
   ]
  },
  {
   "cell_type": "markdown",
   "source": [
    "## Inspecting the dataset we have built\n",
    "\n",
    "The shape of dataset is $\\text{rows} \\times (n_{feature} + 1)$ where $+1$ is the y (target)."
   ],
   "metadata": {
    "collapsed": false,
    "pycharm": {
     "name": "#%% md\n"
    }
   }
  },
  {
   "cell_type": "code",
   "execution_count": null,
   "outputs": [],
   "source": [
    "dataset = pipeline.dataset\n",
    "dataset"
   ],
   "metadata": {
    "collapsed": false,
    "pycharm": {
     "name": "#%%\n"
    }
   }
  },
  {
   "cell_type": "markdown",
   "source": [
    "## Plot disease distribution"
   ],
   "metadata": {
    "collapsed": false,
    "pycharm": {
     "name": "#%% md\n"
    }
   }
  },
  {
   "cell_type": "code",
   "execution_count": null,
   "outputs": [],
   "source": [
    "# plotting the number of sample for each disease\n",
    "disease = dataset['DISEASE'].value_counts()\n",
    "print(disease)\n",
    "disease.plot.bar()"
   ],
   "metadata": {
    "collapsed": false,
    "pycharm": {
     "name": "#%%\n"
    }
   }
  },
  {
   "cell_type": "markdown",
   "source": [
    "## Experiments"
   ],
   "metadata": {
    "collapsed": false,
    "pycharm": {
     "name": "#%% md\n"
    }
   }
  },
  {
   "cell_type": "code",
   "execution_count": null,
   "outputs": [],
   "source": [
    "import seaborn as sns\n",
    "dataset = dataset[dataset['DISEASE'] == 'A1A']\n",
    "corr = dataset.corr()\n",
    "sns.heatmap(corr)\n"
   ],
   "metadata": {
    "collapsed": false,
    "pycharm": {
     "name": "#%%\n"
    }
   }
  },
  {
   "cell_type": "code",
   "execution_count": null,
   "outputs": [],
   "source": [
    "import numpy as np\n",
    "columns = np.full((corr.shape[0],), True, dtype=bool)\n",
    "for i in range(corr.shape[0]):\n",
    "    for j in range(i+1, corr.shape[0]):\n",
    "        if corr.iloc[i,j] >= 0.9:\n",
    "            if columns[j]:\n",
    "                columns[j] = False\n",
    "selected_columns = dataset.columns[columns]"
   ],
   "metadata": {
    "collapsed": false,
    "pycharm": {
     "name": "#%%\n"
    }
   }
  },
  {
   "cell_type": "code",
   "execution_count": null,
   "outputs": [],
   "source": [
    "## Selecting only the train and test data\n",
    "\n",
    "The shape of `train_set` and `test_set` is $R \\times n_{features}$ where $R < $ rows"
   ],
   "metadata": {
    "collapsed": false,
    "pycharm": {
     "name": "#%%\n"
    }
   }
  },
  {
   "cell_type": "code",
   "execution_count": 5,
   "id": "f34e6385",
   "metadata": {},
   "outputs": [
    {
     "data": {
      "text/html": [
       "<div>\n",
       "<style scoped>\n",
       "    .dataframe tbody tr th:only-of-type {\n",
       "        vertical-align: middle;\n",
       "    }\n",
       "\n",
       "    .dataframe tbody tr th {\n",
       "        vertical-align: top;\n",
       "    }\n",
       "\n",
       "    .dataframe thead th {\n",
       "        text-align: right;\n",
       "    }\n",
       "</style>\n",
       "<table border=\"1\" class=\"dataframe\">\n",
       "  <thead>\n",
       "    <tr style=\"text-align: right;\">\n",
       "      <th></th>\n",
       "      <th>SWAP70</th>\n",
       "      <th>SERTAD2</th>\n",
       "      <th>TAPT1</th>\n",
       "      <th>LYST</th>\n",
       "      <th>ZNF83</th>\n",
       "      <th>HSD17B10</th>\n",
       "      <th>COX7B</th>\n",
       "      <th>FN3KRP</th>\n",
       "      <th>FAM120A</th>\n",
       "      <th>ZNF155</th>\n",
       "      <th>...</th>\n",
       "      <th>IPO13</th>\n",
       "      <th>NUP188</th>\n",
       "      <th>DDX60</th>\n",
       "      <th>MLH3</th>\n",
       "      <th>IGFBP7</th>\n",
       "      <th>YAP1</th>\n",
       "      <th>EML4</th>\n",
       "      <th>POMT2</th>\n",
       "      <th>LTBP4</th>\n",
       "      <th>FIBP</th>\n",
       "    </tr>\n",
       "  </thead>\n",
       "  <tbody>\n",
       "    <tr>\n",
       "      <th>330</th>\n",
       "      <td>0.212567</td>\n",
       "      <td>1.000000</td>\n",
       "      <td>0.000000</td>\n",
       "      <td>0.339730</td>\n",
       "      <td>0.000000</td>\n",
       "      <td>0.359792</td>\n",
       "      <td>0.202816</td>\n",
       "      <td>0.500993</td>\n",
       "      <td>0.384262</td>\n",
       "      <td>0.063050</td>\n",
       "      <td>...</td>\n",
       "      <td>0.229384</td>\n",
       "      <td>0.826634</td>\n",
       "      <td>1.000000</td>\n",
       "      <td>1.000000</td>\n",
       "      <td>0.016118</td>\n",
       "      <td>0.392841</td>\n",
       "      <td>0.105317</td>\n",
       "      <td>0.000000</td>\n",
       "      <td>1.000000</td>\n",
       "      <td>0.298693</td>\n",
       "    </tr>\n",
       "    <tr>\n",
       "      <th>312</th>\n",
       "      <td>0.145114</td>\n",
       "      <td>0.484298</td>\n",
       "      <td>0.261904</td>\n",
       "      <td>0.749082</td>\n",
       "      <td>1.000000</td>\n",
       "      <td>0.053916</td>\n",
       "      <td>0.073590</td>\n",
       "      <td>0.178453</td>\n",
       "      <td>0.000000</td>\n",
       "      <td>0.454354</td>\n",
       "      <td>...</td>\n",
       "      <td>0.460398</td>\n",
       "      <td>0.775799</td>\n",
       "      <td>1.000000</td>\n",
       "      <td>0.180764</td>\n",
       "      <td>0.620879</td>\n",
       "      <td>0.230877</td>\n",
       "      <td>0.815269</td>\n",
       "      <td>0.642125</td>\n",
       "      <td>0.825034</td>\n",
       "      <td>0.123821</td>\n",
       "    </tr>\n",
       "    <tr>\n",
       "      <th>97</th>\n",
       "      <td>0.157042</td>\n",
       "      <td>0.681858</td>\n",
       "      <td>0.472924</td>\n",
       "      <td>0.265096</td>\n",
       "      <td>0.482143</td>\n",
       "      <td>0.142436</td>\n",
       "      <td>0.336447</td>\n",
       "      <td>0.403672</td>\n",
       "      <td>0.643755</td>\n",
       "      <td>0.205084</td>\n",
       "      <td>...</td>\n",
       "      <td>0.324652</td>\n",
       "      <td>0.274891</td>\n",
       "      <td>0.095989</td>\n",
       "      <td>0.198475</td>\n",
       "      <td>0.277550</td>\n",
       "      <td>0.083364</td>\n",
       "      <td>0.421012</td>\n",
       "      <td>0.336790</td>\n",
       "      <td>0.354213</td>\n",
       "      <td>0.090360</td>\n",
       "    </tr>\n",
       "    <tr>\n",
       "      <th>23</th>\n",
       "      <td>0.306159</td>\n",
       "      <td>0.639392</td>\n",
       "      <td>0.768268</td>\n",
       "      <td>0.730576</td>\n",
       "      <td>0.178221</td>\n",
       "      <td>0.138684</td>\n",
       "      <td>0.812343</td>\n",
       "      <td>0.708128</td>\n",
       "      <td>0.515353</td>\n",
       "      <td>0.202960</td>\n",
       "      <td>...</td>\n",
       "      <td>0.000000</td>\n",
       "      <td>0.445399</td>\n",
       "      <td>0.057466</td>\n",
       "      <td>0.690620</td>\n",
       "      <td>0.652229</td>\n",
       "      <td>0.623564</td>\n",
       "      <td>0.353394</td>\n",
       "      <td>0.444441</td>\n",
       "      <td>0.417545</td>\n",
       "      <td>0.594054</td>\n",
       "    </tr>\n",
       "    <tr>\n",
       "      <th>44</th>\n",
       "      <td>0.730299</td>\n",
       "      <td>0.433469</td>\n",
       "      <td>0.786303</td>\n",
       "      <td>0.464067</td>\n",
       "      <td>0.439204</td>\n",
       "      <td>1.000000</td>\n",
       "      <td>1.000000</td>\n",
       "      <td>0.275885</td>\n",
       "      <td>1.000000</td>\n",
       "      <td>0.000000</td>\n",
       "      <td>...</td>\n",
       "      <td>0.180092</td>\n",
       "      <td>0.982381</td>\n",
       "      <td>0.607558</td>\n",
       "      <td>0.508344</td>\n",
       "      <td>0.550279</td>\n",
       "      <td>0.121410</td>\n",
       "      <td>0.866431</td>\n",
       "      <td>0.639267</td>\n",
       "      <td>0.435709</td>\n",
       "      <td>0.489652</td>\n",
       "    </tr>\n",
       "    <tr>\n",
       "      <th>...</th>\n",
       "      <td>...</td>\n",
       "      <td>...</td>\n",
       "      <td>...</td>\n",
       "      <td>...</td>\n",
       "      <td>...</td>\n",
       "      <td>...</td>\n",
       "      <td>...</td>\n",
       "      <td>...</td>\n",
       "      <td>...</td>\n",
       "      <td>...</td>\n",
       "      <td>...</td>\n",
       "      <td>...</td>\n",
       "      <td>...</td>\n",
       "      <td>...</td>\n",
       "      <td>...</td>\n",
       "      <td>...</td>\n",
       "      <td>...</td>\n",
       "      <td>...</td>\n",
       "      <td>...</td>\n",
       "      <td>...</td>\n",
       "      <td>...</td>\n",
       "    </tr>\n",
       "    <tr>\n",
       "      <th>78</th>\n",
       "      <td>0.782049</td>\n",
       "      <td>0.694581</td>\n",
       "      <td>0.300556</td>\n",
       "      <td>0.032058</td>\n",
       "      <td>0.514782</td>\n",
       "      <td>0.289088</td>\n",
       "      <td>0.523735</td>\n",
       "      <td>0.077712</td>\n",
       "      <td>0.556361</td>\n",
       "      <td>0.184867</td>\n",
       "      <td>...</td>\n",
       "      <td>0.734491</td>\n",
       "      <td>0.543154</td>\n",
       "      <td>0.185832</td>\n",
       "      <td>0.983004</td>\n",
       "      <td>1.000000</td>\n",
       "      <td>0.443915</td>\n",
       "      <td>0.275828</td>\n",
       "      <td>0.532254</td>\n",
       "      <td>0.000000</td>\n",
       "      <td>0.632733</td>\n",
       "    </tr>\n",
       "    <tr>\n",
       "      <th>201</th>\n",
       "      <td>0.945956</td>\n",
       "      <td>0.323621</td>\n",
       "      <td>0.377974</td>\n",
       "      <td>0.574941</td>\n",
       "      <td>0.277886</td>\n",
       "      <td>0.061082</td>\n",
       "      <td>0.044363</td>\n",
       "      <td>0.273338</td>\n",
       "      <td>0.992451</td>\n",
       "      <td>0.000000</td>\n",
       "      <td>...</td>\n",
       "      <td>0.741231</td>\n",
       "      <td>0.620693</td>\n",
       "      <td>0.149020</td>\n",
       "      <td>0.104523</td>\n",
       "      <td>0.079473</td>\n",
       "      <td>0.070119</td>\n",
       "      <td>0.641081</td>\n",
       "      <td>0.000000</td>\n",
       "      <td>0.285432</td>\n",
       "      <td>0.053640</td>\n",
       "    </tr>\n",
       "    <tr>\n",
       "      <th>258</th>\n",
       "      <td>0.103774</td>\n",
       "      <td>0.079268</td>\n",
       "      <td>0.842520</td>\n",
       "      <td>0.272059</td>\n",
       "      <td>0.409357</td>\n",
       "      <td>0.682540</td>\n",
       "      <td>0.370588</td>\n",
       "      <td>1.000000</td>\n",
       "      <td>0.426471</td>\n",
       "      <td>0.683258</td>\n",
       "      <td>...</td>\n",
       "      <td>0.959459</td>\n",
       "      <td>1.000000</td>\n",
       "      <td>0.744094</td>\n",
       "      <td>0.210526</td>\n",
       "      <td>0.000000</td>\n",
       "      <td>0.982759</td>\n",
       "      <td>0.305344</td>\n",
       "      <td>0.817568</td>\n",
       "      <td>0.568905</td>\n",
       "      <td>0.437500</td>\n",
       "    </tr>\n",
       "    <tr>\n",
       "      <th>264</th>\n",
       "      <td>0.117925</td>\n",
       "      <td>0.378049</td>\n",
       "      <td>0.944882</td>\n",
       "      <td>0.492647</td>\n",
       "      <td>0.660819</td>\n",
       "      <td>0.507937</td>\n",
       "      <td>0.429412</td>\n",
       "      <td>0.396947</td>\n",
       "      <td>0.720588</td>\n",
       "      <td>0.814480</td>\n",
       "      <td>...</td>\n",
       "      <td>0.783784</td>\n",
       "      <td>0.478788</td>\n",
       "      <td>0.267717</td>\n",
       "      <td>0.458647</td>\n",
       "      <td>0.575630</td>\n",
       "      <td>0.840517</td>\n",
       "      <td>0.564885</td>\n",
       "      <td>0.851351</td>\n",
       "      <td>0.402827</td>\n",
       "      <td>0.000000</td>\n",
       "    </tr>\n",
       "    <tr>\n",
       "      <th>285</th>\n",
       "      <td>0.000000</td>\n",
       "      <td>0.000000</td>\n",
       "      <td>0.000000</td>\n",
       "      <td>1.000000</td>\n",
       "      <td>0.388875</td>\n",
       "      <td>0.019756</td>\n",
       "      <td>0.135774</td>\n",
       "      <td>1.000000</td>\n",
       "      <td>0.370657</td>\n",
       "      <td>0.871008</td>\n",
       "      <td>...</td>\n",
       "      <td>0.090255</td>\n",
       "      <td>0.000000</td>\n",
       "      <td>1.000000</td>\n",
       "      <td>0.000000</td>\n",
       "      <td>0.000000</td>\n",
       "      <td>0.000000</td>\n",
       "      <td>0.000000</td>\n",
       "      <td>0.263796</td>\n",
       "      <td>0.000000</td>\n",
       "      <td>0.000000</td>\n",
       "    </tr>\n",
       "  </tbody>\n",
       "</table>\n",
       "<p>100 rows × 4601 columns</p>\n",
       "</div>"
      ],
      "text/plain": [
       "       SWAP70   SERTAD2     TAPT1      LYST     ZNF83  HSD17B10     COX7B  \\\n",
       "330  0.212567  1.000000  0.000000  0.339730  0.000000  0.359792  0.202816   \n",
       "312  0.145114  0.484298  0.261904  0.749082  1.000000  0.053916  0.073590   \n",
       "97   0.157042  0.681858  0.472924  0.265096  0.482143  0.142436  0.336447   \n",
       "23   0.306159  0.639392  0.768268  0.730576  0.178221  0.138684  0.812343   \n",
       "44   0.730299  0.433469  0.786303  0.464067  0.439204  1.000000  1.000000   \n",
       "..        ...       ...       ...       ...       ...       ...       ...   \n",
       "78   0.782049  0.694581  0.300556  0.032058  0.514782  0.289088  0.523735   \n",
       "201  0.945956  0.323621  0.377974  0.574941  0.277886  0.061082  0.044363   \n",
       "258  0.103774  0.079268  0.842520  0.272059  0.409357  0.682540  0.370588   \n",
       "264  0.117925  0.378049  0.944882  0.492647  0.660819  0.507937  0.429412   \n",
       "285  0.000000  0.000000  0.000000  1.000000  0.388875  0.019756  0.135774   \n",
       "\n",
       "       FN3KRP   FAM120A    ZNF155  ...     IPO13    NUP188     DDX60  \\\n",
       "330  0.500993  0.384262  0.063050  ...  0.229384  0.826634  1.000000   \n",
       "312  0.178453  0.000000  0.454354  ...  0.460398  0.775799  1.000000   \n",
       "97   0.403672  0.643755  0.205084  ...  0.324652  0.274891  0.095989   \n",
       "23   0.708128  0.515353  0.202960  ...  0.000000  0.445399  0.057466   \n",
       "44   0.275885  1.000000  0.000000  ...  0.180092  0.982381  0.607558   \n",
       "..        ...       ...       ...  ...       ...       ...       ...   \n",
       "78   0.077712  0.556361  0.184867  ...  0.734491  0.543154  0.185832   \n",
       "201  0.273338  0.992451  0.000000  ...  0.741231  0.620693  0.149020   \n",
       "258  1.000000  0.426471  0.683258  ...  0.959459  1.000000  0.744094   \n",
       "264  0.396947  0.720588  0.814480  ...  0.783784  0.478788  0.267717   \n",
       "285  1.000000  0.370657  0.871008  ...  0.090255  0.000000  1.000000   \n",
       "\n",
       "         MLH3    IGFBP7      YAP1      EML4     POMT2     LTBP4      FIBP  \n",
       "330  1.000000  0.016118  0.392841  0.105317  0.000000  1.000000  0.298693  \n",
       "312  0.180764  0.620879  0.230877  0.815269  0.642125  0.825034  0.123821  \n",
       "97   0.198475  0.277550  0.083364  0.421012  0.336790  0.354213  0.090360  \n",
       "23   0.690620  0.652229  0.623564  0.353394  0.444441  0.417545  0.594054  \n",
       "44   0.508344  0.550279  0.121410  0.866431  0.639267  0.435709  0.489652  \n",
       "..        ...       ...       ...       ...       ...       ...       ...  \n",
       "78   0.983004  1.000000  0.443915  0.275828  0.532254  0.000000  0.632733  \n",
       "201  0.104523  0.079473  0.070119  0.641081  0.000000  0.285432  0.053640  \n",
       "258  0.210526  0.000000  0.982759  0.305344  0.817568  0.568905  0.437500  \n",
       "264  0.458647  0.575630  0.840517  0.564885  0.851351  0.402827  0.000000  \n",
       "285  0.000000  0.000000  0.000000  0.000000  0.263796  0.000000  0.000000  \n",
       "\n",
       "[100 rows x 4601 columns]"
      ]
     },
     "execution_count": 5,
     "metadata": {},
     "output_type": "execute_result"
    }
   ],
   "source": [
    "x, y = pipeline.test_set\n",
    "x"
   ]
  },
  {
   "cell_type": "code",
   "execution_count": null,
   "id": "8616592e",
   "metadata": {},
   "outputs": [],
   "source": [
    "x1, x2 = pipeline.train_set"
   ]
  },
  {
   "cell_type": "code",
   "execution_count": null,
   "id": "ff2d576d",
   "metadata": {},
   "outputs": [],
   "source": [
    "x1"
   ]
  },
  {
   "cell_type": "code",
   "execution_count": null,
   "id": "1b53302f",
   "metadata": {},
   "outputs": [],
   "source": []
  }
 ],
 "metadata": {
  "kernelspec": {
   "display_name": "Python 3 (ipykernel)",
   "language": "python",
   "name": "python3"
  },
  "language_info": {
   "codemirror_mode": {
    "name": "ipython",
    "version": 3
   },
   "file_extension": ".py",
   "mimetype": "text/x-python",
   "name": "python",
   "nbconvert_exporter": "python",
   "pygments_lexer": "ipython3",
   "version": "3.9.7"
  }
 },
 "nbformat": 4,
 "nbformat_minor": 5
}