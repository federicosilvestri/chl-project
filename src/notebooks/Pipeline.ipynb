{
 "cells": [
  {
   "cell_type": "markdown",
   "id": "ae2ba176",
   "metadata": {
    "pycharm": {
     "name": "#%% md\n"
    }
   },
   "source": [
    "# Preprocessing pipeline"
   ]
  },
  {
   "cell_type": "code",
   "execution_count": 5,
   "id": "756cfed2",
   "metadata": {
    "pycharm": {
     "name": "#%%\n"
    }
   },
   "outputs": [],
   "source": [
    "# adding the project root inside the python path\n",
    "import sys\n",
    "import os\n",
    "\n",
    "sys.path.insert(0, os.path.abspath('..'))"
   ]
  },
  {
   "cell_type": "code",
   "execution_count": 6,
   "id": "6d631aee",
   "metadata": {
    "pycharm": {
     "name": "#%%\n"
    }
   },
   "outputs": [],
   "source": [
    "# The path where the dataset are stored\n",
    "DATASET_PATH: str = \"../../dataset/first_disease_sel/\"\n",
    "DISEASE_COLNAME: str = 'DISEASE'"
   ]
  },
  {
   "cell_type": "markdown",
   "id": "9f30ec15",
   "metadata": {
    "pycharm": {
     "name": "#%% md\n"
    }
   },
   "source": [
    "## Starting the pipeline"
   ]
  },
  {
   "cell_type": "code",
   "execution_count": null,
   "id": "e04b6914",
   "metadata": {
    "pycharm": {
     "name": "#%%\n"
    }
   },
   "outputs": [
    {
     "name": "stderr",
     "output_type": "stream",
     "text": [
      "INFO:root:Starting pipeline\n",
      "INFO:root:Loading datasets\n",
      "INFO:root:Inspecting directory ../../dataset/first_disease_sel/GS\n",
      "INFO:root:Setting disease as GS\n",
      "INFO:root:Loading file ../../dataset/first_disease_sel/GS/eGSE117146m.csv\n",
      "INFO:root:Inspecting directory ../../dataset/first_disease_sel/MCM\n",
      "INFO:root:Setting disease as MCM\n",
      "INFO:root:Loading file ../../dataset/first_disease_sel/MCM/MCM_GSE149607.csv\n",
      "INFO:root:Skipping file ../../dataset/first_disease_sel/dataset.csv\n",
      "INFO:root:Skipping file ../../dataset/first_disease_sel/train.csv\n",
      "INFO:root:Inspecting directory ../../dataset/first_disease_sel/NALD\n",
      "INFO:root:Setting disease as NALD\n",
      "INFO:root:Loading file ../../dataset/first_disease_sel/NALD/eGSE85804m.csv\n",
      "INFO:root:Loading file ../../dataset/first_disease_sel/NALD/eGSE34308m.csv\n",
      "INFO:root:Loading file ../../dataset/first_disease_sel/NALD/eGSE117647m.csv\n",
      "INFO:root:Skipping file ../../dataset/first_disease_sel/full.csv\n",
      "INFO:root:Skipping file ../../dataset/first_disease_sel/test.csv\n",
      "INFO:root:Inspecting directory ../../dataset/first_disease_sel/A1A\n",
      "INFO:root:Setting disease as A1A\n",
      "INFO:root:Loading file ../../dataset/first_disease_sel/A1A/A1A_deficiency_GSE109516_pbmc.csv\n",
      "INFO:root:Inspecting directory ../../dataset/first_disease_sel/DIABETE\n",
      "INFO:root:Setting disease as DIABETE\n",
      "INFO:root:Loading file ../../dataset/first_disease_sel/DIABETE/eGSE54350m.csv\n",
      "INFO:root:Loading file ../../dataset/first_disease_sel/DIABETE/eGSE26887m.csv\n",
      "INFO:root:Loading file ../../dataset/first_disease_sel/DIABETE/eGSE174475m.csv\n",
      "INFO:root:Loading file ../../dataset/first_disease_sel/DIABETE/eGSE13760m.csv\n",
      "INFO:root:Loading file ../../dataset/first_disease_sel/DIABETE/eGSE38642m.csv\n",
      "INFO:root:Loading file ../../dataset/first_disease_sel/DIABETE/eGSE19790m.csv\n",
      "INFO:root:Loading file ../../dataset/first_disease_sel/DIABETE/eGSE179568m.csv\n",
      "INFO:root:Loading file ../../dataset/first_disease_sel/DIABETE/eGSE189849m.csv\n",
      "INFO:root:Loading file ../../dataset/first_disease_sel/DIABETE/eGSE25462m.csv\n",
      "INFO:root:Loading file ../../dataset/first_disease_sel/DIABETE/eGSE162622m.csv\n",
      "INFO:root:Loading file ../../dataset/first_disease_sel/DIABETE/eGSE27949m.csv\n",
      "INFO:root:Loading file ../../dataset/first_disease_sel/DIABETE/eGSE176230m.csv\n",
      "INFO:root:Load completed\n",
      "INFO:root:Load completed\n",
      "INFO:root:Load completed\n",
      "INFO:root:Load completed\n",
      "INFO:root:Load completed\n",
      "INFO:root:Load completed\n",
      "INFO:root:Load completed\n",
      "INFO:root:Load completed\n",
      "INFO:root:Load completed\n",
      "INFO:root:Load completed\n",
      "INFO:root:Load completed\n",
      "INFO:root:Load completed\n",
      "INFO:root:Load completed\n",
      "INFO:root:Load completed\n",
      "INFO:root:Load completed\n",
      "INFO:root:Load completed\n",
      "INFO:root:Load completed\n",
      "INFO:root:Load completed\n",
      "INFO:root:Datasets loading completed\n",
      "INFO:root:Computing column intersection\n",
      "INFO:root:Cleaning datasets from not-shared data\n",
      "INFO:root:Computing outlier detection\n",
      "INFO:root:Computing outlier detection on dataset...\n",
      "INFO:root:Computing outlier detection on dataset...\n",
      "INFO:root:Computing outlier detection on dataset...\n",
      "INFO:root:Computing outlier detection on dataset...\n",
      "INFO:root:Computing outlier detection on dataset...\n",
      "INFO:root:Computing outlier detection on dataset...\n",
      "INFO:root:Computing outlier detection on dataset...\n",
      "INFO:root:Computing outlier detection on dataset...\n",
      "INFO:root:Computing outlier detection on dataset...\n",
      "INFO:root:Computing outlier detection on dataset...\n",
      "INFO:root:Computing outlier detection on dataset...\n",
      "INFO:root:Computing outlier detection on dataset...\n",
      "INFO:root:Computing outlier detection on dataset...\n",
      "INFO:root:Computing outlier detection on dataset...\n",
      "INFO:root:Computing outlier detection on dataset...\n",
      "INFO:root:Computing outlier detection on dataset...\n",
      "INFO:root:Computing outlier detection on dataset...\n",
      "INFO:root:Computing outlier detection on dataset...\n"
     ]
    }
   ],
   "source": [
    "from analysis.preprocess import PreprocessPipeline\n",
    "\n",
    "pipeline = PreprocessPipeline(datasets_path=DATASET_PATH, disease_col_name=DISEASE_COLNAME)\n",
    "pipeline.execute_pipeline()"
   ]
  },
  {
   "cell_type": "markdown",
   "id": "2d12fe5e",
   "metadata": {
    "pycharm": {
     "name": "#%% md\n"
    }
   },
   "source": [
    "## Inspecting the dataset we have built"
   ]
  },
  {
   "cell_type": "code",
   "execution_count": 4,
   "id": "b854e80b",
   "metadata": {
    "pycharm": {
     "name": "#%%\n"
    }
   },
   "outputs": [
    {
     "data": {
      "text/html": [
       "<div>\n",
       "<style scoped>\n",
       "    .dataframe tbody tr th:only-of-type {\n",
       "        vertical-align: middle;\n",
       "    }\n",
       "\n",
       "    .dataframe tbody tr th {\n",
       "        vertical-align: top;\n",
       "    }\n",
       "\n",
       "    .dataframe thead th {\n",
       "        text-align: right;\n",
       "    }\n",
       "</style>\n",
       "<table border=\"1\" class=\"dataframe\">\n",
       "  <thead>\n",
       "    <tr style=\"text-align: right;\">\n",
       "      <th></th>\n",
       "      <th>CYB5R3</th>\n",
       "      <th>TCTN2</th>\n",
       "      <th>CLIP1</th>\n",
       "      <th>DDX24</th>\n",
       "      <th>HPRT1</th>\n",
       "      <th>COMMD10</th>\n",
       "      <th>MED21</th>\n",
       "      <th>UBE4A</th>\n",
       "      <th>PI4K2A</th>\n",
       "      <th>NSMAF</th>\n",
       "      <th>...</th>\n",
       "      <th>PHIP</th>\n",
       "      <th>CEP85</th>\n",
       "      <th>APPBP2</th>\n",
       "      <th>CHD3</th>\n",
       "      <th>CDK5RAP2</th>\n",
       "      <th>DDX56</th>\n",
       "      <th>GTPBP1</th>\n",
       "      <th>TBXAS1</th>\n",
       "      <th>RPP40</th>\n",
       "      <th>NSMF</th>\n",
       "    </tr>\n",
       "  </thead>\n",
       "  <tbody>\n",
       "    <tr>\n",
       "      <th>GS_1</th>\n",
       "      <td>0.651648</td>\n",
       "      <td>0.761417</td>\n",
       "      <td>0.035706</td>\n",
       "      <td>0.726808</td>\n",
       "      <td>0.888795</td>\n",
       "      <td>0.631678</td>\n",
       "      <td>0.178487</td>\n",
       "      <td>0.745782</td>\n",
       "      <td>1.000000</td>\n",
       "      <td>0.270541</td>\n",
       "      <td>...</td>\n",
       "      <td>0.954766</td>\n",
       "      <td>0.884013</td>\n",
       "      <td>0.620665</td>\n",
       "      <td>0.479697</td>\n",
       "      <td>0.700910</td>\n",
       "      <td>0.898148</td>\n",
       "      <td>0.134254</td>\n",
       "      <td>0.630670</td>\n",
       "      <td>0.844974</td>\n",
       "      <td>0.816248</td>\n",
       "    </tr>\n",
       "    <tr>\n",
       "      <th>GS_1</th>\n",
       "      <td>0.591154</td>\n",
       "      <td>0.917746</td>\n",
       "      <td>0.275756</td>\n",
       "      <td>0.564554</td>\n",
       "      <td>0.536302</td>\n",
       "      <td>1.000000</td>\n",
       "      <td>0.684415</td>\n",
       "      <td>0.762910</td>\n",
       "      <td>0.504132</td>\n",
       "      <td>0.752602</td>\n",
       "      <td>...</td>\n",
       "      <td>0.655545</td>\n",
       "      <td>0.607038</td>\n",
       "      <td>0.612632</td>\n",
       "      <td>0.723829</td>\n",
       "      <td>0.262618</td>\n",
       "      <td>0.338745</td>\n",
       "      <td>0.507015</td>\n",
       "      <td>0.812825</td>\n",
       "      <td>0.202429</td>\n",
       "      <td>0.507481</td>\n",
       "    </tr>\n",
       "    <tr>\n",
       "      <th>GS_2</th>\n",
       "      <td>0.653249</td>\n",
       "      <td>0.691080</td>\n",
       "      <td>0.765663</td>\n",
       "      <td>0.399528</td>\n",
       "      <td>0.526267</td>\n",
       "      <td>0.870176</td>\n",
       "      <td>0.324077</td>\n",
       "      <td>0.765283</td>\n",
       "      <td>0.422607</td>\n",
       "      <td>0.239456</td>\n",
       "      <td>...</td>\n",
       "      <td>1.000000</td>\n",
       "      <td>0.827653</td>\n",
       "      <td>0.556715</td>\n",
       "      <td>0.546312</td>\n",
       "      <td>0.738509</td>\n",
       "      <td>0.620327</td>\n",
       "      <td>0.480767</td>\n",
       "      <td>0.385137</td>\n",
       "      <td>0.694739</td>\n",
       "      <td>0.759091</td>\n",
       "    </tr>\n",
       "    <tr>\n",
       "      <th>GS_3</th>\n",
       "      <td>0.691891</td>\n",
       "      <td>0.918846</td>\n",
       "      <td>0.518200</td>\n",
       "      <td>0.462324</td>\n",
       "      <td>0.637262</td>\n",
       "      <td>0.596595</td>\n",
       "      <td>0.832956</td>\n",
       "      <td>0.691516</td>\n",
       "      <td>0.265197</td>\n",
       "      <td>0.133489</td>\n",
       "      <td>...</td>\n",
       "      <td>0.797031</td>\n",
       "      <td>0.638279</td>\n",
       "      <td>0.412200</td>\n",
       "      <td>0.550129</td>\n",
       "      <td>0.439510</td>\n",
       "      <td>0.878556</td>\n",
       "      <td>0.445645</td>\n",
       "      <td>0.867507</td>\n",
       "      <td>0.565490</td>\n",
       "      <td>0.036755</td>\n",
       "    </tr>\n",
       "    <tr>\n",
       "      <th>GS_4</th>\n",
       "      <td>0.835399</td>\n",
       "      <td>0.351675</td>\n",
       "      <td>0.270307</td>\n",
       "      <td>0.796971</td>\n",
       "      <td>0.274679</td>\n",
       "      <td>0.247877</td>\n",
       "      <td>0.391470</td>\n",
       "      <td>0.586358</td>\n",
       "      <td>0.726477</td>\n",
       "      <td>1.000000</td>\n",
       "      <td>...</td>\n",
       "      <td>0.570043</td>\n",
       "      <td>1.000000</td>\n",
       "      <td>0.455363</td>\n",
       "      <td>0.851858</td>\n",
       "      <td>0.175073</td>\n",
       "      <td>0.164500</td>\n",
       "      <td>0.443758</td>\n",
       "      <td>0.484069</td>\n",
       "      <td>0.381241</td>\n",
       "      <td>0.555456</td>\n",
       "    </tr>\n",
       "    <tr>\n",
       "      <th>...</th>\n",
       "      <td>...</td>\n",
       "      <td>...</td>\n",
       "      <td>...</td>\n",
       "      <td>...</td>\n",
       "      <td>...</td>\n",
       "      <td>...</td>\n",
       "      <td>...</td>\n",
       "      <td>...</td>\n",
       "      <td>...</td>\n",
       "      <td>...</td>\n",
       "      <td>...</td>\n",
       "      <td>...</td>\n",
       "      <td>...</td>\n",
       "      <td>...</td>\n",
       "      <td>...</td>\n",
       "      <td>...</td>\n",
       "      <td>...</td>\n",
       "      <td>...</td>\n",
       "      <td>...</td>\n",
       "      <td>...</td>\n",
       "      <td>...</td>\n",
       "    </tr>\n",
       "    <tr>\n",
       "      <th>DIABETE_171</th>\n",
       "      <td>0.104723</td>\n",
       "      <td>0.811321</td>\n",
       "      <td>0.685848</td>\n",
       "      <td>0.443506</td>\n",
       "      <td>0.740642</td>\n",
       "      <td>0.588235</td>\n",
       "      <td>0.961679</td>\n",
       "      <td>0.706815</td>\n",
       "      <td>0.000000</td>\n",
       "      <td>0.673846</td>\n",
       "      <td>...</td>\n",
       "      <td>0.746137</td>\n",
       "      <td>0.605839</td>\n",
       "      <td>0.633252</td>\n",
       "      <td>0.636053</td>\n",
       "      <td>1.000000</td>\n",
       "      <td>0.583144</td>\n",
       "      <td>0.523902</td>\n",
       "      <td>0.540456</td>\n",
       "      <td>0.760000</td>\n",
       "      <td>0.027778</td>\n",
       "    </tr>\n",
       "    <tr>\n",
       "      <th>DIABETE_172</th>\n",
       "      <td>0.146817</td>\n",
       "      <td>0.301887</td>\n",
       "      <td>0.006221</td>\n",
       "      <td>1.000000</td>\n",
       "      <td>0.085561</td>\n",
       "      <td>0.345098</td>\n",
       "      <td>0.328467</td>\n",
       "      <td>0.175911</td>\n",
       "      <td>0.492063</td>\n",
       "      <td>0.236923</td>\n",
       "      <td>...</td>\n",
       "      <td>0.263429</td>\n",
       "      <td>0.113139</td>\n",
       "      <td>0.300733</td>\n",
       "      <td>0.230740</td>\n",
       "      <td>0.309764</td>\n",
       "      <td>0.924829</td>\n",
       "      <td>0.258537</td>\n",
       "      <td>0.246888</td>\n",
       "      <td>0.826667</td>\n",
       "      <td>0.280864</td>\n",
       "    </tr>\n",
       "    <tr>\n",
       "      <th>DIABETE_173</th>\n",
       "      <td>0.182752</td>\n",
       "      <td>0.245283</td>\n",
       "      <td>0.034215</td>\n",
       "      <td>0.845829</td>\n",
       "      <td>0.203209</td>\n",
       "      <td>0.484314</td>\n",
       "      <td>0.171533</td>\n",
       "      <td>0.114105</td>\n",
       "      <td>1.000000</td>\n",
       "      <td>0.186154</td>\n",
       "      <td>...</td>\n",
       "      <td>0.038263</td>\n",
       "      <td>0.470803</td>\n",
       "      <td>0.239609</td>\n",
       "      <td>0.149526</td>\n",
       "      <td>0.368687</td>\n",
       "      <td>0.817768</td>\n",
       "      <td>0.334634</td>\n",
       "      <td>0.000000</td>\n",
       "      <td>0.426667</td>\n",
       "      <td>0.641975</td>\n",
       "    </tr>\n",
       "    <tr>\n",
       "      <th>DIABETE_174</th>\n",
       "      <td>0.132444</td>\n",
       "      <td>0.358491</td>\n",
       "      <td>0.000000</td>\n",
       "      <td>0.399155</td>\n",
       "      <td>0.000000</td>\n",
       "      <td>0.403922</td>\n",
       "      <td>0.116788</td>\n",
       "      <td>0.000000</td>\n",
       "      <td>0.523810</td>\n",
       "      <td>0.267692</td>\n",
       "      <td>...</td>\n",
       "      <td>0.070640</td>\n",
       "      <td>0.000000</td>\n",
       "      <td>0.117359</td>\n",
       "      <td>0.146869</td>\n",
       "      <td>0.387205</td>\n",
       "      <td>0.628702</td>\n",
       "      <td>0.251707</td>\n",
       "      <td>0.399378</td>\n",
       "      <td>0.573333</td>\n",
       "      <td>0.169753</td>\n",
       "    </tr>\n",
       "    <tr>\n",
       "      <th>DIABETE_175</th>\n",
       "      <td>1.000000</td>\n",
       "      <td>0.226415</td>\n",
       "      <td>0.432348</td>\n",
       "      <td>0.491024</td>\n",
       "      <td>0.438503</td>\n",
       "      <td>0.000000</td>\n",
       "      <td>0.000000</td>\n",
       "      <td>0.136292</td>\n",
       "      <td>0.912698</td>\n",
       "      <td>0.000000</td>\n",
       "      <td>...</td>\n",
       "      <td>0.000000</td>\n",
       "      <td>0.408759</td>\n",
       "      <td>0.000000</td>\n",
       "      <td>0.300949</td>\n",
       "      <td>0.351852</td>\n",
       "      <td>0.603645</td>\n",
       "      <td>1.000000</td>\n",
       "      <td>0.595436</td>\n",
       "      <td>0.000000</td>\n",
       "      <td>1.000000</td>\n",
       "    </tr>\n",
       "  </tbody>\n",
       "</table>\n",
       "<p>399 rows × 4602 columns</p>\n",
       "</div>"
      ],
      "text/plain": [
       "               CYB5R3     TCTN2     CLIP1     DDX24     HPRT1   COMMD10  \\\n",
       "GS_1         0.651648  0.761417  0.035706  0.726808  0.888795  0.631678   \n",
       "GS_1         0.591154  0.917746  0.275756  0.564554  0.536302  1.000000   \n",
       "GS_2         0.653249  0.691080  0.765663  0.399528  0.526267  0.870176   \n",
       "GS_3         0.691891  0.918846  0.518200  0.462324  0.637262  0.596595   \n",
       "GS_4         0.835399  0.351675  0.270307  0.796971  0.274679  0.247877   \n",
       "...               ...       ...       ...       ...       ...       ...   \n",
       "DIABETE_171  0.104723  0.811321  0.685848  0.443506  0.740642  0.588235   \n",
       "DIABETE_172  0.146817  0.301887  0.006221  1.000000  0.085561  0.345098   \n",
       "DIABETE_173  0.182752  0.245283  0.034215  0.845829  0.203209  0.484314   \n",
       "DIABETE_174  0.132444  0.358491  0.000000  0.399155  0.000000  0.403922   \n",
       "DIABETE_175  1.000000  0.226415  0.432348  0.491024  0.438503  0.000000   \n",
       "\n",
       "                MED21     UBE4A    PI4K2A     NSMAF  ...      PHIP     CEP85  \\\n",
       "GS_1         0.178487  0.745782  1.000000  0.270541  ...  0.954766  0.884013   \n",
       "GS_1         0.684415  0.762910  0.504132  0.752602  ...  0.655545  0.607038   \n",
       "GS_2         0.324077  0.765283  0.422607  0.239456  ...  1.000000  0.827653   \n",
       "GS_3         0.832956  0.691516  0.265197  0.133489  ...  0.797031  0.638279   \n",
       "GS_4         0.391470  0.586358  0.726477  1.000000  ...  0.570043  1.000000   \n",
       "...               ...       ...       ...       ...  ...       ...       ...   \n",
       "DIABETE_171  0.961679  0.706815  0.000000  0.673846  ...  0.746137  0.605839   \n",
       "DIABETE_172  0.328467  0.175911  0.492063  0.236923  ...  0.263429  0.113139   \n",
       "DIABETE_173  0.171533  0.114105  1.000000  0.186154  ...  0.038263  0.470803   \n",
       "DIABETE_174  0.116788  0.000000  0.523810  0.267692  ...  0.070640  0.000000   \n",
       "DIABETE_175  0.000000  0.136292  0.912698  0.000000  ...  0.000000  0.408759   \n",
       "\n",
       "               APPBP2      CHD3  CDK5RAP2     DDX56    GTPBP1    TBXAS1  \\\n",
       "GS_1         0.620665  0.479697  0.700910  0.898148  0.134254  0.630670   \n",
       "GS_1         0.612632  0.723829  0.262618  0.338745  0.507015  0.812825   \n",
       "GS_2         0.556715  0.546312  0.738509  0.620327  0.480767  0.385137   \n",
       "GS_3         0.412200  0.550129  0.439510  0.878556  0.445645  0.867507   \n",
       "GS_4         0.455363  0.851858  0.175073  0.164500  0.443758  0.484069   \n",
       "...               ...       ...       ...       ...       ...       ...   \n",
       "DIABETE_171  0.633252  0.636053  1.000000  0.583144  0.523902  0.540456   \n",
       "DIABETE_172  0.300733  0.230740  0.309764  0.924829  0.258537  0.246888   \n",
       "DIABETE_173  0.239609  0.149526  0.368687  0.817768  0.334634  0.000000   \n",
       "DIABETE_174  0.117359  0.146869  0.387205  0.628702  0.251707  0.399378   \n",
       "DIABETE_175  0.000000  0.300949  0.351852  0.603645  1.000000  0.595436   \n",
       "\n",
       "                RPP40      NSMF  \n",
       "GS_1         0.844974  0.816248  \n",
       "GS_1         0.202429  0.507481  \n",
       "GS_2         0.694739  0.759091  \n",
       "GS_3         0.565490  0.036755  \n",
       "GS_4         0.381241  0.555456  \n",
       "...               ...       ...  \n",
       "DIABETE_171  0.760000  0.027778  \n",
       "DIABETE_172  0.826667  0.280864  \n",
       "DIABETE_173  0.426667  0.641975  \n",
       "DIABETE_174  0.573333  0.169753  \n",
       "DIABETE_175  0.000000  1.000000  \n",
       "\n",
       "[399 rows x 4602 columns]"
      ]
     },
     "execution_count": 4,
     "metadata": {},
     "output_type": "execute_result"
    }
   ],
   "source": [
    "dataset = pipeline.dataset\n",
    "dataset"
   ]
  },
  {
   "cell_type": "markdown",
   "id": "183fc30f",
   "metadata": {
    "pycharm": {
     "name": "#%% md\n"
    }
   },
   "source": [
    "## Plot disease distribution"
   ]
  },
  {
   "cell_type": "code",
   "execution_count": 5,
   "id": "c0e31c8c",
   "metadata": {
    "pycharm": {
     "name": "#%%\n"
    }
   },
   "outputs": [
    {
     "name": "stdout",
     "output_type": "stream",
     "text": [
      "DIABETE    176\n",
      "A1A        128\n",
      "NALD        38\n",
      "GS          29\n",
      "MCM         28\n",
      "Name: DISEASE, dtype: int64\n"
     ]
    },
    {
     "data": {
      "text/plain": [
       "<AxesSubplot:>"
      ]
     },
     "execution_count": 5,
     "metadata": {},
     "output_type": "execute_result"
    },
    {
     "data": {
      "image/png": "[encoded data removed]",
      "text/plain": [
       "<Figure size 432x288 with 1 Axes>"
      ]
     },
     "metadata": {
      "needs_background": "light"
     },
     "output_type": "display_data"
    }
   ],
   "source": [
    "# plotting the number of sample for each disease\n",
    "disease = dataset['DISEASE'].value_counts()\n",
    "print(disease)\n",
    "disease.plot.bar()"
   ]
  },
  {
   "cell_type": "markdown",
   "id": "f663a5f0",
   "metadata": {
    "pycharm": {
     "name": "#%% md\n"
    }
   },
   "source": [
    "## Experiments"
   ]
  },
  {
   "cell_type": "code",
   "execution_count": 6,
   "id": "b31657ab",
   "metadata": {
    "pycharm": {
     "name": "#%%\n"
    }
   },
   "outputs": [],
   "source": [
    "# getting data for disease MCM\n",
    "mcm_dataset = dataset.loc[dataset.DISEASE == 'MCM']\n",
    "mcm_dataset = mcm_dataset.drop(columns=['DISEASE'])"
   ]
  },
  {
   "cell_type": "code",
   "execution_count": null,
   "id": "c9e82227",
   "metadata": {
    "pycharm": {
     "name": "#%%\n"
    }
   },
   "outputs": [],
   "source": [
    "import matplotlib.pyplot as plt\n",
    "from bioinfokit import analys, visuz\n",
    "import numpy as np\n",
    "\n",
    "visuz.gene_exp.hmap(df=mcm_dataset, rowclus=False, colclus=False, dim=(10, 10), tickfont=(2, 4), show=True)"
   ]
  },
  {
   "cell_type": "code",
   "execution_count": null,
   "id": "64e7806a",
   "metadata": {
    "pycharm": {
     "name": "#%%\n"
    }
   },
   "outputs": [],
   "source": [
    "ds = pipeline.dataset\n",
    "rows, cols = ds.shape\n",
    "\n",
    "rows, cols"
   ]
  },
  {
   "cell_type": "code",
   "execution_count": null,
   "id": "3a88c7cb",
   "metadata": {
    "pycharm": {
     "name": "#%%\n"
    }
   },
   "outputs": [],
   "source": []
  }
 ],
 "metadata": {
  "kernelspec": {
   "display_name": "Python 3 (ipykernel)",
   "language": "python",
   "name": "python3"
  },
  "language_info": {
   "codemirror_mode": {
    "name": "ipython",
    "version": 3
   },
   "file_extension": ".py",
   "mimetype": "text/x-python",
   "name": "python",
   "nbconvert_exporter": "python",
   "pygments_lexer": "ipython3",
   "version": "3.9.7"
  }
 },
 "nbformat": 4,
 "nbformat_minor": 5
}