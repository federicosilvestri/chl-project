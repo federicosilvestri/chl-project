{
 "cells": [
  {
   "cell_type": "markdown",
   "id": "168ae984",
   "metadata": {
    "pycharm": {
     "name": "#%% md\n"
    }
   },
   "source": [
    "# Classification"
   ]
  },
  {
   "cell_type": "code",
   "execution_count": 150,
   "id": "e50dbb21",
   "metadata": {
    "ExecuteTime": {
     "end_time": "2022-06-22T18:36:00.383910Z",
     "start_time": "2022-06-22T18:36:00.365286Z"
    },
    "pycharm": {
     "name": "#%%\n"
    }
   },
   "outputs": [],
   "source": [
    "import pandas as pd\n",
    "import numpy as np\n",
    "import matplotlib.pyplot as plt\n",
    "from itertools import compress\n",
    "from sklearn.model_selection import train_test_split, StratifiedKFold, GridSearchCV, cross_validate\n",
    "import sklearn.metrics as metrics\n",
    "from sklearn.metrics import classification_report, ConfusionMatrixDisplay\n",
    "from sklearn.svm import SVC\n",
    "from sklearn.feature_selection import SelectFromModel, RFECV, RFE\n",
    "from sklearn.ensemble import RandomForestClassifier\n",
    "from RAC.rac import RacClassifier\n",
    "from sklearn.cluster import KMeans\n",
    "import collections\n",
    "from kneed import KneeLocator\n",
    "from sklearn.neighbors import KNeighborsClassifier\n",
    "from sklearn.tree import DecisionTreeClassifier"
   ]
  },
  {
   "cell_type": "code",
   "execution_count": 2,
   "id": "36dcff45",
   "metadata": {
    "ExecuteTime": {
     "end_time": "2022-06-22T17:48:44.175854Z",
     "start_time": "2022-06-22T17:48:43.085925Z"
    },
    "pycharm": {
     "name": "#%%\n"
    }
   },
   "outputs": [],
   "source": [
    "df = pd.read_csv('../../dataset/trainU.csv', sep=',', index_col=0)"
   ]
  },
  {
   "cell_type": "code",
   "execution_count": 3,
   "id": "1e558074",
   "metadata": {
    "ExecuteTime": {
     "end_time": "2022-06-22T17:48:44.244708Z",
     "start_time": "2022-06-22T17:48:44.178131Z"
    },
    "pycharm": {
     "name": "#%%\n"
    }
   },
   "outputs": [
    {
     "data": {
      "text/html": [
       "<div>\n",
       "<style scoped>\n",
       "    .dataframe tbody tr th:only-of-type {\n",
       "        vertical-align: middle;\n",
       "    }\n",
       "\n",
       "    .dataframe tbody tr th {\n",
       "        vertical-align: top;\n",
       "    }\n",
       "\n",
       "    .dataframe thead th {\n",
       "        text-align: right;\n",
       "    }\n",
       "</style>\n",
       "<table border=\"1\" class=\"dataframe\">\n",
       "  <thead>\n",
       "    <tr style=\"text-align: right;\">\n",
       "      <th></th>\n",
       "      <th>TPD52L2</th>\n",
       "      <th>PQBP1</th>\n",
       "      <th>UBC</th>\n",
       "      <th>MSN</th>\n",
       "      <th>TECPR2</th>\n",
       "      <th>HTRA1</th>\n",
       "      <th>TSC2</th>\n",
       "      <th>TFPI2</th>\n",
       "      <th>BRMS1</th>\n",
       "      <th>RNF122</th>\n",
       "      <th>...</th>\n",
       "      <th>TMEM120B</th>\n",
       "      <th>GMPS</th>\n",
       "      <th>STX17</th>\n",
       "      <th>MYO10</th>\n",
       "      <th>DCTN5</th>\n",
       "      <th>ACOT8</th>\n",
       "      <th>DDX41</th>\n",
       "      <th>NUP37</th>\n",
       "      <th>S100A13</th>\n",
       "      <th>DISEASE</th>\n",
       "    </tr>\n",
       "  </thead>\n",
       "  <tbody>\n",
       "    <tr>\n",
       "      <th>DIABETE_80</th>\n",
       "      <td>0.317308</td>\n",
       "      <td>0.524752</td>\n",
       "      <td>0.423841</td>\n",
       "      <td>0.609589</td>\n",
       "      <td>0.038095</td>\n",
       "      <td>0.570313</td>\n",
       "      <td>0.194444</td>\n",
       "      <td>0.259825</td>\n",
       "      <td>0.611940</td>\n",
       "      <td>0.502262</td>\n",
       "      <td>...</td>\n",
       "      <td>0.299145</td>\n",
       "      <td>0.834951</td>\n",
       "      <td>0.678571</td>\n",
       "      <td>0.318898</td>\n",
       "      <td>0.222222</td>\n",
       "      <td>0.287770</td>\n",
       "      <td>0.574713</td>\n",
       "      <td>0.550459</td>\n",
       "      <td>0.481865</td>\n",
       "      <td>DIABETE</td>\n",
       "    </tr>\n",
       "    <tr>\n",
       "      <th>MCM_24</th>\n",
       "      <td>0.212228</td>\n",
       "      <td>0.397281</td>\n",
       "      <td>0.387946</td>\n",
       "      <td>0.434344</td>\n",
       "      <td>0.582763</td>\n",
       "      <td>0.377927</td>\n",
       "      <td>0.750613</td>\n",
       "      <td>0.156657</td>\n",
       "      <td>0.670648</td>\n",
       "      <td>0.565605</td>\n",
       "      <td>...</td>\n",
       "      <td>0.836315</td>\n",
       "      <td>0.480588</td>\n",
       "      <td>0.544868</td>\n",
       "      <td>0.512937</td>\n",
       "      <td>0.572418</td>\n",
       "      <td>0.295262</td>\n",
       "      <td>0.444807</td>\n",
       "      <td>0.199677</td>\n",
       "      <td>0.707201</td>\n",
       "      <td>MCM</td>\n",
       "    </tr>\n",
       "    <tr>\n",
       "      <th>DIABETE_117</th>\n",
       "      <td>1.000000</td>\n",
       "      <td>0.195577</td>\n",
       "      <td>1.000000</td>\n",
       "      <td>0.484255</td>\n",
       "      <td>0.000000</td>\n",
       "      <td>0.282397</td>\n",
       "      <td>0.432391</td>\n",
       "      <td>1.000000</td>\n",
       "      <td>0.430812</td>\n",
       "      <td>0.085137</td>\n",
       "      <td>...</td>\n",
       "      <td>0.867477</td>\n",
       "      <td>0.670118</td>\n",
       "      <td>0.050938</td>\n",
       "      <td>0.511076</td>\n",
       "      <td>0.000000</td>\n",
       "      <td>0.459641</td>\n",
       "      <td>0.381262</td>\n",
       "      <td>1.000000</td>\n",
       "      <td>0.050781</td>\n",
       "      <td>DIABETE</td>\n",
       "    </tr>\n",
       "    <tr>\n",
       "      <th>A1A_39</th>\n",
       "      <td>0.375781</td>\n",
       "      <td>0.000000</td>\n",
       "      <td>0.436904</td>\n",
       "      <td>0.469231</td>\n",
       "      <td>0.247460</td>\n",
       "      <td>0.050300</td>\n",
       "      <td>0.149881</td>\n",
       "      <td>0.233997</td>\n",
       "      <td>0.007119</td>\n",
       "      <td>0.805700</td>\n",
       "      <td>...</td>\n",
       "      <td>0.193024</td>\n",
       "      <td>0.911520</td>\n",
       "      <td>0.851867</td>\n",
       "      <td>0.230744</td>\n",
       "      <td>0.433154</td>\n",
       "      <td>0.191503</td>\n",
       "      <td>0.181347</td>\n",
       "      <td>0.386808</td>\n",
       "      <td>0.069342</td>\n",
       "      <td>A1A</td>\n",
       "    </tr>\n",
       "    <tr>\n",
       "      <th>GS_12</th>\n",
       "      <td>0.551092</td>\n",
       "      <td>0.914364</td>\n",
       "      <td>0.293751</td>\n",
       "      <td>0.438265</td>\n",
       "      <td>0.707744</td>\n",
       "      <td>0.818267</td>\n",
       "      <td>0.713636</td>\n",
       "      <td>0.824889</td>\n",
       "      <td>0.382334</td>\n",
       "      <td>0.674181</td>\n",
       "      <td>...</td>\n",
       "      <td>0.000000</td>\n",
       "      <td>0.465992</td>\n",
       "      <td>0.866507</td>\n",
       "      <td>0.867688</td>\n",
       "      <td>0.706209</td>\n",
       "      <td>0.169942</td>\n",
       "      <td>0.448738</td>\n",
       "      <td>0.688865</td>\n",
       "      <td>0.067062</td>\n",
       "      <td>GS</td>\n",
       "    </tr>\n",
       "  </tbody>\n",
       "</table>\n",
       "<p>5 rows × 4421 columns</p>\n",
       "</div>"
      ],
      "text/plain": [
       "              TPD52L2     PQBP1       UBC       MSN    TECPR2     HTRA1  \\\n",
       "DIABETE_80   0.317308  0.524752  0.423841  0.609589  0.038095  0.570313   \n",
       "MCM_24       0.212228  0.397281  0.387946  0.434344  0.582763  0.377927   \n",
       "DIABETE_117  1.000000  0.195577  1.000000  0.484255  0.000000  0.282397   \n",
       "A1A_39       0.375781  0.000000  0.436904  0.469231  0.247460  0.050300   \n",
       "GS_12        0.551092  0.914364  0.293751  0.438265  0.707744  0.818267   \n",
       "\n",
       "                 TSC2     TFPI2     BRMS1    RNF122  ...  TMEM120B      GMPS  \\\n",
       "DIABETE_80   0.194444  0.259825  0.611940  0.502262  ...  0.299145  0.834951   \n",
       "MCM_24       0.750613  0.156657  0.670648  0.565605  ...  0.836315  0.480588   \n",
       "DIABETE_117  0.432391  1.000000  0.430812  0.085137  ...  0.867477  0.670118   \n",
       "A1A_39       0.149881  0.233997  0.007119  0.805700  ...  0.193024  0.911520   \n",
       "GS_12        0.713636  0.824889  0.382334  0.674181  ...  0.000000  0.465992   \n",
       "\n",
       "                STX17     MYO10     DCTN5     ACOT8     DDX41     NUP37  \\\n",
       "DIABETE_80   0.678571  0.318898  0.222222  0.287770  0.574713  0.550459   \n",
       "MCM_24       0.544868  0.512937  0.572418  0.295262  0.444807  0.199677   \n",
       "DIABETE_117  0.050938  0.511076  0.000000  0.459641  0.381262  1.000000   \n",
       "A1A_39       0.851867  0.230744  0.433154  0.191503  0.181347  0.386808   \n",
       "GS_12        0.866507  0.867688  0.706209  0.169942  0.448738  0.688865   \n",
       "\n",
       "              S100A13  DISEASE  \n",
       "DIABETE_80   0.481865  DIABETE  \n",
       "MCM_24       0.707201      MCM  \n",
       "DIABETE_117  0.050781  DIABETE  \n",
       "A1A_39       0.069342      A1A  \n",
       "GS_12        0.067062       GS  \n",
       "\n",
       "[5 rows x 4421 columns]"
      ]
     },
     "execution_count": 3,
     "metadata": {},
     "output_type": "execute_result"
    }
   ],
   "source": [
    "df.head()"
   ]
  },
  {
   "cell_type": "code",
   "execution_count": 4,
   "id": "c5d3e81f",
   "metadata": {
    "ExecuteTime": {
     "end_time": "2022-06-22T17:48:44.646387Z",
     "start_time": "2022-06-22T17:48:44.254887Z"
    },
    "pycharm": {
     "name": "#%%\n"
    }
   },
   "outputs": [
    {
     "name": "stdout",
     "output_type": "stream",
     "text": [
      "<class 'pandas.core.frame.DataFrame'>\n",
      "Index: 299 entries, DIABETE_80 to A1A_111\n",
      "Columns: 4421 entries, TPD52L2 to DISEASE\n",
      "dtypes: float64(4420), object(1)\n",
      "memory usage: 10.1+ MB\n"
     ]
    }
   ],
   "source": [
    "df.info()"
   ]
  },
  {
   "cell_type": "code",
   "execution_count": 5,
   "id": "d5a13c76",
   "metadata": {
    "ExecuteTime": {
     "end_time": "2022-06-22T17:48:44.663026Z",
     "start_time": "2022-06-22T17:48:44.653019Z"
    },
    "pycharm": {
     "name": "#%%\n"
    }
   },
   "outputs": [
    {
     "data": {
      "text/plain": [
       "DIABETE    132\n",
       "A1A         96\n",
       "NALD        28\n",
       "GS          22\n",
       "MCM         21\n",
       "Name: DISEASE, dtype: int64"
      ]
     },
     "execution_count": 5,
     "metadata": {},
     "output_type": "execute_result"
    }
   ],
   "source": [
    "df['DISEASE'].value_counts()"
   ]
  },
  {
   "cell_type": "code",
   "execution_count": 6,
   "id": "2189f585",
   "metadata": {
    "ExecuteTime": {
     "end_time": "2022-06-22T17:48:46.256026Z",
     "start_time": "2022-06-22T17:48:46.249909Z"
    },
    "pycharm": {
     "name": "#%%\n"
    }
   },
   "outputs": [],
   "source": [
    "data_cols = [col_name for col_name in df.columns if col_name != 'DISEASE']"
   ]
  },
  {
   "cell_type": "markdown",
   "id": "7d021c3b",
   "metadata": {
    "pycharm": {
     "name": "#%% md\n"
    }
   },
   "source": [
    "Train and validation by hand"
   ]
  },
  {
   "cell_type": "code",
   "execution_count": 7,
   "id": "59ade155",
   "metadata": {
    "ExecuteTime": {
     "end_time": "2022-06-22T17:48:47.302808Z",
     "start_time": "2022-06-22T17:48:47.251290Z"
    },
    "pycharm": {
     "name": "#%%\n"
    }
   },
   "outputs": [],
   "source": [
    "train_x, val_x, train_y, val_y = train_test_split(df[data_cols], df['DISEASE'], test_size=.25, stratify=df['DISEASE'])"
   ]
  },
  {
   "cell_type": "markdown",
   "id": "a15d36e5",
   "metadata": {
    "pycharm": {
     "name": "#%% md\n"
    }
   },
   "source": [
    "Train for CV"
   ]
  },
  {
   "cell_type": "code",
   "execution_count": 8,
   "id": "d4163bdf",
   "metadata": {
    "ExecuteTime": {
     "end_time": "2022-06-22T17:48:48.438060Z",
     "start_time": "2022-06-22T17:48:48.415677Z"
    },
    "pycharm": {
     "name": "#%%\n"
    }
   },
   "outputs": [],
   "source": [
    "train_cv, target_cv = df.loc[:, df.columns != 'DISEASE'].copy(), df['DISEASE'].copy()"
   ]
  },
  {
   "cell_type": "code",
   "execution_count": 9,
   "id": "3345c142",
   "metadata": {
    "ExecuteTime": {
     "end_time": "2022-06-22T17:48:50.030205Z",
     "start_time": "2022-06-22T17:48:50.024048Z"
    },
    "pycharm": {
     "name": "#%%\n"
    }
   },
   "outputs": [],
   "source": [
    "# Return compact form for GridSearchCV results\n",
    "# It should receive clf.cv_results_ after GridSearchCV\n",
    "def grid_search_report(results):\n",
    "    results_df = pd.DataFrame(results)\n",
    "    rank = ['rank_test_accuracy']\n",
    "    columns = ['rank_test_accuracy', \n",
    "               'mean_test_accuracy', 'mean_train_accuracy', 'std_test_accuracy', 'std_train_accuracy',\n",
    "               'mean_fit_time', 'params']\n",
    "    results_df = results_df.sort_values(by=rank)\n",
    "    results_df = results_df[columns]\n",
    "    return results_df"
   ]
  },
  {
   "cell_type": "markdown",
   "id": "c65eb474",
   "metadata": {},
   "source": [
    "## Feature selection"
   ]
  },
  {
   "cell_type": "markdown",
   "id": "4bfa994b",
   "metadata": {
    "pycharm": {
     "name": "#%% md\n"
    }
   },
   "source": [
    "This feature selection works in steps, at each step it tries to reduce the number of features recursively:\n",
    "   1. Select most important features using a random forest classifier (model.get_support())\n",
    "   2. Select most important features using recursive feature elimination (rfe.get_support())\n",
    "    \n",
    "Not necessarily the results are better after the step 2"
   ]
  },
  {
   "cell_type": "markdown",
   "id": "b917facb",
   "metadata": {
    "pycharm": {
     "name": "#%% md\n"
    }
   },
   "source": [
    "#### Feature importance RandomForest"
   ]
  },
  {
   "cell_type": "code",
   "execution_count": 26,
   "id": "65a2fa13",
   "metadata": {
    "ExecuteTime": {
     "end_time": "2022-06-22T18:01:38.628755Z",
     "start_time": "2022-06-22T18:01:31.967694Z"
    },
    "pycharm": {
     "name": "#%%\n"
    },
    "scrolled": true
   },
   "outputs": [
    {
     "name": "stdout",
     "output_type": "stream",
     "text": [
      "Optimal number of features : 1028\n"
     ]
    },
    {
     "data": {
      "image/png": "[encoded data removed]",
      "text/plain": [
       "<Figure size 576x360 with 1 Axes>"
      ]
     },
     "metadata": {
      "needs_background": "light"
     },
     "output_type": "display_data"
    }
   ],
   "source": [
    "# Use RandomForestClassifier to select most important features\n",
    "\n",
    "rf_clf = RandomForestClassifier()\n",
    "rf_clf = rf_clf.fit(train_cv, target_cv)\n",
    "model = SelectFromModel(rf_clf, prefit=True)\n",
    "\n",
    "importances = rf_clf.feature_importances_\n",
    "indices = np.argsort(importances)[::-1]\n",
    "indices = indices[:2000]\n",
    "print('Optimal number of features :', model.get_support().sum())\n",
    "\n",
    "plt.figure(1, figsize=(8, 5))\n",
    "plt.title(\"Feature importances\")\n",
    "plt.xlabel(\"# of Features \")\n",
    "plt.ylabel(\"Importance Score\")\n",
    "plt.bar(range(2000), importances[indices])\n",
    "plt.show()"
   ]
  },
  {
   "cell_type": "code",
   "execution_count": 27,
   "id": "1afcadb1",
   "metadata": {
    "ExecuteTime": {
     "end_time": "2022-06-22T18:01:49.973603Z",
     "start_time": "2022-06-22T18:01:49.917907Z"
    }
   },
   "outputs": [],
   "source": [
    "rf_cols = list(compress(data_cols, model.get_support()))"
   ]
  },
  {
   "cell_type": "code",
   "execution_count": 28,
   "id": "98dc1ceb",
   "metadata": {
    "ExecuteTime": {
     "end_time": "2022-06-22T18:01:51.142515Z",
     "start_time": "2022-06-22T18:01:51.133438Z"
    }
   },
   "outputs": [],
   "source": [
    "# To select most important features\n",
    "fs_train_cv_1 = train_cv[rf_cols]"
   ]
  },
  {
   "cell_type": "markdown",
   "id": "10cb0938",
   "metadata": {
    "pycharm": {
     "name": "#%% md\n"
    }
   },
   "source": [
    "#### Recursive Feature Elimination"
   ]
  },
  {
   "cell_type": "code",
   "execution_count": 29,
   "id": "8920ddc5",
   "metadata": {
    "ExecuteTime": {
     "end_time": "2022-06-22T18:06:14.347035Z",
     "start_time": "2022-06-22T18:01:53.679081Z"
    },
    "pycharm": {
     "name": "#%%\n"
    }
   },
   "outputs": [
    {
     "name": "stdout",
     "output_type": "stream",
     "text": [
      "Optimal number of features : 283\n"
     ]
    },
    {
     "data": {
      "image/png": "[encoded data removed]",
      "text/plain": [
       "<Figure size 432x288 with 1 Axes>"
      ]
     },
     "metadata": {
      "needs_background": "light"
     },
     "output_type": "display_data"
    }
   ],
   "source": [
    "rfecv = RFECV(estimator=RandomForestClassifier(), step=5, cv=StratifiedKFold(3), scoring='accuracy')\n",
    "rfecv.fit(fs_train_cv_1, target_cv)\n",
    "print('Optimal number of features :', rfecv.n_features_)\n",
    "\n",
    "\n",
    "# Plot showing the Cross Validation score\n",
    "plt.figure()\n",
    "plt.xlabel(\"Number of features selected\")\n",
    "plt.ylabel(\"Cross validation score\")\n",
    "plt.plot(range(1, len(rfecv.cv_results_['mean_test_score']) + 1), rfecv.cv_results_['mean_test_score'])\n",
    "plt.show()"
   ]
  },
  {
   "cell_type": "code",
   "execution_count": 30,
   "id": "73821900",
   "metadata": {
    "ExecuteTime": {
     "end_time": "2022-06-22T18:07:14.833766Z",
     "start_time": "2022-06-22T18:06:14.352693Z"
    },
    "pycharm": {
     "name": "#%%\n"
    }
   },
   "outputs": [],
   "source": [
    "rfe = RFE(estimator=RandomForestClassifier(), n_features_to_select=rfecv.n_features_, step=5)\n",
    "rfe = rfe.fit(fs_train_cv_1, target_cv)"
   ]
  },
  {
   "cell_type": "code",
   "execution_count": 77,
   "id": "b48176b9",
   "metadata": {
    "ExecuteTime": {
     "end_time": "2022-06-22T18:19:15.652627Z",
     "start_time": "2022-06-22T18:19:15.644744Z"
    }
   },
   "outputs": [],
   "source": [
    "rfe_cols = list(compress(fs_train_cv_1.columns, rfe.get_support()))"
   ]
  },
  {
   "cell_type": "code",
   "execution_count": 78,
   "id": "fa66597c",
   "metadata": {
    "ExecuteTime": {
     "end_time": "2022-06-22T18:19:19.676421Z",
     "start_time": "2022-06-22T18:19:19.669645Z"
    }
   },
   "outputs": [],
   "source": [
    "# To select most important features\n",
    "fs_train_cv_2 = fs_train_cv_1[rfe_cols]"
   ]
  },
  {
   "cell_type": "markdown",
   "id": "d3a6a32f",
   "metadata": {
    "pycharm": {
     "name": "#%% md\n"
    }
   },
   "source": [
    "## SVC"
   ]
  },
  {
   "cell_type": "markdown",
   "id": "fe62c7ea",
   "metadata": {
    "pycharm": {
     "name": "#%% md\n"
    }
   },
   "source": [
    "### Example test"
   ]
  },
  {
   "cell_type": "code",
   "execution_count": 10,
   "id": "84b784c9",
   "metadata": {
    "ExecuteTime": {
     "end_time": "2022-06-22T17:49:03.725181Z",
     "start_time": "2022-06-22T17:49:03.719764Z"
    },
    "pycharm": {
     "name": "#%%\n"
    }
   },
   "outputs": [],
   "source": [
    "clf = SVC()"
   ]
  },
  {
   "cell_type": "code",
   "execution_count": 11,
   "id": "7ca3070e",
   "metadata": {
    "ExecuteTime": {
     "end_time": "2022-06-22T17:49:04.471515Z",
     "start_time": "2022-06-22T17:49:04.163025Z"
    },
    "pycharm": {
     "name": "#%%\n"
    }
   },
   "outputs": [
    {
     "data": {
      "text/plain": [
       "SVC()"
      ]
     },
     "execution_count": 11,
     "metadata": {},
     "output_type": "execute_result"
    }
   ],
   "source": [
    "clf.fit(train_x, train_y)"
   ]
  },
  {
   "cell_type": "code",
   "execution_count": 12,
   "id": "9b1bc341",
   "metadata": {
    "ExecuteTime": {
     "end_time": "2022-06-22T17:49:05.337519Z",
     "start_time": "2022-06-22T17:49:04.723173Z"
    },
    "pycharm": {
     "name": "#%%\n"
    }
   },
   "outputs": [
    {
     "data": {
      "text/plain": [
       "1.0"
      ]
     },
     "execution_count": 12,
     "metadata": {},
     "output_type": "execute_result"
    }
   ],
   "source": [
    "clf.fit(train_x, train_y).score(train_x, train_y)"
   ]
  },
  {
   "cell_type": "code",
   "execution_count": 13,
   "id": "0fd4263c",
   "metadata": {
    "ExecuteTime": {
     "end_time": "2022-06-22T17:49:05.738021Z",
     "start_time": "2022-06-22T17:49:05.572806Z"
    },
    "pycharm": {
     "name": "#%%\n"
    },
    "scrolled": false
   },
   "outputs": [
    {
     "name": "stdout",
     "output_type": "stream",
     "text": [
      "              precision    recall  f1-score   support\n",
      "\n",
      "         A1A       1.00      0.96      0.98        24\n",
      "     DIABETE       0.73      1.00      0.85        33\n",
      "          GS       1.00      0.33      0.50         6\n",
      "         MCM       1.00      0.40      0.57         5\n",
      "        NALD       1.00      0.43      0.60         7\n",
      "\n",
      "    accuracy                           0.84        75\n",
      "   macro avg       0.95      0.62      0.70        75\n",
      "weighted avg       0.88      0.84      0.82        75\n",
      "\n"
     ]
    }
   ],
   "source": [
    "print(classification_report(val_y, clf.predict(val_x)))"
   ]
  },
  {
   "cell_type": "markdown",
   "id": "e8d0cdea",
   "metadata": {
    "pycharm": {
     "name": "#%% md\n"
    }
   },
   "source": [
    "### Grid search"
   ]
  },
  {
   "cell_type": "code",
   "execution_count": 38,
   "id": "63a5e887",
   "metadata": {
    "ExecuteTime": {
     "end_time": "2022-06-22T18:07:37.323644Z",
     "start_time": "2022-06-22T18:07:37.304332Z"
    },
    "pycharm": {
     "name": "#%%\n"
    }
   },
   "outputs": [],
   "source": [
    "scoring = ['accuracy']\n",
    "#scoring = ['accuracy', 'precision_weighted', 'recall_weighted', 'f1_weighted']"
   ]
  },
  {
   "cell_type": "code",
   "execution_count": 199,
   "id": "c62d43c9",
   "metadata": {
    "ExecuteTime": {
     "end_time": "2022-06-09T18:47:43.592015Z",
     "start_time": "2022-06-09T18:47:43.583165Z"
    },
    "pycharm": {
     "name": "#%%\n"
    }
   },
   "outputs": [],
   "source": [
    "# 20 minuti con questi parametri e 3 fold\n",
    "param_grid = [\n",
    "    {'kernel': ['poly'],\n",
    "     'gamma': ['scale'],\n",
    "     'C': list(np.arange(1, 10, 0.2)),\n",
    "     'degree': list(np.arange(1, 4, 1)),\n",
    "     'coef0': list(np.arange(2, 3, 0.1)),\n",
    "     'shrinking': [True],\n",
    "     'class_weight': ['balanced']\n",
    "    }\n",
    "]"
   ]
  },
  {
   "cell_type": "code",
   "execution_count": 39,
   "id": "2487cf66",
   "metadata": {
    "ExecuteTime": {
     "end_time": "2022-06-22T18:07:39.787719Z",
     "start_time": "2022-06-22T18:07:39.781008Z"
    },
    "pycharm": {
     "name": "#%%\n"
    }
   },
   "outputs": [],
   "source": [
    "cv = StratifiedKFold(n_splits=3)"
   ]
  },
  {
   "cell_type": "code",
   "execution_count": 201,
   "id": "e94378d7",
   "metadata": {
    "ExecuteTime": {
     "end_time": "2022-06-09T19:23:39.301232Z",
     "start_time": "2022-06-09T18:47:45.452630Z"
    },
    "pycharm": {
     "name": "#%%\n"
    }
   },
   "outputs": [
    {
     "data": {
      "text/plain": [
       "GridSearchCV(cv=StratifiedKFold(n_splits=3, random_state=None, shuffle=False),\n",
       "             estimator=SVC(), n_jobs=-1,\n",
       "             param_grid=[{'C': [1.0, 1.1, 1.2000000000000002,\n",
       "                                1.3000000000000003, 1.4000000000000004,\n",
       "                                1.5000000000000004, 1.6000000000000005,\n",
       "                                1.7000000000000006, 1.8000000000000007,\n",
       "                                1.9000000000000008, 2.000000000000001,\n",
       "                                2.100000000000001, 2.200000000000001,\n",
       "                                2.30000000000000...\n",
       "                                3.9000000000000026, ...],\n",
       "                          'class_weight': ['balanced'],\n",
       "                          'coef0': [1.5, 1.6, 1.7000000000000002,\n",
       "                                    1.8000000000000003, 1.9000000000000004,\n",
       "                                    2.0000000000000004, 2.1000000000000005,\n",
       "                                    2.2000000000000006, 2.3000000000000007,\n",
       "                                    2.400000000000001],\n",
       "                          'degree': [1, 2, 3], 'gamma': ['scale'],\n",
       "                          'kernel': ['poly'], 'shrinking': [True]}],\n",
       "             refit=False, return_train_score=True, scoring=['accuracy'])"
      ]
     },
     "execution_count": 201,
     "metadata": {},
     "output_type": "execute_result"
    }
   ],
   "source": [
    "clf = GridSearchCV(estimator=SVC(), param_grid=param_grid, cv=cv, scoring=scoring, refit=False, n_jobs=-1, return_train_score=True)\n",
    "clf.fit(train_cv, target_cv)"
   ]
  },
  {
   "cell_type": "code",
   "execution_count": 211,
   "id": "f57c416c",
   "metadata": {
    "ExecuteTime": {
     "end_time": "2022-06-09T19:27:34.453665Z",
     "start_time": "2022-06-09T19:27:34.416954Z"
    },
    "pycharm": {
     "name": "#%%\n"
    },
    "scrolled": false
   },
   "outputs": [
    {
     "data": {
      "text/html": [
       "<div>\n",
       "<style scoped>\n",
       "    .dataframe tbody tr th:only-of-type {\n",
       "        vertical-align: middle;\n",
       "    }\n",
       "\n",
       "    .dataframe tbody tr th {\n",
       "        vertical-align: top;\n",
       "    }\n",
       "\n",
       "    .dataframe thead th {\n",
       "        text-align: right;\n",
       "    }\n",
       "</style>\n",
       "<table border=\"1\" class=\"dataframe\">\n",
       "  <thead>\n",
       "    <tr style=\"text-align: right;\">\n",
       "      <th></th>\n",
       "      <th>rank_test_accuracy</th>\n",
       "      <th>mean_test_accuracy</th>\n",
       "      <th>mean_train_accuracy</th>\n",
       "      <th>std_test_accuracy</th>\n",
       "      <th>std_train_accuracy</th>\n",
       "      <th>mean_fit_time</th>\n",
       "      <th>params</th>\n",
       "    </tr>\n",
       "  </thead>\n",
       "  <tbody>\n",
       "    <tr>\n",
       "      <th>1003</th>\n",
       "      <td>1</td>\n",
       "      <td>0.933131</td>\n",
       "      <td>1.0</td>\n",
       "      <td>0.004428</td>\n",
       "      <td>0.0</td>\n",
       "      <td>0.427606</td>\n",
       "      <td>{'C': 4.3000000000000025, 'class_weight': 'bal...</td>\n",
       "    </tr>\n",
       "    <tr>\n",
       "      <th>2269</th>\n",
       "      <td>1</td>\n",
       "      <td>0.933131</td>\n",
       "      <td>1.0</td>\n",
       "      <td>0.004428</td>\n",
       "      <td>0.0</td>\n",
       "      <td>0.442469</td>\n",
       "      <td>{'C': 8.500000000000007, 'class_weight': 'bala...</td>\n",
       "    </tr>\n",
       "    <tr>\n",
       "      <th>1243</th>\n",
       "      <td>1</td>\n",
       "      <td>0.933131</td>\n",
       "      <td>1.0</td>\n",
       "      <td>0.004428</td>\n",
       "      <td>0.0</td>\n",
       "      <td>0.416685</td>\n",
       "      <td>{'C': 5.100000000000003, 'class_weight': 'bala...</td>\n",
       "    </tr>\n",
       "    <tr>\n",
       "      <th>493</th>\n",
       "      <td>1</td>\n",
       "      <td>0.933131</td>\n",
       "      <td>1.0</td>\n",
       "      <td>0.004428</td>\n",
       "      <td>0.0</td>\n",
       "      <td>0.420594</td>\n",
       "      <td>{'C': 2.6000000000000014, 'class_weight': 'bal...</td>\n",
       "    </tr>\n",
       "    <tr>\n",
       "      <th>2272</th>\n",
       "      <td>1</td>\n",
       "      <td>0.933131</td>\n",
       "      <td>1.0</td>\n",
       "      <td>0.004428</td>\n",
       "      <td>0.0</td>\n",
       "      <td>0.452644</td>\n",
       "      <td>{'C': 8.500000000000007, 'class_weight': 'bala...</td>\n",
       "    </tr>\n",
       "    <tr>\n",
       "      <th>...</th>\n",
       "      <td>...</td>\n",
       "      <td>...</td>\n",
       "      <td>...</td>\n",
       "      <td>...</td>\n",
       "      <td>...</td>\n",
       "      <td>...</td>\n",
       "      <td>...</td>\n",
       "    </tr>\n",
       "    <tr>\n",
       "      <th>1459</th>\n",
       "      <td>1</td>\n",
       "      <td>0.933131</td>\n",
       "      <td>1.0</td>\n",
       "      <td>0.004428</td>\n",
       "      <td>0.0</td>\n",
       "      <td>0.461087</td>\n",
       "      <td>{'C': 5.800000000000004, 'class_weight': 'bala...</td>\n",
       "    </tr>\n",
       "    <tr>\n",
       "      <th>19</th>\n",
       "      <td>1</td>\n",
       "      <td>0.933131</td>\n",
       "      <td>1.0</td>\n",
       "      <td>0.004428</td>\n",
       "      <td>0.0</td>\n",
       "      <td>0.510576</td>\n",
       "      <td>{'C': 1.0, 'class_weight': 'balanced', 'coef0'...</td>\n",
       "    </tr>\n",
       "    <tr>\n",
       "      <th>1486</th>\n",
       "      <td>1</td>\n",
       "      <td>0.933131</td>\n",
       "      <td>1.0</td>\n",
       "      <td>0.004428</td>\n",
       "      <td>0.0</td>\n",
       "      <td>0.421941</td>\n",
       "      <td>{'C': 5.900000000000004, 'class_weight': 'bala...</td>\n",
       "    </tr>\n",
       "    <tr>\n",
       "      <th>1948</th>\n",
       "      <td>1</td>\n",
       "      <td>0.933131</td>\n",
       "      <td>1.0</td>\n",
       "      <td>0.004428</td>\n",
       "      <td>0.0</td>\n",
       "      <td>0.516391</td>\n",
       "      <td>{'C': 7.400000000000006, 'class_weight': 'bala...</td>\n",
       "    </tr>\n",
       "    <tr>\n",
       "      <th>1489</th>\n",
       "      <td>1</td>\n",
       "      <td>0.933131</td>\n",
       "      <td>1.0</td>\n",
       "      <td>0.004428</td>\n",
       "      <td>0.0</td>\n",
       "      <td>0.432520</td>\n",
       "      <td>{'C': 5.900000000000004, 'class_weight': 'bala...</td>\n",
       "    </tr>\n",
       "  </tbody>\n",
       "</table>\n",
       "<p>500 rows × 7 columns</p>\n",
       "</div>"
      ],
      "text/plain": [
       "      rank_test_accuracy  mean_test_accuracy  mean_train_accuracy  \\\n",
       "1003                   1            0.933131                  1.0   \n",
       "2269                   1            0.933131                  1.0   \n",
       "1243                   1            0.933131                  1.0   \n",
       "493                    1            0.933131                  1.0   \n",
       "2272                   1            0.933131                  1.0   \n",
       "...                  ...                 ...                  ...   \n",
       "1459                   1            0.933131                  1.0   \n",
       "19                     1            0.933131                  1.0   \n",
       "1486                   1            0.933131                  1.0   \n",
       "1948                   1            0.933131                  1.0   \n",
       "1489                   1            0.933131                  1.0   \n",
       "\n",
       "      std_test_accuracy  std_train_accuracy  mean_fit_time  \\\n",
       "1003           0.004428                 0.0       0.427606   \n",
       "2269           0.004428                 0.0       0.442469   \n",
       "1243           0.004428                 0.0       0.416685   \n",
       "493            0.004428                 0.0       0.420594   \n",
       "2272           0.004428                 0.0       0.452644   \n",
       "...                 ...                 ...            ...   \n",
       "1459           0.004428                 0.0       0.461087   \n",
       "19             0.004428                 0.0       0.510576   \n",
       "1486           0.004428                 0.0       0.421941   \n",
       "1948           0.004428                 0.0       0.516391   \n",
       "1489           0.004428                 0.0       0.432520   \n",
       "\n",
       "                                                 params  \n",
       "1003  {'C': 4.3000000000000025, 'class_weight': 'bal...  \n",
       "2269  {'C': 8.500000000000007, 'class_weight': 'bala...  \n",
       "1243  {'C': 5.100000000000003, 'class_weight': 'bala...  \n",
       "493   {'C': 2.6000000000000014, 'class_weight': 'bal...  \n",
       "2272  {'C': 8.500000000000007, 'class_weight': 'bala...  \n",
       "...                                                 ...  \n",
       "1459  {'C': 5.800000000000004, 'class_weight': 'bala...  \n",
       "19    {'C': 1.0, 'class_weight': 'balanced', 'coef0'...  \n",
       "1486  {'C': 5.900000000000004, 'class_weight': 'bala...  \n",
       "1948  {'C': 7.400000000000006, 'class_weight': 'bala...  \n",
       "1489  {'C': 5.900000000000004, 'class_weight': 'bala...  \n",
       "\n",
       "[500 rows x 7 columns]"
      ]
     },
     "execution_count": 211,
     "metadata": {},
     "output_type": "execute_result"
    }
   ],
   "source": [
    "grid_search_report(clf.cv_results_)\n",
    "#p = grid_search_report(clf.cv_results_)[0:500]['params']\n",
    "#tmp = []\n",
    "#for i in p:\n",
    "#    tmp.append(i['coef0'])\n",
    "#plt.hist(tmp)"
   ]
  },
  {
   "cell_type": "code",
   "execution_count": 209,
   "id": "bf7e00c4",
   "metadata": {
    "ExecuteTime": {
     "end_time": "2022-06-09T19:27:01.912742Z",
     "start_time": "2022-06-09T19:27:01.886108Z"
    },
    "pycharm": {
     "name": "#%%\n"
    }
   },
   "outputs": [
    {
     "name": "stdout",
     "output_type": "stream",
     "text": [
      "Test: 0.9331313131313133\n",
      "Train: 1.0\n"
     ]
    }
   ],
   "source": [
    "print('Test: '+ str(grid_search_report(clf.cv_results_).iloc[0]['mean_test_accuracy']))\n",
    "print('Train: '+ str(grid_search_report(clf.cv_results_).iloc[0]['mean_train_accuracy']))"
   ]
  },
  {
   "cell_type": "code",
   "execution_count": 210,
   "id": "f9109310",
   "metadata": {
    "ExecuteTime": {
     "end_time": "2022-06-09T19:27:04.646449Z",
     "start_time": "2022-06-09T19:27:04.628186Z"
    },
    "pycharm": {
     "name": "#%%\n"
    }
   },
   "outputs": [
    {
     "data": {
      "text/plain": [
       "{'C': 4.3000000000000025,\n",
       " 'class_weight': 'balanced',\n",
       " 'coef0': 1.9000000000000004,\n",
       " 'degree': 2,\n",
       " 'gamma': 'scale',\n",
       " 'kernel': 'poly',\n",
       " 'shrinking': True}"
      ]
     },
     "execution_count": 210,
     "metadata": {},
     "output_type": "execute_result"
    }
   ],
   "source": [
    "best_params = grid_search_report(clf.cv_results_).iloc[0]['params']\n",
    "best_params"
   ]
  },
  {
   "cell_type": "code",
   "execution_count": 81,
   "id": "4b089f75",
   "metadata": {
    "ExecuteTime": {
     "end_time": "2022-06-22T18:20:17.441928Z",
     "start_time": "2022-06-22T18:20:17.437187Z"
    },
    "pycharm": {
     "name": "#%%\n"
    }
   },
   "outputs": [],
   "source": [
    "#best_params = {'C': 4.3, 'class_weight': 'balanced', 'coef0': 1.9, 'degree': 2, 'gamma': 'scale', 'kernel': 'poly', 'shrinking': True}"
   ]
  },
  {
   "cell_type": "code",
   "execution_count": 82,
   "id": "294a97a5",
   "metadata": {
    "ExecuteTime": {
     "end_time": "2022-06-22T18:20:21.582734Z",
     "start_time": "2022-06-22T18:20:21.319258Z"
    },
    "pycharm": {
     "name": "#%%\n"
    }
   },
   "outputs": [
    {
     "data": {
      "text/plain": [
       "SVC(C=4.3, class_weight='balanced', coef0=1.9, degree=2, kernel='poly')"
      ]
     },
     "execution_count": 82,
     "metadata": {},
     "output_type": "execute_result"
    }
   ],
   "source": [
    "clf = SVC(**best_params)\n",
    "clf.fit(train_x, train_y)"
   ]
  },
  {
   "cell_type": "code",
   "execution_count": 83,
   "id": "f9e92dda",
   "metadata": {
    "ExecuteTime": {
     "end_time": "2022-06-22T18:20:22.513889Z",
     "start_time": "2022-06-22T18:20:22.323928Z"
    }
   },
   "outputs": [
    {
     "data": {
      "text/plain": [
       "1.0"
      ]
     },
     "execution_count": 83,
     "metadata": {},
     "output_type": "execute_result"
    }
   ],
   "source": [
    "clf.score(train_x, train_y)"
   ]
  },
  {
   "cell_type": "code",
   "execution_count": 84,
   "id": "29aca63e",
   "metadata": {
    "ExecuteTime": {
     "end_time": "2022-06-22T18:20:23.063985Z",
     "start_time": "2022-06-22T18:20:22.952332Z"
    },
    "pycharm": {
     "name": "#%%\n"
    }
   },
   "outputs": [
    {
     "name": "stdout",
     "output_type": "stream",
     "text": [
      "              precision    recall  f1-score   support\n",
      "\n",
      "         A1A       1.00      1.00      1.00        24\n",
      "     DIABETE       0.91      0.97      0.94        33\n",
      "          GS       0.86      1.00      0.92         6\n",
      "         MCM       1.00      0.60      0.75         5\n",
      "        NALD       1.00      0.86      0.92         7\n",
      "\n",
      "    accuracy                           0.95        75\n",
      "   macro avg       0.95      0.89      0.91        75\n",
      "weighted avg       0.95      0.95      0.94        75\n",
      "\n"
     ]
    }
   ],
   "source": [
    "print(classification_report(val_y, clf.predict(val_x)))"
   ]
  },
  {
   "cell_type": "code",
   "execution_count": 85,
   "id": "911aa94b",
   "metadata": {
    "ExecuteTime": {
     "end_time": "2022-06-22T18:20:24.031031Z",
     "start_time": "2022-06-22T18:20:23.560902Z"
    }
   },
   "outputs": [
    {
     "data": {
      "text/plain": [
       "<sklearn.metrics._plot.confusion_matrix.ConfusionMatrixDisplay at 0x140135f90>"
      ]
     },
     "execution_count": 85,
     "metadata": {},
     "output_type": "execute_result"
    },
    {
     "data": {
      "image/png": "[encoded data removed]",
      "text/plain": [
       "<Figure size 432x288 with 2 Axes>"
      ]
     },
     "metadata": {
      "needs_background": "light"
     },
     "output_type": "display_data"
    }
   ],
   "source": [
    "ConfusionMatrixDisplay.from_estimator(clf, val_x, val_y)"
   ]
  },
  {
   "cell_type": "markdown",
   "id": "16d9ec33",
   "metadata": {
    "pycharm": {
     "name": "#%% md\n"
    }
   },
   "source": [
    "### Feature selection"
   ]
  },
  {
   "cell_type": "markdown",
   "id": "7d9631e3",
   "metadata": {
    "pycharm": {
     "name": "#%% md\n"
    }
   },
   "source": [
    "#### Feature importance RandomForest"
   ]
  },
  {
   "cell_type": "code",
   "execution_count": 86,
   "id": "6b03c6b0",
   "metadata": {
    "ExecuteTime": {
     "end_time": "2022-06-22T18:20:33.048111Z",
     "start_time": "2022-06-22T18:20:32.789059Z"
    },
    "pycharm": {
     "name": "#%%\n"
    }
   },
   "outputs": [],
   "source": [
    "cross_val_1 = cross_validate(SVC(**best_params), fs_train_cv_1, target_cv, cv=cv, scoring=scoring, return_train_score=True)"
   ]
  },
  {
   "cell_type": "code",
   "execution_count": 87,
   "id": "ae3c58ed",
   "metadata": {
    "ExecuteTime": {
     "end_time": "2022-06-22T18:20:33.253936Z",
     "start_time": "2022-06-22T18:20:33.247123Z"
    },
    "pycharm": {
     "name": "#%%\n"
    }
   },
   "outputs": [
    {
     "name": "stdout",
     "output_type": "stream",
     "text": [
      "Test score: 0.9397979797979797\n",
      "Train score: 1.0\n"
     ]
    }
   ],
   "source": [
    "print('Test score: '+str(cross_val_1['test_accuracy'].mean()))\n",
    "print('Train score: '+str(cross_val_1['train_accuracy'].mean()))"
   ]
  },
  {
   "cell_type": "markdown",
   "id": "1eac7f80",
   "metadata": {
    "pycharm": {
     "name": "#%% md\n"
    }
   },
   "source": [
    "#### Recursive Feature Elimination"
   ]
  },
  {
   "cell_type": "code",
   "execution_count": 88,
   "id": "6613405e",
   "metadata": {
    "ExecuteTime": {
     "end_time": "2022-06-22T18:20:35.752223Z",
     "start_time": "2022-06-22T18:20:35.624761Z"
    },
    "pycharm": {
     "name": "#%%\n"
    }
   },
   "outputs": [],
   "source": [
    "cross_val_2 = cross_validate(SVC(**best_params), fs_train_cv_2, target_cv, cv=cv, scoring=scoring, return_train_score=True)"
   ]
  },
  {
   "cell_type": "code",
   "execution_count": 89,
   "id": "aa1df55d",
   "metadata": {
    "ExecuteTime": {
     "end_time": "2022-06-22T18:20:36.294559Z",
     "start_time": "2022-06-22T18:20:36.288042Z"
    },
    "pycharm": {
     "name": "#%%\n"
    }
   },
   "outputs": [
    {
     "name": "stdout",
     "output_type": "stream",
     "text": [
      "Test score: 0.9498989898989899\n",
      "Train score: 1.0\n"
     ]
    }
   ],
   "source": [
    "print('Test score: '+str(cross_val_2['test_accuracy'].mean()))\n",
    "print('Train score: '+str(cross_val_2['train_accuracy'].mean()))"
   ]
  },
  {
   "cell_type": "markdown",
   "id": "d6b18259",
   "metadata": {
    "pycharm": {
     "name": "#%% md\n"
    }
   },
   "source": [
    "#### Test best feature selection"
   ]
  },
  {
   "cell_type": "code",
   "execution_count": 93,
   "id": "6491631b",
   "metadata": {
    "ExecuteTime": {
     "end_time": "2022-06-22T18:21:08.333002Z",
     "start_time": "2022-06-22T18:21:08.308807Z"
    },
    "pycharm": {
     "name": "#%%\n"
    }
   },
   "outputs": [
    {
     "data": {
      "text/plain": [
       "SVC(C=4.3, class_weight='balanced', coef0=1.9, degree=2, kernel='poly')"
      ]
     },
     "execution_count": 93,
     "metadata": {},
     "output_type": "execute_result"
    }
   ],
   "source": [
    "clf = SVC(**best_params)\n",
    "clf.fit(train_x[rfe_cols], train_y)"
   ]
  },
  {
   "cell_type": "code",
   "execution_count": 94,
   "id": "0dae65ac",
   "metadata": {
    "ExecuteTime": {
     "end_time": "2022-06-22T18:21:08.853418Z",
     "start_time": "2022-06-22T18:21:08.827293Z"
    },
    "pycharm": {
     "name": "#%%\n"
    }
   },
   "outputs": [
    {
     "name": "stdout",
     "output_type": "stream",
     "text": [
      "              precision    recall  f1-score   support\n",
      "\n",
      "         A1A       1.00      1.00      1.00        24\n",
      "     DIABETE       0.94      0.97      0.96        33\n",
      "          GS       0.86      1.00      0.92         6\n",
      "         MCM       1.00      0.60      0.75         5\n",
      "        NALD       1.00      1.00      1.00         7\n",
      "\n",
      "    accuracy                           0.96        75\n",
      "   macro avg       0.96      0.91      0.93        75\n",
      "weighted avg       0.96      0.96      0.96        75\n",
      "\n"
     ]
    }
   ],
   "source": [
    "print(classification_report(val_y, clf.predict(val_x[rfe_cols])))"
   ]
  },
  {
   "cell_type": "code",
   "execution_count": 95,
   "id": "368ba621",
   "metadata": {
    "ExecuteTime": {
     "end_time": "2022-06-22T18:21:09.816873Z",
     "start_time": "2022-06-22T18:21:09.439455Z"
    }
   },
   "outputs": [
    {
     "data": {
      "text/plain": [
       "<sklearn.metrics._plot.confusion_matrix.ConfusionMatrixDisplay at 0x13fd10dc0>"
      ]
     },
     "execution_count": 95,
     "metadata": {},
     "output_type": "execute_result"
    },
    {
     "data": {
      "image/png": "[encoded data removed]",
      "text/plain": [
       "<Figure size 432x288 with 2 Axes>"
      ]
     },
     "metadata": {
      "needs_background": "light"
     },
     "output_type": "display_data"
    }
   ],
   "source": [
    "ConfusionMatrixDisplay.from_estimator(clf, val_x[rfe_cols], val_y)"
   ]
  },
  {
   "cell_type": "markdown",
   "id": "4b75494d",
   "metadata": {
    "pycharm": {
     "name": "#%% md\n"
    }
   },
   "source": [
    "## RAC"
   ]
  },
  {
   "cell_type": "markdown",
   "id": "41fe9c8d",
   "metadata": {
    "pycharm": {
     "name": "#%% md\n"
    }
   },
   "source": [
    "### Example test"
   ]
  },
  {
   "cell_type": "code",
   "execution_count": 96,
   "id": "1ccb1ba4",
   "metadata": {
    "ExecuteTime": {
     "end_time": "2022-06-22T18:22:11.510771Z",
     "start_time": "2022-06-22T18:22:11.507103Z"
    },
    "pycharm": {
     "name": "#%%\n"
    }
   },
   "outputs": [],
   "source": [
    "clf = RacClassifier()"
   ]
  },
  {
   "cell_type": "code",
   "execution_count": 97,
   "id": "0b48325f",
   "metadata": {
    "ExecuteTime": {
     "end_time": "2022-06-22T18:22:12.067983Z",
     "start_time": "2022-06-22T18:22:11.862540Z"
    },
    "pycharm": {
     "name": "#%%\n"
    }
   },
   "outputs": [
    {
     "data": {
      "text/plain": [
       "RacClassifier()"
      ]
     },
     "execution_count": 97,
     "metadata": {},
     "output_type": "execute_result"
    }
   ],
   "source": [
    "clf.fit(train_x, train_y)"
   ]
  },
  {
   "cell_type": "code",
   "execution_count": 98,
   "id": "89236488",
   "metadata": {
    "ExecuteTime": {
     "end_time": "2022-06-22T18:22:12.587643Z",
     "start_time": "2022-06-22T18:22:12.143173Z"
    },
    "pycharm": {
     "name": "#%%\n"
    }
   },
   "outputs": [
    {
     "data": {
      "text/plain": [
       "0.875"
      ]
     },
     "execution_count": 98,
     "metadata": {},
     "output_type": "execute_result"
    }
   ],
   "source": [
    "clf.fit(train_x, train_y).score(train_x, train_y)"
   ]
  },
  {
   "cell_type": "code",
   "execution_count": 99,
   "id": "f803799f",
   "metadata": {
    "ExecuteTime": {
     "end_time": "2022-06-22T18:22:12.766199Z",
     "start_time": "2022-06-22T18:22:12.630561Z"
    },
    "pycharm": {
     "name": "#%%\n"
    },
    "scrolled": false
   },
   "outputs": [
    {
     "name": "stdout",
     "output_type": "stream",
     "text": [
      "              precision    recall  f1-score   support\n",
      "\n",
      "         A1A       0.68      0.96      0.79        24\n",
      "     DIABETE       1.00      0.58      0.73        33\n",
      "          GS       0.75      1.00      0.86         6\n",
      "         MCM       0.43      0.60      0.50         5\n",
      "        NALD       1.00      1.00      1.00         7\n",
      "\n",
      "    accuracy                           0.77        75\n",
      "   macro avg       0.77      0.83      0.78        75\n",
      "weighted avg       0.84      0.77      0.77        75\n",
      "\n"
     ]
    }
   ],
   "source": [
    "print(classification_report(val_y, clf.predict(val_x)))"
   ]
  },
  {
   "cell_type": "markdown",
   "id": "95ef94be",
   "metadata": {
    "pycharm": {
     "name": "#%% md\n"
    }
   },
   "source": [
    "### Grid search"
   ]
  },
  {
   "cell_type": "code",
   "execution_count": 100,
   "id": "50564a4f",
   "metadata": {
    "ExecuteTime": {
     "end_time": "2022-06-22T18:22:16.020853Z",
     "start_time": "2022-06-22T18:22:16.016053Z"
    },
    "pycharm": {
     "name": "#%%\n"
    }
   },
   "outputs": [],
   "source": [
    "scoring = ['accuracy']\n",
    "#scoring = ['accuracy', 'precision_weighted', 'recall_weighted', 'f1_weighted']"
   ]
  },
  {
   "cell_type": "code",
   "execution_count": 101,
   "id": "d7ed51af",
   "metadata": {
    "ExecuteTime": {
     "end_time": "2022-06-22T18:22:16.405397Z",
     "start_time": "2022-06-22T18:22:16.400586Z"
    },
    "pycharm": {
     "name": "#%%\n"
    }
   },
   "outputs": [],
   "source": [
    "param_grid = [\n",
    "    {'weighted': [True, False]\n",
    "    }\n",
    "]"
   ]
  },
  {
   "cell_type": "code",
   "execution_count": 102,
   "id": "b67fb2a5",
   "metadata": {
    "ExecuteTime": {
     "end_time": "2022-06-22T18:22:16.769415Z",
     "start_time": "2022-06-22T18:22:16.766031Z"
    },
    "pycharm": {
     "name": "#%%\n"
    }
   },
   "outputs": [],
   "source": [
    "cv = StratifiedKFold(n_splits=3)"
   ]
  },
  {
   "cell_type": "code",
   "execution_count": 103,
   "id": "8199fe7e",
   "metadata": {
    "ExecuteTime": {
     "end_time": "2022-06-22T18:22:22.388313Z",
     "start_time": "2022-06-22T18:22:17.213842Z"
    },
    "pycharm": {
     "name": "#%%\n"
    }
   },
   "outputs": [
    {
     "data": {
      "text/plain": [
       "GridSearchCV(cv=StratifiedKFold(n_splits=3, random_state=None, shuffle=False),\n",
       "             estimator=RacClassifier(), n_jobs=-1,\n",
       "             param_grid=[{'weighted': [True, False]}], refit=False,\n",
       "             return_train_score=True, scoring=['accuracy'])"
      ]
     },
     "execution_count": 103,
     "metadata": {},
     "output_type": "execute_result"
    }
   ],
   "source": [
    "clf = GridSearchCV(estimator=RacClassifier(), param_grid=param_grid, cv=cv, scoring=scoring, refit=False, n_jobs=-1, return_train_score=True)\n",
    "clf.fit(train_cv, target_cv)"
   ]
  },
  {
   "cell_type": "code",
   "execution_count": 104,
   "id": "4f22a2d2",
   "metadata": {
    "ExecuteTime": {
     "end_time": "2022-06-22T18:22:22.443208Z",
     "start_time": "2022-06-22T18:22:22.396780Z"
    },
    "pycharm": {
     "name": "#%%\n"
    },
    "scrolled": false
   },
   "outputs": [
    {
     "data": {
      "text/html": [
       "<div>\n",
       "<style scoped>\n",
       "    .dataframe tbody tr th:only-of-type {\n",
       "        vertical-align: middle;\n",
       "    }\n",
       "\n",
       "    .dataframe tbody tr th {\n",
       "        vertical-align: top;\n",
       "    }\n",
       "\n",
       "    .dataframe thead th {\n",
       "        text-align: right;\n",
       "    }\n",
       "</style>\n",
       "<table border=\"1\" class=\"dataframe\">\n",
       "  <thead>\n",
       "    <tr style=\"text-align: right;\">\n",
       "      <th></th>\n",
       "      <th>rank_test_accuracy</th>\n",
       "      <th>mean_test_accuracy</th>\n",
       "      <th>mean_train_accuracy</th>\n",
       "      <th>std_test_accuracy</th>\n",
       "      <th>std_train_accuracy</th>\n",
       "      <th>mean_fit_time</th>\n",
       "      <th>params</th>\n",
       "    </tr>\n",
       "  </thead>\n",
       "  <tbody>\n",
       "    <tr>\n",
       "      <th>1</th>\n",
       "      <td>1</td>\n",
       "      <td>0.772559</td>\n",
       "      <td>0.889615</td>\n",
       "      <td>0.012725</td>\n",
       "      <td>0.008412</td>\n",
       "      <td>0.234391</td>\n",
       "      <td>{'weighted': False}</td>\n",
       "    </tr>\n",
       "    <tr>\n",
       "      <th>0</th>\n",
       "      <td>2</td>\n",
       "      <td>0.769192</td>\n",
       "      <td>0.899665</td>\n",
       "      <td>0.022003</td>\n",
       "      <td>0.004110</td>\n",
       "      <td>0.404524</td>\n",
       "      <td>{'weighted': True}</td>\n",
       "    </tr>\n",
       "  </tbody>\n",
       "</table>\n",
       "</div>"
      ],
      "text/plain": [
       "   rank_test_accuracy  mean_test_accuracy  mean_train_accuracy  \\\n",
       "1                   1            0.772559             0.889615   \n",
       "0                   2            0.769192             0.899665   \n",
       "\n",
       "   std_test_accuracy  std_train_accuracy  mean_fit_time               params  \n",
       "1           0.012725            0.008412       0.234391  {'weighted': False}  \n",
       "0           0.022003            0.004110       0.404524   {'weighted': True}  "
      ]
     },
     "execution_count": 104,
     "metadata": {},
     "output_type": "execute_result"
    }
   ],
   "source": [
    "grid_search_report(clf.cv_results_)\n",
    "#p = grid_search_report(clf.cv_results_)[0:500]['params']\n",
    "#tmp = []\n",
    "#for i in p:\n",
    "#    tmp.append(i['coef0'])\n",
    "#plt.hist(tmp)"
   ]
  },
  {
   "cell_type": "code",
   "execution_count": 105,
   "id": "ce5b1282",
   "metadata": {
    "ExecuteTime": {
     "end_time": "2022-06-22T18:22:22.486436Z",
     "start_time": "2022-06-22T18:22:22.455562Z"
    },
    "pycharm": {
     "name": "#%%\n"
    }
   },
   "outputs": [
    {
     "name": "stdout",
     "output_type": "stream",
     "text": [
      "Test: 0.7725589225589226\n",
      "Train: 0.8896147403685092\n"
     ]
    }
   ],
   "source": [
    "print('Test: '+ str(grid_search_report(clf.cv_results_).iloc[0]['mean_test_accuracy']))\n",
    "print('Train: '+ str(grid_search_report(clf.cv_results_).iloc[0]['mean_train_accuracy']))"
   ]
  },
  {
   "cell_type": "code",
   "execution_count": 106,
   "id": "b75dd49c",
   "metadata": {
    "ExecuteTime": {
     "end_time": "2022-06-22T18:22:22.526401Z",
     "start_time": "2022-06-22T18:22:22.498815Z"
    },
    "pycharm": {
     "name": "#%%\n"
    }
   },
   "outputs": [
    {
     "data": {
      "text/plain": [
       "{'weighted': False}"
      ]
     },
     "execution_count": 106,
     "metadata": {},
     "output_type": "execute_result"
    }
   ],
   "source": [
    "best_params = grid_search_report(clf.cv_results_).iloc[0]['params']\n",
    "best_params"
   ]
  },
  {
   "cell_type": "code",
   "execution_count": 107,
   "id": "b7eb2a79",
   "metadata": {
    "ExecuteTime": {
     "end_time": "2022-06-22T18:22:22.882958Z",
     "start_time": "2022-06-22T18:22:22.535993Z"
    },
    "pycharm": {
     "name": "#%%\n"
    }
   },
   "outputs": [
    {
     "data": {
      "text/plain": [
       "RacClassifier()"
      ]
     },
     "execution_count": 107,
     "metadata": {},
     "output_type": "execute_result"
    }
   ],
   "source": [
    "clf = RacClassifier(**best_params)\n",
    "clf.fit(train_x, train_y)"
   ]
  },
  {
   "cell_type": "code",
   "execution_count": 108,
   "id": "e571197d",
   "metadata": {
    "ExecuteTime": {
     "end_time": "2022-06-22T18:22:23.075137Z",
     "start_time": "2022-06-22T18:22:22.889845Z"
    },
    "pycharm": {
     "name": "#%%\n"
    }
   },
   "outputs": [
    {
     "name": "stdout",
     "output_type": "stream",
     "text": [
      "              precision    recall  f1-score   support\n",
      "\n",
      "         A1A       0.68      0.96      0.79        24\n",
      "     DIABETE       1.00      0.58      0.73        33\n",
      "          GS       0.75      1.00      0.86         6\n",
      "         MCM       0.43      0.60      0.50         5\n",
      "        NALD       1.00      1.00      1.00         7\n",
      "\n",
      "    accuracy                           0.77        75\n",
      "   macro avg       0.77      0.83      0.78        75\n",
      "weighted avg       0.84      0.77      0.77        75\n",
      "\n"
     ]
    }
   ],
   "source": [
    "print(classification_report(val_y, clf.predict(val_x)))"
   ]
  },
  {
   "cell_type": "code",
   "execution_count": 109,
   "id": "e95132c7",
   "metadata": {
    "ExecuteTime": {
     "end_time": "2022-06-22T18:22:24.525373Z",
     "start_time": "2022-06-22T18:22:24.032638Z"
    }
   },
   "outputs": [
    {
     "data": {
      "text/plain": [
       "<sklearn.metrics._plot.confusion_matrix.ConfusionMatrixDisplay at 0x13fd500d0>"
      ]
     },
     "execution_count": 109,
     "metadata": {},
     "output_type": "execute_result"
    },
    {
     "data": {
      "image/png": "[encoded data removed]",
      "text/plain": [
       "<Figure size 432x288 with 2 Axes>"
      ]
     },
     "metadata": {
      "needs_background": "light"
     },
     "output_type": "display_data"
    }
   ],
   "source": [
    "ConfusionMatrixDisplay.from_estimator(clf, val_x, val_y)"
   ]
  },
  {
   "cell_type": "markdown",
   "id": "f4d8ff05",
   "metadata": {
    "pycharm": {
     "name": "#%% md\n"
    }
   },
   "source": [
    "### Feature selection"
   ]
  },
  {
   "cell_type": "markdown",
   "id": "d23664ec",
   "metadata": {
    "pycharm": {
     "name": "#%% md\n"
    }
   },
   "source": [
    "#### Feature importance RandomForest"
   ]
  },
  {
   "cell_type": "code",
   "execution_count": 110,
   "id": "bec108ba",
   "metadata": {
    "ExecuteTime": {
     "end_time": "2022-06-22T18:22:29.629084Z",
     "start_time": "2022-06-22T18:22:29.170492Z"
    },
    "pycharm": {
     "name": "#%%\n"
    }
   },
   "outputs": [],
   "source": [
    "cross_val_1 = cross_validate(RacClassifier(**best_params), fs_train_cv_1, target_cv, cv=cv, scoring=scoring, return_train_score=True)"
   ]
  },
  {
   "cell_type": "code",
   "execution_count": 111,
   "id": "9c1f6379",
   "metadata": {
    "ExecuteTime": {
     "end_time": "2022-06-22T18:22:30.274906Z",
     "start_time": "2022-06-22T18:22:30.269235Z"
    },
    "pycharm": {
     "name": "#%%\n"
    }
   },
   "outputs": [
    {
     "name": "stdout",
     "output_type": "stream",
     "text": [
      "Test score: 0.795892255892256\n",
      "Train score: 0.8979815745393634\n"
     ]
    }
   ],
   "source": [
    "print('Test score: '+str(cross_val_1['test_accuracy'].mean()))\n",
    "print('Train score: '+str(cross_val_1['train_accuracy'].mean()))"
   ]
  },
  {
   "cell_type": "markdown",
   "id": "160990d1",
   "metadata": {
    "pycharm": {
     "name": "#%% md\n"
    }
   },
   "source": [
    "#### Recursive Feature Elimination"
   ]
  },
  {
   "cell_type": "code",
   "execution_count": 112,
   "id": "1abf2817",
   "metadata": {
    "ExecuteTime": {
     "end_time": "2022-06-22T18:22:33.205582Z",
     "start_time": "2022-06-22T18:22:32.934103Z"
    },
    "pycharm": {
     "name": "#%%\n"
    }
   },
   "outputs": [],
   "source": [
    "cross_val_2 = cross_validate(RacClassifier(**best_params), fs_train_cv_2, target_cv, cv=cv, scoring=scoring, return_train_score=True)"
   ]
  },
  {
   "cell_type": "code",
   "execution_count": 113,
   "id": "13ab4fb4",
   "metadata": {
    "ExecuteTime": {
     "end_time": "2022-06-22T18:22:33.468258Z",
     "start_time": "2022-06-22T18:22:33.462133Z"
    },
    "pycharm": {
     "name": "#%%\n"
    }
   },
   "outputs": [
    {
     "name": "stdout",
     "output_type": "stream",
     "text": [
      "Test score: 0.8494612794612794\n",
      "Train score: 0.9030150753768845\n"
     ]
    }
   ],
   "source": [
    "print('Test score: '+str(cross_val_2['test_accuracy'].mean()))\n",
    "print('Train score: '+str(cross_val_2['train_accuracy'].mean()))"
   ]
  },
  {
   "cell_type": "markdown",
   "id": "7d79bd75",
   "metadata": {
    "pycharm": {
     "name": "#%% md\n"
    }
   },
   "source": [
    "#### Test best feature selection"
   ]
  },
  {
   "cell_type": "code",
   "execution_count": 121,
   "id": "a8ab1157",
   "metadata": {
    "ExecuteTime": {
     "end_time": "2022-06-22T18:24:10.363267Z",
     "start_time": "2022-06-22T18:24:10.316405Z"
    },
    "pycharm": {
     "name": "#%%\n"
    }
   },
   "outputs": [
    {
     "data": {
      "text/plain": [
       "RacClassifier()"
      ]
     },
     "execution_count": 121,
     "metadata": {},
     "output_type": "execute_result"
    }
   ],
   "source": [
    "clf = RacClassifier(**best_params)\n",
    "clf.fit(train_x[rfe_cols], train_y)"
   ]
  },
  {
   "cell_type": "code",
   "execution_count": 122,
   "id": "32656698",
   "metadata": {
    "ExecuteTime": {
     "end_time": "2022-06-22T18:24:12.600349Z",
     "start_time": "2022-06-22T18:24:12.545928Z"
    }
   },
   "outputs": [
    {
     "data": {
      "text/plain": [
       "0.9107142857142857"
      ]
     },
     "execution_count": 122,
     "metadata": {},
     "output_type": "execute_result"
    }
   ],
   "source": [
    "clf.score(train_x[rfe_cols], train_y)"
   ]
  },
  {
   "cell_type": "code",
   "execution_count": 118,
   "id": "f713d44b",
   "metadata": {
    "ExecuteTime": {
     "end_time": "2022-06-22T18:23:25.421625Z",
     "start_time": "2022-06-22T18:23:25.378996Z"
    },
    "pycharm": {
     "name": "#%%\n"
    },
    "scrolled": false
   },
   "outputs": [
    {
     "name": "stdout",
     "output_type": "stream",
     "text": [
      "              precision    recall  f1-score   support\n",
      "\n",
      "         A1A       0.80      1.00      0.89        24\n",
      "     DIABETE       1.00      0.67      0.80        33\n",
      "          GS       0.67      1.00      0.80         6\n",
      "         MCM       1.00      0.80      0.89         5\n",
      "        NALD       0.70      1.00      0.82         7\n",
      "\n",
      "    accuracy                           0.84        75\n",
      "   macro avg       0.83      0.89      0.84        75\n",
      "weighted avg       0.88      0.84      0.84        75\n",
      "\n"
     ]
    }
   ],
   "source": [
    "print(classification_report(val_y, clf.predict(val_x[rfe_cols])))"
   ]
  },
  {
   "cell_type": "code",
   "execution_count": 119,
   "id": "df58fc8f",
   "metadata": {
    "ExecuteTime": {
     "end_time": "2022-06-22T18:23:26.482025Z",
     "start_time": "2022-06-22T18:23:26.151714Z"
    }
   },
   "outputs": [
    {
     "data": {
      "text/plain": [
       "<sklearn.metrics._plot.confusion_matrix.ConfusionMatrixDisplay at 0x1419b2e60>"
      ]
     },
     "execution_count": 119,
     "metadata": {},
     "output_type": "execute_result"
    },
    {
     "data": {
      "image/png": "[encoded data removed]",
      "text/plain": [
       "<Figure size 432x288 with 2 Axes>"
      ]
     },
     "metadata": {
      "needs_background": "light"
     },
     "output_type": "display_data"
    }
   ],
   "source": [
    "ConfusionMatrixDisplay.from_estimator(clf, val_x[rfe_cols], val_y)"
   ]
  },
  {
   "cell_type": "markdown",
   "id": "ba39dc0f",
   "metadata": {},
   "source": [
    "## KNN"
   ]
  },
  {
   "cell_type": "markdown",
   "id": "462f8b18",
   "metadata": {},
   "source": [
    "### Example test"
   ]
  },
  {
   "cell_type": "code",
   "execution_count": 123,
   "id": "0a58a6a6",
   "metadata": {
    "ExecuteTime": {
     "end_time": "2022-06-22T18:26:25.810382Z",
     "start_time": "2022-06-22T18:26:25.806934Z"
    }
   },
   "outputs": [],
   "source": [
    "clf = KNeighborsClassifier()"
   ]
  },
  {
   "cell_type": "code",
   "execution_count": 124,
   "id": "b9a0b7c7",
   "metadata": {
    "ExecuteTime": {
     "end_time": "2022-06-22T18:26:26.579441Z",
     "start_time": "2022-06-22T18:26:26.524166Z"
    }
   },
   "outputs": [
    {
     "data": {
      "text/plain": [
       "KNeighborsClassifier()"
      ]
     },
     "execution_count": 124,
     "metadata": {},
     "output_type": "execute_result"
    }
   ],
   "source": [
    "clf.fit(train_x, train_y)"
   ]
  },
  {
   "cell_type": "code",
   "execution_count": 125,
   "id": "ea913505",
   "metadata": {
    "ExecuteTime": {
     "end_time": "2022-06-22T18:26:27.311197Z",
     "start_time": "2022-06-22T18:26:27.134037Z"
    }
   },
   "outputs": [
    {
     "data": {
      "text/plain": [
       "0.8125"
      ]
     },
     "execution_count": 125,
     "metadata": {},
     "output_type": "execute_result"
    }
   ],
   "source": [
    "clf.fit(train_x, train_y).score(train_x, train_y)"
   ]
  },
  {
   "cell_type": "code",
   "execution_count": 126,
   "id": "9f8ddc62",
   "metadata": {
    "ExecuteTime": {
     "end_time": "2022-06-22T18:26:30.648433Z",
     "start_time": "2022-06-22T18:26:30.556837Z"
    }
   },
   "outputs": [
    {
     "name": "stdout",
     "output_type": "stream",
     "text": [
      "              precision    recall  f1-score   support\n",
      "\n",
      "         A1A       0.62      1.00      0.76        24\n",
      "     DIABETE       0.96      0.70      0.81        33\n",
      "          GS       1.00      0.83      0.91         6\n",
      "         MCM       1.00      0.80      0.89         5\n",
      "        NALD       1.00      0.43      0.60         7\n",
      "\n",
      "    accuracy                           0.79        75\n",
      "   macro avg       0.91      0.75      0.79        75\n",
      "weighted avg       0.86      0.79      0.79        75\n",
      "\n"
     ]
    }
   ],
   "source": [
    "print(classification_report(val_y, clf.predict(val_x)))"
   ]
  },
  {
   "cell_type": "markdown",
   "id": "86b61c24",
   "metadata": {},
   "source": [
    "### Grid search"
   ]
  },
  {
   "cell_type": "code",
   "execution_count": 127,
   "id": "7f195a7d",
   "metadata": {
    "ExecuteTime": {
     "end_time": "2022-06-22T18:26:32.222065Z",
     "start_time": "2022-06-22T18:26:32.215476Z"
    }
   },
   "outputs": [],
   "source": [
    "scoring = ['accuracy']\n",
    "#scoring = ['accuracy', 'precision_weighted', 'recall_weighted', 'f1_weighted']"
   ]
  },
  {
   "cell_type": "code",
   "execution_count": 128,
   "id": "1151d433",
   "metadata": {
    "ExecuteTime": {
     "end_time": "2022-06-22T18:26:38.453752Z",
     "start_time": "2022-06-22T18:26:38.445550Z"
    }
   },
   "outputs": [],
   "source": [
    "param_grid = [\n",
    "    {'n_neighbors': list(np.arange(1, 10, 1)),\n",
    "     'weights': ['distance'],\n",
    "     'algorithm': ['brute', 'ball_tree', 'kd_tree'],\n",
    "     'p': [1, 2]\n",
    "    }\n",
    "]"
   ]
  },
  {
   "cell_type": "code",
   "execution_count": 129,
   "id": "74d2d1fc",
   "metadata": {
    "ExecuteTime": {
     "end_time": "2022-06-22T18:26:38.896941Z",
     "start_time": "2022-06-22T18:26:38.892499Z"
    }
   },
   "outputs": [],
   "source": [
    "cv = StratifiedKFold(n_splits=3)"
   ]
  },
  {
   "cell_type": "code",
   "execution_count": 130,
   "id": "c56f54e4",
   "metadata": {
    "ExecuteTime": {
     "end_time": "2022-06-22T18:27:33.756521Z",
     "start_time": "2022-06-22T18:26:39.337496Z"
    }
   },
   "outputs": [
    {
     "data": {
      "text/plain": [
       "GridSearchCV(cv=StratifiedKFold(n_splits=3, random_state=None, shuffle=False),\n",
       "             estimator=KNeighborsClassifier(), n_jobs=-1,\n",
       "             param_grid=[{'algorithm': ['brute', 'ball_tree', 'kd_tree'],\n",
       "                          'n_neighbors': [1, 2, 3, 4, 5, 6, 7, 8, 9],\n",
       "                          'p': [1, 2], 'weights': ['distance']}],\n",
       "             refit=False, return_train_score=True, scoring=['accuracy'])"
      ]
     },
     "execution_count": 130,
     "metadata": {},
     "output_type": "execute_result"
    }
   ],
   "source": [
    "clf = GridSearchCV(estimator=KNeighborsClassifier(), param_grid=param_grid, cv=cv, scoring=scoring, refit=False, n_jobs=-1, return_train_score=True)\n",
    "clf.fit(train_cv, target_cv)"
   ]
  },
  {
   "cell_type": "code",
   "execution_count": 131,
   "id": "d53f65f1",
   "metadata": {
    "ExecuteTime": {
     "end_time": "2022-06-22T18:27:33.883531Z",
     "start_time": "2022-06-22T18:27:33.765707Z"
    }
   },
   "outputs": [
    {
     "data": {
      "text/html": [
       "<div>\n",
       "<style scoped>\n",
       "    .dataframe tbody tr th:only-of-type {\n",
       "        vertical-align: middle;\n",
       "    }\n",
       "\n",
       "    .dataframe tbody tr th {\n",
       "        vertical-align: top;\n",
       "    }\n",
       "\n",
       "    .dataframe thead th {\n",
       "        text-align: right;\n",
       "    }\n",
       "</style>\n",
       "<table border=\"1\" class=\"dataframe\">\n",
       "  <thead>\n",
       "    <tr style=\"text-align: right;\">\n",
       "      <th></th>\n",
       "      <th>rank_test_accuracy</th>\n",
       "      <th>mean_test_accuracy</th>\n",
       "      <th>mean_train_accuracy</th>\n",
       "      <th>std_test_accuracy</th>\n",
       "      <th>std_train_accuracy</th>\n",
       "      <th>mean_fit_time</th>\n",
       "      <th>params</th>\n",
       "    </tr>\n",
       "  </thead>\n",
       "  <tbody>\n",
       "    <tr>\n",
       "      <th>0</th>\n",
       "      <td>1</td>\n",
       "      <td>0.903030</td>\n",
       "      <td>1.0</td>\n",
       "      <td>0.016883</td>\n",
       "      <td>0.0</td>\n",
       "      <td>0.172579</td>\n",
       "      <td>{'algorithm': 'brute', 'n_neighbors': 1, 'p': ...</td>\n",
       "    </tr>\n",
       "    <tr>\n",
       "      <th>2</th>\n",
       "      <td>1</td>\n",
       "      <td>0.903030</td>\n",
       "      <td>1.0</td>\n",
       "      <td>0.016883</td>\n",
       "      <td>0.0</td>\n",
       "      <td>0.151831</td>\n",
       "      <td>{'algorithm': 'brute', 'n_neighbors': 2, 'p': ...</td>\n",
       "    </tr>\n",
       "    <tr>\n",
       "      <th>20</th>\n",
       "      <td>1</td>\n",
       "      <td>0.903030</td>\n",
       "      <td>1.0</td>\n",
       "      <td>0.016883</td>\n",
       "      <td>0.0</td>\n",
       "      <td>0.160865</td>\n",
       "      <td>{'algorithm': 'ball_tree', 'n_neighbors': 2, '...</td>\n",
       "    </tr>\n",
       "    <tr>\n",
       "      <th>18</th>\n",
       "      <td>1</td>\n",
       "      <td>0.903030</td>\n",
       "      <td>1.0</td>\n",
       "      <td>0.016883</td>\n",
       "      <td>0.0</td>\n",
       "      <td>0.219179</td>\n",
       "      <td>{'algorithm': 'ball_tree', 'n_neighbors': 1, '...</td>\n",
       "    </tr>\n",
       "    <tr>\n",
       "      <th>36</th>\n",
       "      <td>1</td>\n",
       "      <td>0.903030</td>\n",
       "      <td>1.0</td>\n",
       "      <td>0.016883</td>\n",
       "      <td>0.0</td>\n",
       "      <td>0.174212</td>\n",
       "      <td>{'algorithm': 'kd_tree', 'n_neighbors': 1, 'p'...</td>\n",
       "    </tr>\n",
       "    <tr>\n",
       "      <th>38</th>\n",
       "      <td>1</td>\n",
       "      <td>0.903030</td>\n",
       "      <td>1.0</td>\n",
       "      <td>0.016883</td>\n",
       "      <td>0.0</td>\n",
       "      <td>0.179106</td>\n",
       "      <td>{'algorithm': 'kd_tree', 'n_neighbors': 2, 'p'...</td>\n",
       "    </tr>\n",
       "    <tr>\n",
       "      <th>1</th>\n",
       "      <td>7</td>\n",
       "      <td>0.893064</td>\n",
       "      <td>1.0</td>\n",
       "      <td>0.024658</td>\n",
       "      <td>0.0</td>\n",
       "      <td>0.145451</td>\n",
       "      <td>{'algorithm': 'brute', 'n_neighbors': 1, 'p': ...</td>\n",
       "    </tr>\n",
       "    <tr>\n",
       "      <th>3</th>\n",
       "      <td>7</td>\n",
       "      <td>0.893064</td>\n",
       "      <td>1.0</td>\n",
       "      <td>0.024658</td>\n",
       "      <td>0.0</td>\n",
       "      <td>0.120925</td>\n",
       "      <td>{'algorithm': 'brute', 'n_neighbors': 2, 'p': ...</td>\n",
       "    </tr>\n",
       "    <tr>\n",
       "      <th>21</th>\n",
       "      <td>7</td>\n",
       "      <td>0.893064</td>\n",
       "      <td>1.0</td>\n",
       "      <td>0.024658</td>\n",
       "      <td>0.0</td>\n",
       "      <td>0.200959</td>\n",
       "      <td>{'algorithm': 'ball_tree', 'n_neighbors': 2, '...</td>\n",
       "    </tr>\n",
       "    <tr>\n",
       "      <th>19</th>\n",
       "      <td>7</td>\n",
       "      <td>0.893064</td>\n",
       "      <td>1.0</td>\n",
       "      <td>0.024658</td>\n",
       "      <td>0.0</td>\n",
       "      <td>0.182144</td>\n",
       "      <td>{'algorithm': 'ball_tree', 'n_neighbors': 1, '...</td>\n",
       "    </tr>\n",
       "    <tr>\n",
       "      <th>37</th>\n",
       "      <td>7</td>\n",
       "      <td>0.893064</td>\n",
       "      <td>1.0</td>\n",
       "      <td>0.024658</td>\n",
       "      <td>0.0</td>\n",
       "      <td>0.152451</td>\n",
       "      <td>{'algorithm': 'kd_tree', 'n_neighbors': 1, 'p'...</td>\n",
       "    </tr>\n",
       "    <tr>\n",
       "      <th>39</th>\n",
       "      <td>7</td>\n",
       "      <td>0.893064</td>\n",
       "      <td>1.0</td>\n",
       "      <td>0.024658</td>\n",
       "      <td>0.0</td>\n",
       "      <td>0.187062</td>\n",
       "      <td>{'algorithm': 'kd_tree', 'n_neighbors': 2, 'p'...</td>\n",
       "    </tr>\n",
       "    <tr>\n",
       "      <th>24</th>\n",
       "      <td>13</td>\n",
       "      <td>0.852896</td>\n",
       "      <td>1.0</td>\n",
       "      <td>0.016574</td>\n",
       "      <td>0.0</td>\n",
       "      <td>0.138198</td>\n",
       "      <td>{'algorithm': 'ball_tree', 'n_neighbors': 4, '...</td>\n",
       "    </tr>\n",
       "    <tr>\n",
       "      <th>42</th>\n",
       "      <td>13</td>\n",
       "      <td>0.852896</td>\n",
       "      <td>1.0</td>\n",
       "      <td>0.016574</td>\n",
       "      <td>0.0</td>\n",
       "      <td>0.140379</td>\n",
       "      <td>{'algorithm': 'kd_tree', 'n_neighbors': 4, 'p'...</td>\n",
       "    </tr>\n",
       "    <tr>\n",
       "      <th>6</th>\n",
       "      <td>13</td>\n",
       "      <td>0.852896</td>\n",
       "      <td>1.0</td>\n",
       "      <td>0.016574</td>\n",
       "      <td>0.0</td>\n",
       "      <td>0.144975</td>\n",
       "      <td>{'algorithm': 'brute', 'n_neighbors': 4, 'p': ...</td>\n",
       "    </tr>\n",
       "    <tr>\n",
       "      <th>4</th>\n",
       "      <td>16</td>\n",
       "      <td>0.846128</td>\n",
       "      <td>1.0</td>\n",
       "      <td>0.009831</td>\n",
       "      <td>0.0</td>\n",
       "      <td>0.121254</td>\n",
       "      <td>{'algorithm': 'brute', 'n_neighbors': 3, 'p': ...</td>\n",
       "    </tr>\n",
       "    <tr>\n",
       "      <th>22</th>\n",
       "      <td>16</td>\n",
       "      <td>0.846128</td>\n",
       "      <td>1.0</td>\n",
       "      <td>0.009831</td>\n",
       "      <td>0.0</td>\n",
       "      <td>0.152941</td>\n",
       "      <td>{'algorithm': 'ball_tree', 'n_neighbors': 3, '...</td>\n",
       "    </tr>\n",
       "    <tr>\n",
       "      <th>40</th>\n",
       "      <td>16</td>\n",
       "      <td>0.846128</td>\n",
       "      <td>1.0</td>\n",
       "      <td>0.009831</td>\n",
       "      <td>0.0</td>\n",
       "      <td>0.199224</td>\n",
       "      <td>{'algorithm': 'kd_tree', 'n_neighbors': 3, 'p'...</td>\n",
       "    </tr>\n",
       "    <tr>\n",
       "      <th>41</th>\n",
       "      <td>19</td>\n",
       "      <td>0.806061</td>\n",
       "      <td>1.0</td>\n",
       "      <td>0.018443</td>\n",
       "      <td>0.0</td>\n",
       "      <td>0.197050</td>\n",
       "      <td>{'algorithm': 'kd_tree', 'n_neighbors': 3, 'p'...</td>\n",
       "    </tr>\n",
       "    <tr>\n",
       "      <th>5</th>\n",
       "      <td>19</td>\n",
       "      <td>0.806061</td>\n",
       "      <td>1.0</td>\n",
       "      <td>0.018443</td>\n",
       "      <td>0.0</td>\n",
       "      <td>0.134168</td>\n",
       "      <td>{'algorithm': 'brute', 'n_neighbors': 3, 'p': ...</td>\n",
       "    </tr>\n",
       "    <tr>\n",
       "      <th>23</th>\n",
       "      <td>19</td>\n",
       "      <td>0.806061</td>\n",
       "      <td>1.0</td>\n",
       "      <td>0.018443</td>\n",
       "      <td>0.0</td>\n",
       "      <td>0.145555</td>\n",
       "      <td>{'algorithm': 'ball_tree', 'n_neighbors': 3, '...</td>\n",
       "    </tr>\n",
       "    <tr>\n",
       "      <th>43</th>\n",
       "      <td>22</td>\n",
       "      <td>0.805993</td>\n",
       "      <td>1.0</td>\n",
       "      <td>0.005666</td>\n",
       "      <td>0.0</td>\n",
       "      <td>0.128453</td>\n",
       "      <td>{'algorithm': 'kd_tree', 'n_neighbors': 4, 'p'...</td>\n",
       "    </tr>\n",
       "    <tr>\n",
       "      <th>25</th>\n",
       "      <td>22</td>\n",
       "      <td>0.805993</td>\n",
       "      <td>1.0</td>\n",
       "      <td>0.005666</td>\n",
       "      <td>0.0</td>\n",
       "      <td>0.163318</td>\n",
       "      <td>{'algorithm': 'ball_tree', 'n_neighbors': 4, '...</td>\n",
       "    </tr>\n",
       "    <tr>\n",
       "      <th>7</th>\n",
       "      <td>22</td>\n",
       "      <td>0.805993</td>\n",
       "      <td>1.0</td>\n",
       "      <td>0.005666</td>\n",
       "      <td>0.0</td>\n",
       "      <td>0.203128</td>\n",
       "      <td>{'algorithm': 'brute', 'n_neighbors': 4, 'p': ...</td>\n",
       "    </tr>\n",
       "    <tr>\n",
       "      <th>44</th>\n",
       "      <td>25</td>\n",
       "      <td>0.799327</td>\n",
       "      <td>1.0</td>\n",
       "      <td>0.008220</td>\n",
       "      <td>0.0</td>\n",
       "      <td>0.129347</td>\n",
       "      <td>{'algorithm': 'kd_tree', 'n_neighbors': 5, 'p'...</td>\n",
       "    </tr>\n",
       "    <tr>\n",
       "      <th>26</th>\n",
       "      <td>25</td>\n",
       "      <td>0.799327</td>\n",
       "      <td>1.0</td>\n",
       "      <td>0.008220</td>\n",
       "      <td>0.0</td>\n",
       "      <td>0.140616</td>\n",
       "      <td>{'algorithm': 'ball_tree', 'n_neighbors': 5, '...</td>\n",
       "    </tr>\n",
       "    <tr>\n",
       "      <th>8</th>\n",
       "      <td>25</td>\n",
       "      <td>0.799327</td>\n",
       "      <td>1.0</td>\n",
       "      <td>0.008220</td>\n",
       "      <td>0.0</td>\n",
       "      <td>0.123214</td>\n",
       "      <td>{'algorithm': 'brute', 'n_neighbors': 5, 'p': ...</td>\n",
       "    </tr>\n",
       "    <tr>\n",
       "      <th>28</th>\n",
       "      <td>28</td>\n",
       "      <td>0.772559</td>\n",
       "      <td>1.0</td>\n",
       "      <td>0.005346</td>\n",
       "      <td>0.0</td>\n",
       "      <td>0.237538</td>\n",
       "      <td>{'algorithm': 'ball_tree', 'n_neighbors': 6, '...</td>\n",
       "    </tr>\n",
       "    <tr>\n",
       "      <th>46</th>\n",
       "      <td>28</td>\n",
       "      <td>0.772559</td>\n",
       "      <td>1.0</td>\n",
       "      <td>0.005346</td>\n",
       "      <td>0.0</td>\n",
       "      <td>0.130774</td>\n",
       "      <td>{'algorithm': 'kd_tree', 'n_neighbors': 6, 'p'...</td>\n",
       "    </tr>\n",
       "    <tr>\n",
       "      <th>10</th>\n",
       "      <td>28</td>\n",
       "      <td>0.772559</td>\n",
       "      <td>1.0</td>\n",
       "      <td>0.005346</td>\n",
       "      <td>0.0</td>\n",
       "      <td>0.116269</td>\n",
       "      <td>{'algorithm': 'brute', 'n_neighbors': 6, 'p': ...</td>\n",
       "    </tr>\n",
       "    <tr>\n",
       "      <th>29</th>\n",
       "      <td>31</td>\n",
       "      <td>0.765892</td>\n",
       "      <td>1.0</td>\n",
       "      <td>0.004273</td>\n",
       "      <td>0.0</td>\n",
       "      <td>0.149011</td>\n",
       "      <td>{'algorithm': 'ball_tree', 'n_neighbors': 6, '...</td>\n",
       "    </tr>\n",
       "    <tr>\n",
       "      <th>47</th>\n",
       "      <td>31</td>\n",
       "      <td>0.765892</td>\n",
       "      <td>1.0</td>\n",
       "      <td>0.004273</td>\n",
       "      <td>0.0</td>\n",
       "      <td>0.151399</td>\n",
       "      <td>{'algorithm': 'kd_tree', 'n_neighbors': 6, 'p'...</td>\n",
       "    </tr>\n",
       "    <tr>\n",
       "      <th>11</th>\n",
       "      <td>31</td>\n",
       "      <td>0.765892</td>\n",
       "      <td>1.0</td>\n",
       "      <td>0.004273</td>\n",
       "      <td>0.0</td>\n",
       "      <td>0.164327</td>\n",
       "      <td>{'algorithm': 'brute', 'n_neighbors': 6, 'p': ...</td>\n",
       "    </tr>\n",
       "    <tr>\n",
       "      <th>27</th>\n",
       "      <td>34</td>\n",
       "      <td>0.759091</td>\n",
       "      <td>1.0</td>\n",
       "      <td>0.022866</td>\n",
       "      <td>0.0</td>\n",
       "      <td>0.176202</td>\n",
       "      <td>{'algorithm': 'ball_tree', 'n_neighbors': 5, '...</td>\n",
       "    </tr>\n",
       "    <tr>\n",
       "      <th>45</th>\n",
       "      <td>34</td>\n",
       "      <td>0.759091</td>\n",
       "      <td>1.0</td>\n",
       "      <td>0.022866</td>\n",
       "      <td>0.0</td>\n",
       "      <td>0.126386</td>\n",
       "      <td>{'algorithm': 'kd_tree', 'n_neighbors': 5, 'p'...</td>\n",
       "    </tr>\n",
       "    <tr>\n",
       "      <th>9</th>\n",
       "      <td>34</td>\n",
       "      <td>0.759091</td>\n",
       "      <td>1.0</td>\n",
       "      <td>0.022866</td>\n",
       "      <td>0.0</td>\n",
       "      <td>0.234068</td>\n",
       "      <td>{'algorithm': 'brute', 'n_neighbors': 5, 'p': ...</td>\n",
       "    </tr>\n",
       "    <tr>\n",
       "      <th>32</th>\n",
       "      <td>37</td>\n",
       "      <td>0.752458</td>\n",
       "      <td>1.0</td>\n",
       "      <td>0.010666</td>\n",
       "      <td>0.0</td>\n",
       "      <td>0.131999</td>\n",
       "      <td>{'algorithm': 'ball_tree', 'n_neighbors': 8, '...</td>\n",
       "    </tr>\n",
       "    <tr>\n",
       "      <th>50</th>\n",
       "      <td>37</td>\n",
       "      <td>0.752458</td>\n",
       "      <td>1.0</td>\n",
       "      <td>0.010666</td>\n",
       "      <td>0.0</td>\n",
       "      <td>0.127747</td>\n",
       "      <td>{'algorithm': 'kd_tree', 'n_neighbors': 8, 'p'...</td>\n",
       "    </tr>\n",
       "    <tr>\n",
       "      <th>14</th>\n",
       "      <td>37</td>\n",
       "      <td>0.752458</td>\n",
       "      <td>1.0</td>\n",
       "      <td>0.010666</td>\n",
       "      <td>0.0</td>\n",
       "      <td>0.143799</td>\n",
       "      <td>{'algorithm': 'brute', 'n_neighbors': 8, 'p': ...</td>\n",
       "    </tr>\n",
       "    <tr>\n",
       "      <th>48</th>\n",
       "      <td>40</td>\n",
       "      <td>0.739125</td>\n",
       "      <td>1.0</td>\n",
       "      <td>0.001238</td>\n",
       "      <td>0.0</td>\n",
       "      <td>0.149899</td>\n",
       "      <td>{'algorithm': 'kd_tree', 'n_neighbors': 7, 'p'...</td>\n",
       "    </tr>\n",
       "    <tr>\n",
       "      <th>30</th>\n",
       "      <td>40</td>\n",
       "      <td>0.739125</td>\n",
       "      <td>1.0</td>\n",
       "      <td>0.001238</td>\n",
       "      <td>0.0</td>\n",
       "      <td>0.147491</td>\n",
       "      <td>{'algorithm': 'ball_tree', 'n_neighbors': 7, '...</td>\n",
       "    </tr>\n",
       "    <tr>\n",
       "      <th>12</th>\n",
       "      <td>40</td>\n",
       "      <td>0.739125</td>\n",
       "      <td>1.0</td>\n",
       "      <td>0.001238</td>\n",
       "      <td>0.0</td>\n",
       "      <td>0.162691</td>\n",
       "      <td>{'algorithm': 'brute', 'n_neighbors': 7, 'p': ...</td>\n",
       "    </tr>\n",
       "    <tr>\n",
       "      <th>52</th>\n",
       "      <td>43</td>\n",
       "      <td>0.732424</td>\n",
       "      <td>1.0</td>\n",
       "      <td>0.020735</td>\n",
       "      <td>0.0</td>\n",
       "      <td>0.176603</td>\n",
       "      <td>{'algorithm': 'kd_tree', 'n_neighbors': 9, 'p'...</td>\n",
       "    </tr>\n",
       "    <tr>\n",
       "      <th>16</th>\n",
       "      <td>43</td>\n",
       "      <td>0.732424</td>\n",
       "      <td>1.0</td>\n",
       "      <td>0.020735</td>\n",
       "      <td>0.0</td>\n",
       "      <td>0.125230</td>\n",
       "      <td>{'algorithm': 'brute', 'n_neighbors': 9, 'p': ...</td>\n",
       "    </tr>\n",
       "    <tr>\n",
       "      <th>34</th>\n",
       "      <td>43</td>\n",
       "      <td>0.732424</td>\n",
       "      <td>1.0</td>\n",
       "      <td>0.020735</td>\n",
       "      <td>0.0</td>\n",
       "      <td>0.152740</td>\n",
       "      <td>{'algorithm': 'ball_tree', 'n_neighbors': 9, '...</td>\n",
       "    </tr>\n",
       "    <tr>\n",
       "      <th>33</th>\n",
       "      <td>46</td>\n",
       "      <td>0.712391</td>\n",
       "      <td>1.0</td>\n",
       "      <td>0.016676</td>\n",
       "      <td>0.0</td>\n",
       "      <td>0.140879</td>\n",
       "      <td>{'algorithm': 'ball_tree', 'n_neighbors': 8, '...</td>\n",
       "    </tr>\n",
       "    <tr>\n",
       "      <th>51</th>\n",
       "      <td>46</td>\n",
       "      <td>0.712391</td>\n",
       "      <td>1.0</td>\n",
       "      <td>0.016676</td>\n",
       "      <td>0.0</td>\n",
       "      <td>0.139777</td>\n",
       "      <td>{'algorithm': 'kd_tree', 'n_neighbors': 8, 'p'...</td>\n",
       "    </tr>\n",
       "    <tr>\n",
       "      <th>15</th>\n",
       "      <td>46</td>\n",
       "      <td>0.712391</td>\n",
       "      <td>1.0</td>\n",
       "      <td>0.016676</td>\n",
       "      <td>0.0</td>\n",
       "      <td>0.143372</td>\n",
       "      <td>{'algorithm': 'brute', 'n_neighbors': 8, 'p': ...</td>\n",
       "    </tr>\n",
       "    <tr>\n",
       "      <th>49</th>\n",
       "      <td>49</td>\n",
       "      <td>0.709024</td>\n",
       "      <td>1.0</td>\n",
       "      <td>0.024534</td>\n",
       "      <td>0.0</td>\n",
       "      <td>0.136021</td>\n",
       "      <td>{'algorithm': 'kd_tree', 'n_neighbors': 7, 'p'...</td>\n",
       "    </tr>\n",
       "    <tr>\n",
       "      <th>13</th>\n",
       "      <td>49</td>\n",
       "      <td>0.709024</td>\n",
       "      <td>1.0</td>\n",
       "      <td>0.024534</td>\n",
       "      <td>0.0</td>\n",
       "      <td>0.165585</td>\n",
       "      <td>{'algorithm': 'brute', 'n_neighbors': 7, 'p': ...</td>\n",
       "    </tr>\n",
       "    <tr>\n",
       "      <th>31</th>\n",
       "      <td>49</td>\n",
       "      <td>0.709024</td>\n",
       "      <td>1.0</td>\n",
       "      <td>0.024534</td>\n",
       "      <td>0.0</td>\n",
       "      <td>0.135409</td>\n",
       "      <td>{'algorithm': 'ball_tree', 'n_neighbors': 7, '...</td>\n",
       "    </tr>\n",
       "    <tr>\n",
       "      <th>35</th>\n",
       "      <td>52</td>\n",
       "      <td>0.705657</td>\n",
       "      <td>1.0</td>\n",
       "      <td>0.017447</td>\n",
       "      <td>0.0</td>\n",
       "      <td>0.161270</td>\n",
       "      <td>{'algorithm': 'ball_tree', 'n_neighbors': 9, '...</td>\n",
       "    </tr>\n",
       "    <tr>\n",
       "      <th>17</th>\n",
       "      <td>52</td>\n",
       "      <td>0.705657</td>\n",
       "      <td>1.0</td>\n",
       "      <td>0.017447</td>\n",
       "      <td>0.0</td>\n",
       "      <td>0.141741</td>\n",
       "      <td>{'algorithm': 'brute', 'n_neighbors': 9, 'p': ...</td>\n",
       "    </tr>\n",
       "    <tr>\n",
       "      <th>53</th>\n",
       "      <td>52</td>\n",
       "      <td>0.705657</td>\n",
       "      <td>1.0</td>\n",
       "      <td>0.017447</td>\n",
       "      <td>0.0</td>\n",
       "      <td>0.167416</td>\n",
       "      <td>{'algorithm': 'kd_tree', 'n_neighbors': 9, 'p'...</td>\n",
       "    </tr>\n",
       "  </tbody>\n",
       "</table>\n",
       "</div>"
      ],
      "text/plain": [
       "    rank_test_accuracy  mean_test_accuracy  mean_train_accuracy  \\\n",
       "0                    1            0.903030                  1.0   \n",
       "2                    1            0.903030                  1.0   \n",
       "20                   1            0.903030                  1.0   \n",
       "18                   1            0.903030                  1.0   \n",
       "36                   1            0.903030                  1.0   \n",
       "38                   1            0.903030                  1.0   \n",
       "1                    7            0.893064                  1.0   \n",
       "3                    7            0.893064                  1.0   \n",
       "21                   7            0.893064                  1.0   \n",
       "19                   7            0.893064                  1.0   \n",
       "37                   7            0.893064                  1.0   \n",
       "39                   7            0.893064                  1.0   \n",
       "24                  13            0.852896                  1.0   \n",
       "42                  13            0.852896                  1.0   \n",
       "6                   13            0.852896                  1.0   \n",
       "4                   16            0.846128                  1.0   \n",
       "22                  16            0.846128                  1.0   \n",
       "40                  16            0.846128                  1.0   \n",
       "41                  19            0.806061                  1.0   \n",
       "5                   19            0.806061                  1.0   \n",
       "23                  19            0.806061                  1.0   \n",
       "43                  22            0.805993                  1.0   \n",
       "25                  22            0.805993                  1.0   \n",
       "7                   22            0.805993                  1.0   \n",
       "44                  25            0.799327                  1.0   \n",
       "26                  25            0.799327                  1.0   \n",
       "8                   25            0.799327                  1.0   \n",
       "28                  28            0.772559                  1.0   \n",
       "46                  28            0.772559                  1.0   \n",
       "10                  28            0.772559                  1.0   \n",
       "29                  31            0.765892                  1.0   \n",
       "47                  31            0.765892                  1.0   \n",
       "11                  31            0.765892                  1.0   \n",
       "27                  34            0.759091                  1.0   \n",
       "45                  34            0.759091                  1.0   \n",
       "9                   34            0.759091                  1.0   \n",
       "32                  37            0.752458                  1.0   \n",
       "50                  37            0.752458                  1.0   \n",
       "14                  37            0.752458                  1.0   \n",
       "48                  40            0.739125                  1.0   \n",
       "30                  40            0.739125                  1.0   \n",
       "12                  40            0.739125                  1.0   \n",
       "52                  43            0.732424                  1.0   \n",
       "16                  43            0.732424                  1.0   \n",
       "34                  43            0.732424                  1.0   \n",
       "33                  46            0.712391                  1.0   \n",
       "51                  46            0.712391                  1.0   \n",
       "15                  46            0.712391                  1.0   \n",
       "49                  49            0.709024                  1.0   \n",
       "13                  49            0.709024                  1.0   \n",
       "31                  49            0.709024                  1.0   \n",
       "35                  52            0.705657                  1.0   \n",
       "17                  52            0.705657                  1.0   \n",
       "53                  52            0.705657                  1.0   \n",
       "\n",
       "    std_test_accuracy  std_train_accuracy  mean_fit_time  \\\n",
       "0            0.016883                 0.0       0.172579   \n",
       "2            0.016883                 0.0       0.151831   \n",
       "20           0.016883                 0.0       0.160865   \n",
       "18           0.016883                 0.0       0.219179   \n",
       "36           0.016883                 0.0       0.174212   \n",
       "38           0.016883                 0.0       0.179106   \n",
       "1            0.024658                 0.0       0.145451   \n",
       "3            0.024658                 0.0       0.120925   \n",
       "21           0.024658                 0.0       0.200959   \n",
       "19           0.024658                 0.0       0.182144   \n",
       "37           0.024658                 0.0       0.152451   \n",
       "39           0.024658                 0.0       0.187062   \n",
       "24           0.016574                 0.0       0.138198   \n",
       "42           0.016574                 0.0       0.140379   \n",
       "6            0.016574                 0.0       0.144975   \n",
       "4            0.009831                 0.0       0.121254   \n",
       "22           0.009831                 0.0       0.152941   \n",
       "40           0.009831                 0.0       0.199224   \n",
       "41           0.018443                 0.0       0.197050   \n",
       "5            0.018443                 0.0       0.134168   \n",
       "23           0.018443                 0.0       0.145555   \n",
       "43           0.005666                 0.0       0.128453   \n",
       "25           0.005666                 0.0       0.163318   \n",
       "7            0.005666                 0.0       0.203128   \n",
       "44           0.008220                 0.0       0.129347   \n",
       "26           0.008220                 0.0       0.140616   \n",
       "8            0.008220                 0.0       0.123214   \n",
       "28           0.005346                 0.0       0.237538   \n",
       "46           0.005346                 0.0       0.130774   \n",
       "10           0.005346                 0.0       0.116269   \n",
       "29           0.004273                 0.0       0.149011   \n",
       "47           0.004273                 0.0       0.151399   \n",
       "11           0.004273                 0.0       0.164327   \n",
       "27           0.022866                 0.0       0.176202   \n",
       "45           0.022866                 0.0       0.126386   \n",
       "9            0.022866                 0.0       0.234068   \n",
       "32           0.010666                 0.0       0.131999   \n",
       "50           0.010666                 0.0       0.127747   \n",
       "14           0.010666                 0.0       0.143799   \n",
       "48           0.001238                 0.0       0.149899   \n",
       "30           0.001238                 0.0       0.147491   \n",
       "12           0.001238                 0.0       0.162691   \n",
       "52           0.020735                 0.0       0.176603   \n",
       "16           0.020735                 0.0       0.125230   \n",
       "34           0.020735                 0.0       0.152740   \n",
       "33           0.016676                 0.0       0.140879   \n",
       "51           0.016676                 0.0       0.139777   \n",
       "15           0.016676                 0.0       0.143372   \n",
       "49           0.024534                 0.0       0.136021   \n",
       "13           0.024534                 0.0       0.165585   \n",
       "31           0.024534                 0.0       0.135409   \n",
       "35           0.017447                 0.0       0.161270   \n",
       "17           0.017447                 0.0       0.141741   \n",
       "53           0.017447                 0.0       0.167416   \n",
       "\n",
       "                                               params  \n",
       "0   {'algorithm': 'brute', 'n_neighbors': 1, 'p': ...  \n",
       "2   {'algorithm': 'brute', 'n_neighbors': 2, 'p': ...  \n",
       "20  {'algorithm': 'ball_tree', 'n_neighbors': 2, '...  \n",
       "18  {'algorithm': 'ball_tree', 'n_neighbors': 1, '...  \n",
       "36  {'algorithm': 'kd_tree', 'n_neighbors': 1, 'p'...  \n",
       "38  {'algorithm': 'kd_tree', 'n_neighbors': 2, 'p'...  \n",
       "1   {'algorithm': 'brute', 'n_neighbors': 1, 'p': ...  \n",
       "3   {'algorithm': 'brute', 'n_neighbors': 2, 'p': ...  \n",
       "21  {'algorithm': 'ball_tree', 'n_neighbors': 2, '...  \n",
       "19  {'algorithm': 'ball_tree', 'n_neighbors': 1, '...  \n",
       "37  {'algorithm': 'kd_tree', 'n_neighbors': 1, 'p'...  \n",
       "39  {'algorithm': 'kd_tree', 'n_neighbors': 2, 'p'...  \n",
       "24  {'algorithm': 'ball_tree', 'n_neighbors': 4, '...  \n",
       "42  {'algorithm': 'kd_tree', 'n_neighbors': 4, 'p'...  \n",
       "6   {'algorithm': 'brute', 'n_neighbors': 4, 'p': ...  \n",
       "4   {'algorithm': 'brute', 'n_neighbors': 3, 'p': ...  \n",
       "22  {'algorithm': 'ball_tree', 'n_neighbors': 3, '...  \n",
       "40  {'algorithm': 'kd_tree', 'n_neighbors': 3, 'p'...  \n",
       "41  {'algorithm': 'kd_tree', 'n_neighbors': 3, 'p'...  \n",
       "5   {'algorithm': 'brute', 'n_neighbors': 3, 'p': ...  \n",
       "23  {'algorithm': 'ball_tree', 'n_neighbors': 3, '...  \n",
       "43  {'algorithm': 'kd_tree', 'n_neighbors': 4, 'p'...  \n",
       "25  {'algorithm': 'ball_tree', 'n_neighbors': 4, '...  \n",
       "7   {'algorithm': 'brute', 'n_neighbors': 4, 'p': ...  \n",
       "44  {'algorithm': 'kd_tree', 'n_neighbors': 5, 'p'...  \n",
       "26  {'algorithm': 'ball_tree', 'n_neighbors': 5, '...  \n",
       "8   {'algorithm': 'brute', 'n_neighbors': 5, 'p': ...  \n",
       "28  {'algorithm': 'ball_tree', 'n_neighbors': 6, '...  \n",
       "46  {'algorithm': 'kd_tree', 'n_neighbors': 6, 'p'...  \n",
       "10  {'algorithm': 'brute', 'n_neighbors': 6, 'p': ...  \n",
       "29  {'algorithm': 'ball_tree', 'n_neighbors': 6, '...  \n",
       "47  {'algorithm': 'kd_tree', 'n_neighbors': 6, 'p'...  \n",
       "11  {'algorithm': 'brute', 'n_neighbors': 6, 'p': ...  \n",
       "27  {'algorithm': 'ball_tree', 'n_neighbors': 5, '...  \n",
       "45  {'algorithm': 'kd_tree', 'n_neighbors': 5, 'p'...  \n",
       "9   {'algorithm': 'brute', 'n_neighbors': 5, 'p': ...  \n",
       "32  {'algorithm': 'ball_tree', 'n_neighbors': 8, '...  \n",
       "50  {'algorithm': 'kd_tree', 'n_neighbors': 8, 'p'...  \n",
       "14  {'algorithm': 'brute', 'n_neighbors': 8, 'p': ...  \n",
       "48  {'algorithm': 'kd_tree', 'n_neighbors': 7, 'p'...  \n",
       "30  {'algorithm': 'ball_tree', 'n_neighbors': 7, '...  \n",
       "12  {'algorithm': 'brute', 'n_neighbors': 7, 'p': ...  \n",
       "52  {'algorithm': 'kd_tree', 'n_neighbors': 9, 'p'...  \n",
       "16  {'algorithm': 'brute', 'n_neighbors': 9, 'p': ...  \n",
       "34  {'algorithm': 'ball_tree', 'n_neighbors': 9, '...  \n",
       "33  {'algorithm': 'ball_tree', 'n_neighbors': 8, '...  \n",
       "51  {'algorithm': 'kd_tree', 'n_neighbors': 8, 'p'...  \n",
       "15  {'algorithm': 'brute', 'n_neighbors': 8, 'p': ...  \n",
       "49  {'algorithm': 'kd_tree', 'n_neighbors': 7, 'p'...  \n",
       "13  {'algorithm': 'brute', 'n_neighbors': 7, 'p': ...  \n",
       "31  {'algorithm': 'ball_tree', 'n_neighbors': 7, '...  \n",
       "35  {'algorithm': 'ball_tree', 'n_neighbors': 9, '...  \n",
       "17  {'algorithm': 'brute', 'n_neighbors': 9, 'p': ...  \n",
       "53  {'algorithm': 'kd_tree', 'n_neighbors': 9, 'p'...  "
      ]
     },
     "execution_count": 131,
     "metadata": {},
     "output_type": "execute_result"
    }
   ],
   "source": [
    "grid_search_report(clf.cv_results_)\n",
    "#p = grid_search_report(clf.cv_results_)[0:10]['params']\n",
    "#tmp = []\n",
    "#for i in p:\n",
    "    #tmp.append(i['leaf_size'])\n",
    "#plt.hist(tmp)"
   ]
  },
  {
   "cell_type": "code",
   "execution_count": 132,
   "id": "6c79de55",
   "metadata": {
    "ExecuteTime": {
     "end_time": "2022-06-22T18:27:33.902926Z",
     "start_time": "2022-06-22T18:27:33.888010Z"
    }
   },
   "outputs": [
    {
     "name": "stdout",
     "output_type": "stream",
     "text": [
      "Test: 0.903030303030303\n",
      "Train: 1.0\n"
     ]
    }
   ],
   "source": [
    "print('Test: '+ str(grid_search_report(clf.cv_results_).iloc[0]['mean_test_accuracy']))\n",
    "print('Train: '+ str(grid_search_report(clf.cv_results_).iloc[0]['mean_train_accuracy']))"
   ]
  },
  {
   "cell_type": "code",
   "execution_count": 133,
   "id": "784414a8",
   "metadata": {
    "ExecuteTime": {
     "end_time": "2022-06-22T18:27:33.925484Z",
     "start_time": "2022-06-22T18:27:33.910196Z"
    }
   },
   "outputs": [
    {
     "data": {
      "text/plain": [
       "{'algorithm': 'brute', 'n_neighbors': 1, 'p': 1, 'weights': 'distance'}"
      ]
     },
     "execution_count": 133,
     "metadata": {},
     "output_type": "execute_result"
    }
   ],
   "source": [
    "best_params = grid_search_report(clf.cv_results_).iloc[0]['params']\n",
    "best_params"
   ]
  },
  {
   "cell_type": "code",
   "execution_count": 21,
   "id": "0e3c9bf9",
   "metadata": {
    "ExecuteTime": {
     "end_time": "2022-06-16T16:59:50.534541Z",
     "start_time": "2022-06-16T16:59:50.521949Z"
    }
   },
   "outputs": [],
   "source": [
    "#best_params = {'algorithm': 'brute', 'weights': 'distance', 'n_neighbors': 1, 'p': 1}"
   ]
  },
  {
   "cell_type": "code",
   "execution_count": 134,
   "id": "014afcda",
   "metadata": {
    "ExecuteTime": {
     "end_time": "2022-06-22T18:27:34.006812Z",
     "start_time": "2022-06-22T18:27:33.929469Z"
    }
   },
   "outputs": [
    {
     "data": {
      "text/plain": [
       "KNeighborsClassifier(algorithm='brute', n_neighbors=1, p=1, weights='distance')"
      ]
     },
     "execution_count": 134,
     "metadata": {},
     "output_type": "execute_result"
    }
   ],
   "source": [
    "clf = KNeighborsClassifier(**best_params)\n",
    "clf.fit(train_x, train_y)"
   ]
  },
  {
   "cell_type": "code",
   "execution_count": 135,
   "id": "3f9f4ce5",
   "metadata": {
    "ExecuteTime": {
     "end_time": "2022-06-22T18:27:34.587463Z",
     "start_time": "2022-06-22T18:27:34.010512Z"
    }
   },
   "outputs": [
    {
     "name": "stdout",
     "output_type": "stream",
     "text": [
      "              precision    recall  f1-score   support\n",
      "\n",
      "         A1A       0.80      1.00      0.89        24\n",
      "     DIABETE       1.00      0.85      0.92        33\n",
      "          GS       1.00      1.00      1.00         6\n",
      "         MCM       1.00      1.00      1.00         5\n",
      "        NALD       1.00      0.86      0.92         7\n",
      "\n",
      "    accuracy                           0.92        75\n",
      "   macro avg       0.96      0.94      0.95        75\n",
      "weighted avg       0.94      0.92      0.92        75\n",
      "\n"
     ]
    }
   ],
   "source": [
    "print(classification_report(val_y, clf.predict(val_x)))"
   ]
  },
  {
   "cell_type": "code",
   "execution_count": 136,
   "id": "5d440abb",
   "metadata": {
    "ExecuteTime": {
     "end_time": "2022-06-22T18:27:35.312077Z",
     "start_time": "2022-06-22T18:27:34.591685Z"
    }
   },
   "outputs": [
    {
     "data": {
      "text/plain": [
       "<sklearn.metrics._plot.confusion_matrix.ConfusionMatrixDisplay at 0x141c93130>"
      ]
     },
     "execution_count": 136,
     "metadata": {},
     "output_type": "execute_result"
    },
    {
     "data": {
      "image/png": "[encoded data removed]",
      "text/plain": [
       "<Figure size 432x288 with 2 Axes>"
      ]
     },
     "metadata": {
      "needs_background": "light"
     },
     "output_type": "display_data"
    }
   ],
   "source": [
    "ConfusionMatrixDisplay.from_estimator(clf, val_x, val_y)"
   ]
  },
  {
   "cell_type": "markdown",
   "id": "1ccae3ef",
   "metadata": {},
   "source": [
    "### Feature selection"
   ]
  },
  {
   "cell_type": "markdown",
   "id": "8f578749",
   "metadata": {},
   "source": [
    "#### Feature importance RandomForest"
   ]
  },
  {
   "cell_type": "code",
   "execution_count": 137,
   "id": "e55f559c",
   "metadata": {
    "ExecuteTime": {
     "end_time": "2022-06-22T18:27:35.944853Z",
     "start_time": "2022-06-22T18:27:35.317187Z"
    }
   },
   "outputs": [],
   "source": [
    "cross_val_1 = cross_validate(KNeighborsClassifier(**best_params), fs_train_cv_1, target_cv, cv=cv, scoring=scoring, return_train_score=True)"
   ]
  },
  {
   "cell_type": "code",
   "execution_count": 138,
   "id": "2e194a8a",
   "metadata": {
    "ExecuteTime": {
     "end_time": "2022-06-22T18:27:35.962360Z",
     "start_time": "2022-06-22T18:27:35.950031Z"
    }
   },
   "outputs": [
    {
     "name": "stdout",
     "output_type": "stream",
     "text": [
      "Test score: 0.9397979797979797\n",
      "Train score: 1.0\n"
     ]
    }
   ],
   "source": [
    "print('Test score: '+str(cross_val_1['test_accuracy'].mean()))\n",
    "print('Train score: '+str(cross_val_1['train_accuracy'].mean()))"
   ]
  },
  {
   "cell_type": "markdown",
   "id": "14db460f",
   "metadata": {},
   "source": [
    "#### Recursive Feature Elimination"
   ]
  },
  {
   "cell_type": "code",
   "execution_count": 139,
   "id": "58a00078",
   "metadata": {
    "ExecuteTime": {
     "end_time": "2022-06-22T18:27:36.133934Z",
     "start_time": "2022-06-22T18:27:35.976394Z"
    }
   },
   "outputs": [],
   "source": [
    "cross_val_2 = cross_validate(KNeighborsClassifier(**best_params), fs_train_cv_2, target_cv, cv=cv, scoring=scoring, return_train_score=True)\n"
   ]
  },
  {
   "cell_type": "code",
   "execution_count": 140,
   "id": "5f69fb6f",
   "metadata": {
    "ExecuteTime": {
     "end_time": "2022-06-22T18:27:36.144157Z",
     "start_time": "2022-06-22T18:27:36.136898Z"
    }
   },
   "outputs": [
    {
     "name": "stdout",
     "output_type": "stream",
     "text": [
      "Test score: 0.9598653198653198\n",
      "Train score: 1.0\n"
     ]
    }
   ],
   "source": [
    "print('Test score: '+str(cross_val_2['test_accuracy'].mean()))\n",
    "print('Train score: '+str(cross_val_2['train_accuracy'].mean()))"
   ]
  },
  {
   "cell_type": "markdown",
   "id": "90822fb8",
   "metadata": {},
   "source": [
    "#### Test best feature selection"
   ]
  },
  {
   "cell_type": "code",
   "execution_count": 146,
   "id": "6eb78f4f",
   "metadata": {
    "ExecuteTime": {
     "end_time": "2022-06-22T18:30:20.287930Z",
     "start_time": "2022-06-22T18:30:20.271208Z"
    }
   },
   "outputs": [
    {
     "data": {
      "text/plain": [
       "KNeighborsClassifier(algorithm='brute', n_neighbors=1, p=1, weights='distance')"
      ]
     },
     "execution_count": 146,
     "metadata": {},
     "output_type": "execute_result"
    }
   ],
   "source": [
    "clf = KNeighborsClassifier(**best_params)\n",
    "clf.fit(train_x[rfe_cols], train_y)"
   ]
  },
  {
   "cell_type": "code",
   "execution_count": 147,
   "id": "8165167b",
   "metadata": {
    "ExecuteTime": {
     "end_time": "2022-06-22T18:30:20.860899Z",
     "start_time": "2022-06-22T18:30:20.823162Z"
    }
   },
   "outputs": [
    {
     "data": {
      "text/plain": [
       "1.0"
      ]
     },
     "execution_count": 147,
     "metadata": {},
     "output_type": "execute_result"
    }
   ],
   "source": [
    "clf.score(train_x[rfe_cols], train_y)"
   ]
  },
  {
   "cell_type": "code",
   "execution_count": 148,
   "id": "74d5701c",
   "metadata": {
    "ExecuteTime": {
     "end_time": "2022-06-22T18:30:21.501813Z",
     "start_time": "2022-06-22T18:30:21.473846Z"
    }
   },
   "outputs": [
    {
     "name": "stdout",
     "output_type": "stream",
     "text": [
      "              precision    recall  f1-score   support\n",
      "\n",
      "         A1A       0.92      1.00      0.96        24\n",
      "     DIABETE       1.00      0.91      0.95        33\n",
      "          GS       0.86      1.00      0.92         6\n",
      "         MCM       1.00      1.00      1.00         5\n",
      "        NALD       1.00      1.00      1.00         7\n",
      "\n",
      "    accuracy                           0.96        75\n",
      "   macro avg       0.96      0.98      0.97        75\n",
      "weighted avg       0.96      0.96      0.96        75\n",
      "\n"
     ]
    }
   ],
   "source": [
    "print(classification_report(val_y, clf.predict(val_x[rfe_cols])))"
   ]
  },
  {
   "cell_type": "code",
   "execution_count": 149,
   "id": "72cc0baa",
   "metadata": {
    "ExecuteTime": {
     "end_time": "2022-06-22T18:30:22.404149Z",
     "start_time": "2022-06-22T18:30:21.977353Z"
    }
   },
   "outputs": [
    {
     "data": {
      "text/plain": [
       "<sklearn.metrics._plot.confusion_matrix.ConfusionMatrixDisplay at 0x141a09930>"
      ]
     },
     "execution_count": 149,
     "metadata": {},
     "output_type": "execute_result"
    },
    {
     "data": {
      "image/png": "[encoded data removed]",
      "text/plain": [
       "<Figure size 432x288 with 2 Axes>"
      ]
     },
     "metadata": {
      "needs_background": "light"
     },
     "output_type": "display_data"
    }
   ],
   "source": [
    "ConfusionMatrixDisplay.from_estimator(clf, val_x[rfe_cols], val_y)"
   ]
  },
  {
   "cell_type": "markdown",
   "id": "9003e7cb",
   "metadata": {
    "pycharm": {
     "name": "#%% md\n"
    }
   },
   "source": [
    "## KMeans"
   ]
  },
  {
   "cell_type": "code",
   "execution_count": 12,
   "id": "43ef2f69",
   "metadata": {
    "ExecuteTime": {
     "end_time": "2022-06-14T11:09:37.313633Z",
     "start_time": "2022-06-14T11:09:31.892941Z"
    },
    "pycharm": {
     "name": "#%%\n"
    }
   },
   "outputs": [
    {
     "data": {
      "image/png": "[encoded data removed]",
      "text/plain": [
       "<Figure size 432x288 with 1 Axes>"
      ]
     },
     "metadata": {
      "needs_background": "light"
     },
     "output_type": "display_data"
    }
   ],
   "source": [
    "sse = []\n",
    "for k in range(2, 10):\n",
    "    kmeans = KMeans(n_clusters=k).fit(train_cv)\n",
    "    sse.append((k, kmeans.inertia_))\n",
    "\n",
    "plt.figure()\n",
    "kn = KneeLocator(*zip(*sse), curve='convex', direction='decreasing')\n",
    "plt.plot(*zip(*sse), '-o')\n",
    "plt.vlines(kn.knee, plt.ylim()[0], plt.ylim()[1], linestyles='dashed')\n",
    "plt.xlabel(\"Number of cluster\")\n",
    "plt.ylabel(\"SSE\")\n",
    "plt.show()"
   ]
  },
  {
   "cell_type": "code",
   "execution_count": 13,
   "id": "867b4f59",
   "metadata": {
    "ExecuteTime": {
     "end_time": "2022-06-14T11:09:43.896414Z",
     "start_time": "2022-06-14T11:09:43.375213Z"
    },
    "pycharm": {
     "name": "#%%\n"
    }
   },
   "outputs": [],
   "source": [
    "kmeans = KMeans(5).fit(train_cv)"
   ]
  },
  {
   "cell_type": "code",
   "execution_count": 14,
   "id": "93640716",
   "metadata": {
    "ExecuteTime": {
     "end_time": "2022-06-14T11:09:43.928739Z",
     "start_time": "2022-06-14T11:09:43.923398Z"
    },
    "pycharm": {
     "name": "#%%\n"
    }
   },
   "outputs": [],
   "source": [
    "kmeans_labels = kmeans.labels_"
   ]
  },
  {
   "cell_type": "code",
   "execution_count": 15,
   "id": "9b24ee08",
   "metadata": {
    "ExecuteTime": {
     "end_time": "2022-06-14T11:09:44.278718Z",
     "start_time": "2022-06-14T11:09:44.256061Z"
    },
    "pycharm": {
     "name": "#%%\n"
    }
   },
   "outputs": [
    {
     "data": {
      "text/plain": [
       "Counter({3: 30, 2: 159, 1: 84, 0: 7, 4: 19})"
      ]
     },
     "execution_count": 15,
     "metadata": {},
     "output_type": "execute_result"
    }
   ],
   "source": [
    "collections.Counter(kmeans_labels)"
   ]
  },
  {
   "cell_type": "code",
   "execution_count": 16,
   "id": "6372b73c",
   "metadata": {
    "ExecuteTime": {
     "end_time": "2022-06-14T11:09:44.650186Z",
     "start_time": "2022-06-14T11:09:44.638893Z"
    },
    "pycharm": {
     "name": "#%%\n"
    }
   },
   "outputs": [
    {
     "data": {
      "text/plain": [
       "DIABETE    132\n",
       "A1A         96\n",
       "NALD        28\n",
       "GS          22\n",
       "MCM         21\n",
       "Name: DISEASE, dtype: int64"
      ]
     },
     "execution_count": 16,
     "metadata": {},
     "output_type": "execute_result"
    }
   ],
   "source": [
    "target_cv.value_counts()"
   ]
  },
  {
   "cell_type": "code",
   "execution_count": 17,
   "id": "1226002b",
   "metadata": {
    "ExecuteTime": {
     "end_time": "2022-06-14T11:09:45.369032Z",
     "start_time": "2022-06-14T11:09:45.361676Z"
    },
    "pycharm": {
     "name": "#%%\n"
    }
   },
   "outputs": [],
   "source": [
    "translation_dict = {'3': 'DIABETE',\n",
    "             '1': 'A1A',\n",
    "             '0': 'NALD',\n",
    "             '4': 'GS',\n",
    "             '2': 'MCM'\n",
    "}\n",
    "\n",
    "kmeans_labels = [translation_dict[str(lab)] for lab in list(kmeans_labels)]"
   ]
  },
  {
   "cell_type": "code",
   "execution_count": 18,
   "id": "5064abf8",
   "metadata": {
    "ExecuteTime": {
     "end_time": "2022-06-14T11:09:45.893680Z",
     "start_time": "2022-06-14T11:09:45.871975Z"
    },
    "pycharm": {
     "name": "#%%\n"
    }
   },
   "outputs": [
    {
     "name": "stdout",
     "output_type": "stream",
     "text": [
      "              precision    recall  f1-score   support\n",
      "\n",
      "         A1A       0.99      0.86      0.92        96\n",
      "     DIABETE       0.97      0.22      0.36       132\n",
      "          GS       0.00      0.00      0.00        22\n",
      "         MCM       0.13      1.00      0.23        21\n",
      "        NALD       0.00      0.00      0.00        28\n",
      "\n",
      "    accuracy                           0.44       299\n",
      "   macro avg       0.42      0.42      0.30       299\n",
      "weighted avg       0.75      0.44      0.47       299\n",
      "\n"
     ]
    }
   ],
   "source": [
    "print(classification_report(target_cv, kmeans_labels))"
   ]
  },
  {
   "cell_type": "markdown",
   "id": "f0f9fd85",
   "metadata": {},
   "source": [
    "## Decision Tree"
   ]
  },
  {
   "cell_type": "markdown",
   "id": "6d26408f",
   "metadata": {},
   "source": [
    "### Example test"
   ]
  },
  {
   "cell_type": "code",
   "execution_count": 123,
   "id": "7668bc7c",
   "metadata": {
    "ExecuteTime": {
     "end_time": "2022-06-22T18:26:25.810382Z",
     "start_time": "2022-06-22T18:26:25.806934Z"
    }
   },
   "outputs": [],
   "source": [
    "clf = DecisionTreeClassifier()"
   ]
  },
  {
   "cell_type": "code",
   "execution_count": 124,
   "id": "b58487a2",
   "metadata": {
    "ExecuteTime": {
     "end_time": "2022-06-22T18:26:26.579441Z",
     "start_time": "2022-06-22T18:26:26.524166Z"
    }
   },
   "outputs": [
    {
     "data": {
      "text/plain": [
       "KNeighborsClassifier()"
      ]
     },
     "execution_count": 124,
     "metadata": {},
     "output_type": "execute_result"
    }
   ],
   "source": [
    "clf.fit(train_x, train_y)"
   ]
  },
  {
   "cell_type": "code",
   "execution_count": 125,
   "id": "ab13a1b9",
   "metadata": {
    "ExecuteTime": {
     "end_time": "2022-06-22T18:26:27.311197Z",
     "start_time": "2022-06-22T18:26:27.134037Z"
    }
   },
   "outputs": [
    {
     "data": {
      "text/plain": [
       "0.8125"
      ]
     },
     "execution_count": 125,
     "metadata": {},
     "output_type": "execute_result"
    }
   ],
   "source": [
    "clf.fit(train_x, train_y).score(train_x, train_y)"
   ]
  },
  {
   "cell_type": "code",
   "execution_count": 126,
   "id": "c3939256",
   "metadata": {
    "ExecuteTime": {
     "end_time": "2022-06-22T18:26:30.648433Z",
     "start_time": "2022-06-22T18:26:30.556837Z"
    }
   },
   "outputs": [
    {
     "name": "stdout",
     "output_type": "stream",
     "text": [
      "              precision    recall  f1-score   support\n",
      "\n",
      "         A1A       0.62      1.00      0.76        24\n",
      "     DIABETE       0.96      0.70      0.81        33\n",
      "          GS       1.00      0.83      0.91         6\n",
      "         MCM       1.00      0.80      0.89         5\n",
      "        NALD       1.00      0.43      0.60         7\n",
      "\n",
      "    accuracy                           0.79        75\n",
      "   macro avg       0.91      0.75      0.79        75\n",
      "weighted avg       0.86      0.79      0.79        75\n",
      "\n"
     ]
    }
   ],
   "source": [
    "print(classification_report(val_y, clf.predict(val_x)))"
   ]
  },
  {
   "cell_type": "markdown",
   "id": "14690f6d",
   "metadata": {},
   "source": [
    "### Grid search"
   ]
  },
  {
   "cell_type": "code",
   "execution_count": 151,
   "id": "fc8a5219",
   "metadata": {
    "ExecuteTime": {
     "end_time": "2022-06-22T18:38:22.902857Z",
     "start_time": "2022-06-22T18:38:22.888929Z"
    }
   },
   "outputs": [],
   "source": [
    "best_params = {'criterion': 'entropy', 'max_features': 'sqrt', 'min_samples_split': 6}"
   ]
  },
  {
   "cell_type": "code",
   "execution_count": 152,
   "id": "c29e95cf",
   "metadata": {
    "ExecuteTime": {
     "end_time": "2022-06-22T18:38:25.307404Z",
     "start_time": "2022-06-22T18:38:25.205774Z"
    }
   },
   "outputs": [
    {
     "data": {
      "text/plain": [
       "DecisionTreeClassifier(criterion='entropy', max_features='sqrt',\n",
       "                       min_samples_split=6)"
      ]
     },
     "execution_count": 152,
     "metadata": {},
     "output_type": "execute_result"
    }
   ],
   "source": [
    "clf = DecisionTreeClassifier(**best_params)\n",
    "clf.fit(train_x, train_y)"
   ]
  },
  {
   "cell_type": "code",
   "execution_count": 153,
   "id": "f96f40a7",
   "metadata": {
    "ExecuteTime": {
     "end_time": "2022-06-22T18:38:28.377651Z",
     "start_time": "2022-06-22T18:38:28.313850Z"
    }
   },
   "outputs": [
    {
     "name": "stdout",
     "output_type": "stream",
     "text": [
      "              precision    recall  f1-score   support\n",
      "\n",
      "         A1A       1.00      0.92      0.96        24\n",
      "     DIABETE       0.72      0.64      0.68        33\n",
      "          GS       0.75      0.50      0.60         6\n",
      "         MCM       0.40      0.80      0.53         5\n",
      "        NALD       0.20      0.29      0.24         7\n",
      "\n",
      "    accuracy                           0.69        75\n",
      "   macro avg       0.61      0.63      0.60        75\n",
      "weighted avg       0.74      0.69      0.71        75\n",
      "\n"
     ]
    }
   ],
   "source": [
    "print(classification_report(val_y, clf.predict(val_x)))"
   ]
  },
  {
   "cell_type": "code",
   "execution_count": 154,
   "id": "01290118",
   "metadata": {
    "ExecuteTime": {
     "end_time": "2022-06-22T18:38:29.603840Z",
     "start_time": "2022-06-22T18:38:29.176317Z"
    }
   },
   "outputs": [
    {
     "data": {
      "text/plain": [
       "<sklearn.metrics._plot.confusion_matrix.ConfusionMatrixDisplay at 0x141c5ffd0>"
      ]
     },
     "execution_count": 154,
     "metadata": {},
     "output_type": "execute_result"
    },
    {
     "data": {
      "image/png": "[encoded data removed]",
      "text/plain": [
       "<Figure size 432x288 with 2 Axes>"
      ]
     },
     "metadata": {
      "needs_background": "light"
     },
     "output_type": "display_data"
    }
   ],
   "source": [
    "ConfusionMatrixDisplay.from_estimator(clf, val_x, val_y)"
   ]
  },
  {
   "cell_type": "markdown",
   "id": "0cbd68d4",
   "metadata": {},
   "source": [
    "### Feature selection"
   ]
  },
  {
   "cell_type": "markdown",
   "id": "689d10f7",
   "metadata": {},
   "source": [
    "#### Feature importance RandomForest"
   ]
  },
  {
   "cell_type": "code",
   "execution_count": 155,
   "id": "f2e830ec",
   "metadata": {
    "ExecuteTime": {
     "end_time": "2022-06-22T18:38:55.824092Z",
     "start_time": "2022-06-22T18:38:55.653737Z"
    }
   },
   "outputs": [],
   "source": [
    "cross_val_1 = cross_validate(DecisionTreeClassifier(**best_params), fs_train_cv_1, target_cv, cv=cv, scoring=scoring, return_train_score=True)"
   ]
  },
  {
   "cell_type": "code",
   "execution_count": 156,
   "id": "a9b0898f",
   "metadata": {
    "ExecuteTime": {
     "end_time": "2022-06-22T18:38:56.289487Z",
     "start_time": "2022-06-22T18:38:56.282293Z"
    }
   },
   "outputs": [
    {
     "name": "stdout",
     "output_type": "stream",
     "text": [
      "Test score: 0.689023569023569\n",
      "Train score: 0.9732412060301509\n"
     ]
    }
   ],
   "source": [
    "print('Test score: '+str(cross_val_1['test_accuracy'].mean()))\n",
    "print('Train score: '+str(cross_val_1['train_accuracy'].mean()))"
   ]
  },
  {
   "cell_type": "markdown",
   "id": "3b008f06",
   "metadata": {},
   "source": [
    "#### Recursive Feature Elimination"
   ]
  },
  {
   "cell_type": "code",
   "execution_count": 157,
   "id": "ab99b9f0",
   "metadata": {
    "ExecuteTime": {
     "end_time": "2022-06-22T18:38:59.784461Z",
     "start_time": "2022-06-22T18:38:59.715699Z"
    }
   },
   "outputs": [],
   "source": [
    "cross_val_2 = cross_validate(DecisionTreeClassifier(**best_params), fs_train_cv_2, target_cv, cv=cv, scoring=scoring, return_train_score=True)\n"
   ]
  },
  {
   "cell_type": "code",
   "execution_count": 158,
   "id": "88e8f09c",
   "metadata": {
    "ExecuteTime": {
     "end_time": "2022-06-22T18:39:00.312122Z",
     "start_time": "2022-06-22T18:39:00.305721Z"
    }
   },
   "outputs": [
    {
     "name": "stdout",
     "output_type": "stream",
     "text": [
      "Test score: 0.7323905723905724\n",
      "Train score: 0.96321608040201\n"
     ]
    }
   ],
   "source": [
    "print('Test score: '+str(cross_val_2['test_accuracy'].mean()))\n",
    "print('Train score: '+str(cross_val_2['train_accuracy'].mean()))"
   ]
  },
  {
   "cell_type": "markdown",
   "id": "81afb1e7",
   "metadata": {},
   "source": [
    "#### Test best feature selection"
   ]
  },
  {
   "cell_type": "code",
   "execution_count": 163,
   "id": "bd5fac0a",
   "metadata": {
    "ExecuteTime": {
     "end_time": "2022-06-22T18:39:46.294858Z",
     "start_time": "2022-06-22T18:39:46.259089Z"
    }
   },
   "outputs": [
    {
     "data": {
      "text/plain": [
       "DecisionTreeClassifier(criterion='entropy', max_features='sqrt',\n",
       "                       min_samples_split=6)"
      ]
     },
     "execution_count": 163,
     "metadata": {},
     "output_type": "execute_result"
    }
   ],
   "source": [
    "clf = DecisionTreeClassifier(**best_params)\n",
    "clf.fit(train_x[rf_cols], train_y)"
   ]
  },
  {
   "cell_type": "code",
   "execution_count": 164,
   "id": "498601c6",
   "metadata": {
    "ExecuteTime": {
     "end_time": "2022-06-22T18:39:46.738583Z",
     "start_time": "2022-06-22T18:39:46.715948Z"
    }
   },
   "outputs": [
    {
     "data": {
      "text/plain": [
       "0.9732142857142857"
      ]
     },
     "execution_count": 164,
     "metadata": {},
     "output_type": "execute_result"
    }
   ],
   "source": [
    "clf.score(train_x[rf_cols], train_y)"
   ]
  },
  {
   "cell_type": "code",
   "execution_count": 165,
   "id": "4d9cc44e",
   "metadata": {
    "ExecuteTime": {
     "end_time": "2022-06-22T18:39:47.222651Z",
     "start_time": "2022-06-22T18:39:47.192663Z"
    }
   },
   "outputs": [
    {
     "name": "stdout",
     "output_type": "stream",
     "text": [
      "              precision    recall  f1-score   support\n",
      "\n",
      "         A1A       0.86      1.00      0.92        24\n",
      "     DIABETE       0.79      0.67      0.72        33\n",
      "          GS       0.67      0.67      0.67         6\n",
      "         MCM       0.25      0.40      0.31         5\n",
      "        NALD       0.60      0.43      0.50         7\n",
      "\n",
      "    accuracy                           0.73        75\n",
      "   macro avg       0.63      0.63      0.62        75\n",
      "weighted avg       0.75      0.73      0.73        75\n",
      "\n"
     ]
    }
   ],
   "source": [
    "print(classification_report(val_y, clf.predict(val_x[rf_cols])))"
   ]
  },
  {
   "cell_type": "code",
   "execution_count": 166,
   "id": "18539ccd",
   "metadata": {
    "ExecuteTime": {
     "end_time": "2022-06-22T18:39:48.192850Z",
     "start_time": "2022-06-22T18:39:47.847298Z"
    }
   },
   "outputs": [
    {
     "data": {
      "text/plain": [
       "<sklearn.metrics._plot.confusion_matrix.ConfusionMatrixDisplay at 0x13fea5e10>"
      ]
     },
     "execution_count": 166,
     "metadata": {},
     "output_type": "execute_result"
    },
    {
     "data": {
      "image/png": "[encoded data removed]",
      "text/plain": [
       "<Figure size 432x288 with 2 Axes>"
      ]
     },
     "metadata": {
      "needs_background": "light"
     },
     "output_type": "display_data"
    }
   ],
   "source": [
    "ConfusionMatrixDisplay.from_estimator(clf, val_x[rf_cols], val_y)"
   ]
  },
  {
   "cell_type": "code",
   "execution_count": null,
   "id": "fdced34b",
   "metadata": {},
   "outputs": [],
   "source": []
  }
 ],
 "metadata": {
  "kernelspec": {
   "display_name": "Python 3 (ipykernel)",
   "language": "python",
   "name": "python3"
  },
  "language_info": {
   "codemirror_mode": {
    "name": "ipython",
    "version": 3
   },
   "file_extension": ".py",
   "mimetype": "text/x-python",
   "name": "python",
   "nbconvert_exporter": "python",
   "pygments_lexer": "ipython3",
   "version": "3.10.2"
  }
 },
 "nbformat": 4,
 "nbformat_minor": 5
}
