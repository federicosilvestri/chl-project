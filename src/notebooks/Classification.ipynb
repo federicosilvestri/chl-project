{
 "cells": [
  {
   "cell_type": "markdown",
   "id": "168ae984",
   "metadata": {
    "pycharm": {
     "name": "#%% md\n"
    }
   },
   "source": [
    "# Classification"
   ]
  },
  {
   "cell_type": "code",
   "execution_count": 26,
   "id": "e50dbb21",
   "metadata": {
    "ExecuteTime": {
     "end_time": "2022-06-16T17:00:55.205332Z",
     "start_time": "2022-06-16T17:00:55.192082Z"
    },
    "pycharm": {
     "name": "#%%\n"
    }
   },
   "outputs": [],
   "source": [
    "import pandas as pd\n",
    "import numpy as np\n",
    "import matplotlib.pyplot as plt\n",
    "from itertools import compress\n",
    "from sklearn.model_selection import train_test_split, StratifiedKFold, GridSearchCV, cross_validate\n",
    "import sklearn.metrics as metrics\n",
    "from sklearn.metrics import classification_report\n",
    "from sklearn.svm import SVC\n",
    "from sklearn.feature_selection import SelectFromModel, RFECV, RFE\n",
    "from sklearn.ensemble import RandomForestClassifier\n",
    "from RAC.rac import RacClassifier\n",
    "from sklearn.cluster import KMeans\n",
    "import collections\n",
    "from kneed import KneeLocator\n",
    "from sklearn.neighbors import KNeighborsClassifier"
   ]
  },
  {
   "cell_type": "code",
   "execution_count": 2,
   "id": "36dcff45",
   "metadata": {
    "ExecuteTime": {
     "end_time": "2022-06-16T16:58:23.718368Z",
     "start_time": "2022-06-16T16:58:22.675523Z"
    },
    "pycharm": {
     "name": "#%%\n"
    }
   },
   "outputs": [],
   "source": [
    "df = pd.read_csv('../../dataset/trainU.csv', sep=',', index_col=0)"
   ]
  },
  {
   "cell_type": "code",
   "execution_count": 3,
   "id": "1e558074",
   "metadata": {
    "ExecuteTime": {
     "end_time": "2022-06-16T16:58:23.792221Z",
     "start_time": "2022-06-16T16:58:23.728837Z"
    },
    "pycharm": {
     "name": "#%%\n"
    }
   },
   "outputs": [
    {
     "data": {
      "text/html": [
       "<div>\n",
       "<style scoped>\n",
       "    .dataframe tbody tr th:only-of-type {\n",
       "        vertical-align: middle;\n",
       "    }\n",
       "\n",
       "    .dataframe tbody tr th {\n",
       "        vertical-align: top;\n",
       "    }\n",
       "\n",
       "    .dataframe thead th {\n",
       "        text-align: right;\n",
       "    }\n",
       "</style>\n",
       "<table border=\"1\" class=\"dataframe\">\n",
       "  <thead>\n",
       "    <tr style=\"text-align: right;\">\n",
       "      <th></th>\n",
       "      <th>TPD52L2</th>\n",
       "      <th>PQBP1</th>\n",
       "      <th>UBC</th>\n",
       "      <th>MSN</th>\n",
       "      <th>TECPR2</th>\n",
       "      <th>HTRA1</th>\n",
       "      <th>TSC2</th>\n",
       "      <th>TFPI2</th>\n",
       "      <th>BRMS1</th>\n",
       "      <th>RNF122</th>\n",
       "      <th>...</th>\n",
       "      <th>TMEM120B</th>\n",
       "      <th>GMPS</th>\n",
       "      <th>STX17</th>\n",
       "      <th>MYO10</th>\n",
       "      <th>DCTN5</th>\n",
       "      <th>ACOT8</th>\n",
       "      <th>DDX41</th>\n",
       "      <th>NUP37</th>\n",
       "      <th>S100A13</th>\n",
       "      <th>DISEASE</th>\n",
       "    </tr>\n",
       "  </thead>\n",
       "  <tbody>\n",
       "    <tr>\n",
       "      <th>DIABETE_80</th>\n",
       "      <td>0.317308</td>\n",
       "      <td>0.524752</td>\n",
       "      <td>0.423841</td>\n",
       "      <td>0.609589</td>\n",
       "      <td>0.038095</td>\n",
       "      <td>0.570313</td>\n",
       "      <td>0.194444</td>\n",
       "      <td>0.259825</td>\n",
       "      <td>0.611940</td>\n",
       "      <td>0.502262</td>\n",
       "      <td>...</td>\n",
       "      <td>0.299145</td>\n",
       "      <td>0.834951</td>\n",
       "      <td>0.678571</td>\n",
       "      <td>0.318898</td>\n",
       "      <td>0.222222</td>\n",
       "      <td>0.287770</td>\n",
       "      <td>0.574713</td>\n",
       "      <td>0.550459</td>\n",
       "      <td>0.481865</td>\n",
       "      <td>DIABETE</td>\n",
       "    </tr>\n",
       "    <tr>\n",
       "      <th>MCM_24</th>\n",
       "      <td>0.212228</td>\n",
       "      <td>0.397281</td>\n",
       "      <td>0.387946</td>\n",
       "      <td>0.434344</td>\n",
       "      <td>0.582763</td>\n",
       "      <td>0.377927</td>\n",
       "      <td>0.750613</td>\n",
       "      <td>0.156657</td>\n",
       "      <td>0.670648</td>\n",
       "      <td>0.565605</td>\n",
       "      <td>...</td>\n",
       "      <td>0.836315</td>\n",
       "      <td>0.480588</td>\n",
       "      <td>0.544868</td>\n",
       "      <td>0.512937</td>\n",
       "      <td>0.572418</td>\n",
       "      <td>0.295262</td>\n",
       "      <td>0.444807</td>\n",
       "      <td>0.199677</td>\n",
       "      <td>0.707201</td>\n",
       "      <td>MCM</td>\n",
       "    </tr>\n",
       "    <tr>\n",
       "      <th>DIABETE_117</th>\n",
       "      <td>1.000000</td>\n",
       "      <td>0.195577</td>\n",
       "      <td>1.000000</td>\n",
       "      <td>0.484255</td>\n",
       "      <td>0.000000</td>\n",
       "      <td>0.282397</td>\n",
       "      <td>0.432391</td>\n",
       "      <td>1.000000</td>\n",
       "      <td>0.430812</td>\n",
       "      <td>0.085137</td>\n",
       "      <td>...</td>\n",
       "      <td>0.867477</td>\n",
       "      <td>0.670118</td>\n",
       "      <td>0.050938</td>\n",
       "      <td>0.511076</td>\n",
       "      <td>0.000000</td>\n",
       "      <td>0.459641</td>\n",
       "      <td>0.381262</td>\n",
       "      <td>1.000000</td>\n",
       "      <td>0.050781</td>\n",
       "      <td>DIABETE</td>\n",
       "    </tr>\n",
       "    <tr>\n",
       "      <th>A1A_39</th>\n",
       "      <td>0.375781</td>\n",
       "      <td>0.000000</td>\n",
       "      <td>0.436904</td>\n",
       "      <td>0.469231</td>\n",
       "      <td>0.247460</td>\n",
       "      <td>0.050300</td>\n",
       "      <td>0.149881</td>\n",
       "      <td>0.233997</td>\n",
       "      <td>0.007119</td>\n",
       "      <td>0.805700</td>\n",
       "      <td>...</td>\n",
       "      <td>0.193024</td>\n",
       "      <td>0.911520</td>\n",
       "      <td>0.851867</td>\n",
       "      <td>0.230744</td>\n",
       "      <td>0.433154</td>\n",
       "      <td>0.191503</td>\n",
       "      <td>0.181347</td>\n",
       "      <td>0.386808</td>\n",
       "      <td>0.069342</td>\n",
       "      <td>A1A</td>\n",
       "    </tr>\n",
       "    <tr>\n",
       "      <th>GS_12</th>\n",
       "      <td>0.551092</td>\n",
       "      <td>0.914364</td>\n",
       "      <td>0.293751</td>\n",
       "      <td>0.438265</td>\n",
       "      <td>0.707744</td>\n",
       "      <td>0.818267</td>\n",
       "      <td>0.713636</td>\n",
       "      <td>0.824889</td>\n",
       "      <td>0.382334</td>\n",
       "      <td>0.674181</td>\n",
       "      <td>...</td>\n",
       "      <td>0.000000</td>\n",
       "      <td>0.465992</td>\n",
       "      <td>0.866507</td>\n",
       "      <td>0.867688</td>\n",
       "      <td>0.706209</td>\n",
       "      <td>0.169942</td>\n",
       "      <td>0.448738</td>\n",
       "      <td>0.688865</td>\n",
       "      <td>0.067062</td>\n",
       "      <td>GS</td>\n",
       "    </tr>\n",
       "  </tbody>\n",
       "</table>\n",
       "<p>5 rows × 4421 columns</p>\n",
       "</div>"
      ],
      "text/plain": [
       "              TPD52L2     PQBP1       UBC       MSN    TECPR2     HTRA1  \\\n",
       "DIABETE_80   0.317308  0.524752  0.423841  0.609589  0.038095  0.570313   \n",
       "MCM_24       0.212228  0.397281  0.387946  0.434344  0.582763  0.377927   \n",
       "DIABETE_117  1.000000  0.195577  1.000000  0.484255  0.000000  0.282397   \n",
       "A1A_39       0.375781  0.000000  0.436904  0.469231  0.247460  0.050300   \n",
       "GS_12        0.551092  0.914364  0.293751  0.438265  0.707744  0.818267   \n",
       "\n",
       "                 TSC2     TFPI2     BRMS1    RNF122  ...  TMEM120B      GMPS  \\\n",
       "DIABETE_80   0.194444  0.259825  0.611940  0.502262  ...  0.299145  0.834951   \n",
       "MCM_24       0.750613  0.156657  0.670648  0.565605  ...  0.836315  0.480588   \n",
       "DIABETE_117  0.432391  1.000000  0.430812  0.085137  ...  0.867477  0.670118   \n",
       "A1A_39       0.149881  0.233997  0.007119  0.805700  ...  0.193024  0.911520   \n",
       "GS_12        0.713636  0.824889  0.382334  0.674181  ...  0.000000  0.465992   \n",
       "\n",
       "                STX17     MYO10     DCTN5     ACOT8     DDX41     NUP37  \\\n",
       "DIABETE_80   0.678571  0.318898  0.222222  0.287770  0.574713  0.550459   \n",
       "MCM_24       0.544868  0.512937  0.572418  0.295262  0.444807  0.199677   \n",
       "DIABETE_117  0.050938  0.511076  0.000000  0.459641  0.381262  1.000000   \n",
       "A1A_39       0.851867  0.230744  0.433154  0.191503  0.181347  0.386808   \n",
       "GS_12        0.866507  0.867688  0.706209  0.169942  0.448738  0.688865   \n",
       "\n",
       "              S100A13  DISEASE  \n",
       "DIABETE_80   0.481865  DIABETE  \n",
       "MCM_24       0.707201      MCM  \n",
       "DIABETE_117  0.050781  DIABETE  \n",
       "A1A_39       0.069342      A1A  \n",
       "GS_12        0.067062       GS  \n",
       "\n",
       "[5 rows x 4421 columns]"
      ]
     },
     "execution_count": 3,
     "metadata": {},
     "output_type": "execute_result"
    }
   ],
   "source": [
    "df.head()"
   ]
  },
  {
   "cell_type": "code",
   "execution_count": 4,
   "id": "c5d3e81f",
   "metadata": {
    "ExecuteTime": {
     "end_time": "2022-06-16T16:58:24.151685Z",
     "start_time": "2022-06-16T16:58:23.798133Z"
    },
    "pycharm": {
     "name": "#%%\n"
    }
   },
   "outputs": [
    {
     "name": "stdout",
     "output_type": "stream",
     "text": [
      "<class 'pandas.core.frame.DataFrame'>\n",
      "Index: 299 entries, DIABETE_80 to A1A_111\n",
      "Columns: 4421 entries, TPD52L2 to DISEASE\n",
      "dtypes: float64(4420), object(1)\n",
      "memory usage: 10.1+ MB\n"
     ]
    }
   ],
   "source": [
    "df.info()"
   ]
  },
  {
   "cell_type": "code",
   "execution_count": 5,
   "id": "d5a13c76",
   "metadata": {
    "ExecuteTime": {
     "end_time": "2022-06-16T16:58:24.166917Z",
     "start_time": "2022-06-16T16:58:24.156574Z"
    },
    "pycharm": {
     "name": "#%%\n"
    }
   },
   "outputs": [
    {
     "data": {
      "text/plain": [
       "DIABETE    132\n",
       "A1A         96\n",
       "NALD        28\n",
       "GS          22\n",
       "MCM         21\n",
       "Name: DISEASE, dtype: int64"
      ]
     },
     "execution_count": 5,
     "metadata": {},
     "output_type": "execute_result"
    }
   ],
   "source": [
    "df['DISEASE'].value_counts()"
   ]
  },
  {
   "cell_type": "code",
   "execution_count": 6,
   "id": "2189f585",
   "metadata": {
    "ExecuteTime": {
     "end_time": "2022-06-16T16:58:24.178332Z",
     "start_time": "2022-06-16T16:58:24.171102Z"
    },
    "pycharm": {
     "name": "#%%\n"
    }
   },
   "outputs": [],
   "source": [
    "data_cols = [col_name for col_name in df.columns if col_name != 'DISEASE']"
   ]
  },
  {
   "cell_type": "markdown",
   "id": "7d021c3b",
   "metadata": {
    "pycharm": {
     "name": "#%% md\n"
    }
   },
   "source": [
    "Train and validation by hand"
   ]
  },
  {
   "cell_type": "code",
   "execution_count": 7,
   "id": "59ade155",
   "metadata": {
    "ExecuteTime": {
     "end_time": "2022-06-16T16:58:24.264213Z",
     "start_time": "2022-06-16T16:58:24.182388Z"
    },
    "pycharm": {
     "name": "#%%\n"
    }
   },
   "outputs": [],
   "source": [
    "train_x, val_x, train_y, val_y = train_test_split(df[data_cols], df['DISEASE'], test_size=.25, stratify=df['DISEASE'])"
   ]
  },
  {
   "cell_type": "markdown",
   "id": "a15d36e5",
   "metadata": {
    "pycharm": {
     "name": "#%% md\n"
    }
   },
   "source": [
    "Train for CV"
   ]
  },
  {
   "cell_type": "code",
   "execution_count": 8,
   "id": "d4163bdf",
   "metadata": {
    "ExecuteTime": {
     "end_time": "2022-06-16T16:58:24.333883Z",
     "start_time": "2022-06-16T16:58:24.287185Z"
    },
    "pycharm": {
     "name": "#%%\n"
    }
   },
   "outputs": [],
   "source": [
    "train_cv, target_cv = df.loc[:, df.columns != 'DISEASE'].copy(), df['DISEASE'].copy()"
   ]
  },
  {
   "cell_type": "code",
   "execution_count": 9,
   "id": "3345c142",
   "metadata": {
    "ExecuteTime": {
     "end_time": "2022-06-16T16:58:24.354394Z",
     "start_time": "2022-06-16T16:58:24.343927Z"
    },
    "pycharm": {
     "name": "#%%\n"
    }
   },
   "outputs": [],
   "source": [
    "# Return compact form for GridSearchCV results\n",
    "# It should receive clf.cv_results_ after GridSearchCV\n",
    "def grid_search_report(results):\n",
    "    results_df = pd.DataFrame(results)\n",
    "    rank = ['rank_test_accuracy']\n",
    "    columns = ['rank_test_accuracy', \n",
    "               'mean_test_accuracy', 'mean_train_accuracy', 'std_test_accuracy', 'std_train_accuracy',\n",
    "               'mean_fit_time', 'params']\n",
    "    results_df = results_df.sort_values(by=rank)\n",
    "    results_df = results_df[columns]\n",
    "    return results_df"
   ]
  },
  {
   "cell_type": "markdown",
   "id": "d3a6a32f",
   "metadata": {
    "heading_collapsed": true,
    "pycharm": {
     "name": "#%% md\n"
    }
   },
   "source": [
    "## SVC"
   ]
  },
  {
   "cell_type": "markdown",
   "id": "fe62c7ea",
   "metadata": {
    "hidden": true,
    "pycharm": {
     "name": "#%% md\n"
    }
   },
   "source": [
    "### Example test"
   ]
  },
  {
   "cell_type": "code",
   "execution_count": 11,
   "id": "84b784c9",
   "metadata": {
    "ExecuteTime": {
     "end_time": "2022-06-09T13:13:51.980864Z",
     "start_time": "2022-06-09T13:13:51.975748Z"
    },
    "hidden": true,
    "pycharm": {
     "name": "#%%\n"
    }
   },
   "outputs": [],
   "source": [
    "clf = SVC()"
   ]
  },
  {
   "cell_type": "code",
   "execution_count": 12,
   "id": "7ca3070e",
   "metadata": {
    "ExecuteTime": {
     "end_time": "2022-06-09T13:13:52.399027Z",
     "start_time": "2022-06-09T13:13:51.985926Z"
    },
    "hidden": true,
    "pycharm": {
     "name": "#%%\n"
    }
   },
   "outputs": [
    {
     "data": {
      "text/plain": [
       "SVC()"
      ]
     },
     "execution_count": 12,
     "metadata": {},
     "output_type": "execute_result"
    }
   ],
   "source": [
    "clf.fit(train_x, train_y)"
   ]
  },
  {
   "cell_type": "code",
   "execution_count": 13,
   "id": "9b1bc341",
   "metadata": {
    "ExecuteTime": {
     "end_time": "2022-06-09T13:13:53.082705Z",
     "start_time": "2022-06-09T13:13:52.403802Z"
    },
    "hidden": true,
    "pycharm": {
     "name": "#%%\n"
    }
   },
   "outputs": [
    {
     "data": {
      "text/plain": [
       "1.0"
      ]
     },
     "execution_count": 13,
     "metadata": {},
     "output_type": "execute_result"
    }
   ],
   "source": [
    "clf.fit(train_x, train_y).score(train_x, train_y)"
   ]
  },
  {
   "cell_type": "code",
   "execution_count": 14,
   "id": "0fd4263c",
   "metadata": {
    "ExecuteTime": {
     "end_time": "2022-06-09T13:13:53.252306Z",
     "start_time": "2022-06-09T13:13:53.086286Z"
    },
    "hidden": true,
    "pycharm": {
     "name": "#%%\n"
    },
    "scrolled": false
   },
   "outputs": [
    {
     "name": "stdout",
     "output_type": "stream",
     "text": [
      "              precision    recall  f1-score   support\n",
      "\n",
      "         A1A       0.96      1.00      0.98        23\n",
      "     DIABETE       1.00      0.77      0.87        43\n",
      "          GS       0.67      1.00      0.80         4\n",
      "         MCM       0.40      1.00      0.57         2\n",
      "        NALD       0.43      1.00      0.60         3\n",
      "\n",
      "    accuracy                           0.87        75\n",
      "   macro avg       0.69      0.95      0.76        75\n",
      "weighted avg       0.93      0.87      0.88        75\n",
      "\n"
     ]
    }
   ],
   "source": [
    "print(classification_report(val_y, clf.predict(val_x)))"
   ]
  },
  {
   "cell_type": "markdown",
   "id": "e8d0cdea",
   "metadata": {
    "hidden": true,
    "pycharm": {
     "name": "#%% md\n"
    }
   },
   "source": [
    "### Grid search"
   ]
  },
  {
   "cell_type": "code",
   "execution_count": 145,
   "id": "63a5e887",
   "metadata": {
    "ExecuteTime": {
     "end_time": "2022-06-09T17:43:03.175528Z",
     "start_time": "2022-06-09T17:43:03.160278Z"
    },
    "hidden": true,
    "pycharm": {
     "name": "#%%\n"
    }
   },
   "outputs": [],
   "source": [
    "scoring = ['accuracy']\n",
    "#scoring = ['accuracy', 'precision_weighted', 'recall_weighted', 'f1_weighted']"
   ]
  },
  {
   "cell_type": "code",
   "execution_count": 199,
   "id": "c62d43c9",
   "metadata": {
    "ExecuteTime": {
     "end_time": "2022-06-09T18:47:43.592015Z",
     "start_time": "2022-06-09T18:47:43.583165Z"
    },
    "hidden": true,
    "pycharm": {
     "name": "#%%\n"
    }
   },
   "outputs": [],
   "source": [
    "# 20 minuti con questi parametri e 3 fold\n",
    "param_grid = [\n",
    "    {'kernel': ['poly'],\n",
    "     'gamma': ['scale'],\n",
    "     'C': list(np.arange(1, 10, 0.2)),\n",
    "     'degree': list(np.arange(1, 4, 1)),\n",
    "     'coef0': list(np.arange(2, 3, 0.1)),\n",
    "     'shrinking': [True],\n",
    "     'class_weight': ['balanced']\n",
    "    }\n",
    "]"
   ]
  },
  {
   "cell_type": "code",
   "execution_count": 200,
   "id": "2487cf66",
   "metadata": {
    "ExecuteTime": {
     "end_time": "2022-06-09T18:47:44.092184Z",
     "start_time": "2022-06-09T18:47:44.086923Z"
    },
    "hidden": true,
    "pycharm": {
     "name": "#%%\n"
    }
   },
   "outputs": [],
   "source": [
    "cv = StratifiedKFold(n_splits=3)"
   ]
  },
  {
   "cell_type": "code",
   "execution_count": 201,
   "id": "e94378d7",
   "metadata": {
    "ExecuteTime": {
     "end_time": "2022-06-09T19:23:39.301232Z",
     "start_time": "2022-06-09T18:47:45.452630Z"
    },
    "hidden": true,
    "pycharm": {
     "name": "#%%\n"
    }
   },
   "outputs": [
    {
     "data": {
      "text/plain": [
       "GridSearchCV(cv=StratifiedKFold(n_splits=3, random_state=None, shuffle=False),\n",
       "             estimator=SVC(), n_jobs=-1,\n",
       "             param_grid=[{'C': [1.0, 1.1, 1.2000000000000002,\n",
       "                                1.3000000000000003, 1.4000000000000004,\n",
       "                                1.5000000000000004, 1.6000000000000005,\n",
       "                                1.7000000000000006, 1.8000000000000007,\n",
       "                                1.9000000000000008, 2.000000000000001,\n",
       "                                2.100000000000001, 2.200000000000001,\n",
       "                                2.30000000000000...\n",
       "                                3.9000000000000026, ...],\n",
       "                          'class_weight': ['balanced'],\n",
       "                          'coef0': [1.5, 1.6, 1.7000000000000002,\n",
       "                                    1.8000000000000003, 1.9000000000000004,\n",
       "                                    2.0000000000000004, 2.1000000000000005,\n",
       "                                    2.2000000000000006, 2.3000000000000007,\n",
       "                                    2.400000000000001],\n",
       "                          'degree': [1, 2, 3], 'gamma': ['scale'],\n",
       "                          'kernel': ['poly'], 'shrinking': [True]}],\n",
       "             refit=False, return_train_score=True, scoring=['accuracy'])"
      ]
     },
     "execution_count": 201,
     "metadata": {},
     "output_type": "execute_result"
    }
   ],
   "source": [
    "clf = GridSearchCV(estimator=SVC(), param_grid=param_grid, cv=cv, scoring=scoring, refit=False, n_jobs=-1, return_train_score=True)\n",
    "clf.fit(train_cv, target_cv)"
   ]
  },
  {
   "cell_type": "code",
   "execution_count": 211,
   "id": "f57c416c",
   "metadata": {
    "ExecuteTime": {
     "end_time": "2022-06-09T19:27:34.453665Z",
     "start_time": "2022-06-09T19:27:34.416954Z"
    },
    "hidden": true,
    "pycharm": {
     "name": "#%%\n"
    },
    "scrolled": false
   },
   "outputs": [
    {
     "data": {
      "text/html": [
       "<div>\n",
       "<style scoped>\n",
       "    .dataframe tbody tr th:only-of-type {\n",
       "        vertical-align: middle;\n",
       "    }\n",
       "\n",
       "    .dataframe tbody tr th {\n",
       "        vertical-align: top;\n",
       "    }\n",
       "\n",
       "    .dataframe thead th {\n",
       "        text-align: right;\n",
       "    }\n",
       "</style>\n",
       "<table border=\"1\" class=\"dataframe\">\n",
       "  <thead>\n",
       "    <tr style=\"text-align: right;\">\n",
       "      <th></th>\n",
       "      <th>rank_test_accuracy</th>\n",
       "      <th>mean_test_accuracy</th>\n",
       "      <th>mean_train_accuracy</th>\n",
       "      <th>std_test_accuracy</th>\n",
       "      <th>std_train_accuracy</th>\n",
       "      <th>mean_fit_time</th>\n",
       "      <th>params</th>\n",
       "    </tr>\n",
       "  </thead>\n",
       "  <tbody>\n",
       "    <tr>\n",
       "      <th>1003</th>\n",
       "      <td>1</td>\n",
       "      <td>0.933131</td>\n",
       "      <td>1.0</td>\n",
       "      <td>0.004428</td>\n",
       "      <td>0.0</td>\n",
       "      <td>0.427606</td>\n",
       "      <td>{'C': 4.3000000000000025, 'class_weight': 'bal...</td>\n",
       "    </tr>\n",
       "    <tr>\n",
       "      <th>2269</th>\n",
       "      <td>1</td>\n",
       "      <td>0.933131</td>\n",
       "      <td>1.0</td>\n",
       "      <td>0.004428</td>\n",
       "      <td>0.0</td>\n",
       "      <td>0.442469</td>\n",
       "      <td>{'C': 8.500000000000007, 'class_weight': 'bala...</td>\n",
       "    </tr>\n",
       "    <tr>\n",
       "      <th>1243</th>\n",
       "      <td>1</td>\n",
       "      <td>0.933131</td>\n",
       "      <td>1.0</td>\n",
       "      <td>0.004428</td>\n",
       "      <td>0.0</td>\n",
       "      <td>0.416685</td>\n",
       "      <td>{'C': 5.100000000000003, 'class_weight': 'bala...</td>\n",
       "    </tr>\n",
       "    <tr>\n",
       "      <th>493</th>\n",
       "      <td>1</td>\n",
       "      <td>0.933131</td>\n",
       "      <td>1.0</td>\n",
       "      <td>0.004428</td>\n",
       "      <td>0.0</td>\n",
       "      <td>0.420594</td>\n",
       "      <td>{'C': 2.6000000000000014, 'class_weight': 'bal...</td>\n",
       "    </tr>\n",
       "    <tr>\n",
       "      <th>2272</th>\n",
       "      <td>1</td>\n",
       "      <td>0.933131</td>\n",
       "      <td>1.0</td>\n",
       "      <td>0.004428</td>\n",
       "      <td>0.0</td>\n",
       "      <td>0.452644</td>\n",
       "      <td>{'C': 8.500000000000007, 'class_weight': 'bala...</td>\n",
       "    </tr>\n",
       "    <tr>\n",
       "      <th>...</th>\n",
       "      <td>...</td>\n",
       "      <td>...</td>\n",
       "      <td>...</td>\n",
       "      <td>...</td>\n",
       "      <td>...</td>\n",
       "      <td>...</td>\n",
       "      <td>...</td>\n",
       "    </tr>\n",
       "    <tr>\n",
       "      <th>1459</th>\n",
       "      <td>1</td>\n",
       "      <td>0.933131</td>\n",
       "      <td>1.0</td>\n",
       "      <td>0.004428</td>\n",
       "      <td>0.0</td>\n",
       "      <td>0.461087</td>\n",
       "      <td>{'C': 5.800000000000004, 'class_weight': 'bala...</td>\n",
       "    </tr>\n",
       "    <tr>\n",
       "      <th>19</th>\n",
       "      <td>1</td>\n",
       "      <td>0.933131</td>\n",
       "      <td>1.0</td>\n",
       "      <td>0.004428</td>\n",
       "      <td>0.0</td>\n",
       "      <td>0.510576</td>\n",
       "      <td>{'C': 1.0, 'class_weight': 'balanced', 'coef0'...</td>\n",
       "    </tr>\n",
       "    <tr>\n",
       "      <th>1486</th>\n",
       "      <td>1</td>\n",
       "      <td>0.933131</td>\n",
       "      <td>1.0</td>\n",
       "      <td>0.004428</td>\n",
       "      <td>0.0</td>\n",
       "      <td>0.421941</td>\n",
       "      <td>{'C': 5.900000000000004, 'class_weight': 'bala...</td>\n",
       "    </tr>\n",
       "    <tr>\n",
       "      <th>1948</th>\n",
       "      <td>1</td>\n",
       "      <td>0.933131</td>\n",
       "      <td>1.0</td>\n",
       "      <td>0.004428</td>\n",
       "      <td>0.0</td>\n",
       "      <td>0.516391</td>\n",
       "      <td>{'C': 7.400000000000006, 'class_weight': 'bala...</td>\n",
       "    </tr>\n",
       "    <tr>\n",
       "      <th>1489</th>\n",
       "      <td>1</td>\n",
       "      <td>0.933131</td>\n",
       "      <td>1.0</td>\n",
       "      <td>0.004428</td>\n",
       "      <td>0.0</td>\n",
       "      <td>0.432520</td>\n",
       "      <td>{'C': 5.900000000000004, 'class_weight': 'bala...</td>\n",
       "    </tr>\n",
       "  </tbody>\n",
       "</table>\n",
       "<p>500 rows × 7 columns</p>\n",
       "</div>"
      ],
      "text/plain": [
       "      rank_test_accuracy  mean_test_accuracy  mean_train_accuracy  \\\n",
       "1003                   1            0.933131                  1.0   \n",
       "2269                   1            0.933131                  1.0   \n",
       "1243                   1            0.933131                  1.0   \n",
       "493                    1            0.933131                  1.0   \n",
       "2272                   1            0.933131                  1.0   \n",
       "...                  ...                 ...                  ...   \n",
       "1459                   1            0.933131                  1.0   \n",
       "19                     1            0.933131                  1.0   \n",
       "1486                   1            0.933131                  1.0   \n",
       "1948                   1            0.933131                  1.0   \n",
       "1489                   1            0.933131                  1.0   \n",
       "\n",
       "      std_test_accuracy  std_train_accuracy  mean_fit_time  \\\n",
       "1003           0.004428                 0.0       0.427606   \n",
       "2269           0.004428                 0.0       0.442469   \n",
       "1243           0.004428                 0.0       0.416685   \n",
       "493            0.004428                 0.0       0.420594   \n",
       "2272           0.004428                 0.0       0.452644   \n",
       "...                 ...                 ...            ...   \n",
       "1459           0.004428                 0.0       0.461087   \n",
       "19             0.004428                 0.0       0.510576   \n",
       "1486           0.004428                 0.0       0.421941   \n",
       "1948           0.004428                 0.0       0.516391   \n",
       "1489           0.004428                 0.0       0.432520   \n",
       "\n",
       "                                                 params  \n",
       "1003  {'C': 4.3000000000000025, 'class_weight': 'bal...  \n",
       "2269  {'C': 8.500000000000007, 'class_weight': 'bala...  \n",
       "1243  {'C': 5.100000000000003, 'class_weight': 'bala...  \n",
       "493   {'C': 2.6000000000000014, 'class_weight': 'bal...  \n",
       "2272  {'C': 8.500000000000007, 'class_weight': 'bala...  \n",
       "...                                                 ...  \n",
       "1459  {'C': 5.800000000000004, 'class_weight': 'bala...  \n",
       "19    {'C': 1.0, 'class_weight': 'balanced', 'coef0'...  \n",
       "1486  {'C': 5.900000000000004, 'class_weight': 'bala...  \n",
       "1948  {'C': 7.400000000000006, 'class_weight': 'bala...  \n",
       "1489  {'C': 5.900000000000004, 'class_weight': 'bala...  \n",
       "\n",
       "[500 rows x 7 columns]"
      ]
     },
     "execution_count": 211,
     "metadata": {},
     "output_type": "execute_result"
    }
   ],
   "source": [
    "grid_search_report(clf.cv_results_)\n",
    "#p = grid_search_report(clf.cv_results_)[0:500]['params']\n",
    "#tmp = []\n",
    "#for i in p:\n",
    "#    tmp.append(i['coef0'])\n",
    "#plt.hist(tmp)"
   ]
  },
  {
   "cell_type": "code",
   "execution_count": 209,
   "id": "bf7e00c4",
   "metadata": {
    "ExecuteTime": {
     "end_time": "2022-06-09T19:27:01.912742Z",
     "start_time": "2022-06-09T19:27:01.886108Z"
    },
    "hidden": true,
    "pycharm": {
     "name": "#%%\n"
    }
   },
   "outputs": [
    {
     "name": "stdout",
     "output_type": "stream",
     "text": [
      "Test: 0.9331313131313133\n",
      "Train: 1.0\n"
     ]
    }
   ],
   "source": [
    "print('Test: '+ str(grid_search_report(clf.cv_results_).iloc[0]['mean_test_accuracy']))\n",
    "print('Train: '+ str(grid_search_report(clf.cv_results_).iloc[0]['mean_train_accuracy']))"
   ]
  },
  {
   "cell_type": "code",
   "execution_count": 210,
   "id": "f9109310",
   "metadata": {
    "ExecuteTime": {
     "end_time": "2022-06-09T19:27:04.646449Z",
     "start_time": "2022-06-09T19:27:04.628186Z"
    },
    "hidden": true,
    "pycharm": {
     "name": "#%%\n"
    }
   },
   "outputs": [
    {
     "data": {
      "text/plain": [
       "{'C': 4.3000000000000025,\n",
       " 'class_weight': 'balanced',\n",
       " 'coef0': 1.9000000000000004,\n",
       " 'degree': 2,\n",
       " 'gamma': 'scale',\n",
       " 'kernel': 'poly',\n",
       " 'shrinking': True}"
      ]
     },
     "execution_count": 210,
     "metadata": {},
     "output_type": "execute_result"
    }
   ],
   "source": [
    "best_params = grid_search_report(clf.cv_results_).iloc[0]['params']\n",
    "best_params"
   ]
  },
  {
   "cell_type": "code",
   "execution_count": 216,
   "id": "4b089f75",
   "metadata": {
    "ExecuteTime": {
     "end_time": "2022-06-09T19:32:06.636285Z",
     "start_time": "2022-06-09T19:32:06.630630Z"
    },
    "hidden": true,
    "pycharm": {
     "name": "#%%\n"
    }
   },
   "outputs": [],
   "source": [
    "#best_params = {'C': 4.3, 'class_weight': 'balanced', 'coef0': 1.9, 'degree': 2, 'gamma': 'scale', 'kernel': 'poly', 'shrinking': True}"
   ]
  },
  {
   "cell_type": "code",
   "execution_count": 217,
   "id": "294a97a5",
   "metadata": {
    "ExecuteTime": {
     "end_time": "2022-06-09T19:32:07.593260Z",
     "start_time": "2022-06-09T19:32:07.587650Z"
    },
    "hidden": true,
    "pycharm": {
     "name": "#%%\n"
    }
   },
   "outputs": [],
   "source": [
    "clf = SVC(**best_params)\n",
    "clf.fit(train_x, train_y)"
   ]
  },
  {
   "cell_type": "code",
   "execution_count": 219,
   "id": "29aca63e",
   "metadata": {
    "ExecuteTime": {
     "end_time": "2022-06-09T19:32:08.705447Z",
     "start_time": "2022-06-09T19:32:08.560517Z"
    },
    "hidden": true,
    "pycharm": {
     "name": "#%%\n"
    }
   },
   "outputs": [
    {
     "name": "stdout",
     "output_type": "stream",
     "text": [
      "              precision    recall  f1-score   support\n",
      "\n",
      "         A1A       1.00      1.00      1.00        24\n",
      "     DIABETE       0.97      1.00      0.99        33\n",
      "          GS       1.00      1.00      1.00         6\n",
      "         MCM       1.00      1.00      1.00         5\n",
      "        NALD       1.00      0.86      0.92         7\n",
      "\n",
      "    accuracy                           0.99        75\n",
      "   macro avg       0.99      0.97      0.98        75\n",
      "weighted avg       0.99      0.99      0.99        75\n",
      "\n"
     ]
    }
   ],
   "source": [
    "print(classification_report(val_y, clf.predict(val_x)))"
   ]
  },
  {
   "cell_type": "markdown",
   "id": "16d9ec33",
   "metadata": {
    "hidden": true,
    "pycharm": {
     "name": "#%% md\n"
    }
   },
   "source": [
    "### Feature selection"
   ]
  },
  {
   "cell_type": "markdown",
   "id": "11edecd2",
   "metadata": {
    "hidden": true,
    "pycharm": {
     "name": "#%% md\n"
    }
   },
   "source": [
    "This feature selection works in steps, at each step it tries to reduce the number of features recursively:\n",
    "   1. Select most important features using a random forest classifier (model.get_support())\n",
    "   2. Select most important features using recursive feature elimination (rfe.get_support())\n",
    "    \n",
    "Not necessarily the results are better after the step 2"
   ]
  },
  {
   "cell_type": "markdown",
   "id": "7d9631e3",
   "metadata": {
    "hidden": true,
    "pycharm": {
     "name": "#%% md\n"
    }
   },
   "source": [
    "#### Feature importance RandomForest"
   ]
  },
  {
   "cell_type": "code",
   "execution_count": 143,
   "id": "dbafebf4",
   "metadata": {
    "ExecuteTime": {
     "end_time": "2022-06-09T17:42:58.672919Z",
     "start_time": "2022-06-09T17:42:52.707823Z"
    },
    "hidden": true,
    "pycharm": {
     "name": "#%%\n"
    }
   },
   "outputs": [
    {
     "name": "stdout",
     "output_type": "stream",
     "text": [
      "Optimal number of features : 1025\n"
     ]
    },
    {
     "data": {
      "image/png": "[encoded data removed]",
      "text/plain": [
       "<Figure size 576x360 with 1 Axes>"
      ]
     },
     "metadata": {
      "needs_background": "light"
     },
     "output_type": "display_data"
    }
   ],
   "source": [
    "# Use RandomForestClassifier to select most important features\n",
    "\n",
    "rf_clf = RandomForestClassifier()\n",
    "rf_clf = rf_clf.fit(train_cv, target_cv)\n",
    "model = SelectFromModel(rf_clf, prefit=True)\n",
    "\n",
    "importances = rf_clf.feature_importances_\n",
    "indices = np.argsort(importances)[::-1]\n",
    "indices = indices[:2000]\n",
    "print('Optimal number of features :', model.get_support().sum())\n",
    "\n",
    "plt.figure(1, figsize=(8, 5))\n",
    "plt.title(\"Feature importances\")\n",
    "plt.xlabel(\"# of Features \")\n",
    "plt.ylabel(\"Importance Score\")\n",
    "plt.bar(range(2000), importances[indices])\n",
    "plt.show()"
   ]
  },
  {
   "cell_type": "code",
   "execution_count": 144,
   "id": "21a03dce",
   "metadata": {
    "ExecuteTime": {
     "end_time": "2022-06-09T17:42:58.798811Z",
     "start_time": "2022-06-09T17:42:58.681537Z"
    },
    "hidden": true,
    "pycharm": {
     "name": "#%%\n"
    },
    "scrolled": true
   },
   "outputs": [],
   "source": [
    "# To select most important features\n",
    "fs_train_cv_1 = train_cv.loc[:, model.get_support()]"
   ]
  },
  {
   "cell_type": "code",
   "execution_count": 153,
   "id": "6b03c6b0",
   "metadata": {
    "ExecuteTime": {
     "end_time": "2022-06-09T17:47:49.459444Z",
     "start_time": "2022-06-09T17:47:48.976589Z"
    },
    "hidden": true,
    "pycharm": {
     "name": "#%%\n"
    }
   },
   "outputs": [],
   "source": [
    "cross_val_1 = cross_validate(SVC(**best_params), fs_train_cv_1, target_cv, cv=cv, scoring=scoring, return_train_score=True)"
   ]
  },
  {
   "cell_type": "code",
   "execution_count": 154,
   "id": "ae3c58ed",
   "metadata": {
    "ExecuteTime": {
     "end_time": "2022-06-09T17:47:50.232293Z",
     "start_time": "2022-06-09T17:47:50.223541Z"
    },
    "hidden": true,
    "pycharm": {
     "name": "#%%\n"
    }
   },
   "outputs": [
    {
     "name": "stdout",
     "output_type": "stream",
     "text": [
      "Test score: 0.9398305084745763\n",
      "Train score: 1.0\n"
     ]
    }
   ],
   "source": [
    "print('Test score: '+str(cross_val_1['test_accuracy'].mean()))\n",
    "print('Train score: '+str(cross_val_1['train_accuracy'].mean()))"
   ]
  },
  {
   "cell_type": "markdown",
   "id": "1eac7f80",
   "metadata": {
    "hidden": true,
    "pycharm": {
     "name": "#%% md\n"
    }
   },
   "source": [
    "#### Recursive Feature Elimination"
   ]
  },
  {
   "cell_type": "code",
   "execution_count": 156,
   "id": "a7d3808e",
   "metadata": {
    "ExecuteTime": {
     "end_time": "2022-06-09T17:52:33.212604Z",
     "start_time": "2022-06-09T17:48:19.622873Z"
    },
    "hidden": true,
    "pycharm": {
     "name": "#%%\n"
    }
   },
   "outputs": [
    {
     "name": "stdout",
     "output_type": "stream",
     "text": [
      "Optimal number of features : 125\n"
     ]
    },
    {
     "data": {
      "image/png": "[encoded data removed]",
      "text/plain": [
       "<Figure size 432x288 with 1 Axes>"
      ]
     },
     "metadata": {
      "needs_background": "light"
     },
     "output_type": "display_data"
    }
   ],
   "source": [
    "rfecv = RFECV(estimator=RandomForestClassifier(), step=5, cv=StratifiedKFold(3), scoring='accuracy')\n",
    "rfecv.fit(fs_train_cv_1, target_cv)\n",
    "print('Optimal number of features :', rfecv.n_features_)\n",
    "\n",
    "\n",
    "# Plot showing the Cross Validation score\n",
    "plt.figure()\n",
    "plt.xlabel(\"Number of features selected\")\n",
    "plt.ylabel(\"Cross validation score\")\n",
    "plt.plot(range(1, len(rfecv.cv_results_['mean_test_score']) + 1), rfecv.cv_results_['mean_test_score'])\n",
    "plt.show()"
   ]
  },
  {
   "cell_type": "code",
   "execution_count": 157,
   "id": "8557d144",
   "metadata": {
    "ExecuteTime": {
     "end_time": "2022-06-09T17:53:37.807188Z",
     "start_time": "2022-06-09T17:52:33.218327Z"
    },
    "hidden": true,
    "pycharm": {
     "name": "#%%\n"
    }
   },
   "outputs": [],
   "source": [
    "rfe = RFE(estimator=RandomForestClassifier(), n_features_to_select=rfecv.n_features_, step=5)\n",
    "rfe = rfe.fit(fs_train_cv_1, target_cv)"
   ]
  },
  {
   "cell_type": "code",
   "execution_count": 158,
   "id": "9ed60731",
   "metadata": {
    "ExecuteTime": {
     "end_time": "2022-06-09T17:53:37.824391Z",
     "start_time": "2022-06-09T17:53:37.809612Z"
    },
    "hidden": true,
    "pycharm": {
     "name": "#%%\n"
    }
   },
   "outputs": [],
   "source": [
    "fs_train_cv_2 = fs_train_cv_1.loc[:, rfe.get_support()]"
   ]
  },
  {
   "cell_type": "code",
   "execution_count": 159,
   "id": "6613405e",
   "metadata": {
    "ExecuteTime": {
     "end_time": "2022-06-09T17:53:37.963897Z",
     "start_time": "2022-06-09T17:53:37.842488Z"
    },
    "hidden": true,
    "pycharm": {
     "name": "#%%\n"
    }
   },
   "outputs": [],
   "source": [
    "cross_val_2 = cross_validate(SVC(**best_params), fs_train_cv_2, target_cv, cv=cv, scoring=scoring, return_train_score=True)"
   ]
  },
  {
   "cell_type": "code",
   "execution_count": 160,
   "id": "aa1df55d",
   "metadata": {
    "ExecuteTime": {
     "end_time": "2022-06-09T17:53:37.975978Z",
     "start_time": "2022-06-09T17:53:37.969395Z"
    },
    "hidden": true,
    "pycharm": {
     "name": "#%%\n"
    }
   },
   "outputs": [
    {
     "name": "stdout",
     "output_type": "stream",
     "text": [
      "Test score: 0.9130508474576271\n",
      "Train score: 1.0\n"
     ]
    }
   ],
   "source": [
    "print('Test score: '+str(cross_val_2['test_accuracy'].mean()))\n",
    "print('Train score: '+str(cross_val_2['train_accuracy'].mean()))"
   ]
  },
  {
   "cell_type": "markdown",
   "id": "d6b18259",
   "metadata": {
    "hidden": true,
    "pycharm": {
     "name": "#%% md\n"
    }
   },
   "source": [
    "#### Test best feature selection"
   ]
  },
  {
   "cell_type": "code",
   "execution_count": 224,
   "id": "6491631b",
   "metadata": {
    "ExecuteTime": {
     "end_time": "2022-06-09T19:36:06.415114Z",
     "start_time": "2022-06-09T19:36:06.305278Z"
    },
    "hidden": true,
    "pycharm": {
     "name": "#%%\n"
    }
   },
   "outputs": [
    {
     "data": {
      "text/plain": [
       "SVC(C=4.3, class_weight='balanced', coef0=1.9, degree=2, kernel='poly')"
      ]
     },
     "execution_count": 224,
     "metadata": {},
     "output_type": "execute_result"
    }
   ],
   "source": [
    "clf = SVC(**best_params)\n",
    "clf.fit(train_x.loc[:, model.get_support()], train_y)"
   ]
  },
  {
   "cell_type": "code",
   "execution_count": 226,
   "id": "0dae65ac",
   "metadata": {
    "ExecuteTime": {
     "end_time": "2022-06-09T19:36:13.216726Z",
     "start_time": "2022-06-09T19:36:13.128936Z"
    },
    "hidden": true,
    "pycharm": {
     "name": "#%%\n"
    }
   },
   "outputs": [
    {
     "name": "stdout",
     "output_type": "stream",
     "text": [
      "              precision    recall  f1-score   support\n",
      "\n",
      "         A1A       1.00      1.00      1.00        24\n",
      "     DIABETE       0.97      1.00      0.99        33\n",
      "          GS       1.00      1.00      1.00         6\n",
      "         MCM       1.00      1.00      1.00         5\n",
      "        NALD       1.00      0.86      0.92         7\n",
      "\n",
      "    accuracy                           0.99        75\n",
      "   macro avg       0.99      0.97      0.98        75\n",
      "weighted avg       0.99      0.99      0.99        75\n",
      "\n"
     ]
    }
   ],
   "source": [
    "print(classification_report(val_y, clf.predict(val_x.loc[:, model.get_support()])))"
   ]
  },
  {
   "cell_type": "markdown",
   "id": "4b75494d",
   "metadata": {
    "heading_collapsed": true,
    "pycharm": {
     "name": "#%% md\n"
    }
   },
   "source": [
    "## RAC"
   ]
  },
  {
   "cell_type": "markdown",
   "id": "41fe9c8d",
   "metadata": {
    "hidden": true,
    "pycharm": {
     "name": "#%% md\n"
    }
   },
   "source": [
    "### Example test"
   ]
  },
  {
   "cell_type": "code",
   "execution_count": 10,
   "id": "1ccb1ba4",
   "metadata": {
    "ExecuteTime": {
     "end_time": "2022-06-11T13:59:47.603493Z",
     "start_time": "2022-06-11T13:59:47.597404Z"
    },
    "hidden": true,
    "pycharm": {
     "name": "#%%\n"
    }
   },
   "outputs": [],
   "source": [
    "clf = RacClassifier()"
   ]
  },
  {
   "cell_type": "code",
   "execution_count": 11,
   "id": "0b48325f",
   "metadata": {
    "ExecuteTime": {
     "end_time": "2022-06-11T13:59:53.893293Z",
     "start_time": "2022-06-11T13:59:53.710486Z"
    },
    "hidden": true,
    "pycharm": {
     "name": "#%%\n"
    }
   },
   "outputs": [
    {
     "data": {
      "text/plain": [
       "RacClassifier()"
      ]
     },
     "execution_count": 11,
     "metadata": {},
     "output_type": "execute_result"
    }
   ],
   "source": [
    "clf.fit(train_x, train_y)"
   ]
  },
  {
   "cell_type": "code",
   "execution_count": 12,
   "id": "89236488",
   "metadata": {
    "ExecuteTime": {
     "end_time": "2022-06-11T13:59:57.008943Z",
     "start_time": "2022-06-11T13:59:56.591854Z"
    },
    "hidden": true,
    "pycharm": {
     "name": "#%%\n"
    }
   },
   "outputs": [
    {
     "data": {
      "text/plain": [
       "0.8794642857142857"
      ]
     },
     "execution_count": 12,
     "metadata": {},
     "output_type": "execute_result"
    }
   ],
   "source": [
    "clf.fit(train_x, train_y).score(train_x, train_y)"
   ]
  },
  {
   "cell_type": "code",
   "execution_count": 13,
   "id": "f803799f",
   "metadata": {
    "ExecuteTime": {
     "end_time": "2022-06-11T14:00:00.794095Z",
     "start_time": "2022-06-11T14:00:00.678660Z"
    },
    "hidden": true,
    "pycharm": {
     "name": "#%%\n"
    },
    "scrolled": false
   },
   "outputs": [
    {
     "name": "stdout",
     "output_type": "stream",
     "text": [
      "              precision    recall  f1-score   support\n",
      "\n",
      "         A1A       0.68      0.96      0.79        24\n",
      "     DIABETE       1.00      0.45      0.62        33\n",
      "          GS       0.67      1.00      0.80         6\n",
      "         MCM       0.45      1.00      0.62         5\n",
      "        NALD       1.00      0.86      0.92         7\n",
      "\n",
      "    accuracy                           0.73        75\n",
      "   macro avg       0.76      0.85      0.75        75\n",
      "weighted avg       0.83      0.73      0.72        75\n",
      "\n"
     ]
    }
   ],
   "source": [
    "print(classification_report(val_y, clf.predict(val_x)))"
   ]
  },
  {
   "cell_type": "markdown",
   "id": "95ef94be",
   "metadata": {
    "hidden": true,
    "pycharm": {
     "name": "#%% md\n"
    }
   },
   "source": [
    "### Grid search"
   ]
  },
  {
   "cell_type": "code",
   "execution_count": 14,
   "id": "50564a4f",
   "metadata": {
    "ExecuteTime": {
     "end_time": "2022-06-11T14:03:57.293941Z",
     "start_time": "2022-06-11T14:03:57.283741Z"
    },
    "hidden": true,
    "pycharm": {
     "name": "#%%\n"
    }
   },
   "outputs": [],
   "source": [
    "scoring = ['accuracy']\n",
    "#scoring = ['accuracy', 'precision_weighted', 'recall_weighted', 'f1_weighted']"
   ]
  },
  {
   "cell_type": "code",
   "execution_count": 15,
   "id": "d7ed51af",
   "metadata": {
    "ExecuteTime": {
     "end_time": "2022-06-11T14:03:58.306578Z",
     "start_time": "2022-06-11T14:03:58.301462Z"
    },
    "hidden": true,
    "pycharm": {
     "name": "#%%\n"
    }
   },
   "outputs": [],
   "source": [
    "param_grid = [\n",
    "    {'weighted': [True, False]\n",
    "    }\n",
    "]"
   ]
  },
  {
   "cell_type": "code",
   "execution_count": 16,
   "id": "b67fb2a5",
   "metadata": {
    "ExecuteTime": {
     "end_time": "2022-06-11T14:04:01.795108Z",
     "start_time": "2022-06-11T14:04:01.789695Z"
    },
    "hidden": true,
    "pycharm": {
     "name": "#%%\n"
    }
   },
   "outputs": [],
   "source": [
    "cv = StratifiedKFold(n_splits=3)"
   ]
  },
  {
   "cell_type": "code",
   "execution_count": 17,
   "id": "8199fe7e",
   "metadata": {
    "ExecuteTime": {
     "end_time": "2022-06-11T14:04:20.291995Z",
     "start_time": "2022-06-11T14:04:14.848592Z"
    },
    "hidden": true,
    "pycharm": {
     "name": "#%%\n"
    }
   },
   "outputs": [
    {
     "data": {
      "text/plain": [
       "GridSearchCV(cv=StratifiedKFold(n_splits=3, random_state=None, shuffle=False),\n",
       "             estimator=RacClassifier(), n_jobs=-1,\n",
       "             param_grid=[{'weighted': [True, False]}], refit=False,\n",
       "             return_train_score=True, scoring=['accuracy'])"
      ]
     },
     "execution_count": 17,
     "metadata": {},
     "output_type": "execute_result"
    }
   ],
   "source": [
    "clf = GridSearchCV(estimator=RacClassifier(), param_grid=param_grid, cv=cv, scoring=scoring, refit=False, n_jobs=-1, return_train_score=True)\n",
    "clf.fit(train_cv, target_cv)"
   ]
  },
  {
   "cell_type": "code",
   "execution_count": 18,
   "id": "4f22a2d2",
   "metadata": {
    "ExecuteTime": {
     "end_time": "2022-06-11T14:04:23.164980Z",
     "start_time": "2022-06-11T14:04:23.136759Z"
    },
    "hidden": true,
    "pycharm": {
     "name": "#%%\n"
    },
    "scrolled": false
   },
   "outputs": [
    {
     "data": {
      "text/html": [
       "<div>\n",
       "<style scoped>\n",
       "    .dataframe tbody tr th:only-of-type {\n",
       "        vertical-align: middle;\n",
       "    }\n",
       "\n",
       "    .dataframe tbody tr th {\n",
       "        vertical-align: top;\n",
       "    }\n",
       "\n",
       "    .dataframe thead th {\n",
       "        text-align: right;\n",
       "    }\n",
       "</style>\n",
       "<table border=\"1\" class=\"dataframe\">\n",
       "  <thead>\n",
       "    <tr style=\"text-align: right;\">\n",
       "      <th></th>\n",
       "      <th>rank_test_accuracy</th>\n",
       "      <th>mean_test_accuracy</th>\n",
       "      <th>mean_train_accuracy</th>\n",
       "      <th>std_test_accuracy</th>\n",
       "      <th>std_train_accuracy</th>\n",
       "      <th>mean_fit_time</th>\n",
       "      <th>params</th>\n",
       "    </tr>\n",
       "  </thead>\n",
       "  <tbody>\n",
       "    <tr>\n",
       "      <th>1</th>\n",
       "      <td>1</td>\n",
       "      <td>0.772559</td>\n",
       "      <td>0.889615</td>\n",
       "      <td>0.012725</td>\n",
       "      <td>0.008412</td>\n",
       "      <td>0.248875</td>\n",
       "      <td>{'weighted': False}</td>\n",
       "    </tr>\n",
       "    <tr>\n",
       "      <th>0</th>\n",
       "      <td>2</td>\n",
       "      <td>0.769192</td>\n",
       "      <td>0.899665</td>\n",
       "      <td>0.022003</td>\n",
       "      <td>0.004110</td>\n",
       "      <td>0.412053</td>\n",
       "      <td>{'weighted': True}</td>\n",
       "    </tr>\n",
       "  </tbody>\n",
       "</table>\n",
       "</div>"
      ],
      "text/plain": [
       "   rank_test_accuracy  mean_test_accuracy  mean_train_accuracy  \\\n",
       "1                   1            0.772559             0.889615   \n",
       "0                   2            0.769192             0.899665   \n",
       "\n",
       "   std_test_accuracy  std_train_accuracy  mean_fit_time               params  \n",
       "1           0.012725            0.008412       0.248875  {'weighted': False}  \n",
       "0           0.022003            0.004110       0.412053   {'weighted': True}  "
      ]
     },
     "execution_count": 18,
     "metadata": {},
     "output_type": "execute_result"
    }
   ],
   "source": [
    "grid_search_report(clf.cv_results_)\n",
    "#p = grid_search_report(clf.cv_results_)[0:500]['params']\n",
    "#tmp = []\n",
    "#for i in p:\n",
    "#    tmp.append(i['coef0'])\n",
    "#plt.hist(tmp)"
   ]
  },
  {
   "cell_type": "code",
   "execution_count": 19,
   "id": "ce5b1282",
   "metadata": {
    "ExecuteTime": {
     "end_time": "2022-06-11T14:04:38.524758Z",
     "start_time": "2022-06-11T14:04:38.506599Z"
    },
    "hidden": true,
    "pycharm": {
     "name": "#%%\n"
    }
   },
   "outputs": [
    {
     "name": "stdout",
     "output_type": "stream",
     "text": [
      "Test: 0.7725589225589226\n",
      "Train: 0.8896147403685092\n"
     ]
    }
   ],
   "source": [
    "print('Test: '+ str(grid_search_report(clf.cv_results_).iloc[0]['mean_test_accuracy']))\n",
    "print('Train: '+ str(grid_search_report(clf.cv_results_).iloc[0]['mean_train_accuracy']))"
   ]
  },
  {
   "cell_type": "code",
   "execution_count": 20,
   "id": "b75dd49c",
   "metadata": {
    "ExecuteTime": {
     "end_time": "2022-06-11T14:04:44.385796Z",
     "start_time": "2022-06-11T14:04:44.373689Z"
    },
    "hidden": true,
    "pycharm": {
     "name": "#%%\n"
    }
   },
   "outputs": [
    {
     "data": {
      "text/plain": [
       "{'weighted': False}"
      ]
     },
     "execution_count": 20,
     "metadata": {},
     "output_type": "execute_result"
    }
   ],
   "source": [
    "best_params = grid_search_report(clf.cv_results_).iloc[0]['params']\n",
    "best_params"
   ]
  },
  {
   "cell_type": "code",
   "execution_count": 21,
   "id": "b7eb2a79",
   "metadata": {
    "ExecuteTime": {
     "end_time": "2022-06-11T14:04:57.946785Z",
     "start_time": "2022-06-11T14:04:57.764283Z"
    },
    "hidden": true,
    "pycharm": {
     "name": "#%%\n"
    }
   },
   "outputs": [
    {
     "data": {
      "text/plain": [
       "RacClassifier()"
      ]
     },
     "execution_count": 21,
     "metadata": {},
     "output_type": "execute_result"
    }
   ],
   "source": [
    "clf = RacClassifier(**best_params)\n",
    "clf.fit(train_x, train_y)"
   ]
  },
  {
   "cell_type": "code",
   "execution_count": 22,
   "id": "e571197d",
   "metadata": {
    "ExecuteTime": {
     "end_time": "2022-06-11T14:04:59.013353Z",
     "start_time": "2022-06-11T14:04:58.845565Z"
    },
    "hidden": true,
    "pycharm": {
     "name": "#%%\n"
    }
   },
   "outputs": [
    {
     "name": "stdout",
     "output_type": "stream",
     "text": [
      "              precision    recall  f1-score   support\n",
      "\n",
      "         A1A       0.68      0.96      0.79        24\n",
      "     DIABETE       1.00      0.45      0.62        33\n",
      "          GS       0.67      1.00      0.80         6\n",
      "         MCM       0.45      1.00      0.62         5\n",
      "        NALD       1.00      0.86      0.92         7\n",
      "\n",
      "    accuracy                           0.73        75\n",
      "   macro avg       0.76      0.85      0.75        75\n",
      "weighted avg       0.83      0.73      0.72        75\n",
      "\n"
     ]
    }
   ],
   "source": [
    "print(classification_report(val_y, clf.predict(val_x)))"
   ]
  },
  {
   "cell_type": "markdown",
   "id": "f4d8ff05",
   "metadata": {
    "hidden": true,
    "pycharm": {
     "name": "#%% md\n"
    }
   },
   "source": [
    "### Feature selection"
   ]
  },
  {
   "cell_type": "markdown",
   "id": "d23664ec",
   "metadata": {
    "hidden": true,
    "pycharm": {
     "name": "#%% md\n"
    }
   },
   "source": [
    "#### Feature importance RandomForest"
   ]
  },
  {
   "cell_type": "code",
   "execution_count": 23,
   "id": "4013f632",
   "metadata": {
    "ExecuteTime": {
     "end_time": "2022-06-11T14:05:51.354095Z",
     "start_time": "2022-06-11T14:05:45.223076Z"
    },
    "hidden": true,
    "pycharm": {
     "name": "#%%\n"
    }
   },
   "outputs": [
    {
     "name": "stdout",
     "output_type": "stream",
     "text": [
      "Optimal number of features : 985\n"
     ]
    },
    {
     "data": {
      "image/png": "[encoded data removed]",
      "text/plain": [
       "<Figure size 576x360 with 1 Axes>"
      ]
     },
     "metadata": {
      "needs_background": "light"
     },
     "output_type": "display_data"
    }
   ],
   "source": [
    "# Use RandomForestClassifier to select most important features\n",
    "\n",
    "rf_clf = RandomForestClassifier()\n",
    "rf_clf = rf_clf.fit(train_cv, target_cv)\n",
    "model = SelectFromModel(rf_clf, prefit=True)\n",
    "\n",
    "importances = rf_clf.feature_importances_\n",
    "indices = np.argsort(importances)[::-1]\n",
    "indices = indices[:2000]\n",
    "print('Optimal number of features :', model.get_support().sum())\n",
    "\n",
    "plt.figure(1, figsize=(8, 5))\n",
    "plt.title(\"Feature importances\")\n",
    "plt.xlabel(\"# of Features \")\n",
    "plt.ylabel(\"Importance Score\")\n",
    "plt.bar(range(2000), importances[indices])\n",
    "plt.show()"
   ]
  },
  {
   "cell_type": "code",
   "execution_count": 24,
   "id": "7f87ba7a",
   "metadata": {
    "ExecuteTime": {
     "end_time": "2022-06-11T14:05:55.326914Z",
     "start_time": "2022-06-11T14:05:55.264632Z"
    },
    "hidden": true,
    "pycharm": {
     "name": "#%%\n"
    },
    "scrolled": true
   },
   "outputs": [],
   "source": [
    "# To select most important features\n",
    "fs_train_cv_1 = train_cv.loc[:, model.get_support()]"
   ]
  },
  {
   "cell_type": "code",
   "execution_count": 25,
   "id": "bec108ba",
   "metadata": {
    "ExecuteTime": {
     "end_time": "2022-06-11T14:07:30.154019Z",
     "start_time": "2022-06-11T14:07:29.709016Z"
    },
    "hidden": true,
    "pycharm": {
     "name": "#%%\n"
    }
   },
   "outputs": [],
   "source": [
    "cross_val_1 = cross_validate(RacClassifier(**best_params), fs_train_cv_1, target_cv, cv=cv, scoring=scoring, return_train_score=True)"
   ]
  },
  {
   "cell_type": "code",
   "execution_count": 26,
   "id": "9c1f6379",
   "metadata": {
    "ExecuteTime": {
     "end_time": "2022-06-11T14:07:32.168050Z",
     "start_time": "2022-06-11T14:07:32.161000Z"
    },
    "hidden": true,
    "pycharm": {
     "name": "#%%\n"
    }
   },
   "outputs": [
    {
     "name": "stdout",
     "output_type": "stream",
     "text": [
      "Test score: 0.8025925925925925\n",
      "Train score: 0.903031825795645\n"
     ]
    }
   ],
   "source": [
    "print('Test score: '+str(cross_val_1['test_accuracy'].mean()))\n",
    "print('Train score: '+str(cross_val_1['train_accuracy'].mean()))"
   ]
  },
  {
   "cell_type": "markdown",
   "id": "160990d1",
   "metadata": {
    "hidden": true,
    "pycharm": {
     "name": "#%% md\n"
    }
   },
   "source": [
    "#### Recursive Feature Elimination"
   ]
  },
  {
   "cell_type": "code",
   "execution_count": 27,
   "id": "c25fdbfc",
   "metadata": {
    "ExecuteTime": {
     "end_time": "2022-06-11T14:12:14.469083Z",
     "start_time": "2022-06-11T14:07:45.626615Z"
    },
    "hidden": true,
    "pycharm": {
     "name": "#%%\n"
    }
   },
   "outputs": [
    {
     "name": "stdout",
     "output_type": "stream",
     "text": [
      "Optimal number of features : 120\n"
     ]
    },
    {
     "data": {
      "image/png": "[encoded data removed]",
      "text/plain": [
       "<Figure size 432x288 with 1 Axes>"
      ]
     },
     "metadata": {
      "needs_background": "light"
     },
     "output_type": "display_data"
    }
   ],
   "source": [
    "rfecv = RFECV(estimator=RandomForestClassifier(), step=5, cv=StratifiedKFold(3), scoring='accuracy')\n",
    "rfecv.fit(fs_train_cv_1, target_cv)\n",
    "print('Optimal number of features :', rfecv.n_features_)\n",
    "\n",
    "\n",
    "# Plot showing the Cross Validation score\n",
    "plt.figure()\n",
    "plt.xlabel(\"Number of features selected\")\n",
    "plt.ylabel(\"Cross validation score\")\n",
    "plt.plot(range(1, len(rfecv.cv_results_['mean_test_score']) + 1), rfecv.cv_results_['mean_test_score'])\n",
    "plt.show()"
   ]
  },
  {
   "cell_type": "code",
   "execution_count": 28,
   "id": "f0c4c4e7",
   "metadata": {
    "ExecuteTime": {
     "end_time": "2022-06-11T14:13:29.912037Z",
     "start_time": "2022-06-11T14:12:14.474418Z"
    },
    "hidden": true,
    "pycharm": {
     "name": "#%%\n"
    }
   },
   "outputs": [],
   "source": [
    "rfe = RFE(estimator=RandomForestClassifier(), n_features_to_select=rfecv.n_features_, step=5)\n",
    "rfe = rfe.fit(fs_train_cv_1, target_cv)"
   ]
  },
  {
   "cell_type": "code",
   "execution_count": 29,
   "id": "a4189ec0",
   "metadata": {
    "ExecuteTime": {
     "end_time": "2022-06-11T14:13:29.937067Z",
     "start_time": "2022-06-11T14:13:29.915076Z"
    },
    "hidden": true,
    "pycharm": {
     "name": "#%%\n"
    }
   },
   "outputs": [],
   "source": [
    "fs_train_cv_2 = fs_train_cv_1.loc[:, rfe.get_support()]"
   ]
  },
  {
   "cell_type": "code",
   "execution_count": 31,
   "id": "1abf2817",
   "metadata": {
    "ExecuteTime": {
     "end_time": "2022-06-11T14:13:55.251193Z",
     "start_time": "2022-06-11T14:13:55.026313Z"
    },
    "hidden": true,
    "pycharm": {
     "name": "#%%\n"
    }
   },
   "outputs": [],
   "source": [
    "cross_val_2 = cross_validate(RacClassifier(**best_params), fs_train_cv_2, target_cv, cv=cv, scoring=scoring, return_train_score=True)"
   ]
  },
  {
   "cell_type": "code",
   "execution_count": 32,
   "id": "13ab4fb4",
   "metadata": {
    "ExecuteTime": {
     "end_time": "2022-06-11T14:13:58.939149Z",
     "start_time": "2022-06-11T14:13:58.932793Z"
    },
    "hidden": true,
    "pycharm": {
     "name": "#%%\n"
    }
   },
   "outputs": [
    {
     "name": "stdout",
     "output_type": "stream",
     "text": [
      "Test score: 0.8261952861952863\n",
      "Train score: 0.8678894472361809\n"
     ]
    }
   ],
   "source": [
    "print('Test score: '+str(cross_val_2['test_accuracy'].mean()))\n",
    "print('Train score: '+str(cross_val_2['train_accuracy'].mean()))"
   ]
  },
  {
   "cell_type": "markdown",
   "id": "7d79bd75",
   "metadata": {
    "hidden": true,
    "pycharm": {
     "name": "#%% md\n"
    }
   },
   "source": [
    "#### Test best feature selection"
   ]
  },
  {
   "cell_type": "code",
   "execution_count": 33,
   "id": "a8ab1157",
   "metadata": {
    "ExecuteTime": {
     "end_time": "2022-06-11T14:14:58.969957Z",
     "start_time": "2022-06-11T14:14:58.876175Z"
    },
    "hidden": true,
    "pycharm": {
     "name": "#%%\n"
    }
   },
   "outputs": [
    {
     "data": {
      "text/plain": [
       "RacClassifier()"
      ]
     },
     "execution_count": 33,
     "metadata": {},
     "output_type": "execute_result"
    }
   ],
   "source": [
    "clf = RacClassifier(**best_params)\n",
    "clf.fit(train_x.loc[:, model.get_support()].loc[:, rfe.get_support()], train_y)"
   ]
  },
  {
   "cell_type": "code",
   "execution_count": 34,
   "id": "f713d44b",
   "metadata": {
    "ExecuteTime": {
     "end_time": "2022-06-11T14:15:23.847432Z",
     "start_time": "2022-06-11T14:15:23.720908Z"
    },
    "hidden": true,
    "pycharm": {
     "name": "#%%\n"
    },
    "scrolled": false
   },
   "outputs": [
    {
     "name": "stdout",
     "output_type": "stream",
     "text": [
      "              precision    recall  f1-score   support\n",
      "\n",
      "         A1A       0.80      1.00      0.89        24\n",
      "     DIABETE       1.00      0.70      0.82        33\n",
      "          GS       0.75      1.00      0.86         6\n",
      "         MCM       0.71      1.00      0.83         5\n",
      "        NALD       0.86      0.86      0.86         7\n",
      "\n",
      "    accuracy                           0.85        75\n",
      "   macro avg       0.82      0.91      0.85        75\n",
      "weighted avg       0.88      0.85      0.85        75\n",
      "\n"
     ]
    }
   ],
   "source": [
    "print(classification_report(val_y, clf.predict(val_x.loc[:, model.get_support()].loc[:, rfe.get_support()])))"
   ]
  },
  {
   "cell_type": "markdown",
   "id": "ba39dc0f",
   "metadata": {},
   "source": [
    "## KNN"
   ]
  },
  {
   "cell_type": "markdown",
   "id": "462f8b18",
   "metadata": {},
   "source": [
    "### Example test"
   ]
  },
  {
   "cell_type": "code",
   "execution_count": 10,
   "id": "0a58a6a6",
   "metadata": {
    "ExecuteTime": {
     "end_time": "2022-06-16T16:58:34.551580Z",
     "start_time": "2022-06-16T16:58:34.547479Z"
    }
   },
   "outputs": [],
   "source": [
    "clf = KNeighborsClassifier()"
   ]
  },
  {
   "cell_type": "code",
   "execution_count": 11,
   "id": "b9a0b7c7",
   "metadata": {
    "ExecuteTime": {
     "end_time": "2022-06-16T16:58:34.983183Z",
     "start_time": "2022-06-16T16:58:34.926876Z"
    }
   },
   "outputs": [
    {
     "data": {
      "text/plain": [
       "KNeighborsClassifier()"
      ]
     },
     "execution_count": 11,
     "metadata": {},
     "output_type": "execute_result"
    }
   ],
   "source": [
    "clf.fit(train_x, train_y)"
   ]
  },
  {
   "cell_type": "code",
   "execution_count": 12,
   "id": "ea913505",
   "metadata": {
    "ExecuteTime": {
     "end_time": "2022-06-16T16:58:35.620682Z",
     "start_time": "2022-06-16T16:58:35.491277Z"
    }
   },
   "outputs": [
    {
     "data": {
      "text/plain": [
       "0.8526785714285714"
      ]
     },
     "execution_count": 12,
     "metadata": {},
     "output_type": "execute_result"
    }
   ],
   "source": [
    "clf.fit(train_x, train_y).score(train_x, train_y)"
   ]
  },
  {
   "cell_type": "code",
   "execution_count": 13,
   "id": "9f8ddc62",
   "metadata": {
    "ExecuteTime": {
     "end_time": "2022-06-16T16:58:36.802333Z",
     "start_time": "2022-06-16T16:58:36.710816Z"
    }
   },
   "outputs": [
    {
     "name": "stdout",
     "output_type": "stream",
     "text": [
      "              precision    recall  f1-score   support\n",
      "\n",
      "         A1A       0.65      1.00      0.79        24\n",
      "     DIABETE       0.76      0.67      0.71        33\n",
      "          GS       1.00      0.83      0.91         6\n",
      "         MCM       1.00      0.80      0.89         5\n",
      "        NALD       0.00      0.00      0.00         7\n",
      "\n",
      "    accuracy                           0.73        75\n",
      "   macro avg       0.68      0.66      0.66        75\n",
      "weighted avg       0.69      0.73      0.70        75\n",
      "\n"
     ]
    },
    {
     "name": "stderr",
     "output_type": "stream",
     "text": [
      "/opt/anaconda3/envs/chl/lib/python3.10/site-packages/sklearn/metrics/_classification.py:1318: UndefinedMetricWarning: Precision and F-score are ill-defined and being set to 0.0 in labels with no predicted samples. Use `zero_division` parameter to control this behavior.\n",
      "  _warn_prf(average, modifier, msg_start, len(result))\n",
      "/opt/anaconda3/envs/chl/lib/python3.10/site-packages/sklearn/metrics/_classification.py:1318: UndefinedMetricWarning: Precision and F-score are ill-defined and being set to 0.0 in labels with no predicted samples. Use `zero_division` parameter to control this behavior.\n",
      "  _warn_prf(average, modifier, msg_start, len(result))\n",
      "/opt/anaconda3/envs/chl/lib/python3.10/site-packages/sklearn/metrics/_classification.py:1318: UndefinedMetricWarning: Precision and F-score are ill-defined and being set to 0.0 in labels with no predicted samples. Use `zero_division` parameter to control this behavior.\n",
      "  _warn_prf(average, modifier, msg_start, len(result))\n"
     ]
    }
   ],
   "source": [
    "print(classification_report(val_y, clf.predict(val_x)))"
   ]
  },
  {
   "cell_type": "markdown",
   "id": "86b61c24",
   "metadata": {},
   "source": [
    "### Grid search"
   ]
  },
  {
   "cell_type": "code",
   "execution_count": 14,
   "id": "7f195a7d",
   "metadata": {
    "ExecuteTime": {
     "end_time": "2022-06-16T16:58:42.363135Z",
     "start_time": "2022-06-16T16:58:42.358660Z"
    }
   },
   "outputs": [],
   "source": [
    "scoring = ['accuracy']\n",
    "#scoring = ['accuracy', 'precision_weighted', 'recall_weighted', 'f1_weighted']"
   ]
  },
  {
   "cell_type": "code",
   "execution_count": 15,
   "id": "1151d433",
   "metadata": {
    "ExecuteTime": {
     "end_time": "2022-06-16T16:58:43.143369Z",
     "start_time": "2022-06-16T16:58:43.136361Z"
    }
   },
   "outputs": [],
   "source": [
    "param_grid = [\n",
    "    {'n_neighbors': list(np.arange(1, 10, 1)),\n",
    "     'weights': ['distance'],\n",
    "     'algorithm': ['brute', 'ball_tree', 'kd_tree'],\n",
    "     'p': [1, 2]\n",
    "    }\n",
    "]"
   ]
  },
  {
   "cell_type": "code",
   "execution_count": 16,
   "id": "74d2d1fc",
   "metadata": {
    "ExecuteTime": {
     "end_time": "2022-06-16T16:58:44.057988Z",
     "start_time": "2022-06-16T16:58:44.051284Z"
    }
   },
   "outputs": [],
   "source": [
    "cv = StratifiedKFold(n_splits=3)"
   ]
  },
  {
   "cell_type": "code",
   "execution_count": 17,
   "id": "c56f54e4",
   "metadata": {
    "ExecuteTime": {
     "end_time": "2022-06-16T16:59:50.065485Z",
     "start_time": "2022-06-16T16:58:44.815475Z"
    }
   },
   "outputs": [
    {
     "data": {
      "text/plain": [
       "GridSearchCV(cv=StratifiedKFold(n_splits=3, random_state=None, shuffle=False),\n",
       "             estimator=KNeighborsClassifier(), n_jobs=-1,\n",
       "             param_grid=[{'algorithm': ['brute', 'ball_tree', 'kd_tree'],\n",
       "                          'n_neighbors': [1, 2, 3, 4, 5, 6, 7, 8, 9],\n",
       "                          'p': [1, 2], 'weights': ['distance']}],\n",
       "             refit=False, return_train_score=True, scoring=['accuracy'])"
      ]
     },
     "execution_count": 17,
     "metadata": {},
     "output_type": "execute_result"
    }
   ],
   "source": [
    "clf = GridSearchCV(estimator=KNeighborsClassifier(), param_grid=param_grid, cv=cv, scoring=scoring, refit=False, n_jobs=-1, return_train_score=True)\n",
    "clf.fit(train_cv, target_cv)"
   ]
  },
  {
   "cell_type": "code",
   "execution_count": 18,
   "id": "d53f65f1",
   "metadata": {
    "ExecuteTime": {
     "end_time": "2022-06-16T16:59:50.222233Z",
     "start_time": "2022-06-16T16:59:50.103441Z"
    }
   },
   "outputs": [
    {
     "data": {
      "text/html": [
       "<div>\n",
       "<style scoped>\n",
       "    .dataframe tbody tr th:only-of-type {\n",
       "        vertical-align: middle;\n",
       "    }\n",
       "\n",
       "    .dataframe tbody tr th {\n",
       "        vertical-align: top;\n",
       "    }\n",
       "\n",
       "    .dataframe thead th {\n",
       "        text-align: right;\n",
       "    }\n",
       "</style>\n",
       "<table border=\"1\" class=\"dataframe\">\n",
       "  <thead>\n",
       "    <tr style=\"text-align: right;\">\n",
       "      <th></th>\n",
       "      <th>rank_test_accuracy</th>\n",
       "      <th>mean_test_accuracy</th>\n",
       "      <th>mean_train_accuracy</th>\n",
       "      <th>std_test_accuracy</th>\n",
       "      <th>std_train_accuracy</th>\n",
       "      <th>mean_fit_time</th>\n",
       "      <th>params</th>\n",
       "    </tr>\n",
       "  </thead>\n",
       "  <tbody>\n",
       "    <tr>\n",
       "      <th>0</th>\n",
       "      <td>1</td>\n",
       "      <td>0.903030</td>\n",
       "      <td>1.0</td>\n",
       "      <td>0.016883</td>\n",
       "      <td>0.0</td>\n",
       "      <td>0.241213</td>\n",
       "      <td>{'algorithm': 'brute', 'n_neighbors': 1, 'p': ...</td>\n",
       "    </tr>\n",
       "    <tr>\n",
       "      <th>2</th>\n",
       "      <td>1</td>\n",
       "      <td>0.903030</td>\n",
       "      <td>1.0</td>\n",
       "      <td>0.016883</td>\n",
       "      <td>0.0</td>\n",
       "      <td>0.127446</td>\n",
       "      <td>{'algorithm': 'brute', 'n_neighbors': 2, 'p': ...</td>\n",
       "    </tr>\n",
       "    <tr>\n",
       "      <th>20</th>\n",
       "      <td>1</td>\n",
       "      <td>0.903030</td>\n",
       "      <td>1.0</td>\n",
       "      <td>0.016883</td>\n",
       "      <td>0.0</td>\n",
       "      <td>0.260758</td>\n",
       "      <td>{'algorithm': 'ball_tree', 'n_neighbors': 2, '...</td>\n",
       "    </tr>\n",
       "    <tr>\n",
       "      <th>18</th>\n",
       "      <td>1</td>\n",
       "      <td>0.903030</td>\n",
       "      <td>1.0</td>\n",
       "      <td>0.016883</td>\n",
       "      <td>0.0</td>\n",
       "      <td>0.253932</td>\n",
       "      <td>{'algorithm': 'ball_tree', 'n_neighbors': 1, '...</td>\n",
       "    </tr>\n",
       "    <tr>\n",
       "      <th>36</th>\n",
       "      <td>1</td>\n",
       "      <td>0.903030</td>\n",
       "      <td>1.0</td>\n",
       "      <td>0.016883</td>\n",
       "      <td>0.0</td>\n",
       "      <td>0.141464</td>\n",
       "      <td>{'algorithm': 'kd_tree', 'n_neighbors': 1, 'p'...</td>\n",
       "    </tr>\n",
       "    <tr>\n",
       "      <th>38</th>\n",
       "      <td>1</td>\n",
       "      <td>0.903030</td>\n",
       "      <td>1.0</td>\n",
       "      <td>0.016883</td>\n",
       "      <td>0.0</td>\n",
       "      <td>0.144120</td>\n",
       "      <td>{'algorithm': 'kd_tree', 'n_neighbors': 2, 'p'...</td>\n",
       "    </tr>\n",
       "    <tr>\n",
       "      <th>1</th>\n",
       "      <td>7</td>\n",
       "      <td>0.893064</td>\n",
       "      <td>1.0</td>\n",
       "      <td>0.024658</td>\n",
       "      <td>0.0</td>\n",
       "      <td>0.189294</td>\n",
       "      <td>{'algorithm': 'brute', 'n_neighbors': 1, 'p': ...</td>\n",
       "    </tr>\n",
       "    <tr>\n",
       "      <th>3</th>\n",
       "      <td>7</td>\n",
       "      <td>0.893064</td>\n",
       "      <td>1.0</td>\n",
       "      <td>0.024658</td>\n",
       "      <td>0.0</td>\n",
       "      <td>0.122514</td>\n",
       "      <td>{'algorithm': 'brute', 'n_neighbors': 2, 'p': ...</td>\n",
       "    </tr>\n",
       "    <tr>\n",
       "      <th>21</th>\n",
       "      <td>7</td>\n",
       "      <td>0.893064</td>\n",
       "      <td>1.0</td>\n",
       "      <td>0.024658</td>\n",
       "      <td>0.0</td>\n",
       "      <td>0.224012</td>\n",
       "      <td>{'algorithm': 'ball_tree', 'n_neighbors': 2, '...</td>\n",
       "    </tr>\n",
       "    <tr>\n",
       "      <th>19</th>\n",
       "      <td>7</td>\n",
       "      <td>0.893064</td>\n",
       "      <td>1.0</td>\n",
       "      <td>0.024658</td>\n",
       "      <td>0.0</td>\n",
       "      <td>0.200275</td>\n",
       "      <td>{'algorithm': 'ball_tree', 'n_neighbors': 1, '...</td>\n",
       "    </tr>\n",
       "    <tr>\n",
       "      <th>37</th>\n",
       "      <td>7</td>\n",
       "      <td>0.893064</td>\n",
       "      <td>1.0</td>\n",
       "      <td>0.024658</td>\n",
       "      <td>0.0</td>\n",
       "      <td>0.154606</td>\n",
       "      <td>{'algorithm': 'kd_tree', 'n_neighbors': 1, 'p'...</td>\n",
       "    </tr>\n",
       "    <tr>\n",
       "      <th>39</th>\n",
       "      <td>7</td>\n",
       "      <td>0.893064</td>\n",
       "      <td>1.0</td>\n",
       "      <td>0.024658</td>\n",
       "      <td>0.0</td>\n",
       "      <td>0.191462</td>\n",
       "      <td>{'algorithm': 'kd_tree', 'n_neighbors': 2, 'p'...</td>\n",
       "    </tr>\n",
       "    <tr>\n",
       "      <th>24</th>\n",
       "      <td>13</td>\n",
       "      <td>0.852896</td>\n",
       "      <td>1.0</td>\n",
       "      <td>0.016574</td>\n",
       "      <td>0.0</td>\n",
       "      <td>0.132905</td>\n",
       "      <td>{'algorithm': 'ball_tree', 'n_neighbors': 4, '...</td>\n",
       "    </tr>\n",
       "    <tr>\n",
       "      <th>42</th>\n",
       "      <td>13</td>\n",
       "      <td>0.852896</td>\n",
       "      <td>1.0</td>\n",
       "      <td>0.016574</td>\n",
       "      <td>0.0</td>\n",
       "      <td>0.297587</td>\n",
       "      <td>{'algorithm': 'kd_tree', 'n_neighbors': 4, 'p'...</td>\n",
       "    </tr>\n",
       "    <tr>\n",
       "      <th>6</th>\n",
       "      <td>13</td>\n",
       "      <td>0.852896</td>\n",
       "      <td>1.0</td>\n",
       "      <td>0.016574</td>\n",
       "      <td>0.0</td>\n",
       "      <td>0.139639</td>\n",
       "      <td>{'algorithm': 'brute', 'n_neighbors': 4, 'p': ...</td>\n",
       "    </tr>\n",
       "    <tr>\n",
       "      <th>4</th>\n",
       "      <td>16</td>\n",
       "      <td>0.846128</td>\n",
       "      <td>1.0</td>\n",
       "      <td>0.009831</td>\n",
       "      <td>0.0</td>\n",
       "      <td>0.135921</td>\n",
       "      <td>{'algorithm': 'brute', 'n_neighbors': 3, 'p': ...</td>\n",
       "    </tr>\n",
       "    <tr>\n",
       "      <th>22</th>\n",
       "      <td>16</td>\n",
       "      <td>0.846128</td>\n",
       "      <td>1.0</td>\n",
       "      <td>0.009831</td>\n",
       "      <td>0.0</td>\n",
       "      <td>0.208625</td>\n",
       "      <td>{'algorithm': 'ball_tree', 'n_neighbors': 3, '...</td>\n",
       "    </tr>\n",
       "    <tr>\n",
       "      <th>40</th>\n",
       "      <td>16</td>\n",
       "      <td>0.846128</td>\n",
       "      <td>1.0</td>\n",
       "      <td>0.009831</td>\n",
       "      <td>0.0</td>\n",
       "      <td>0.192999</td>\n",
       "      <td>{'algorithm': 'kd_tree', 'n_neighbors': 3, 'p'...</td>\n",
       "    </tr>\n",
       "    <tr>\n",
       "      <th>41</th>\n",
       "      <td>19</td>\n",
       "      <td>0.806061</td>\n",
       "      <td>1.0</td>\n",
       "      <td>0.018443</td>\n",
       "      <td>0.0</td>\n",
       "      <td>0.177682</td>\n",
       "      <td>{'algorithm': 'kd_tree', 'n_neighbors': 3, 'p'...</td>\n",
       "    </tr>\n",
       "    <tr>\n",
       "      <th>5</th>\n",
       "      <td>19</td>\n",
       "      <td>0.806061</td>\n",
       "      <td>1.0</td>\n",
       "      <td>0.018443</td>\n",
       "      <td>0.0</td>\n",
       "      <td>0.139739</td>\n",
       "      <td>{'algorithm': 'brute', 'n_neighbors': 3, 'p': ...</td>\n",
       "    </tr>\n",
       "    <tr>\n",
       "      <th>23</th>\n",
       "      <td>19</td>\n",
       "      <td>0.806061</td>\n",
       "      <td>1.0</td>\n",
       "      <td>0.018443</td>\n",
       "      <td>0.0</td>\n",
       "      <td>0.137232</td>\n",
       "      <td>{'algorithm': 'ball_tree', 'n_neighbors': 3, '...</td>\n",
       "    </tr>\n",
       "    <tr>\n",
       "      <th>43</th>\n",
       "      <td>22</td>\n",
       "      <td>0.805993</td>\n",
       "      <td>1.0</td>\n",
       "      <td>0.005666</td>\n",
       "      <td>0.0</td>\n",
       "      <td>0.270271</td>\n",
       "      <td>{'algorithm': 'kd_tree', 'n_neighbors': 4, 'p'...</td>\n",
       "    </tr>\n",
       "    <tr>\n",
       "      <th>25</th>\n",
       "      <td>22</td>\n",
       "      <td>0.805993</td>\n",
       "      <td>1.0</td>\n",
       "      <td>0.005666</td>\n",
       "      <td>0.0</td>\n",
       "      <td>0.176734</td>\n",
       "      <td>{'algorithm': 'ball_tree', 'n_neighbors': 4, '...</td>\n",
       "    </tr>\n",
       "    <tr>\n",
       "      <th>7</th>\n",
       "      <td>22</td>\n",
       "      <td>0.805993</td>\n",
       "      <td>1.0</td>\n",
       "      <td>0.005666</td>\n",
       "      <td>0.0</td>\n",
       "      <td>0.142785</td>\n",
       "      <td>{'algorithm': 'brute', 'n_neighbors': 4, 'p': ...</td>\n",
       "    </tr>\n",
       "    <tr>\n",
       "      <th>44</th>\n",
       "      <td>25</td>\n",
       "      <td>0.799327</td>\n",
       "      <td>1.0</td>\n",
       "      <td>0.008220</td>\n",
       "      <td>0.0</td>\n",
       "      <td>0.241340</td>\n",
       "      <td>{'algorithm': 'kd_tree', 'n_neighbors': 5, 'p'...</td>\n",
       "    </tr>\n",
       "    <tr>\n",
       "      <th>26</th>\n",
       "      <td>25</td>\n",
       "      <td>0.799327</td>\n",
       "      <td>1.0</td>\n",
       "      <td>0.008220</td>\n",
       "      <td>0.0</td>\n",
       "      <td>0.196698</td>\n",
       "      <td>{'algorithm': 'ball_tree', 'n_neighbors': 5, '...</td>\n",
       "    </tr>\n",
       "    <tr>\n",
       "      <th>8</th>\n",
       "      <td>25</td>\n",
       "      <td>0.799327</td>\n",
       "      <td>1.0</td>\n",
       "      <td>0.008220</td>\n",
       "      <td>0.0</td>\n",
       "      <td>0.180789</td>\n",
       "      <td>{'algorithm': 'brute', 'n_neighbors': 5, 'p': ...</td>\n",
       "    </tr>\n",
       "    <tr>\n",
       "      <th>28</th>\n",
       "      <td>28</td>\n",
       "      <td>0.772559</td>\n",
       "      <td>1.0</td>\n",
       "      <td>0.005346</td>\n",
       "      <td>0.0</td>\n",
       "      <td>0.207444</td>\n",
       "      <td>{'algorithm': 'ball_tree', 'n_neighbors': 6, '...</td>\n",
       "    </tr>\n",
       "    <tr>\n",
       "      <th>46</th>\n",
       "      <td>28</td>\n",
       "      <td>0.772559</td>\n",
       "      <td>1.0</td>\n",
       "      <td>0.005346</td>\n",
       "      <td>0.0</td>\n",
       "      <td>0.211276</td>\n",
       "      <td>{'algorithm': 'kd_tree', 'n_neighbors': 6, 'p'...</td>\n",
       "    </tr>\n",
       "    <tr>\n",
       "      <th>10</th>\n",
       "      <td>28</td>\n",
       "      <td>0.772559</td>\n",
       "      <td>1.0</td>\n",
       "      <td>0.005346</td>\n",
       "      <td>0.0</td>\n",
       "      <td>0.167321</td>\n",
       "      <td>{'algorithm': 'brute', 'n_neighbors': 6, 'p': ...</td>\n",
       "    </tr>\n",
       "    <tr>\n",
       "      <th>29</th>\n",
       "      <td>31</td>\n",
       "      <td>0.765892</td>\n",
       "      <td>1.0</td>\n",
       "      <td>0.004273</td>\n",
       "      <td>0.0</td>\n",
       "      <td>0.195715</td>\n",
       "      <td>{'algorithm': 'ball_tree', 'n_neighbors': 6, '...</td>\n",
       "    </tr>\n",
       "    <tr>\n",
       "      <th>47</th>\n",
       "      <td>31</td>\n",
       "      <td>0.765892</td>\n",
       "      <td>1.0</td>\n",
       "      <td>0.004273</td>\n",
       "      <td>0.0</td>\n",
       "      <td>0.284741</td>\n",
       "      <td>{'algorithm': 'kd_tree', 'n_neighbors': 6, 'p'...</td>\n",
       "    </tr>\n",
       "    <tr>\n",
       "      <th>11</th>\n",
       "      <td>31</td>\n",
       "      <td>0.765892</td>\n",
       "      <td>1.0</td>\n",
       "      <td>0.004273</td>\n",
       "      <td>0.0</td>\n",
       "      <td>0.155902</td>\n",
       "      <td>{'algorithm': 'brute', 'n_neighbors': 6, 'p': ...</td>\n",
       "    </tr>\n",
       "    <tr>\n",
       "      <th>27</th>\n",
       "      <td>34</td>\n",
       "      <td>0.759091</td>\n",
       "      <td>1.0</td>\n",
       "      <td>0.022866</td>\n",
       "      <td>0.0</td>\n",
       "      <td>0.189867</td>\n",
       "      <td>{'algorithm': 'ball_tree', 'n_neighbors': 5, '...</td>\n",
       "    </tr>\n",
       "    <tr>\n",
       "      <th>45</th>\n",
       "      <td>34</td>\n",
       "      <td>0.759091</td>\n",
       "      <td>1.0</td>\n",
       "      <td>0.022866</td>\n",
       "      <td>0.0</td>\n",
       "      <td>0.218758</td>\n",
       "      <td>{'algorithm': 'kd_tree', 'n_neighbors': 5, 'p'...</td>\n",
       "    </tr>\n",
       "    <tr>\n",
       "      <th>9</th>\n",
       "      <td>34</td>\n",
       "      <td>0.759091</td>\n",
       "      <td>1.0</td>\n",
       "      <td>0.022866</td>\n",
       "      <td>0.0</td>\n",
       "      <td>0.198186</td>\n",
       "      <td>{'algorithm': 'brute', 'n_neighbors': 5, 'p': ...</td>\n",
       "    </tr>\n",
       "    <tr>\n",
       "      <th>32</th>\n",
       "      <td>37</td>\n",
       "      <td>0.752458</td>\n",
       "      <td>1.0</td>\n",
       "      <td>0.010666</td>\n",
       "      <td>0.0</td>\n",
       "      <td>0.135942</td>\n",
       "      <td>{'algorithm': 'ball_tree', 'n_neighbors': 8, '...</td>\n",
       "    </tr>\n",
       "    <tr>\n",
       "      <th>50</th>\n",
       "      <td>37</td>\n",
       "      <td>0.752458</td>\n",
       "      <td>1.0</td>\n",
       "      <td>0.010666</td>\n",
       "      <td>0.0</td>\n",
       "      <td>0.197975</td>\n",
       "      <td>{'algorithm': 'kd_tree', 'n_neighbors': 8, 'p'...</td>\n",
       "    </tr>\n",
       "    <tr>\n",
       "      <th>14</th>\n",
       "      <td>37</td>\n",
       "      <td>0.752458</td>\n",
       "      <td>1.0</td>\n",
       "      <td>0.010666</td>\n",
       "      <td>0.0</td>\n",
       "      <td>0.151704</td>\n",
       "      <td>{'algorithm': 'brute', 'n_neighbors': 8, 'p': ...</td>\n",
       "    </tr>\n",
       "    <tr>\n",
       "      <th>48</th>\n",
       "      <td>40</td>\n",
       "      <td>0.739125</td>\n",
       "      <td>1.0</td>\n",
       "      <td>0.001238</td>\n",
       "      <td>0.0</td>\n",
       "      <td>0.281615</td>\n",
       "      <td>{'algorithm': 'kd_tree', 'n_neighbors': 7, 'p'...</td>\n",
       "    </tr>\n",
       "    <tr>\n",
       "      <th>30</th>\n",
       "      <td>40</td>\n",
       "      <td>0.739125</td>\n",
       "      <td>1.0</td>\n",
       "      <td>0.001238</td>\n",
       "      <td>0.0</td>\n",
       "      <td>0.219835</td>\n",
       "      <td>{'algorithm': 'ball_tree', 'n_neighbors': 7, '...</td>\n",
       "    </tr>\n",
       "    <tr>\n",
       "      <th>12</th>\n",
       "      <td>40</td>\n",
       "      <td>0.739125</td>\n",
       "      <td>1.0</td>\n",
       "      <td>0.001238</td>\n",
       "      <td>0.0</td>\n",
       "      <td>0.138160</td>\n",
       "      <td>{'algorithm': 'brute', 'n_neighbors': 7, 'p': ...</td>\n",
       "    </tr>\n",
       "    <tr>\n",
       "      <th>52</th>\n",
       "      <td>43</td>\n",
       "      <td>0.732424</td>\n",
       "      <td>1.0</td>\n",
       "      <td>0.020735</td>\n",
       "      <td>0.0</td>\n",
       "      <td>0.309758</td>\n",
       "      <td>{'algorithm': 'kd_tree', 'n_neighbors': 9, 'p'...</td>\n",
       "    </tr>\n",
       "    <tr>\n",
       "      <th>16</th>\n",
       "      <td>43</td>\n",
       "      <td>0.732424</td>\n",
       "      <td>1.0</td>\n",
       "      <td>0.020735</td>\n",
       "      <td>0.0</td>\n",
       "      <td>0.143163</td>\n",
       "      <td>{'algorithm': 'brute', 'n_neighbors': 9, 'p': ...</td>\n",
       "    </tr>\n",
       "    <tr>\n",
       "      <th>34</th>\n",
       "      <td>43</td>\n",
       "      <td>0.732424</td>\n",
       "      <td>1.0</td>\n",
       "      <td>0.020735</td>\n",
       "      <td>0.0</td>\n",
       "      <td>0.145706</td>\n",
       "      <td>{'algorithm': 'ball_tree', 'n_neighbors': 9, '...</td>\n",
       "    </tr>\n",
       "    <tr>\n",
       "      <th>33</th>\n",
       "      <td>46</td>\n",
       "      <td>0.712391</td>\n",
       "      <td>1.0</td>\n",
       "      <td>0.016676</td>\n",
       "      <td>0.0</td>\n",
       "      <td>0.177861</td>\n",
       "      <td>{'algorithm': 'ball_tree', 'n_neighbors': 8, '...</td>\n",
       "    </tr>\n",
       "    <tr>\n",
       "      <th>51</th>\n",
       "      <td>46</td>\n",
       "      <td>0.712391</td>\n",
       "      <td>1.0</td>\n",
       "      <td>0.016676</td>\n",
       "      <td>0.0</td>\n",
       "      <td>0.218350</td>\n",
       "      <td>{'algorithm': 'kd_tree', 'n_neighbors': 8, 'p'...</td>\n",
       "    </tr>\n",
       "    <tr>\n",
       "      <th>15</th>\n",
       "      <td>46</td>\n",
       "      <td>0.712391</td>\n",
       "      <td>1.0</td>\n",
       "      <td>0.016676</td>\n",
       "      <td>0.0</td>\n",
       "      <td>0.143592</td>\n",
       "      <td>{'algorithm': 'brute', 'n_neighbors': 8, 'p': ...</td>\n",
       "    </tr>\n",
       "    <tr>\n",
       "      <th>49</th>\n",
       "      <td>49</td>\n",
       "      <td>0.709024</td>\n",
       "      <td>1.0</td>\n",
       "      <td>0.024534</td>\n",
       "      <td>0.0</td>\n",
       "      <td>0.264707</td>\n",
       "      <td>{'algorithm': 'kd_tree', 'n_neighbors': 7, 'p'...</td>\n",
       "    </tr>\n",
       "    <tr>\n",
       "      <th>13</th>\n",
       "      <td>49</td>\n",
       "      <td>0.709024</td>\n",
       "      <td>1.0</td>\n",
       "      <td>0.024534</td>\n",
       "      <td>0.0</td>\n",
       "      <td>0.117612</td>\n",
       "      <td>{'algorithm': 'brute', 'n_neighbors': 7, 'p': ...</td>\n",
       "    </tr>\n",
       "    <tr>\n",
       "      <th>31</th>\n",
       "      <td>49</td>\n",
       "      <td>0.709024</td>\n",
       "      <td>1.0</td>\n",
       "      <td>0.024534</td>\n",
       "      <td>0.0</td>\n",
       "      <td>0.154304</td>\n",
       "      <td>{'algorithm': 'ball_tree', 'n_neighbors': 7, '...</td>\n",
       "    </tr>\n",
       "    <tr>\n",
       "      <th>35</th>\n",
       "      <td>52</td>\n",
       "      <td>0.705657</td>\n",
       "      <td>1.0</td>\n",
       "      <td>0.017447</td>\n",
       "      <td>0.0</td>\n",
       "      <td>0.137191</td>\n",
       "      <td>{'algorithm': 'ball_tree', 'n_neighbors': 9, '...</td>\n",
       "    </tr>\n",
       "    <tr>\n",
       "      <th>17</th>\n",
       "      <td>52</td>\n",
       "      <td>0.705657</td>\n",
       "      <td>1.0</td>\n",
       "      <td>0.017447</td>\n",
       "      <td>0.0</td>\n",
       "      <td>0.141338</td>\n",
       "      <td>{'algorithm': 'brute', 'n_neighbors': 9, 'p': ...</td>\n",
       "    </tr>\n",
       "    <tr>\n",
       "      <th>53</th>\n",
       "      <td>52</td>\n",
       "      <td>0.705657</td>\n",
       "      <td>1.0</td>\n",
       "      <td>0.017447</td>\n",
       "      <td>0.0</td>\n",
       "      <td>0.262675</td>\n",
       "      <td>{'algorithm': 'kd_tree', 'n_neighbors': 9, 'p'...</td>\n",
       "    </tr>\n",
       "  </tbody>\n",
       "</table>\n",
       "</div>"
      ],
      "text/plain": [
       "    rank_test_accuracy  mean_test_accuracy  mean_train_accuracy  \\\n",
       "0                    1            0.903030                  1.0   \n",
       "2                    1            0.903030                  1.0   \n",
       "20                   1            0.903030                  1.0   \n",
       "18                   1            0.903030                  1.0   \n",
       "36                   1            0.903030                  1.0   \n",
       "38                   1            0.903030                  1.0   \n",
       "1                    7            0.893064                  1.0   \n",
       "3                    7            0.893064                  1.0   \n",
       "21                   7            0.893064                  1.0   \n",
       "19                   7            0.893064                  1.0   \n",
       "37                   7            0.893064                  1.0   \n",
       "39                   7            0.893064                  1.0   \n",
       "24                  13            0.852896                  1.0   \n",
       "42                  13            0.852896                  1.0   \n",
       "6                   13            0.852896                  1.0   \n",
       "4                   16            0.846128                  1.0   \n",
       "22                  16            0.846128                  1.0   \n",
       "40                  16            0.846128                  1.0   \n",
       "41                  19            0.806061                  1.0   \n",
       "5                   19            0.806061                  1.0   \n",
       "23                  19            0.806061                  1.0   \n",
       "43                  22            0.805993                  1.0   \n",
       "25                  22            0.805993                  1.0   \n",
       "7                   22            0.805993                  1.0   \n",
       "44                  25            0.799327                  1.0   \n",
       "26                  25            0.799327                  1.0   \n",
       "8                   25            0.799327                  1.0   \n",
       "28                  28            0.772559                  1.0   \n",
       "46                  28            0.772559                  1.0   \n",
       "10                  28            0.772559                  1.0   \n",
       "29                  31            0.765892                  1.0   \n",
       "47                  31            0.765892                  1.0   \n",
       "11                  31            0.765892                  1.0   \n",
       "27                  34            0.759091                  1.0   \n",
       "45                  34            0.759091                  1.0   \n",
       "9                   34            0.759091                  1.0   \n",
       "32                  37            0.752458                  1.0   \n",
       "50                  37            0.752458                  1.0   \n",
       "14                  37            0.752458                  1.0   \n",
       "48                  40            0.739125                  1.0   \n",
       "30                  40            0.739125                  1.0   \n",
       "12                  40            0.739125                  1.0   \n",
       "52                  43            0.732424                  1.0   \n",
       "16                  43            0.732424                  1.0   \n",
       "34                  43            0.732424                  1.0   \n",
       "33                  46            0.712391                  1.0   \n",
       "51                  46            0.712391                  1.0   \n",
       "15                  46            0.712391                  1.0   \n",
       "49                  49            0.709024                  1.0   \n",
       "13                  49            0.709024                  1.0   \n",
       "31                  49            0.709024                  1.0   \n",
       "35                  52            0.705657                  1.0   \n",
       "17                  52            0.705657                  1.0   \n",
       "53                  52            0.705657                  1.0   \n",
       "\n",
       "    std_test_accuracy  std_train_accuracy  mean_fit_time  \\\n",
       "0            0.016883                 0.0       0.241213   \n",
       "2            0.016883                 0.0       0.127446   \n",
       "20           0.016883                 0.0       0.260758   \n",
       "18           0.016883                 0.0       0.253932   \n",
       "36           0.016883                 0.0       0.141464   \n",
       "38           0.016883                 0.0       0.144120   \n",
       "1            0.024658                 0.0       0.189294   \n",
       "3            0.024658                 0.0       0.122514   \n",
       "21           0.024658                 0.0       0.224012   \n",
       "19           0.024658                 0.0       0.200275   \n",
       "37           0.024658                 0.0       0.154606   \n",
       "39           0.024658                 0.0       0.191462   \n",
       "24           0.016574                 0.0       0.132905   \n",
       "42           0.016574                 0.0       0.297587   \n",
       "6            0.016574                 0.0       0.139639   \n",
       "4            0.009831                 0.0       0.135921   \n",
       "22           0.009831                 0.0       0.208625   \n",
       "40           0.009831                 0.0       0.192999   \n",
       "41           0.018443                 0.0       0.177682   \n",
       "5            0.018443                 0.0       0.139739   \n",
       "23           0.018443                 0.0       0.137232   \n",
       "43           0.005666                 0.0       0.270271   \n",
       "25           0.005666                 0.0       0.176734   \n",
       "7            0.005666                 0.0       0.142785   \n",
       "44           0.008220                 0.0       0.241340   \n",
       "26           0.008220                 0.0       0.196698   \n",
       "8            0.008220                 0.0       0.180789   \n",
       "28           0.005346                 0.0       0.207444   \n",
       "46           0.005346                 0.0       0.211276   \n",
       "10           0.005346                 0.0       0.167321   \n",
       "29           0.004273                 0.0       0.195715   \n",
       "47           0.004273                 0.0       0.284741   \n",
       "11           0.004273                 0.0       0.155902   \n",
       "27           0.022866                 0.0       0.189867   \n",
       "45           0.022866                 0.0       0.218758   \n",
       "9            0.022866                 0.0       0.198186   \n",
       "32           0.010666                 0.0       0.135942   \n",
       "50           0.010666                 0.0       0.197975   \n",
       "14           0.010666                 0.0       0.151704   \n",
       "48           0.001238                 0.0       0.281615   \n",
       "30           0.001238                 0.0       0.219835   \n",
       "12           0.001238                 0.0       0.138160   \n",
       "52           0.020735                 0.0       0.309758   \n",
       "16           0.020735                 0.0       0.143163   \n",
       "34           0.020735                 0.0       0.145706   \n",
       "33           0.016676                 0.0       0.177861   \n",
       "51           0.016676                 0.0       0.218350   \n",
       "15           0.016676                 0.0       0.143592   \n",
       "49           0.024534                 0.0       0.264707   \n",
       "13           0.024534                 0.0       0.117612   \n",
       "31           0.024534                 0.0       0.154304   \n",
       "35           0.017447                 0.0       0.137191   \n",
       "17           0.017447                 0.0       0.141338   \n",
       "53           0.017447                 0.0       0.262675   \n",
       "\n",
       "                                               params  \n",
       "0   {'algorithm': 'brute', 'n_neighbors': 1, 'p': ...  \n",
       "2   {'algorithm': 'brute', 'n_neighbors': 2, 'p': ...  \n",
       "20  {'algorithm': 'ball_tree', 'n_neighbors': 2, '...  \n",
       "18  {'algorithm': 'ball_tree', 'n_neighbors': 1, '...  \n",
       "36  {'algorithm': 'kd_tree', 'n_neighbors': 1, 'p'...  \n",
       "38  {'algorithm': 'kd_tree', 'n_neighbors': 2, 'p'...  \n",
       "1   {'algorithm': 'brute', 'n_neighbors': 1, 'p': ...  \n",
       "3   {'algorithm': 'brute', 'n_neighbors': 2, 'p': ...  \n",
       "21  {'algorithm': 'ball_tree', 'n_neighbors': 2, '...  \n",
       "19  {'algorithm': 'ball_tree', 'n_neighbors': 1, '...  \n",
       "37  {'algorithm': 'kd_tree', 'n_neighbors': 1, 'p'...  \n",
       "39  {'algorithm': 'kd_tree', 'n_neighbors': 2, 'p'...  \n",
       "24  {'algorithm': 'ball_tree', 'n_neighbors': 4, '...  \n",
       "42  {'algorithm': 'kd_tree', 'n_neighbors': 4, 'p'...  \n",
       "6   {'algorithm': 'brute', 'n_neighbors': 4, 'p': ...  \n",
       "4   {'algorithm': 'brute', 'n_neighbors': 3, 'p': ...  \n",
       "22  {'algorithm': 'ball_tree', 'n_neighbors': 3, '...  \n",
       "40  {'algorithm': 'kd_tree', 'n_neighbors': 3, 'p'...  \n",
       "41  {'algorithm': 'kd_tree', 'n_neighbors': 3, 'p'...  \n",
       "5   {'algorithm': 'brute', 'n_neighbors': 3, 'p': ...  \n",
       "23  {'algorithm': 'ball_tree', 'n_neighbors': 3, '...  \n",
       "43  {'algorithm': 'kd_tree', 'n_neighbors': 4, 'p'...  \n",
       "25  {'algorithm': 'ball_tree', 'n_neighbors': 4, '...  \n",
       "7   {'algorithm': 'brute', 'n_neighbors': 4, 'p': ...  \n",
       "44  {'algorithm': 'kd_tree', 'n_neighbors': 5, 'p'...  \n",
       "26  {'algorithm': 'ball_tree', 'n_neighbors': 5, '...  \n",
       "8   {'algorithm': 'brute', 'n_neighbors': 5, 'p': ...  \n",
       "28  {'algorithm': 'ball_tree', 'n_neighbors': 6, '...  \n",
       "46  {'algorithm': 'kd_tree', 'n_neighbors': 6, 'p'...  \n",
       "10  {'algorithm': 'brute', 'n_neighbors': 6, 'p': ...  \n",
       "29  {'algorithm': 'ball_tree', 'n_neighbors': 6, '...  \n",
       "47  {'algorithm': 'kd_tree', 'n_neighbors': 6, 'p'...  \n",
       "11  {'algorithm': 'brute', 'n_neighbors': 6, 'p': ...  \n",
       "27  {'algorithm': 'ball_tree', 'n_neighbors': 5, '...  \n",
       "45  {'algorithm': 'kd_tree', 'n_neighbors': 5, 'p'...  \n",
       "9   {'algorithm': 'brute', 'n_neighbors': 5, 'p': ...  \n",
       "32  {'algorithm': 'ball_tree', 'n_neighbors': 8, '...  \n",
       "50  {'algorithm': 'kd_tree', 'n_neighbors': 8, 'p'...  \n",
       "14  {'algorithm': 'brute', 'n_neighbors': 8, 'p': ...  \n",
       "48  {'algorithm': 'kd_tree', 'n_neighbors': 7, 'p'...  \n",
       "30  {'algorithm': 'ball_tree', 'n_neighbors': 7, '...  \n",
       "12  {'algorithm': 'brute', 'n_neighbors': 7, 'p': ...  \n",
       "52  {'algorithm': 'kd_tree', 'n_neighbors': 9, 'p'...  \n",
       "16  {'algorithm': 'brute', 'n_neighbors': 9, 'p': ...  \n",
       "34  {'algorithm': 'ball_tree', 'n_neighbors': 9, '...  \n",
       "33  {'algorithm': 'ball_tree', 'n_neighbors': 8, '...  \n",
       "51  {'algorithm': 'kd_tree', 'n_neighbors': 8, 'p'...  \n",
       "15  {'algorithm': 'brute', 'n_neighbors': 8, 'p': ...  \n",
       "49  {'algorithm': 'kd_tree', 'n_neighbors': 7, 'p'...  \n",
       "13  {'algorithm': 'brute', 'n_neighbors': 7, 'p': ...  \n",
       "31  {'algorithm': 'ball_tree', 'n_neighbors': 7, '...  \n",
       "35  {'algorithm': 'ball_tree', 'n_neighbors': 9, '...  \n",
       "17  {'algorithm': 'brute', 'n_neighbors': 9, 'p': ...  \n",
       "53  {'algorithm': 'kd_tree', 'n_neighbors': 9, 'p'...  "
      ]
     },
     "execution_count": 18,
     "metadata": {},
     "output_type": "execute_result"
    }
   ],
   "source": [
    "grid_search_report(clf.cv_results_)\n",
    "#p = grid_search_report(clf.cv_results_)[0:10]['params']\n",
    "#tmp = []\n",
    "#for i in p:\n",
    "    #tmp.append(i['leaf_size'])\n",
    "#plt.hist(tmp)"
   ]
  },
  {
   "cell_type": "code",
   "execution_count": 19,
   "id": "6c79de55",
   "metadata": {
    "ExecuteTime": {
     "end_time": "2022-06-16T16:59:50.454074Z",
     "start_time": "2022-06-16T16:59:50.289377Z"
    }
   },
   "outputs": [
    {
     "name": "stdout",
     "output_type": "stream",
     "text": [
      "Test: 0.903030303030303\n",
      "Train: 1.0\n"
     ]
    }
   ],
   "source": [
    "print('Test: '+ str(grid_search_report(clf.cv_results_).iloc[0]['mean_test_accuracy']))\n",
    "print('Train: '+ str(grid_search_report(clf.cv_results_).iloc[0]['mean_train_accuracy']))"
   ]
  },
  {
   "cell_type": "code",
   "execution_count": 20,
   "id": "784414a8",
   "metadata": {
    "ExecuteTime": {
     "end_time": "2022-06-16T16:59:50.505137Z",
     "start_time": "2022-06-16T16:59:50.482436Z"
    }
   },
   "outputs": [
    {
     "data": {
      "text/plain": [
       "{'algorithm': 'brute', 'n_neighbors': 1, 'p': 1, 'weights': 'distance'}"
      ]
     },
     "execution_count": 20,
     "metadata": {},
     "output_type": "execute_result"
    }
   ],
   "source": [
    "best_params = grid_search_report(clf.cv_results_).iloc[0]['params']\n",
    "best_params"
   ]
  },
  {
   "cell_type": "code",
   "execution_count": 21,
   "id": "0e3c9bf9",
   "metadata": {
    "ExecuteTime": {
     "end_time": "2022-06-16T16:59:50.534541Z",
     "start_time": "2022-06-16T16:59:50.521949Z"
    }
   },
   "outputs": [],
   "source": [
    "#best_params = {'algorithm': 'brute', 'weights': 'distance', 'n_neighbors': 1, 'p': 1}"
   ]
  },
  {
   "cell_type": "code",
   "execution_count": 22,
   "id": "014afcda",
   "metadata": {
    "ExecuteTime": {
     "end_time": "2022-06-16T16:59:50.621885Z",
     "start_time": "2022-06-16T16:59:50.540722Z"
    }
   },
   "outputs": [
    {
     "data": {
      "text/plain": [
       "KNeighborsClassifier(algorithm='brute', n_neighbors=1, p=1, weights='distance')"
      ]
     },
     "execution_count": 22,
     "metadata": {},
     "output_type": "execute_result"
    }
   ],
   "source": [
    "clf = KNeighborsClassifier(**best_params)\n",
    "clf.fit(train_x, train_y)"
   ]
  },
  {
   "cell_type": "code",
   "execution_count": 23,
   "id": "3f9f4ce5",
   "metadata": {
    "ExecuteTime": {
     "end_time": "2022-06-16T16:59:51.022178Z",
     "start_time": "2022-06-16T16:59:50.634185Z"
    }
   },
   "outputs": [
    {
     "name": "stdout",
     "output_type": "stream",
     "text": [
      "              precision    recall  f1-score   support\n",
      "\n",
      "         A1A       0.89      1.00      0.94        24\n",
      "     DIABETE       0.88      0.91      0.90        33\n",
      "          GS       1.00      1.00      1.00         6\n",
      "         MCM       1.00      1.00      1.00         5\n",
      "        NALD       1.00      0.43      0.60         7\n",
      "\n",
      "    accuracy                           0.91        75\n",
      "   macro avg       0.95      0.87      0.89        75\n",
      "weighted avg       0.91      0.91      0.90        75\n",
      "\n"
     ]
    }
   ],
   "source": [
    "print(classification_report(val_y, clf.predict(val_x)))"
   ]
  },
  {
   "cell_type": "markdown",
   "id": "1ccae3ef",
   "metadata": {},
   "source": [
    "### Feature selection\n",
    "\n",
    "This feature selection works in steps, at each step it tries to reduce the number of features recursively:\n",
    "   1. Select most important features using a random forest classifier (model.get_support())\n",
    "   2. Select most important features using recursive feature elimination (rfe.get_support())\n",
    "    \n",
    "Not necessarily the results are better after the step 2"
   ]
  },
  {
   "cell_type": "markdown",
   "id": "8f578749",
   "metadata": {},
   "source": [
    "#### Feature importance RandomForest"
   ]
  },
  {
   "cell_type": "code",
   "execution_count": 24,
   "id": "fabf67b1",
   "metadata": {
    "ExecuteTime": {
     "end_time": "2022-06-16T16:59:57.335111Z",
     "start_time": "2022-06-16T16:59:51.040291Z"
    }
   },
   "outputs": [
    {
     "name": "stdout",
     "output_type": "stream",
     "text": [
      "Optimal number of features : 989\n"
     ]
    },
    {
     "data": {
      "image/png": "[encoded data removed]",
      "text/plain": [
       "<Figure size 576x360 with 1 Axes>"
      ]
     },
     "metadata": {
      "needs_background": "light"
     },
     "output_type": "display_data"
    }
   ],
   "source": [
    "# Use RandomForestClassifier to select most important features\n",
    "\n",
    "rf_clf = RandomForestClassifier()\n",
    "rf_clf = rf_clf.fit(train_cv, target_cv)\n",
    "model = SelectFromModel(rf_clf, prefit=True)\n",
    "\n",
    "importances = rf_clf.feature_importances_\n",
    "indices = np.argsort(importances)[::-1]\n",
    "indices = indices[:2000]\n",
    "print('Optimal number of features :', model.get_support().sum())\n",
    "\n",
    "plt.figure(1, figsize=(8, 5))\n",
    "plt.title(\"Feature importances\")\n",
    "plt.xlabel(\"# of Features \")\n",
    "plt.ylabel(\"Importance Score\")\n",
    "plt.bar(range(2000), importances[indices])\n",
    "plt.show()"
   ]
  },
  {
   "cell_type": "code",
   "execution_count": 27,
   "id": "75ac87c2",
   "metadata": {
    "ExecuteTime": {
     "end_time": "2022-06-16T17:01:02.801437Z",
     "start_time": "2022-06-16T17:01:02.695422Z"
    }
   },
   "outputs": [],
   "source": [
    "rf_cols = list(compress(data_cols, model.get_support()))"
   ]
  },
  {
   "cell_type": "code",
   "execution_count": 28,
   "id": "c7d07c28",
   "metadata": {
    "ExecuteTime": {
     "end_time": "2022-06-16T17:01:03.853223Z",
     "start_time": "2022-06-16T17:01:03.843399Z"
    }
   },
   "outputs": [],
   "source": [
    "# To select most important features\n",
    "fs_train_cv_1 = train_cv[rf_cols]"
   ]
  },
  {
   "cell_type": "code",
   "execution_count": 29,
   "id": "e55f559c",
   "metadata": {
    "ExecuteTime": {
     "end_time": "2022-06-16T17:01:04.735415Z",
     "start_time": "2022-06-16T17:01:04.300504Z"
    }
   },
   "outputs": [],
   "source": [
    "cross_val_1 = cross_validate(KNeighborsClassifier(**best_params), fs_train_cv_1, target_cv, cv=cv, scoring=scoring, return_train_score=True)"
   ]
  },
  {
   "cell_type": "code",
   "execution_count": 30,
   "id": "2e194a8a",
   "metadata": {
    "ExecuteTime": {
     "end_time": "2022-06-16T17:01:04.828892Z",
     "start_time": "2022-06-16T17:01:04.822231Z"
    }
   },
   "outputs": [
    {
     "name": "stdout",
     "output_type": "stream",
     "text": [
      "Test score: 0.9398316498316498\n",
      "Train score: 1.0\n"
     ]
    }
   ],
   "source": [
    "print('Test score: '+str(cross_val_1['test_accuracy'].mean()))\n",
    "print('Train score: '+str(cross_val_1['train_accuracy'].mean()))"
   ]
  },
  {
   "cell_type": "markdown",
   "id": "14db460f",
   "metadata": {},
   "source": [
    "#### Recursive Feature Elimination"
   ]
  },
  {
   "cell_type": "code",
   "execution_count": 31,
   "id": "a30f0d77",
   "metadata": {
    "ExecuteTime": {
     "end_time": "2022-06-16T17:05:36.164556Z",
     "start_time": "2022-06-16T17:01:07.372879Z"
    }
   },
   "outputs": [
    {
     "name": "stdout",
     "output_type": "stream",
     "text": [
      "Optimal number of features : 144\n"
     ]
    }
   ],
   "source": [
    "rfecv = RFECV(estimator=RandomForestClassifier(), step=5, cv=StratifiedKFold(3), scoring='accuracy')\n",
    "rfecv.fit(fs_train_cv_1, target_cv)\n",
    "print('Optimal number of features :', rfecv.n_features_)"
   ]
  },
  {
   "cell_type": "code",
   "execution_count": 32,
   "id": "b60ff790",
   "metadata": {
    "ExecuteTime": {
     "end_time": "2022-06-16T17:05:36.546971Z",
     "start_time": "2022-06-16T17:05:36.174205Z"
    }
   },
   "outputs": [
    {
     "data": {
      "image/png": "[encoded data removed]",
      "text/plain": [
       "<Figure size 432x288 with 1 Axes>"
      ]
     },
     "metadata": {
      "needs_background": "light"
     },
     "output_type": "display_data"
    }
   ],
   "source": [
    "# Plot showing the Cross Validation score\n",
    "plt.figure()\n",
    "plt.xlabel(\"Number of features selected\")\n",
    "plt.ylabel(\"Cross validation score\")\n",
    "plt.plot(range(1, len(rfecv.cv_results_['mean_test_score']) + 1), rfecv.cv_results_['mean_test_score'])\n",
    "plt.show()"
   ]
  },
  {
   "cell_type": "code",
   "execution_count": 33,
   "id": "913695d2",
   "metadata": {
    "ExecuteTime": {
     "end_time": "2022-06-16T17:06:46.127656Z",
     "start_time": "2022-06-16T17:05:36.552983Z"
    }
   },
   "outputs": [],
   "source": [
    "rfe = RFE(estimator=RandomForestClassifier(), n_features_to_select=rfecv.n_features_, step=5)\n",
    "rfe = rfe.fit(fs_train_cv_1, target_cv)"
   ]
  },
  {
   "cell_type": "code",
   "execution_count": 34,
   "id": "bae6be0b",
   "metadata": {
    "ExecuteTime": {
     "end_time": "2022-06-16T17:06:46.149986Z",
     "start_time": "2022-06-16T17:06:46.133261Z"
    }
   },
   "outputs": [],
   "source": [
    "rfe_cols = list(compress(rf_cols, rfe.get_support()))"
   ]
  },
  {
   "cell_type": "code",
   "execution_count": 35,
   "id": "31e230b1",
   "metadata": {
    "ExecuteTime": {
     "end_time": "2022-06-16T17:06:46.180195Z",
     "start_time": "2022-06-16T17:06:46.162949Z"
    }
   },
   "outputs": [],
   "source": [
    "fs_train_cv_2 = fs_train_cv_1[rfe_cols]"
   ]
  },
  {
   "cell_type": "code",
   "execution_count": 36,
   "id": "58a00078",
   "metadata": {
    "ExecuteTime": {
     "end_time": "2022-06-16T17:06:46.301236Z",
     "start_time": "2022-06-16T17:06:46.185933Z"
    }
   },
   "outputs": [],
   "source": [
    "cross_val_2 = cross_validate(KNeighborsClassifier(**best_params), fs_train_cv_2, target_cv, cv=cv, scoring=scoring, return_train_score=True)\n"
   ]
  },
  {
   "cell_type": "code",
   "execution_count": 37,
   "id": "5f69fb6f",
   "metadata": {
    "ExecuteTime": {
     "end_time": "2022-06-16T17:06:46.321668Z",
     "start_time": "2022-06-16T17:06:46.309491Z"
    }
   },
   "outputs": [
    {
     "name": "stdout",
     "output_type": "stream",
     "text": [
      "Test score: 0.9498653198653199\n",
      "Train score: 1.0\n"
     ]
    }
   ],
   "source": [
    "print('Test score: '+str(cross_val_2['test_accuracy'].mean()))\n",
    "print('Train score: '+str(cross_val_2['train_accuracy'].mean()))"
   ]
  },
  {
   "cell_type": "markdown",
   "id": "90822fb8",
   "metadata": {},
   "source": [
    "#### Test best feature selection"
   ]
  },
  {
   "cell_type": "code",
   "execution_count": 38,
   "id": "6eb78f4f",
   "metadata": {
    "ExecuteTime": {
     "end_time": "2022-06-16T17:06:46.350543Z",
     "start_time": "2022-06-16T17:06:46.326208Z"
    }
   },
   "outputs": [
    {
     "data": {
      "text/plain": [
       "KNeighborsClassifier(algorithm='brute', n_neighbors=1, p=1, weights='distance')"
      ]
     },
     "execution_count": 38,
     "metadata": {},
     "output_type": "execute_result"
    }
   ],
   "source": [
    "clf = KNeighborsClassifier(**best_params)\n",
    "clf.fit(train_x[rfe_cols], train_y)"
   ]
  },
  {
   "cell_type": "code",
   "execution_count": 39,
   "id": "74d5701c",
   "metadata": {
    "ExecuteTime": {
     "end_time": "2022-06-16T17:06:46.407906Z",
     "start_time": "2022-06-16T17:06:46.361449Z"
    }
   },
   "outputs": [
    {
     "name": "stdout",
     "output_type": "stream",
     "text": [
      "              precision    recall  f1-score   support\n",
      "\n",
      "         A1A       0.96      1.00      0.98        24\n",
      "     DIABETE       0.94      0.97      0.96        33\n",
      "          GS       0.86      1.00      0.92         6\n",
      "         MCM       1.00      1.00      1.00         5\n",
      "        NALD       1.00      0.57      0.73         7\n",
      "\n",
      "    accuracy                           0.95        75\n",
      "   macro avg       0.95      0.91      0.92        75\n",
      "weighted avg       0.95      0.95      0.94        75\n",
      "\n"
     ]
    }
   ],
   "source": [
    "print(classification_report(val_y, clf.predict(val_x[rfe_cols])))"
   ]
  },
  {
   "cell_type": "markdown",
   "id": "9003e7cb",
   "metadata": {
    "pycharm": {
     "name": "#%% md\n"
    }
   },
   "source": [
    "## KMeans"
   ]
  },
  {
   "cell_type": "code",
   "execution_count": 12,
   "id": "43ef2f69",
   "metadata": {
    "ExecuteTime": {
     "end_time": "2022-06-14T11:09:37.313633Z",
     "start_time": "2022-06-14T11:09:31.892941Z"
    },
    "pycharm": {
     "name": "#%%\n"
    }
   },
   "outputs": [
    {
     "data": {
      "image/png": "[encoded data removed]",
      "text/plain": [
       "<Figure size 432x288 with 1 Axes>"
      ]
     },
     "metadata": {
      "needs_background": "light"
     },
     "output_type": "display_data"
    }
   ],
   "source": [
    "sse = []\n",
    "for k in range(2, 10):\n",
    "    kmeans = KMeans(n_clusters=k).fit(train_cv)\n",
    "    sse.append((k, kmeans.inertia_))\n",
    "\n",
    "plt.figure()\n",
    "kn = KneeLocator(*zip(*sse), curve='convex', direction='decreasing')\n",
    "plt.plot(*zip(*sse), '-o')\n",
    "plt.vlines(kn.knee, plt.ylim()[0], plt.ylim()[1], linestyles='dashed')\n",
    "plt.xlabel(\"Number of cluster\")\n",
    "plt.ylabel(\"SSE\")\n",
    "plt.show()"
   ]
  },
  {
   "cell_type": "code",
   "execution_count": 13,
   "id": "867b4f59",
   "metadata": {
    "ExecuteTime": {
     "end_time": "2022-06-14T11:09:43.896414Z",
     "start_time": "2022-06-14T11:09:43.375213Z"
    },
    "pycharm": {
     "name": "#%%\n"
    }
   },
   "outputs": [],
   "source": [
    "kmeans = KMeans(5).fit(train_cv)"
   ]
  },
  {
   "cell_type": "code",
   "execution_count": 14,
   "id": "93640716",
   "metadata": {
    "ExecuteTime": {
     "end_time": "2022-06-14T11:09:43.928739Z",
     "start_time": "2022-06-14T11:09:43.923398Z"
    },
    "pycharm": {
     "name": "#%%\n"
    }
   },
   "outputs": [],
   "source": [
    "kmeans_labels = kmeans.labels_"
   ]
  },
  {
   "cell_type": "code",
   "execution_count": 15,
   "id": "9b24ee08",
   "metadata": {
    "ExecuteTime": {
     "end_time": "2022-06-14T11:09:44.278718Z",
     "start_time": "2022-06-14T11:09:44.256061Z"
    },
    "pycharm": {
     "name": "#%%\n"
    }
   },
   "outputs": [
    {
     "data": {
      "text/plain": [
       "Counter({3: 30, 2: 159, 1: 84, 0: 7, 4: 19})"
      ]
     },
     "execution_count": 15,
     "metadata": {},
     "output_type": "execute_result"
    }
   ],
   "source": [
    "collections.Counter(kmeans_labels)"
   ]
  },
  {
   "cell_type": "code",
   "execution_count": 16,
   "id": "6372b73c",
   "metadata": {
    "ExecuteTime": {
     "end_time": "2022-06-14T11:09:44.650186Z",
     "start_time": "2022-06-14T11:09:44.638893Z"
    },
    "pycharm": {
     "name": "#%%\n"
    }
   },
   "outputs": [
    {
     "data": {
      "text/plain": [
       "DIABETE    132\n",
       "A1A         96\n",
       "NALD        28\n",
       "GS          22\n",
       "MCM         21\n",
       "Name: DISEASE, dtype: int64"
      ]
     },
     "execution_count": 16,
     "metadata": {},
     "output_type": "execute_result"
    }
   ],
   "source": [
    "target_cv.value_counts()"
   ]
  },
  {
   "cell_type": "code",
   "execution_count": 17,
   "id": "1226002b",
   "metadata": {
    "ExecuteTime": {
     "end_time": "2022-06-14T11:09:45.369032Z",
     "start_time": "2022-06-14T11:09:45.361676Z"
    },
    "pycharm": {
     "name": "#%%\n"
    }
   },
   "outputs": [],
   "source": [
    "translation_dict = {'3': 'DIABETE',\n",
    "             '1': 'A1A',\n",
    "             '0': 'NALD',\n",
    "             '4': 'GS',\n",
    "             '2': 'MCM'\n",
    "}\n",
    "\n",
    "kmeans_labels = [translation_dict[str(lab)] for lab in list(kmeans_labels)]"
   ]
  },
  {
   "cell_type": "code",
   "execution_count": 18,
   "id": "5064abf8",
   "metadata": {
    "ExecuteTime": {
     "end_time": "2022-06-14T11:09:45.893680Z",
     "start_time": "2022-06-14T11:09:45.871975Z"
    },
    "pycharm": {
     "name": "#%%\n"
    }
   },
   "outputs": [
    {
     "name": "stdout",
     "output_type": "stream",
     "text": [
      "              precision    recall  f1-score   support\n",
      "\n",
      "         A1A       0.99      0.86      0.92        96\n",
      "     DIABETE       0.97      0.22      0.36       132\n",
      "          GS       0.00      0.00      0.00        22\n",
      "         MCM       0.13      1.00      0.23        21\n",
      "        NALD       0.00      0.00      0.00        28\n",
      "\n",
      "    accuracy                           0.44       299\n",
      "   macro avg       0.42      0.42      0.30       299\n",
      "weighted avg       0.75      0.44      0.47       299\n",
      "\n"
     ]
    }
   ],
   "source": [
    "print(classification_report(target_cv, kmeans_labels))"
   ]
  },
  {
   "cell_type": "code",
   "execution_count": null,
   "id": "5f92ee20",
   "metadata": {
    "pycharm": {
     "name": "#%%\n"
    }
   },
   "outputs": [],
   "source": []
  }
 ],
 "metadata": {
  "kernelspec": {
   "display_name": "Python 3 (ipykernel)",
   "language": "python",
   "name": "python3"
  },
  "language_info": {
   "codemirror_mode": {
    "name": "ipython",
    "version": 3
   },
   "file_extension": ".py",
   "mimetype": "text/x-python",
   "name": "python",
   "nbconvert_exporter": "python",
   "pygments_lexer": "ipython3",
   "version": "3.10.2"
  }
 },
 "nbformat": 4,
 "nbformat_minor": 5
}
