{
 "cells": [
  {
   "cell_type": "markdown",
   "id": "ae2ba176",
   "metadata": {
    "pycharm": {
     "name": "#%% md\n"
    }
   },
   "source": [
    "# Decision Tree Classifier"
   ]
  },
  {
   "cell_type": "code",
   "execution_count": 2,
   "id": "756cfed2",
   "metadata": {
    "pycharm": {
     "name": "#%%\n"
    }
   },
   "outputs": [],
   "source": [
    "# adding the project root inside the python path\n",
    "import sys\n",
    "import os\n",
    "\n",
    "sys.path.insert(0, os.path.abspath('..'))"
   ]
  },
  {
   "cell_type": "code",
   "execution_count": 3,
   "id": "6d631aee",
   "metadata": {
    "pycharm": {
     "name": "#%%\n"
    }
   },
   "outputs": [],
   "source": [
    "# The path where the dataset are stored\n",
    "DATASET_PATH: str = \"../../dataset/first_disease_sel/\"\n",
    "DISEASE_COLNAME: str = 'DISEASE'"
   ]
  },
  {
   "cell_type": "markdown",
   "id": "9f30ec15",
   "metadata": {
    "pycharm": {
     "name": "#%% md\n"
    }
   },
   "source": [
    "## Executing the pipeline"
   ]
  },
  {
   "cell_type": "code",
   "execution_count": 4,
   "id": "d2c5f214",
   "metadata": {
    "pycharm": {
     "name": "#%%\n"
    }
   },
   "outputs": [
    {
     "name": "stderr",
     "output_type": "stream",
     "text": [
      "INFO:root:Pipeline already executed, found dataset inside /tmp/chl\n",
      "INFO:root:Splitting dataset\n",
      "INFO:root:Pipeline executed\n"
     ]
    }
   ],
   "source": [
    "from analysis.preprocess import PreprocessPipeline\n",
    "\n",
    "pipeline = PreprocessPipeline(\n",
    "    datasets_path=DATASET_PATH,\n",
    "    disease_col_name=DISEASE_COLNAME\n",
    ")\n",
    "pipeline.execute_pipeline()"
   ]
  },
  {
   "cell_type": "markdown",
   "id": "4ab377e0",
   "metadata": {
    "pycharm": {
     "name": "#%% md\n"
    }
   },
   "source": [
    "# Building the Decision Tree Model"
   ]
  },
  {
   "cell_type": "markdown",
   "id": "b0d460c2",
   "metadata": {
    "pycharm": {
     "name": "#%% md\n"
    }
   },
   "source": [
    "## Grid Search"
   ]
  },
  {
   "cell_type": "code",
   "execution_count": 5,
   "id": "ec3cc11e",
   "metadata": {
    "pycharm": {
     "name": "#%%\n"
    }
   },
   "outputs": [
    {
     "name": "stderr",
     "output_type": "stream",
     "text": [
      "INFO:root:Executing Grid Search for Decision Tree\n",
      "/home/federicosilvestri/Projects/Vedrai/chl-project/.venv/lib/python3.9/site-packages/sklearn/model_selection/_validation.py:378: FitFailedWarning: \n",
      "480 fits failed out of a total of 2400.\n",
      "The score on these train-test partitions for these parameters will be set to nan.\n",
      "If these failures are not expected, you can try to debug them by setting error_score='raise'.\n",
      "\n",
      "Below are more details about the failures:\n",
      "--------------------------------------------------------------------------------\n",
      "480 fits failed with the following error:\n",
      "Traceback (most recent call last):\n",
      "  File \"/home/federicosilvestri/Projects/Vedrai/chl-project/.venv/lib/python3.9/site-packages/sklearn/model_selection/_validation.py\", line 686, in _fit_and_score\n",
      "    estimator.fit(X_train, y_train, **fit_params)\n",
      "  File \"/home/federicosilvestri/Projects/Vedrai/chl-project/.venv/lib/python3.9/site-packages/sklearn/tree/_classes.py\", line 969, in fit\n",
      "    super().fit(\n",
      "  File \"/home/federicosilvestri/Projects/Vedrai/chl-project/.venv/lib/python3.9/site-packages/sklearn/tree/_classes.py\", line 247, in fit\n",
      "    check_scalar(\n",
      "  File \"/home/federicosilvestri/Projects/Vedrai/chl-project/.venv/lib/python3.9/site-packages/sklearn/utils/validation.py\", line 1480, in check_scalar\n",
      "    raise ValueError(\n",
      "ValueError: min_samples_leaf == 0, must be >= 1.\n",
      "\n",
      "  warnings.warn(some_fits_failed_message, FitFailedWarning)\n",
      "/home/federicosilvestri/Projects/Vedrai/chl-project/.venv/lib/python3.9/site-packages/sklearn/model_selection/_search.py:953: UserWarning: One or more of the test scores are non-finite: [       nan        nan        nan        nan        nan        nan\n",
      "        nan        nan        nan        nan        nan        nan\n",
      "        nan        nan        nan        nan 0.67542373 0.63169492\n",
      " 0.61514124 0.62548023 0.65248588 0.6219774  0.65903955 0.61564972\n",
      " 0.65570621 0.64214689 0.59853107 0.59870056 0.66903955 0.67214689\n",
      " 0.63564972 0.64898305 0.67214689 0.67570621 0.66576271 0.69570621\n",
      " 0.64576271 0.65536723 0.69242938 0.68898305 0.65548023 0.62864407\n",
      " 0.68231638 0.66887006 0.67553672 0.65858757 0.70214689 0.70581921\n",
      " 0.67559322 0.68892655 0.65892655 0.65570621 0.68898305 0.65915254\n",
      " 0.63853107 0.66248588 0.66225989 0.65237288 0.71576271 0.6520339\n",
      " 0.69536723 0.6320904  0.66898305 0.65237288 0.66570621 0.71581921\n",
      " 0.72564972 0.63553672 0.71248588 0.65570621 0.68237288 0.69225989\n",
      " 0.70564972 0.67559322 0.63531073 0.68553672 0.63548023 0.68903955\n",
      " 0.66231638 0.62231638        nan        nan        nan        nan\n",
      "        nan        nan        nan        nan        nan        nan\n",
      "        nan        nan        nan        nan        nan        nan\n",
      " 0.64870056 0.64564972 0.63887006 0.63214689 0.64542373 0.62870056\n",
      " 0.62180791 0.63892655 0.5919209  0.58508475 0.67225989 0.62564972\n",
      " 0.6419774  0.64214689 0.6020904  0.65531073 0.65870056 0.65887006\n",
      " 0.63548023 0.65881356 0.62531073 0.64214689 0.62548023 0.62231638\n",
      " 0.63186441 0.63847458 0.63548023 0.58864407 0.62870056 0.65536723\n",
      " 0.67231638 0.67220339 0.66559322 0.58508475 0.59214689 0.60864407\n",
      " 0.62525424 0.62514124 0.6419774  0.60870056 0.61881356 0.65254237\n",
      " 0.66898305 0.62564972 0.65231638 0.6519774  0.63220339 0.58864407\n",
      " 0.68903955 0.63186441 0.60186441 0.56559322 0.70265537 0.63875706\n",
      " 0.63231638 0.62559322 0.64553672 0.66531073 0.67548023 0.6020339\n",
      " 0.65214689 0.63220339 0.66214689 0.60214689        nan        nan\n",
      "        nan        nan        nan        nan        nan        nan\n",
      "        nan        nan        nan        nan        nan        nan\n",
      "        nan        nan 0.67237288 0.59514124 0.65887006 0.64531073\n",
      " 0.65231638 0.64864407 0.70898305 0.65881356 0.64570621 0.63542373\n",
      " 0.66237288 0.60858757 0.68576271 0.67892655 0.66875706 0.64858757\n",
      " 0.7260452  0.64542373 0.71881356 0.65898305 0.68909605 0.68553672\n",
      " 0.68220339 0.68536723 0.65548023 0.64915254 0.67225989 0.68581921\n",
      " 0.7259887  0.69237288 0.70564972 0.63903955 0.67581921 0.62259887\n",
      " 0.69881356 0.66903955 0.66553672 0.69581921 0.66254237 0.68909605\n",
      " 0.70576271 0.69581921 0.64180791 0.67875706 0.67932203 0.68542373\n",
      " 0.70570621 0.66564972 0.66909605 0.65576271 0.71237288 0.67225989\n",
      " 0.66881356 0.6920904  0.69237288 0.67881356 0.68576271 0.66898305\n",
      " 0.68237288 0.65564972 0.65887006 0.65564972 0.6419774  0.6820339\n",
      "        nan        nan        nan        nan        nan        nan\n",
      "        nan        nan        nan        nan        nan        nan\n",
      "        nan        nan        nan        nan 0.68909605 0.5920904\n",
      " 0.64542373 0.6020904  0.61553672 0.58542373 0.6520904  0.66542373\n",
      " 0.67576271 0.62548023 0.65564972 0.62220339 0.63225989 0.65887006\n",
      " 0.69553672 0.64903955 0.65531073 0.65576271 0.67564972 0.62864407\n",
      " 0.65903955 0.64225989 0.65553672 0.63548023 0.62870056 0.63220339\n",
      " 0.66898305 0.65548023 0.63525424 0.65864407 0.62536723 0.68237288\n",
      " 0.60847458 0.65220339 0.66553672 0.64548023 0.65542373 0.6320339\n",
      " 0.68220339 0.64887006 0.63180791 0.63237288 0.61519774 0.65564972\n",
      " 0.66242938 0.60542373 0.65909605 0.66559322 0.68231638 0.62214689\n",
      " 0.64559322 0.60892655 0.60225989 0.65898305 0.62186441 0.63214689\n",
      " 0.62531073 0.65242938 0.68898305 0.63881356 0.64870056 0.60237288\n",
      " 0.66536723 0.64875706        nan        nan        nan        nan\n",
      "        nan        nan        nan        nan        nan        nan\n",
      "        nan        nan        nan        nan        nan        nan\n",
      " 0.68932203 0.6859322  0.64892655 0.64237288 0.69248588 0.65875706\n",
      " 0.70237288 0.66937853 0.6720339  0.65214689 0.66875706 0.6819774\n",
      " 0.67587571 0.66559322 0.66536723 0.67214689 0.68892655 0.68570621\n",
      " 0.69254237 0.70920904 0.6719774  0.65576271 0.68909605 0.64225989\n",
      " 0.70214689 0.70570621 0.68570621 0.64214689 0.6860452  0.63881356\n",
      " 0.67853107 0.6859322  0.67903955 0.71926554 0.68564972 0.67553672\n",
      " 0.71903955 0.68542373 0.68576271 0.71576271 0.6759887  0.74231638\n",
      " 0.6620904  0.62864407 0.66576271 0.70254237 0.69903955 0.66564972\n",
      " 0.71881356 0.70909605 0.72920904 0.69231638 0.71909605 0.6619774\n",
      " 0.65553672 0.71909605 0.70248588 0.63875706 0.73915254 0.65903955\n",
      " 0.70214689 0.7160452  0.69242938 0.6720339         nan        nan\n",
      "        nan        nan        nan        nan        nan        nan\n",
      "        nan        nan        nan        nan        nan        nan\n",
      "        nan        nan 0.6359322  0.67553672 0.69570621 0.60875706\n",
      " 0.68225989 0.63536723 0.68242938 0.59898305 0.58898305 0.61536723\n",
      " 0.63225989 0.63214689 0.64564972 0.63548023 0.62564972 0.65531073\n",
      " 0.63858757 0.65932203 0.64237288 0.61525424 0.66881356 0.66559322\n",
      " 0.64564972 0.63559322 0.65858757 0.65559322 0.63870056 0.62881356\n",
      " 0.67553672 0.63875706 0.65559322 0.64531073 0.66548023 0.59858757\n",
      " 0.63887006 0.60542373 0.66898305 0.62903955 0.65903955 0.59870056\n",
      " 0.62559322 0.64542373 0.68909605 0.63525424 0.62531073 0.64892655\n",
      " 0.65892655 0.60180791 0.64898305 0.65881356 0.71225989 0.63881356\n",
      " 0.65214689 0.59881356 0.67225989 0.66231638 0.68265537 0.60514124\n",
      " 0.64903955 0.62186441 0.69887006 0.63536723 0.6419209  0.60186441]\n",
      "  warnings.warn(\n",
      "/home/federicosilvestri/Projects/Vedrai/chl-project/.venv/lib/python3.9/site-packages/sklearn/model_selection/_search.py:953: UserWarning: One or more of the train scores are non-finite: [       nan        nan        nan        nan        nan        nan\n",
      "        nan        nan        nan        nan        nan        nan\n",
      "        nan        nan        nan        nan 1.         1.\n",
      " 0.98159693 0.97742329 0.9715795  0.96069386 0.96990237 0.94398884\n",
      " 0.96152022 0.93479079 0.94314505 0.92725593 0.95151325 0.9030265\n",
      " 0.93396444 0.89130056 0.95400976 0.92894351 0.95902371 0.92892608\n",
      " 0.95065551 0.92810321 0.94565202 0.92475244 0.93394351 0.91806485\n",
      " 0.93228382 0.9097106  0.92892259 0.88879358 0.92892608 0.87455718\n",
      " 0.93312064 0.89548117 0.92976639 0.89968271 0.936447   0.90216527\n",
      " 0.92975941 0.89048117 0.92475244 0.89213389 0.91638773 0.89381102\n",
      " 0.91889121 0.87707462 0.91137378 0.8595258  0.90217922 0.86370642\n",
      " 0.9030265  0.85952232 0.89883891 0.84950139 0.90800209 0.86704672\n",
      " 0.9122106  0.85703278 0.90385635 0.86707113 0.90301255 0.85200139\n",
      " 0.90384937 0.8503417         nan        nan        nan        nan\n",
      "        nan        nan        nan        nan        nan        nan\n",
      "        nan        nan        nan        nan        nan        nan\n",
      " 1.         1.         0.98495467 0.96321827 0.96655509 0.93897838\n",
      " 0.9523431  0.92224198 0.948159   0.89465481 0.91471409 0.86790795\n",
      " 0.92223501 0.86536611 0.89045676 0.83862971 0.93561715 0.89380404\n",
      " 0.93143654 0.89296722 0.94230823 0.89883194 0.93729079 0.87789749\n",
      " 0.91138424 0.8645258  0.90970711 0.83779289 0.8912901  0.83611227\n",
      " 0.89297768 0.81188633 0.90217225 0.84112622 0.90383891 0.83027894\n",
      " 0.90552301 0.84282078 0.90804045 0.83611576 0.89883194 0.85116109\n",
      " 0.89547071 0.82272315 0.88628661 0.8060007  0.88211297 0.80269177\n",
      " 0.87289749 0.79432008 0.87208856 0.80519177 0.8821304  0.80270572\n",
      " 0.86956764 0.79264993 0.8570258  0.7943166  0.88211646 0.79768131\n",
      " 0.86122036 0.79012552 0.86371688 0.77759066        nan        nan\n",
      "        nan        nan        nan        nan        nan        nan\n",
      "        nan        nan        nan        nan        nan        nan\n",
      "        nan        nan 1.         1.         0.99163529 0.98829498\n",
      " 0.98578801 0.97574616 0.97576011 0.96487796 0.97575314 0.94148187\n",
      " 0.95902371 0.92559623 0.9623675  0.90132845 0.94230823 0.90970014\n",
      " 0.96989888 0.94733612 0.95986402 0.93811715 0.9598675  0.93394003\n",
      " 0.9556834  0.93729079 0.96320432 0.91973501 0.94897838 0.92391562\n",
      " 0.93812762 0.90216527 0.93814505 0.88379707 0.93980823 0.90134589\n",
      " 0.9439749  0.9097106  0.94314505 0.90552999 0.95233961 0.90467922\n",
      " 0.9464749  0.9122106  0.94732915 0.89214784 0.9423152  0.89631799\n",
      " 0.93224198 0.87540795 0.91973849 0.8687378  0.92140865 0.86789052\n",
      " 0.9147106  0.86454672 0.9188947  0.86957113 0.91720363 0.87122734\n",
      " 0.92808229 0.88461646 0.92474895 0.87793933 0.92058229 0.87040795\n",
      "        nan        nan        nan        nan        nan        nan\n",
      "        nan        nan        nan        nan        nan        nan\n",
      "        nan        nan        nan        nan 1.         1.\n",
      " 0.98996513 0.97490586 0.97658996 0.94732218 0.96739888 0.91137378\n",
      " 0.94482218 0.89380753 0.93810321 0.87208159 0.931447   0.86457113\n",
      " 0.90218619 0.84114365 0.95400628 0.9080265  0.94314854 0.90885983\n",
      " 0.95150976 0.89633891 0.933947   0.88880056 0.93813459 0.8562099\n",
      " 0.92223849 0.85785565 0.90717922 0.85284868 0.89715481 0.83948047\n",
      " 0.92641562 0.84030683 0.91722803 0.85117155 0.91806137 0.85200837\n",
      " 0.91806834 0.83778591 0.92391562 0.84283821 0.90468271 0.83277894\n",
      " 0.90466876 0.83277197 0.89381102 0.81104254 0.89048117 0.79680962\n",
      " 0.89464784 0.8035251  0.88545676 0.80687936 0.87372385 0.79845886\n",
      " 0.882106   0.81019177 0.88127266 0.81019526 0.88628661 0.79098326\n",
      " 0.8887901  0.77089958        nan        nan        nan        nan\n",
      "        nan        nan        nan        nan        nan        nan\n",
      "        nan        nan        nan        nan        nan        nan\n",
      " 1.         1.         0.99414226 0.98997211 0.98496513 0.97658996\n",
      " 0.98243026 0.96321827 0.97407601 0.94231172 0.95987796 0.93145397\n",
      " 0.95902022 0.93227336 0.95904812 0.89881799 0.96403766 0.9381311\n",
      " 0.96488494 0.94145746 0.96906206 0.94483612 0.9598675  0.93561715\n",
      " 0.95483961 0.91973152 0.94398536 0.91388424 0.95400976 0.90466876\n",
      " 0.93394351 0.89549512 0.93645049 0.91638424 0.94480823 0.90970711\n",
      " 0.94482566 0.90634589 0.94816248 0.90968968 0.93979428 0.91136681\n",
      " 0.94315202 0.89549861 0.94064505 0.89380404 0.93226987 0.87876918\n",
      " 0.91054045 0.87458856 0.92140865 0.87124826 0.92474547 0.87209554\n",
      " 0.92640865 0.87040446 0.92390865 0.86706067 0.91974895 0.86703975\n",
      " 0.91973501 0.87959902 0.92476639 0.86789749        nan        nan\n",
      "        nan        nan        nan        nan        nan        nan\n",
      "        nan        nan        nan        nan        nan        nan\n",
      "        nan        nan 1.         1.         0.98746165 0.96822176\n",
      " 0.97908996 0.93477336 0.96405509 0.93564505 0.95149233 0.88127615\n",
      " 0.93394003 0.89797768 0.90387029 0.83612971 0.90635286 0.83111227\n",
      " 0.95233612 0.89964435 0.95150628 0.90551604 0.95150976 0.91217922\n",
      " 0.94146444 0.88630056 0.93561715 0.86790446 0.91387727 0.86203278\n",
      " 0.92308926 0.84864365 0.88882497 0.82944909 0.91556137 0.84447699\n",
      " 0.90467922 0.83613319 0.91890865 0.83947001 0.91972455 0.84114714\n",
      " 0.92224198 0.84029986 0.91304742 0.82359135 0.9030265  0.82192817\n",
      " 0.88126918 0.8018689  0.88630056 0.78929219 0.88965132 0.80687936\n",
      " 0.88126918 0.81354951 0.89716876 0.80184449 0.88712692 0.79262901\n",
      " 0.8904742  0.80937936 0.90049512 0.80685844 0.88129358 0.79097978]\n",
      "  warnings.warn(\n",
      "INFO:root:Grid search terminated\n"
     ]
    },
    {
     "name": "stderr",
     "output_type": "stream",
     "text": [
      "INFO:root:Report of GridSearch\n",
      "INFO:root:     rank_test_accuracy  mean_test_accuracy  mean_train_accuracy  \\\n",
      "377                   1            0.742316             0.911367   \n",
      "394                   2            0.739153             0.919749   \n",
      "386                   3            0.729209             0.921409   \n",
      "192                   4            0.726045             0.969899   \n",
      "204                   5            0.725989             0.938128   \n",
      "..                  ...                 ...                  ...   \n",
      "175                 476                 NaN                  NaN   \n",
      "240                 477                 NaN                  NaN   \n",
      "241                 478                 NaN                  NaN   \n",
      "408                 479                 NaN                  NaN   \n",
      "0                   480                 NaN                  NaN   \n",
      "\n",
      "     std_test_accuracy  std_train_accuracy  mean_fit_time  \\\n",
      "377           0.040042            0.008975       0.045125   \n",
      "394           0.035705            0.013731       0.053084   \n",
      "386           0.055678            0.008897       0.055560   \n",
      "192           0.044231            0.010044       0.052960   \n",
      "204           0.060297            0.003119       0.055510   \n",
      "..                 ...                 ...            ...   \n",
      "175                NaN                 NaN       0.047330   \n",
      "240                NaN                 NaN       0.044414   \n",
      "241                NaN                 NaN       0.046222   \n",
      "408                NaN                 NaN       0.057696   \n",
      "0                  NaN                 NaN       0.056388   \n",
      "\n",
      "                                                params  \n",
      "377  {'criterion': 'log_loss', 'max_features': 'sqr...  \n",
      "394  {'criterion': 'log_loss', 'max_features': 'sqr...  \n",
      "386  {'criterion': 'log_loss', 'max_features': 'sqr...  \n",
      "192  {'criterion': 'entropy', 'max_features': 'sqrt...  \n",
      "204  {'criterion': 'entropy', 'max_features': 'sqrt...  \n",
      "..                                                 ...  \n",
      "175  {'criterion': 'entropy', 'max_features': 'sqrt...  \n",
      "240  {'criterion': 'entropy', 'max_features': 'log2...  \n",
      "241  {'criterion': 'entropy', 'max_features': 'log2...  \n",
      "408  {'criterion': 'log_loss', 'max_features': 'log...  \n",
      "0    {'criterion': 'gini', 'max_features': 'sqrt', ...  \n",
      "\n",
      "[480 rows x 7 columns]\n"
     ]
    }
   ],
   "source": [
    "from analysis.classifiers.dt import build_parameters\n",
    "\n",
    "hyper_params = build_parameters(\n",
    "    train_x=pipeline.train_x,\n",
    "    train_y=pipeline.train_y,\n",
    ")"
   ]
  },
  {
   "cell_type": "markdown",
   "id": "1bf0c813",
   "metadata": {
    "pycharm": {
     "name": "#%% md\n"
    }
   },
   "source": [
    "## Building the model"
   ]
  },
  {
   "cell_type": "code",
   "execution_count": 6,
   "id": "cec94d63",
   "metadata": {
    "pycharm": {
     "name": "#%%\n"
    }
   },
   "outputs": [
    {
     "data": {
      "text/html": [
       "<style>#sk-container-id-1 {color: black;background-color: white;}#sk-container-id-1 pre{padding: 0;}#sk-container-id-1 div.sk-toggleable {background-color: white;}#sk-container-id-1 label.sk-toggleable__label {cursor: pointer;display: block;width: 100%;margin-bottom: 0;padding: 0.3em;box-sizing: border-box;text-align: center;}#sk-container-id-1 label.sk-toggleable__label-arrow:before {content: \"▸\";float: left;margin-right: 0.25em;color: #696969;}#sk-container-id-1 label.sk-toggleable__label-arrow:hover:before {color: black;}#sk-container-id-1 div.sk-estimator:hover label.sk-toggleable__label-arrow:before {color: black;}#sk-container-id-1 div.sk-toggleable__content {max-height: 0;max-width: 0;overflow: hidden;text-align: left;background-color: #f0f8ff;}#sk-container-id-1 div.sk-toggleable__content pre {margin: 0.2em;color: black;border-radius: 0.25em;background-color: #f0f8ff;}#sk-container-id-1 input.sk-toggleable__control:checked~div.sk-toggleable__content {max-height: 200px;max-width: 100%;overflow: auto;}#sk-container-id-1 input.sk-toggleable__control:checked~label.sk-toggleable__label-arrow:before {content: \"▾\";}#sk-container-id-1 div.sk-estimator input.sk-toggleable__control:checked~label.sk-toggleable__label {background-color: #d4ebff;}#sk-container-id-1 div.sk-label input.sk-toggleable__control:checked~label.sk-toggleable__label {background-color: #d4ebff;}#sk-container-id-1 input.sk-hidden--visually {border: 0;clip: rect(1px 1px 1px 1px);clip: rect(1px, 1px, 1px, 1px);height: 1px;margin: -1px;overflow: hidden;padding: 0;position: absolute;width: 1px;}#sk-container-id-1 div.sk-estimator {font-family: monospace;background-color: #f0f8ff;border: 1px dotted black;border-radius: 0.25em;box-sizing: border-box;margin-bottom: 0.5em;}#sk-container-id-1 div.sk-estimator:hover {background-color: #d4ebff;}#sk-container-id-1 div.sk-parallel-item::after {content: \"\";width: 100%;border-bottom: 1px solid gray;flex-grow: 1;}#sk-container-id-1 div.sk-label:hover label.sk-toggleable__label {background-color: #d4ebff;}#sk-container-id-1 div.sk-serial::before {content: \"\";position: absolute;border-left: 1px solid gray;box-sizing: border-box;top: 0;bottom: 0;left: 50%;z-index: 0;}#sk-container-id-1 div.sk-serial {display: flex;flex-direction: column;align-items: center;background-color: white;padding-right: 0.2em;padding-left: 0.2em;position: relative;}#sk-container-id-1 div.sk-item {position: relative;z-index: 1;}#sk-container-id-1 div.sk-parallel {display: flex;align-items: stretch;justify-content: center;background-color: white;position: relative;}#sk-container-id-1 div.sk-item::before, #sk-container-id-1 div.sk-parallel-item::before {content: \"\";position: absolute;border-left: 1px solid gray;box-sizing: border-box;top: 0;bottom: 0;left: 50%;z-index: -1;}#sk-container-id-1 div.sk-parallel-item {display: flex;flex-direction: column;z-index: 1;position: relative;background-color: white;}#sk-container-id-1 div.sk-parallel-item:first-child::after {align-self: flex-end;width: 50%;}#sk-container-id-1 div.sk-parallel-item:last-child::after {align-self: flex-start;width: 50%;}#sk-container-id-1 div.sk-parallel-item:only-child::after {width: 0;}#sk-container-id-1 div.sk-dashed-wrapped {border: 1px dashed gray;margin: 0 0.4em 0.5em 0.4em;box-sizing: border-box;padding-bottom: 0.4em;background-color: white;}#sk-container-id-1 div.sk-label label {font-family: monospace;font-weight: bold;display: inline-block;line-height: 1.2em;}#sk-container-id-1 div.sk-label-container {text-align: center;}#sk-container-id-1 div.sk-container {/* jupyter's `normalize.less` sets `[hidden] { display: none; }` but bootstrap.min.css set `[hidden] { display: none !important; }` so we also need the `!important` here to be able to override the default hidden behavior on the sphinx rendered scikit-learn.org. See: https://github.com/scikit-learn/scikit-learn/issues/21755 */display: inline-block !important;position: relative;}#sk-container-id-1 div.sk-text-repr-fallback {display: none;}</style><div id=\"sk-container-id-1\" class=\"sk-top-container\"><div class=\"sk-text-repr-fallback\"><pre>DecisionTreeClassifier(criterion=&#x27;log_loss&#x27;, max_features=&#x27;sqrt&#x27;,\n",
       "                       min_samples_leaf=3, min_samples_split=6,\n",
       "                       splitter=&#x27;random&#x27;)</pre><b>In a Jupyter environment, please rerun this cell to show the HTML representation or trust the notebook. <br />On GitHub, the HTML representation is unable to render, please try loading this page with nbviewer.org.</b></div><div class=\"sk-container\" hidden><div class=\"sk-item\"><div class=\"sk-estimator sk-toggleable\"><input class=\"sk-toggleable__control sk-hidden--visually\" id=\"sk-estimator-id-1\" type=\"checkbox\" checked><label for=\"sk-estimator-id-1\" class=\"sk-toggleable__label sk-toggleable__label-arrow\">DecisionTreeClassifier</label><div class=\"sk-toggleable__content\"><pre>DecisionTreeClassifier(criterion=&#x27;log_loss&#x27;, max_features=&#x27;sqrt&#x27;,\n",
       "                       min_samples_leaf=3, min_samples_split=6,\n",
       "                       splitter=&#x27;random&#x27;)</pre></div></div></div></div></div>"
      ],
      "text/plain": [
       "DecisionTreeClassifier(criterion='log_loss', max_features='sqrt',\n",
       "                       min_samples_leaf=3, min_samples_split=6,\n",
       "                       splitter='random')"
      ]
     },
     "execution_count": 6,
     "metadata": {},
     "output_type": "execute_result"
    }
   ],
   "source": [
    "from analysis.classifiers.dt import build_model\n",
    "\n",
    "decision_tree = build_model(\n",
    "    train_x=pipeline.train_x,\n",
    "    train_y=pipeline.train_y,\n",
    "    best_params=hyper_params\n",
    ")\n",
    "decision_tree"
   ]
  },
  {
   "cell_type": "markdown",
   "id": "7623a11c",
   "metadata": {
    "pycharm": {
     "name": "#%% md\n"
    }
   },
   "source": [
    "## Evaluating the model"
   ]
  },
  {
   "cell_type": "code",
   "execution_count": 7,
   "id": "cf4e8158",
   "metadata": {
    "pycharm": {
     "name": "#%%\n"
    }
   },
   "outputs": [],
   "source": [
    "from analysis.classifiers.dt import evaluate_model"
   ]
  },
  {
   "cell_type": "code",
   "execution_count": 8,
   "id": "c9ea0824",
   "metadata": {
    "pycharm": {
     "name": "#%%\n"
    }
   },
   "outputs": [
    {
     "name": "stdout",
     "output_type": "stream",
     "text": [
      "              precision    recall  f1-score   support\n",
      "\n",
      "         A1A       1.00      0.91      0.95        32\n",
      "     DIABETE       0.74      0.66      0.70        44\n",
      "          GS       0.60      0.86      0.71         7\n",
      "         MCM       0.42      0.71      0.53         7\n",
      "        NALD       0.20      0.20      0.20        10\n",
      "\n",
      "    accuracy                           0.71       100\n",
      "   macro avg       0.59      0.67      0.62       100\n",
      "weighted avg       0.74      0.71      0.72       100\n",
      "\n"
     ]
    }
   ],
   "source": [
    "evaluation = evaluate_model(\n",
    "    decision_tree=decision_tree,\n",
    "    test_x=pipeline.test_x,\n",
    "    test_y=pipeline.test_y\n",
    ")\n",
    "print(evaluation)"
   ]
  },
  {
   "cell_type": "code",
   "execution_count": 9,
   "id": "da1fc8a2",
   "metadata": {
    "pycharm": {
     "name": "#%%\n"
    }
   },
   "outputs": [
    {
     "data": {
      "text/plain": [
       "<sklearn.metrics._plot.confusion_matrix.ConfusionMatrixDisplay at 0x7f7e3b244760>"
      ]
     },
     "execution_count": 9,
     "metadata": {},
     "output_type": "execute_result"
    },
    {
     "data": {
      "image/png": "[encoded data removed]",
      "text/plain": [
       "<Figure size 432x288 with 2 Axes>"
      ]
     },
     "metadata": {
      "needs_background": "light"
     },
     "output_type": "display_data"
    }
   ],
   "source": [
    "from sklearn.metrics import classification_report, ConfusionMatrixDisplay\n",
    "ConfusionMatrixDisplay.from_estimator(decision_tree, pipeline.test_x, pipeline.test_y)"
   ]
  },
  {
   "cell_type": "code",
   "execution_count": null,
   "id": "ada3cf1a",
   "metadata": {
    "pycharm": {
     "name": "#%%\n"
    }
   },
   "outputs": [],
   "source": []
  },
  {
   "cell_type": "code",
   "execution_count": null,
   "id": "17504635",
   "metadata": {
    "pycharm": {
     "name": "#%%\n"
    }
   },
   "outputs": [],
   "source": []
  }
 ],
 "metadata": {
  "kernelspec": {
   "display_name": "Python 3 (ipykernel)",
   "language": "python",
   "name": "python3"
  },
  "language_info": {
   "codemirror_mode": {
    "name": "ipython",
    "version": 3
   },
   "file_extension": ".py",
   "mimetype": "text/x-python",
   "name": "python",
   "nbconvert_exporter": "python",
   "pygments_lexer": "ipython3",
   "version": "3.9.7"
  }
 },
 "nbformat": 4,
 "nbformat_minor": 5
}
