{
 "cells": [
  {
   "cell_type": "markdown",
   "id": "ae2ba176",
   "metadata": {
    "pycharm": {
     "name": "#%% md\n"
    }
   },
   "source": [
    "# Decision Tree Classifier"
   ]
  },
  {
   "cell_type": "code",
   "execution_count": 1,
   "id": "c532ef53",
   "metadata": {
    "pycharm": {
     "name": "#%%\n"
    }
   },
   "outputs": [],
   "source": [
    "import numpy as np\n",
    "%load_ext autoreload\n",
    "%autoreload 2"
   ]
  },
  {
   "cell_type": "code",
   "execution_count": 2,
   "id": "756cfed2",
   "metadata": {
    "pycharm": {
     "name": "#%%\n"
    }
   },
   "outputs": [],
   "source": [
    "# adding the project root inside the python path\n",
    "import sys\n",
    "import os\n",
    "\n",
    "sys.path.insert(0, os.path.abspath('..'))"
   ]
  },
  {
   "cell_type": "code",
   "execution_count": 3,
   "id": "6d631aee",
   "metadata": {
    "pycharm": {
     "name": "#%%\n"
    }
   },
   "outputs": [],
   "source": [
    "# The path where the dataset are stored\n",
    "DATASET_PATH: str = \"../../dataset/first_disease_sel/\"\n",
    "DISEASE_COLNAME: str = 'DISEASE'"
   ]
  },
  {
   "cell_type": "markdown",
   "id": "9f30ec15",
   "metadata": {
    "pycharm": {
     "name": "#%% md\n"
    }
   },
   "source": [
    "## Executing the pipeline"
   ]
  },
  {
   "cell_type": "code",
   "execution_count": 4,
   "id": "e04b6914",
   "metadata": {
    "pycharm": {
     "name": "#%%\n"
    }
   },
   "outputs": [
    {
     "name": "stderr",
     "output_type": "stream",
     "text": [
      "INFO:root:Pipeline already executed, found dataset inside /tmp/chl\n",
      "INFO:root:Splitting dataset\n",
      "INFO:root:Pipeline executed\n"
     ]
    }
   ],
   "source": [
    "from analysis.preprocess import PreprocessPipeline\n",
    "\n",
    "pipeline = PreprocessPipeline(\n",
    "    datasets_path=DATASET_PATH,\n",
    "    disease_col_name=DISEASE_COLNAME\n",
    ")\n",
    "pipeline.execute_pipeline()"
   ]
  },
  {
   "cell_type": "markdown",
   "id": "73637183",
   "metadata": {
    "pycharm": {
     "name": "#%% md\n"
    }
   },
   "source": [
    "# Building the Decision Tree Model"
   ]
  },
  {
   "cell_type": "code",
   "execution_count": 5,
   "id": "4e6dc6ec",
   "metadata": {
    "pycharm": {
     "name": "#%%\n"
    }
   },
   "outputs": [
    {
     "name": "stderr",
     "output_type": "stream",
     "text": [
      "INFO:root:Executing Grid Search for Decision Tree\n",
      "INFO:root:Grid search terminated\n",
      "INFO:root:Report of GridSearch\n",
      "INFO:root:    rank_test_accuracy  mean_test_accuracy  mean_train_accuracy  \\\n",
      "9                    1            0.692203                  1.0   \n",
      "6                    2            0.689040                  1.0   \n",
      "8                    3            0.682260                  1.0   \n",
      "3                    4            0.662316                  1.0   \n",
      "4                    5            0.658757                  1.0   \n",
      "7                    6            0.655763                  1.0   \n",
      "10                   7            0.652147                  1.0   \n",
      "5                    8            0.651921                  1.0   \n",
      "0                    9            0.648870                  1.0   \n",
      "1                   10            0.639096                  1.0   \n",
      "2                   11            0.618757                  1.0   \n",
      "11                  12            0.598814                  1.0   \n",
      "\n",
      "    std_test_accuracy  std_train_accuracy  mean_fit_time  \\\n",
      "9            0.048521                 0.0       0.042827   \n",
      "6            0.066810                 0.0       0.051463   \n",
      "8            0.043514                 0.0       0.055184   \n",
      "3            0.048035                 0.0       0.049640   \n",
      "4            0.041167                 0.0       0.058860   \n",
      "7            0.047588                 0.0       0.045544   \n",
      "10           0.048901                 0.0       0.045966   \n",
      "5            0.043782                 0.0       0.049985   \n",
      "0            0.050229                 0.0       0.058297   \n",
      "1            0.075359                 0.0       0.051900   \n",
      "2            0.023938                 0.0       0.047703   \n",
      "11           0.062346                 0.0       0.041696   \n",
      "\n",
      "                                               params  \n",
      "9   {'criterion': 'log_loss', 'max_features': 'sqr...  \n",
      "6   {'criterion': 'entropy', 'max_features': 'log2...  \n",
      "8   {'criterion': 'log_loss', 'max_features': 'sqr...  \n",
      "3   {'criterion': 'gini', 'max_features': 'log2', ...  \n",
      "4   {'criterion': 'entropy', 'max_features': 'sqrt...  \n",
      "7   {'criterion': 'entropy', 'max_features': 'log2...  \n",
      "10  {'criterion': 'log_loss', 'max_features': 'log...  \n",
      "5   {'criterion': 'entropy', 'max_features': 'sqrt...  \n",
      "0   {'criterion': 'gini', 'max_features': 'sqrt', ...  \n",
      "1   {'criterion': 'gini', 'max_features': 'sqrt', ...  \n",
      "2   {'criterion': 'gini', 'max_features': 'log2', ...  \n",
      "11  {'criterion': 'log_loss', 'max_features': 'log...  \n",
      "INFO:root:Best parameters found for DecisionTree:\n",
      "INFO:root:{'criterion': 'log_loss', 'max_features': 'sqrt', 'splitter': 'random'}\n"
     ]
    }
   ],
   "source": [
    "from analysis.classifiers.dt import make_model\n",
    "\n",
    "decision_tree = make_model(\n",
    "    train_x=pipeline.train_x,\n",
    "    train_y=pipeline.train_y,\n",
    ")"
   ]
  },
  {
   "cell_type": "markdown",
   "id": "c2b368b5",
   "metadata": {
    "pycharm": {
     "name": "#%% md\n"
    }
   },
   "source": [
    "## Evaluating the model"
   ]
  },
  {
   "cell_type": "code",
   "execution_count": 6,
   "id": "252d6f30",
   "metadata": {
    "pycharm": {
     "name": "#%%\n"
    }
   },
   "outputs": [],
   "source": [
    "from analysis.classifiers.dt import evaluate_model"
   ]
  },
  {
   "cell_type": "code",
   "execution_count": 7,
   "id": "c8023889",
   "metadata": {
    "pycharm": {
     "name": "#%%\n"
    }
   },
   "outputs": [
    {
     "name": "stdout",
     "output_type": "stream",
     "text": [
      "              precision    recall  f1-score   support\n",
      "\n",
      "         A1A       0.88      0.94      0.91        32\n",
      "     DIABETE       0.74      0.70      0.72        44\n",
      "          GS       0.20      0.14      0.17         7\n",
      "         MCM       0.38      0.43      0.40         7\n",
      "        NALD       0.27      0.30      0.29        10\n",
      "\n",
      "    accuracy                           0.68       100\n",
      "   macro avg       0.49      0.50      0.50       100\n",
      "weighted avg       0.67      0.68      0.68       100\n",
      "\n"
     ]
    }
   ],
   "source": [
    "evaluation = evaluate_model(\n",
    "    decision_tree=decision_tree,\n",
    "    test_x=pipeline.test_x,\n",
    "    test_y=pipeline.test_y\n",
    ")\n",
    "print(evaluation)"
   ]
  },
  {
   "cell_type": "code",
   "execution_count": null,
   "id": "8f56ba08",
   "metadata": {},
   "outputs": [],
   "source": []
  }
 ],
 "metadata": {
  "kernelspec": {
   "display_name": "Python 3 (ipykernel)",
   "language": "python",
   "name": "python3"
  },
  "language_info": {
   "codemirror_mode": {
    "name": "ipython",
    "version": 3
   },
   "file_extension": ".py",
   "mimetype": "text/x-python",
   "name": "python",
   "nbconvert_exporter": "python",
   "pygments_lexer": "ipython3",
   "version": "3.9.7"
  }
 },
 "nbformat": 4,
 "nbformat_minor": 5
}
