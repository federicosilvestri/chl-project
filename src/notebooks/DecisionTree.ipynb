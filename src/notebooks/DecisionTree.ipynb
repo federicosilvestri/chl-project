{
 "cells": [
  {
   "cell_type": "markdown",
   "id": "ae2ba176",
   "metadata": {
    "pycharm": {
     "name": "#%% md\n"
    }
   },
   "source": [
    "# Decision Tree Classifier"
   ]
  },
  {
   "cell_type": "code",
   "execution_count": 4,
   "id": "c532ef53",
   "metadata": {
    "pycharm": {
     "name": "#%%\n"
    }
   },
   "outputs": [
    {
     "name": "stdout",
     "output_type": "stream",
     "text": [
      "The autoreload extension is already loaded. To reload it, use:\n",
      "  %reload_ext autoreload\n"
     ]
    }
   ],
   "source": [
    "import numpy as np\n",
    "%load_ext autoreload\n",
    "%autoreload 2"
   ]
  },
  {
   "cell_type": "code",
   "execution_count": 5,
   "id": "756cfed2",
   "metadata": {
    "pycharm": {
     "name": "#%%\n"
    }
   },
   "outputs": [],
   "source": [
    "# adding the project root inside the python path\n",
    "import sys\n",
    "import os\n",
    "\n",
    "sys.path.insert(0, os.path.abspath('..'))"
   ]
  },
  {
   "cell_type": "code",
   "execution_count": 6,
   "id": "6d631aee",
   "metadata": {
    "pycharm": {
     "name": "#%%\n"
    }
   },
   "outputs": [],
   "source": [
    "# The path where the dataset are stored\n",
    "DATASET_PATH: str = \"../../dataset/first_disease_sel/\"\n",
    "DISEASE_COLNAME: str = 'DISEASE'"
   ]
  },
  {
   "cell_type": "markdown",
   "id": "9f30ec15",
   "metadata": {
    "pycharm": {
     "name": "#%% md\n"
    }
   },
   "source": [
    "## Starting the pipeline"
   ]
  },
  {
   "cell_type": "code",
   "execution_count": 7,
   "id": "e04b6914",
   "metadata": {
    "pycharm": {
     "name": "#%%\n"
    }
   },
   "outputs": [
    {
     "name": "stderr",
     "output_type": "stream",
     "text": [
      "INFO:root:Starting pipeline\n",
      "INFO:root:Loading datasets\n",
      "INFO:root:Inspecting directory ../../dataset/first_disease_sel/GS\n",
      "INFO:root:Setting disease as GS\n",
      "INFO:root:Loading file ../../dataset/first_disease_sel/GS/eGSE117146m.csv\n",
      "INFO:root:Inspecting directory ../../dataset/first_disease_sel/MCM\n",
      "INFO:root:Setting disease as MCM\n",
      "INFO:root:Loading file ../../dataset/first_disease_sel/MCM/MCM_GSE149607.csv\n",
      "INFO:root:Inspecting directory ../../dataset/first_disease_sel/NALD\n",
      "INFO:root:Setting disease as NALD\n",
      "INFO:root:Loading file ../../dataset/first_disease_sel/NALD/eGSE85804m.csv\n",
      "INFO:root:Loading file ../../dataset/first_disease_sel/NALD/eGSE34308m.csv\n",
      "INFO:root:Loading file ../../dataset/first_disease_sel/NALD/eGSE117647m.csv\n",
      "INFO:root:Inspecting directory ../../dataset/first_disease_sel/A1A\n",
      "INFO:root:Setting disease as A1A\n",
      "INFO:root:Loading file ../../dataset/first_disease_sel/A1A/A1A_deficiency_GSE109516_pbmc.csv\n",
      "INFO:root:Inspecting directory ../../dataset/first_disease_sel/DIABETE\n",
      "INFO:root:Setting disease as DIABETE\n",
      "INFO:root:Loading file ../../dataset/first_disease_sel/DIABETE/eGSE54350m.csv\n",
      "INFO:root:Loading file ../../dataset/first_disease_sel/DIABETE/eGSE26887m.csv\n",
      "INFO:root:Loading file ../../dataset/first_disease_sel/DIABETE/eGSE174475m.csv\n",
      "INFO:root:Loading file ../../dataset/first_disease_sel/DIABETE/eGSE13760m.csv\n",
      "INFO:root:Loading file ../../dataset/first_disease_sel/DIABETE/eGSE38642m.csv\n",
      "INFO:root:Loading file ../../dataset/first_disease_sel/DIABETE/eGSE19790m.csv\n",
      "INFO:root:Loading file ../../dataset/first_disease_sel/DIABETE/eGSE179568m.csv\n",
      "INFO:root:Loading file ../../dataset/first_disease_sel/DIABETE/eGSE189849m.csv\n",
      "INFO:root:Loading file ../../dataset/first_disease_sel/DIABETE/eGSE25462m.csv\n",
      "INFO:root:Loading file ../../dataset/first_disease_sel/DIABETE/eGSE162622m.csv\n",
      "INFO:root:Loading file ../../dataset/first_disease_sel/DIABETE/eGSE27949m.csv\n",
      "INFO:root:Loading file ../../dataset/first_disease_sel/DIABETE/eGSE176230m.csv\n",
      "INFO:root:Load completed\n",
      "INFO:root:Load completed\n",
      "INFO:root:Load completed\n",
      "INFO:root:Load completed\n",
      "INFO:root:Load completed\n",
      "INFO:root:Load completed\n",
      "INFO:root:Load completed\n",
      "INFO:root:Load completed\n",
      "INFO:root:Load completed\n",
      "INFO:root:Load completed\n",
      "INFO:root:Load completed\n",
      "INFO:root:Load completed\n",
      "INFO:root:Load completed\n",
      "INFO:root:Load completed\n",
      "INFO:root:Load completed\n",
      "INFO:root:Load completed\n",
      "INFO:root:Load completed\n",
      "INFO:root:Load completed\n",
      "INFO:root:Datasets loading completed\n",
      "INFO:root:Computing column intersection\n",
      "INFO:root:Cleaning datasets from not-shared data\n",
      "INFO:root:Computing outlier detection\n",
      "INFO:root:Computing outlier detection on dataset...\n",
      "INFO:root:Computing outlier detection on dataset...\n",
      "INFO:root:Computing outlier detection on dataset...\n",
      "INFO:root:Computing outlier detection on dataset...\n",
      "INFO:root:Computing outlier detection on dataset...\n",
      "INFO:root:Computing outlier detection on dataset...\n",
      "INFO:root:Computing outlier detection on dataset...\n",
      "INFO:root:Computing outlier detection on dataset...\n",
      "INFO:root:Computing outlier detection on dataset...\n",
      "INFO:root:Computing outlier detection on dataset...\n",
      "INFO:root:Computing outlier detection on dataset...\n",
      "INFO:root:Computing outlier detection on dataset...\n",
      "INFO:root:Computing outlier detection on dataset...\n",
      "INFO:root:Computing outlier detection on dataset...\n",
      "INFO:root:Computing outlier detection on dataset...\n",
      "INFO:root:Computing outlier detection on dataset...\n",
      "INFO:root:Computing outlier detection on dataset...\n",
      "INFO:root:Computing outlier detection on dataset...\n",
      "INFO:root:Compute the scaling of data\n",
      "INFO:root:Building unique dataset\n",
      "INFO:root:Splitting dataset into test and train\n",
      "INFO:root:Pipeline executed\n",
      "INFO:root:Storing ds\n",
      "INFO:root:Storing dataset\n",
      "INFO:root:Saving entire dataset\n",
      "INFO:root:Saving dataset test\n",
      "INFO:root:Saving dataset train\n",
      "INFO:root:Dataset saved into /tmp/chl\n"
     ]
    }
   ],
   "source": [
    "from analysis.preprocess import PreprocessPipeline\n",
    "\n",
    "pipeline = PreprocessPipeline(datasets_path=DATASET_PATH, disease_col_name=DISEASE_COLNAME)\n",
    "pipeline.execute_pipeline(force_recompute=True)"
   ]
  },
  {
   "cell_type": "markdown",
   "id": "73637183",
   "metadata": {
    "pycharm": {
     "name": "#%% md\n"
    }
   },
   "source": [
    "# Building the Decision Tree Model"
   ]
  },
  {
   "cell_type": "code",
   "execution_count": 8,
   "id": "4e6dc6ec",
   "metadata": {
    "pycharm": {
     "name": "#%%\n"
    }
   },
   "outputs": [
    {
     "name": "stderr",
     "output_type": "stream",
     "text": [
      "INFO:root:Executing Grid Search for Decision Tree\n",
      "INFO:root:Grid search terminated\n",
      "INFO:root:Report of GridSearch\n",
      "INFO:root:    rank_test_accuracy  mean_test_accuracy  mean_train_accuracy  \\\n",
      "4                    1            0.719209                  1.0   \n",
      "5                    2            0.708927                  1.0   \n",
      "8                    3            0.685367                  1.0   \n",
      "9                    4            0.682429                  1.0   \n",
      "0                    5            0.652034                  1.0   \n",
      "6                    6            0.642373                  1.0   \n",
      "11                   7            0.642147                  1.0   \n",
      "10                   8            0.635537                  1.0   \n",
      "2                    9            0.628475                  1.0   \n",
      "7                   10            0.615537                  1.0   \n",
      "1                   11            0.615424                  1.0   \n",
      "3                   12            0.581977                  1.0   \n",
      "\n",
      "    std_test_accuracy  std_train_accuracy  mean_fit_time  \\\n",
      "4            0.037651                 0.0       0.060363   \n",
      "5            0.035208                 0.0       0.050921   \n",
      "8            0.082393                 0.0       0.057951   \n",
      "9            0.059829                 0.0       0.045093   \n",
      "0            0.042581                 0.0       0.052670   \n",
      "6            0.047569                 0.0       0.052553   \n",
      "11           0.058222                 0.0       0.043107   \n",
      "10           0.066530                 0.0       0.047941   \n",
      "2            0.059330                 0.0       0.057053   \n",
      "7            0.079602                 0.0       0.054105   \n",
      "1            0.038991                 0.0       0.051474   \n",
      "3            0.066382                 0.0       0.049140   \n",
      "\n",
      "                                               params  \n",
      "4   {'criterion': 'entropy', 'max_features': 'sqrt...  \n",
      "5   {'criterion': 'entropy', 'max_features': 'sqrt...  \n",
      "8   {'criterion': 'log_loss', 'max_features': 'sqr...  \n",
      "9   {'criterion': 'log_loss', 'max_features': 'sqr...  \n",
      "0   {'criterion': 'gini', 'max_features': 'sqrt', ...  \n",
      "6   {'criterion': 'entropy', 'max_features': 'log2...  \n",
      "11  {'criterion': 'log_loss', 'max_features': 'log...  \n",
      "10  {'criterion': 'log_loss', 'max_features': 'log...  \n",
      "2   {'criterion': 'gini', 'max_features': 'log2', ...  \n",
      "7   {'criterion': 'entropy', 'max_features': 'log2...  \n",
      "1   {'criterion': 'gini', 'max_features': 'sqrt', ...  \n",
      "3   {'criterion': 'gini', 'max_features': 'log2', ...  \n",
      "INFO:root:Best parameters found for DecisionTree:\n",
      "INFO:root:{'criterion': 'entropy', 'max_features': 'sqrt', 'splitter': 'best'}\n"
     ]
    }
   ],
   "source": [
    "from analysis.classifiers.dt import make_model\n",
    "\n",
    "decision_tree = make_model(\n",
    "    train_dataset=pipeline.train_set,\n",
    "    disease_colname=DISEASE_COLNAME\n",
    ")"
   ]
  },
  {
   "cell_type": "markdown",
   "source": [
    "## Evaluating the model"
   ],
   "metadata": {
    "collapsed": false,
    "pycharm": {
     "name": "#%% md\n"
    }
   }
  },
  {
   "cell_type": "code",
   "execution_count": null,
   "outputs": [],
   "source": [
    "from analysis.classifiers.dt import evaluate_model"
   ],
   "metadata": {
    "collapsed": false,
    "pycharm": {
     "name": "#%%\n"
    }
   }
  },
  {
   "cell_type": "code",
   "execution_count": null,
   "outputs": [],
   "source": [
    "evaluation = evaluate_model(\n",
    "    decision_tree=decision_tree,\n",
    "    test_dataset=pipeline.test_set,\n",
    "    disease_colname=DISEASE_COLNAME\n",
    ")\n",
    "print(evaluation)"
   ],
   "metadata": {
    "collapsed": false,
    "pycharm": {
     "name": "#%%\n"
    }
   }
  },
  {
   "cell_type": "code",
   "execution_count": 12,
   "id": "7cc5ef5e",
   "metadata": {},
   "outputs": [
    {
     "name": "stdout",
     "output_type": "stream",
     "text": [
      "              precision    recall  f1-score   support\n",
      "\n",
      "         A1A       0.91      0.94      0.92        32\n",
      "     DIABETE       0.62      0.57      0.60        44\n",
      "          GS       0.33      0.43      0.38         7\n",
      "         MCM       0.44      0.57      0.50         7\n",
      "        NALD       0.22      0.20      0.21        10\n",
      "\n",
      "    accuracy                           0.64       100\n",
      "   macro avg       0.51      0.54      0.52       100\n",
      "weighted avg       0.64      0.64      0.64       100\n",
      "\n"
     ]
    }
   ],
   "source": [
    "evaluation = evaluate_model(\n",
    "    decision_tree=decision_tree,\n",
    "    test_dataset=pipeline.test_set,\n",
    "    disease_colname=DISEASE_COLNAME\n",
    ")\n",
    "print(evaluation)"
   ]
  },
  {
   "cell_type": "code",
   "execution_count": null,
   "id": "8f56ba08",
   "metadata": {},
   "outputs": [],
   "source": []
  }
 ],
 "metadata": {
  "kernelspec": {
   "display_name": "Python 3 (ipykernel)",
   "language": "python",
   "name": "python3"
  },
  "language_info": {
   "codemirror_mode": {
    "name": "ipython",
    "version": 3
   },
   "file_extension": ".py",
   "mimetype": "text/x-python",
   "name": "python",
   "nbconvert_exporter": "python",
   "pygments_lexer": "ipython3",
   "version": "3.9.7"
  }
 },
 "nbformat": 4,
 "nbformat_minor": 5
}