{
 "cells": [
  {
   "cell_type": "markdown",
   "id": "ae2ba176",
   "metadata": {
    "pycharm": {
     "name": "#%% md\n"
    }
   },
   "source": [
    "# Decision Tree Classifier"
   ]
  },
  {
   "cell_type": "code",
   "execution_count": 41,
   "outputs": [
    {
     "name": "stdout",
     "output_type": "stream",
     "text": [
      "The autoreload extension is already loaded. To reload it, use:\n",
      "  %reload_ext autoreload\n"
     ]
    }
   ],
   "source": [
    "import numpy as np\n",
    "%load_ext autoreload\n",
    "%autoreload 2"
   ],
   "metadata": {
    "collapsed": false,
    "pycharm": {
     "name": "#%%\n"
    }
   }
  },
  {
   "cell_type": "code",
   "execution_count": 42,
   "id": "756cfed2",
   "metadata": {
    "pycharm": {
     "name": "#%%\n"
    }
   },
   "outputs": [],
   "source": [
    "# adding the project root inside the python path\n",
    "import sys\n",
    "import os\n",
    "\n",
    "sys.path.insert(0, os.path.abspath('..'))"
   ]
  },
  {
   "cell_type": "code",
   "execution_count": 43,
   "id": "6d631aee",
   "metadata": {
    "pycharm": {
     "name": "#%%\n"
    }
   },
   "outputs": [],
   "source": [
    "# The path where the dataset are stored\n",
    "DATASET_PATH: str = \"../../dataset/first_disease_sel/\"\n",
    "DISEASE_COLNAME: str = 'DISEASE'"
   ]
  },
  {
   "cell_type": "markdown",
   "id": "9f30ec15",
   "metadata": {
    "pycharm": {
     "name": "#%% md\n"
    }
   },
   "source": [
    "## Starting the pipeline"
   ]
  },
  {
   "cell_type": "code",
   "execution_count": 44,
   "id": "e04b6914",
   "metadata": {
    "pycharm": {
     "name": "#%%\n"
    }
   },
   "outputs": [
    {
     "name": "stderr",
     "output_type": "stream",
     "text": [
      "INFO:root:Starting pipeline\n",
      "INFO:root:Loading datasets\n",
      "INFO:root:Inspecting directory ../../dataset/first_disease_sel/GS\n",
      "INFO:root:Setting disease as GS\n",
      "INFO:root:Loading file ../../dataset/first_disease_sel/GS/eGSE117146m.csv\n",
      "INFO:root:Inspecting directory ../../dataset/first_disease_sel/MCM\n",
      "INFO:root:Setting disease as MCM\n",
      "INFO:root:Loading file ../../dataset/first_disease_sel/MCM/MCM_GSE149607.csv\n",
      "INFO:root:Inspecting directory ../../dataset/first_disease_sel/NALD\n",
      "INFO:root:Setting disease as NALD\n",
      "INFO:root:Loading file ../../dataset/first_disease_sel/NALD/eGSE85804m.csv\n",
      "INFO:root:Loading file ../../dataset/first_disease_sel/NALD/eGSE34308m.csv\n",
      "INFO:root:Loading file ../../dataset/first_disease_sel/NALD/eGSE117647m.csv\n",
      "INFO:root:Inspecting directory ../../dataset/first_disease_sel/A1A\n",
      "INFO:root:Setting disease as A1A\n",
      "INFO:root:Loading file ../../dataset/first_disease_sel/A1A/A1A_deficiency_GSE109516_pbmc.csv\n",
      "INFO:root:Inspecting directory ../../dataset/first_disease_sel/DIABETE\n",
      "INFO:root:Setting disease as DIABETE\n",
      "INFO:root:Loading file ../../dataset/first_disease_sel/DIABETE/eGSE54350m.csv\n",
      "INFO:root:Loading file ../../dataset/first_disease_sel/DIABETE/eGSE26887m.csv\n",
      "INFO:root:Loading file ../../dataset/first_disease_sel/DIABETE/eGSE174475m.csv\n",
      "INFO:root:Loading file ../../dataset/first_disease_sel/DIABETE/eGSE13760m.csv\n",
      "INFO:root:Loading file ../../dataset/first_disease_sel/DIABETE/eGSE38642m.csv\n",
      "INFO:root:Loading file ../../dataset/first_disease_sel/DIABETE/eGSE19790m.csv\n",
      "INFO:root:Loading file ../../dataset/first_disease_sel/DIABETE/eGSE179568m.csv\n",
      "INFO:root:Loading file ../../dataset/first_disease_sel/DIABETE/eGSE189849m.csv\n",
      "INFO:root:Loading file ../../dataset/first_disease_sel/DIABETE/eGSE25462m.csv\n",
      "INFO:root:Loading file ../../dataset/first_disease_sel/DIABETE/eGSE162622m.csv\n",
      "INFO:root:Loading file ../../dataset/first_disease_sel/DIABETE/eGSE27949m.csv\n",
      "INFO:root:Loading file ../../dataset/first_disease_sel/DIABETE/eGSE176230m.csv\n",
      "INFO:root:Load completed\n",
      "INFO:root:Load completed\n",
      "INFO:root:Load completed\n",
      "INFO:root:Load completed\n",
      "INFO:root:Load completed\n",
      "INFO:root:Load completed\n",
      "INFO:root:Load completed\n",
      "INFO:root:Load completed\n",
      "INFO:root:Load completed\n",
      "INFO:root:Load completed\n",
      "INFO:root:Load completed\n",
      "INFO:root:Load completed\n",
      "INFO:root:Load completed\n",
      "INFO:root:Load completed\n",
      "INFO:root:Load completed\n",
      "INFO:root:Load completed\n",
      "INFO:root:Load completed\n",
      "INFO:root:Load completed\n",
      "INFO:root:Datasets loading completed\n",
      "INFO:root:Computing column intersection\n",
      "INFO:root:Cleaning datasets from not-shared data\n",
      "INFO:root:Computing outlier detection\n",
      "INFO:root:Computing outlier detection on dataset...\n",
      "INFO:root:Computing outlier detection on dataset...\n",
      "INFO:root:Computing outlier detection on dataset...\n",
      "INFO:root:Computing outlier detection on dataset...\n",
      "INFO:root:Computing outlier detection on dataset...\n",
      "INFO:root:Computing outlier detection on dataset...\n",
      "INFO:root:Computing outlier detection on dataset...\n",
      "INFO:root:Computing outlier detection on dataset...\n",
      "INFO:root:Computing outlier detection on dataset...\n",
      "INFO:root:Computing outlier detection on dataset...\n",
      "INFO:root:Computing outlier detection on dataset...\n",
      "INFO:root:Computing outlier detection on dataset...\n",
      "INFO:root:Computing outlier detection on dataset...\n",
      "INFO:root:Computing outlier detection on dataset...\n",
      "INFO:root:Computing outlier detection on dataset...\n",
      "INFO:root:Computing outlier detection on dataset...\n",
      "INFO:root:Computing outlier detection on dataset...\n",
      "INFO:root:Computing outlier detection on dataset...\n",
      "INFO:root:Compute the scaling of data\n",
      "INFO:root:Building unique dataset\n",
      "INFO:root:Splitting dataset into test and train\n",
      "INFO:root:Pipeline executed\n",
      "INFO:root:Storing ds\n",
      "INFO:root:Storing dataset\n",
      "INFO:root:Saving entire dataset\n",
      "INFO:root:Saving dataset test\n",
      "INFO:root:Saving dataset train\n",
      "INFO:root:Dataset saved into /tmp/chl\n"
     ]
    }
   ],
   "source": [
    "from analysis.preprocess import PreprocessPipeline\n",
    "\n",
    "pipeline = PreprocessPipeline(datasets_path=DATASET_PATH, disease_col_name=DISEASE_COLNAME)\n",
    "pipeline.execute_pipeline(force_recompute=True)"
   ]
  },
  {
   "cell_type": "markdown",
   "id": "2d12fe5e",
   "metadata": {
    "pycharm": {
     "name": "#%% md\n"
    }
   },
   "source": [
    "## Inspecting the dataset we have built"
   ]
  },
  {
   "cell_type": "code",
   "execution_count": 5,
   "id": "b854e80b",
   "metadata": {
    "pycharm": {
     "name": "#%%\n"
    }
   },
   "outputs": [
    {
     "name": "stdout",
     "output_type": "stream",
     "text": [
      "Train DS shape (299, 4602)\n",
      "Test DS shape (100, 4602)\n"
     ]
    },
    {
     "data": {
      "text/plain": "                THEM6     LRCH3      EMP3     BACE1     MECOM      HEY1  \\\nDIABETE_80   0.620290  0.059441  0.521277  0.651639  0.487069  0.291667   \nMCM_24       0.578108  0.934587  0.124425  0.724288  0.785330  0.612562   \nDIABETE_117  0.325345  0.359597  0.410920  0.386558  0.822021  0.431340   \nA1A_39       0.115685  0.623519  0.108385  0.476984  0.177652  0.334364   \nGS_13        0.527060  0.547211  0.049552  0.987860  0.335767  0.951435   \n...               ...       ...       ...       ...       ...       ...   \nDIABETE_30   0.542751  0.416667  0.725768  0.679012  0.496689  0.615108   \nMCM_20       0.434244  0.734991  0.812388  0.472825  0.365695  0.473242   \nA1A_84       0.195141  0.745189  0.209474  0.323790  0.073676  0.231938   \nDIABETE_37   0.724907  0.216667  0.846336  0.753086  0.685430  0.543165   \nA1A_111      0.379495  0.788712  0.333375  0.341184  0.098006  0.000000   \n\n              CTDNEP1     KIF1B   GALNT11    ZNF75D  ...      CPOX       FST  \\\nDIABETE_80   0.367601  0.254658  0.485356  0.718830  ...  0.150472  0.000000   \nMCM_24       0.735189  0.695082  0.615750  0.290716  ...  0.285329  0.369730   \nDIABETE_117  0.432444  0.661756  0.578084  0.364746  ...  0.277087  0.630112   \nA1A_39       0.092554  0.461684  0.454631  0.550013  ...  0.397106  0.047939   \nGS_13        0.644609  0.697937  0.238370  0.542026  ...  0.516340  0.183675   \n...               ...       ...       ...       ...  ...       ...       ...   \nDIABETE_30   0.439560  0.529412  0.692308  0.300971  ...  0.232044  0.481848   \nMCM_20       0.189573  0.550290  0.784009  0.278576  ...  0.481948  0.440288   \nA1A_84       0.266692  0.458932  0.609652  0.328510  ...  0.267758  0.034018   \nDIABETE_37   0.769231  0.305882  0.326923  0.339806  ...  0.364641  0.072607   \nA1A_111      0.413965  1.000000  0.986168  0.380467  ...  0.281488  0.024788   \n\n              DENND1A    PDLIM7      HEXA      RHOB      RNF6     CTBP1  \\\nDIABETE_80   0.504098  0.297297  0.733152  0.369865  0.380090  0.402464   \nMCM_24       0.829310  0.201783  0.668518  0.167614  0.283751  0.368374   \nDIABETE_117  0.501568  0.514458  1.000000  0.436902  0.507504  0.617611   \nA1A_39       0.878667  0.195274  0.180170  0.156603  0.787521  0.098047   \nGS_13        0.149159  0.721127  0.617795  0.751385  0.455786  0.060050   \n...               ...       ...       ...       ...       ...       ...   \nDIABETE_30   0.490741  0.629108  0.300000  0.743590  0.635514  0.464286   \nMCM_20       0.512212  0.748510  1.000000  0.373996  0.372025  0.104247   \nA1A_84       0.823018  0.353656  0.287921  0.179384  0.566963  0.206276   \nDIABETE_37   0.814815  0.910798  0.318750  0.637821  0.271028  0.794643   \nA1A_111      1.000000  0.289873  0.565184  0.372064  0.155042  0.809935   \n\n               ZNF682     HDAC5  \nDIABETE_80   0.052270  0.136833  \nMCM_24       0.673551  0.518351  \nDIABETE_117  0.390654  1.000000  \nA1A_39       0.101160  0.231414  \nGS_13        0.675331  0.886771  \n...               ...       ...  \nDIABETE_30   0.394872  0.506024  \nMCM_20       0.666289  0.881041  \nA1A_84       0.382937  0.139778  \nDIABETE_37   0.651282  0.692771  \nA1A_111      0.172692  0.410782  \n\n[299 rows x 4602 columns]",
      "text/html": "<div>\n<style scoped>\n    .dataframe tbody tr th:only-of-type {\n        vertical-align: middle;\n    }\n\n    .dataframe tbody tr th {\n        vertical-align: top;\n    }\n\n    .dataframe thead th {\n        text-align: right;\n    }\n</style>\n<table border=\"1\" class=\"dataframe\">\n  <thead>\n    <tr style=\"text-align: right;\">\n      <th></th>\n      <th>THEM6</th>\n      <th>LRCH3</th>\n      <th>EMP3</th>\n      <th>BACE1</th>\n      <th>MECOM</th>\n      <th>HEY1</th>\n      <th>CTDNEP1</th>\n      <th>KIF1B</th>\n      <th>GALNT11</th>\n      <th>ZNF75D</th>\n      <th>...</th>\n      <th>CPOX</th>\n      <th>FST</th>\n      <th>DENND1A</th>\n      <th>PDLIM7</th>\n      <th>HEXA</th>\n      <th>RHOB</th>\n      <th>RNF6</th>\n      <th>CTBP1</th>\n      <th>ZNF682</th>\n      <th>HDAC5</th>\n    </tr>\n  </thead>\n  <tbody>\n    <tr>\n      <th>DIABETE_80</th>\n      <td>0.620290</td>\n      <td>0.059441</td>\n      <td>0.521277</td>\n      <td>0.651639</td>\n      <td>0.487069</td>\n      <td>0.291667</td>\n      <td>0.367601</td>\n      <td>0.254658</td>\n      <td>0.485356</td>\n      <td>0.718830</td>\n      <td>...</td>\n      <td>0.150472</td>\n      <td>0.000000</td>\n      <td>0.504098</td>\n      <td>0.297297</td>\n      <td>0.733152</td>\n      <td>0.369865</td>\n      <td>0.380090</td>\n      <td>0.402464</td>\n      <td>0.052270</td>\n      <td>0.136833</td>\n    </tr>\n    <tr>\n      <th>MCM_24</th>\n      <td>0.578108</td>\n      <td>0.934587</td>\n      <td>0.124425</td>\n      <td>0.724288</td>\n      <td>0.785330</td>\n      <td>0.612562</td>\n      <td>0.735189</td>\n      <td>0.695082</td>\n      <td>0.615750</td>\n      <td>0.290716</td>\n      <td>...</td>\n      <td>0.285329</td>\n      <td>0.369730</td>\n      <td>0.829310</td>\n      <td>0.201783</td>\n      <td>0.668518</td>\n      <td>0.167614</td>\n      <td>0.283751</td>\n      <td>0.368374</td>\n      <td>0.673551</td>\n      <td>0.518351</td>\n    </tr>\n    <tr>\n      <th>DIABETE_117</th>\n      <td>0.325345</td>\n      <td>0.359597</td>\n      <td>0.410920</td>\n      <td>0.386558</td>\n      <td>0.822021</td>\n      <td>0.431340</td>\n      <td>0.432444</td>\n      <td>0.661756</td>\n      <td>0.578084</td>\n      <td>0.364746</td>\n      <td>...</td>\n      <td>0.277087</td>\n      <td>0.630112</td>\n      <td>0.501568</td>\n      <td>0.514458</td>\n      <td>1.000000</td>\n      <td>0.436902</td>\n      <td>0.507504</td>\n      <td>0.617611</td>\n      <td>0.390654</td>\n      <td>1.000000</td>\n    </tr>\n    <tr>\n      <th>A1A_39</th>\n      <td>0.115685</td>\n      <td>0.623519</td>\n      <td>0.108385</td>\n      <td>0.476984</td>\n      <td>0.177652</td>\n      <td>0.334364</td>\n      <td>0.092554</td>\n      <td>0.461684</td>\n      <td>0.454631</td>\n      <td>0.550013</td>\n      <td>...</td>\n      <td>0.397106</td>\n      <td>0.047939</td>\n      <td>0.878667</td>\n      <td>0.195274</td>\n      <td>0.180170</td>\n      <td>0.156603</td>\n      <td>0.787521</td>\n      <td>0.098047</td>\n      <td>0.101160</td>\n      <td>0.231414</td>\n    </tr>\n    <tr>\n      <th>GS_13</th>\n      <td>0.527060</td>\n      <td>0.547211</td>\n      <td>0.049552</td>\n      <td>0.987860</td>\n      <td>0.335767</td>\n      <td>0.951435</td>\n      <td>0.644609</td>\n      <td>0.697937</td>\n      <td>0.238370</td>\n      <td>0.542026</td>\n      <td>...</td>\n      <td>0.516340</td>\n      <td>0.183675</td>\n      <td>0.149159</td>\n      <td>0.721127</td>\n      <td>0.617795</td>\n      <td>0.751385</td>\n      <td>0.455786</td>\n      <td>0.060050</td>\n      <td>0.675331</td>\n      <td>0.886771</td>\n    </tr>\n    <tr>\n      <th>...</th>\n      <td>...</td>\n      <td>...</td>\n      <td>...</td>\n      <td>...</td>\n      <td>...</td>\n      <td>...</td>\n      <td>...</td>\n      <td>...</td>\n      <td>...</td>\n      <td>...</td>\n      <td>...</td>\n      <td>...</td>\n      <td>...</td>\n      <td>...</td>\n      <td>...</td>\n      <td>...</td>\n      <td>...</td>\n      <td>...</td>\n      <td>...</td>\n      <td>...</td>\n      <td>...</td>\n    </tr>\n    <tr>\n      <th>DIABETE_30</th>\n      <td>0.542751</td>\n      <td>0.416667</td>\n      <td>0.725768</td>\n      <td>0.679012</td>\n      <td>0.496689</td>\n      <td>0.615108</td>\n      <td>0.439560</td>\n      <td>0.529412</td>\n      <td>0.692308</td>\n      <td>0.300971</td>\n      <td>...</td>\n      <td>0.232044</td>\n      <td>0.481848</td>\n      <td>0.490741</td>\n      <td>0.629108</td>\n      <td>0.300000</td>\n      <td>0.743590</td>\n      <td>0.635514</td>\n      <td>0.464286</td>\n      <td>0.394872</td>\n      <td>0.506024</td>\n    </tr>\n    <tr>\n      <th>MCM_20</th>\n      <td>0.434244</td>\n      <td>0.734991</td>\n      <td>0.812388</td>\n      <td>0.472825</td>\n      <td>0.365695</td>\n      <td>0.473242</td>\n      <td>0.189573</td>\n      <td>0.550290</td>\n      <td>0.784009</td>\n      <td>0.278576</td>\n      <td>...</td>\n      <td>0.481948</td>\n      <td>0.440288</td>\n      <td>0.512212</td>\n      <td>0.748510</td>\n      <td>1.000000</td>\n      <td>0.373996</td>\n      <td>0.372025</td>\n      <td>0.104247</td>\n      <td>0.666289</td>\n      <td>0.881041</td>\n    </tr>\n    <tr>\n      <th>A1A_84</th>\n      <td>0.195141</td>\n      <td>0.745189</td>\n      <td>0.209474</td>\n      <td>0.323790</td>\n      <td>0.073676</td>\n      <td>0.231938</td>\n      <td>0.266692</td>\n      <td>0.458932</td>\n      <td>0.609652</td>\n      <td>0.328510</td>\n      <td>...</td>\n      <td>0.267758</td>\n      <td>0.034018</td>\n      <td>0.823018</td>\n      <td>0.353656</td>\n      <td>0.287921</td>\n      <td>0.179384</td>\n      <td>0.566963</td>\n      <td>0.206276</td>\n      <td>0.382937</td>\n      <td>0.139778</td>\n    </tr>\n    <tr>\n      <th>DIABETE_37</th>\n      <td>0.724907</td>\n      <td>0.216667</td>\n      <td>0.846336</td>\n      <td>0.753086</td>\n      <td>0.685430</td>\n      <td>0.543165</td>\n      <td>0.769231</td>\n      <td>0.305882</td>\n      <td>0.326923</td>\n      <td>0.339806</td>\n      <td>...</td>\n      <td>0.364641</td>\n      <td>0.072607</td>\n      <td>0.814815</td>\n      <td>0.910798</td>\n      <td>0.318750</td>\n      <td>0.637821</td>\n      <td>0.271028</td>\n      <td>0.794643</td>\n      <td>0.651282</td>\n      <td>0.692771</td>\n    </tr>\n    <tr>\n      <th>A1A_111</th>\n      <td>0.379495</td>\n      <td>0.788712</td>\n      <td>0.333375</td>\n      <td>0.341184</td>\n      <td>0.098006</td>\n      <td>0.000000</td>\n      <td>0.413965</td>\n      <td>1.000000</td>\n      <td>0.986168</td>\n      <td>0.380467</td>\n      <td>...</td>\n      <td>0.281488</td>\n      <td>0.024788</td>\n      <td>1.000000</td>\n      <td>0.289873</td>\n      <td>0.565184</td>\n      <td>0.372064</td>\n      <td>0.155042</td>\n      <td>0.809935</td>\n      <td>0.172692</td>\n      <td>0.410782</td>\n    </tr>\n  </tbody>\n</table>\n<p>299 rows × 4602 columns</p>\n</div>"
     },
     "execution_count": 5,
     "metadata": {},
     "output_type": "execute_result"
    }
   ],
   "source": [
    "print(f\"Train DS shape {pipeline.train_set.shape}\")\n",
    "print(f\"Test DS shape {pipeline.test_set.shape}\")\n",
    "pipeline.train_set"
   ]
  },
  {
   "cell_type": "markdown",
   "id": "f663a5f0",
   "metadata": {
    "pycharm": {
     "name": "#%% md\n"
    }
   },
   "source": [
    "## Building the DT classifier\n"
   ]
  },
  {
   "cell_type": "code",
   "execution_count": 45,
   "outputs": [],
   "source": [
    "from sklearn.model_selection import train_test_split, StratifiedKFold, GridSearchCV"
   ],
   "metadata": {
    "collapsed": false,
    "pycharm": {
     "name": "#%%\n"
    }
   }
  },
  {
   "cell_type": "code",
   "execution_count": 46,
   "outputs": [],
   "source": [
    "dataset = pipeline.dataset\n",
    "disease_colname = \"DISEASE\"\n",
    "x_cols = [col_name for col_name in dataset.columns if col_name != disease_colname]\n",
    "# splitting dataset into train and validation\n",
    "train_cv, x_test, target_cv, y_test = train_test_split(dataset[x_cols], dataset[disease_colname], test_size=.25,\n",
    "                                                       stratify=dataset[disease_colname])"
   ],
   "metadata": {
    "collapsed": false,
    "pycharm": {
     "name": "#%%\n"
    }
   }
  },
  {
   "cell_type": "code",
   "execution_count": 48,
   "outputs": [],
   "source": [
    "scoring = ['accuracy']\n",
    "params = [\n",
    "    {\n",
    "        \"criterion\": [\"gini\", \"entropy\", \"log_loss\"],\n",
    "        \"splitter\": [\"best\", \"random\"],\n",
    "        \"max_depth\": list(np.arange(1, 200, 1)) + [None],\n",
    "        \"min_samples_split\": list(np.arange(0, 5, 1)),\n",
    "        \"min_samples_leaf\": list(np.arange(0, 5, 1)),\n",
    "        \"min_weight_fraction_leaf\": list(np.arange(0.1, 1, .01)),\n",
    "        \"max_features\": [\"auto\", \"sqrt\", \"log2\"],\n",
    "        \"ccp_alpha\": list(np.arange(0.1, 1, .01))\n",
    "        # add another...\n",
    "    }\n",
    "]"
   ],
   "metadata": {
    "collapsed": false,
    "pycharm": {
     "name": "#%%\n"
    }
   }
  },
  {
   "cell_type": "code",
   "execution_count": null,
   "outputs": [],
   "source": [
    "from sklearn.tree import DecisionTreeClassifier\n",
    "\n",
    "cv = StratifiedKFold(n_splits=5)\n",
    "grid_search = GridSearchCV(\n",
    "    estimator=DecisionTreeClassifier(),\n",
    "    param_grid=params,\n",
    "    cv=cv,\n",
    "    scoring=scoring,\n",
    "    refit=False,\n",
    "    n_jobs=-1,\n",
    "    return_train_score=True\n",
    ")\n",
    "grid_search.fit(train_cv, target_cv)"
   ],
   "metadata": {
    "collapsed": false,
    "pycharm": {
     "name": "#%%\n",
     "is_executing": true
    }
   }
  },
  {
   "cell_type": "code",
   "execution_count": 29,
   "outputs": [
    {
     "data": {
      "text/plain": "   rank_test_accuracy  mean_test_accuracy  mean_train_accuracy  \\\n1                   1            0.709153                  1.0   \n4                   2            0.708927                  1.0   \n5                   3            0.702429                  1.0   \n3                   4            0.702203                  1.0   \n2                   5            0.689040                  1.0   \n0                   6            0.668814                  1.0   \n\n   std_test_accuracy  std_train_accuracy  mean_fit_time  \\\n1           0.051657                 0.0       0.113445   \n4           0.023937                 0.0       0.535414   \n5           0.020927                 0.0       0.127193   \n3           0.050763                 0.0       0.114782   \n2           0.046155                 0.0       0.600106   \n0           0.027644                 0.0       0.389216   \n\n                                            params  \n1      {'criterion': 'gini', 'splitter': 'random'}  \n4    {'criterion': 'log_loss', 'splitter': 'best'}  \n5  {'criterion': 'log_loss', 'splitter': 'random'}  \n3   {'criterion': 'entropy', 'splitter': 'random'}  \n2     {'criterion': 'entropy', 'splitter': 'best'}  \n0        {'criterion': 'gini', 'splitter': 'best'}  ",
      "text/html": "<div>\n<style scoped>\n    .dataframe tbody tr th:only-of-type {\n        vertical-align: middle;\n    }\n\n    .dataframe tbody tr th {\n        vertical-align: top;\n    }\n\n    .dataframe thead th {\n        text-align: right;\n    }\n</style>\n<table border=\"1\" class=\"dataframe\">\n  <thead>\n    <tr style=\"text-align: right;\">\n      <th></th>\n      <th>rank_test_accuracy</th>\n      <th>mean_test_accuracy</th>\n      <th>mean_train_accuracy</th>\n      <th>std_test_accuracy</th>\n      <th>std_train_accuracy</th>\n      <th>mean_fit_time</th>\n      <th>params</th>\n    </tr>\n  </thead>\n  <tbody>\n    <tr>\n      <th>1</th>\n      <td>1</td>\n      <td>0.709153</td>\n      <td>1.0</td>\n      <td>0.051657</td>\n      <td>0.0</td>\n      <td>0.113445</td>\n      <td>{'criterion': 'gini', 'splitter': 'random'}</td>\n    </tr>\n    <tr>\n      <th>4</th>\n      <td>2</td>\n      <td>0.708927</td>\n      <td>1.0</td>\n      <td>0.023937</td>\n      <td>0.0</td>\n      <td>0.535414</td>\n      <td>{'criterion': 'log_loss', 'splitter': 'best'}</td>\n    </tr>\n    <tr>\n      <th>5</th>\n      <td>3</td>\n      <td>0.702429</td>\n      <td>1.0</td>\n      <td>0.020927</td>\n      <td>0.0</td>\n      <td>0.127193</td>\n      <td>{'criterion': 'log_loss', 'splitter': 'random'}</td>\n    </tr>\n    <tr>\n      <th>3</th>\n      <td>4</td>\n      <td>0.702203</td>\n      <td>1.0</td>\n      <td>0.050763</td>\n      <td>0.0</td>\n      <td>0.114782</td>\n      <td>{'criterion': 'entropy', 'splitter': 'random'}</td>\n    </tr>\n    <tr>\n      <th>2</th>\n      <td>5</td>\n      <td>0.689040</td>\n      <td>1.0</td>\n      <td>0.046155</td>\n      <td>0.0</td>\n      <td>0.600106</td>\n      <td>{'criterion': 'entropy', 'splitter': 'best'}</td>\n    </tr>\n    <tr>\n      <th>0</th>\n      <td>6</td>\n      <td>0.668814</td>\n      <td>1.0</td>\n      <td>0.027644</td>\n      <td>0.0</td>\n      <td>0.389216</td>\n      <td>{'criterion': 'gini', 'splitter': 'best'}</td>\n    </tr>\n  </tbody>\n</table>\n</div>"
     },
     "execution_count": 29,
     "metadata": {},
     "output_type": "execute_result"
    }
   ],
   "source": [
    "# Return compact form for GridSearchCV results\n",
    "# It should receive clf.cv_results_ after GridSearchCV\n",
    "import pandas as pd\n",
    "def grid_search_report(results):\n",
    "    results_df = pd.DataFrame(results)\n",
    "    rank = ['rank_test_accuracy']\n",
    "    columns = ['rank_test_accuracy',\n",
    "               'mean_test_accuracy', 'mean_train_accuracy', 'std_test_accuracy', 'std_train_accuracy',\n",
    "               'mean_fit_time', 'params']\n",
    "    results_df = results_df.sort_values(by=rank)\n",
    "    results_df = results_df[columns]\n",
    "    return results_df\n",
    "\n",
    "grid_search_report(grid_search.cv_results_)"
   ],
   "metadata": {
    "collapsed": false,
    "pycharm": {
     "name": "#%%\n"
    }
   }
  },
  {
   "cell_type": "markdown",
   "source": [
    "## Best parameters\n",
    "\n",
    "Printing the best parameters found for Decision Tree model."
   ],
   "metadata": {
    "collapsed": false,
    "pycharm": {
     "name": "#%% md\n"
    }
   }
  },
  {
   "cell_type": "code",
   "execution_count": 31,
   "outputs": [
    {
     "data": {
      "text/plain": "{'criterion': 'gini', 'splitter': 'random'}"
     },
     "execution_count": 31,
     "metadata": {},
     "output_type": "execute_result"
    }
   ],
   "source": [
    "best_params = grid_search_report(grid_search.cv_results_).iloc[0]['params']\n",
    "best_params"
   ],
   "metadata": {
    "collapsed": false,
    "pycharm": {
     "name": "#%%\n"
    }
   }
  },
  {
   "cell_type": "code",
   "execution_count": 33,
   "outputs": [
    {
     "data": {
      "text/plain": "DecisionTreeClassifier(splitter='random')",
      "text/html": "<style>#sk-container-id-4 {color: black;background-color: white;}#sk-container-id-4 pre{padding: 0;}#sk-container-id-4 div.sk-toggleable {background-color: white;}#sk-container-id-4 label.sk-toggleable__label {cursor: pointer;display: block;width: 100%;margin-bottom: 0;padding: 0.3em;box-sizing: border-box;text-align: center;}#sk-container-id-4 label.sk-toggleable__label-arrow:before {content: \"▸\";float: left;margin-right: 0.25em;color: #696969;}#sk-container-id-4 label.sk-toggleable__label-arrow:hover:before {color: black;}#sk-container-id-4 div.sk-estimator:hover label.sk-toggleable__label-arrow:before {color: black;}#sk-container-id-4 div.sk-toggleable__content {max-height: 0;max-width: 0;overflow: hidden;text-align: left;background-color: #f0f8ff;}#sk-container-id-4 div.sk-toggleable__content pre {margin: 0.2em;color: black;border-radius: 0.25em;background-color: #f0f8ff;}#sk-container-id-4 input.sk-toggleable__control:checked~div.sk-toggleable__content {max-height: 200px;max-width: 100%;overflow: auto;}#sk-container-id-4 input.sk-toggleable__control:checked~label.sk-toggleable__label-arrow:before {content: \"▾\";}#sk-container-id-4 div.sk-estimator input.sk-toggleable__control:checked~label.sk-toggleable__label {background-color: #d4ebff;}#sk-container-id-4 div.sk-label input.sk-toggleable__control:checked~label.sk-toggleable__label {background-color: #d4ebff;}#sk-container-id-4 input.sk-hidden--visually {border: 0;clip: rect(1px 1px 1px 1px);clip: rect(1px, 1px, 1px, 1px);height: 1px;margin: -1px;overflow: hidden;padding: 0;position: absolute;width: 1px;}#sk-container-id-4 div.sk-estimator {font-family: monospace;background-color: #f0f8ff;border: 1px dotted black;border-radius: 0.25em;box-sizing: border-box;margin-bottom: 0.5em;}#sk-container-id-4 div.sk-estimator:hover {background-color: #d4ebff;}#sk-container-id-4 div.sk-parallel-item::after {content: \"\";width: 100%;border-bottom: 1px solid gray;flex-grow: 1;}#sk-container-id-4 div.sk-label:hover label.sk-toggleable__label {background-color: #d4ebff;}#sk-container-id-4 div.sk-serial::before {content: \"\";position: absolute;border-left: 1px solid gray;box-sizing: border-box;top: 0;bottom: 0;left: 50%;z-index: 0;}#sk-container-id-4 div.sk-serial {display: flex;flex-direction: column;align-items: center;background-color: white;padding-right: 0.2em;padding-left: 0.2em;position: relative;}#sk-container-id-4 div.sk-item {position: relative;z-index: 1;}#sk-container-id-4 div.sk-parallel {display: flex;align-items: stretch;justify-content: center;background-color: white;position: relative;}#sk-container-id-4 div.sk-item::before, #sk-container-id-4 div.sk-parallel-item::before {content: \"\";position: absolute;border-left: 1px solid gray;box-sizing: border-box;top: 0;bottom: 0;left: 50%;z-index: -1;}#sk-container-id-4 div.sk-parallel-item {display: flex;flex-direction: column;z-index: 1;position: relative;background-color: white;}#sk-container-id-4 div.sk-parallel-item:first-child::after {align-self: flex-end;width: 50%;}#sk-container-id-4 div.sk-parallel-item:last-child::after {align-self: flex-start;width: 50%;}#sk-container-id-4 div.sk-parallel-item:only-child::after {width: 0;}#sk-container-id-4 div.sk-dashed-wrapped {border: 1px dashed gray;margin: 0 0.4em 0.5em 0.4em;box-sizing: border-box;padding-bottom: 0.4em;background-color: white;}#sk-container-id-4 div.sk-label label {font-family: monospace;font-weight: bold;display: inline-block;line-height: 1.2em;}#sk-container-id-4 div.sk-label-container {text-align: center;}#sk-container-id-4 div.sk-container {/* jupyter's `normalize.less` sets `[hidden] { display: none; }` but bootstrap.min.css set `[hidden] { display: none !important; }` so we also need the `!important` here to be able to override the default hidden behavior on the sphinx rendered scikit-learn.org. See: https://github.com/scikit-learn/scikit-learn/issues/21755 */display: inline-block !important;position: relative;}#sk-container-id-4 div.sk-text-repr-fallback {display: none;}</style><div id=\"sk-container-id-4\" class=\"sk-top-container\"><div class=\"sk-text-repr-fallback\"><pre>DecisionTreeClassifier(splitter=&#x27;random&#x27;)</pre><b>In a Jupyter environment, please rerun this cell to show the HTML representation or trust the notebook. <br />On GitHub, the HTML representation is unable to render, please try loading this page with nbviewer.org.</b></div><div class=\"sk-container\" hidden><div class=\"sk-item\"><div class=\"sk-estimator sk-toggleable\"><input class=\"sk-toggleable__control sk-hidden--visually\" id=\"sk-estimator-id-10\" type=\"checkbox\" checked><label for=\"sk-estimator-id-10\" class=\"sk-toggleable__label sk-toggleable__label-arrow\">DecisionTreeClassifier</label><div class=\"sk-toggleable__content\"><pre>DecisionTreeClassifier(splitter=&#x27;random&#x27;)</pre></div></div></div></div></div>"
     },
     "execution_count": 33,
     "metadata": {},
     "output_type": "execute_result"
    }
   ],
   "source": [
    "# building the final model with the best parameters\n",
    "decision_tree = DecisionTreeClassifier(**best_params)\n",
    "# fitting\n",
    "decision_tree.fit(train_cv, target_cv)"
   ],
   "metadata": {
    "collapsed": false,
    "pycharm": {
     "name": "#%%\n"
    }
   }
  },
  {
   "cell_type": "markdown",
   "source": [
    "# Meters"
   ],
   "metadata": {
    "collapsed": false,
    "pycharm": {
     "name": "#%% md\n"
    }
   }
  },
  {
   "cell_type": "code",
   "execution_count": 34,
   "outputs": [],
   "source": [
    "# plotting the tree\n",
    "from sklearn import tree"
   ],
   "metadata": {
    "collapsed": false,
    "pycharm": {
     "name": "#%%\n"
    }
   }
  },
  {
   "cell_type": "code",
   "execution_count": 35,
   "outputs": [
    {
     "data": {
      "text/plain": "'DecisionTree.pdf'"
     },
     "execution_count": 35,
     "metadata": {},
     "output_type": "execute_result"
    }
   ],
   "source": [
    "# Exporting with graphviz\n",
    "import graphviz\n",
    "dot_data = tree.export_graphviz(decision_tree, out_file=None)\n",
    "graph = graphviz.Source(dot_data)\n",
    "graph.render(\"DecisionTree\")"
   ],
   "metadata": {
    "collapsed": false,
    "pycharm": {
     "name": "#%%\n"
    }
   }
  },
  {
   "cell_type": "markdown",
   "source": [
    "## Evaluating the model\n",
    "\n",
    "Start by fitting the test data."
   ],
   "metadata": {
    "collapsed": false,
    "pycharm": {
     "name": "#%% md\n"
    }
   }
  },
  {
   "cell_type": "code",
   "execution_count": 38,
   "outputs": [],
   "source": [
    "y_pred = decision_tree.predict(x_test)"
   ],
   "metadata": {
    "collapsed": false,
    "pycharm": {
     "name": "#%%\n"
    }
   }
  },
  {
   "cell_type": "code",
   "execution_count": 39,
   "outputs": [],
   "source": [
    "import sklearn.metrics as metrics\n",
    "from sklearn.metrics import classification_report"
   ],
   "metadata": {
    "collapsed": false,
    "pycharm": {
     "name": "#%%\n"
    }
   }
  },
  {
   "cell_type": "code",
   "execution_count": 40,
   "outputs": [
    {
     "name": "stdout",
     "output_type": "stream",
     "text": [
      "              precision    recall  f1-score   support\n",
      "\n",
      "         A1A       0.97      0.94      0.95        32\n",
      "     DIABETE       0.71      0.55      0.62        44\n",
      "          GS       0.00      0.00      0.00         7\n",
      "         MCM       0.27      0.57      0.36         7\n",
      "        NALD       0.25      0.30      0.27        10\n",
      "\n",
      "    accuracy                           0.61       100\n",
      "   macro avg       0.44      0.47      0.44       100\n",
      "weighted avg       0.66      0.61      0.63       100\n",
      "\n"
     ]
    }
   ],
   "source": [
    "print(classification_report(y_true=y_test, y_pred=y_pred))"
   ],
   "metadata": {
    "collapsed": false,
    "pycharm": {
     "name": "#%%\n"
    }
   }
  },
  {
   "cell_type": "code",
   "execution_count": null,
   "outputs": [],
   "source": [],
   "metadata": {
    "collapsed": false,
    "pycharm": {
     "name": "#%%\n"
    }
   }
  }
 ],
 "metadata": {
  "kernelspec": {
   "display_name": "Python 3 (ipykernel)",
   "language": "python",
   "name": "python3"
  },
  "language_info": {
   "codemirror_mode": {
    "name": "ipython",
    "version": 3
   },
   "file_extension": ".py",
   "mimetype": "text/x-python",
   "name": "python",
   "nbconvert_exporter": "python",
   "pygments_lexer": "ipython3",
   "version": "3.9.7"
  }
 },
 "nbformat": 4,
 "nbformat_minor": 5
}