{
 "cells": [
  {
   "cell_type": "markdown",
   "metadata": {
    "pycharm": {
     "name": "#%% md\n"
    }
   },
   "source": [
    "# Testing dataset loading\n",
    "\n",
    "This notebook contains code that run the pipeline we have created to analyze a set of datasets."
   ]
  },
  {
   "cell_type": "code",
   "execution_count": 1,
   "metadata": {
    "pycharm": {
     "name": "#%%\n"
    }
   },
   "outputs": [],
   "source": [
    "# adding the project root inside the python path\n",
    "import sys\n",
    "import os\n",
    "\n",
    "sys.path.insert(0, os.path.abspath('..'))"
   ]
  },
  {
   "cell_type": "code",
   "execution_count": 2,
   "metadata": {
    "pycharm": {
     "name": "#%%\n"
    }
   },
   "outputs": [],
   "source": [
    "# The path where the dataset are stored\n",
    "DATASET_PATH: str = \"../../dataset/first_disease_sel/\"\n",
    "DISEASE_COLNAME: str = 'DISEASE'"
   ]
  },
  {
   "cell_type": "code",
   "execution_count": 3,
   "metadata": {
    "pycharm": {
     "name": "#%%\n"
    }
   },
   "outputs": [],
   "source": [
    "from analysis.dataset import load_datasets, compute_ds_col_intersection, clean_datasets, build_dataset, scale_minmax"
   ]
  },
  {
   "cell_type": "markdown",
   "metadata": {
    "pycharm": {
     "name": "#%% md\n"
    }
   },
   "source": [
    "### Load datasets"
   ]
  },
  {
   "cell_type": "code",
   "execution_count": 4,
   "metadata": {
    "pycharm": {
     "name": "#%%\n"
    }
   },
   "outputs": [
    {
     "name": "stderr",
     "output_type": "stream",
     "text": [
      "INFO:root:Inspecting directory ../../dataset/first_disease_sel/GS\n",
      "INFO:root:Setting disease as GS\n",
      "INFO:root:Loading file ../../dataset/first_disease_sel/GS/eGSE117146m.csv\n",
      "INFO:root:Inspecting directory ../../dataset/first_disease_sel/MCM\n",
      "INFO:root:Setting disease as MCM\n",
      "INFO:root:Loading file ../../dataset/first_disease_sel/MCM/MCM_GSE149607.csv\n",
      "INFO:root:Inspecting directory ../../dataset/first_disease_sel/NALD\n",
      "INFO:root:Setting disease as NALD\n",
      "INFO:root:Loading file ../../dataset/first_disease_sel/NALD/eGSE85804m.csv\n",
      "INFO:root:Loading file ../../dataset/first_disease_sel/NALD/eGSE34308m.csv\n",
      "INFO:root:Loading file ../../dataset/first_disease_sel/NALD/eGSE117647m.csv\n",
      "INFO:root:Inspecting directory ../../dataset/first_disease_sel/A1A\n",
      "INFO:root:Setting disease as A1A\n",
      "INFO:root:Loading file ../../dataset/first_disease_sel/A1A/A1A_deficiency_GSE109516_pbmc.csv\n",
      "INFO:root:Inspecting directory ../../dataset/first_disease_sel/DIABETE\n",
      "INFO:root:Setting disease as DIABETE\n",
      "INFO:root:Loading file ../../dataset/first_disease_sel/DIABETE/eGSE54350m.csv\n",
      "INFO:root:Loading file ../../dataset/first_disease_sel/DIABETE/eGSE26887m.csv\n",
      "INFO:root:Loading file ../../dataset/first_disease_sel/DIABETE/eGSE174475m.csv\n",
      "INFO:root:Loading file ../../dataset/first_disease_sel/DIABETE/eGSE13760m.csv\n",
      "INFO:root:Loading file ../../dataset/first_disease_sel/DIABETE/eGSE38642m.csv\n",
      "INFO:root:Loading file ../../dataset/first_disease_sel/DIABETE/eGSE19790m.csv\n",
      "INFO:root:Loading file ../../dataset/first_disease_sel/DIABETE/eGSE179568m.csv\n",
      "INFO:root:Loading file ../../dataset/first_disease_sel/DIABETE/eGSE189849m.csv\n",
      "INFO:root:Loading file ../../dataset/first_disease_sel/DIABETE/eGSE25462m.csv\n",
      "INFO:root:Loading file ../../dataset/first_disease_sel/DIABETE/eGSE162622m.csv\n",
      "INFO:root:Loading file ../../dataset/first_disease_sel/DIABETE/eGSE27949m.csv\n",
      "INFO:root:Loading file ../../dataset/first_disease_sel/DIABETE/eGSE176230m.csv\n"
     ]
    }
   ],
   "source": [
    "# Load dataset\n",
    "datasets = load_datasets(DATASET_PATH)\n",
    "# compute intersection\n",
    "colname_intersection = compute_ds_col_intersection(datasets)\n",
    "# clean datasets\n",
    "datasets = clean_datasets(datasets, colname_intersection)"
   ]
  },
  {
   "cell_type": "markdown",
   "metadata": {
    "pycharm": {
     "name": "#%% md\n"
    }
   },
   "source": []
  },
  {
   "cell_type": "markdown",
   "metadata": {
    "pycharm": {
     "name": "#%% md\n"
    }
   },
   "source": [
    "## Scaling"
   ]
  },
  {
   "cell_type": "code",
   "execution_count": 5,
   "metadata": {
    "pycharm": {
     "name": "#%%\n"
    }
   },
   "outputs": [],
   "source": [
    "scale_minmax(datasets)"
   ]
  },
  {
   "cell_type": "markdown",
   "metadata": {
    "pycharm": {
     "name": "#%% md\n"
    }
   },
   "source": [
    "## Building unique DS"
   ]
  },
  {
   "cell_type": "code",
   "execution_count": 6,
   "metadata": {
    "pycharm": {
     "name": "#%%\n"
    }
   },
   "outputs": [
    {
     "data": {
      "text/html": [
       "<div>\n",
       "<style scoped>\n",
       "    .dataframe tbody tr th:only-of-type {\n",
       "        vertical-align: middle;\n",
       "    }\n",
       "\n",
       "    .dataframe tbody tr th {\n",
       "        vertical-align: top;\n",
       "    }\n",
       "\n",
       "    .dataframe thead th {\n",
       "        text-align: right;\n",
       "    }\n",
       "</style>\n",
       "<table border=\"1\" class=\"dataframe\">\n",
       "  <thead>\n",
       "    <tr style=\"text-align: right;\">\n",
       "      <th></th>\n",
       "      <th>DBF4</th>\n",
       "      <th>HDGF</th>\n",
       "      <th>FGGY</th>\n",
       "      <th>ZNF212</th>\n",
       "      <th>MATN2</th>\n",
       "      <th>EZH2</th>\n",
       "      <th>SP1</th>\n",
       "      <th>CIAO1</th>\n",
       "      <th>SPAG16</th>\n",
       "      <th>TIE1</th>\n",
       "      <th>...</th>\n",
       "      <th>KIF13A</th>\n",
       "      <th>RELA</th>\n",
       "      <th>CD320</th>\n",
       "      <th>SUMO3</th>\n",
       "      <th>S100PBP</th>\n",
       "      <th>TSPAN2</th>\n",
       "      <th>HDAC5</th>\n",
       "      <th>GTPBP1</th>\n",
       "      <th>EXOC6B</th>\n",
       "      <th>LRRK1</th>\n",
       "    </tr>\n",
       "  </thead>\n",
       "  <tbody>\n",
       "    <tr>\n",
       "      <th>0</th>\n",
       "      <td>0.845741</td>\n",
       "      <td>0.262321</td>\n",
       "      <td>0.056685</td>\n",
       "      <td>0.642673</td>\n",
       "      <td>0.391867</td>\n",
       "      <td>0.159400</td>\n",
       "      <td>0.648183</td>\n",
       "      <td>0.641888</td>\n",
       "      <td>0.142962</td>\n",
       "      <td>0.767586</td>\n",
       "      <td>...</td>\n",
       "      <td>0.549536</td>\n",
       "      <td>0.416490</td>\n",
       "      <td>0.619608</td>\n",
       "      <td>0.444056</td>\n",
       "      <td>0.777795</td>\n",
       "      <td>0.073474</td>\n",
       "      <td>0.582168</td>\n",
       "      <td>0.134254</td>\n",
       "      <td>0.000000</td>\n",
       "      <td>0.527766</td>\n",
       "    </tr>\n",
       "    <tr>\n",
       "      <th>1</th>\n",
       "      <td>0.920240</td>\n",
       "      <td>0.586209</td>\n",
       "      <td>1.000000</td>\n",
       "      <td>0.066759</td>\n",
       "      <td>0.261315</td>\n",
       "      <td>0.000000</td>\n",
       "      <td>0.963466</td>\n",
       "      <td>0.476715</td>\n",
       "      <td>0.913618</td>\n",
       "      <td>0.608851</td>\n",
       "      <td>...</td>\n",
       "      <td>0.650507</td>\n",
       "      <td>0.396693</td>\n",
       "      <td>0.402936</td>\n",
       "      <td>0.558398</td>\n",
       "      <td>1.000000</td>\n",
       "      <td>0.697394</td>\n",
       "      <td>0.000000</td>\n",
       "      <td>0.507015</td>\n",
       "      <td>0.324098</td>\n",
       "      <td>0.588302</td>\n",
       "    </tr>\n",
       "    <tr>\n",
       "      <th>2</th>\n",
       "      <td>0.779848</td>\n",
       "      <td>0.339573</td>\n",
       "      <td>0.290705</td>\n",
       "      <td>0.673761</td>\n",
       "      <td>0.350022</td>\n",
       "      <td>0.626847</td>\n",
       "      <td>0.832938</td>\n",
       "      <td>0.914359</td>\n",
       "      <td>0.374409</td>\n",
       "      <td>0.731490</td>\n",
       "      <td>...</td>\n",
       "      <td>0.567397</td>\n",
       "      <td>0.362949</td>\n",
       "      <td>0.510207</td>\n",
       "      <td>0.727660</td>\n",
       "      <td>0.868839</td>\n",
       "      <td>0.847086</td>\n",
       "      <td>0.734903</td>\n",
       "      <td>0.480767</td>\n",
       "      <td>0.214531</td>\n",
       "      <td>0.657040</td>\n",
       "    </tr>\n",
       "    <tr>\n",
       "      <th>3</th>\n",
       "      <td>0.938717</td>\n",
       "      <td>0.456911</td>\n",
       "      <td>0.404222</td>\n",
       "      <td>0.604067</td>\n",
       "      <td>0.930749</td>\n",
       "      <td>0.381957</td>\n",
       "      <td>0.582604</td>\n",
       "      <td>1.000000</td>\n",
       "      <td>0.000000</td>\n",
       "      <td>0.649896</td>\n",
       "      <td>...</td>\n",
       "      <td>0.834061</td>\n",
       "      <td>0.456284</td>\n",
       "      <td>0.113139</td>\n",
       "      <td>0.846422</td>\n",
       "      <td>0.629524</td>\n",
       "      <td>0.344342</td>\n",
       "      <td>0.465653</td>\n",
       "      <td>0.445645</td>\n",
       "      <td>0.368990</td>\n",
       "      <td>0.854131</td>\n",
       "    </tr>\n",
       "    <tr>\n",
       "      <th>4</th>\n",
       "      <td>0.676631</td>\n",
       "      <td>0.758689</td>\n",
       "      <td>0.820812</td>\n",
       "      <td>0.721471</td>\n",
       "      <td>0.030534</td>\n",
       "      <td>0.052575</td>\n",
       "      <td>0.732706</td>\n",
       "      <td>0.386558</td>\n",
       "      <td>0.513853</td>\n",
       "      <td>0.831849</td>\n",
       "      <td>...</td>\n",
       "      <td>0.621713</td>\n",
       "      <td>0.531190</td>\n",
       "      <td>0.421745</td>\n",
       "      <td>0.892459</td>\n",
       "      <td>0.146682</td>\n",
       "      <td>0.862078</td>\n",
       "      <td>0.499185</td>\n",
       "      <td>0.443758</td>\n",
       "      <td>0.416868</td>\n",
       "      <td>0.462537</td>\n",
       "    </tr>\n",
       "    <tr>\n",
       "      <th>...</th>\n",
       "      <td>...</td>\n",
       "      <td>...</td>\n",
       "      <td>...</td>\n",
       "      <td>...</td>\n",
       "      <td>...</td>\n",
       "      <td>...</td>\n",
       "      <td>...</td>\n",
       "      <td>...</td>\n",
       "      <td>...</td>\n",
       "      <td>...</td>\n",
       "      <td>...</td>\n",
       "      <td>...</td>\n",
       "      <td>...</td>\n",
       "      <td>...</td>\n",
       "      <td>...</td>\n",
       "      <td>...</td>\n",
       "      <td>...</td>\n",
       "      <td>...</td>\n",
       "      <td>...</td>\n",
       "      <td>...</td>\n",
       "      <td>...</td>\n",
       "    </tr>\n",
       "    <tr>\n",
       "      <th>394</th>\n",
       "      <td>0.709804</td>\n",
       "      <td>0.320942</td>\n",
       "      <td>0.884615</td>\n",
       "      <td>0.467742</td>\n",
       "      <td>0.281690</td>\n",
       "      <td>0.923611</td>\n",
       "      <td>0.864787</td>\n",
       "      <td>0.294118</td>\n",
       "      <td>0.631579</td>\n",
       "      <td>0.166667</td>\n",
       "      <td>...</td>\n",
       "      <td>0.576119</td>\n",
       "      <td>0.286530</td>\n",
       "      <td>0.166667</td>\n",
       "      <td>0.381853</td>\n",
       "      <td>0.901370</td>\n",
       "      <td>0.902527</td>\n",
       "      <td>0.235759</td>\n",
       "      <td>0.523902</td>\n",
       "      <td>0.734043</td>\n",
       "      <td>0.344037</td>\n",
       "    </tr>\n",
       "    <tr>\n",
       "      <th>395</th>\n",
       "      <td>0.427451</td>\n",
       "      <td>0.389503</td>\n",
       "      <td>0.275641</td>\n",
       "      <td>0.568548</td>\n",
       "      <td>0.535211</td>\n",
       "      <td>0.118056</td>\n",
       "      <td>0.166746</td>\n",
       "      <td>0.247549</td>\n",
       "      <td>0.263158</td>\n",
       "      <td>0.000000</td>\n",
       "      <td>...</td>\n",
       "      <td>0.096517</td>\n",
       "      <td>0.149543</td>\n",
       "      <td>0.371429</td>\n",
       "      <td>0.000000</td>\n",
       "      <td>0.386301</td>\n",
       "      <td>0.348977</td>\n",
       "      <td>0.197785</td>\n",
       "      <td>0.258537</td>\n",
       "      <td>0.361702</td>\n",
       "      <td>0.123853</td>\n",
       "    </tr>\n",
       "    <tr>\n",
       "      <th>396</th>\n",
       "      <td>0.298039</td>\n",
       "      <td>0.629534</td>\n",
       "      <td>0.205128</td>\n",
       "      <td>0.762097</td>\n",
       "      <td>0.845070</td>\n",
       "      <td>0.145833</td>\n",
       "      <td>0.210702</td>\n",
       "      <td>0.485294</td>\n",
       "      <td>0.438596</td>\n",
       "      <td>0.111111</td>\n",
       "      <td>...</td>\n",
       "      <td>0.000000</td>\n",
       "      <td>0.262557</td>\n",
       "      <td>0.338095</td>\n",
       "      <td>0.550095</td>\n",
       "      <td>0.460274</td>\n",
       "      <td>0.048135</td>\n",
       "      <td>0.314873</td>\n",
       "      <td>0.334634</td>\n",
       "      <td>0.382979</td>\n",
       "      <td>0.282110</td>\n",
       "    </tr>\n",
       "    <tr>\n",
       "      <th>397</th>\n",
       "      <td>0.074510</td>\n",
       "      <td>0.350270</td>\n",
       "      <td>0.230769</td>\n",
       "      <td>0.459677</td>\n",
       "      <td>1.000000</td>\n",
       "      <td>0.069444</td>\n",
       "      <td>0.350693</td>\n",
       "      <td>0.127451</td>\n",
       "      <td>0.280702</td>\n",
       "      <td>0.166667</td>\n",
       "      <td>...</td>\n",
       "      <td>0.109453</td>\n",
       "      <td>0.176941</td>\n",
       "      <td>0.138095</td>\n",
       "      <td>0.024575</td>\n",
       "      <td>0.126027</td>\n",
       "      <td>0.176895</td>\n",
       "      <td>0.177215</td>\n",
       "      <td>0.251707</td>\n",
       "      <td>0.478723</td>\n",
       "      <td>0.316514</td>\n",
       "    </tr>\n",
       "    <tr>\n",
       "      <th>398</th>\n",
       "      <td>0.000000</td>\n",
       "      <td>0.745948</td>\n",
       "      <td>0.051282</td>\n",
       "      <td>0.604839</td>\n",
       "      <td>0.746479</td>\n",
       "      <td>0.000000</td>\n",
       "      <td>0.650741</td>\n",
       "      <td>0.066176</td>\n",
       "      <td>0.000000</td>\n",
       "      <td>0.111111</td>\n",
       "      <td>...</td>\n",
       "      <td>0.464677</td>\n",
       "      <td>1.000000</td>\n",
       "      <td>1.000000</td>\n",
       "      <td>1.000000</td>\n",
       "      <td>0.394521</td>\n",
       "      <td>0.057762</td>\n",
       "      <td>1.000000</td>\n",
       "      <td>1.000000</td>\n",
       "      <td>0.031915</td>\n",
       "      <td>1.000000</td>\n",
       "    </tr>\n",
       "  </tbody>\n",
       "</table>\n",
       "<p>399 rows × 4602 columns</p>\n",
       "</div>"
      ],
      "text/plain": [
       "         DBF4      HDGF      FGGY    ZNF212     MATN2      EZH2       SP1  \\\n",
       "0    0.845741  0.262321  0.056685  0.642673  0.391867  0.159400  0.648183   \n",
       "1    0.920240  0.586209  1.000000  0.066759  0.261315  0.000000  0.963466   \n",
       "2    0.779848  0.339573  0.290705  0.673761  0.350022  0.626847  0.832938   \n",
       "3    0.938717  0.456911  0.404222  0.604067  0.930749  0.381957  0.582604   \n",
       "4    0.676631  0.758689  0.820812  0.721471  0.030534  0.052575  0.732706   \n",
       "..        ...       ...       ...       ...       ...       ...       ...   \n",
       "394  0.709804  0.320942  0.884615  0.467742  0.281690  0.923611  0.864787   \n",
       "395  0.427451  0.389503  0.275641  0.568548  0.535211  0.118056  0.166746   \n",
       "396  0.298039  0.629534  0.205128  0.762097  0.845070  0.145833  0.210702   \n",
       "397  0.074510  0.350270  0.230769  0.459677  1.000000  0.069444  0.350693   \n",
       "398  0.000000  0.745948  0.051282  0.604839  0.746479  0.000000  0.650741   \n",
       "\n",
       "        CIAO1    SPAG16      TIE1  ...    KIF13A      RELA     CD320  \\\n",
       "0    0.641888  0.142962  0.767586  ...  0.549536  0.416490  0.619608   \n",
       "1    0.476715  0.913618  0.608851  ...  0.650507  0.396693  0.402936   \n",
       "2    0.914359  0.374409  0.731490  ...  0.567397  0.362949  0.510207   \n",
       "3    1.000000  0.000000  0.649896  ...  0.834061  0.456284  0.113139   \n",
       "4    0.386558  0.513853  0.831849  ...  0.621713  0.531190  0.421745   \n",
       "..        ...       ...       ...  ...       ...       ...       ...   \n",
       "394  0.294118  0.631579  0.166667  ...  0.576119  0.286530  0.166667   \n",
       "395  0.247549  0.263158  0.000000  ...  0.096517  0.149543  0.371429   \n",
       "396  0.485294  0.438596  0.111111  ...  0.000000  0.262557  0.338095   \n",
       "397  0.127451  0.280702  0.166667  ...  0.109453  0.176941  0.138095   \n",
       "398  0.066176  0.000000  0.111111  ...  0.464677  1.000000  1.000000   \n",
       "\n",
       "        SUMO3   S100PBP    TSPAN2     HDAC5    GTPBP1    EXOC6B     LRRK1  \n",
       "0    0.444056  0.777795  0.073474  0.582168  0.134254  0.000000  0.527766  \n",
       "1    0.558398  1.000000  0.697394  0.000000  0.507015  0.324098  0.588302  \n",
       "2    0.727660  0.868839  0.847086  0.734903  0.480767  0.214531  0.657040  \n",
       "3    0.846422  0.629524  0.344342  0.465653  0.445645  0.368990  0.854131  \n",
       "4    0.892459  0.146682  0.862078  0.499185  0.443758  0.416868  0.462537  \n",
       "..        ...       ...       ...       ...       ...       ...       ...  \n",
       "394  0.381853  0.901370  0.902527  0.235759  0.523902  0.734043  0.344037  \n",
       "395  0.000000  0.386301  0.348977  0.197785  0.258537  0.361702  0.123853  \n",
       "396  0.550095  0.460274  0.048135  0.314873  0.334634  0.382979  0.282110  \n",
       "397  0.024575  0.126027  0.176895  0.177215  0.251707  0.478723  0.316514  \n",
       "398  1.000000  0.394521  0.057762  1.000000  1.000000  0.031915  1.000000  \n",
       "\n",
       "[399 rows x 4602 columns]"
      ]
     },
     "execution_count": 6,
     "metadata": {},
     "output_type": "execute_result"
    }
   ],
   "source": [
    "# finally build the unique dataset\n",
    "dataset = build_dataset(datasets)\n",
    "dataset"
   ]
  },
  {
   "cell_type": "markdown",
   "metadata": {
    "pycharm": {
     "name": "#%% md\n"
    }
   },
   "source": [
    "## Inspecting dataset we have built"
   ]
  },
  {
   "cell_type": "code",
   "execution_count": null,
   "metadata": {
    "pycharm": {
     "name": "#%%\n"
    }
   },
   "outputs": [],
   "source": [
    "dataset['DISEASE']"
   ]
  },
  {
   "cell_type": "code",
   "execution_count": null,
   "metadata": {
    "pycharm": {
     "name": "#%%\n"
    }
   },
   "outputs": [],
   "source": [
    "# plotting the number of sample for each disease\n",
    "disease = dataset['DISEASE'].value_counts()\n",
    "print(disease)\n",
    "disease.plot.bar()"
   ]
  },
  {
   "cell_type": "code",
   "execution_count": null,
   "metadata": {
    "pycharm": {
     "name": "#%%\n"
    }
   },
   "outputs": [],
   "source": [
    "import matplotlib.pyplot as plt\n",
    "from bioinfokit import analys, visuz\n",
    "import numpy as np"
   ]
  },
  {
   "cell_type": "code",
   "execution_count": null,
   "metadata": {
    "pycharm": {
     "name": "#%%\n"
    }
   },
   "outputs": [],
   "source": [
    "visuz.gene_exp.hmap(df=dataset.astype(float), rowclus=False, colclus=False, dim=(10, 10), tickfont=(2, 4), show=True)"
   ]
  }
 ],
 "metadata": {
  "kernelspec": {
   "display_name": "Python 3 (ipykernel)",
   "language": "python",
   "name": "python3"
  },
  "language_info": {
   "codemirror_mode": {
    "name": "ipython",
    "version": 3
   },
   "file_extension": ".py",
   "mimetype": "text/x-python",
   "name": "python",
   "nbconvert_exporter": "python",
   "pygments_lexer": "ipython3",
   "version": "3.9.7"
  }
 },
 "nbformat": 4,
 "nbformat_minor": 1
}
