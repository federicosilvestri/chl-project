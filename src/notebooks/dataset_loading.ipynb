{
 "cells": [
  {
   "cell_type": "markdown",
   "metadata": {
    "pycharm": {
     "name": "#%% md\n"
    }
   },
   "source": [
    "# Testing dataset loading\n",
    "\n",
    "This notebook contains code that run the pipeline we have created to analyze a set of datasets."
   ]
  },
  {
   "cell_type": "code",
   "execution_count": 8,
   "metadata": {
    "pycharm": {
     "name": "#%%\n"
    }
   },
   "outputs": [],
   "source": [
    "# adding the project root inside the python path\n",
    "import sys\n",
    "import os\n",
    "\n",
    "sys.path.insert(0, os.path.abspath('..'))"
   ]
  },
  {
   "cell_type": "code",
   "execution_count": 9,
   "metadata": {
    "pycharm": {
     "name": "#%%\n"
    }
   },
   "outputs": [],
   "source": [
    "# The path where the dataset are stored\n",
    "DATASET_PATH: str = \"../../dataset/first_disease_sel/\"\n",
    "DISEASE_COLNAME: str = 'DISEASE'"
   ]
  },
  {
   "cell_type": "code",
   "execution_count": 10,
   "metadata": {
    "pycharm": {
     "name": "#%%\n"
    }
   },
   "outputs": [],
   "source": [
    "from analysis.dataset import load_datasets, compute_ds_col_intersection, clean_datasets, build_dataset, scale_minmax, compute_outlier"
   ]
  },
  {
   "cell_type": "markdown",
   "metadata": {
    "pycharm": {
     "name": "#%% md\n"
    }
   },
   "source": [
    "### Load datasets"
   ]
  },
  {
   "cell_type": "code",
   "execution_count": 11,
   "metadata": {
    "pycharm": {
     "name": "#%%\n"
    }
   },
   "outputs": [
    {
     "name": "stderr",
     "output_type": "stream",
     "text": [
      "INFO:root:Inspecting directory ../../dataset/first_disease_sel/GS\n",
      "INFO:root:Setting disease as GS\n",
      "INFO:root:Loading file ../../dataset/first_disease_sel/GS/eGSE117146m.csv\n",
      "INFO:root:Inspecting directory ../../dataset/first_disease_sel/MCM\n",
      "INFO:root:Setting disease as MCM\n",
      "INFO:root:Loading file ../../dataset/first_disease_sel/MCM/MCM_GSE149607.csv\n",
      "INFO:root:Inspecting directory ../../dataset/first_disease_sel/NALD\n",
      "INFO:root:Setting disease as NALD\n",
      "INFO:root:Loading file ../../dataset/first_disease_sel/NALD/eGSE85804m.csv\n",
      "INFO:root:Loading file ../../dataset/first_disease_sel/NALD/eGSE34308m.csv\n",
      "INFO:root:Loading file ../../dataset/first_disease_sel/NALD/eGSE117647m.csv\n",
      "INFO:root:Inspecting directory ../../dataset/first_disease_sel/A1A\n",
      "INFO:root:Setting disease as A1A\n",
      "INFO:root:Loading file ../../dataset/first_disease_sel/A1A/A1A_deficiency_GSE109516_pbmc.csv\n",
      "INFO:root:Inspecting directory ../../dataset/first_disease_sel/DIABETE\n",
      "INFO:root:Setting disease as DIABETE\n",
      "INFO:root:Loading file ../../dataset/first_disease_sel/DIABETE/eGSE54350m.csv\n",
      "INFO:root:Loading file ../../dataset/first_disease_sel/DIABETE/eGSE26887m.csv\n",
      "INFO:root:Loading file ../../dataset/first_disease_sel/DIABETE/eGSE174475m.csv\n",
      "INFO:root:Loading file ../../dataset/first_disease_sel/DIABETE/eGSE13760m.csv\n",
      "INFO:root:Loading file ../../dataset/first_disease_sel/DIABETE/eGSE38642m.csv\n",
      "INFO:root:Loading file ../../dataset/first_disease_sel/DIABETE/eGSE19790m.csv\n",
      "INFO:root:Loading file ../../dataset/first_disease_sel/DIABETE/eGSE179568m.csv\n",
      "INFO:root:Loading file ../../dataset/first_disease_sel/DIABETE/eGSE189849m.csv\n",
      "INFO:root:Loading file ../../dataset/first_disease_sel/DIABETE/eGSE25462m.csv\n",
      "INFO:root:Loading file ../../dataset/first_disease_sel/DIABETE/eGSE162622m.csv\n",
      "INFO:root:Loading file ../../dataset/first_disease_sel/DIABETE/eGSE27949m.csv\n",
      "INFO:root:Loading file ../../dataset/first_disease_sel/DIABETE/eGSE176230m.csv\n",
      "INFO:root:Load completed\n",
      "INFO:root:Load completed\n",
      "INFO:root:Load completed\n",
      "INFO:root:Load completed\n",
      "INFO:root:Load completed\n",
      "INFO:root:Load completed\n",
      "INFO:root:Load completed\n",
      "INFO:root:Load completed\n",
      "INFO:root:Load completed\n",
      "INFO:root:Load completed\n",
      "INFO:root:Load completed\n",
      "INFO:root:Load completed\n",
      "INFO:root:Load completed\n",
      "INFO:root:Load completed\n",
      "INFO:root:Load completed\n",
      "INFO:root:Load completed\n",
      "INFO:root:Load completed\n",
      "INFO:root:Load completed\n",
      "INFO:root:Datasets loading completed\n"
     ]
    }
   ],
   "source": [
    "# Load dataset\n",
    "datasets = load_datasets(DATASET_PATH)\n",
    "# compute intersection\n",
    "colname_intersection = compute_ds_col_intersection(datasets)\n",
    "# clean datasets\n",
    "datasets = clean_datasets(datasets, colname_intersection)"
   ]
  },
  {
   "cell_type": "markdown",
   "metadata": {
    "pycharm": {
     "name": "#%% md\n"
    }
   },
   "source": [
    "## Outlier detection"
   ]
  },
  {
   "cell_type": "code",
   "execution_count": 12,
   "metadata": {
    "pycharm": {
     "name": "#%%\n"
    }
   },
   "outputs": [
    {
     "name": "stderr",
     "output_type": "stream",
     "text": [
      "INFO:root:Computing outlier detection on dataset...\n",
      "INFO:root:Computing outlier detection on dataset...\n",
      "INFO:root:Computing outlier detection on dataset...\n",
      "INFO:root:Computing outlier detection on dataset...\n",
      "INFO:root:Computing outlier detection on dataset...\n",
      "INFO:root:Computing outlier detection on dataset...\n",
      "INFO:root:Computing outlier detection on dataset...\n",
      "INFO:root:Computing outlier detection on dataset...\n",
      "INFO:root:Computing outlier detection on dataset...\n",
      "INFO:root:Computing outlier detection on dataset...\n",
      "INFO:root:Computing outlier detection on dataset...\n",
      "INFO:root:Computing outlier detection on dataset...\n",
      "INFO:root:Computing outlier detection on dataset...\n",
      "INFO:root:Computing outlier detection on dataset...\n",
      "INFO:root:Computing outlier detection on dataset...\n",
      "INFO:root:Computing outlier detection on dataset...\n",
      "INFO:root:Computing outlier detection on dataset...\n",
      "INFO:root:Computing outlier detection on dataset...\n"
     ]
    }
   ],
   "source": [
    "compute_outlier(datasets)"
   ]
  },
  {
   "cell_type": "markdown",
   "metadata": {
    "pycharm": {
     "name": "#%% md\n"
    }
   },
   "source": [
    "## Scaling"
   ]
  },
  {
   "cell_type": "code",
   "execution_count": 13,
   "metadata": {
    "pycharm": {
     "name": "#%%\n"
    }
   },
   "outputs": [],
   "source": [
    "scale_minmax(datasets)"
   ]
  },
  {
   "cell_type": "markdown",
   "metadata": {
    "pycharm": {
     "name": "#%% md\n"
    }
   },
   "source": [
    "## Building unique DS"
   ]
  },
  {
   "cell_type": "code",
   "execution_count": 14,
   "metadata": {
    "pycharm": {
     "name": "#%%\n"
    }
   },
   "outputs": [
    {
     "data": {
      "text/html": [
       "<div>\n",
       "<style scoped>\n",
       "    .dataframe tbody tr th:only-of-type {\n",
       "        vertical-align: middle;\n",
       "    }\n",
       "\n",
       "    .dataframe tbody tr th {\n",
       "        vertical-align: top;\n",
       "    }\n",
       "\n",
       "    .dataframe thead th {\n",
       "        text-align: right;\n",
       "    }\n",
       "</style>\n",
       "<table border=\"1\" class=\"dataframe\">\n",
       "  <thead>\n",
       "    <tr style=\"text-align: right;\">\n",
       "      <th></th>\n",
       "      <th>TRIM62</th>\n",
       "      <th>PCDHB13</th>\n",
       "      <th>KANK3</th>\n",
       "      <th>MPC1</th>\n",
       "      <th>SYPL1</th>\n",
       "      <th>ZNF749</th>\n",
       "      <th>IL33</th>\n",
       "      <th>KANSL2</th>\n",
       "      <th>RHBDF1</th>\n",
       "      <th>STX7</th>\n",
       "      <th>...</th>\n",
       "      <th>SIRT1</th>\n",
       "      <th>SUB1</th>\n",
       "      <th>ZNF236</th>\n",
       "      <th>PLSCR1</th>\n",
       "      <th>STARD13</th>\n",
       "      <th>PKNOX1</th>\n",
       "      <th>CIAO1</th>\n",
       "      <th>TCN2</th>\n",
       "      <th>SPAG5</th>\n",
       "      <th>CALR</th>\n",
       "    </tr>\n",
       "  </thead>\n",
       "  <tbody>\n",
       "    <tr>\n",
       "      <th>0</th>\n",
       "      <td>0.797459</td>\n",
       "      <td>0.000000</td>\n",
       "      <td>0.168882</td>\n",
       "      <td>0.575958</td>\n",
       "      <td>0.656647</td>\n",
       "      <td>0.718550</td>\n",
       "      <td>0.916823</td>\n",
       "      <td>0.418937</td>\n",
       "      <td>0.373872</td>\n",
       "      <td>1.000000</td>\n",
       "      <td>...</td>\n",
       "      <td>0.652821</td>\n",
       "      <td>0.415223</td>\n",
       "      <td>0.580271</td>\n",
       "      <td>0.192107</td>\n",
       "      <td>0.428865</td>\n",
       "      <td>0.608853</td>\n",
       "      <td>0.641888</td>\n",
       "      <td>0.325864</td>\n",
       "      <td>1.000000</td>\n",
       "      <td>0.260720</td>\n",
       "    </tr>\n",
       "    <tr>\n",
       "      <th>1</th>\n",
       "      <td>1.000000</td>\n",
       "      <td>1.000000</td>\n",
       "      <td>0.428235</td>\n",
       "      <td>0.815511</td>\n",
       "      <td>0.563424</td>\n",
       "      <td>0.656277</td>\n",
       "      <td>0.948326</td>\n",
       "      <td>0.436328</td>\n",
       "      <td>0.266781</td>\n",
       "      <td>0.835027</td>\n",
       "      <td>...</td>\n",
       "      <td>1.000000</td>\n",
       "      <td>0.830930</td>\n",
       "      <td>0.666891</td>\n",
       "      <td>0.407804</td>\n",
       "      <td>0.454245</td>\n",
       "      <td>0.838296</td>\n",
       "      <td>0.476715</td>\n",
       "      <td>0.606548</td>\n",
       "      <td>0.155293</td>\n",
       "      <td>0.341374</td>\n",
       "    </tr>\n",
       "    <tr>\n",
       "      <th>2</th>\n",
       "      <td>0.686826</td>\n",
       "      <td>0.687001</td>\n",
       "      <td>0.178277</td>\n",
       "      <td>0.374021</td>\n",
       "      <td>0.569847</td>\n",
       "      <td>0.621221</td>\n",
       "      <td>0.878808</td>\n",
       "      <td>0.290794</td>\n",
       "      <td>0.238780</td>\n",
       "      <td>0.950385</td>\n",
       "      <td>...</td>\n",
       "      <td>0.527637</td>\n",
       "      <td>0.633980</td>\n",
       "      <td>0.583810</td>\n",
       "      <td>0.307564</td>\n",
       "      <td>0.111423</td>\n",
       "      <td>0.226440</td>\n",
       "      <td>0.914359</td>\n",
       "      <td>0.220131</td>\n",
       "      <td>0.405107</td>\n",
       "      <td>0.358465</td>\n",
       "    </tr>\n",
       "    <tr>\n",
       "      <th>3</th>\n",
       "      <td>0.634377</td>\n",
       "      <td>0.950027</td>\n",
       "      <td>0.756127</td>\n",
       "      <td>0.728268</td>\n",
       "      <td>0.748699</td>\n",
       "      <td>0.023605</td>\n",
       "      <td>0.279749</td>\n",
       "      <td>0.421291</td>\n",
       "      <td>0.510097</td>\n",
       "      <td>0.981998</td>\n",
       "      <td>...</td>\n",
       "      <td>0.606079</td>\n",
       "      <td>0.745872</td>\n",
       "      <td>0.824777</td>\n",
       "      <td>0.177066</td>\n",
       "      <td>0.559826</td>\n",
       "      <td>0.752660</td>\n",
       "      <td>1.000000</td>\n",
       "      <td>0.282870</td>\n",
       "      <td>0.712051</td>\n",
       "      <td>0.354298</td>\n",
       "    </tr>\n",
       "    <tr>\n",
       "      <th>4</th>\n",
       "      <td>0.758194</td>\n",
       "      <td>0.790219</td>\n",
       "      <td>0.570155</td>\n",
       "      <td>0.233576</td>\n",
       "      <td>0.542664</td>\n",
       "      <td>0.192884</td>\n",
       "      <td>0.246836</td>\n",
       "      <td>0.444366</td>\n",
       "      <td>0.544355</td>\n",
       "      <td>0.673613</td>\n",
       "      <td>...</td>\n",
       "      <td>0.675958</td>\n",
       "      <td>0.405650</td>\n",
       "      <td>0.847030</td>\n",
       "      <td>0.000000</td>\n",
       "      <td>0.429775</td>\n",
       "      <td>0.912848</td>\n",
       "      <td>0.386558</td>\n",
       "      <td>0.959064</td>\n",
       "      <td>0.794624</td>\n",
       "      <td>0.728822</td>\n",
       "    </tr>\n",
       "    <tr>\n",
       "      <th>...</th>\n",
       "      <td>...</td>\n",
       "      <td>...</td>\n",
       "      <td>...</td>\n",
       "      <td>...</td>\n",
       "      <td>...</td>\n",
       "      <td>...</td>\n",
       "      <td>...</td>\n",
       "      <td>...</td>\n",
       "      <td>...</td>\n",
       "      <td>...</td>\n",
       "      <td>...</td>\n",
       "      <td>...</td>\n",
       "      <td>...</td>\n",
       "      <td>...</td>\n",
       "      <td>...</td>\n",
       "      <td>...</td>\n",
       "      <td>...</td>\n",
       "      <td>...</td>\n",
       "      <td>...</td>\n",
       "      <td>...</td>\n",
       "      <td>...</td>\n",
       "    </tr>\n",
       "    <tr>\n",
       "      <th>394</th>\n",
       "      <td>0.350459</td>\n",
       "      <td>0.000000</td>\n",
       "      <td>0.484848</td>\n",
       "      <td>0.690741</td>\n",
       "      <td>0.279934</td>\n",
       "      <td>0.595142</td>\n",
       "      <td>0.153846</td>\n",
       "      <td>0.410208</td>\n",
       "      <td>0.571429</td>\n",
       "      <td>0.893023</td>\n",
       "      <td>...</td>\n",
       "      <td>0.448312</td>\n",
       "      <td>0.637045</td>\n",
       "      <td>1.000000</td>\n",
       "      <td>0.063781</td>\n",
       "      <td>0.153846</td>\n",
       "      <td>0.954545</td>\n",
       "      <td>0.294118</td>\n",
       "      <td>0.103825</td>\n",
       "      <td>0.578947</td>\n",
       "      <td>0.441176</td>\n",
       "    </tr>\n",
       "    <tr>\n",
       "      <th>395</th>\n",
       "      <td>0.194495</td>\n",
       "      <td>0.000000</td>\n",
       "      <td>0.333333</td>\n",
       "      <td>0.520370</td>\n",
       "      <td>0.478943</td>\n",
       "      <td>0.145749</td>\n",
       "      <td>0.230769</td>\n",
       "      <td>0.759924</td>\n",
       "      <td>0.857143</td>\n",
       "      <td>0.007752</td>\n",
       "      <td>...</td>\n",
       "      <td>0.279536</td>\n",
       "      <td>0.153105</td>\n",
       "      <td>0.263285</td>\n",
       "      <td>0.280182</td>\n",
       "      <td>0.307692</td>\n",
       "      <td>0.170455</td>\n",
       "      <td>0.247549</td>\n",
       "      <td>0.459016</td>\n",
       "      <td>0.421053</td>\n",
       "      <td>0.330967</td>\n",
       "    </tr>\n",
       "    <tr>\n",
       "      <th>396</th>\n",
       "      <td>0.343119</td>\n",
       "      <td>0.500000</td>\n",
       "      <td>0.969697</td>\n",
       "      <td>0.640741</td>\n",
       "      <td>0.462428</td>\n",
       "      <td>0.599190</td>\n",
       "      <td>0.000000</td>\n",
       "      <td>0.981096</td>\n",
       "      <td>0.571429</td>\n",
       "      <td>0.000000</td>\n",
       "      <td>...</td>\n",
       "      <td>0.047468</td>\n",
       "      <td>0.135974</td>\n",
       "      <td>0.357488</td>\n",
       "      <td>0.218109</td>\n",
       "      <td>0.230769</td>\n",
       "      <td>0.215909</td>\n",
       "      <td>0.485294</td>\n",
       "      <td>0.650273</td>\n",
       "      <td>0.526316</td>\n",
       "      <td>0.542596</td>\n",
       "    </tr>\n",
       "    <tr>\n",
       "      <th>397</th>\n",
       "      <td>0.275229</td>\n",
       "      <td>0.000000</td>\n",
       "      <td>0.909091</td>\n",
       "      <td>0.416667</td>\n",
       "      <td>0.012386</td>\n",
       "      <td>0.441296</td>\n",
       "      <td>0.000000</td>\n",
       "      <td>0.304348</td>\n",
       "      <td>0.571429</td>\n",
       "      <td>0.158140</td>\n",
       "      <td>...</td>\n",
       "      <td>0.000000</td>\n",
       "      <td>0.069593</td>\n",
       "      <td>0.195652</td>\n",
       "      <td>0.184795</td>\n",
       "      <td>0.230769</td>\n",
       "      <td>0.250000</td>\n",
       "      <td>0.127451</td>\n",
       "      <td>0.000000</td>\n",
       "      <td>0.245614</td>\n",
       "      <td>0.000000</td>\n",
       "    </tr>\n",
       "    <tr>\n",
       "      <th>398</th>\n",
       "      <td>1.000000</td>\n",
       "      <td>0.000000</td>\n",
       "      <td>1.000000</td>\n",
       "      <td>0.000000</td>\n",
       "      <td>0.327828</td>\n",
       "      <td>0.246964</td>\n",
       "      <td>0.000000</td>\n",
       "      <td>0.136106</td>\n",
       "      <td>0.285714</td>\n",
       "      <td>0.027907</td>\n",
       "      <td>...</td>\n",
       "      <td>0.143460</td>\n",
       "      <td>0.000000</td>\n",
       "      <td>0.115942</td>\n",
       "      <td>0.251708</td>\n",
       "      <td>0.307692</td>\n",
       "      <td>1.000000</td>\n",
       "      <td>0.066176</td>\n",
       "      <td>1.000000</td>\n",
       "      <td>0.000000</td>\n",
       "      <td>0.918864</td>\n",
       "    </tr>\n",
       "  </tbody>\n",
       "</table>\n",
       "<p>399 rows × 4602 columns</p>\n",
       "</div>"
      ],
      "text/plain": [
       "       TRIM62   PCDHB13     KANK3      MPC1     SYPL1    ZNF749      IL33  \\\n",
       "0    0.797459  0.000000  0.168882  0.575958  0.656647  0.718550  0.916823   \n",
       "1    1.000000  1.000000  0.428235  0.815511  0.563424  0.656277  0.948326   \n",
       "2    0.686826  0.687001  0.178277  0.374021  0.569847  0.621221  0.878808   \n",
       "3    0.634377  0.950027  0.756127  0.728268  0.748699  0.023605  0.279749   \n",
       "4    0.758194  0.790219  0.570155  0.233576  0.542664  0.192884  0.246836   \n",
       "..        ...       ...       ...       ...       ...       ...       ...   \n",
       "394  0.350459  0.000000  0.484848  0.690741  0.279934  0.595142  0.153846   \n",
       "395  0.194495  0.000000  0.333333  0.520370  0.478943  0.145749  0.230769   \n",
       "396  0.343119  0.500000  0.969697  0.640741  0.462428  0.599190  0.000000   \n",
       "397  0.275229  0.000000  0.909091  0.416667  0.012386  0.441296  0.000000   \n",
       "398  1.000000  0.000000  1.000000  0.000000  0.327828  0.246964  0.000000   \n",
       "\n",
       "       KANSL2    RHBDF1      STX7  ...     SIRT1      SUB1    ZNF236  \\\n",
       "0    0.418937  0.373872  1.000000  ...  0.652821  0.415223  0.580271   \n",
       "1    0.436328  0.266781  0.835027  ...  1.000000  0.830930  0.666891   \n",
       "2    0.290794  0.238780  0.950385  ...  0.527637  0.633980  0.583810   \n",
       "3    0.421291  0.510097  0.981998  ...  0.606079  0.745872  0.824777   \n",
       "4    0.444366  0.544355  0.673613  ...  0.675958  0.405650  0.847030   \n",
       "..        ...       ...       ...  ...       ...       ...       ...   \n",
       "394  0.410208  0.571429  0.893023  ...  0.448312  0.637045  1.000000   \n",
       "395  0.759924  0.857143  0.007752  ...  0.279536  0.153105  0.263285   \n",
       "396  0.981096  0.571429  0.000000  ...  0.047468  0.135974  0.357488   \n",
       "397  0.304348  0.571429  0.158140  ...  0.000000  0.069593  0.195652   \n",
       "398  0.136106  0.285714  0.027907  ...  0.143460  0.000000  0.115942   \n",
       "\n",
       "       PLSCR1   STARD13    PKNOX1     CIAO1      TCN2     SPAG5      CALR  \n",
       "0    0.192107  0.428865  0.608853  0.641888  0.325864  1.000000  0.260720  \n",
       "1    0.407804  0.454245  0.838296  0.476715  0.606548  0.155293  0.341374  \n",
       "2    0.307564  0.111423  0.226440  0.914359  0.220131  0.405107  0.358465  \n",
       "3    0.177066  0.559826  0.752660  1.000000  0.282870  0.712051  0.354298  \n",
       "4    0.000000  0.429775  0.912848  0.386558  0.959064  0.794624  0.728822  \n",
       "..        ...       ...       ...       ...       ...       ...       ...  \n",
       "394  0.063781  0.153846  0.954545  0.294118  0.103825  0.578947  0.441176  \n",
       "395  0.280182  0.307692  0.170455  0.247549  0.459016  0.421053  0.330967  \n",
       "396  0.218109  0.230769  0.215909  0.485294  0.650273  0.526316  0.542596  \n",
       "397  0.184795  0.230769  0.250000  0.127451  0.000000  0.245614  0.000000  \n",
       "398  0.251708  0.307692  1.000000  0.066176  1.000000  0.000000  0.918864  \n",
       "\n",
       "[399 rows x 4602 columns]"
      ]
     },
     "execution_count": 14,
     "metadata": {},
     "output_type": "execute_result"
    }
   ],
   "source": [
    "# finally build the unique dataset\n",
    "dataset = build_dataset(datasets)\n",
    "dataset"
   ]
  },
  {
   "cell_type": "markdown",
   "metadata": {
    "pycharm": {
     "name": "#%% md\n"
    }
   },
   "source": [
    "## Inspecting dataset we have built"
   ]
  },
  {
   "cell_type": "code",
   "execution_count": 10,
   "metadata": {
    "pycharm": {
     "name": "#%%\n"
    }
   },
   "outputs": [
    {
     "data": {
      "text/plain": [
       "0           GS\n",
       "1           GS\n",
       "2           GS\n",
       "3           GS\n",
       "4           GS\n",
       "        ...   \n",
       "394    DIABETE\n",
       "395    DIABETE\n",
       "396    DIABETE\n",
       "397    DIABETE\n",
       "398    DIABETE\n",
       "Name: DISEASE, Length: 399, dtype: object"
      ]
     },
     "execution_count": 10,
     "metadata": {},
     "output_type": "execute_result"
    }
   ],
   "source": [
    "dataset['DISEASE']"
   ]
  },
  {
   "cell_type": "code",
   "execution_count": 11,
   "metadata": {
    "pycharm": {
     "name": "#%%\n"
    }
   },
   "outputs": [
    {
     "name": "stdout",
     "output_type": "stream",
     "text": [
      "DIABETE    176\n",
      "A1A        128\n",
      "NALD        38\n",
      "GS          29\n",
      "MCM         28\n",
      "Name: DISEASE, dtype: int64\n"
     ]
    },
    {
     "data": {
      "text/plain": [
       "<AxesSubplot:>"
      ]
     },
     "execution_count": 11,
     "metadata": {},
     "output_type": "execute_result"
    },
    {
     "data": {
      "image/png": "[encoded data removed]",
      "text/plain": [
       "<Figure size 432x288 with 1 Axes>"
      ]
     },
     "metadata": {
      "needs_background": "light"
     },
     "output_type": "display_data"
    }
   ],
   "source": [
    "# plotting the number of sample for each disease\n",
    "disease = dataset['DISEASE'].value_counts()\n",
    "print(disease)\n",
    "disease.plot.bar()"
   ]
  }
 ],
 "metadata": {
  "kernelspec": {
   "display_name": "Python 3 (ipykernel)",
   "language": "python",
   "name": "python3"
  },
  "language_info": {
   "codemirror_mode": {
    "name": "ipython",
    "version": 3
   },
   "file_extension": ".py",
   "mimetype": "text/x-python",
   "name": "python",
   "nbconvert_exporter": "python",
   "pygments_lexer": "ipython3",
   "version": "3.9.7"
  }
 },
 "nbformat": 4,
 "nbformat_minor": 1
}