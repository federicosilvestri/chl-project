{
 "cells": [
  {
   "cell_type": "markdown",
   "metadata": {
    "pycharm": {
     "name": "#%% md\n"
    }
   },
   "source": [
    "# Testing dataset loading\n",
    "\n",
    "This notebook contains code that run the pipeline we have created to analyze a set of datasets."
   ]
  },
  {
   "cell_type": "code",
   "execution_count": 1,
   "metadata": {
    "pycharm": {
     "name": "#%%\n"
    }
   },
   "outputs": [],
   "source": [
    "# adding the project root inside the python path\n",
    "import sys\n",
    "import os\n",
    "\n",
    "sys.path.insert(0, os.path.abspath('..'))"
   ]
  },
  {
   "cell_type": "code",
   "execution_count": 2,
   "metadata": {
    "pycharm": {
     "name": "#%%\n"
    }
   },
   "outputs": [],
   "source": [
    "# The path where the dataset are stored\n",
    "DATASET_PATH: str = \"../../dataset/first_disease_sel/\"\n",
    "DISEASE_COLNAME: str = 'DISEASE'"
   ]
  },
  {
   "cell_type": "code",
   "execution_count": 3,
   "metadata": {
    "pycharm": {
     "name": "#%%\n"
    }
   },
   "outputs": [],
   "source": [
    "from analysis.dataset import load_datasets, compute_ds_col_intersection, clean_datasets, build_dataset, scale_minmax"
   ]
  },
  {
   "cell_type": "markdown",
   "metadata": {
    "pycharm": {
     "name": "#%% md\n"
    }
   },
   "source": [
    "### Load datasets"
   ]
  },
  {
   "cell_type": "code",
   "execution_count": 4,
   "metadata": {
    "pycharm": {
     "name": "#%%\n"
    }
   },
   "outputs": [
    {
     "name": "stderr",
     "output_type": "stream",
     "text": [
      "INFO:root:Inspecting directory ../../dataset/first_disease_sel/GS\n",
      "INFO:root:Setting disease as GS\n",
      "INFO:root:Inspecting directory ../../dataset/first_disease_sel/MCM\n",
      "INFO:root:Setting disease as MCM\n",
      "INFO:root:Inspecting directory ../../dataset/first_disease_sel/NALD\n",
      "INFO:root:Setting disease as NALD\n",
      "INFO:root:Inspecting directory ../../dataset/first_disease_sel/A1A\n",
      "INFO:root:Setting disease as A1A\n",
      "INFO:root:Inspecting directory ../../dataset/first_disease_sel/DIABETE\n",
      "INFO:root:Setting disease as DIABETE\n"
     ]
    }
   ],
   "source": [
    "# Load dataset\n",
    "datasets = load_datasets(DATASET_PATH)\n",
    "# compute intersection\n",
    "colname_intersection = compute_ds_col_intersection(datasets)\n",
    "# clean datasets\n",
    "datasets = clean_datasets(datasets, colname_intersection)"
   ]
  },
  {
   "cell_type": "markdown",
   "metadata": {
    "pycharm": {
     "name": "#%% md\n"
    }
   },
   "source": []
  },
  {
   "cell_type": "markdown",
   "metadata": {
    "pycharm": {
     "name": "#%% md\n"
    }
   },
   "source": [
    "## Scaling"
   ]
  },
  {
   "cell_type": "code",
   "execution_count": 5,
   "metadata": {
    "pycharm": {
     "name": "#%%\n"
    }
   },
   "outputs": [],
   "source": [
    "scale_minmax(datasets)"
   ]
  },
  {
   "cell_type": "markdown",
   "metadata": {
    "pycharm": {
     "name": "#%% md\n"
    }
   },
   "source": [
    "## Building unique DS"
   ]
  },
  {
   "cell_type": "code",
   "execution_count": 8,
   "metadata": {
    "pycharm": {
     "name": "#%%\n"
    }
   },
   "outputs": [
    {
     "data": {
      "text/html": [
       "<div>\n",
       "<style scoped>\n",
       "    .dataframe tbody tr th:only-of-type {\n",
       "        vertical-align: middle;\n",
       "    }\n",
       "\n",
       "    .dataframe tbody tr th {\n",
       "        vertical-align: top;\n",
       "    }\n",
       "\n",
       "    .dataframe thead th {\n",
       "        text-align: right;\n",
       "    }\n",
       "</style>\n",
       "<table border=\"1\" class=\"dataframe\">\n",
       "  <thead>\n",
       "    <tr style=\"text-align: right;\">\n",
       "      <th></th>\n",
       "      <th>RASAL2</th>\n",
       "      <th>RNF14</th>\n",
       "      <th>C5</th>\n",
       "      <th>TSPYL4</th>\n",
       "      <th>TMEM109</th>\n",
       "      <th>GOSR2</th>\n",
       "      <th>TMEM43</th>\n",
       "      <th>NNT</th>\n",
       "      <th>VPS13C</th>\n",
       "      <th>FBXO5</th>\n",
       "      <th>...</th>\n",
       "      <th>CTBP1</th>\n",
       "      <th>ARHGAP4</th>\n",
       "      <th>WDR74</th>\n",
       "      <th>PROX1</th>\n",
       "      <th>RAPGEF6</th>\n",
       "      <th>GOLGB1</th>\n",
       "      <th>SNRNP200</th>\n",
       "      <th>PRR11</th>\n",
       "      <th>PNKP</th>\n",
       "      <th>RALA</th>\n",
       "    </tr>\n",
       "  </thead>\n",
       "  <tbody>\n",
       "    <tr>\n",
       "      <th>0</th>\n",
       "      <td>0.556184</td>\n",
       "      <td>0.449244</td>\n",
       "      <td>0.026878</td>\n",
       "      <td>0.201962</td>\n",
       "      <td>0.000000</td>\n",
       "      <td>0.408007</td>\n",
       "      <td>0.629577</td>\n",
       "      <td>0.660355</td>\n",
       "      <td>0.739738</td>\n",
       "      <td>0.859315</td>\n",
       "      <td>...</td>\n",
       "      <td>0.873404</td>\n",
       "      <td>0.281715</td>\n",
       "      <td>0.621032</td>\n",
       "      <td>0.714196</td>\n",
       "      <td>0.676059</td>\n",
       "      <td>0.644772</td>\n",
       "      <td>0.526866</td>\n",
       "      <td>1.000000</td>\n",
       "      <td>0.480926</td>\n",
       "      <td>0.243442</td>\n",
       "    </tr>\n",
       "    <tr>\n",
       "      <th>1</th>\n",
       "      <td>0.300319</td>\n",
       "      <td>0.856086</td>\n",
       "      <td>0.759252</td>\n",
       "      <td>0.701665</td>\n",
       "      <td>0.449123</td>\n",
       "      <td>0.550269</td>\n",
       "      <td>0.417878</td>\n",
       "      <td>0.649549</td>\n",
       "      <td>0.524726</td>\n",
       "      <td>0.476781</td>\n",
       "      <td>...</td>\n",
       "      <td>0.554926</td>\n",
       "      <td>0.587365</td>\n",
       "      <td>0.000000</td>\n",
       "      <td>0.669198</td>\n",
       "      <td>0.989629</td>\n",
       "      <td>0.539980</td>\n",
       "      <td>0.551326</td>\n",
       "      <td>0.473124</td>\n",
       "      <td>0.000000</td>\n",
       "      <td>0.726285</td>\n",
       "    </tr>\n",
       "    <tr>\n",
       "      <th>2</th>\n",
       "      <td>0.631467</td>\n",
       "      <td>0.929334</td>\n",
       "      <td>0.406232</td>\n",
       "      <td>0.792018</td>\n",
       "      <td>0.661140</td>\n",
       "      <td>0.616352</td>\n",
       "      <td>0.387641</td>\n",
       "      <td>0.199840</td>\n",
       "      <td>0.323722</td>\n",
       "      <td>0.235545</td>\n",
       "      <td>...</td>\n",
       "      <td>0.757259</td>\n",
       "      <td>0.758006</td>\n",
       "      <td>0.529242</td>\n",
       "      <td>0.727069</td>\n",
       "      <td>0.603068</td>\n",
       "      <td>0.361406</td>\n",
       "      <td>0.388200</td>\n",
       "      <td>0.090030</td>\n",
       "      <td>0.512093</td>\n",
       "      <td>0.623744</td>\n",
       "    </tr>\n",
       "    <tr>\n",
       "      <th>3</th>\n",
       "      <td>0.226030</td>\n",
       "      <td>0.918770</td>\n",
       "      <td>1.000000</td>\n",
       "      <td>0.703524</td>\n",
       "      <td>0.397678</td>\n",
       "      <td>0.545797</td>\n",
       "      <td>0.625244</td>\n",
       "      <td>0.816752</td>\n",
       "      <td>0.303387</td>\n",
       "      <td>1.000000</td>\n",
       "      <td>...</td>\n",
       "      <td>0.351778</td>\n",
       "      <td>0.460613</td>\n",
       "      <td>0.572162</td>\n",
       "      <td>1.000000</td>\n",
       "      <td>0.601653</td>\n",
       "      <td>0.544113</td>\n",
       "      <td>0.357747</td>\n",
       "      <td>0.756736</td>\n",
       "      <td>0.506161</td>\n",
       "      <td>0.667931</td>\n",
       "    </tr>\n",
       "    <tr>\n",
       "      <th>4</th>\n",
       "      <td>0.505492</td>\n",
       "      <td>0.580152</td>\n",
       "      <td>0.817695</td>\n",
       "      <td>0.885859</td>\n",
       "      <td>0.392898</td>\n",
       "      <td>0.860151</td>\n",
       "      <td>1.000000</td>\n",
       "      <td>0.786648</td>\n",
       "      <td>0.369560</td>\n",
       "      <td>0.310709</td>\n",
       "      <td>...</td>\n",
       "      <td>0.937004</td>\n",
       "      <td>0.487369</td>\n",
       "      <td>0.044619</td>\n",
       "      <td>0.501823</td>\n",
       "      <td>0.885514</td>\n",
       "      <td>0.460978</td>\n",
       "      <td>0.660097</td>\n",
       "      <td>0.388496</td>\n",
       "      <td>0.332599</td>\n",
       "      <td>0.439031</td>\n",
       "    </tr>\n",
       "    <tr>\n",
       "      <th>...</th>\n",
       "      <td>...</td>\n",
       "      <td>...</td>\n",
       "      <td>...</td>\n",
       "      <td>...</td>\n",
       "      <td>...</td>\n",
       "      <td>...</td>\n",
       "      <td>...</td>\n",
       "      <td>...</td>\n",
       "      <td>...</td>\n",
       "      <td>...</td>\n",
       "      <td>...</td>\n",
       "      <td>...</td>\n",
       "      <td>...</td>\n",
       "      <td>...</td>\n",
       "      <td>...</td>\n",
       "      <td>...</td>\n",
       "      <td>...</td>\n",
       "      <td>...</td>\n",
       "      <td>...</td>\n",
       "      <td>...</td>\n",
       "      <td>...</td>\n",
       "    </tr>\n",
       "    <tr>\n",
       "      <th>12</th>\n",
       "      <td>0.214286</td>\n",
       "      <td>0.818919</td>\n",
       "      <td>0.581395</td>\n",
       "      <td>0.117647</td>\n",
       "      <td>0.120069</td>\n",
       "      <td>0.326683</td>\n",
       "      <td>0.410374</td>\n",
       "      <td>0.476605</td>\n",
       "      <td>0.533854</td>\n",
       "      <td>0.494444</td>\n",
       "      <td>...</td>\n",
       "      <td>0.198402</td>\n",
       "      <td>0.755994</td>\n",
       "      <td>0.426471</td>\n",
       "      <td>0.200000</td>\n",
       "      <td>0.487952</td>\n",
       "      <td>0.945995</td>\n",
       "      <td>0.677036</td>\n",
       "      <td>0.397959</td>\n",
       "      <td>0.879334</td>\n",
       "      <td>0.487091</td>\n",
       "    </tr>\n",
       "    <tr>\n",
       "      <th>13</th>\n",
       "      <td>0.000000</td>\n",
       "      <td>0.056216</td>\n",
       "      <td>0.000000</td>\n",
       "      <td>1.000000</td>\n",
       "      <td>0.612350</td>\n",
       "      <td>0.670823</td>\n",
       "      <td>1.000000</td>\n",
       "      <td>0.355822</td>\n",
       "      <td>0.130859</td>\n",
       "      <td>0.405556</td>\n",
       "      <td>...</td>\n",
       "      <td>0.579228</td>\n",
       "      <td>0.086037</td>\n",
       "      <td>0.696078</td>\n",
       "      <td>0.200000</td>\n",
       "      <td>0.319277</td>\n",
       "      <td>0.104976</td>\n",
       "      <td>0.220494</td>\n",
       "      <td>0.173469</td>\n",
       "      <td>0.134535</td>\n",
       "      <td>0.127367</td>\n",
       "    </tr>\n",
       "    <tr>\n",
       "      <th>14</th>\n",
       "      <td>0.285714</td>\n",
       "      <td>0.045676</td>\n",
       "      <td>0.426357</td>\n",
       "      <td>0.742081</td>\n",
       "      <td>1.000000</td>\n",
       "      <td>1.000000</td>\n",
       "      <td>0.199847</td>\n",
       "      <td>0.252448</td>\n",
       "      <td>0.168945</td>\n",
       "      <td>0.605556</td>\n",
       "      <td>...</td>\n",
       "      <td>1.000000</td>\n",
       "      <td>0.136812</td>\n",
       "      <td>0.862745</td>\n",
       "      <td>0.000000</td>\n",
       "      <td>0.102410</td>\n",
       "      <td>0.013350</td>\n",
       "      <td>0.234218</td>\n",
       "      <td>0.387755</td>\n",
       "      <td>0.220527</td>\n",
       "      <td>0.132530</td>\n",
       "    </tr>\n",
       "    <tr>\n",
       "      <th>15</th>\n",
       "      <td>0.071429</td>\n",
       "      <td>0.000000</td>\n",
       "      <td>0.069767</td>\n",
       "      <td>0.900452</td>\n",
       "      <td>0.238422</td>\n",
       "      <td>0.820449</td>\n",
       "      <td>0.289855</td>\n",
       "      <td>0.107726</td>\n",
       "      <td>0.111328</td>\n",
       "      <td>0.350000</td>\n",
       "      <td>...</td>\n",
       "      <td>0.336884</td>\n",
       "      <td>0.000000</td>\n",
       "      <td>0.392157</td>\n",
       "      <td>0.000000</td>\n",
       "      <td>0.147590</td>\n",
       "      <td>0.098301</td>\n",
       "      <td>0.201281</td>\n",
       "      <td>0.091837</td>\n",
       "      <td>0.325936</td>\n",
       "      <td>0.000000</td>\n",
       "    </tr>\n",
       "    <tr>\n",
       "      <th>16</th>\n",
       "      <td>0.428571</td>\n",
       "      <td>0.063514</td>\n",
       "      <td>0.139535</td>\n",
       "      <td>0.357466</td>\n",
       "      <td>0.823328</td>\n",
       "      <td>0.603491</td>\n",
       "      <td>0.556064</td>\n",
       "      <td>0.000000</td>\n",
       "      <td>0.000000</td>\n",
       "      <td>0.000000</td>\n",
       "      <td>...</td>\n",
       "      <td>0.969374</td>\n",
       "      <td>0.765162</td>\n",
       "      <td>0.392157</td>\n",
       "      <td>0.200000</td>\n",
       "      <td>0.000000</td>\n",
       "      <td>0.000000</td>\n",
       "      <td>0.462489</td>\n",
       "      <td>0.459184</td>\n",
       "      <td>0.638003</td>\n",
       "      <td>0.130809</td>\n",
       "    </tr>\n",
       "  </tbody>\n",
       "</table>\n",
       "<p>399 rows × 4602 columns</p>\n",
       "</div>"
      ],
      "text/plain": [
       "      RASAL2     RNF14        C5    TSPYL4   TMEM109     GOSR2    TMEM43  \\\n",
       "0   0.556184  0.449244  0.026878  0.201962  0.000000  0.408007  0.629577   \n",
       "1   0.300319  0.856086  0.759252  0.701665  0.449123  0.550269  0.417878   \n",
       "2   0.631467  0.929334  0.406232  0.792018  0.661140  0.616352  0.387641   \n",
       "3   0.226030  0.918770  1.000000  0.703524  0.397678  0.545797  0.625244   \n",
       "4   0.505492  0.580152  0.817695  0.885859  0.392898  0.860151  1.000000   \n",
       "..       ...       ...       ...       ...       ...       ...       ...   \n",
       "12  0.214286  0.818919  0.581395  0.117647  0.120069  0.326683  0.410374   \n",
       "13  0.000000  0.056216  0.000000  1.000000  0.612350  0.670823  1.000000   \n",
       "14  0.285714  0.045676  0.426357  0.742081  1.000000  1.000000  0.199847   \n",
       "15  0.071429  0.000000  0.069767  0.900452  0.238422  0.820449  0.289855   \n",
       "16  0.428571  0.063514  0.139535  0.357466  0.823328  0.603491  0.556064   \n",
       "\n",
       "         NNT    VPS13C     FBXO5  ...     CTBP1   ARHGAP4     WDR74     PROX1  \\\n",
       "0   0.660355  0.739738  0.859315  ...  0.873404  0.281715  0.621032  0.714196   \n",
       "1   0.649549  0.524726  0.476781  ...  0.554926  0.587365  0.000000  0.669198   \n",
       "2   0.199840  0.323722  0.235545  ...  0.757259  0.758006  0.529242  0.727069   \n",
       "3   0.816752  0.303387  1.000000  ...  0.351778  0.460613  0.572162  1.000000   \n",
       "4   0.786648  0.369560  0.310709  ...  0.937004  0.487369  0.044619  0.501823   \n",
       "..       ...       ...       ...  ...       ...       ...       ...       ...   \n",
       "12  0.476605  0.533854  0.494444  ...  0.198402  0.755994  0.426471  0.200000   \n",
       "13  0.355822  0.130859  0.405556  ...  0.579228  0.086037  0.696078  0.200000   \n",
       "14  0.252448  0.168945  0.605556  ...  1.000000  0.136812  0.862745  0.000000   \n",
       "15  0.107726  0.111328  0.350000  ...  0.336884  0.000000  0.392157  0.000000   \n",
       "16  0.000000  0.000000  0.000000  ...  0.969374  0.765162  0.392157  0.200000   \n",
       "\n",
       "     RAPGEF6    GOLGB1  SNRNP200     PRR11      PNKP      RALA  \n",
       "0   0.676059  0.644772  0.526866  1.000000  0.480926  0.243442  \n",
       "1   0.989629  0.539980  0.551326  0.473124  0.000000  0.726285  \n",
       "2   0.603068  0.361406  0.388200  0.090030  0.512093  0.623744  \n",
       "3   0.601653  0.544113  0.357747  0.756736  0.506161  0.667931  \n",
       "4   0.885514  0.460978  0.660097  0.388496  0.332599  0.439031  \n",
       "..       ...       ...       ...       ...       ...       ...  \n",
       "12  0.487952  0.945995  0.677036  0.397959  0.879334  0.487091  \n",
       "13  0.319277  0.104976  0.220494  0.173469  0.134535  0.127367  \n",
       "14  0.102410  0.013350  0.234218  0.387755  0.220527  0.132530  \n",
       "15  0.147590  0.098301  0.201281  0.091837  0.325936  0.000000  \n",
       "16  0.000000  0.000000  0.462489  0.459184  0.638003  0.130809  \n",
       "\n",
       "[399 rows x 4602 columns]"
      ]
     },
     "execution_count": 8,
     "metadata": {},
     "output_type": "execute_result"
    }
   ],
   "source": [
    "# finally build the unique dataset\n",
    "dataset = build_dataset(datasets)\n",
    "dataset"
   ]
  },
  {
   "cell_type": "markdown",
   "metadata": {
    "pycharm": {
     "name": "#%% md\n"
    }
   },
   "source": [
    "## Inspecting dataset we have built"
   ]
  },
  {
   "cell_type": "code",
   "execution_count": 9,
   "metadata": {
    "pycharm": {
     "name": "#%%\n"
    }
   },
   "outputs": [
    {
     "data": {
      "text/plain": [
       "0          GS\n",
       "1          GS\n",
       "2          GS\n",
       "3          GS\n",
       "4          GS\n",
       "       ...   \n",
       "12    DIABETE\n",
       "13    DIABETE\n",
       "14    DIABETE\n",
       "15    DIABETE\n",
       "16    DIABETE\n",
       "Name: DISEASE, Length: 399, dtype: object"
      ]
     },
     "execution_count": 9,
     "metadata": {},
     "output_type": "execute_result"
    }
   ],
   "source": [
    "dataset['DISEASE']"
   ]
  },
  {
   "cell_type": "code",
   "execution_count": 10,
   "metadata": {
    "pycharm": {
     "name": "#%%\n"
    }
   },
   "outputs": [
    {
     "name": "stdout",
     "output_type": "stream",
     "text": [
      "DIABETE    176\n",
      "A1A        128\n",
      "NALD        38\n",
      "GS          29\n",
      "MCM         28\n",
      "Name: DISEASE, dtype: int64\n"
     ]
    },
    {
     "data": {
      "text/plain": [
       "<AxesSubplot:>"
      ]
     },
     "execution_count": 10,
     "metadata": {},
     "output_type": "execute_result"
    },
    {
     "data": {
      "image/png": "[encoded data removed]",
      "text/plain": [
       "<Figure size 432x288 with 1 Axes>"
      ]
     },
     "metadata": {
      "needs_background": "light"
     },
     "output_type": "display_data"
    }
   ],
   "source": [
    "# plotting the number of sample for each disease\n",
    "disease = dataset['DISEASE'].value_counts()\n",
    "print(disease)\n",
    "disease.plot.bar()"
   ]
  },
  {
   "cell_type": "code",
   "execution_count": null,
   "metadata": {
    "pycharm": {
     "name": "#%%\n"
    }
   },
   "outputs": [],
   "source": [
    "import matplotlib.pyplot as plt\n",
    "from bioinfokit import analys, visuz\n",
    "import numpy as np"
   ]
  },
  {
   "cell_type": "code",
   "execution_count": null,
   "metadata": {
    "pycharm": {
     "name": "#%%\n"
    }
   },
   "outputs": [],
   "source": [
    "visuz.gene_exp.hmap(df=dataset.astype(float), rowclus=False, colclus=False, dim=(10, 10), tickfont=(2, 4), show=True)"
   ]
  }
 ],
 "metadata": {
  "kernelspec": {
   "display_name": "Python 3 (ipykernel)",
   "language": "python",
   "name": "python3"
  },
  "language_info": {
   "codemirror_mode": {
    "name": "ipython",
    "version": 3
   },
   "file_extension": ".py",
   "mimetype": "text/x-python",
   "name": "python",
   "nbconvert_exporter": "python",
   "pygments_lexer": "ipython3",
   "version": "3.9.7"
  }
 },
 "nbformat": 4,
 "nbformat_minor": 1
}
