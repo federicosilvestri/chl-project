{
 "cells": [
  {
   "cell_type": "markdown",
   "metadata": {
    "pycharm": {
     "name": "#%% md\n"
    }
   },
   "source": [
    "# Testing dataset loading\n",
    "\n",
    "This notebook contains code that run the pipeline we have created to analyze a set of datasets."
   ]
  },
  {
   "cell_type": "code",
   "execution_count": 1,
   "metadata": {
    "pycharm": {
     "name": "#%%\n"
    }
   },
   "outputs": [],
   "source": [
    "# adding the project root inside the python path\n",
    "import sys\n",
    "import os\n",
    "\n",
    "sys.path.insert(0, os.path.abspath('..'))"
   ]
  },
  {
   "cell_type": "code",
   "execution_count": 2,
   "metadata": {
    "pycharm": {
     "name": "#%%\n"
    }
   },
   "outputs": [],
   "source": [
    "# The path where the dataset are stored\n",
    "DATASET_PATH: str = \"../../dataset/first_disease_sel/\"\n",
    "DISEASE_COLNAME: str = 'DISEASE'"
   ]
  },
  {
   "cell_type": "code",
   "execution_count": 3,
   "metadata": {
    "pycharm": {
     "name": "#%%\n"
    }
   },
   "outputs": [],
   "source": [
    "from analysis.dataset import load_datasets, compute_ds_col_intersection, clean_datasets, build_dataset, scale_minmax"
   ]
  },
  {
   "cell_type": "markdown",
   "source": [
    "### Load datasets"
   ],
   "metadata": {
    "collapsed": false,
    "pycharm": {
     "name": "#%% md\n"
    }
   }
  },
  {
   "cell_type": "code",
   "execution_count": 4,
   "outputs": [
    {
     "name": "stderr",
     "output_type": "stream",
     "text": [
      "INFO:root:Inspecting directory ../../dataset/first_disease_sel/A1A\n",
      "INFO:root:Setting disease as A1A\n",
      "INFO:root:Inspecting directory ../../dataset/first_disease_sel/GS\n",
      "INFO:root:Setting disease as GS\n",
      "INFO:root:Inspecting directory ../../dataset/first_disease_sel/NALD\n",
      "INFO:root:Setting disease as NALD\n",
      "INFO:root:Inspecting directory ../../dataset/first_disease_sel/DIABETE\n",
      "INFO:root:Setting disease as DIABETE\n",
      "INFO:root:Inspecting directory ../../dataset/first_disease_sel/MCM\n",
      "INFO:root:Setting disease as MCM\n"
     ]
    }
   ],
   "source": [
    "# Load dataset\n",
    "datasets = load_datasets(DATASET_PATH)\n",
    "# compute intersection\n",
    "colname_intersection = compute_ds_col_intersection(datasets)\n",
    "# clean datasets\n",
    "datasets = clean_datasets(datasets, colname_intersection)"
   ],
   "metadata": {
    "collapsed": false,
    "pycharm": {
     "name": "#%%\n"
    }
   }
  },
  {
   "cell_type": "markdown",
   "source": [],
   "metadata": {
    "collapsed": false,
    "pycharm": {
     "name": "#%% md\n"
    }
   }
  },
  {
   "cell_type": "markdown",
   "source": [
    "## Scaling"
   ],
   "metadata": {
    "collapsed": false,
    "pycharm": {
     "name": "#%% md\n"
    }
   }
  },
  {
   "cell_type": "code",
   "execution_count": 5,
   "outputs": [],
   "source": [
    "datasets_normalized = scale_minmax(datasets)"
   ],
   "metadata": {
    "collapsed": false,
    "pycharm": {
     "name": "#%%\n"
    }
   }
  },
  {
   "cell_type": "markdown",
   "source": [
    "## Building unique DS"
   ],
   "metadata": {
    "collapsed": false,
    "pycharm": {
     "name": "#%% md\n"
    }
   }
  },
  {
   "cell_type": "code",
   "execution_count": 8,
   "outputs": [
    {
     "data": {
      "text/plain": "       NDEL1      ECI1    MAGOHB    ZNF544  CDK5RAP1    FRMD4B      NSA2  \\\n0   0.757103  0.092009  0.700633  0.553501  0.597572  0.494055  0.730134   \n1   0.783183  0.112821  0.347437  0.346545  0.503784  0.750682  0.504079   \n2   0.332500  0.032600  0.561744  0.408299  0.971435  0.729147  0.657743   \n3   0.583981  0.142801  0.361130  0.504162  0.497240  0.370371  0.881842   \n4   0.734106  0.230690  0.223578  0.453401  0.723171  0.864801  0.416166   \n..       ...       ...       ...       ...       ...       ...       ...   \n23  0.254300  0.445194  0.254143  0.274244  0.538056  0.205603  0.982590   \n24  0.142193  0.695293  0.338302  0.050386  0.697333  0.103624  0.438048   \n25  0.377343  0.688660  0.387373  1.000000  0.670648  0.427563  0.577741   \n26  0.031471  0.291594  0.573994  0.197667  0.593270  0.000000  0.729502   \n27  0.165406  0.548646  0.712905  0.154512  0.542658  0.312762  0.480307   \n\n      ZNF432      MSX1    PRPF18  ...    EIF5A2     MAP1B    ZNF562   TRAPPC8  \\\n0   0.356948  0.000000  0.553494  ...  0.479091  0.373772  0.369567  0.324717   \n1   0.271803  0.060420  0.658956  ...  0.106295  0.529850  0.233007  0.278060   \n2   0.417773  0.068623  0.793245  ...  0.180713  0.448119  0.338193  0.309826   \n3   0.353690  0.122991  0.460644  ...  0.089573  0.170100  0.305760  0.311890   \n4   0.347156  0.066062  0.274539  ...  0.217993  0.131575  0.392823  0.334549   \n..       ...       ...       ...  ...       ...       ...       ...       ...   \n23  0.783734  0.696186  0.893993  ...  0.242673  0.758073  0.549193  0.164542   \n24  0.582836  0.490631  0.386639  ...  0.293286  0.855470  0.738490  0.640944   \n25  0.134261  0.633237  0.394740  ...  0.474117  0.447150  0.665254  0.617077   \n26  0.565036  0.425340  0.953135  ...  0.122289  0.521904  0.953243  0.005398   \n27  0.281648  0.566956  0.378572  ...  0.460579  0.799417  0.628892  0.205811   \n\n      TM9SF2      GIT2      GUF1    ARFIP1    RNF122     CCNL1  \n0   0.421443  0.791401  0.456586  0.459376  0.533959  0.452647  \n1   0.263327  0.813583  0.466259  0.301427  0.284337  0.346533  \n2   0.440362  0.388911  0.625816  0.117887  0.217627  0.706346  \n3   0.359783  0.655100  0.349756  0.283734  0.279161  0.308804  \n4   0.657294  0.580470  0.540589  0.494216  0.417879  0.426296  \n..       ...       ...       ...       ...       ...       ...  \n23  0.465641  0.776924  0.259954  0.418256  0.661444  0.290052  \n24  0.731619  0.265424  0.283762  0.651809  0.565605  0.242364  \n25  0.600444  0.269128  0.650495  0.663115  0.765104  0.625440  \n26  0.634286  0.217401  0.157385  0.743802  0.530296  0.133622  \n27  0.762777  0.000000  0.572392  1.000000  0.000000  0.874171  \n\n[399 rows x 4601 columns]",
      "text/html": "<div>\n<style scoped>\n    .dataframe tbody tr th:only-of-type {\n        vertical-align: middle;\n    }\n\n    .dataframe tbody tr th {\n        vertical-align: top;\n    }\n\n    .dataframe thead th {\n        text-align: right;\n    }\n</style>\n<table border=\"1\" class=\"dataframe\">\n  <thead>\n    <tr style=\"text-align: right;\">\n      <th></th>\n      <th>NDEL1</th>\n      <th>ECI1</th>\n      <th>MAGOHB</th>\n      <th>ZNF544</th>\n      <th>CDK5RAP1</th>\n      <th>FRMD4B</th>\n      <th>NSA2</th>\n      <th>ZNF432</th>\n      <th>MSX1</th>\n      <th>PRPF18</th>\n      <th>...</th>\n      <th>EIF5A2</th>\n      <th>MAP1B</th>\n      <th>ZNF562</th>\n      <th>TRAPPC8</th>\n      <th>TM9SF2</th>\n      <th>GIT2</th>\n      <th>GUF1</th>\n      <th>ARFIP1</th>\n      <th>RNF122</th>\n      <th>CCNL1</th>\n    </tr>\n  </thead>\n  <tbody>\n    <tr>\n      <th>0</th>\n      <td>0.757103</td>\n      <td>0.092009</td>\n      <td>0.700633</td>\n      <td>0.553501</td>\n      <td>0.597572</td>\n      <td>0.494055</td>\n      <td>0.730134</td>\n      <td>0.356948</td>\n      <td>0.000000</td>\n      <td>0.553494</td>\n      <td>...</td>\n      <td>0.479091</td>\n      <td>0.373772</td>\n      <td>0.369567</td>\n      <td>0.324717</td>\n      <td>0.421443</td>\n      <td>0.791401</td>\n      <td>0.456586</td>\n      <td>0.459376</td>\n      <td>0.533959</td>\n      <td>0.452647</td>\n    </tr>\n    <tr>\n      <th>1</th>\n      <td>0.783183</td>\n      <td>0.112821</td>\n      <td>0.347437</td>\n      <td>0.346545</td>\n      <td>0.503784</td>\n      <td>0.750682</td>\n      <td>0.504079</td>\n      <td>0.271803</td>\n      <td>0.060420</td>\n      <td>0.658956</td>\n      <td>...</td>\n      <td>0.106295</td>\n      <td>0.529850</td>\n      <td>0.233007</td>\n      <td>0.278060</td>\n      <td>0.263327</td>\n      <td>0.813583</td>\n      <td>0.466259</td>\n      <td>0.301427</td>\n      <td>0.284337</td>\n      <td>0.346533</td>\n    </tr>\n    <tr>\n      <th>2</th>\n      <td>0.332500</td>\n      <td>0.032600</td>\n      <td>0.561744</td>\n      <td>0.408299</td>\n      <td>0.971435</td>\n      <td>0.729147</td>\n      <td>0.657743</td>\n      <td>0.417773</td>\n      <td>0.068623</td>\n      <td>0.793245</td>\n      <td>...</td>\n      <td>0.180713</td>\n      <td>0.448119</td>\n      <td>0.338193</td>\n      <td>0.309826</td>\n      <td>0.440362</td>\n      <td>0.388911</td>\n      <td>0.625816</td>\n      <td>0.117887</td>\n      <td>0.217627</td>\n      <td>0.706346</td>\n    </tr>\n    <tr>\n      <th>3</th>\n      <td>0.583981</td>\n      <td>0.142801</td>\n      <td>0.361130</td>\n      <td>0.504162</td>\n      <td>0.497240</td>\n      <td>0.370371</td>\n      <td>0.881842</td>\n      <td>0.353690</td>\n      <td>0.122991</td>\n      <td>0.460644</td>\n      <td>...</td>\n      <td>0.089573</td>\n      <td>0.170100</td>\n      <td>0.305760</td>\n      <td>0.311890</td>\n      <td>0.359783</td>\n      <td>0.655100</td>\n      <td>0.349756</td>\n      <td>0.283734</td>\n      <td>0.279161</td>\n      <td>0.308804</td>\n    </tr>\n    <tr>\n      <th>4</th>\n      <td>0.734106</td>\n      <td>0.230690</td>\n      <td>0.223578</td>\n      <td>0.453401</td>\n      <td>0.723171</td>\n      <td>0.864801</td>\n      <td>0.416166</td>\n      <td>0.347156</td>\n      <td>0.066062</td>\n      <td>0.274539</td>\n      <td>...</td>\n      <td>0.217993</td>\n      <td>0.131575</td>\n      <td>0.392823</td>\n      <td>0.334549</td>\n      <td>0.657294</td>\n      <td>0.580470</td>\n      <td>0.540589</td>\n      <td>0.494216</td>\n      <td>0.417879</td>\n      <td>0.426296</td>\n    </tr>\n    <tr>\n      <th>...</th>\n      <td>...</td>\n      <td>...</td>\n      <td>...</td>\n      <td>...</td>\n      <td>...</td>\n      <td>...</td>\n      <td>...</td>\n      <td>...</td>\n      <td>...</td>\n      <td>...</td>\n      <td>...</td>\n      <td>...</td>\n      <td>...</td>\n      <td>...</td>\n      <td>...</td>\n      <td>...</td>\n      <td>...</td>\n      <td>...</td>\n      <td>...</td>\n      <td>...</td>\n      <td>...</td>\n    </tr>\n    <tr>\n      <th>23</th>\n      <td>0.254300</td>\n      <td>0.445194</td>\n      <td>0.254143</td>\n      <td>0.274244</td>\n      <td>0.538056</td>\n      <td>0.205603</td>\n      <td>0.982590</td>\n      <td>0.783734</td>\n      <td>0.696186</td>\n      <td>0.893993</td>\n      <td>...</td>\n      <td>0.242673</td>\n      <td>0.758073</td>\n      <td>0.549193</td>\n      <td>0.164542</td>\n      <td>0.465641</td>\n      <td>0.776924</td>\n      <td>0.259954</td>\n      <td>0.418256</td>\n      <td>0.661444</td>\n      <td>0.290052</td>\n    </tr>\n    <tr>\n      <th>24</th>\n      <td>0.142193</td>\n      <td>0.695293</td>\n      <td>0.338302</td>\n      <td>0.050386</td>\n      <td>0.697333</td>\n      <td>0.103624</td>\n      <td>0.438048</td>\n      <td>0.582836</td>\n      <td>0.490631</td>\n      <td>0.386639</td>\n      <td>...</td>\n      <td>0.293286</td>\n      <td>0.855470</td>\n      <td>0.738490</td>\n      <td>0.640944</td>\n      <td>0.731619</td>\n      <td>0.265424</td>\n      <td>0.283762</td>\n      <td>0.651809</td>\n      <td>0.565605</td>\n      <td>0.242364</td>\n    </tr>\n    <tr>\n      <th>25</th>\n      <td>0.377343</td>\n      <td>0.688660</td>\n      <td>0.387373</td>\n      <td>1.000000</td>\n      <td>0.670648</td>\n      <td>0.427563</td>\n      <td>0.577741</td>\n      <td>0.134261</td>\n      <td>0.633237</td>\n      <td>0.394740</td>\n      <td>...</td>\n      <td>0.474117</td>\n      <td>0.447150</td>\n      <td>0.665254</td>\n      <td>0.617077</td>\n      <td>0.600444</td>\n      <td>0.269128</td>\n      <td>0.650495</td>\n      <td>0.663115</td>\n      <td>0.765104</td>\n      <td>0.625440</td>\n    </tr>\n    <tr>\n      <th>26</th>\n      <td>0.031471</td>\n      <td>0.291594</td>\n      <td>0.573994</td>\n      <td>0.197667</td>\n      <td>0.593270</td>\n      <td>0.000000</td>\n      <td>0.729502</td>\n      <td>0.565036</td>\n      <td>0.425340</td>\n      <td>0.953135</td>\n      <td>...</td>\n      <td>0.122289</td>\n      <td>0.521904</td>\n      <td>0.953243</td>\n      <td>0.005398</td>\n      <td>0.634286</td>\n      <td>0.217401</td>\n      <td>0.157385</td>\n      <td>0.743802</td>\n      <td>0.530296</td>\n      <td>0.133622</td>\n    </tr>\n    <tr>\n      <th>27</th>\n      <td>0.165406</td>\n      <td>0.548646</td>\n      <td>0.712905</td>\n      <td>0.154512</td>\n      <td>0.542658</td>\n      <td>0.312762</td>\n      <td>0.480307</td>\n      <td>0.281648</td>\n      <td>0.566956</td>\n      <td>0.378572</td>\n      <td>...</td>\n      <td>0.460579</td>\n      <td>0.799417</td>\n      <td>0.628892</td>\n      <td>0.205811</td>\n      <td>0.762777</td>\n      <td>0.000000</td>\n      <td>0.572392</td>\n      <td>1.000000</td>\n      <td>0.000000</td>\n      <td>0.874171</td>\n    </tr>\n  </tbody>\n</table>\n<p>399 rows × 4601 columns</p>\n</div>"
     },
     "execution_count": 8,
     "metadata": {},
     "output_type": "execute_result"
    }
   ],
   "source": [
    "# finally build the unique dataset\n",
    "dataset = build_dataset(datasets_normalized)\n",
    "dataset"
   ],
   "metadata": {
    "collapsed": false,
    "pycharm": {
     "name": "#%%\n"
    }
   }
  },
  {
   "cell_type": "markdown",
   "source": [
    "## Inspecting dataset we have built"
   ],
   "metadata": {
    "collapsed": false,
    "pycharm": {
     "name": "#%% md\n"
    }
   }
  },
  {
   "cell_type": "code",
   "execution_count": 7,
   "outputs": [
    {
     "name": "stdout",
     "output_type": "stream",
     "text": [
      "DIABETE    176\n",
      "A1A        128\n",
      "NALD        38\n",
      "GS          29\n",
      "MCM         28\n",
      "Name: DISEASE, dtype: int64\n"
     ]
    },
    {
     "data": {
      "text/plain": "<AxesSubplot:>"
     },
     "execution_count": 7,
     "metadata": {},
     "output_type": "execute_result"
    },
    {
     "data": {
      "text/plain": "<Figure size 432x288 with 1 Axes>",
      "image/png": "[encoded data removed]"
     },
     "metadata": {
      "needs_background": "light"
     },
     "output_type": "display_data"
    }
   ],
   "source": [
    "# plotting the number of sample for each disease\n",
    "disease = dataset.DISEASE.value_counts()\n",
    "print(disease)\n",
    "disease.plot.bar()"
   ],
   "metadata": {
    "collapsed": false,
    "pycharm": {
     "name": "#%%\n"
    }
   }
  }
 ],
 "metadata": {
  "kernelspec": {
   "display_name": "Python 3 (ipykernel)",
   "language": "python",
   "name": "python3"
  },
  "language_info": {
   "codemirror_mode": {
    "name": "ipython",
    "version": 3
   },
   "file_extension": ".py",
   "mimetype": "text/x-python",
   "name": "python",
   "nbconvert_exporter": "python",
   "pygments_lexer": "ipython3",
   "version": "3.9.7"
  }
 },
 "nbformat": 4,
 "nbformat_minor": 1
}