{
 "cells": [
  {
   "cell_type": "markdown",
   "metadata": {
    "pycharm": {
     "name": "#%% md\n"
    }
   },
   "source": [
    "# Testing dataset loading\n",
    "\n",
    "This notebook contains code that run the pipeline we have created to analyze a set of datasets."
   ]
  },
  {
   "cell_type": "code",
   "execution_count": 1,
   "metadata": {
    "pycharm": {
     "name": "#%%\n"
    }
   },
   "outputs": [],
   "source": [
    "# adding the project root inside the python path\n",
    "import sys\n",
    "import os\n",
    "\n",
    "sys.path.insert(0, os.path.abspath('..'))"
   ]
  },
  {
   "cell_type": "code",
   "execution_count": 2,
   "metadata": {
    "pycharm": {
     "name": "#%%\n"
    }
   },
   "outputs": [],
   "source": [
    "# The path where the dataset are stored\n",
    "DATASET_PATH: str = \"../../dataset/first_disease_sel/\"\n",
    "DISEASE_COLNAME: str = 'DISEASE'"
   ]
  },
  {
   "cell_type": "code",
   "execution_count": 3,
   "metadata": {
    "pycharm": {
     "name": "#%%\n"
    }
   },
   "outputs": [],
   "source": [
    "from analysis.dataset import load_datasets, compute_ds_col_intersection, clean_datasets, build_dataset, scale_minmax, compute_outlier"
   ]
  },
  {
   "cell_type": "markdown",
   "metadata": {
    "pycharm": {
     "name": "#%% md\n"
    }
   },
   "source": [
    "### Load datasets"
   ]
  },
  {
   "cell_type": "code",
   "execution_count": 4,
   "metadata": {
    "pycharm": {
     "name": "#%%\n"
    }
   },
   "outputs": [
    {
     "name": "stderr",
     "output_type": "stream",
     "text": [
      "INFO:root:Inspecting directory ../../dataset/first_disease_sel/GS\n",
      "INFO:root:Setting disease as GS\n",
      "INFO:root:Loading file ../../dataset/first_disease_sel/GS/eGSE117146m.csv\n",
      "INFO:root:Inspecting directory ../../dataset/first_disease_sel/MCM\n",
      "INFO:root:Setting disease as MCM\n",
      "INFO:root:Loading file ../../dataset/first_disease_sel/MCM/MCM_GSE149607.csv\n",
      "INFO:root:Inspecting directory ../../dataset/first_disease_sel/NALD\n",
      "INFO:root:Setting disease as NALD\n",
      "INFO:root:Loading file ../../dataset/first_disease_sel/NALD/eGSE85804m.csv\n",
      "INFO:root:Loading file ../../dataset/first_disease_sel/NALD/eGSE34308m.csv\n",
      "INFO:root:Loading file ../../dataset/first_disease_sel/NALD/eGSE117647m.csv\n",
      "INFO:root:Inspecting directory ../../dataset/first_disease_sel/A1A\n",
      "INFO:root:Setting disease as A1A\n",
      "INFO:root:Loading file ../../dataset/first_disease_sel/A1A/A1A_deficiency_GSE109516_pbmc.csv\n",
      "INFO:root:Inspecting directory ../../dataset/first_disease_sel/DIABETE\n",
      "INFO:root:Setting disease as DIABETE\n",
      "INFO:root:Loading file ../../dataset/first_disease_sel/DIABETE/eGSE54350m.csv\n",
      "INFO:root:Loading file ../../dataset/first_disease_sel/DIABETE/eGSE26887m.csv\n",
      "INFO:root:Loading file ../../dataset/first_disease_sel/DIABETE/eGSE174475m.csv\n",
      "INFO:root:Loading file ../../dataset/first_disease_sel/DIABETE/eGSE13760m.csv\n",
      "INFO:root:Loading file ../../dataset/first_disease_sel/DIABETE/eGSE38642m.csv\n",
      "INFO:root:Loading file ../../dataset/first_disease_sel/DIABETE/eGSE19790m.csv\n",
      "INFO:root:Loading file ../../dataset/first_disease_sel/DIABETE/eGSE179568m.csv\n",
      "INFO:root:Loading file ../../dataset/first_disease_sel/DIABETE/eGSE189849m.csv\n",
      "INFO:root:Loading file ../../dataset/first_disease_sel/DIABETE/eGSE25462m.csv\n",
      "INFO:root:Loading file ../../dataset/first_disease_sel/DIABETE/eGSE162622m.csv\n",
      "INFO:root:Loading file ../../dataset/first_disease_sel/DIABETE/eGSE27949m.csv\n",
      "INFO:root:Loading file ../../dataset/first_disease_sel/DIABETE/eGSE176230m.csv\n",
      "INFO:root:Datasets loading completed\n"
     ]
    }
   ],
   "source": [
    "# Load dataset\n",
    "datasets = load_datasets(DATASET_PATH)\n",
    "# compute intersection\n",
    "colname_intersection = compute_ds_col_intersection(datasets)\n",
    "# clean datasets\n",
    "datasets = clean_datasets(datasets, colname_intersection)"
   ]
  },
  {
   "cell_type": "markdown",
   "metadata": {
    "pycharm": {
     "name": "#%% md\n"
    }
   },
   "source": [
    "## Outlier detection"
   ]
  },
  {
   "cell_type": "code",
   "execution_count": 5,
   "metadata": {
    "pycharm": {
     "name": "#%%\n"
    }
   },
   "outputs": [
    {
     "name": "stderr",
     "output_type": "stream",
     "text": [
      "INFO:root:Computing outlier detection on dataset...\n",
      "INFO:root:Computing outlier detection on dataset...\n",
      "INFO:root:Computing outlier detection on dataset...\n",
      "INFO:root:Computing outlier detection on dataset...\n",
      "INFO:root:Computing outlier detection on dataset...\n",
      "INFO:root:Computing outlier detection on dataset...\n",
      "INFO:root:Computing outlier detection on dataset...\n",
      "INFO:root:Computing outlier detection on dataset...\n",
      "INFO:root:Computing outlier detection on dataset...\n",
      "INFO:root:Computing outlier detection on dataset...\n",
      "INFO:root:Computing outlier detection on dataset...\n",
      "INFO:root:Computing outlier detection on dataset...\n",
      "INFO:root:Computing outlier detection on dataset...\n",
      "INFO:root:Computing outlier detection on dataset...\n",
      "INFO:root:Computing outlier detection on dataset...\n",
      "INFO:root:Computing outlier detection on dataset...\n",
      "INFO:root:Computing outlier detection on dataset...\n",
      "INFO:root:Computing outlier detection on dataset...\n"
     ]
    },
    {
     "data": {
      "text/plain": [
       "[None,\n",
       " None,\n",
       " None,\n",
       " None,\n",
       " None,\n",
       " None,\n",
       " None,\n",
       " None,\n",
       " None,\n",
       " None,\n",
       " None,\n",
       " None,\n",
       " None,\n",
       " None,\n",
       " None,\n",
       " None,\n",
       " None,\n",
       " None]"
      ]
     },
     "execution_count": 5,
     "metadata": {},
     "output_type": "execute_result"
    }
   ],
   "source": [
    "compute_outlier(datasets)"
   ]
  },
  {
   "cell_type": "markdown",
   "metadata": {
    "pycharm": {
     "name": "#%% md\n"
    }
   },
   "source": [
    "## Scaling"
   ]
  },
  {
   "cell_type": "code",
   "execution_count": 8,
   "metadata": {
    "pycharm": {
     "name": "#%%\n"
    }
   },
   "outputs": [],
   "source": [
    "scale_minmax(datasets)"
   ]
  },
  {
   "cell_type": "markdown",
   "metadata": {
    "pycharm": {
     "name": "#%% md\n"
    }
   },
   "source": [
    "## Building unique DS"
   ]
  },
  {
   "cell_type": "code",
   "execution_count": 6,
   "metadata": {
    "pycharm": {
     "name": "#%%\n"
    }
   },
   "outputs": [
    {
     "data": {
      "text/html": [
       "<div>\n",
       "<style scoped>\n",
       "    .dataframe tbody tr th:only-of-type {\n",
       "        vertical-align: middle;\n",
       "    }\n",
       "\n",
       "    .dataframe tbody tr th {\n",
       "        vertical-align: top;\n",
       "    }\n",
       "\n",
       "    .dataframe thead th {\n",
       "        text-align: right;\n",
       "    }\n",
       "</style>\n",
       "<table border=\"1\" class=\"dataframe\">\n",
       "  <thead>\n",
       "    <tr style=\"text-align: right;\">\n",
       "      <th></th>\n",
       "      <th>ZNF500</th>\n",
       "      <th>TMEM127</th>\n",
       "      <th>ENPP1</th>\n",
       "      <th>TTC33</th>\n",
       "      <th>EPHB2</th>\n",
       "      <th>SRSF7</th>\n",
       "      <th>MORC4</th>\n",
       "      <th>NUP98</th>\n",
       "      <th>WDR19</th>\n",
       "      <th>C20ORF27</th>\n",
       "      <th>...</th>\n",
       "      <th>ZNF646</th>\n",
       "      <th>UCK2</th>\n",
       "      <th>AHCY</th>\n",
       "      <th>IGFBP7</th>\n",
       "      <th>ERAP2</th>\n",
       "      <th>ENOSF1</th>\n",
       "      <th>UGP2</th>\n",
       "      <th>DDX10</th>\n",
       "      <th>CGRRF1</th>\n",
       "      <th>EBLN2</th>\n",
       "    </tr>\n",
       "  </thead>\n",
       "  <tbody>\n",
       "    <tr>\n",
       "      <th>0</th>\n",
       "      <td>-0.456219</td>\n",
       "      <td>0.582950</td>\n",
       "      <td>0.559104</td>\n",
       "      <td>0.087929</td>\n",
       "      <td>0.010048</td>\n",
       "      <td>-0.138561</td>\n",
       "      <td>0.744349</td>\n",
       "      <td>-0.051115</td>\n",
       "      <td>0.215918</td>\n",
       "      <td>-0.230576</td>\n",
       "      <td>...</td>\n",
       "      <td>-0.448980</td>\n",
       "      <td>-0.533936</td>\n",
       "      <td>0.199876</td>\n",
       "      <td>-0.974238</td>\n",
       "      <td>-0.248918</td>\n",
       "      <td>0.562157</td>\n",
       "      <td>0.008178</td>\n",
       "      <td>0.000000</td>\n",
       "      <td>-0.450630</td>\n",
       "      <td>1.455009</td>\n",
       "    </tr>\n",
       "    <tr>\n",
       "      <th>1</th>\n",
       "      <td>0.730019</td>\n",
       "      <td>-0.077379</td>\n",
       "      <td>0.070005</td>\n",
       "      <td>-0.124383</td>\n",
       "      <td>-0.261430</td>\n",
       "      <td>-0.090610</td>\n",
       "      <td>-0.492624</td>\n",
       "      <td>-0.087861</td>\n",
       "      <td>0.135799</td>\n",
       "      <td>-0.595748</td>\n",
       "      <td>...</td>\n",
       "      <td>-0.131782</td>\n",
       "      <td>-0.074817</td>\n",
       "      <td>-0.061754</td>\n",
       "      <td>0.064157</td>\n",
       "      <td>-3.887108</td>\n",
       "      <td>0.210205</td>\n",
       "      <td>-0.549093</td>\n",
       "      <td>-0.017056</td>\n",
       "      <td>0.232332</td>\n",
       "      <td>-1.356018</td>\n",
       "    </tr>\n",
       "    <tr>\n",
       "      <th>2</th>\n",
       "      <td>-0.589396</td>\n",
       "      <td>0.472764</td>\n",
       "      <td>0.767663</td>\n",
       "      <td>0.573276</td>\n",
       "      <td>0.495232</td>\n",
       "      <td>-0.119172</td>\n",
       "      <td>0.425000</td>\n",
       "      <td>-0.164343</td>\n",
       "      <td>0.193517</td>\n",
       "      <td>0.061553</td>\n",
       "      <td>...</td>\n",
       "      <td>-0.823166</td>\n",
       "      <td>-0.880964</td>\n",
       "      <td>-0.028933</td>\n",
       "      <td>-0.181217</td>\n",
       "      <td>0.220683</td>\n",
       "      <td>0.249610</td>\n",
       "      <td>0.080927</td>\n",
       "      <td>-0.021801</td>\n",
       "      <td>-0.027945</td>\n",
       "      <td>0.189638</td>\n",
       "    </tr>\n",
       "    <tr>\n",
       "      <th>3</th>\n",
       "      <td>0.159463</td>\n",
       "      <td>0.543281</td>\n",
       "      <td>-0.319979</td>\n",
       "      <td>0.619572</td>\n",
       "      <td>0.000000</td>\n",
       "      <td>-0.062449</td>\n",
       "      <td>-0.856729</td>\n",
       "      <td>-0.175510</td>\n",
       "      <td>0.343269</td>\n",
       "      <td>-0.145409</td>\n",
       "      <td>...</td>\n",
       "      <td>-1.826145</td>\n",
       "      <td>-0.289265</td>\n",
       "      <td>-0.067857</td>\n",
       "      <td>0.028102</td>\n",
       "      <td>0.084701</td>\n",
       "      <td>0.000000</td>\n",
       "      <td>0.595221</td>\n",
       "      <td>-0.089482</td>\n",
       "      <td>-0.233139</td>\n",
       "      <td>0.045412</td>\n",
       "    </tr>\n",
       "    <tr>\n",
       "      <th>4</th>\n",
       "      <td>0.499940</td>\n",
       "      <td>-0.178560</td>\n",
       "      <td>-0.366525</td>\n",
       "      <td>-0.298967</td>\n",
       "      <td>-0.108783</td>\n",
       "      <td>-0.130274</td>\n",
       "      <td>0.234228</td>\n",
       "      <td>-0.042807</td>\n",
       "      <td>0.000162</td>\n",
       "      <td>0.545011</td>\n",
       "      <td>...</td>\n",
       "      <td>-0.120853</td>\n",
       "      <td>0.054272</td>\n",
       "      <td>0.128837</td>\n",
       "      <td>0.000000</td>\n",
       "      <td>0.275095</td>\n",
       "      <td>-0.695252</td>\n",
       "      <td>0.072554</td>\n",
       "      <td>-0.302498</td>\n",
       "      <td>-0.067710</td>\n",
       "      <td>0.288372</td>\n",
       "    </tr>\n",
       "    <tr>\n",
       "      <th>...</th>\n",
       "      <td>...</td>\n",
       "      <td>...</td>\n",
       "      <td>...</td>\n",
       "      <td>...</td>\n",
       "      <td>...</td>\n",
       "      <td>...</td>\n",
       "      <td>...</td>\n",
       "      <td>...</td>\n",
       "      <td>...</td>\n",
       "      <td>...</td>\n",
       "      <td>...</td>\n",
       "      <td>...</td>\n",
       "      <td>...</td>\n",
       "      <td>...</td>\n",
       "      <td>...</td>\n",
       "      <td>...</td>\n",
       "      <td>...</td>\n",
       "      <td>...</td>\n",
       "      <td>...</td>\n",
       "      <td>...</td>\n",
       "      <td>...</td>\n",
       "    </tr>\n",
       "    <tr>\n",
       "      <th>394</th>\n",
       "      <td>0.110000</td>\n",
       "      <td>-0.430000</td>\n",
       "      <td>0.000000</td>\n",
       "      <td>1.810000</td>\n",
       "      <td>-0.100000</td>\n",
       "      <td>2.940000</td>\n",
       "      <td>0.000000</td>\n",
       "      <td>0.050000</td>\n",
       "      <td>0.210000</td>\n",
       "      <td>-1.450000</td>\n",
       "      <td>...</td>\n",
       "      <td>0.110000</td>\n",
       "      <td>-0.240000</td>\n",
       "      <td>-0.750000</td>\n",
       "      <td>-0.460000</td>\n",
       "      <td>0.000000</td>\n",
       "      <td>0.290000</td>\n",
       "      <td>0.010000</td>\n",
       "      <td>-0.110000</td>\n",
       "      <td>0.270000</td>\n",
       "      <td>0.790000</td>\n",
       "    </tr>\n",
       "    <tr>\n",
       "      <th>395</th>\n",
       "      <td>0.270000</td>\n",
       "      <td>-0.780000</td>\n",
       "      <td>-0.030000</td>\n",
       "      <td>-2.020000</td>\n",
       "      <td>-0.080000</td>\n",
       "      <td>-2.240000</td>\n",
       "      <td>0.330000</td>\n",
       "      <td>-5.020000</td>\n",
       "      <td>0.000000</td>\n",
       "      <td>-0.020000</td>\n",
       "      <td>...</td>\n",
       "      <td>2.520000</td>\n",
       "      <td>-0.290000</td>\n",
       "      <td>0.080000</td>\n",
       "      <td>-1.890000</td>\n",
       "      <td>-2.270000</td>\n",
       "      <td>0.410000</td>\n",
       "      <td>-4.550000</td>\n",
       "      <td>0.270000</td>\n",
       "      <td>-1.120000</td>\n",
       "      <td>-0.540000</td>\n",
       "    </tr>\n",
       "    <tr>\n",
       "      <th>396</th>\n",
       "      <td>0.520000</td>\n",
       "      <td>1.780000</td>\n",
       "      <td>-0.020000</td>\n",
       "      <td>-3.660000</td>\n",
       "      <td>-0.020000</td>\n",
       "      <td>-2.410000</td>\n",
       "      <td>-0.130000</td>\n",
       "      <td>-7.650000</td>\n",
       "      <td>-0.160000</td>\n",
       "      <td>1.150000</td>\n",
       "      <td>...</td>\n",
       "      <td>2.390000</td>\n",
       "      <td>0.130000</td>\n",
       "      <td>0.750000</td>\n",
       "      <td>-0.380000</td>\n",
       "      <td>10.620000</td>\n",
       "      <td>-0.370000</td>\n",
       "      <td>-5.660000</td>\n",
       "      <td>-0.140000</td>\n",
       "      <td>-0.640000</td>\n",
       "      <td>-0.770000</td>\n",
       "    </tr>\n",
       "    <tr>\n",
       "      <th>397</th>\n",
       "      <td>0.090000</td>\n",
       "      <td>-0.980000</td>\n",
       "      <td>-0.020000</td>\n",
       "      <td>-3.870000</td>\n",
       "      <td>0.060000</td>\n",
       "      <td>-5.530000</td>\n",
       "      <td>-0.160000</td>\n",
       "      <td>-7.450000</td>\n",
       "      <td>-0.100000</td>\n",
       "      <td>0.070000</td>\n",
       "      <td>...</td>\n",
       "      <td>3.760000</td>\n",
       "      <td>-0.270000</td>\n",
       "      <td>-0.320000</td>\n",
       "      <td>-1.180000</td>\n",
       "      <td>-16.040000</td>\n",
       "      <td>0.980000</td>\n",
       "      <td>-6.840000</td>\n",
       "      <td>-0.270000</td>\n",
       "      <td>-0.920000</td>\n",
       "      <td>0.620000</td>\n",
       "    </tr>\n",
       "    <tr>\n",
       "      <th>398</th>\n",
       "      <td>1.340000</td>\n",
       "      <td>19.330000</td>\n",
       "      <td>-0.050000</td>\n",
       "      <td>-4.160000</td>\n",
       "      <td>0.270000</td>\n",
       "      <td>-10.770000</td>\n",
       "      <td>-0.440000</td>\n",
       "      <td>-5.060000</td>\n",
       "      <td>-0.420000</td>\n",
       "      <td>2.850000</td>\n",
       "      <td>...</td>\n",
       "      <td>9.420000</td>\n",
       "      <td>-0.260000</td>\n",
       "      <td>1.120000</td>\n",
       "      <td>-0.820000</td>\n",
       "      <td>-7.870000</td>\n",
       "      <td>0.300000</td>\n",
       "      <td>-6.520000</td>\n",
       "      <td>-0.970000</td>\n",
       "      <td>-1.070000</td>\n",
       "      <td>-0.080000</td>\n",
       "    </tr>\n",
       "  </tbody>\n",
       "</table>\n",
       "<p>399 rows × 4602 columns</p>\n",
       "</div>"
      ],
      "text/plain": [
       "       ZNF500    TMEM127     ENPP1     TTC33     EPHB2      SRSF7     MORC4  \\\n",
       "0   -0.456219   0.582950  0.559104  0.087929  0.010048  -0.138561  0.744349   \n",
       "1    0.730019  -0.077379  0.070005 -0.124383 -0.261430  -0.090610 -0.492624   \n",
       "2   -0.589396   0.472764  0.767663  0.573276  0.495232  -0.119172  0.425000   \n",
       "3    0.159463   0.543281 -0.319979  0.619572  0.000000  -0.062449 -0.856729   \n",
       "4    0.499940  -0.178560 -0.366525 -0.298967 -0.108783  -0.130274  0.234228   \n",
       "..        ...        ...       ...       ...       ...        ...       ...   \n",
       "394  0.110000  -0.430000  0.000000  1.810000 -0.100000   2.940000  0.000000   \n",
       "395  0.270000  -0.780000 -0.030000 -2.020000 -0.080000  -2.240000  0.330000   \n",
       "396  0.520000   1.780000 -0.020000 -3.660000 -0.020000  -2.410000 -0.130000   \n",
       "397  0.090000  -0.980000 -0.020000 -3.870000  0.060000  -5.530000 -0.160000   \n",
       "398  1.340000  19.330000 -0.050000 -4.160000  0.270000 -10.770000 -0.440000   \n",
       "\n",
       "        NUP98     WDR19  C20ORF27  ...    ZNF646      UCK2      AHCY  \\\n",
       "0   -0.051115  0.215918 -0.230576  ... -0.448980 -0.533936  0.199876   \n",
       "1   -0.087861  0.135799 -0.595748  ... -0.131782 -0.074817 -0.061754   \n",
       "2   -0.164343  0.193517  0.061553  ... -0.823166 -0.880964 -0.028933   \n",
       "3   -0.175510  0.343269 -0.145409  ... -1.826145 -0.289265 -0.067857   \n",
       "4   -0.042807  0.000162  0.545011  ... -0.120853  0.054272  0.128837   \n",
       "..        ...       ...       ...  ...       ...       ...       ...   \n",
       "394  0.050000  0.210000 -1.450000  ...  0.110000 -0.240000 -0.750000   \n",
       "395 -5.020000  0.000000 -0.020000  ...  2.520000 -0.290000  0.080000   \n",
       "396 -7.650000 -0.160000  1.150000  ...  2.390000  0.130000  0.750000   \n",
       "397 -7.450000 -0.100000  0.070000  ...  3.760000 -0.270000 -0.320000   \n",
       "398 -5.060000 -0.420000  2.850000  ...  9.420000 -0.260000  1.120000   \n",
       "\n",
       "       IGFBP7      ERAP2    ENOSF1      UGP2     DDX10    CGRRF1     EBLN2  \n",
       "0   -0.974238  -0.248918  0.562157  0.008178  0.000000 -0.450630  1.455009  \n",
       "1    0.064157  -3.887108  0.210205 -0.549093 -0.017056  0.232332 -1.356018  \n",
       "2   -0.181217   0.220683  0.249610  0.080927 -0.021801 -0.027945  0.189638  \n",
       "3    0.028102   0.084701  0.000000  0.595221 -0.089482 -0.233139  0.045412  \n",
       "4    0.000000   0.275095 -0.695252  0.072554 -0.302498 -0.067710  0.288372  \n",
       "..        ...        ...       ...       ...       ...       ...       ...  \n",
       "394 -0.460000   0.000000  0.290000  0.010000 -0.110000  0.270000  0.790000  \n",
       "395 -1.890000  -2.270000  0.410000 -4.550000  0.270000 -1.120000 -0.540000  \n",
       "396 -0.380000  10.620000 -0.370000 -5.660000 -0.140000 -0.640000 -0.770000  \n",
       "397 -1.180000 -16.040000  0.980000 -6.840000 -0.270000 -0.920000  0.620000  \n",
       "398 -0.820000  -7.870000  0.300000 -6.520000 -0.970000 -1.070000 -0.080000  \n",
       "\n",
       "[399 rows x 4602 columns]"
      ]
     },
     "execution_count": 6,
     "metadata": {},
     "output_type": "execute_result"
    }
   ],
   "source": [
    "# finally build the unique dataset\n",
    "dataset = build_dataset(datasets)\n",
    "dataset"
   ]
  },
  {
   "cell_type": "markdown",
   "metadata": {
    "pycharm": {
     "name": "#%% md\n"
    }
   },
   "source": [
    "## Inspecting dataset we have built"
   ]
  },
  {
   "cell_type": "code",
   "execution_count": 10,
   "metadata": {
    "pycharm": {
     "name": "#%%\n"
    }
   },
   "outputs": [
    {
     "data": {
      "text/plain": [
       "0           GS\n",
       "1           GS\n",
       "2           GS\n",
       "3           GS\n",
       "4           GS\n",
       "        ...   \n",
       "394    DIABETE\n",
       "395    DIABETE\n",
       "396    DIABETE\n",
       "397    DIABETE\n",
       "398    DIABETE\n",
       "Name: DISEASE, Length: 399, dtype: object"
      ]
     },
     "execution_count": 10,
     "metadata": {},
     "output_type": "execute_result"
    }
   ],
   "source": [
    "dataset['DISEASE']"
   ]
  },
  {
   "cell_type": "code",
   "execution_count": 11,
   "metadata": {
    "pycharm": {
     "name": "#%%\n"
    }
   },
   "outputs": [
    {
     "name": "stdout",
     "output_type": "stream",
     "text": [
      "DIABETE    176\n",
      "A1A        128\n",
      "NALD        38\n",
      "GS          29\n",
      "MCM         28\n",
      "Name: DISEASE, dtype: int64\n"
     ]
    },
    {
     "data": {
      "text/plain": [
       "<AxesSubplot:>"
      ]
     },
     "execution_count": 11,
     "metadata": {},
     "output_type": "execute_result"
    },
    {
     "data": {
      "image/png": "[encoded data removed]",
      "text/plain": [
       "<Figure size 432x288 with 1 Axes>"
      ]
     },
     "metadata": {
      "needs_background": "light"
     },
     "output_type": "display_data"
    }
   ],
   "source": [
    "# plotting the number of sample for each disease\n",
    "disease = dataset['DISEASE'].value_counts()\n",
    "print(disease)\n",
    "disease.plot.bar()"
   ]
  },
  {
   "cell_type": "code",
   "execution_count": null,
   "metadata": {
    "pycharm": {
     "name": "#%%\n"
    }
   },
   "outputs": [],
   "source": [
    "import matplotlib.pyplot as plt\n",
    "from bioinfokit import analys, visuz\n",
    "import numpy as np"
   ]
  },
  {
   "cell_type": "code",
   "execution_count": null,
   "metadata": {
    "pycharm": {
     "name": "#%%\n"
    }
   },
   "outputs": [],
   "source": [
    "visuz.gene_exp.hmap(df=dataset.astype(float), rowclus=False, colclus=False, dim=(10, 10), tickfont=(2, 4), show=True)"
   ]
  }
 ],
 "metadata": {
  "kernelspec": {
   "display_name": "Python 3 (ipykernel)",
   "language": "python",
   "name": "python3"
  },
  "language_info": {
   "codemirror_mode": {
    "name": "ipython",
    "version": 3
   },
   "file_extension": ".py",
   "mimetype": "text/x-python",
   "name": "python",
   "nbconvert_exporter": "python",
   "pygments_lexer": "ipython3",
   "version": "3.9.7"
  }
 },
 "nbformat": 4,
 "nbformat_minor": 1
}