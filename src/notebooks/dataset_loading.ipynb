{
 "cells": [
  {
   "cell_type": "markdown",
   "metadata": {
    "pycharm": {
     "name": "#%% md\n"
    }
   },
   "source": [
    "# Testing dataset loading\n",
    "\n",
    "This notebook contains code that run the pipeline we have created to analyze a set of datasets."
   ]
  },
  {
   "cell_type": "code",
   "execution_count": 1,
   "metadata": {
    "pycharm": {
     "name": "#%%\n"
    }
   },
   "outputs": [],
   "source": [
    "# adding the project root inside the python path\n",
    "import sys\n",
    "import os\n",
    "\n",
    "sys.path.insert(0, os.path.abspath('..'))"
   ]
  },
  {
   "cell_type": "code",
   "execution_count": 2,
   "metadata": {
    "pycharm": {
     "name": "#%%\n"
    }
   },
   "outputs": [],
   "source": [
    "# The path where the dataset are stored\n",
    "DATASET_PATH: str = \"../../dataset/first_disease_sel/\"\n",
    "DISEASE_COLNAME: str = 'DISEASE'"
   ]
  },
  {
   "cell_type": "code",
   "execution_count": 3,
   "metadata": {
    "pycharm": {
     "name": "#%%\n"
    }
   },
   "outputs": [],
   "source": [
    "from analysis.dataset import load_datasets, compute_ds_col_intersection, clean_datasets, build_dataset, scale_minmax, compute_outlier, split_train_test"
   ]
  },
  {
   "cell_type": "markdown",
   "metadata": {
    "pycharm": {
     "name": "#%% md\n"
    }
   },
   "source": [
    "### Load datasets"
   ]
  },
  {
   "cell_type": "code",
   "execution_count": 4,
   "metadata": {
    "pycharm": {
     "name": "#%%\n"
    }
   },
   "outputs": [
    {
     "name": "stderr",
     "output_type": "stream",
     "text": [
      "INFO:root:Inspecting directory ../../dataset/first_disease_sel/GS\n",
      "INFO:root:Setting disease as GS\n",
      "INFO:root:Loading file ../../dataset/first_disease_sel/GS/eGSE117146m.csv\n",
      "INFO:root:Inspecting directory ../../dataset/first_disease_sel/MCM\n",
      "INFO:root:Setting disease as MCM\n",
      "INFO:root:Loading file ../../dataset/first_disease_sel/MCM/MCM_GSE149607.csv\n",
      "INFO:root:Inspecting directory ../../dataset/first_disease_sel/NALD\n",
      "INFO:root:Setting disease as NALD\n",
      "INFO:root:Loading file ../../dataset/first_disease_sel/NALD/eGSE85804m.csv\n",
      "INFO:root:Loading file ../../dataset/first_disease_sel/NALD/eGSE34308m.csv\n",
      "INFO:root:Loading file ../../dataset/first_disease_sel/NALD/eGSE117647m.csv\n",
      "INFO:root:Inspecting directory ../../dataset/first_disease_sel/A1A\n",
      "INFO:root:Setting disease as A1A\n",
      "INFO:root:Loading file ../../dataset/first_disease_sel/A1A/A1A_deficiency_GSE109516_pbmc.csv\n",
      "INFO:root:Inspecting directory ../../dataset/first_disease_sel/DIABETE\n",
      "INFO:root:Setting disease as DIABETE\n",
      "INFO:root:Loading file ../../dataset/first_disease_sel/DIABETE/eGSE54350m.csv\n",
      "INFO:root:Loading file ../../dataset/first_disease_sel/DIABETE/eGSE26887m.csv\n",
      "INFO:root:Loading file ../../dataset/first_disease_sel/DIABETE/eGSE174475m.csv\n",
      "INFO:root:Loading file ../../dataset/first_disease_sel/DIABETE/eGSE13760m.csv\n",
      "INFO:root:Loading file ../../dataset/first_disease_sel/DIABETE/eGSE38642m.csv\n",
      "INFO:root:Loading file ../../dataset/first_disease_sel/DIABETE/eGSE19790m.csv\n",
      "INFO:root:Loading file ../../dataset/first_disease_sel/DIABETE/eGSE179568m.csv\n",
      "INFO:root:Loading file ../../dataset/first_disease_sel/DIABETE/eGSE189849m.csv\n",
      "INFO:root:Loading file ../../dataset/first_disease_sel/DIABETE/eGSE25462m.csv\n",
      "INFO:root:Loading file ../../dataset/first_disease_sel/DIABETE/eGSE162622m.csv\n",
      "INFO:root:Loading file ../../dataset/first_disease_sel/DIABETE/eGSE27949m.csv\n",
      "INFO:root:Loading file ../../dataset/first_disease_sel/DIABETE/eGSE176230m.csv\n",
      "INFO:root:Load completed\n",
      "INFO:root:Load completed\n",
      "INFO:root:Load completed\n",
      "INFO:root:Load completed\n",
      "INFO:root:Load completed\n",
      "INFO:root:Load completed\n",
      "INFO:root:Load completed\n",
      "INFO:root:Load completed\n",
      "INFO:root:Load completed\n",
      "INFO:root:Load completed\n",
      "INFO:root:Load completed\n",
      "INFO:root:Load completed\n",
      "INFO:root:Load completed\n",
      "INFO:root:Load completed\n",
      "INFO:root:Load completed\n",
      "INFO:root:Load completed\n",
      "INFO:root:Load completed\n",
      "INFO:root:Load completed\n",
      "INFO:root:Datasets loading completed\n"
     ]
    }
   ],
   "source": [
    "# Load dataset\n",
    "datasets = load_datasets(DATASET_PATH)\n",
    "# compute intersection\n",
    "colname_intersection = compute_ds_col_intersection(datasets)\n",
    "# clean datasets\n",
    "datasets = clean_datasets(datasets, colname_intersection)"
   ]
  },
  {
   "cell_type": "markdown",
   "metadata": {
    "pycharm": {
     "name": "#%% md\n"
    }
   },
   "source": [
    "## Outlier detection"
   ]
  },
  {
   "cell_type": "code",
   "execution_count": 5,
   "metadata": {
    "pycharm": {
     "name": "#%%\n"
    }
   },
   "outputs": [
    {
     "name": "stderr",
     "output_type": "stream",
     "text": [
      "INFO:root:Computing outlier detection on dataset...\n",
      "INFO:root:Computing outlier detection on dataset...\n",
      "INFO:root:Computing outlier detection on dataset...\n",
      "INFO:root:Computing outlier detection on dataset...\n",
      "INFO:root:Computing outlier detection on dataset...\n",
      "INFO:root:Computing outlier detection on dataset...\n",
      "INFO:root:Computing outlier detection on dataset...\n",
      "INFO:root:Computing outlier detection on dataset...\n",
      "INFO:root:Computing outlier detection on dataset...\n",
      "INFO:root:Computing outlier detection on dataset...\n",
      "INFO:root:Computing outlier detection on dataset...\n",
      "INFO:root:Computing outlier detection on dataset...\n",
      "INFO:root:Computing outlier detection on dataset...\n",
      "INFO:root:Computing outlier detection on dataset...\n",
      "INFO:root:Computing outlier detection on dataset...\n",
      "INFO:root:Computing outlier detection on dataset...\n",
      "INFO:root:Computing outlier detection on dataset...\n",
      "INFO:root:Computing outlier detection on dataset...\n"
     ]
    }
   ],
   "source": [
    "compute_outlier(datasets)"
   ]
  },
  {
   "cell_type": "markdown",
   "metadata": {
    "pycharm": {
     "name": "#%% md\n"
    }
   },
   "source": [
    "## Scaling"
   ]
  },
  {
   "cell_type": "code",
   "execution_count": 6,
   "metadata": {
    "pycharm": {
     "name": "#%%\n"
    }
   },
   "outputs": [],
   "source": [
    "scale_minmax(datasets)"
   ]
  },
  {
   "cell_type": "markdown",
   "metadata": {
    "pycharm": {
     "name": "#%% md\n"
    }
   },
   "source": [
    "## Building unique DS"
   ]
  },
  {
   "cell_type": "code",
   "execution_count": 7,
   "metadata": {
    "pycharm": {
     "name": "#%%\n"
    }
   },
   "outputs": [
    {
     "data": {
      "text/html": [
       "<div>\n",
       "<style scoped>\n",
       "    .dataframe tbody tr th:only-of-type {\n",
       "        vertical-align: middle;\n",
       "    }\n",
       "\n",
       "    .dataframe tbody tr th {\n",
       "        vertical-align: top;\n",
       "    }\n",
       "\n",
       "    .dataframe thead th {\n",
       "        text-align: right;\n",
       "    }\n",
       "</style>\n",
       "<table border=\"1\" class=\"dataframe\">\n",
       "  <thead>\n",
       "    <tr style=\"text-align: right;\">\n",
       "      <th></th>\n",
       "      <th>TMEM14A</th>\n",
       "      <th>ERAP2</th>\n",
       "      <th>TMEM53</th>\n",
       "      <th>RSRC1</th>\n",
       "      <th>BANF1</th>\n",
       "      <th>PAQR4</th>\n",
       "      <th>THBS1</th>\n",
       "      <th>MAPK9</th>\n",
       "      <th>OSBPL10</th>\n",
       "      <th>CDK9</th>\n",
       "      <th>...</th>\n",
       "      <th>MFN2</th>\n",
       "      <th>RASAL2</th>\n",
       "      <th>ALG13</th>\n",
       "      <th>MFAP3</th>\n",
       "      <th>RBCK1</th>\n",
       "      <th>FHOD1</th>\n",
       "      <th>PCGF1</th>\n",
       "      <th>ZHX3</th>\n",
       "      <th>KSR1</th>\n",
       "      <th>TSPAN6</th>\n",
       "    </tr>\n",
       "  </thead>\n",
       "  <tbody>\n",
       "    <tr>\n",
       "      <th>0</th>\n",
       "      <td>0.170195</td>\n",
       "      <td>0.719820</td>\n",
       "      <td>0.521340</td>\n",
       "      <td>0.643039</td>\n",
       "      <td>0.594851</td>\n",
       "      <td>0.832401</td>\n",
       "      <td>0.677235</td>\n",
       "      <td>0.927600</td>\n",
       "      <td>0.544734</td>\n",
       "      <td>0.309740</td>\n",
       "      <td>...</td>\n",
       "      <td>0.326101</td>\n",
       "      <td>0.556184</td>\n",
       "      <td>0.791716</td>\n",
       "      <td>0.888985</td>\n",
       "      <td>0.322819</td>\n",
       "      <td>0.478968</td>\n",
       "      <td>0.353050</td>\n",
       "      <td>0.633290</td>\n",
       "      <td>0.516384</td>\n",
       "      <td>0.714893</td>\n",
       "    </tr>\n",
       "    <tr>\n",
       "      <th>1</th>\n",
       "      <td>0.107204</td>\n",
       "      <td>0.076444</td>\n",
       "      <td>0.946651</td>\n",
       "      <td>0.232906</td>\n",
       "      <td>0.539844</td>\n",
       "      <td>0.737146</td>\n",
       "      <td>0.232162</td>\n",
       "      <td>0.408003</td>\n",
       "      <td>0.581686</td>\n",
       "      <td>0.603609</td>\n",
       "      <td>...</td>\n",
       "      <td>0.400093</td>\n",
       "      <td>0.300319</td>\n",
       "      <td>0.010724</td>\n",
       "      <td>0.887698</td>\n",
       "      <td>0.226087</td>\n",
       "      <td>0.406313</td>\n",
       "      <td>0.372972</td>\n",
       "      <td>0.598699</td>\n",
       "      <td>0.742419</td>\n",
       "      <td>0.914755</td>\n",
       "    </tr>\n",
       "    <tr>\n",
       "      <th>2</th>\n",
       "      <td>0.473435</td>\n",
       "      <td>0.802864</td>\n",
       "      <td>0.335668</td>\n",
       "      <td>0.731384</td>\n",
       "      <td>0.887560</td>\n",
       "      <td>0.941287</td>\n",
       "      <td>0.711402</td>\n",
       "      <td>0.475313</td>\n",
       "      <td>0.536086</td>\n",
       "      <td>0.231111</td>\n",
       "      <td>...</td>\n",
       "      <td>0.348198</td>\n",
       "      <td>0.631467</td>\n",
       "      <td>0.294749</td>\n",
       "      <td>0.000000</td>\n",
       "      <td>0.705880</td>\n",
       "      <td>0.760150</td>\n",
       "      <td>0.418860</td>\n",
       "      <td>0.442495</td>\n",
       "      <td>0.807626</td>\n",
       "      <td>0.928301</td>\n",
       "    </tr>\n",
       "    <tr>\n",
       "      <th>3</th>\n",
       "      <td>0.505647</td>\n",
       "      <td>0.778817</td>\n",
       "      <td>0.622763</td>\n",
       "      <td>0.988021</td>\n",
       "      <td>0.812823</td>\n",
       "      <td>0.899243</td>\n",
       "      <td>0.724820</td>\n",
       "      <td>0.601473</td>\n",
       "      <td>0.519466</td>\n",
       "      <td>0.353652</td>\n",
       "      <td>...</td>\n",
       "      <td>0.345185</td>\n",
       "      <td>0.226030</td>\n",
       "      <td>0.411528</td>\n",
       "      <td>0.919886</td>\n",
       "      <td>0.318604</td>\n",
       "      <td>0.730142</td>\n",
       "      <td>0.074524</td>\n",
       "      <td>1.000000</td>\n",
       "      <td>0.865848</td>\n",
       "      <td>0.569769</td>\n",
       "    </tr>\n",
       "    <tr>\n",
       "      <th>4</th>\n",
       "      <td>0.106171</td>\n",
       "      <td>0.812487</td>\n",
       "      <td>0.845965</td>\n",
       "      <td>0.000000</td>\n",
       "      <td>0.718971</td>\n",
       "      <td>0.658183</td>\n",
       "      <td>0.969617</td>\n",
       "      <td>0.179391</td>\n",
       "      <td>0.494522</td>\n",
       "      <td>0.177919</td>\n",
       "      <td>...</td>\n",
       "      <td>0.624044</td>\n",
       "      <td>0.505492</td>\n",
       "      <td>0.374582</td>\n",
       "      <td>0.987537</td>\n",
       "      <td>0.636127</td>\n",
       "      <td>0.477869</td>\n",
       "      <td>0.477386</td>\n",
       "      <td>0.883860</td>\n",
       "      <td>0.995692</td>\n",
       "      <td>0.703407</td>\n",
       "    </tr>\n",
       "    <tr>\n",
       "      <th>...</th>\n",
       "      <td>...</td>\n",
       "      <td>...</td>\n",
       "      <td>...</td>\n",
       "      <td>...</td>\n",
       "      <td>...</td>\n",
       "      <td>...</td>\n",
       "      <td>...</td>\n",
       "      <td>...</td>\n",
       "      <td>...</td>\n",
       "      <td>...</td>\n",
       "      <td>...</td>\n",
       "      <td>...</td>\n",
       "      <td>...</td>\n",
       "      <td>...</td>\n",
       "      <td>...</td>\n",
       "      <td>...</td>\n",
       "      <td>...</td>\n",
       "      <td>...</td>\n",
       "      <td>...</td>\n",
       "      <td>...</td>\n",
       "      <td>...</td>\n",
       "    </tr>\n",
       "    <tr>\n",
       "      <th>394</th>\n",
       "      <td>0.594982</td>\n",
       "      <td>0.379078</td>\n",
       "      <td>0.162162</td>\n",
       "      <td>0.862568</td>\n",
       "      <td>0.004149</td>\n",
       "      <td>0.092593</td>\n",
       "      <td>0.283992</td>\n",
       "      <td>0.940594</td>\n",
       "      <td>0.318519</td>\n",
       "      <td>0.503571</td>\n",
       "      <td>...</td>\n",
       "      <td>0.307545</td>\n",
       "      <td>0.214286</td>\n",
       "      <td>1.000000</td>\n",
       "      <td>0.406321</td>\n",
       "      <td>0.178832</td>\n",
       "      <td>0.258586</td>\n",
       "      <td>0.677083</td>\n",
       "      <td>0.552632</td>\n",
       "      <td>0.558541</td>\n",
       "      <td>0.175000</td>\n",
       "    </tr>\n",
       "    <tr>\n",
       "      <th>395</th>\n",
       "      <td>1.000000</td>\n",
       "      <td>0.328009</td>\n",
       "      <td>0.270270</td>\n",
       "      <td>0.131103</td>\n",
       "      <td>0.941909</td>\n",
       "      <td>0.092593</td>\n",
       "      <td>0.154052</td>\n",
       "      <td>0.257426</td>\n",
       "      <td>0.162963</td>\n",
       "      <td>0.108929</td>\n",
       "      <td>...</td>\n",
       "      <td>0.095366</td>\n",
       "      <td>0.000000</td>\n",
       "      <td>0.395315</td>\n",
       "      <td>0.749436</td>\n",
       "      <td>0.218066</td>\n",
       "      <td>0.210101</td>\n",
       "      <td>0.000000</td>\n",
       "      <td>0.565789</td>\n",
       "      <td>0.184261</td>\n",
       "      <td>0.325000</td>\n",
       "    </tr>\n",
       "    <tr>\n",
       "      <th>396</th>\n",
       "      <td>0.534050</td>\n",
       "      <td>0.617998</td>\n",
       "      <td>0.567568</td>\n",
       "      <td>0.155515</td>\n",
       "      <td>1.000000</td>\n",
       "      <td>0.685185</td>\n",
       "      <td>0.009377</td>\n",
       "      <td>0.480198</td>\n",
       "      <td>0.240741</td>\n",
       "      <td>0.437500</td>\n",
       "      <td>...</td>\n",
       "      <td>0.207200</td>\n",
       "      <td>0.285714</td>\n",
       "      <td>0.200586</td>\n",
       "      <td>0.316027</td>\n",
       "      <td>0.382299</td>\n",
       "      <td>0.230303</td>\n",
       "      <td>0.885417</td>\n",
       "      <td>0.789474</td>\n",
       "      <td>0.310940</td>\n",
       "      <td>0.450000</td>\n",
       "    </tr>\n",
       "    <tr>\n",
       "      <th>397</th>\n",
       "      <td>0.354839</td>\n",
       "      <td>0.018223</td>\n",
       "      <td>0.378378</td>\n",
       "      <td>0.136528</td>\n",
       "      <td>0.721992</td>\n",
       "      <td>0.648148</td>\n",
       "      <td>0.004019</td>\n",
       "      <td>0.153465</td>\n",
       "      <td>0.218519</td>\n",
       "      <td>0.001786</td>\n",
       "      <td>...</td>\n",
       "      <td>0.087323</td>\n",
       "      <td>0.071429</td>\n",
       "      <td>0.226940</td>\n",
       "      <td>0.537246</td>\n",
       "      <td>0.165146</td>\n",
       "      <td>0.270707</td>\n",
       "      <td>0.635417</td>\n",
       "      <td>0.934211</td>\n",
       "      <td>0.253359</td>\n",
       "      <td>0.350000</td>\n",
       "    </tr>\n",
       "    <tr>\n",
       "      <th>398</th>\n",
       "      <td>0.000000</td>\n",
       "      <td>0.202025</td>\n",
       "      <td>1.000000</td>\n",
       "      <td>0.000000</td>\n",
       "      <td>0.502075</td>\n",
       "      <td>0.314815</td>\n",
       "      <td>0.649699</td>\n",
       "      <td>0.133663</td>\n",
       "      <td>0.081481</td>\n",
       "      <td>0.825000</td>\n",
       "      <td>...</td>\n",
       "      <td>0.243968</td>\n",
       "      <td>0.428571</td>\n",
       "      <td>0.191801</td>\n",
       "      <td>0.000000</td>\n",
       "      <td>1.000000</td>\n",
       "      <td>1.000000</td>\n",
       "      <td>0.645833</td>\n",
       "      <td>0.565789</td>\n",
       "      <td>1.000000</td>\n",
       "      <td>0.025000</td>\n",
       "    </tr>\n",
       "  </tbody>\n",
       "</table>\n",
       "<p>399 rows × 4602 columns</p>\n",
       "</div>"
      ],
      "text/plain": [
       "      TMEM14A     ERAP2    TMEM53     RSRC1     BANF1     PAQR4     THBS1  \\\n",
       "0    0.170195  0.719820  0.521340  0.643039  0.594851  0.832401  0.677235   \n",
       "1    0.107204  0.076444  0.946651  0.232906  0.539844  0.737146  0.232162   \n",
       "2    0.473435  0.802864  0.335668  0.731384  0.887560  0.941287  0.711402   \n",
       "3    0.505647  0.778817  0.622763  0.988021  0.812823  0.899243  0.724820   \n",
       "4    0.106171  0.812487  0.845965  0.000000  0.718971  0.658183  0.969617   \n",
       "..        ...       ...       ...       ...       ...       ...       ...   \n",
       "394  0.594982  0.379078  0.162162  0.862568  0.004149  0.092593  0.283992   \n",
       "395  1.000000  0.328009  0.270270  0.131103  0.941909  0.092593  0.154052   \n",
       "396  0.534050  0.617998  0.567568  0.155515  1.000000  0.685185  0.009377   \n",
       "397  0.354839  0.018223  0.378378  0.136528  0.721992  0.648148  0.004019   \n",
       "398  0.000000  0.202025  1.000000  0.000000  0.502075  0.314815  0.649699   \n",
       "\n",
       "        MAPK9   OSBPL10      CDK9  ...      MFN2    RASAL2     ALG13  \\\n",
       "0    0.927600  0.544734  0.309740  ...  0.326101  0.556184  0.791716   \n",
       "1    0.408003  0.581686  0.603609  ...  0.400093  0.300319  0.010724   \n",
       "2    0.475313  0.536086  0.231111  ...  0.348198  0.631467  0.294749   \n",
       "3    0.601473  0.519466  0.353652  ...  0.345185  0.226030  0.411528   \n",
       "4    0.179391  0.494522  0.177919  ...  0.624044  0.505492  0.374582   \n",
       "..        ...       ...       ...  ...       ...       ...       ...   \n",
       "394  0.940594  0.318519  0.503571  ...  0.307545  0.214286  1.000000   \n",
       "395  0.257426  0.162963  0.108929  ...  0.095366  0.000000  0.395315   \n",
       "396  0.480198  0.240741  0.437500  ...  0.207200  0.285714  0.200586   \n",
       "397  0.153465  0.218519  0.001786  ...  0.087323  0.071429  0.226940   \n",
       "398  0.133663  0.081481  0.825000  ...  0.243968  0.428571  0.191801   \n",
       "\n",
       "        MFAP3     RBCK1     FHOD1     PCGF1      ZHX3      KSR1    TSPAN6  \n",
       "0    0.888985  0.322819  0.478968  0.353050  0.633290  0.516384  0.714893  \n",
       "1    0.887698  0.226087  0.406313  0.372972  0.598699  0.742419  0.914755  \n",
       "2    0.000000  0.705880  0.760150  0.418860  0.442495  0.807626  0.928301  \n",
       "3    0.919886  0.318604  0.730142  0.074524  1.000000  0.865848  0.569769  \n",
       "4    0.987537  0.636127  0.477869  0.477386  0.883860  0.995692  0.703407  \n",
       "..        ...       ...       ...       ...       ...       ...       ...  \n",
       "394  0.406321  0.178832  0.258586  0.677083  0.552632  0.558541  0.175000  \n",
       "395  0.749436  0.218066  0.210101  0.000000  0.565789  0.184261  0.325000  \n",
       "396  0.316027  0.382299  0.230303  0.885417  0.789474  0.310940  0.450000  \n",
       "397  0.537246  0.165146  0.270707  0.635417  0.934211  0.253359  0.350000  \n",
       "398  0.000000  1.000000  1.000000  0.645833  0.565789  1.000000  0.025000  \n",
       "\n",
       "[399 rows x 4602 columns]"
      ]
     },
     "execution_count": 7,
     "metadata": {},
     "output_type": "execute_result"
    }
   ],
   "source": [
    "# finally build the unique dataset\n",
    "dataset = build_dataset(datasets)\n",
    "dataset"
   ]
  },
  {
   "cell_type": "markdown",
   "metadata": {
    "pycharm": {
     "name": "#%% md\n"
    }
   },
   "source": [
    "## Inspecting dataset we have built"
   ]
  },
  {
   "cell_type": "code",
   "execution_count": 8,
   "metadata": {
    "pycharm": {
     "name": "#%%\n"
    }
   },
   "outputs": [
    {
     "data": {
      "text/plain": [
       "0           GS\n",
       "1           GS\n",
       "2           GS\n",
       "3           GS\n",
       "4           GS\n",
       "        ...   \n",
       "394    DIABETE\n",
       "395    DIABETE\n",
       "396    DIABETE\n",
       "397    DIABETE\n",
       "398    DIABETE\n",
       "Name: DISEASE, Length: 399, dtype: object"
      ]
     },
     "execution_count": 8,
     "metadata": {},
     "output_type": "execute_result"
    }
   ],
   "source": [
    "dataset['DISEASE']"
   ]
  },
  {
   "cell_type": "code",
   "execution_count": 9,
   "metadata": {
    "pycharm": {
     "name": "#%%\n"
    }
   },
   "outputs": [
    {
     "name": "stdout",
     "output_type": "stream",
     "text": [
      "DIABETE    176\n",
      "A1A        128\n",
      "NALD        38\n",
      "GS          29\n",
      "MCM         28\n",
      "Name: DISEASE, dtype: int64\n"
     ]
    },
    {
     "data": {
      "text/plain": [
       "<AxesSubplot:>"
      ]
     },
     "execution_count": 9,
     "metadata": {},
     "output_type": "execute_result"
    },
    {
     "data": {
      "image/png": "[encoded data removed]",
      "text/plain": [
       "<Figure size 432x288 with 1 Axes>"
      ]
     },
     "metadata": {
      "needs_background": "light"
     },
     "output_type": "display_data"
    }
   ],
   "source": [
    "# plotting the number of sample for each disease\n",
    "disease = dataset['DISEASE'].value_counts()\n",
    "print(disease)\n",
    "disease.plot.bar()"
   ]
  },
  {
   "cell_type": "markdown",
   "metadata": {
    "pycharm": {
     "name": "#%% md\n"
    }
   },
   "source": [
    "# Splitting Dataset\n",
    "\n",
    "Split dataset into train and test set"
   ]
  },
  {
   "cell_type": "code",
   "execution_count": null,
   "outputs": [],
   "source": [
    "splitted_ds = split_train_test(train=.75, test=.25, dataset=dataset)"
   ],
   "metadata": {
    "collapsed": false,
    "pycharm": {
     "name": "#%%\n"
    }
   }
  }
 ],
 "metadata": {
  "kernelspec": {
   "display_name": "Python 3 (ipykernel)",
   "language": "python",
   "name": "python3"
  },
  "language_info": {
   "codemirror_mode": {
    "name": "ipython",
    "version": 3
   },
   "file_extension": ".py",
   "mimetype": "text/x-python",
   "name": "python",
   "nbconvert_exporter": "python",
   "pygments_lexer": "ipython3",
   "version": "3.9.7"
  }
 },
 "nbformat": 4,
 "nbformat_minor": 1
}