{
 "cells": [
  {
   "cell_type": "markdown",
   "metadata": {
    "pycharm": {
     "name": "#%% md\n"
    }
   },
   "source": [
    "# Testing dataset loading\n",
    "\n",
    "This notebook contains code that run the pipeline we have created to analyze a set of datasets."
   ]
  },
  {
   "cell_type": "code",
   "execution_count": 24,
   "metadata": {
    "pycharm": {
     "name": "#%%\n"
    }
   },
   "outputs": [],
   "source": [
    "# adding the project root inside the python path\n",
    "import sys\n",
    "import os\n",
    "\n",
    "sys.path.insert(0, os.path.abspath('..'))"
   ]
  },
  {
   "cell_type": "code",
   "execution_count": 25,
   "metadata": {
    "pycharm": {
     "name": "#%%\n"
    }
   },
   "outputs": [],
   "source": [
    "# The path where the dataset are stored\n",
    "DATASET_PATH: str = \"../../dataset/first_disease_sel/\"\n",
    "DISEASE_COLNAME: str = 'DISEASE'"
   ]
  },
  {
   "cell_type": "code",
   "execution_count": 26,
   "metadata": {
    "pycharm": {
     "name": "#%%\n"
    }
   },
   "outputs": [],
   "source": [
    "from analysis.dataset import load_datasets, compute_ds_col_intersection, clean_datasets, build_dataset, scale_minmax"
   ]
  },
  {
   "cell_type": "markdown",
   "metadata": {
    "pycharm": {
     "name": "#%% md\n"
    }
   },
   "source": [
    "### Load datasets"
   ]
  },
  {
   "cell_type": "code",
   "execution_count": 27,
   "metadata": {
    "pycharm": {
     "name": "#%%\n"
    }
   },
   "outputs": [
    {
     "name": "stderr",
     "output_type": "stream",
     "text": [
      "INFO:root:Inspecting directory ../../dataset/first_disease_sel/GS\n",
      "INFO:root:Setting disease as GS\n",
      "INFO:root:Inspecting directory ../../dataset/first_disease_sel/NALD\n",
      "INFO:root:Setting disease as NALD\n",
      "INFO:root:Inspecting directory ../../dataset/first_disease_sel/A1A\n",
      "INFO:root:Setting disease as A1A\n",
      "INFO:root:Inspecting directory ../../dataset/first_disease_sel/MCM\n",
      "INFO:root:Setting disease as MCM\n",
      "INFO:root:Inspecting directory ../../dataset/first_disease_sel/DIABETE\n",
      "INFO:root:Setting disease as DIABETE\n"
     ]
    }
   ],
   "source": [
    "# Load dataset\n",
    "datasets = load_datasets(DATASET_PATH)\n",
    "# compute intersection\n",
    "colname_intersection = compute_ds_col_intersection(datasets)\n",
    "# clean datasets\n",
    "datasets = clean_datasets(datasets, colname_intersection)"
   ]
  },
  {
   "cell_type": "markdown",
   "metadata": {
    "pycharm": {
     "name": "#%% md\n"
    }
   },
   "source": [
    "## Scaling"
   ]
  },
  {
   "cell_type": "code",
   "execution_count": 23,
   "metadata": {
    "pycharm": {
     "name": "#%%\n"
    }
   },
   "outputs": [],
   "source": [
    "scale_minmax(datasets)"
   ]
  },
  {
   "cell_type": "markdown",
   "metadata": {
    "pycharm": {
     "name": "#%% md\n"
    }
   },
   "source": [
    "## Building unique DS"
   ]
  },
  {
   "cell_type": "code",
   "execution_count": 28,
   "metadata": {
    "pycharm": {
     "name": "#%%\n"
    }
   },
   "outputs": [
    {
     "data": {
      "text/html": [
       "<div>\n",
       "<style scoped>\n",
       "    .dataframe tbody tr th:only-of-type {\n",
       "        vertical-align: middle;\n",
       "    }\n",
       "\n",
       "    .dataframe tbody tr th {\n",
       "        vertical-align: top;\n",
       "    }\n",
       "\n",
       "    .dataframe thead th {\n",
       "        text-align: right;\n",
       "    }\n",
       "</style>\n",
       "<table border=\"1\" class=\"dataframe\">\n",
       "  <thead>\n",
       "    <tr style=\"text-align: right;\">\n",
       "      <th></th>\n",
       "      <th>MAML3</th>\n",
       "      <th>ANKMY1</th>\n",
       "      <th>TBL2</th>\n",
       "      <th>ZNF354A</th>\n",
       "      <th>MN1</th>\n",
       "      <th>KANSL2</th>\n",
       "      <th>AUP1</th>\n",
       "      <th>SGPP1</th>\n",
       "      <th>RPIA</th>\n",
       "      <th>IPP</th>\n",
       "      <th>...</th>\n",
       "      <th>SAMD4B</th>\n",
       "      <th>ZNF91</th>\n",
       "      <th>DCXR</th>\n",
       "      <th>TPP2</th>\n",
       "      <th>PTGER4</th>\n",
       "      <th>TPST2</th>\n",
       "      <th>CAMTA2</th>\n",
       "      <th>PRR14</th>\n",
       "      <th>KDELR1</th>\n",
       "      <th>BCL9</th>\n",
       "    </tr>\n",
       "  </thead>\n",
       "  <tbody>\n",
       "    <tr>\n",
       "      <th>0</th>\n",
       "      <td>3.612524</td>\n",
       "      <td>0.385455</td>\n",
       "      <td>2.992113</td>\n",
       "      <td>1.972166</td>\n",
       "      <td>1.784005</td>\n",
       "      <td>4.647123</td>\n",
       "      <td>6.276963</td>\n",
       "      <td>1.569880</td>\n",
       "      <td>3.334396</td>\n",
       "      <td>2.540734</td>\n",
       "      <td>...</td>\n",
       "      <td>3.192810</td>\n",
       "      <td>3.560036</td>\n",
       "      <td>3.866660</td>\n",
       "      <td>5.314041</td>\n",
       "      <td>3.956139</td>\n",
       "      <td>3.555380</td>\n",
       "      <td>1.449586</td>\n",
       "      <td>1.569880</td>\n",
       "      <td>4.353127</td>\n",
       "      <td>1.684114</td>\n",
       "    </tr>\n",
       "    <tr>\n",
       "      <th>1</th>\n",
       "      <td>3.592755</td>\n",
       "      <td>0.291585</td>\n",
       "      <td>2.767411</td>\n",
       "      <td>2.891583</td>\n",
       "      <td>1.732158</td>\n",
       "      <td>4.664139</td>\n",
       "      <td>6.026875</td>\n",
       "      <td>2.007792</td>\n",
       "      <td>3.713049</td>\n",
       "      <td>2.613513</td>\n",
       "      <td>...</td>\n",
       "      <td>2.342211</td>\n",
       "      <td>3.603587</td>\n",
       "      <td>3.506598</td>\n",
       "      <td>4.623782</td>\n",
       "      <td>3.959964</td>\n",
       "      <td>3.038819</td>\n",
       "      <td>2.007792</td>\n",
       "      <td>0.943662</td>\n",
       "      <td>4.472915</td>\n",
       "      <td>1.391121</td>\n",
       "    </tr>\n",
       "    <tr>\n",
       "      <th>2</th>\n",
       "      <td>3.594671</td>\n",
       "      <td>1.324629</td>\n",
       "      <td>3.008692</td>\n",
       "      <td>2.969113</td>\n",
       "      <td>1.145363</td>\n",
       "      <td>4.521739</td>\n",
       "      <td>6.087842</td>\n",
       "      <td>-0.970114</td>\n",
       "      <td>3.422203</td>\n",
       "      <td>2.574207</td>\n",
       "      <td>...</td>\n",
       "      <td>2.399120</td>\n",
       "      <td>3.327567</td>\n",
       "      <td>4.683328</td>\n",
       "      <td>5.110259</td>\n",
       "      <td>4.008082</td>\n",
       "      <td>3.784774</td>\n",
       "      <td>1.968486</td>\n",
       "      <td>-0.970114</td>\n",
       "      <td>4.521739</td>\n",
       "      <td>2.399120</td>\n",
       "    </tr>\n",
       "    <tr>\n",
       "      <th>3</th>\n",
       "      <td>3.675737</td>\n",
       "      <td>1.001137</td>\n",
       "      <td>3.323066</td>\n",
       "      <td>2.014394</td>\n",
       "      <td>2.510151</td>\n",
       "      <td>4.649426</td>\n",
       "      <td>6.026030</td>\n",
       "      <td>0.108053</td>\n",
       "      <td>2.510151</td>\n",
       "      <td>1.944554</td>\n",
       "      <td>...</td>\n",
       "      <td>2.726962</td>\n",
       "      <td>3.647655</td>\n",
       "      <td>4.311925</td>\n",
       "      <td>5.201565</td>\n",
       "      <td>4.631973</td>\n",
       "      <td>4.171062</td>\n",
       "      <td>1.824260</td>\n",
       "      <td>1.207588</td>\n",
       "      <td>4.558086</td>\n",
       "      <td>0.760129</td>\n",
       "    </tr>\n",
       "    <tr>\n",
       "      <th>4</th>\n",
       "      <td>3.783972</td>\n",
       "      <td>1.502079</td>\n",
       "      <td>2.830069</td>\n",
       "      <td>2.340765</td>\n",
       "      <td>2.926577</td>\n",
       "      <td>4.672004</td>\n",
       "      <td>6.105776</td>\n",
       "      <td>1.502079</td>\n",
       "      <td>2.982072</td>\n",
       "      <td>2.982072</td>\n",
       "      <td>...</td>\n",
       "      <td>3.087041</td>\n",
       "      <td>3.620823</td>\n",
       "      <td>3.822488</td>\n",
       "      <td>5.650242</td>\n",
       "      <td>4.148969</td>\n",
       "      <td>3.136794</td>\n",
       "      <td>2.383434</td>\n",
       "      <td>0.424076</td>\n",
       "      <td>5.516152</td>\n",
       "      <td>1.898008</td>\n",
       "    </tr>\n",
       "    <tr>\n",
       "      <th>...</th>\n",
       "      <td>...</td>\n",
       "      <td>...</td>\n",
       "      <td>...</td>\n",
       "      <td>...</td>\n",
       "      <td>...</td>\n",
       "      <td>...</td>\n",
       "      <td>...</td>\n",
       "      <td>...</td>\n",
       "      <td>...</td>\n",
       "      <td>...</td>\n",
       "      <td>...</td>\n",
       "      <td>...</td>\n",
       "      <td>...</td>\n",
       "      <td>...</td>\n",
       "      <td>...</td>\n",
       "      <td>...</td>\n",
       "      <td>...</td>\n",
       "      <td>...</td>\n",
       "      <td>...</td>\n",
       "      <td>...</td>\n",
       "      <td>...</td>\n",
       "    </tr>\n",
       "    <tr>\n",
       "      <th>2</th>\n",
       "      <td>264.719268</td>\n",
       "      <td>247.695521</td>\n",
       "      <td>1590.869171</td>\n",
       "      <td>297.915575</td>\n",
       "      <td>93.630609</td>\n",
       "      <td>749.896062</td>\n",
       "      <td>2988.518811</td>\n",
       "      <td>119.166230</td>\n",
       "      <td>501.349353</td>\n",
       "      <td>291.106076</td>\n",
       "      <td>...</td>\n",
       "      <td>992.484459</td>\n",
       "      <td>659.670202</td>\n",
       "      <td>530.289724</td>\n",
       "      <td>1918.576303</td>\n",
       "      <td>1401.054390</td>\n",
       "      <td>2553.562072</td>\n",
       "      <td>535.396848</td>\n",
       "      <td>235.778898</td>\n",
       "      <td>2049.659156</td>\n",
       "      <td>249.397896</td>\n",
       "    </tr>\n",
       "    <tr>\n",
       "      <th>3</th>\n",
       "      <td>241.189881</td>\n",
       "      <td>300.638091</td>\n",
       "      <td>989.388069</td>\n",
       "      <td>371.975943</td>\n",
       "      <td>105.308258</td>\n",
       "      <td>553.717614</td>\n",
       "      <td>2011.048023</td>\n",
       "      <td>52.654129</td>\n",
       "      <td>401.700048</td>\n",
       "      <td>311.678473</td>\n",
       "      <td>...</td>\n",
       "      <td>1046.288498</td>\n",
       "      <td>690.448498</td>\n",
       "      <td>383.016325</td>\n",
       "      <td>1808.924108</td>\n",
       "      <td>1177.074561</td>\n",
       "      <td>1638.222819</td>\n",
       "      <td>532.486111</td>\n",
       "      <td>338.854798</td>\n",
       "      <td>1791.089645</td>\n",
       "      <td>490.023103</td>\n",
       "    </tr>\n",
       "    <tr>\n",
       "      <th>4</th>\n",
       "      <td>344.223423</td>\n",
       "      <td>280.478345</td>\n",
       "      <td>910.138063</td>\n",
       "      <td>405.843666</td>\n",
       "      <td>125.365321</td>\n",
       "      <td>553.165624</td>\n",
       "      <td>1973.264315</td>\n",
       "      <td>41.080162</td>\n",
       "      <td>304.559819</td>\n",
       "      <td>212.483595</td>\n",
       "      <td>...</td>\n",
       "      <td>1553.963355</td>\n",
       "      <td>703.320698</td>\n",
       "      <td>371.138012</td>\n",
       "      <td>1619.124990</td>\n",
       "      <td>932.802980</td>\n",
       "      <td>1340.771482</td>\n",
       "      <td>562.373247</td>\n",
       "      <td>289.685967</td>\n",
       "      <td>2044.092180</td>\n",
       "      <td>423.550632</td>\n",
       "    </tr>\n",
       "    <tr>\n",
       "      <th>5</th>\n",
       "      <td>172.769046</td>\n",
       "      <td>376.569425</td>\n",
       "      <td>1277.316778</td>\n",
       "      <td>334.635190</td>\n",
       "      <td>282.636740</td>\n",
       "      <td>714.559353</td>\n",
       "      <td>2087.486186</td>\n",
       "      <td>61.223982</td>\n",
       "      <td>348.054145</td>\n",
       "      <td>622.304038</td>\n",
       "      <td>...</td>\n",
       "      <td>1143.127229</td>\n",
       "      <td>868.877336</td>\n",
       "      <td>520.823191</td>\n",
       "      <td>1707.562023</td>\n",
       "      <td>1053.387967</td>\n",
       "      <td>1407.312905</td>\n",
       "      <td>589.595335</td>\n",
       "      <td>326.248343</td>\n",
       "      <td>2053.938799</td>\n",
       "      <td>291.862271</td>\n",
       "    </tr>\n",
       "    <tr>\n",
       "      <th>6</th>\n",
       "      <td>330.914154</td>\n",
       "      <td>170.184422</td>\n",
       "      <td>478.137186</td>\n",
       "      <td>318.758124</td>\n",
       "      <td>151.275042</td>\n",
       "      <td>382.239615</td>\n",
       "      <td>1268.279146</td>\n",
       "      <td>8.104020</td>\n",
       "      <td>347.122194</td>\n",
       "      <td>228.263233</td>\n",
       "      <td>...</td>\n",
       "      <td>1094.042714</td>\n",
       "      <td>840.116751</td>\n",
       "      <td>1882.834004</td>\n",
       "      <td>359.278225</td>\n",
       "      <td>193.145812</td>\n",
       "      <td>946.819682</td>\n",
       "      <td>525.410637</td>\n",
       "      <td>424.110385</td>\n",
       "      <td>2028.706366</td>\n",
       "      <td>280.939364</td>\n",
       "    </tr>\n",
       "  </tbody>\n",
       "</table>\n",
       "<p>399 rows × 4602 columns</p>\n",
       "</div>"
      ],
      "text/plain": [
       "         MAML3      ANKMY1         TBL2     ZNF354A         MN1      KANSL2  \\\n",
       "0     3.612524    0.385455     2.992113    1.972166    1.784005    4.647123   \n",
       "1     3.592755    0.291585     2.767411    2.891583    1.732158    4.664139   \n",
       "2     3.594671    1.324629     3.008692    2.969113    1.145363    4.521739   \n",
       "3     3.675737    1.001137     3.323066    2.014394    2.510151    4.649426   \n",
       "4     3.783972    1.502079     2.830069    2.340765    2.926577    4.672004   \n",
       "..         ...         ...          ...         ...         ...         ...   \n",
       "2   264.719268  247.695521  1590.869171  297.915575   93.630609  749.896062   \n",
       "3   241.189881  300.638091   989.388069  371.975943  105.308258  553.717614   \n",
       "4   344.223423  280.478345   910.138063  405.843666  125.365321  553.165624   \n",
       "5   172.769046  376.569425  1277.316778  334.635190  282.636740  714.559353   \n",
       "6   330.914154  170.184422   478.137186  318.758124  151.275042  382.239615   \n",
       "\n",
       "           AUP1       SGPP1        RPIA         IPP  ...       SAMD4B  \\\n",
       "0      6.276963    1.569880    3.334396    2.540734  ...     3.192810   \n",
       "1      6.026875    2.007792    3.713049    2.613513  ...     2.342211   \n",
       "2      6.087842   -0.970114    3.422203    2.574207  ...     2.399120   \n",
       "3      6.026030    0.108053    2.510151    1.944554  ...     2.726962   \n",
       "4      6.105776    1.502079    2.982072    2.982072  ...     3.087041   \n",
       "..          ...         ...         ...         ...  ...          ...   \n",
       "2   2988.518811  119.166230  501.349353  291.106076  ...   992.484459   \n",
       "3   2011.048023   52.654129  401.700048  311.678473  ...  1046.288498   \n",
       "4   1973.264315   41.080162  304.559819  212.483595  ...  1553.963355   \n",
       "5   2087.486186   61.223982  348.054145  622.304038  ...  1143.127229   \n",
       "6   1268.279146    8.104020  347.122194  228.263233  ...  1094.042714   \n",
       "\n",
       "         ZNF91         DCXR         TPP2       PTGER4        TPST2  \\\n",
       "0     3.560036     3.866660     5.314041     3.956139     3.555380   \n",
       "1     3.603587     3.506598     4.623782     3.959964     3.038819   \n",
       "2     3.327567     4.683328     5.110259     4.008082     3.784774   \n",
       "3     3.647655     4.311925     5.201565     4.631973     4.171062   \n",
       "4     3.620823     3.822488     5.650242     4.148969     3.136794   \n",
       "..         ...          ...          ...          ...          ...   \n",
       "2   659.670202   530.289724  1918.576303  1401.054390  2553.562072   \n",
       "3   690.448498   383.016325  1808.924108  1177.074561  1638.222819   \n",
       "4   703.320698   371.138012  1619.124990   932.802980  1340.771482   \n",
       "5   868.877336   520.823191  1707.562023  1053.387967  1407.312905   \n",
       "6   840.116751  1882.834004   359.278225   193.145812   946.819682   \n",
       "\n",
       "        CAMTA2       PRR14       KDELR1        BCL9  \n",
       "0     1.449586    1.569880     4.353127    1.684114  \n",
       "1     2.007792    0.943662     4.472915    1.391121  \n",
       "2     1.968486   -0.970114     4.521739    2.399120  \n",
       "3     1.824260    1.207588     4.558086    0.760129  \n",
       "4     2.383434    0.424076     5.516152    1.898008  \n",
       "..         ...         ...          ...         ...  \n",
       "2   535.396848  235.778898  2049.659156  249.397896  \n",
       "3   532.486111  338.854798  1791.089645  490.023103  \n",
       "4   562.373247  289.685967  2044.092180  423.550632  \n",
       "5   589.595335  326.248343  2053.938799  291.862271  \n",
       "6   525.410637  424.110385  2028.706366  280.939364  \n",
       "\n",
       "[399 rows x 4602 columns]"
      ]
     },
     "execution_count": 28,
     "metadata": {},
     "output_type": "execute_result"
    }
   ],
   "source": [
    "# finally build the unique dataset\n",
    "dataset = build_dataset(datasets)"
   ]
  },
  {
   "cell_type": "code",
   "execution_count": 31,
   "metadata": {},
   "outputs": [
    {
     "data": {
      "text/plain": [
       "2507.4"
      ]
     },
     "execution_count": 31,
     "metadata": {},
     "output_type": "execute_result"
    }
   ],
   "source": [
    "dataset[\"MAML3\"].max()"
   ]
  },
  {
   "cell_type": "markdown",
   "metadata": {
    "pycharm": {
     "name": "#%% md\n"
    }
   },
   "source": [
    "## Inspecting dataset we have built"
   ]
  },
  {
   "cell_type": "code",
   "execution_count": 9,
   "metadata": {
    "pycharm": {
     "name": "#%%\n"
    }
   },
   "outputs": [
    {
     "data": {
      "text/plain": [
       "0          GS\n",
       "1          GS\n",
       "2          GS\n",
       "3          GS\n",
       "4          GS\n",
       "       ...   \n",
       "12    DIABETE\n",
       "13    DIABETE\n",
       "14    DIABETE\n",
       "15    DIABETE\n",
       "16    DIABETE\n",
       "Name: DISEASE, Length: 399, dtype: object"
      ]
     },
     "execution_count": 9,
     "metadata": {},
     "output_type": "execute_result"
    }
   ],
   "source": [
    "dataset['DISEASE']"
   ]
  },
  {
   "cell_type": "code",
   "execution_count": 10,
   "metadata": {
    "pycharm": {
     "name": "#%%\n"
    }
   },
   "outputs": [
    {
     "name": "stdout",
     "output_type": "stream",
     "text": [
      "DIABETE    176\n",
      "A1A        128\n",
      "NALD        38\n",
      "GS          29\n",
      "MCM         28\n",
      "Name: DISEASE, dtype: int64\n"
     ]
    },
    {
     "data": {
      "text/plain": [
       "<AxesSubplot:>"
      ]
     },
     "execution_count": 10,
     "metadata": {},
     "output_type": "execute_result"
    },
    {
     "data": {
      "image/png": "[encoded data removed]",
      "text/plain": [
       "<Figure size 432x288 with 1 Axes>"
      ]
     },
     "metadata": {
      "needs_background": "light"
     },
     "output_type": "display_data"
    }
   ],
   "source": [
    "# plotting the number of sample for each disease\n",
    "disease = dataset['DISEASE'].value_counts()\n",
    "print(disease)\n",
    "disease.plot.bar()"
   ]
  },
  {
   "cell_type": "code",
   "execution_count": null,
   "metadata": {
    "pycharm": {
     "name": "#%%\n"
    }
   },
   "outputs": [],
   "source": [
    "import matplotlib.pyplot as plt\n",
    "from bioinfokit import analys, visuz\n",
    "import numpy as np"
   ]
  },
  {
   "cell_type": "code",
   "execution_count": null,
   "metadata": {
    "pycharm": {
     "name": "#%%\n"
    }
   },
   "outputs": [],
   "source": [
    "visuz.gene_exp.hmap(df=dataset.astype(float), rowclus=False, colclus=False, dim=(10, 10), tickfont=(2, 4), show=True)"
   ]
  }
 ],
 "metadata": {
  "kernelspec": {
   "display_name": "Python 3 (ipykernel)",
   "language": "python",
   "name": "python3"
  },
  "language_info": {
   "codemirror_mode": {
    "name": "ipython",
    "version": 3
   },
   "file_extension": ".py",
   "mimetype": "text/x-python",
   "name": "python",
   "nbconvert_exporter": "python",
   "pygments_lexer": "ipython3",
   "version": "3.8.2"
  }
 },
 "nbformat": 4,
 "nbformat_minor": 1
}
